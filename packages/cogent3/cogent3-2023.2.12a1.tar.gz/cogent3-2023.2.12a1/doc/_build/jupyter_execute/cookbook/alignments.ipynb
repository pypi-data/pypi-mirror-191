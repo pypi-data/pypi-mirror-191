{
 "cells": [
  {
   "cell_type": "code",
   "execution_count": 1,
   "id": "8c890570",
   "metadata": {
    "execution": {
     "iopub.execute_input": "2023-01-15T01:16:02.832432Z",
     "iopub.status.busy": "2023-01-15T01:16:02.831784Z",
     "iopub.status.idle": "2023-01-15T01:16:05.020729Z",
     "shell.execute_reply": "2023-01-15T01:16:05.021268Z"
    }
   },
   "outputs": [],
   "source": [
    "import set_working_directory"
   ]
  },
  {
   "cell_type": "code",
   "execution_count": 2,
   "id": "1532f0d3",
   "metadata": {
    "execution": {
     "iopub.execute_input": "2023-01-15T01:16:05.025925Z",
     "iopub.status.busy": "2023-01-15T01:16:05.025266Z",
     "iopub.status.idle": "2023-01-15T01:16:06.492342Z",
     "shell.execute_reply": "2023-01-15T01:16:06.492784Z"
    }
   },
   "outputs": [
    {
     "name": "stdout",
     "output_type": "stream",
     "text": [
      "<class 'cogent3.core.alignment.ArrayAlignment'>\n",
      "<class 'cogent3.core.alignment.SequenceCollection'>\n"
     ]
    }
   ],
   "source": [
    "from cogent3 import make_aligned_seqs, make_unaligned_seqs\n",
    "\n",
    "dna = {\"seq1\": \"ATGACC\", \"seq2\": \"ATCGCC\"}\n",
    "seqs = make_aligned_seqs(data=dna, moltype=\"dna\")\n",
    "print(type(seqs))\n",
    "seqs = make_unaligned_seqs(dna, moltype=\"dna\")\n",
    "print(type(seqs))"
   ]
  },
  {
   "cell_type": "code",
   "execution_count": 3,
   "id": "86d97ed7",
   "metadata": {
    "execution": {
     "iopub.execute_input": "2023-01-15T01:16:06.496642Z",
     "iopub.status.busy": "2023-01-15T01:16:06.496019Z",
     "iopub.status.idle": "2023-01-15T01:16:06.498282Z",
     "shell.execute_reply": "2023-01-15T01:16:06.498653Z"
    }
   },
   "outputs": [
    {
     "name": "stdout",
     "output_type": "stream",
     "text": [
      "<class 'cogent3.core.alignment.ArrayAlignment'>\n",
      ">seq1\n",
      "ATGACC\n",
      ">seq2\n",
      "ATCGCC\n",
      "\n"
     ]
    }
   ],
   "source": [
    "from cogent3 import make_aligned_seqs\n",
    "\n",
    "dna = {\"seq1\": \"ATGACC\", \"seq2\": \"ATCGCC\"}\n",
    "seqs = make_aligned_seqs(data=dna, moltype=\"dna\", array_align=True)\n",
    "print(type(seqs))\n",
    "print(seqs)"
   ]
  },
  {
   "cell_type": "code",
   "execution_count": 4,
   "id": "e0865e7b",
   "metadata": {
    "execution": {
     "iopub.execute_input": "2023-01-15T01:16:06.501656Z",
     "iopub.status.busy": "2023-01-15T01:16:06.501102Z",
     "iopub.status.idle": "2023-01-15T01:16:06.506148Z",
     "shell.execute_reply": "2023-01-15T01:16:06.506828Z"
    }
   },
   "outputs": [
    {
     "name": "stdout",
     "output_type": "stream",
     "text": [
      ">NineBande\n",
      "GCAAGGCGCCAACAGAGCAGATGGGCTGAAAGTAAGGAAACATGTAATGATAGGCAGACT\n",
      ">Mouse\n",
      "GCAGTGAGCCAGCAGAGCAGATGGGCTGCAAGTAAAGGAACATGTAACGACAGGCAGGTT\n",
      ">Human\n",
      "GCAAGGAGCCAACATAACAGATGGGCTGGAAGTAAGGAAACATGTAATGATAGGCGGACT\n",
      ">HowlerMon\n",
      "GCAAGGAGCCAACATAACAGATGGGCTGAAAGTGAGGAAACATGTAATGATAGGCAGACT\n",
      ">DogFaced\n",
      "GCAAGGAGCCAGCAGAACAGATGGGTTGAAACTAAGGAAACATGTAATGATAGGCAGACT\n",
      "\n"
     ]
    }
   ],
   "source": [
    "from cogent3 import load_unaligned_seqs\n",
    "\n",
    "seqs = load_unaligned_seqs(\"data/test.paml\")\n",
    "print(seqs)"
   ]
  },
  {
   "cell_type": "code",
   "execution_count": 5,
   "id": "72977b39",
   "metadata": {
    "execution": {
     "iopub.execute_input": "2023-01-15T01:16:06.511338Z",
     "iopub.status.busy": "2023-01-15T01:16:06.510634Z",
     "iopub.status.idle": "2023-01-15T01:16:06.513121Z",
     "shell.execute_reply": "2023-01-15T01:16:06.513712Z"
    }
   },
   "outputs": [
    {
     "name": "stdout",
     "output_type": "stream",
     "text": [
      ">seq1\n",
      "ATGAA------\n",
      ">seq2\n",
      "ATG-AGTGATG\n",
      ">seq3\n",
      "AT--AG-GATG\n",
      "\n",
      ">seq1\n",
      "ATGAA------\n",
      ">seq2\n",
      "ATG-AGTGATG\n",
      ">seq3\n",
      "AT--AG-GATG\n",
      ">seq0\n",
      "ATG-AGT-AGG\n",
      ">seq4\n",
      "ATGCC------\n",
      "\n"
     ]
    }
   ],
   "source": [
    "from cogent3 import make_aligned_seqs\n",
    "\n",
    "aln = make_aligned_seqs(\n",
    "    [(\"seq1\", \"ATGAA------\"), (\"seq2\", \"ATG-AGTGATG\"), (\"seq3\", \"AT--AG-GATG\")],\n",
    "    moltype=\"dna\",\n",
    ")\n",
    "print(aln)\n",
    "new_seqs = make_aligned_seqs(\n",
    "    [(\"seq0\", \"ATG-AGT-AGG\"), (\"seq4\", \"ATGCC------\")], moltype=\"dna\"\n",
    ")\n",
    "new_aln = aln.add_seqs(new_seqs)\n",
    "print(new_aln)"
   ]
  },
  {
   "cell_type": "code",
   "execution_count": 6,
   "id": "a50c0733",
   "metadata": {
    "execution": {
     "iopub.execute_input": "2023-01-15T01:16:06.518303Z",
     "iopub.status.busy": "2023-01-15T01:16:06.517253Z",
     "iopub.status.idle": "2023-01-15T01:16:06.520445Z",
     "shell.execute_reply": "2023-01-15T01:16:06.520852Z"
    }
   },
   "outputs": [
    {
     "name": "stdout",
     "output_type": "stream",
     "text": [
      ">seq1\n",
      "ATGAA------\n",
      ">seq0\n",
      "ATG-AGT-AGG\n",
      ">seq4\n",
      "ATGCC------\n",
      ">seq2\n",
      "ATG-AGTGATG\n",
      ">seq3\n",
      "AT--AG-GATG\n",
      "\n",
      ">seq1\n",
      "ATGAA------\n",
      ">seq2\n",
      "ATG-AGTGATG\n",
      ">seq0\n",
      "ATG-AGT-AGG\n",
      ">seq4\n",
      "ATGCC------\n",
      ">seq3\n",
      "AT--AG-GATG\n",
      "\n"
     ]
    }
   ],
   "source": [
    "new_aln = aln.add_seqs(new_seqs, before_name=\"seq2\")\n",
    "print(new_aln)\n",
    "new_aln = aln.add_seqs(new_seqs, after_name=\"seq2\")\n",
    "print(new_aln)"
   ]
  },
  {
   "cell_type": "code",
   "execution_count": 7,
   "id": "d6c8113b",
   "metadata": {
    "execution": {
     "iopub.execute_input": "2023-01-15T01:16:06.526573Z",
     "iopub.status.busy": "2023-01-15T01:16:06.525996Z",
     "iopub.status.idle": "2023-01-15T01:16:06.527912Z",
     "shell.execute_reply": "2023-01-15T01:16:06.528284Z"
    }
   },
   "outputs": [
    {
     "name": "stdout",
     "output_type": "stream",
     "text": [
      ">seq1\n",
      "ATGAA------\n",
      ">seq2\n",
      "ATG-AGTGATG\n",
      ">seq3\n",
      "AT--AG-GATG\n",
      ">seq0\n",
      "AT--G--AGCG\n",
      ">seq4\n",
      "AT--GC-TGGG\n",
      "\n"
     ]
    }
   ],
   "source": [
    "from cogent3 import make_aligned_seqs\n",
    "\n",
    "aln = make_aligned_seqs(\n",
    "    [(\"seq1\", \"ATGAA------\"), (\"seq2\", \"ATG-AGTGATG\"), (\"seq3\", \"AT--AG-GATG\")],\n",
    "    moltype=\"dna\",\n",
    ")\n",
    "ref_aln = make_aligned_seqs(\n",
    "    [(\"seq3\", \"ATAGGATG\"), (\"seq0\", \"ATG-AGCG\"), (\"seq4\", \"ATGCTGGG\")],\n",
    "    moltype=\"dna\",\n",
    ")\n",
    "new_aln = aln.add_from_ref_aln(ref_aln)\n",
    "print(new_aln)"
   ]
  },
  {
   "cell_type": "code",
   "execution_count": 8,
   "id": "b04c8404",
   "metadata": {
    "execution": {
     "iopub.execute_input": "2023-01-15T01:16:06.532013Z",
     "iopub.status.busy": "2023-01-15T01:16:06.531378Z",
     "iopub.status.idle": "2023-01-15T01:16:06.533491Z",
     "shell.execute_reply": "2023-01-15T01:16:06.533871Z"
    }
   },
   "outputs": [
    {
     "name": "stdout",
     "output_type": "stream",
     "text": [
      ">seq1\n",
      "ATGAATG\n",
      ">seq2\n",
      "ATG-AAT\n",
      ">seq3\n",
      "AT--AAT\n",
      "\n"
     ]
    }
   ],
   "source": [
    "from cogent3 import make_aligned_seqs\n",
    "\n",
    "aln = make_aligned_seqs(\n",
    "    [(\"seq1\", \"ATGAA---TG-\"), (\"seq2\", \"ATG-AGTGATG\"), (\"seq3\", \"AT--AG-GATG\")],\n",
    "    moltype=\"dna\",\n",
    ")\n",
    "new_aln = aln.get_degapped_relative_to(\"seq1\")\n",
    "print(new_aln)"
   ]
  },
  {
   "cell_type": "code",
   "execution_count": 9,
   "id": "9d0a86af",
   "metadata": {
    "execution": {
     "iopub.execute_input": "2023-01-15T01:16:06.542826Z",
     "iopub.status.busy": "2023-01-15T01:16:06.542236Z",
     "iopub.status.idle": "2023-01-15T01:16:06.544596Z",
     "shell.execute_reply": "2023-01-15T01:16:06.544964Z"
    }
   },
   "outputs": [
    {
     "data": {
      "text/plain": [
       "False"
      ]
     },
     "execution_count": 9,
     "metadata": {},
     "output_type": "execute_result"
    }
   ],
   "source": [
    "from cogent3 import make_aligned_seqs\n",
    "\n",
    "aln = make_aligned_seqs(\n",
    "    [(\"seq1\", \"ATGAA------\"), (\"seq2\", \"ATG-AGTGATG\"), (\"seq3\", \"AT--AG-GATG\")],\n",
    "    moltype=\"dna\",\n",
    "    array_align=False,\n",
    ")\n",
    "seq = aln.get_seq(\"seq1\")\n",
    "seq.name\n",
    "type(seq)\n",
    "seq.is_gapped()"
   ]
  },
  {
   "cell_type": "code",
   "execution_count": 10,
   "id": "2f7da4db",
   "metadata": {
    "execution": {
     "iopub.execute_input": "2023-01-15T01:16:06.548166Z",
     "iopub.status.busy": "2023-01-15T01:16:06.547568Z",
     "iopub.status.idle": "2023-01-15T01:16:06.549536Z",
     "shell.execute_reply": "2023-01-15T01:16:06.550072Z"
    }
   },
   "outputs": [
    {
     "name": "stdout",
     "output_type": "stream",
     "text": [
      "ATGAA------\n"
     ]
    }
   ],
   "source": [
    "seq = aln.get_gapped_seq(\"seq1\")\n",
    "seq.is_gapped()\n",
    "print(seq)"
   ]
  },
  {
   "cell_type": "code",
   "execution_count": 11,
   "id": "3301d74f",
   "metadata": {
    "execution": {
     "iopub.execute_input": "2023-01-15T01:16:06.553340Z",
     "iopub.status.busy": "2023-01-15T01:16:06.552728Z",
     "iopub.status.idle": "2023-01-15T01:16:06.555404Z",
     "shell.execute_reply": "2023-01-15T01:16:06.554871Z"
    }
   },
   "outputs": [
    {
     "data": {
      "text/plain": [
       "['seq1', 'seq2', 'seq3']"
      ]
     },
     "execution_count": 11,
     "metadata": {},
     "output_type": "execute_result"
    }
   ],
   "source": [
    "aln.names\n",
    "aln.names"
   ]
  },
  {
   "cell_type": "code",
   "execution_count": 12,
   "id": "af2b759c",
   "metadata": {
    "execution": {
     "iopub.execute_input": "2023-01-15T01:16:06.559221Z",
     "iopub.status.busy": "2023-01-15T01:16:06.558689Z",
     "iopub.status.idle": "2023-01-15T01:16:06.564398Z",
     "shell.execute_reply": "2023-01-15T01:16:06.564771Z"
    }
   },
   "outputs": [
    {
     "name": "stdout",
     "output_type": "stream",
     "text": [
      "TGTGGCACAAATACTCATGCCAGC\n"
     ]
    }
   ],
   "source": [
    "from cogent3 import load_aligned_seqs, load_unaligned_seqs\n",
    "\n",
    "fn = \"data/long_testseqs.fasta\"\n",
    "seqs = load_unaligned_seqs(fn, moltype=\"dna\")\n",
    "my_seq = seqs.seqs[0]\n",
    "my_seq[:24]\n",
    "str(my_seq[:24])\n",
    "type(my_seq)\n",
    "aln = load_aligned_seqs(fn, moltype=\"dna\")\n",
    "aln.seqs[0][:24]\n",
    "print(aln.seqs[0][:24])"
   ]
  },
  {
   "cell_type": "code",
   "execution_count": 13,
   "id": "b297438d",
   "metadata": {
    "execution": {
     "iopub.execute_input": "2023-01-15T01:16:06.567962Z",
     "iopub.status.busy": "2023-01-15T01:16:06.567426Z",
     "iopub.status.idle": "2023-01-15T01:16:06.570955Z",
     "shell.execute_reply": "2023-01-15T01:16:06.571387Z"
    }
   },
   "outputs": [
    {
     "data": {
      "text/plain": [
       "['Human', 'HowlerMon']"
      ]
     },
     "execution_count": 13,
     "metadata": {},
     "output_type": "execute_result"
    }
   ],
   "source": [
    "from cogent3 import load_aligned_seqs\n",
    "\n",
    "aln = load_aligned_seqs(\"data/test.paml\", moltype=\"dna\")\n",
    "aln.names\n",
    "new = aln.take_seqs([\"Human\", \"HowlerMon\"])\n",
    "new.names"
   ]
  },
  {
   "cell_type": "code",
   "execution_count": 14,
   "id": "38189e1b",
   "metadata": {
    "execution": {
     "iopub.execute_input": "2023-01-15T01:16:06.574896Z",
     "iopub.status.busy": "2023-01-15T01:16:06.574358Z",
     "iopub.status.idle": "2023-01-15T01:16:06.577987Z",
     "shell.execute_reply": "2023-01-15T01:16:06.578379Z"
    }
   },
   "outputs": [
    {
     "data": {
      "text/plain": [
       "True"
      ]
     },
     "execution_count": 14,
     "metadata": {},
     "output_type": "execute_result"
    }
   ],
   "source": [
    "from cogent3 import load_aligned_seqs\n",
    "\n",
    "aln = load_aligned_seqs(\"data/test.paml\", array_align=False, moltype=\"dna\")\n",
    "seq = aln.get_seq(\"Human\")\n",
    "new = aln.take_seqs([\"Human\", \"HowlerMon\"])\n",
    "id(new.get_seq(\"Human\")) == id(aln.get_seq(\"Human\"))"
   ]
  },
  {
   "cell_type": "code",
   "execution_count": 15,
   "id": "c22f4834",
   "metadata": {
    "execution": {
     "iopub.execute_input": "2023-01-15T01:16:06.581959Z",
     "iopub.status.busy": "2023-01-15T01:16:06.581287Z",
     "iopub.status.idle": "2023-01-15T01:16:06.584094Z",
     "shell.execute_reply": "2023-01-15T01:16:06.584482Z"
    }
   },
   "outputs": [],
   "source": [
    "from cogent3 import load_unaligned_seqs\n",
    "from cogent3.core.alignment import Alignment\n",
    "\n",
    "seq = load_unaligned_seqs(\"data/test.paml\")\n",
    "aln = Alignment(seq)\n",
    "fasta_1 = seq\n",
    "fasta_2 = aln\n",
    "assert fasta_1 == fasta_2"
   ]
  },
  {
   "cell_type": "code",
   "execution_count": 16,
   "id": "b2247045",
   "metadata": {
    "execution": {
     "iopub.execute_input": "2023-01-15T01:16:06.589885Z",
     "iopub.status.busy": "2023-01-15T01:16:06.589291Z",
     "iopub.status.idle": "2023-01-15T01:16:06.591439Z",
     "shell.execute_reply": "2023-01-15T01:16:06.591876Z"
    }
   },
   "outputs": [
    {
     "data": {
      "text/html": [
       "<style>\n",
       ".c3align td { border: none !important; text-align: left !important; }\n",
       ".c3align tr:not(.num_row) td span {margin: 0 2px;}\n",
       ".c3align tr:nth-child(even) {background: #f7f7f7;}\n",
       ".c3align .num_row {background-color:rgba(161, 195, 209, 0.5) !important; border-top: solid 1px black; }\n",
       ".c3align .label { font-size: 12pt ; text-align: right !important; color: black !important; padding: 0 4px; display: table-cell !important; font-weight: normal !important; }\n",
       ".c3align .T_dna{font-family: \"Lucida Console\",monospace !important; font-size: 12pt !important; color: blue; }\n",
       ".c3align .C_dna{font-family: \"Lucida Console\",monospace !important; font-size: 12pt !important; color: black; }\n",
       ".c3align .A_dna{font-family: \"Lucida Console\",monospace !important; font-size: 12pt !important; color: #FF0102; }\n",
       ".c3align .G_dna{font-family: \"Lucida Console\",monospace !important; font-size: 12pt !important; color: green; }\n",
       ".c3align .terminal_ambig_dna{font-family: \"Lucida Console\",monospace !important; font-size: 12pt !important; color: gray; }\n",
       ".c3align .ambig_dna{font-family: \"Lucida Console\",monospace !important; font-size: 12pt !important; color: gray; }\n",
       "</style>\n",
       "<div class=\"c3align\">\n",
       "<table>\n",
       "<tr class=\"num_row\"><td></td><td><b>0</b></td></tr>\n",
       "<tr><td class=\"label\">b</td><td><span class=\"C_dna\">C</span><span class=\"C_dna\">C</span><span class=\"T_dna\">T</span><span class=\"G_dna\">G</span><span class=\"G_dna\">G</span><span class=\"G_dna\">G</span></td></tr>\n",
       "<tr><td class=\"label\">a</td><td><span class=\"A_dna\">A</span><span class=\"C_dna\">.</span><span class=\"G_dna\">G</span><span class=\"ambig_dna\">-</span><span class=\"ambig_dna\">-</span><span class=\"ambig_dna\">-</span></td></tr>\n",
       "</table>\n",
       "<p><i>2 x 6 dna alignment</i></p>\n",
       "</div>"
      ],
      "text/plain": [
       "2 x 6 alignment: a[ACG---], b[CCTGGG]"
      ]
     },
     "execution_count": 16,
     "metadata": {},
     "output_type": "execute_result"
    }
   ],
   "source": [
    "from cogent3 import make_aligned_seqs\n",
    "\n",
    "data = [(\"a\", \"ACG---\"), (\"b\", \"CCTGGG\")]\n",
    "aln = make_aligned_seqs(data=data)\n",
    "dna = aln.to_dna()\n",
    "dna"
   ]
  },
  {
   "cell_type": "code",
   "execution_count": 17,
   "id": "dc3d1fb5",
   "metadata": {
    "execution": {
     "iopub.execute_input": "2023-01-15T01:16:06.596767Z",
     "iopub.status.busy": "2023-01-15T01:16:06.596230Z",
     "iopub.status.idle": "2023-01-15T01:16:06.598279Z",
     "shell.execute_reply": "2023-01-15T01:16:06.598710Z"
    }
   },
   "outputs": [
    {
     "data": {
      "text/html": [
       "<style>\n",
       ".c3align td { border: none !important; text-align: left !important; }\n",
       ".c3align tr:not(.num_row) td span {margin: 0 2px;}\n",
       ".c3align tr:nth-child(even) {background: #f7f7f7;}\n",
       ".c3align .num_row {background-color:rgba(161, 195, 209, 0.5) !important; border-top: solid 1px black; }\n",
       ".c3align .label { font-size: 12pt ; text-align: right !important; color: black !important; padding: 0 4px; display: table-cell !important; font-weight: normal !important; }\n",
       ".c3align .U_rna{font-family: \"Lucida Console\",monospace !important; font-size: 12pt !important; color: blue; }\n",
       ".c3align .C_rna{font-family: \"Lucida Console\",monospace !important; font-size: 12pt !important; color: black; }\n",
       ".c3align .A_rna{font-family: \"Lucida Console\",monospace !important; font-size: 12pt !important; color: #FF0102; }\n",
       ".c3align .G_rna{font-family: \"Lucida Console\",monospace !important; font-size: 12pt !important; color: green; }\n",
       ".c3align .terminal_ambig_rna{font-family: \"Lucida Console\",monospace !important; font-size: 12pt !important; color: gray; }\n",
       ".c3align .ambig_rna{font-family: \"Lucida Console\",monospace !important; font-size: 12pt !important; color: gray; }\n",
       "</style>\n",
       "<div class=\"c3align\">\n",
       "<table>\n",
       "<tr class=\"num_row\"><td></td><td><b>0</b></td></tr>\n",
       "<tr><td class=\"label\">b</td><td><span class=\"C_rna\">C</span><span class=\"C_rna\">C</span><span class=\"U_rna\">U</span><span class=\"G_rna\">G</span><span class=\"G_rna\">G</span><span class=\"G_rna\">G</span></td></tr>\n",
       "<tr><td class=\"label\">a</td><td><span class=\"A_rna\">A</span><span class=\"C_rna\">.</span><span class=\"G_rna\">G</span><span class=\"ambig_rna\">-</span><span class=\"ambig_rna\">-</span><span class=\"ambig_rna\">-</span></td></tr>\n",
       "</table>\n",
       "<p><i>2 x 6 rna alignment</i></p>\n",
       "</div>"
      ],
      "text/plain": [
       "2 x 6 alignment: a[ACG---], b[CCUGGG]"
      ]
     },
     "execution_count": 17,
     "metadata": {},
     "output_type": "execute_result"
    }
   ],
   "source": [
    "from cogent3 import make_aligned_seqs\n",
    "\n",
    "data = [(\"a\", \"ACG---\"), (\"b\", \"CCUGGG\")]\n",
    "aln = make_aligned_seqs(data=data)\n",
    "rna = aln.to_rna()\n",
    "rna"
   ]
  },
  {
   "cell_type": "code",
   "execution_count": 18,
   "id": "a7eaded3",
   "metadata": {
    "execution": {
     "iopub.execute_input": "2023-01-15T01:16:06.603606Z",
     "iopub.status.busy": "2023-01-15T01:16:06.603007Z",
     "iopub.status.idle": "2023-01-15T01:16:06.605593Z",
     "shell.execute_reply": "2023-01-15T01:16:06.605064Z"
    }
   },
   "outputs": [
    {
     "data": {
      "text/html": [
       "<style>\n",
       ".c3align td { border: none !important; text-align: left !important; }\n",
       ".c3align tr:not(.num_row) td span {margin: 0 2px;}\n",
       ".c3align tr:nth-child(even) {background: #f7f7f7;}\n",
       ".c3align .num_row {background-color:rgba(161, 195, 209, 0.5) !important; border-top: solid 1px black; }\n",
       ".c3align .label { font-size: 12pt ; text-align: right !important; color: black !important; padding: 0 4px; display: table-cell !important; font-weight: normal !important; }\n",
       ".c3align .A_protein{font-family: \"Lucida Console\",monospace !important; font-size: 12pt !important; color: #009999; }\n",
       ".c3align .C_protein{font-family: \"Lucida Console\",monospace !important; font-size: 12pt !important; color: orange; }\n",
       ".c3align .D_protein{font-family: \"Lucida Console\",monospace !important; font-size: 12pt !important; color: blue; }\n",
       ".c3align .E_protein{font-family: \"Lucida Console\",monospace !important; font-size: 12pt !important; color: blue; }\n",
       ".c3align .F_protein{font-family: \"Lucida Console\",monospace !important; font-size: 12pt !important; color: #ff6600; }\n",
       ".c3align .G_protein{font-family: \"Lucida Console\",monospace !important; font-size: 12pt !important; color: #009999; }\n",
       ".c3align .H_protein{font-family: \"Lucida Console\",monospace !important; font-size: 12pt !important; color: #FF0102; }\n",
       ".c3align .I_protein{font-family: \"Lucida Console\",monospace !important; font-size: 12pt !important; color: #009999; }\n",
       ".c3align .K_protein{font-family: \"Lucida Console\",monospace !important; font-size: 12pt !important; color: #FF0102; }\n",
       ".c3align .L_protein{font-family: \"Lucida Console\",monospace !important; font-size: 12pt !important; color: #009999; }\n",
       ".c3align .M_protein{font-family: \"Lucida Console\",monospace !important; font-size: 12pt !important; color: orange; }\n",
       ".c3align .N_protein{font-family: \"Lucida Console\",monospace !important; font-size: 12pt !important; color: #993300; }\n",
       ".c3align .P_protein{font-family: \"Lucida Console\",monospace !important; font-size: 12pt !important; color: #cc0099; }\n",
       ".c3align .Q_protein{font-family: \"Lucida Console\",monospace !important; font-size: 12pt !important; color: #993300; }\n",
       ".c3align .R_protein{font-family: \"Lucida Console\",monospace !important; font-size: 12pt !important; color: #FF0102; }\n",
       ".c3align .S_protein{font-family: \"Lucida Console\",monospace !important; font-size: 12pt !important; color: #009900; }\n",
       ".c3align .T_protein{font-family: \"Lucida Console\",monospace !important; font-size: 12pt !important; color: #009900; }\n",
       ".c3align .U_protein{font-family: \"Lucida Console\",monospace !important; font-size: 12pt !important; color: gray; }\n",
       ".c3align .V_protein{font-family: \"Lucida Console\",monospace !important; font-size: 12pt !important; color: #009999; }\n",
       ".c3align .W_protein{font-family: \"Lucida Console\",monospace !important; font-size: 12pt !important; color: #ff6600; }\n",
       ".c3align .Y_protein{font-family: \"Lucida Console\",monospace !important; font-size: 12pt !important; color: #ff6600; }\n",
       ".c3align .terminal_ambig_protein{font-family: \"Lucida Console\",monospace !important; font-size: 12pt !important; color: gray; }\n",
       ".c3align .ambig_protein{font-family: \"Lucida Console\",monospace !important; font-size: 12pt !important; color: gray; }\n",
       "</style>\n",
       "<div class=\"c3align\">\n",
       "<table>\n",
       "<tr class=\"num_row\"><td></td><td><b>0</b></td></tr>\n",
       "<tr><td class=\"label\">x</td><td><span class=\"T_protein\">T</span><span class=\"Y_protein\">Y</span><span class=\"V_protein\">V</span></td></tr>\n",
       "<tr><td class=\"label\">y</td><td><span class=\"T_protein\">.</span><span class=\"E_protein\">E</span><span class=\"ambig_protein\">-</span></td></tr>\n",
       "</table>\n",
       "<p><i>2 x 3 protein alignment</i></p>\n",
       "</div>"
      ],
      "text/plain": [
       "2 x 3 alignment: x[TYV], y[TE-]"
      ]
     },
     "execution_count": 18,
     "metadata": {},
     "output_type": "execute_result"
    }
   ],
   "source": [
    "from cogent3 import make_aligned_seqs\n",
    "\n",
    "data = [(\"x\", \"TYV\"), (\"y\", \"TE-\")]\n",
    "aln = make_aligned_seqs(data=data)\n",
    "prot = aln.to_protein()\n",
    "prot"
   ]
  },
  {
   "cell_type": "code",
   "execution_count": 19,
   "id": "b68cbf76",
   "metadata": {
    "execution": {
     "iopub.execute_input": "2023-01-15T01:16:06.608726Z",
     "iopub.status.busy": "2023-01-15T01:16:06.608167Z",
     "iopub.status.idle": "2023-01-15T01:16:06.612377Z",
     "shell.execute_reply": "2023-01-15T01:16:06.612751Z"
    }
   },
   "outputs": [
    {
     "name": "stdout",
     "output_type": "stream",
     "text": [
      "<class 'cogent3.core.alignment.SequenceCollection'>\n"
     ]
    }
   ],
   "source": [
    "from cogent3 import load_aligned_seqs\n",
    "\n",
    "aln = load_aligned_seqs(\"data/primate_cdx2_promoter.fasta\")\n",
    "degapped = aln.degap()\n",
    "print(type(degapped))"
   ]
  },
  {
   "cell_type": "code",
   "execution_count": 20,
   "id": "100d69a5",
   "metadata": {
    "execution": {
     "iopub.execute_input": "2023-01-15T01:16:06.616259Z",
     "iopub.status.busy": "2023-01-15T01:16:06.615708Z",
     "iopub.status.idle": "2023-01-15T01:16:06.618117Z",
     "shell.execute_reply": "2023-01-15T01:16:06.618687Z"
    }
   },
   "outputs": [],
   "source": [
    "from cogent3 import make_aligned_seqs\n",
    "\n",
    "dna = {\"seq1\": \"ATGACC\", \"seq2\": \"ATCGCC\"}\n",
    "aln = make_aligned_seqs(data=dna, moltype=\"dna\")\n",
    "aln.write(\"sample.fasta\")"
   ]
  },
  {
   "cell_type": "code",
   "execution_count": 21,
   "id": "1d8d8aac",
   "metadata": {
    "execution": {
     "iopub.execute_input": "2023-01-15T01:16:06.621758Z",
     "iopub.status.busy": "2023-01-15T01:16:06.621227Z",
     "iopub.status.idle": "2023-01-15T01:16:06.623340Z",
     "shell.execute_reply": "2023-01-15T01:16:06.623881Z"
    }
   },
   "outputs": [],
   "source": [
    "aln.write(\"sample\", format=\"fasta\")"
   ]
  },
  {
   "cell_type": "code",
   "execution_count": 22,
   "id": "7e569f95",
   "metadata": {
    "execution": {
     "iopub.execute_input": "2023-01-15T01:16:06.626877Z",
     "iopub.status.busy": "2023-01-15T01:16:06.626320Z",
     "iopub.status.idle": "2023-01-15T01:16:06.628035Z",
     "shell.execute_reply": "2023-01-15T01:16:06.628587Z"
    }
   },
   "outputs": [],
   "source": [
    "from cogent3.util.io import remove_files\n",
    "\n",
    "remove_files([\"sample\", \"sample.fasta\"], error_on_missing=False)"
   ]
  },
  {
   "cell_type": "code",
   "execution_count": 23,
   "id": "70d95205",
   "metadata": {
    "execution": {
     "iopub.execute_input": "2023-01-15T01:16:06.631839Z",
     "iopub.status.busy": "2023-01-15T01:16:06.631236Z",
     "iopub.status.idle": "2023-01-15T01:16:06.635684Z",
     "shell.execute_reply": "2023-01-15T01:16:06.636216Z"
    }
   },
   "outputs": [],
   "source": [
    "from cogent3 import load_aligned_seqs\n",
    "from cogent3.core.alignment import Alignment\n",
    "\n",
    "seq = load_aligned_seqs(\"data/long_testseqs.fasta\")\n",
    "aln = Alignment(seq)\n",
    "fasta_align = aln"
   ]
  },
  {
   "cell_type": "code",
   "execution_count": 24,
   "id": "40f513c0",
   "metadata": {
    "execution": {
     "iopub.execute_input": "2023-01-15T01:16:06.639573Z",
     "iopub.status.busy": "2023-01-15T01:16:06.639048Z",
     "iopub.status.idle": "2023-01-15T01:16:06.642024Z",
     "shell.execute_reply": "2023-01-15T01:16:06.642397Z"
    }
   },
   "outputs": [
    {
     "name": "stdout",
     "output_type": "stream",
     "text": [
      "5  60\n",
      "NineBande GCAAGGCGCCAACAGAGCAGATGGGCTGAAAGTAAGGAAACATGTAATGATAGGCAGACT\n",
      "Mouse     GCAGTGAGCCAGCAGAGCAGATGGGCTGCAAGTAAAGGAACATGTAACGACAGGCAGGTT\n",
      "Human     GCAAGGAGCCAACATAACAGATGGGCTGGAAGTAAGGAAACATGTAATGATAGGCGGACT\n",
      "HowlerMon GCAAGGAGCCAACATAACAGATGGGCTGAAAGTGAGGAAACATGTAATGATAGGCAGACT\n",
      "DogFaced  GCAAGGAGCCAGCAGAACAGATGGGTTGAAACTAAGGAAACATGTAATGATAGGCAGACT\n",
      "\n"
     ]
    }
   ],
   "source": [
    "from cogent3 import load_aligned_seqs\n",
    "from cogent3.core.alignment import Alignment\n",
    "\n",
    "seq = load_aligned_seqs(\"data/test.paml\")\n",
    "aln = Alignment(seq)\n",
    "got = aln.to_phylip()\n",
    "print(got)"
   ]
  },
  {
   "cell_type": "code",
   "execution_count": 25,
   "id": "71528ef7",
   "metadata": {
    "execution": {
     "iopub.execute_input": "2023-01-15T01:16:06.646419Z",
     "iopub.status.busy": "2023-01-15T01:16:06.645895Z",
     "iopub.status.idle": "2023-01-15T01:16:06.647844Z",
     "shell.execute_reply": "2023-01-15T01:16:06.648216Z"
    }
   },
   "outputs": [],
   "source": [
    "from cogent3 import load_aligned_seqs\n",
    "from cogent3.core.alignment import Alignment\n",
    "\n",
    "seq = load_aligned_seqs(\"data/test.paml\")\n",
    "aln = Alignment(seq)\n",
    "string_list = aln.to_dict().values()"
   ]
  },
  {
   "cell_type": "code",
   "execution_count": 26,
   "id": "a5674028",
   "metadata": {
    "execution": {
     "iopub.execute_input": "2023-01-15T01:16:06.651303Z",
     "iopub.status.busy": "2023-01-15T01:16:06.650776Z",
     "iopub.status.idle": "2023-01-15T01:16:06.655105Z",
     "shell.execute_reply": "2023-01-15T01:16:06.655477Z"
    }
   },
   "outputs": [
    {
     "name": "stdout",
     "output_type": "stream",
     "text": [
      ">Human\n",
      "TGTGGCACAAATACTCATGCCAGC\n",
      ">HowlerMon\n",
      "TGTGGCACAAATACTCATGCCAGC\n",
      ">Mouse\n",
      "TGTGGCACAGATGCTCATGCCAGC\n",
      ">NineBande\n",
      "TGTGGCACAAATACTCATGCCAAC\n",
      ">DogFaced\n",
      "TGTGGCACAAATACTCATGCCAAC\n",
      "\n"
     ]
    }
   ],
   "source": [
    "from cogent3 import load_aligned_seqs\n",
    "\n",
    "fn = \"data/long_testseqs.fasta\"\n",
    "aln = load_aligned_seqs(fn, moltype=\"dna\")\n",
    "print(aln[:24])"
   ]
  },
  {
   "cell_type": "code",
   "execution_count": 27,
   "id": "e0b73d3e",
   "metadata": {
    "execution": {
     "iopub.execute_input": "2023-01-15T01:16:06.658476Z",
     "iopub.status.busy": "2023-01-15T01:16:06.657953Z",
     "iopub.status.idle": "2023-01-15T01:16:07.065984Z",
     "shell.execute_reply": "2023-01-15T01:16:07.066436Z"
    }
   },
   "outputs": [
    {
     "ename": "TypeError",
     "evalue": "'SequenceCollection' object is not subscriptable",
     "output_type": "error",
     "traceback": [
      "\u001b[0;31m---------------------------------------------------------------------------\u001b[0m",
      "\u001b[0;31mTypeError\u001b[0m                                 Traceback (most recent call last)",
      "Input \u001b[0;32mIn [27]\u001b[0m, in \u001b[0;36m<module>\u001b[0;34m\u001b[0m\n\u001b[1;32m      3\u001b[0m fn \u001b[38;5;241m=\u001b[39m \u001b[38;5;124m\"\u001b[39m\u001b[38;5;124mdata/long_testseqs.fasta\u001b[39m\u001b[38;5;124m\"\u001b[39m\n\u001b[1;32m      4\u001b[0m seqs \u001b[38;5;241m=\u001b[39m load_unaligned_seqs(fn)\n\u001b[0;32m----> 5\u001b[0m \u001b[38;5;28mprint\u001b[39m(\u001b[43mseqs\u001b[49m\u001b[43m[\u001b[49m\u001b[43m:\u001b[49m\u001b[38;5;241;43m24\u001b[39;49m\u001b[43m]\u001b[49m)\n",
      "\u001b[0;31mTypeError\u001b[0m: 'SequenceCollection' object is not subscriptable"
     ]
    }
   ],
   "source": [
    "from cogent3 import load_unaligned_seqs\n",
    "\n",
    "fn = \"data/long_testseqs.fasta\"\n",
    "seqs = load_unaligned_seqs(fn)\n",
    "print(seqs[:24])"
   ]
  },
  {
   "cell_type": "code",
   "execution_count": 28,
   "id": "a1f690a4",
   "metadata": {
    "execution": {
     "iopub.execute_input": "2023-01-15T01:16:07.070019Z",
     "iopub.status.busy": "2023-01-15T01:16:07.069427Z",
     "iopub.status.idle": "2023-01-15T01:16:07.071887Z",
     "shell.execute_reply": "2023-01-15T01:16:07.072252Z"
    }
   },
   "outputs": [],
   "source": [
    "from cogent3 import load_aligned_seqs\n",
    "\n",
    "seq = load_aligned_seqs(\"data/test.paml\")\n",
    "column_four = aln[3]"
   ]
  },
  {
   "cell_type": "code",
   "execution_count": 29,
   "id": "501c41e5",
   "metadata": {
    "execution": {
     "iopub.execute_input": "2023-01-15T01:16:07.077004Z",
     "iopub.status.busy": "2023-01-15T01:16:07.074987Z",
     "iopub.status.idle": "2023-01-15T01:16:07.078600Z",
     "shell.execute_reply": "2023-01-15T01:16:07.079030Z"
    }
   },
   "outputs": [],
   "source": [
    "from cogent3 import load_aligned_seqs\n",
    "\n",
    "aln = load_aligned_seqs(\"data/long_testseqs.fasta\")\n",
    "region = aln[50:70]"
   ]
  },
  {
   "cell_type": "code",
   "execution_count": 30,
   "id": "173bee59",
   "metadata": {
    "execution": {
     "iopub.execute_input": "2023-01-15T01:16:07.082419Z",
     "iopub.status.busy": "2023-01-15T01:16:07.081887Z",
     "iopub.status.idle": "2023-01-15T01:16:07.086398Z",
     "shell.execute_reply": "2023-01-15T01:16:07.086772Z"
    }
   },
   "outputs": [
    {
     "data": {
      "text/plain": [
       "[[ByteSequence(A), ByteSequence(A), ByteSequence(A)],\n",
       " [ByteSequence(T), ByteSequence(-), ByteSequence(-)]]"
      ]
     },
     "execution_count": 30,
     "metadata": {},
     "output_type": "execute_result"
    }
   ],
   "source": [
    "from cogent3 import load_aligned_seqs\n",
    "\n",
    "aln = load_aligned_seqs(\"data/primate_cdx2_promoter.fasta\")\n",
    "col = aln[113:115].iter_positions()\n",
    "type(col)\n",
    "list(col)"
   ]
  },
  {
   "cell_type": "code",
   "execution_count": 31,
   "id": "fbc0b141",
   "metadata": {
    "execution": {
     "iopub.execute_input": "2023-01-15T01:16:07.091531Z",
     "iopub.status.busy": "2023-01-15T01:16:07.090925Z",
     "iopub.status.idle": "2023-01-15T01:16:07.092918Z",
     "shell.execute_reply": "2023-01-15T01:16:07.093325Z"
    }
   },
   "outputs": [
    {
     "name": "stdout",
     "output_type": "stream",
     "text": [
      ">seq1\n",
      "GGG-\n",
      ">seq2\n",
      "GGGG\n",
      "\n"
     ]
    }
   ],
   "source": [
    "from cogent3 import make_aligned_seqs\n",
    "\n",
    "aln = make_aligned_seqs(\n",
    "    data={\"seq1\": \"ATGATGATG---\", \"seq2\": \"ATGATGATGATG\"}, array_align=False\n",
    ")\n",
    "list(range(len(aln))[2::3])\n",
    "indices = [(i, i + 1) for i in range(len(aln))[2::3]]\n",
    "indices\n",
    "pos3 = aln.add_feature(\"pos3\", \"pos3\", indices)\n",
    "pos3 = pos3.get_slice()\n",
    "print(pos3)"
   ]
  },
  {
   "cell_type": "code",
   "execution_count": 32,
   "id": "e1fbf12d",
   "metadata": {
    "execution": {
     "iopub.execute_input": "2023-01-15T01:16:07.096768Z",
     "iopub.status.busy": "2023-01-15T01:16:07.096170Z",
     "iopub.status.idle": "2023-01-15T01:16:07.098209Z",
     "shell.execute_reply": "2023-01-15T01:16:07.098575Z"
    }
   },
   "outputs": [
    {
     "name": "stdout",
     "output_type": "stream",
     "text": [
      ">seq1\n",
      "GGG-\n",
      ">seq2\n",
      "GGGG\n",
      "\n"
     ]
    }
   ],
   "source": [
    "from cogent3 import make_aligned_seqs\n",
    "\n",
    "aln = make_aligned_seqs(\n",
    "    data={\"seq1\": \"ATGATGATG---\", \"seq2\": \"ATGATGATGATG\"}, array_align=True\n",
    ")\n",
    "pos3 = aln[2::3]\n",
    "print(pos3)"
   ]
  },
  {
   "cell_type": "code",
   "execution_count": 33,
   "id": "2266aaf4",
   "metadata": {
    "execution": {
     "iopub.execute_input": "2023-01-15T01:16:07.102215Z",
     "iopub.status.busy": "2023-01-15T01:16:07.101636Z",
     "iopub.status.idle": "2023-01-15T01:16:07.103614Z",
     "shell.execute_reply": "2023-01-15T01:16:07.103992Z"
    }
   },
   "outputs": [
    {
     "name": "stdout",
     "output_type": "stream",
     "text": [
      ">seq1\n",
      "ACG---\n",
      ">seq2\n",
      "ACGACA\n",
      ">seq3\n",
      "ACGCAA\n",
      "\n"
     ]
    }
   ],
   "source": [
    "from cogent3 import make_aligned_seqs\n",
    "\n",
    "aln = make_aligned_seqs(\n",
    "    data={\"seq1\": \"ACGTAA---\", \"seq2\": \"ACGACA---\", \"seq3\": \"ACGCAATGA\"},\n",
    "    moltype=\"dna\",\n",
    ")\n",
    "new = aln.trim_stop_codons()\n",
    "print(new)"
   ]
  },
  {
   "cell_type": "code",
   "execution_count": 34,
   "id": "5f6601c6",
   "metadata": {
    "execution": {
     "iopub.execute_input": "2023-01-15T01:16:07.107596Z",
     "iopub.status.busy": "2023-01-15T01:16:07.107011Z",
     "iopub.status.idle": "2023-01-15T01:16:07.108878Z",
     "shell.execute_reply": "2023-01-15T01:16:07.109232Z"
    }
   },
   "outputs": [
    {
     "name": "stdout",
     "output_type": "stream",
     "text": [
      ">seq1\n",
      "ACG---\n",
      ">seq2\n",
      "ACGAC-\n",
      ">seq3\n",
      "ACGCAA\n",
      "\n"
     ]
    }
   ],
   "source": [
    "aln = make_aligned_seqs(\n",
    "    data={\n",
    "        \"seq1\": \"ACGTAA---\",\n",
    "        \"seq2\": \"ACGAC----\",  # terminal codon incomplete\n",
    "        \"seq3\": \"ACGCAATGA\",\n",
    "    },\n",
    "    moltype=\"dna\",\n",
    ")\n",
    "new = aln.trim_stop_codons(allow_partial=True)\n",
    "print(new)"
   ]
  },
  {
   "cell_type": "code",
   "execution_count": 35,
   "id": "70fd59b6",
   "metadata": {
    "execution": {
     "iopub.execute_input": "2023-01-15T01:16:07.112321Z",
     "iopub.status.busy": "2023-01-15T01:16:07.111805Z",
     "iopub.status.idle": "2023-01-15T01:16:07.113499Z",
     "shell.execute_reply": "2023-01-15T01:16:07.114017Z"
    }
   },
   "outputs": [],
   "source": [
    "from cogent3 import make_aligned_seqs\n",
    "\n",
    "aln = make_aligned_seqs(\n",
    "    data=[\n",
    "        (\"seq1\", \"ATGAAGGTG---\"),\n",
    "        (\"seq2\", \"ATGAAGGTGATG\"),\n",
    "        (\"seq3\", \"ATGAAGGNGATG\"),\n",
    "    ],\n",
    "    moltype=\"dna\",\n",
    ")"
   ]
  },
  {
   "cell_type": "code",
   "execution_count": 36,
   "id": "800a3308",
   "metadata": {
    "execution": {
     "iopub.execute_input": "2023-01-15T01:16:07.116755Z",
     "iopub.status.busy": "2023-01-15T01:16:07.116228Z",
     "iopub.status.idle": "2023-01-15T01:16:07.118542Z",
     "shell.execute_reply": "2023-01-15T01:16:07.120458Z"
    }
   },
   "outputs": [
    {
     "name": "stdout",
     "output_type": "stream",
     "text": [
      ">seq1\n",
      "ATGAAGGG\n",
      ">seq2\n",
      "ATGAAGGG\n",
      ">seq3\n",
      "ATGAAGGG\n",
      "\n"
     ]
    }
   ],
   "source": [
    "nucs = aln.no_degenerates()\n",
    "print(nucs)"
   ]
  },
  {
   "cell_type": "code",
   "execution_count": 37,
   "id": "7456f7e1",
   "metadata": {
    "execution": {
     "iopub.execute_input": "2023-01-15T01:16:07.124089Z",
     "iopub.status.busy": "2023-01-15T01:16:07.123419Z",
     "iopub.status.idle": "2023-01-15T01:16:07.125767Z",
     "shell.execute_reply": "2023-01-15T01:16:07.126137Z"
    }
   },
   "outputs": [
    {
     "name": "stdout",
     "output_type": "stream",
     "text": [
      ">seq1\n",
      "ATGAAG\n",
      ">seq2\n",
      "ATGAAG\n",
      ">seq3\n",
      "ATGAAG\n",
      "\n"
     ]
    }
   ],
   "source": [
    "trinucs = aln.no_degenerates(motif_length=3)\n",
    "print(trinucs)"
   ]
  },
  {
   "cell_type": "code",
   "execution_count": 38,
   "id": "5e63e936",
   "metadata": {
    "execution": {
     "iopub.execute_input": "2023-01-15T01:16:07.129421Z",
     "iopub.status.busy": "2023-01-15T01:16:07.128885Z",
     "iopub.status.idle": "2023-01-15T01:16:07.341976Z",
     "shell.execute_reply": "2023-01-15T01:16:07.342343Z"
    }
   },
   "outputs": [
    {
     "name": "stdout",
     "output_type": "stream",
     "text": [
      ">Human\n",
      "AAGCAAAACT\n",
      ">HowlerMon\n",
      "AAGCAAGACT\n",
      ">Mouse\n",
      "GGGCCCAGCT\n",
      ">NineBande\n",
      "AAATAAAACT\n",
      ">DogFaced\n",
      "AAACAAAATA\n",
      "\n"
     ]
    }
   ],
   "source": [
    "from cogent3 import load_aligned_seqs\n",
    "\n",
    "aln = load_aligned_seqs(\"data/long_testseqs.fasta\")\n",
    "pos = aln.variable_positions()\n",
    "just_variable_aln = aln.take_positions(pos)\n",
    "print(just_variable_aln[:10])"
   ]
  },
  {
   "cell_type": "code",
   "execution_count": 39,
   "id": "a112853f",
   "metadata": {
    "execution": {
     "iopub.execute_input": "2023-01-15T01:16:07.345784Z",
     "iopub.status.busy": "2023-01-15T01:16:07.345272Z",
     "iopub.status.idle": "2023-01-15T01:16:07.640284Z",
     "shell.execute_reply": "2023-01-15T01:16:07.640747Z"
    }
   },
   "outputs": [
    {
     "name": "stdout",
     "output_type": "stream",
     "text": [
      ">Human\n",
      "TGTGGCACAA\n",
      ">HowlerMon\n",
      "TGTGGCACAA\n",
      ">Mouse\n",
      "TGTGGCACAA\n",
      ">NineBande\n",
      "TGTGGCACAA\n",
      ">DogFaced\n",
      "TGTGGCACAA\n",
      "\n"
     ]
    }
   ],
   "source": [
    "from cogent3 import load_aligned_seqs\n",
    "\n",
    "aln = load_aligned_seqs(\"data/long_testseqs.fasta\")\n",
    "pos = aln.variable_positions()\n",
    "just_constant_aln = aln.take_positions(pos, negate=True)\n",
    "print(just_constant_aln[:10])"
   ]
  },
  {
   "cell_type": "code",
   "execution_count": 40,
   "id": "e50ba5bf",
   "metadata": {
    "execution": {
     "iopub.execute_input": "2023-01-15T01:16:07.645236Z",
     "iopub.status.busy": "2023-01-15T01:16:07.644587Z",
     "iopub.status.idle": "2023-01-15T01:16:07.657006Z",
     "shell.execute_reply": "2023-01-15T01:16:07.657517Z"
    }
   },
   "outputs": [
    {
     "name": "stdout",
     "output_type": "stream",
     "text": [
      ">Human\n",
      "AAGCAAAAC\n",
      ">HowlerMon\n",
      "AAGCAAGAC\n",
      ">Mouse\n",
      "GGGCCCAGC\n",
      ">NineBande\n",
      "AAATAAAAC\n",
      ">DogFaced\n",
      "AAACAAAAT\n",
      "\n"
     ]
    }
   ],
   "source": [
    "from cogent3 import load_aligned_seqs\n",
    "\n",
    "aln = load_aligned_seqs(\"data/long_testseqs.fasta\")\n",
    "variable_codons = aln.filtered(\n",
    "    lambda x: len(set(map(tuple, x))) > 1, motif_length=3\n",
    ")\n",
    "print(just_variable_aln[:9])"
   ]
  },
  {
   "cell_type": "code",
   "execution_count": 41,
   "id": "23d9a51b",
   "metadata": {
    "execution": {
     "iopub.execute_input": "2023-01-15T01:16:07.666087Z",
     "iopub.status.busy": "2023-01-15T01:16:07.665451Z",
     "iopub.status.idle": "2023-01-15T01:16:07.668484Z",
     "shell.execute_reply": "2023-01-15T01:16:07.667859Z"
    }
   },
   "outputs": [
    {
     "name": "stdout",
     "output_type": "stream",
     "text": [
      ">Human\n",
      "AAGCAAAAC\n",
      ">HowlerMon\n",
      "AAGCAAGAC\n",
      ">Mouse\n",
      "GGGCCCAGC\n",
      ">NineBande\n",
      "AAATAAAAC\n",
      ">DogFaced\n",
      "AAACAAAAT\n",
      "\n"
     ]
    }
   ],
   "source": [
    "aln = aln.to_type(array_align=False)\n",
    "variable_codons = aln.filtered(lambda x: len(set(\"\".join(x))) > 1, motif_length=3)\n",
    "print(just_variable_aln[:9])"
   ]
  },
  {
   "cell_type": "code",
   "execution_count": 42,
   "id": "4e520f18",
   "metadata": {
    "execution": {
     "iopub.execute_input": "2023-01-15T01:16:07.672329Z",
     "iopub.status.busy": "2023-01-15T01:16:07.671710Z",
     "iopub.status.idle": "2023-01-15T01:16:07.683122Z",
     "shell.execute_reply": "2023-01-15T01:16:07.683515Z"
    }
   },
   "outputs": [
    {
     "data": {
      "text/html": [
       "<style>\n",
       ".c3align td { border: none !important; text-align: left !important; }\n",
       ".c3align tr:not(.num_row) td span {margin: 0 2px;}\n",
       ".c3align tr:nth-child(even) {background: #f7f7f7;}\n",
       ".c3align .num_row {background-color:rgba(161, 195, 209, 0.5) !important; border-top: solid 1px black; }\n",
       ".c3align .label { font-size: 12pt ; text-align: right !important; color: black !important; padding: 0 4px; display: table-cell !important; font-weight: normal !important; }\n",
       ".c3align .\u0000_bytes{font-family: \"Lucida Console\",monospace !important; font-size: 12pt !important; color: black; }\n",
       ".c3align .\u0001_bytes{font-family: \"Lucida Console\",monospace !important; font-size: 12pt !important; color: black; }\n",
       ".c3align .\u0002_bytes{font-family: \"Lucida Console\",monospace !important; font-size: 12pt !important; color: black; }\n",
       ".c3align .\u0003_bytes{font-family: \"Lucida Console\",monospace !important; font-size: 12pt !important; color: black; }\n",
       ".c3align .\u0004_bytes{font-family: \"Lucida Console\",monospace !important; font-size: 12pt !important; color: black; }\n",
       ".c3align .\u0005_bytes{font-family: \"Lucida Console\",monospace !important; font-size: 12pt !important; color: black; }\n",
       ".c3align .\u0006_bytes{font-family: \"Lucida Console\",monospace !important; font-size: 12pt !important; color: black; }\n",
       ".c3align .\u0007_bytes{font-family: \"Lucida Console\",monospace !important; font-size: 12pt !important; color: black; }\n",
       ".c3align .\b_bytes{font-family: \"Lucida Console\",monospace !important; font-size: 12pt !important; color: black; }\n",
       ".c3align .\t_bytes{font-family: \"Lucida Console\",monospace !important; font-size: 12pt !important; color: black; }\n",
       ".c3align .\n",
       "_bytes{font-family: \"Lucida Console\",monospace !important; font-size: 12pt !important; color: black; }\n",
       ".c3align .\u000b",
       "_bytes{font-family: \"Lucida Console\",monospace !important; font-size: 12pt !important; color: black; }\n",
       ".c3align .\f",
       "_bytes{font-family: \"Lucida Console\",monospace !important; font-size: 12pt !important; color: black; }\n",
       ".c3align .\r",
       "_bytes{font-family: \"Lucida Console\",monospace !important; font-size: 12pt !important; color: black; }\n",
       ".c3align .\u000e_bytes{font-family: \"Lucida Console\",monospace !important; font-size: 12pt !important; color: black; }\n",
       ".c3align .\u000f_bytes{font-family: \"Lucida Console\",monospace !important; font-size: 12pt !important; color: black; }\n",
       ".c3align .\u0010_bytes{font-family: \"Lucida Console\",monospace !important; font-size: 12pt !important; color: black; }\n",
       ".c3align .\u0011_bytes{font-family: \"Lucida Console\",monospace !important; font-size: 12pt !important; color: black; }\n",
       ".c3align .\u0012_bytes{font-family: \"Lucida Console\",monospace !important; font-size: 12pt !important; color: black; }\n",
       ".c3align .\u0013_bytes{font-family: \"Lucida Console\",monospace !important; font-size: 12pt !important; color: black; }\n",
       ".c3align .\u0014_bytes{font-family: \"Lucida Console\",monospace !important; font-size: 12pt !important; color: black; }\n",
       ".c3align .\u0015_bytes{font-family: \"Lucida Console\",monospace !important; font-size: 12pt !important; color: black; }\n",
       ".c3align .\u0016_bytes{font-family: \"Lucida Console\",monospace !important; font-size: 12pt !important; color: black; }\n",
       ".c3align .\u0017_bytes{font-family: \"Lucida Console\",monospace !important; font-size: 12pt !important; color: black; }\n",
       ".c3align .\u0018_bytes{font-family: \"Lucida Console\",monospace !important; font-size: 12pt !important; color: black; }\n",
       ".c3align .\u0019_bytes{font-family: \"Lucida Console\",monospace !important; font-size: 12pt !important; color: black; }\n",
       ".c3align .\u001a_bytes{font-family: \"Lucida Console\",monospace !important; font-size: 12pt !important; color: black; }\n",
       ".c3align .\u001b_bytes{font-family: \"Lucida Console\",monospace !important; font-size: 12pt !important; color: black; }\n",
       ".c3align .\u001c",
       "_bytes{font-family: \"Lucida Console\",monospace !important; font-size: 12pt !important; color: black; }\n",
       ".c3align .\u001d",
       "_bytes{font-family: \"Lucida Console\",monospace !important; font-size: 12pt !important; color: black; }\n",
       ".c3align .\u001e",
       "_bytes{font-family: \"Lucida Console\",monospace !important; font-size: 12pt !important; color: black; }\n",
       ".c3align .\u001f_bytes{font-family: \"Lucida Console\",monospace !important; font-size: 12pt !important; color: black; }\n",
       ".c3align . _bytes{font-family: \"Lucida Console\",monospace !important; font-size: 12pt !important; color: black; }\n",
       ".c3align .!_bytes{font-family: \"Lucida Console\",monospace !important; font-size: 12pt !important; color: black; }\n",
       ".c3align .\"_bytes{font-family: \"Lucida Console\",monospace !important; font-size: 12pt !important; color: black; }\n",
       ".c3align .#_bytes{font-family: \"Lucida Console\",monospace !important; font-size: 12pt !important; color: black; }\n",
       ".c3align .$_bytes{font-family: \"Lucida Console\",monospace !important; font-size: 12pt !important; color: black; }\n",
       ".c3align .%_bytes{font-family: \"Lucida Console\",monospace !important; font-size: 12pt !important; color: black; }\n",
       ".c3align .&_bytes{font-family: \"Lucida Console\",monospace !important; font-size: 12pt !important; color: black; }\n",
       ".c3align .'_bytes{font-family: \"Lucida Console\",monospace !important; font-size: 12pt !important; color: black; }\n",
       ".c3align .(_bytes{font-family: \"Lucida Console\",monospace !important; font-size: 12pt !important; color: black; }\n",
       ".c3align .)_bytes{font-family: \"Lucida Console\",monospace !important; font-size: 12pt !important; color: black; }\n",
       ".c3align .*_bytes{font-family: \"Lucida Console\",monospace !important; font-size: 12pt !important; color: black; }\n",
       ".c3align .+_bytes{font-family: \"Lucida Console\",monospace !important; font-size: 12pt !important; color: black; }\n",
       ".c3align .,_bytes{font-family: \"Lucida Console\",monospace !important; font-size: 12pt !important; color: black; }\n",
       ".c3align .-_bytes{font-family: \"Lucida Console\",monospace !important; font-size: 12pt !important; color: black; }\n",
       ".c3align .._bytes{font-family: \"Lucida Console\",monospace !important; font-size: 12pt !important; color: black; }\n",
       ".c3align ./_bytes{font-family: \"Lucida Console\",monospace !important; font-size: 12pt !important; color: black; }\n",
       ".c3align .0_bytes{font-family: \"Lucida Console\",monospace !important; font-size: 12pt !important; color: black; }\n",
       ".c3align .1_bytes{font-family: \"Lucida Console\",monospace !important; font-size: 12pt !important; color: black; }\n",
       ".c3align .2_bytes{font-family: \"Lucida Console\",monospace !important; font-size: 12pt !important; color: black; }\n",
       ".c3align .3_bytes{font-family: \"Lucida Console\",monospace !important; font-size: 12pt !important; color: black; }\n",
       ".c3align .4_bytes{font-family: \"Lucida Console\",monospace !important; font-size: 12pt !important; color: black; }\n",
       ".c3align .5_bytes{font-family: \"Lucida Console\",monospace !important; font-size: 12pt !important; color: black; }\n",
       ".c3align .6_bytes{font-family: \"Lucida Console\",monospace !important; font-size: 12pt !important; color: black; }\n",
       ".c3align .7_bytes{font-family: \"Lucida Console\",monospace !important; font-size: 12pt !important; color: black; }\n",
       ".c3align .8_bytes{font-family: \"Lucida Console\",monospace !important; font-size: 12pt !important; color: black; }\n",
       ".c3align .9_bytes{font-family: \"Lucida Console\",monospace !important; font-size: 12pt !important; color: black; }\n",
       ".c3align .:_bytes{font-family: \"Lucida Console\",monospace !important; font-size: 12pt !important; color: black; }\n",
       ".c3align .;_bytes{font-family: \"Lucida Console\",monospace !important; font-size: 12pt !important; color: black; }\n",
       ".c3align .<_bytes{font-family: \"Lucida Console\",monospace !important; font-size: 12pt !important; color: black; }\n",
       ".c3align .=_bytes{font-family: \"Lucida Console\",monospace !important; font-size: 12pt !important; color: black; }\n",
       ".c3align .>_bytes{font-family: \"Lucida Console\",monospace !important; font-size: 12pt !important; color: black; }\n",
       ".c3align .?_bytes{font-family: \"Lucida Console\",monospace !important; font-size: 12pt !important; color: black; }\n",
       ".c3align .@_bytes{font-family: \"Lucida Console\",monospace !important; font-size: 12pt !important; color: black; }\n",
       ".c3align .A_bytes{font-family: \"Lucida Console\",monospace !important; font-size: 12pt !important; color: black; }\n",
       ".c3align .B_bytes{font-family: \"Lucida Console\",monospace !important; font-size: 12pt !important; color: black; }\n",
       ".c3align .C_bytes{font-family: \"Lucida Console\",monospace !important; font-size: 12pt !important; color: black; }\n",
       ".c3align .D_bytes{font-family: \"Lucida Console\",monospace !important; font-size: 12pt !important; color: black; }\n",
       ".c3align .E_bytes{font-family: \"Lucida Console\",monospace !important; font-size: 12pt !important; color: black; }\n",
       ".c3align .F_bytes{font-family: \"Lucida Console\",monospace !important; font-size: 12pt !important; color: black; }\n",
       ".c3align .G_bytes{font-family: \"Lucida Console\",monospace !important; font-size: 12pt !important; color: black; }\n",
       ".c3align .H_bytes{font-family: \"Lucida Console\",monospace !important; font-size: 12pt !important; color: black; }\n",
       ".c3align .I_bytes{font-family: \"Lucida Console\",monospace !important; font-size: 12pt !important; color: black; }\n",
       ".c3align .J_bytes{font-family: \"Lucida Console\",monospace !important; font-size: 12pt !important; color: black; }\n",
       ".c3align .K_bytes{font-family: \"Lucida Console\",monospace !important; font-size: 12pt !important; color: black; }\n",
       ".c3align .L_bytes{font-family: \"Lucida Console\",monospace !important; font-size: 12pt !important; color: black; }\n",
       ".c3align .M_bytes{font-family: \"Lucida Console\",monospace !important; font-size: 12pt !important; color: black; }\n",
       ".c3align .N_bytes{font-family: \"Lucida Console\",monospace !important; font-size: 12pt !important; color: black; }\n",
       ".c3align .O_bytes{font-family: \"Lucida Console\",monospace !important; font-size: 12pt !important; color: black; }\n",
       ".c3align .P_bytes{font-family: \"Lucida Console\",monospace !important; font-size: 12pt !important; color: black; }\n",
       ".c3align .Q_bytes{font-family: \"Lucida Console\",monospace !important; font-size: 12pt !important; color: black; }\n",
       ".c3align .R_bytes{font-family: \"Lucida Console\",monospace !important; font-size: 12pt !important; color: black; }\n",
       ".c3align .S_bytes{font-family: \"Lucida Console\",monospace !important; font-size: 12pt !important; color: black; }\n",
       ".c3align .T_bytes{font-family: \"Lucida Console\",monospace !important; font-size: 12pt !important; color: black; }\n",
       ".c3align .U_bytes{font-family: \"Lucida Console\",monospace !important; font-size: 12pt !important; color: black; }\n",
       ".c3align .V_bytes{font-family: \"Lucida Console\",monospace !important; font-size: 12pt !important; color: black; }\n",
       ".c3align .W_bytes{font-family: \"Lucida Console\",monospace !important; font-size: 12pt !important; color: black; }\n",
       ".c3align .X_bytes{font-family: \"Lucida Console\",monospace !important; font-size: 12pt !important; color: black; }\n",
       ".c3align .Y_bytes{font-family: \"Lucida Console\",monospace !important; font-size: 12pt !important; color: black; }\n",
       ".c3align .Z_bytes{font-family: \"Lucida Console\",monospace !important; font-size: 12pt !important; color: black; }\n",
       ".c3align .[_bytes{font-family: \"Lucida Console\",monospace !important; font-size: 12pt !important; color: black; }\n",
       ".c3align .\\_bytes{font-family: \"Lucida Console\",monospace !important; font-size: 12pt !important; color: black; }\n",
       ".c3align .]_bytes{font-family: \"Lucida Console\",monospace !important; font-size: 12pt !important; color: black; }\n",
       ".c3align .^_bytes{font-family: \"Lucida Console\",monospace !important; font-size: 12pt !important; color: black; }\n",
       ".c3align .__bytes{font-family: \"Lucida Console\",monospace !important; font-size: 12pt !important; color: black; }\n",
       ".c3align .`_bytes{font-family: \"Lucida Console\",monospace !important; font-size: 12pt !important; color: black; }\n",
       ".c3align .a_bytes{font-family: \"Lucida Console\",monospace !important; font-size: 12pt !important; color: black; }\n",
       ".c3align .b_bytes{font-family: \"Lucida Console\",monospace !important; font-size: 12pt !important; color: black; }\n",
       ".c3align .c_bytes{font-family: \"Lucida Console\",monospace !important; font-size: 12pt !important; color: black; }\n",
       ".c3align .d_bytes{font-family: \"Lucida Console\",monospace !important; font-size: 12pt !important; color: black; }\n",
       ".c3align .e_bytes{font-family: \"Lucida Console\",monospace !important; font-size: 12pt !important; color: black; }\n",
       ".c3align .f_bytes{font-family: \"Lucida Console\",monospace !important; font-size: 12pt !important; color: black; }\n",
       ".c3align .g_bytes{font-family: \"Lucida Console\",monospace !important; font-size: 12pt !important; color: black; }\n",
       ".c3align .h_bytes{font-family: \"Lucida Console\",monospace !important; font-size: 12pt !important; color: black; }\n",
       ".c3align .i_bytes{font-family: \"Lucida Console\",monospace !important; font-size: 12pt !important; color: black; }\n",
       ".c3align .j_bytes{font-family: \"Lucida Console\",monospace !important; font-size: 12pt !important; color: black; }\n",
       ".c3align .k_bytes{font-family: \"Lucida Console\",monospace !important; font-size: 12pt !important; color: black; }\n",
       ".c3align .l_bytes{font-family: \"Lucida Console\",monospace !important; font-size: 12pt !important; color: black; }\n",
       ".c3align .m_bytes{font-family: \"Lucida Console\",monospace !important; font-size: 12pt !important; color: black; }\n",
       ".c3align .n_bytes{font-family: \"Lucida Console\",monospace !important; font-size: 12pt !important; color: black; }\n",
       ".c3align .o_bytes{font-family: \"Lucida Console\",monospace !important; font-size: 12pt !important; color: black; }\n",
       ".c3align .p_bytes{font-family: \"Lucida Console\",monospace !important; font-size: 12pt !important; color: black; }\n",
       ".c3align .q_bytes{font-family: \"Lucida Console\",monospace !important; font-size: 12pt !important; color: black; }\n",
       ".c3align .r_bytes{font-family: \"Lucida Console\",monospace !important; font-size: 12pt !important; color: black; }\n",
       ".c3align .s_bytes{font-family: \"Lucida Console\",monospace !important; font-size: 12pt !important; color: black; }\n",
       ".c3align .t_bytes{font-family: \"Lucida Console\",monospace !important; font-size: 12pt !important; color: black; }\n",
       ".c3align .u_bytes{font-family: \"Lucida Console\",monospace !important; font-size: 12pt !important; color: black; }\n",
       ".c3align .v_bytes{font-family: \"Lucida Console\",monospace !important; font-size: 12pt !important; color: black; }\n",
       ".c3align .w_bytes{font-family: \"Lucida Console\",monospace !important; font-size: 12pt !important; color: black; }\n",
       ".c3align .x_bytes{font-family: \"Lucida Console\",monospace !important; font-size: 12pt !important; color: black; }\n",
       ".c3align .y_bytes{font-family: \"Lucida Console\",monospace !important; font-size: 12pt !important; color: black; }\n",
       ".c3align .z_bytes{font-family: \"Lucida Console\",monospace !important; font-size: 12pt !important; color: black; }\n",
       ".c3align .{_bytes{font-family: \"Lucida Console\",monospace !important; font-size: 12pt !important; color: black; }\n",
       ".c3align .|_bytes{font-family: \"Lucida Console\",monospace !important; font-size: 12pt !important; color: black; }\n",
       ".c3align .}_bytes{font-family: \"Lucida Console\",monospace !important; font-size: 12pt !important; color: black; }\n",
       ".c3align .~_bytes{font-family: \"Lucida Console\",monospace !important; font-size: 12pt !important; color: black; }\n",
       ".c3align ._bytes{font-family: \"Lucida Console\",monospace !important; font-size: 12pt !important; color: black; }\n",
       ".c3align ._bytes{font-family: \"Lucida Console\",monospace !important; font-size: 12pt !important; color: black; }\n",
       ".c3align ._bytes{font-family: \"Lucida Console\",monospace !important; font-size: 12pt !important; color: black; }\n",
       ".c3align ._bytes{font-family: \"Lucida Console\",monospace !important; font-size: 12pt !important; color: black; }\n",
       ".c3align ._bytes{font-family: \"Lucida Console\",monospace !important; font-size: 12pt !important; color: black; }\n",
       ".c3align ._bytes{font-family: \"Lucida Console\",monospace !important; font-size: 12pt !important; color: black; }\n",
       ".c3align .",
       "_bytes{font-family: \"Lucida Console\",monospace !important; font-size: 12pt !important; color: black; }\n",
       ".c3align ._bytes{font-family: \"Lucida Console\",monospace !important; font-size: 12pt !important; color: black; }\n",
       ".c3align ._bytes{font-family: \"Lucida Console\",monospace !important; font-size: 12pt !important; color: black; }\n",
       ".c3align ._bytes{font-family: \"Lucida Console\",monospace !important; font-size: 12pt !important; color: black; }\n",
       ".c3align ._bytes{font-family: \"Lucida Console\",monospace !important; font-size: 12pt !important; color: black; }\n",
       ".c3align ._bytes{font-family: \"Lucida Console\",monospace !important; font-size: 12pt !important; color: black; }\n",
       ".c3align ._bytes{font-family: \"Lucida Console\",monospace !important; font-size: 12pt !important; color: black; }\n",
       ".c3align ._bytes{font-family: \"Lucida Console\",monospace !important; font-size: 12pt !important; color: black; }\n",
       ".c3align ._bytes{font-family: \"Lucida Console\",monospace !important; font-size: 12pt !important; color: black; }\n",
       ".c3align ._bytes{font-family: \"Lucida Console\",monospace !important; font-size: 12pt !important; color: black; }\n",
       ".c3align ._bytes{font-family: \"Lucida Console\",monospace !important; font-size: 12pt !important; color: black; }\n",
       ".c3align ._bytes{font-family: \"Lucida Console\",monospace !important; font-size: 12pt !important; color: black; }\n",
       ".c3align ._bytes{font-family: \"Lucida Console\",monospace !important; font-size: 12pt !important; color: black; }\n",
       ".c3align ._bytes{font-family: \"Lucida Console\",monospace !important; font-size: 12pt !important; color: black; }\n",
       ".c3align ._bytes{font-family: \"Lucida Console\",monospace !important; font-size: 12pt !important; color: black; }\n",
       ".c3align ._bytes{font-family: \"Lucida Console\",monospace !important; font-size: 12pt !important; color: black; }\n",
       ".c3align ._bytes{font-family: \"Lucida Console\",monospace !important; font-size: 12pt !important; color: black; }\n",
       ".c3align ._bytes{font-family: \"Lucida Console\",monospace !important; font-size: 12pt !important; color: black; }\n",
       ".c3align ._bytes{font-family: \"Lucida Console\",monospace !important; font-size: 12pt !important; color: black; }\n",
       ".c3align ._bytes{font-family: \"Lucida Console\",monospace !important; font-size: 12pt !important; color: black; }\n",
       ".c3align ._bytes{font-family: \"Lucida Console\",monospace !important; font-size: 12pt !important; color: black; }\n",
       ".c3align ._bytes{font-family: \"Lucida Console\",monospace !important; font-size: 12pt !important; color: black; }\n",
       ".c3align ._bytes{font-family: \"Lucida Console\",monospace !important; font-size: 12pt !important; color: black; }\n",
       ".c3align ._bytes{font-family: \"Lucida Console\",monospace !important; font-size: 12pt !important; color: black; }\n",
       ".c3align ._bytes{font-family: \"Lucida Console\",monospace !important; font-size: 12pt !important; color: black; }\n",
       ".c3align ._bytes{font-family: \"Lucida Console\",monospace !important; font-size: 12pt !important; color: black; }\n",
       ".c3align ._bytes{font-family: \"Lucida Console\",monospace !important; font-size: 12pt !important; color: black; }\n",
       ".c3align . _bytes{font-family: \"Lucida Console\",monospace !important; font-size: 12pt !important; color: black; }\n",
       ".c3align .¡_bytes{font-family: \"Lucida Console\",monospace !important; font-size: 12pt !important; color: black; }\n",
       ".c3align .¢_bytes{font-family: \"Lucida Console\",monospace !important; font-size: 12pt !important; color: black; }\n",
       ".c3align .£_bytes{font-family: \"Lucida Console\",monospace !important; font-size: 12pt !important; color: black; }\n",
       ".c3align .¤_bytes{font-family: \"Lucida Console\",monospace !important; font-size: 12pt !important; color: black; }\n",
       ".c3align .¥_bytes{font-family: \"Lucida Console\",monospace !important; font-size: 12pt !important; color: black; }\n",
       ".c3align .¦_bytes{font-family: \"Lucida Console\",monospace !important; font-size: 12pt !important; color: black; }\n",
       ".c3align .§_bytes{font-family: \"Lucida Console\",monospace !important; font-size: 12pt !important; color: black; }\n",
       ".c3align .¨_bytes{font-family: \"Lucida Console\",monospace !important; font-size: 12pt !important; color: black; }\n",
       ".c3align .©_bytes{font-family: \"Lucida Console\",monospace !important; font-size: 12pt !important; color: black; }\n",
       ".c3align .ª_bytes{font-family: \"Lucida Console\",monospace !important; font-size: 12pt !important; color: black; }\n",
       ".c3align .«_bytes{font-family: \"Lucida Console\",monospace !important; font-size: 12pt !important; color: black; }\n",
       ".c3align .¬_bytes{font-family: \"Lucida Console\",monospace !important; font-size: 12pt !important; color: black; }\n",
       ".c3align .­_bytes{font-family: \"Lucida Console\",monospace !important; font-size: 12pt !important; color: black; }\n",
       ".c3align .®_bytes{font-family: \"Lucida Console\",monospace !important; font-size: 12pt !important; color: black; }\n",
       ".c3align .¯_bytes{font-family: \"Lucida Console\",monospace !important; font-size: 12pt !important; color: black; }\n",
       ".c3align .°_bytes{font-family: \"Lucida Console\",monospace !important; font-size: 12pt !important; color: black; }\n",
       ".c3align .±_bytes{font-family: \"Lucida Console\",monospace !important; font-size: 12pt !important; color: black; }\n",
       ".c3align .²_bytes{font-family: \"Lucida Console\",monospace !important; font-size: 12pt !important; color: black; }\n",
       ".c3align .³_bytes{font-family: \"Lucida Console\",monospace !important; font-size: 12pt !important; color: black; }\n",
       ".c3align .´_bytes{font-family: \"Lucida Console\",monospace !important; font-size: 12pt !important; color: black; }\n",
       ".c3align .µ_bytes{font-family: \"Lucida Console\",monospace !important; font-size: 12pt !important; color: black; }\n",
       ".c3align .¶_bytes{font-family: \"Lucida Console\",monospace !important; font-size: 12pt !important; color: black; }\n",
       ".c3align .·_bytes{font-family: \"Lucida Console\",monospace !important; font-size: 12pt !important; color: black; }\n",
       ".c3align .¸_bytes{font-family: \"Lucida Console\",monospace !important; font-size: 12pt !important; color: black; }\n",
       ".c3align .¹_bytes{font-family: \"Lucida Console\",monospace !important; font-size: 12pt !important; color: black; }\n",
       ".c3align .º_bytes{font-family: \"Lucida Console\",monospace !important; font-size: 12pt !important; color: black; }\n",
       ".c3align .»_bytes{font-family: \"Lucida Console\",monospace !important; font-size: 12pt !important; color: black; }\n",
       ".c3align .¼_bytes{font-family: \"Lucida Console\",monospace !important; font-size: 12pt !important; color: black; }\n",
       ".c3align .½_bytes{font-family: \"Lucida Console\",monospace !important; font-size: 12pt !important; color: black; }\n",
       ".c3align .¾_bytes{font-family: \"Lucida Console\",monospace !important; font-size: 12pt !important; color: black; }\n",
       ".c3align .¿_bytes{font-family: \"Lucida Console\",monospace !important; font-size: 12pt !important; color: black; }\n",
       ".c3align .À_bytes{font-family: \"Lucida Console\",monospace !important; font-size: 12pt !important; color: black; }\n",
       ".c3align .Á_bytes{font-family: \"Lucida Console\",monospace !important; font-size: 12pt !important; color: black; }\n",
       ".c3align .Â_bytes{font-family: \"Lucida Console\",monospace !important; font-size: 12pt !important; color: black; }\n",
       ".c3align .Ã_bytes{font-family: \"Lucida Console\",monospace !important; font-size: 12pt !important; color: black; }\n",
       ".c3align .Ä_bytes{font-family: \"Lucida Console\",monospace !important; font-size: 12pt !important; color: black; }\n",
       ".c3align .Å_bytes{font-family: \"Lucida Console\",monospace !important; font-size: 12pt !important; color: black; }\n",
       ".c3align .Æ_bytes{font-family: \"Lucida Console\",monospace !important; font-size: 12pt !important; color: black; }\n",
       ".c3align .Ç_bytes{font-family: \"Lucida Console\",monospace !important; font-size: 12pt !important; color: black; }\n",
       ".c3align .È_bytes{font-family: \"Lucida Console\",monospace !important; font-size: 12pt !important; color: black; }\n",
       ".c3align .É_bytes{font-family: \"Lucida Console\",monospace !important; font-size: 12pt !important; color: black; }\n",
       ".c3align .Ê_bytes{font-family: \"Lucida Console\",monospace !important; font-size: 12pt !important; color: black; }\n",
       ".c3align .Ë_bytes{font-family: \"Lucida Console\",monospace !important; font-size: 12pt !important; color: black; }\n",
       ".c3align .Ì_bytes{font-family: \"Lucida Console\",monospace !important; font-size: 12pt !important; color: black; }\n",
       ".c3align .Í_bytes{font-family: \"Lucida Console\",monospace !important; font-size: 12pt !important; color: black; }\n",
       ".c3align .Î_bytes{font-family: \"Lucida Console\",monospace !important; font-size: 12pt !important; color: black; }\n",
       ".c3align .Ï_bytes{font-family: \"Lucida Console\",monospace !important; font-size: 12pt !important; color: black; }\n",
       ".c3align .Ð_bytes{font-family: \"Lucida Console\",monospace !important; font-size: 12pt !important; color: black; }\n",
       ".c3align .Ñ_bytes{font-family: \"Lucida Console\",monospace !important; font-size: 12pt !important; color: black; }\n",
       ".c3align .Ò_bytes{font-family: \"Lucida Console\",monospace !important; font-size: 12pt !important; color: black; }\n",
       ".c3align .Ó_bytes{font-family: \"Lucida Console\",monospace !important; font-size: 12pt !important; color: black; }\n",
       ".c3align .Ô_bytes{font-family: \"Lucida Console\",monospace !important; font-size: 12pt !important; color: black; }\n",
       ".c3align .Õ_bytes{font-family: \"Lucida Console\",monospace !important; font-size: 12pt !important; color: black; }\n",
       ".c3align .Ö_bytes{font-family: \"Lucida Console\",monospace !important; font-size: 12pt !important; color: black; }\n",
       ".c3align .×_bytes{font-family: \"Lucida Console\",monospace !important; font-size: 12pt !important; color: black; }\n",
       ".c3align .Ø_bytes{font-family: \"Lucida Console\",monospace !important; font-size: 12pt !important; color: black; }\n",
       ".c3align .Ù_bytes{font-family: \"Lucida Console\",monospace !important; font-size: 12pt !important; color: black; }\n",
       ".c3align .Ú_bytes{font-family: \"Lucida Console\",monospace !important; font-size: 12pt !important; color: black; }\n",
       ".c3align .Û_bytes{font-family: \"Lucida Console\",monospace !important; font-size: 12pt !important; color: black; }\n",
       ".c3align .Ü_bytes{font-family: \"Lucida Console\",monospace !important; font-size: 12pt !important; color: black; }\n",
       ".c3align .Ý_bytes{font-family: \"Lucida Console\",monospace !important; font-size: 12pt !important; color: black; }\n",
       ".c3align .Þ_bytes{font-family: \"Lucida Console\",monospace !important; font-size: 12pt !important; color: black; }\n",
       ".c3align .ß_bytes{font-family: \"Lucida Console\",monospace !important; font-size: 12pt !important; color: black; }\n",
       ".c3align .à_bytes{font-family: \"Lucida Console\",monospace !important; font-size: 12pt !important; color: black; }\n",
       ".c3align .á_bytes{font-family: \"Lucida Console\",monospace !important; font-size: 12pt !important; color: black; }\n",
       ".c3align .â_bytes{font-family: \"Lucida Console\",monospace !important; font-size: 12pt !important; color: black; }\n",
       ".c3align .ã_bytes{font-family: \"Lucida Console\",monospace !important; font-size: 12pt !important; color: black; }\n",
       ".c3align .ä_bytes{font-family: \"Lucida Console\",monospace !important; font-size: 12pt !important; color: black; }\n",
       ".c3align .å_bytes{font-family: \"Lucida Console\",monospace !important; font-size: 12pt !important; color: black; }\n",
       ".c3align .æ_bytes{font-family: \"Lucida Console\",monospace !important; font-size: 12pt !important; color: black; }\n",
       ".c3align .ç_bytes{font-family: \"Lucida Console\",monospace !important; font-size: 12pt !important; color: black; }\n",
       ".c3align .è_bytes{font-family: \"Lucida Console\",monospace !important; font-size: 12pt !important; color: black; }\n",
       ".c3align .é_bytes{font-family: \"Lucida Console\",monospace !important; font-size: 12pt !important; color: black; }\n",
       ".c3align .ê_bytes{font-family: \"Lucida Console\",monospace !important; font-size: 12pt !important; color: black; }\n",
       ".c3align .ë_bytes{font-family: \"Lucida Console\",monospace !important; font-size: 12pt !important; color: black; }\n",
       ".c3align .ì_bytes{font-family: \"Lucida Console\",monospace !important; font-size: 12pt !important; color: black; }\n",
       ".c3align .í_bytes{font-family: \"Lucida Console\",monospace !important; font-size: 12pt !important; color: black; }\n",
       ".c3align .î_bytes{font-family: \"Lucida Console\",monospace !important; font-size: 12pt !important; color: black; }\n",
       ".c3align .ï_bytes{font-family: \"Lucida Console\",monospace !important; font-size: 12pt !important; color: black; }\n",
       ".c3align .ð_bytes{font-family: \"Lucida Console\",monospace !important; font-size: 12pt !important; color: black; }\n",
       ".c3align .ñ_bytes{font-family: \"Lucida Console\",monospace !important; font-size: 12pt !important; color: black; }\n",
       ".c3align .ò_bytes{font-family: \"Lucida Console\",monospace !important; font-size: 12pt !important; color: black; }\n",
       ".c3align .ó_bytes{font-family: \"Lucida Console\",monospace !important; font-size: 12pt !important; color: black; }\n",
       ".c3align .ô_bytes{font-family: \"Lucida Console\",monospace !important; font-size: 12pt !important; color: black; }\n",
       ".c3align .õ_bytes{font-family: \"Lucida Console\",monospace !important; font-size: 12pt !important; color: black; }\n",
       ".c3align .ö_bytes{font-family: \"Lucida Console\",monospace !important; font-size: 12pt !important; color: black; }\n",
       ".c3align .÷_bytes{font-family: \"Lucida Console\",monospace !important; font-size: 12pt !important; color: black; }\n",
       ".c3align .ø_bytes{font-family: \"Lucida Console\",monospace !important; font-size: 12pt !important; color: black; }\n",
       ".c3align .ù_bytes{font-family: \"Lucida Console\",monospace !important; font-size: 12pt !important; color: black; }\n",
       ".c3align .ú_bytes{font-family: \"Lucida Console\",monospace !important; font-size: 12pt !important; color: black; }\n",
       ".c3align .û_bytes{font-family: \"Lucida Console\",monospace !important; font-size: 12pt !important; color: black; }\n",
       ".c3align .ü_bytes{font-family: \"Lucida Console\",monospace !important; font-size: 12pt !important; color: black; }\n",
       ".c3align .ý_bytes{font-family: \"Lucida Console\",monospace !important; font-size: 12pt !important; color: black; }\n",
       ".c3align .þ_bytes{font-family: \"Lucida Console\",monospace !important; font-size: 12pt !important; color: black; }\n",
       ".c3align .ÿ_bytes{font-family: \"Lucida Console\",monospace !important; font-size: 12pt !important; color: black; }\n",
       ".c3align .terminal_ambig_bytes{font-family: \"Lucida Console\",monospace !important; font-size: 12pt !important; color: black; }\n",
       ".c3align .ambig_bytes{font-family: \"Lucida Console\",monospace !important; font-size: 12pt !important; color: black; }\n",
       "</style>\n",
       "<div class=\"c3align\">\n",
       "<table>\n",
       "<tr class=\"num_row\"><td></td><td><b>0</b></td></tr>\n",
       "<tr><td class=\"label\">Human</td><td><span class=\"T_bytes\">T</span><span class=\"G_bytes\">G</span><span class=\"T_bytes\">T</span><span class=\"G_bytes\">G</span><span class=\"G_bytes\">G</span><span class=\"C_bytes\">C</span><span class=\"A_bytes\">A</span><span class=\"C_bytes\">C</span><span class=\"A_bytes\">A</span><span class=\"A_bytes\">A</span><span class=\"A_bytes\">A</span><span class=\"T_bytes\">T</span><span class=\"A_bytes\">A</span><span class=\"C_bytes\">C</span><span class=\"T_bytes\">T</span><span class=\"C_bytes\">C</span><span class=\"A_bytes\">A</span><span class=\"T_bytes\">T</span><span class=\"G_bytes\">G</span><span class=\"C_bytes\">C</span><span class=\"C_bytes\">C</span><span class=\"A_bytes\">A</span><span class=\"G_bytes\">G</span><span class=\"C_bytes\">C</span><span class=\"T_bytes\">T</span><span class=\"C_bytes\">C</span><span class=\"A_bytes\">A</span><span class=\"T_bytes\">T</span><span class=\"T_bytes\">T</span><span class=\"A_bytes\">A</span><span class=\"C_bytes\">C</span><span class=\"A_bytes\">A</span><span class=\"G_bytes\">G</span><span class=\"C_bytes\">C</span><span class=\"A_bytes\">A</span><span class=\"T_bytes\">T</span><span class=\"G_bytes\">G</span><span class=\"A_bytes\">A</span><span class=\"G_bytes\">G</span><span class=\"A_bytes\">A</span><span class=\"A_bytes\">A</span><span class=\"C_bytes\">C</span><span class=\"A_bytes\">A</span><span class=\"G_bytes\">G</span><span class=\"C_bytes\">C</span><span class=\"A_bytes\">A</span><span class=\"G_bytes\">G</span><span class=\"T_bytes\">T</span><span class=\"T_bytes\">T</span><span class=\"T_bytes\">T</span><span class=\"A_bytes\">A</span><span class=\"T_bytes\">T</span><span class=\"T_bytes\">T</span><span class=\"A_bytes\">A</span><span class=\"C_bytes\">C</span><span class=\"T_bytes\">T</span><span class=\"C_bytes\">C</span><span class=\"A_bytes\">A</span><span class=\"C_bytes\">C</span><span class=\"T_bytes\">T</span></td></tr>\n",
       "<tr><td class=\"label\">Mouse</td><td><span class=\"T_bytes\">.</span><span class=\"G_bytes\">.</span><span class=\"T_bytes\">.</span><span class=\"G_bytes\">.</span><span class=\"G_bytes\">.</span><span class=\"C_bytes\">.</span><span class=\"A_bytes\">.</span><span class=\"C_bytes\">.</span><span class=\"A_bytes\">.</span><span class=\"G_bytes\">G</span><span class=\"A_bytes\">.</span><span class=\"T_bytes\">.</span><span class=\"G_bytes\">G</span><span class=\"C_bytes\">.</span><span class=\"T_bytes\">.</span><span class=\"C_bytes\">.</span><span class=\"A_bytes\">.</span><span class=\"T_bytes\">.</span><span class=\"G_bytes\">.</span><span class=\"C_bytes\">.</span><span class=\"C_bytes\">.</span><span class=\"A_bytes\">.</span><span class=\"G_bytes\">.</span><span class=\"C_bytes\">.</span><span class=\"T_bytes\">.</span><span class=\"C_bytes\">.</span><span class=\"A_bytes\">.</span><span class=\"T_bytes\">.</span><span class=\"T_bytes\">.</span><span class=\"A_bytes\">.</span><span class=\"C_bytes\">.</span><span class=\"A_bytes\">.</span><span class=\"G_bytes\">.</span><span class=\"C_bytes\">.</span><span class=\"C_bytes\">C</span><span class=\"T_bytes\">.</span><span class=\"G_bytes\">.</span><span class=\"A_bytes\">.</span><span class=\"G_bytes\">.</span><span class=\"A_bytes\">.</span><span class=\"C_bytes\">C</span><span class=\"C_bytes\">.</span><span class=\"A_bytes\">.</span><span class=\"G_bytes\">.</span><span class=\"C_bytes\">.</span><span class=\"A_bytes\">.</span><span class=\"G_bytes\">.</span><span class=\"T_bytes\">.</span><span class=\"T_bytes\">.</span><span class=\"T_bytes\">.</span><span class=\"A_bytes\">.</span><span class=\"T_bytes\">.</span><span class=\"T_bytes\">.</span><span class=\"G_bytes\">G</span><span class=\"C_bytes\">.</span><span class=\"T_bytes\">.</span><span class=\"C_bytes\">.</span><span class=\"A_bytes\">.</span><span class=\"T_bytes\">T</span><span class=\"T_bytes\">.</span></td></tr>\n",
       "</table>\n",
       "<p><i>2 x 2532 (truncated to 2 x 60) bytes alignment</i></p>\n",
       "</div>"
      ],
      "text/plain": [
       "2 x 2532 alignment: Human[TGTGGCACAAA...], Mouse[TGTGGCACAGA...]"
      ]
     },
     "execution_count": 42,
     "metadata": {},
     "output_type": "execute_result"
    }
   ],
   "source": [
    "from cogent3 import load_aligned_seqs\n",
    "\n",
    "aln = load_aligned_seqs(\"data/long_testseqs.fasta\")\n",
    "aln.take_seqs([\"Human\", \"Mouse\"])"
   ]
  },
  {
   "cell_type": "code",
   "execution_count": 43,
   "id": "8226c56e",
   "metadata": {
    "execution": {
     "iopub.execute_input": "2023-01-15T01:16:07.687589Z",
     "iopub.status.busy": "2023-01-15T01:16:07.687050Z",
     "iopub.status.idle": "2023-01-15T01:16:07.696167Z",
     "shell.execute_reply": "2023-01-15T01:16:07.696535Z"
    }
   },
   "outputs": [
    {
     "data": {
      "text/html": [
       "<style>\n",
       ".c3align td { border: none !important; text-align: left !important; }\n",
       ".c3align tr:not(.num_row) td span {margin: 0 2px;}\n",
       ".c3align tr:nth-child(even) {background: #f7f7f7;}\n",
       ".c3align .num_row {background-color:rgba(161, 195, 209, 0.5) !important; border-top: solid 1px black; }\n",
       ".c3align .label { font-size: 12pt ; text-align: right !important; color: black !important; padding: 0 4px; display: table-cell !important; font-weight: normal !important; }\n",
       ".c3align .\u0000_bytes{font-family: \"Lucida Console\",monospace !important; font-size: 12pt !important; color: black; }\n",
       ".c3align .\u0001_bytes{font-family: \"Lucida Console\",monospace !important; font-size: 12pt !important; color: black; }\n",
       ".c3align .\u0002_bytes{font-family: \"Lucida Console\",monospace !important; font-size: 12pt !important; color: black; }\n",
       ".c3align .\u0003_bytes{font-family: \"Lucida Console\",monospace !important; font-size: 12pt !important; color: black; }\n",
       ".c3align .\u0004_bytes{font-family: \"Lucida Console\",monospace !important; font-size: 12pt !important; color: black; }\n",
       ".c3align .\u0005_bytes{font-family: \"Lucida Console\",monospace !important; font-size: 12pt !important; color: black; }\n",
       ".c3align .\u0006_bytes{font-family: \"Lucida Console\",monospace !important; font-size: 12pt !important; color: black; }\n",
       ".c3align .\u0007_bytes{font-family: \"Lucida Console\",monospace !important; font-size: 12pt !important; color: black; }\n",
       ".c3align .\b_bytes{font-family: \"Lucida Console\",monospace !important; font-size: 12pt !important; color: black; }\n",
       ".c3align .\t_bytes{font-family: \"Lucida Console\",monospace !important; font-size: 12pt !important; color: black; }\n",
       ".c3align .\n",
       "_bytes{font-family: \"Lucida Console\",monospace !important; font-size: 12pt !important; color: black; }\n",
       ".c3align .\u000b",
       "_bytes{font-family: \"Lucida Console\",monospace !important; font-size: 12pt !important; color: black; }\n",
       ".c3align .\f",
       "_bytes{font-family: \"Lucida Console\",monospace !important; font-size: 12pt !important; color: black; }\n",
       ".c3align .\r",
       "_bytes{font-family: \"Lucida Console\",monospace !important; font-size: 12pt !important; color: black; }\n",
       ".c3align .\u000e_bytes{font-family: \"Lucida Console\",monospace !important; font-size: 12pt !important; color: black; }\n",
       ".c3align .\u000f_bytes{font-family: \"Lucida Console\",monospace !important; font-size: 12pt !important; color: black; }\n",
       ".c3align .\u0010_bytes{font-family: \"Lucida Console\",monospace !important; font-size: 12pt !important; color: black; }\n",
       ".c3align .\u0011_bytes{font-family: \"Lucida Console\",monospace !important; font-size: 12pt !important; color: black; }\n",
       ".c3align .\u0012_bytes{font-family: \"Lucida Console\",monospace !important; font-size: 12pt !important; color: black; }\n",
       ".c3align .\u0013_bytes{font-family: \"Lucida Console\",monospace !important; font-size: 12pt !important; color: black; }\n",
       ".c3align .\u0014_bytes{font-family: \"Lucida Console\",monospace !important; font-size: 12pt !important; color: black; }\n",
       ".c3align .\u0015_bytes{font-family: \"Lucida Console\",monospace !important; font-size: 12pt !important; color: black; }\n",
       ".c3align .\u0016_bytes{font-family: \"Lucida Console\",monospace !important; font-size: 12pt !important; color: black; }\n",
       ".c3align .\u0017_bytes{font-family: \"Lucida Console\",monospace !important; font-size: 12pt !important; color: black; }\n",
       ".c3align .\u0018_bytes{font-family: \"Lucida Console\",monospace !important; font-size: 12pt !important; color: black; }\n",
       ".c3align .\u0019_bytes{font-family: \"Lucida Console\",monospace !important; font-size: 12pt !important; color: black; }\n",
       ".c3align .\u001a_bytes{font-family: \"Lucida Console\",monospace !important; font-size: 12pt !important; color: black; }\n",
       ".c3align .\u001b_bytes{font-family: \"Lucida Console\",monospace !important; font-size: 12pt !important; color: black; }\n",
       ".c3align .\u001c",
       "_bytes{font-family: \"Lucida Console\",monospace !important; font-size: 12pt !important; color: black; }\n",
       ".c3align .\u001d",
       "_bytes{font-family: \"Lucida Console\",monospace !important; font-size: 12pt !important; color: black; }\n",
       ".c3align .\u001e",
       "_bytes{font-family: \"Lucida Console\",monospace !important; font-size: 12pt !important; color: black; }\n",
       ".c3align .\u001f_bytes{font-family: \"Lucida Console\",monospace !important; font-size: 12pt !important; color: black; }\n",
       ".c3align . _bytes{font-family: \"Lucida Console\",monospace !important; font-size: 12pt !important; color: black; }\n",
       ".c3align .!_bytes{font-family: \"Lucida Console\",monospace !important; font-size: 12pt !important; color: black; }\n",
       ".c3align .\"_bytes{font-family: \"Lucida Console\",monospace !important; font-size: 12pt !important; color: black; }\n",
       ".c3align .#_bytes{font-family: \"Lucida Console\",monospace !important; font-size: 12pt !important; color: black; }\n",
       ".c3align .$_bytes{font-family: \"Lucida Console\",monospace !important; font-size: 12pt !important; color: black; }\n",
       ".c3align .%_bytes{font-family: \"Lucida Console\",monospace !important; font-size: 12pt !important; color: black; }\n",
       ".c3align .&_bytes{font-family: \"Lucida Console\",monospace !important; font-size: 12pt !important; color: black; }\n",
       ".c3align .'_bytes{font-family: \"Lucida Console\",monospace !important; font-size: 12pt !important; color: black; }\n",
       ".c3align .(_bytes{font-family: \"Lucida Console\",monospace !important; font-size: 12pt !important; color: black; }\n",
       ".c3align .)_bytes{font-family: \"Lucida Console\",monospace !important; font-size: 12pt !important; color: black; }\n",
       ".c3align .*_bytes{font-family: \"Lucida Console\",monospace !important; font-size: 12pt !important; color: black; }\n",
       ".c3align .+_bytes{font-family: \"Lucida Console\",monospace !important; font-size: 12pt !important; color: black; }\n",
       ".c3align .,_bytes{font-family: \"Lucida Console\",monospace !important; font-size: 12pt !important; color: black; }\n",
       ".c3align .-_bytes{font-family: \"Lucida Console\",monospace !important; font-size: 12pt !important; color: black; }\n",
       ".c3align .._bytes{font-family: \"Lucida Console\",monospace !important; font-size: 12pt !important; color: black; }\n",
       ".c3align ./_bytes{font-family: \"Lucida Console\",monospace !important; font-size: 12pt !important; color: black; }\n",
       ".c3align .0_bytes{font-family: \"Lucida Console\",monospace !important; font-size: 12pt !important; color: black; }\n",
       ".c3align .1_bytes{font-family: \"Lucida Console\",monospace !important; font-size: 12pt !important; color: black; }\n",
       ".c3align .2_bytes{font-family: \"Lucida Console\",monospace !important; font-size: 12pt !important; color: black; }\n",
       ".c3align .3_bytes{font-family: \"Lucida Console\",monospace !important; font-size: 12pt !important; color: black; }\n",
       ".c3align .4_bytes{font-family: \"Lucida Console\",monospace !important; font-size: 12pt !important; color: black; }\n",
       ".c3align .5_bytes{font-family: \"Lucida Console\",monospace !important; font-size: 12pt !important; color: black; }\n",
       ".c3align .6_bytes{font-family: \"Lucida Console\",monospace !important; font-size: 12pt !important; color: black; }\n",
       ".c3align .7_bytes{font-family: \"Lucida Console\",monospace !important; font-size: 12pt !important; color: black; }\n",
       ".c3align .8_bytes{font-family: \"Lucida Console\",monospace !important; font-size: 12pt !important; color: black; }\n",
       ".c3align .9_bytes{font-family: \"Lucida Console\",monospace !important; font-size: 12pt !important; color: black; }\n",
       ".c3align .:_bytes{font-family: \"Lucida Console\",monospace !important; font-size: 12pt !important; color: black; }\n",
       ".c3align .;_bytes{font-family: \"Lucida Console\",monospace !important; font-size: 12pt !important; color: black; }\n",
       ".c3align .<_bytes{font-family: \"Lucida Console\",monospace !important; font-size: 12pt !important; color: black; }\n",
       ".c3align .=_bytes{font-family: \"Lucida Console\",monospace !important; font-size: 12pt !important; color: black; }\n",
       ".c3align .>_bytes{font-family: \"Lucida Console\",monospace !important; font-size: 12pt !important; color: black; }\n",
       ".c3align .?_bytes{font-family: \"Lucida Console\",monospace !important; font-size: 12pt !important; color: black; }\n",
       ".c3align .@_bytes{font-family: \"Lucida Console\",monospace !important; font-size: 12pt !important; color: black; }\n",
       ".c3align .A_bytes{font-family: \"Lucida Console\",monospace !important; font-size: 12pt !important; color: black; }\n",
       ".c3align .B_bytes{font-family: \"Lucida Console\",monospace !important; font-size: 12pt !important; color: black; }\n",
       ".c3align .C_bytes{font-family: \"Lucida Console\",monospace !important; font-size: 12pt !important; color: black; }\n",
       ".c3align .D_bytes{font-family: \"Lucida Console\",monospace !important; font-size: 12pt !important; color: black; }\n",
       ".c3align .E_bytes{font-family: \"Lucida Console\",monospace !important; font-size: 12pt !important; color: black; }\n",
       ".c3align .F_bytes{font-family: \"Lucida Console\",monospace !important; font-size: 12pt !important; color: black; }\n",
       ".c3align .G_bytes{font-family: \"Lucida Console\",monospace !important; font-size: 12pt !important; color: black; }\n",
       ".c3align .H_bytes{font-family: \"Lucida Console\",monospace !important; font-size: 12pt !important; color: black; }\n",
       ".c3align .I_bytes{font-family: \"Lucida Console\",monospace !important; font-size: 12pt !important; color: black; }\n",
       ".c3align .J_bytes{font-family: \"Lucida Console\",monospace !important; font-size: 12pt !important; color: black; }\n",
       ".c3align .K_bytes{font-family: \"Lucida Console\",monospace !important; font-size: 12pt !important; color: black; }\n",
       ".c3align .L_bytes{font-family: \"Lucida Console\",monospace !important; font-size: 12pt !important; color: black; }\n",
       ".c3align .M_bytes{font-family: \"Lucida Console\",monospace !important; font-size: 12pt !important; color: black; }\n",
       ".c3align .N_bytes{font-family: \"Lucida Console\",monospace !important; font-size: 12pt !important; color: black; }\n",
       ".c3align .O_bytes{font-family: \"Lucida Console\",monospace !important; font-size: 12pt !important; color: black; }\n",
       ".c3align .P_bytes{font-family: \"Lucida Console\",monospace !important; font-size: 12pt !important; color: black; }\n",
       ".c3align .Q_bytes{font-family: \"Lucida Console\",monospace !important; font-size: 12pt !important; color: black; }\n",
       ".c3align .R_bytes{font-family: \"Lucida Console\",monospace !important; font-size: 12pt !important; color: black; }\n",
       ".c3align .S_bytes{font-family: \"Lucida Console\",monospace !important; font-size: 12pt !important; color: black; }\n",
       ".c3align .T_bytes{font-family: \"Lucida Console\",monospace !important; font-size: 12pt !important; color: black; }\n",
       ".c3align .U_bytes{font-family: \"Lucida Console\",monospace !important; font-size: 12pt !important; color: black; }\n",
       ".c3align .V_bytes{font-family: \"Lucida Console\",monospace !important; font-size: 12pt !important; color: black; }\n",
       ".c3align .W_bytes{font-family: \"Lucida Console\",monospace !important; font-size: 12pt !important; color: black; }\n",
       ".c3align .X_bytes{font-family: \"Lucida Console\",monospace !important; font-size: 12pt !important; color: black; }\n",
       ".c3align .Y_bytes{font-family: \"Lucida Console\",monospace !important; font-size: 12pt !important; color: black; }\n",
       ".c3align .Z_bytes{font-family: \"Lucida Console\",monospace !important; font-size: 12pt !important; color: black; }\n",
       ".c3align .[_bytes{font-family: \"Lucida Console\",monospace !important; font-size: 12pt !important; color: black; }\n",
       ".c3align .\\_bytes{font-family: \"Lucida Console\",monospace !important; font-size: 12pt !important; color: black; }\n",
       ".c3align .]_bytes{font-family: \"Lucida Console\",monospace !important; font-size: 12pt !important; color: black; }\n",
       ".c3align .^_bytes{font-family: \"Lucida Console\",monospace !important; font-size: 12pt !important; color: black; }\n",
       ".c3align .__bytes{font-family: \"Lucida Console\",monospace !important; font-size: 12pt !important; color: black; }\n",
       ".c3align .`_bytes{font-family: \"Lucida Console\",monospace !important; font-size: 12pt !important; color: black; }\n",
       ".c3align .a_bytes{font-family: \"Lucida Console\",monospace !important; font-size: 12pt !important; color: black; }\n",
       ".c3align .b_bytes{font-family: \"Lucida Console\",monospace !important; font-size: 12pt !important; color: black; }\n",
       ".c3align .c_bytes{font-family: \"Lucida Console\",monospace !important; font-size: 12pt !important; color: black; }\n",
       ".c3align .d_bytes{font-family: \"Lucida Console\",monospace !important; font-size: 12pt !important; color: black; }\n",
       ".c3align .e_bytes{font-family: \"Lucida Console\",monospace !important; font-size: 12pt !important; color: black; }\n",
       ".c3align .f_bytes{font-family: \"Lucida Console\",monospace !important; font-size: 12pt !important; color: black; }\n",
       ".c3align .g_bytes{font-family: \"Lucida Console\",monospace !important; font-size: 12pt !important; color: black; }\n",
       ".c3align .h_bytes{font-family: \"Lucida Console\",monospace !important; font-size: 12pt !important; color: black; }\n",
       ".c3align .i_bytes{font-family: \"Lucida Console\",monospace !important; font-size: 12pt !important; color: black; }\n",
       ".c3align .j_bytes{font-family: \"Lucida Console\",monospace !important; font-size: 12pt !important; color: black; }\n",
       ".c3align .k_bytes{font-family: \"Lucida Console\",monospace !important; font-size: 12pt !important; color: black; }\n",
       ".c3align .l_bytes{font-family: \"Lucida Console\",monospace !important; font-size: 12pt !important; color: black; }\n",
       ".c3align .m_bytes{font-family: \"Lucida Console\",monospace !important; font-size: 12pt !important; color: black; }\n",
       ".c3align .n_bytes{font-family: \"Lucida Console\",monospace !important; font-size: 12pt !important; color: black; }\n",
       ".c3align .o_bytes{font-family: \"Lucida Console\",monospace !important; font-size: 12pt !important; color: black; }\n",
       ".c3align .p_bytes{font-family: \"Lucida Console\",monospace !important; font-size: 12pt !important; color: black; }\n",
       ".c3align .q_bytes{font-family: \"Lucida Console\",monospace !important; font-size: 12pt !important; color: black; }\n",
       ".c3align .r_bytes{font-family: \"Lucida Console\",monospace !important; font-size: 12pt !important; color: black; }\n",
       ".c3align .s_bytes{font-family: \"Lucida Console\",monospace !important; font-size: 12pt !important; color: black; }\n",
       ".c3align .t_bytes{font-family: \"Lucida Console\",monospace !important; font-size: 12pt !important; color: black; }\n",
       ".c3align .u_bytes{font-family: \"Lucida Console\",monospace !important; font-size: 12pt !important; color: black; }\n",
       ".c3align .v_bytes{font-family: \"Lucida Console\",monospace !important; font-size: 12pt !important; color: black; }\n",
       ".c3align .w_bytes{font-family: \"Lucida Console\",monospace !important; font-size: 12pt !important; color: black; }\n",
       ".c3align .x_bytes{font-family: \"Lucida Console\",monospace !important; font-size: 12pt !important; color: black; }\n",
       ".c3align .y_bytes{font-family: \"Lucida Console\",monospace !important; font-size: 12pt !important; color: black; }\n",
       ".c3align .z_bytes{font-family: \"Lucida Console\",monospace !important; font-size: 12pt !important; color: black; }\n",
       ".c3align .{_bytes{font-family: \"Lucida Console\",monospace !important; font-size: 12pt !important; color: black; }\n",
       ".c3align .|_bytes{font-family: \"Lucida Console\",monospace !important; font-size: 12pt !important; color: black; }\n",
       ".c3align .}_bytes{font-family: \"Lucida Console\",monospace !important; font-size: 12pt !important; color: black; }\n",
       ".c3align .~_bytes{font-family: \"Lucida Console\",monospace !important; font-size: 12pt !important; color: black; }\n",
       ".c3align ._bytes{font-family: \"Lucida Console\",monospace !important; font-size: 12pt !important; color: black; }\n",
       ".c3align ._bytes{font-family: \"Lucida Console\",monospace !important; font-size: 12pt !important; color: black; }\n",
       ".c3align ._bytes{font-family: \"Lucida Console\",monospace !important; font-size: 12pt !important; color: black; }\n",
       ".c3align ._bytes{font-family: \"Lucida Console\",monospace !important; font-size: 12pt !important; color: black; }\n",
       ".c3align ._bytes{font-family: \"Lucida Console\",monospace !important; font-size: 12pt !important; color: black; }\n",
       ".c3align ._bytes{font-family: \"Lucida Console\",monospace !important; font-size: 12pt !important; color: black; }\n",
       ".c3align .",
       "_bytes{font-family: \"Lucida Console\",monospace !important; font-size: 12pt !important; color: black; }\n",
       ".c3align ._bytes{font-family: \"Lucida Console\",monospace !important; font-size: 12pt !important; color: black; }\n",
       ".c3align ._bytes{font-family: \"Lucida Console\",monospace !important; font-size: 12pt !important; color: black; }\n",
       ".c3align ._bytes{font-family: \"Lucida Console\",monospace !important; font-size: 12pt !important; color: black; }\n",
       ".c3align ._bytes{font-family: \"Lucida Console\",monospace !important; font-size: 12pt !important; color: black; }\n",
       ".c3align ._bytes{font-family: \"Lucida Console\",monospace !important; font-size: 12pt !important; color: black; }\n",
       ".c3align ._bytes{font-family: \"Lucida Console\",monospace !important; font-size: 12pt !important; color: black; }\n",
       ".c3align ._bytes{font-family: \"Lucida Console\",monospace !important; font-size: 12pt !important; color: black; }\n",
       ".c3align ._bytes{font-family: \"Lucida Console\",monospace !important; font-size: 12pt !important; color: black; }\n",
       ".c3align ._bytes{font-family: \"Lucida Console\",monospace !important; font-size: 12pt !important; color: black; }\n",
       ".c3align ._bytes{font-family: \"Lucida Console\",monospace !important; font-size: 12pt !important; color: black; }\n",
       ".c3align ._bytes{font-family: \"Lucida Console\",monospace !important; font-size: 12pt !important; color: black; }\n",
       ".c3align ._bytes{font-family: \"Lucida Console\",monospace !important; font-size: 12pt !important; color: black; }\n",
       ".c3align ._bytes{font-family: \"Lucida Console\",monospace !important; font-size: 12pt !important; color: black; }\n",
       ".c3align ._bytes{font-family: \"Lucida Console\",monospace !important; font-size: 12pt !important; color: black; }\n",
       ".c3align ._bytes{font-family: \"Lucida Console\",monospace !important; font-size: 12pt !important; color: black; }\n",
       ".c3align ._bytes{font-family: \"Lucida Console\",monospace !important; font-size: 12pt !important; color: black; }\n",
       ".c3align ._bytes{font-family: \"Lucida Console\",monospace !important; font-size: 12pt !important; color: black; }\n",
       ".c3align ._bytes{font-family: \"Lucida Console\",monospace !important; font-size: 12pt !important; color: black; }\n",
       ".c3align ._bytes{font-family: \"Lucida Console\",monospace !important; font-size: 12pt !important; color: black; }\n",
       ".c3align ._bytes{font-family: \"Lucida Console\",monospace !important; font-size: 12pt !important; color: black; }\n",
       ".c3align ._bytes{font-family: \"Lucida Console\",monospace !important; font-size: 12pt !important; color: black; }\n",
       ".c3align ._bytes{font-family: \"Lucida Console\",monospace !important; font-size: 12pt !important; color: black; }\n",
       ".c3align ._bytes{font-family: \"Lucida Console\",monospace !important; font-size: 12pt !important; color: black; }\n",
       ".c3align ._bytes{font-family: \"Lucida Console\",monospace !important; font-size: 12pt !important; color: black; }\n",
       ".c3align ._bytes{font-family: \"Lucida Console\",monospace !important; font-size: 12pt !important; color: black; }\n",
       ".c3align ._bytes{font-family: \"Lucida Console\",monospace !important; font-size: 12pt !important; color: black; }\n",
       ".c3align . _bytes{font-family: \"Lucida Console\",monospace !important; font-size: 12pt !important; color: black; }\n",
       ".c3align .¡_bytes{font-family: \"Lucida Console\",monospace !important; font-size: 12pt !important; color: black; }\n",
       ".c3align .¢_bytes{font-family: \"Lucida Console\",monospace !important; font-size: 12pt !important; color: black; }\n",
       ".c3align .£_bytes{font-family: \"Lucida Console\",monospace !important; font-size: 12pt !important; color: black; }\n",
       ".c3align .¤_bytes{font-family: \"Lucida Console\",monospace !important; font-size: 12pt !important; color: black; }\n",
       ".c3align .¥_bytes{font-family: \"Lucida Console\",monospace !important; font-size: 12pt !important; color: black; }\n",
       ".c3align .¦_bytes{font-family: \"Lucida Console\",monospace !important; font-size: 12pt !important; color: black; }\n",
       ".c3align .§_bytes{font-family: \"Lucida Console\",monospace !important; font-size: 12pt !important; color: black; }\n",
       ".c3align .¨_bytes{font-family: \"Lucida Console\",monospace !important; font-size: 12pt !important; color: black; }\n",
       ".c3align .©_bytes{font-family: \"Lucida Console\",monospace !important; font-size: 12pt !important; color: black; }\n",
       ".c3align .ª_bytes{font-family: \"Lucida Console\",monospace !important; font-size: 12pt !important; color: black; }\n",
       ".c3align .«_bytes{font-family: \"Lucida Console\",monospace !important; font-size: 12pt !important; color: black; }\n",
       ".c3align .¬_bytes{font-family: \"Lucida Console\",monospace !important; font-size: 12pt !important; color: black; }\n",
       ".c3align .­_bytes{font-family: \"Lucida Console\",monospace !important; font-size: 12pt !important; color: black; }\n",
       ".c3align .®_bytes{font-family: \"Lucida Console\",monospace !important; font-size: 12pt !important; color: black; }\n",
       ".c3align .¯_bytes{font-family: \"Lucida Console\",monospace !important; font-size: 12pt !important; color: black; }\n",
       ".c3align .°_bytes{font-family: \"Lucida Console\",monospace !important; font-size: 12pt !important; color: black; }\n",
       ".c3align .±_bytes{font-family: \"Lucida Console\",monospace !important; font-size: 12pt !important; color: black; }\n",
       ".c3align .²_bytes{font-family: \"Lucida Console\",monospace !important; font-size: 12pt !important; color: black; }\n",
       ".c3align .³_bytes{font-family: \"Lucida Console\",monospace !important; font-size: 12pt !important; color: black; }\n",
       ".c3align .´_bytes{font-family: \"Lucida Console\",monospace !important; font-size: 12pt !important; color: black; }\n",
       ".c3align .µ_bytes{font-family: \"Lucida Console\",monospace !important; font-size: 12pt !important; color: black; }\n",
       ".c3align .¶_bytes{font-family: \"Lucida Console\",monospace !important; font-size: 12pt !important; color: black; }\n",
       ".c3align .·_bytes{font-family: \"Lucida Console\",monospace !important; font-size: 12pt !important; color: black; }\n",
       ".c3align .¸_bytes{font-family: \"Lucida Console\",monospace !important; font-size: 12pt !important; color: black; }\n",
       ".c3align .¹_bytes{font-family: \"Lucida Console\",monospace !important; font-size: 12pt !important; color: black; }\n",
       ".c3align .º_bytes{font-family: \"Lucida Console\",monospace !important; font-size: 12pt !important; color: black; }\n",
       ".c3align .»_bytes{font-family: \"Lucida Console\",monospace !important; font-size: 12pt !important; color: black; }\n",
       ".c3align .¼_bytes{font-family: \"Lucida Console\",monospace !important; font-size: 12pt !important; color: black; }\n",
       ".c3align .½_bytes{font-family: \"Lucida Console\",monospace !important; font-size: 12pt !important; color: black; }\n",
       ".c3align .¾_bytes{font-family: \"Lucida Console\",monospace !important; font-size: 12pt !important; color: black; }\n",
       ".c3align .¿_bytes{font-family: \"Lucida Console\",monospace !important; font-size: 12pt !important; color: black; }\n",
       ".c3align .À_bytes{font-family: \"Lucida Console\",monospace !important; font-size: 12pt !important; color: black; }\n",
       ".c3align .Á_bytes{font-family: \"Lucida Console\",monospace !important; font-size: 12pt !important; color: black; }\n",
       ".c3align .Â_bytes{font-family: \"Lucida Console\",monospace !important; font-size: 12pt !important; color: black; }\n",
       ".c3align .Ã_bytes{font-family: \"Lucida Console\",monospace !important; font-size: 12pt !important; color: black; }\n",
       ".c3align .Ä_bytes{font-family: \"Lucida Console\",monospace !important; font-size: 12pt !important; color: black; }\n",
       ".c3align .Å_bytes{font-family: \"Lucida Console\",monospace !important; font-size: 12pt !important; color: black; }\n",
       ".c3align .Æ_bytes{font-family: \"Lucida Console\",monospace !important; font-size: 12pt !important; color: black; }\n",
       ".c3align .Ç_bytes{font-family: \"Lucida Console\",monospace !important; font-size: 12pt !important; color: black; }\n",
       ".c3align .È_bytes{font-family: \"Lucida Console\",monospace !important; font-size: 12pt !important; color: black; }\n",
       ".c3align .É_bytes{font-family: \"Lucida Console\",monospace !important; font-size: 12pt !important; color: black; }\n",
       ".c3align .Ê_bytes{font-family: \"Lucida Console\",monospace !important; font-size: 12pt !important; color: black; }\n",
       ".c3align .Ë_bytes{font-family: \"Lucida Console\",monospace !important; font-size: 12pt !important; color: black; }\n",
       ".c3align .Ì_bytes{font-family: \"Lucida Console\",monospace !important; font-size: 12pt !important; color: black; }\n",
       ".c3align .Í_bytes{font-family: \"Lucida Console\",monospace !important; font-size: 12pt !important; color: black; }\n",
       ".c3align .Î_bytes{font-family: \"Lucida Console\",monospace !important; font-size: 12pt !important; color: black; }\n",
       ".c3align .Ï_bytes{font-family: \"Lucida Console\",monospace !important; font-size: 12pt !important; color: black; }\n",
       ".c3align .Ð_bytes{font-family: \"Lucida Console\",monospace !important; font-size: 12pt !important; color: black; }\n",
       ".c3align .Ñ_bytes{font-family: \"Lucida Console\",monospace !important; font-size: 12pt !important; color: black; }\n",
       ".c3align .Ò_bytes{font-family: \"Lucida Console\",monospace !important; font-size: 12pt !important; color: black; }\n",
       ".c3align .Ó_bytes{font-family: \"Lucida Console\",monospace !important; font-size: 12pt !important; color: black; }\n",
       ".c3align .Ô_bytes{font-family: \"Lucida Console\",monospace !important; font-size: 12pt !important; color: black; }\n",
       ".c3align .Õ_bytes{font-family: \"Lucida Console\",monospace !important; font-size: 12pt !important; color: black; }\n",
       ".c3align .Ö_bytes{font-family: \"Lucida Console\",monospace !important; font-size: 12pt !important; color: black; }\n",
       ".c3align .×_bytes{font-family: \"Lucida Console\",monospace !important; font-size: 12pt !important; color: black; }\n",
       ".c3align .Ø_bytes{font-family: \"Lucida Console\",monospace !important; font-size: 12pt !important; color: black; }\n",
       ".c3align .Ù_bytes{font-family: \"Lucida Console\",monospace !important; font-size: 12pt !important; color: black; }\n",
       ".c3align .Ú_bytes{font-family: \"Lucida Console\",monospace !important; font-size: 12pt !important; color: black; }\n",
       ".c3align .Û_bytes{font-family: \"Lucida Console\",monospace !important; font-size: 12pt !important; color: black; }\n",
       ".c3align .Ü_bytes{font-family: \"Lucida Console\",monospace !important; font-size: 12pt !important; color: black; }\n",
       ".c3align .Ý_bytes{font-family: \"Lucida Console\",monospace !important; font-size: 12pt !important; color: black; }\n",
       ".c3align .Þ_bytes{font-family: \"Lucida Console\",monospace !important; font-size: 12pt !important; color: black; }\n",
       ".c3align .ß_bytes{font-family: \"Lucida Console\",monospace !important; font-size: 12pt !important; color: black; }\n",
       ".c3align .à_bytes{font-family: \"Lucida Console\",monospace !important; font-size: 12pt !important; color: black; }\n",
       ".c3align .á_bytes{font-family: \"Lucida Console\",monospace !important; font-size: 12pt !important; color: black; }\n",
       ".c3align .â_bytes{font-family: \"Lucida Console\",monospace !important; font-size: 12pt !important; color: black; }\n",
       ".c3align .ã_bytes{font-family: \"Lucida Console\",monospace !important; font-size: 12pt !important; color: black; }\n",
       ".c3align .ä_bytes{font-family: \"Lucida Console\",monospace !important; font-size: 12pt !important; color: black; }\n",
       ".c3align .å_bytes{font-family: \"Lucida Console\",monospace !important; font-size: 12pt !important; color: black; }\n",
       ".c3align .æ_bytes{font-family: \"Lucida Console\",monospace !important; font-size: 12pt !important; color: black; }\n",
       ".c3align .ç_bytes{font-family: \"Lucida Console\",monospace !important; font-size: 12pt !important; color: black; }\n",
       ".c3align .è_bytes{font-family: \"Lucida Console\",monospace !important; font-size: 12pt !important; color: black; }\n",
       ".c3align .é_bytes{font-family: \"Lucida Console\",monospace !important; font-size: 12pt !important; color: black; }\n",
       ".c3align .ê_bytes{font-family: \"Lucida Console\",monospace !important; font-size: 12pt !important; color: black; }\n",
       ".c3align .ë_bytes{font-family: \"Lucida Console\",monospace !important; font-size: 12pt !important; color: black; }\n",
       ".c3align .ì_bytes{font-family: \"Lucida Console\",monospace !important; font-size: 12pt !important; color: black; }\n",
       ".c3align .í_bytes{font-family: \"Lucida Console\",monospace !important; font-size: 12pt !important; color: black; }\n",
       ".c3align .î_bytes{font-family: \"Lucida Console\",monospace !important; font-size: 12pt !important; color: black; }\n",
       ".c3align .ï_bytes{font-family: \"Lucida Console\",monospace !important; font-size: 12pt !important; color: black; }\n",
       ".c3align .ð_bytes{font-family: \"Lucida Console\",monospace !important; font-size: 12pt !important; color: black; }\n",
       ".c3align .ñ_bytes{font-family: \"Lucida Console\",monospace !important; font-size: 12pt !important; color: black; }\n",
       ".c3align .ò_bytes{font-family: \"Lucida Console\",monospace !important; font-size: 12pt !important; color: black; }\n",
       ".c3align .ó_bytes{font-family: \"Lucida Console\",monospace !important; font-size: 12pt !important; color: black; }\n",
       ".c3align .ô_bytes{font-family: \"Lucida Console\",monospace !important; font-size: 12pt !important; color: black; }\n",
       ".c3align .õ_bytes{font-family: \"Lucida Console\",monospace !important; font-size: 12pt !important; color: black; }\n",
       ".c3align .ö_bytes{font-family: \"Lucida Console\",monospace !important; font-size: 12pt !important; color: black; }\n",
       ".c3align .÷_bytes{font-family: \"Lucida Console\",monospace !important; font-size: 12pt !important; color: black; }\n",
       ".c3align .ø_bytes{font-family: \"Lucida Console\",monospace !important; font-size: 12pt !important; color: black; }\n",
       ".c3align .ù_bytes{font-family: \"Lucida Console\",monospace !important; font-size: 12pt !important; color: black; }\n",
       ".c3align .ú_bytes{font-family: \"Lucida Console\",monospace !important; font-size: 12pt !important; color: black; }\n",
       ".c3align .û_bytes{font-family: \"Lucida Console\",monospace !important; font-size: 12pt !important; color: black; }\n",
       ".c3align .ü_bytes{font-family: \"Lucida Console\",monospace !important; font-size: 12pt !important; color: black; }\n",
       ".c3align .ý_bytes{font-family: \"Lucida Console\",monospace !important; font-size: 12pt !important; color: black; }\n",
       ".c3align .þ_bytes{font-family: \"Lucida Console\",monospace !important; font-size: 12pt !important; color: black; }\n",
       ".c3align .ÿ_bytes{font-family: \"Lucida Console\",monospace !important; font-size: 12pt !important; color: black; }\n",
       ".c3align .terminal_ambig_bytes{font-family: \"Lucida Console\",monospace !important; font-size: 12pt !important; color: black; }\n",
       ".c3align .ambig_bytes{font-family: \"Lucida Console\",monospace !important; font-size: 12pt !important; color: black; }\n",
       "</style>\n",
       "<div class=\"c3align\">\n",
       "<table>\n",
       "<tr class=\"num_row\"><td></td><td><b>0</b></td></tr>\n",
       "<tr><td class=\"label\">DogFaced</td><td><span class=\"T_bytes\">T</span><span class=\"G_bytes\">G</span><span class=\"T_bytes\">T</span><span class=\"G_bytes\">G</span><span class=\"G_bytes\">G</span><span class=\"C_bytes\">C</span><span class=\"A_bytes\">A</span><span class=\"C_bytes\">C</span><span class=\"A_bytes\">A</span><span class=\"A_bytes\">A</span><span class=\"A_bytes\">A</span><span class=\"T_bytes\">T</span><span class=\"A_bytes\">A</span><span class=\"C_bytes\">C</span><span class=\"T_bytes\">T</span><span class=\"C_bytes\">C</span><span class=\"A_bytes\">A</span><span class=\"T_bytes\">T</span><span class=\"G_bytes\">G</span><span class=\"C_bytes\">C</span><span class=\"C_bytes\">C</span><span class=\"A_bytes\">A</span><span class=\"A_bytes\">A</span><span class=\"C_bytes\">C</span><span class=\"T_bytes\">T</span><span class=\"C_bytes\">C</span><span class=\"A_bytes\">A</span><span class=\"T_bytes\">T</span><span class=\"T_bytes\">T</span><span class=\"A_bytes\">A</span><span class=\"C_bytes\">C</span><span class=\"A_bytes\">A</span><span class=\"G_bytes\">G</span><span class=\"C_bytes\">C</span><span class=\"A_bytes\">A</span><span class=\"T_bytes\">T</span><span class=\"G_bytes\">G</span><span class=\"A_bytes\">A</span><span class=\"G_bytes\">G</span><span class=\"A_bytes\">A</span><span class=\"A_bytes\">A</span><span class=\"C_bytes\">C</span><span class=\"A_bytes\">A</span><span class=\"G_bytes\">G</span><span class=\"C_bytes\">C</span><span class=\"A_bytes\">A</span><span class=\"G_bytes\">G</span><span class=\"T_bytes\">T</span><span class=\"T_bytes\">T</span><span class=\"T_bytes\">T</span><span class=\"A_bytes\">A</span><span class=\"T_bytes\">T</span><span class=\"T_bytes\">T</span><span class=\"A_bytes\">A</span><span class=\"T_bytes\">T</span><span class=\"A_bytes\">A</span><span class=\"C_bytes\">C</span><span class=\"A_bytes\">A</span><span class=\"C_bytes\">C</span><span class=\"T_bytes\">T</span></td></tr>\n",
       "<tr><td class=\"label\">HowlerMon</td><td><span class=\"T_bytes\">.</span><span class=\"G_bytes\">.</span><span class=\"T_bytes\">.</span><span class=\"G_bytes\">.</span><span class=\"G_bytes\">.</span><span class=\"C_bytes\">.</span><span class=\"A_bytes\">.</span><span class=\"C_bytes\">.</span><span class=\"A_bytes\">.</span><span class=\"A_bytes\">.</span><span class=\"A_bytes\">.</span><span class=\"T_bytes\">.</span><span class=\"A_bytes\">.</span><span class=\"C_bytes\">.</span><span class=\"T_bytes\">.</span><span class=\"C_bytes\">.</span><span class=\"A_bytes\">.</span><span class=\"T_bytes\">.</span><span class=\"G_bytes\">.</span><span class=\"C_bytes\">.</span><span class=\"C_bytes\">.</span><span class=\"A_bytes\">.</span><span class=\"G_bytes\">G</span><span class=\"C_bytes\">.</span><span class=\"T_bytes\">.</span><span class=\"C_bytes\">.</span><span class=\"A_bytes\">.</span><span class=\"T_bytes\">.</span><span class=\"T_bytes\">.</span><span class=\"A_bytes\">.</span><span class=\"C_bytes\">.</span><span class=\"A_bytes\">.</span><span class=\"G_bytes\">.</span><span class=\"C_bytes\">.</span><span class=\"A_bytes\">.</span><span class=\"T_bytes\">.</span><span class=\"G_bytes\">.</span><span class=\"A_bytes\">.</span><span class=\"G_bytes\">.</span><span class=\"A_bytes\">.</span><span class=\"A_bytes\">.</span><span class=\"C_bytes\">.</span><span class=\"A_bytes\">.</span><span class=\"G_bytes\">.</span><span class=\"C_bytes\">.</span><span class=\"A_bytes\">.</span><span class=\"G_bytes\">.</span><span class=\"T_bytes\">.</span><span class=\"T_bytes\">.</span><span class=\"T_bytes\">.</span><span class=\"G_bytes\">G</span><span class=\"T_bytes\">.</span><span class=\"T_bytes\">.</span><span class=\"A_bytes\">.</span><span class=\"C_bytes\">C</span><span class=\"T_bytes\">T</span><span class=\"C_bytes\">.</span><span class=\"A_bytes\">.</span><span class=\"C_bytes\">.</span><span class=\"T_bytes\">.</span></td></tr>\n",
       "<tr><td class=\"label\">NineBande</td><td><span class=\"T_bytes\">.</span><span class=\"G_bytes\">.</span><span class=\"T_bytes\">.</span><span class=\"G_bytes\">.</span><span class=\"G_bytes\">.</span><span class=\"C_bytes\">.</span><span class=\"A_bytes\">.</span><span class=\"C_bytes\">.</span><span class=\"A_bytes\">.</span><span class=\"A_bytes\">.</span><span class=\"A_bytes\">.</span><span class=\"T_bytes\">.</span><span class=\"A_bytes\">.</span><span class=\"C_bytes\">.</span><span class=\"T_bytes\">.</span><span class=\"C_bytes\">.</span><span class=\"A_bytes\">.</span><span class=\"T_bytes\">.</span><span class=\"G_bytes\">.</span><span class=\"C_bytes\">.</span><span class=\"C_bytes\">.</span><span class=\"A_bytes\">.</span><span class=\"A_bytes\">.</span><span class=\"C_bytes\">.</span><span class=\"T_bytes\">.</span><span class=\"T_bytes\">T</span><span class=\"A_bytes\">.</span><span class=\"T_bytes\">.</span><span class=\"T_bytes\">.</span><span class=\"A_bytes\">.</span><span class=\"C_bytes\">.</span><span class=\"A_bytes\">.</span><span class=\"G_bytes\">.</span><span class=\"C_bytes\">.</span><span class=\"A_bytes\">.</span><span class=\"T_bytes\">.</span><span class=\"G_bytes\">.</span><span class=\"A_bytes\">.</span><span class=\"G_bytes\">.</span><span class=\"A_bytes\">.</span><span class=\"A_bytes\">.</span><span class=\"C_bytes\">.</span><span class=\"A_bytes\">.</span><span class=\"G_bytes\">.</span><span class=\"C_bytes\">.</span><span class=\"A_bytes\">.</span><span class=\"G_bytes\">.</span><span class=\"T_bytes\">.</span><span class=\"T_bytes\">.</span><span class=\"T_bytes\">.</span><span class=\"A_bytes\">.</span><span class=\"T_bytes\">.</span><span class=\"T_bytes\">.</span><span class=\"A_bytes\">.</span><span class=\"C_bytes\">C</span><span class=\"T_bytes\">T</span><span class=\"C_bytes\">.</span><span class=\"A_bytes\">.</span><span class=\"C_bytes\">.</span><span class=\"T_bytes\">.</span></td></tr>\n",
       "</table>\n",
       "<p><i>3 x 2532 (truncated to 3 x 60) bytes alignment</i></p>\n",
       "</div>"
      ],
      "text/plain": [
       "3 x 2532 alignment: HowlerMon[TGTGGCACAAA...], NineBande[TGTGGCACAAA...], DogFaced[TGTGGCACAAA...]"
      ]
     },
     "execution_count": 43,
     "metadata": {},
     "output_type": "execute_result"
    }
   ],
   "source": [
    "aln.take_seqs([\"Human\", \"Mouse\"], negate=True)"
   ]
  },
  {
   "cell_type": "code",
   "execution_count": 44,
   "id": "f20ef39b",
   "metadata": {
    "execution": {
     "iopub.execute_input": "2023-01-15T01:16:07.701872Z",
     "iopub.status.busy": "2023-01-15T01:16:07.701330Z",
     "iopub.status.idle": "2023-01-15T01:16:07.703689Z",
     "shell.execute_reply": "2023-01-15T01:16:07.704057Z"
    }
   },
   "outputs": [
    {
     "data": {
      "text/html": [
       "<style>\n",
       ".c3align td { border: none !important; text-align: left !important; }\n",
       ".c3align tr:not(.num_row) td span {margin: 0 2px;}\n",
       ".c3align tr:nth-child(even) {background: #f7f7f7;}\n",
       ".c3align .num_row {background-color:rgba(161, 195, 209, 0.5) !important; border-top: solid 1px black; }\n",
       ".c3align .label { font-size: 12pt ; text-align: right !important; color: black !important; padding: 0 4px; display: table-cell !important; font-weight: normal !important; }\n",
       ".c3align .T_dna{font-family: \"Lucida Console\",monospace !important; font-size: 12pt !important; color: blue; }\n",
       ".c3align .C_dna{font-family: \"Lucida Console\",monospace !important; font-size: 12pt !important; color: black; }\n",
       ".c3align .A_dna{font-family: \"Lucida Console\",monospace !important; font-size: 12pt !important; color: #FF0102; }\n",
       ".c3align .G_dna{font-family: \"Lucida Console\",monospace !important; font-size: 12pt !important; color: green; }\n",
       ".c3align .terminal_ambig_dna{font-family: \"Lucida Console\",monospace !important; font-size: 12pt !important; color: gray; }\n",
       ".c3align .ambig_dna{font-family: \"Lucida Console\",monospace !important; font-size: 12pt !important; color: gray; }\n",
       "</style>\n",
       "<div class=\"c3align\">\n",
       "<table>\n",
       "<tr class=\"num_row\"><td></td><td><b>0</b></td></tr>\n",
       "<tr><td class=\"label\">seq2</td><td><span class=\"A_dna\">A</span><span class=\"T_dna\">T</span><span class=\"G_dna\">G</span><span class=\"A_dna\">A</span><span class=\"A_dna\">A</span><span class=\"G_dna\">G</span><span class=\"G_dna\">G</span><span class=\"T_dna\">T</span><span class=\"G_dna\">G</span><span class=\"A_dna\">A</span><span class=\"T_dna\">T</span><span class=\"G_dna\">G</span></td></tr>\n",
       "<tr><td class=\"label\">seq1</td><td><span class=\"A_dna\">.</span><span class=\"T_dna\">.</span><span class=\"G_dna\">.</span><span class=\"A_dna\">.</span><span class=\"A_dna\">.</span><span class=\"G_dna\">.</span><span class=\"G_dna\">.</span><span class=\"T_dna\">.</span><span class=\"G_dna\">.</span><span class=\"ambig_dna\">-</span><span class=\"ambig_dna\">-</span><span class=\"ambig_dna\">-</span></td></tr>\n",
       "</table>\n",
       "<p><i>2 x 12 dna alignment</i></p>\n",
       "</div>"
      ],
      "text/plain": [
       "2 x 12 alignment: seq1[ATGAAGGTG--...], seq2[ATGAAGGTGAT...]"
      ]
     },
     "execution_count": 44,
     "metadata": {},
     "output_type": "execute_result"
    }
   ],
   "source": [
    "from cogent3 import make_aligned_seqs\n",
    "\n",
    "aln = make_aligned_seqs(\n",
    "    data=[\n",
    "        (\"seq1\", \"ATGAAGGTG---\"),\n",
    "        (\"seq2\", \"ATGAAGGTGATG\"),\n",
    "        (\"seq3\", \"ATGAAGGNGATG\"),\n",
    "    ],\n",
    "    moltype=\"dna\",\n",
    ")\n",
    "\n",
    "def no_N_chars(s):\n",
    "    return \"N\" not in s\n",
    "\n",
    "aln.take_seqs_if(no_N_chars)"
   ]
  },
  {
   "cell_type": "code",
   "execution_count": 45,
   "id": "0511f692",
   "metadata": {
    "execution": {
     "iopub.execute_input": "2023-01-15T01:16:07.707931Z",
     "iopub.status.busy": "2023-01-15T01:16:07.707391Z",
     "iopub.status.idle": "2023-01-15T01:16:07.709529Z",
     "shell.execute_reply": "2023-01-15T01:16:07.709907Z"
    }
   },
   "outputs": [
    {
     "data": {
      "text/html": [
       "<style>\n",
       ".c3align td { border: none !important; text-align: left !important; }\n",
       ".c3align tr:not(.num_row) td span {margin: 0 2px;}\n",
       ".c3align tr:nth-child(even) {background: #f7f7f7;}\n",
       ".c3align .num_row {background-color:rgba(161, 195, 209, 0.5) !important; border-top: solid 1px black; }\n",
       ".c3align .label { font-size: 12pt ; text-align: right !important; color: black !important; padding: 0 4px; display: table-cell !important; font-weight: normal !important; }\n",
       ".c3align .T_dna{font-family: \"Lucida Console\",monospace !important; font-size: 12pt !important; color: blue; }\n",
       ".c3align .C_dna{font-family: \"Lucida Console\",monospace !important; font-size: 12pt !important; color: black; }\n",
       ".c3align .A_dna{font-family: \"Lucida Console\",monospace !important; font-size: 12pt !important; color: #FF0102; }\n",
       ".c3align .G_dna{font-family: \"Lucida Console\",monospace !important; font-size: 12pt !important; color: green; }\n",
       ".c3align .terminal_ambig_dna{font-family: \"Lucida Console\",monospace !important; font-size: 12pt !important; color: gray; }\n",
       ".c3align .ambig_dna{font-family: \"Lucida Console\",monospace !important; font-size: 12pt !important; color: gray; }\n",
       "</style>\n",
       "<div class=\"c3align\">\n",
       "<table>\n",
       "<tr class=\"num_row\"><td></td><td><b>0</b></td></tr>\n",
       "<tr><td class=\"label\">seq3</td><td><span class=\"A_dna\">A</span><span class=\"T_dna\">T</span><span class=\"G_dna\">G</span><span class=\"A_dna\">A</span><span class=\"A_dna\">A</span><span class=\"G_dna\">G</span><span class=\"G_dna\">G</span><span class=\"ambig_dna\">N</span><span class=\"G_dna\">G</span><span class=\"A_dna\">A</span><span class=\"T_dna\">T</span><span class=\"G_dna\">G</span></td></tr>\n",
       "</table>\n",
       "<p><i>1 x 12 dna alignment</i></p>\n",
       "</div>"
      ],
      "text/plain": [
       "1 x 12 alignment: seq3[ATGAAGGNGAT...]"
      ]
     },
     "execution_count": 45,
     "metadata": {},
     "output_type": "execute_result"
    }
   ],
   "source": [
    "aln.take_seqs_if(no_N_chars, negate=True)"
   ]
  },
  {
   "cell_type": "code",
   "execution_count": 46,
   "id": "1f116fa4",
   "metadata": {
    "execution": {
     "iopub.execute_input": "2023-01-15T01:16:07.717522Z",
     "iopub.status.busy": "2023-01-15T01:16:07.714046Z",
     "iopub.status.idle": "2023-01-15T01:16:07.719623Z",
     "shell.execute_reply": "2023-01-15T01:16:07.719999Z"
    }
   },
   "outputs": [
    {
     "name": "stdout",
     "output_type": "stream",
     "text": [
      "==================\n",
      " A    C     G    T\n",
      "------------------\n",
      "11    0    14    7\n",
      "------------------\n",
      "============================================================================================================================================================================================================================================================================================================================================================================================================================================================\n",
      "AAA    AAC    AAG    AAT    ACA    ACC    ACG    ACT    AGA    AGC    AGG    AGT    ATA    ATC    ATG    ATT    CAA    CAC    CAG    CAT    CCA    CCC    CCG    CCT    CGA    CGC    CGG    CGT    CTA    CTC    CTG    CTT    GAA    GAC    GAG    GAT    GCA    GCC    GCG    GCT    GGA    GGC    GGG    GGT    GTA    GTC    GTG    GTT    TAA    TAC    TAG    TAT    TCA    TCC    TCG    TCT    TGA    TGC    TGG    TGT    TTA    TTC    TTG    TTT\n",
      "------------------------------------------------------------------------------------------------------------------------------------------------------------------------------------------------------------------------------------------------------------------------------------------------------------------------------------------------------------------------------------------------------------------------------------------------------------\n",
      "  0      0      3      0      0      0      0      0      0      0      0      0      0      0      5      0      0      0      0      0      0      0      0      0      0      0      0      0      0      0      0      0      0      0      0      0      0      0      0      0      0      0      0      0      0      0      2      0      0      0      0      0      0      0      0      0      0      0      0      0      0      0      0      0\n",
      "------------------------------------------------------------------------------------------------------------------------------------------------------------------------------------------------------------------------------------------------------------------------------------------------------------------------------------------------------------------------------------------------------------------------------------------------------------\n",
      "=======================\n",
      " A    C     G    N    T\n",
      "-----------------------\n",
      "11    0    14    1    7\n",
      "-----------------------\n"
     ]
    }
   ],
   "source": [
    "from cogent3 import make_aligned_seqs\n",
    "\n",
    "aln = make_aligned_seqs(\n",
    "    data=[\n",
    "        (\"seq1\", \"ATGAAGGTG---\"),\n",
    "        (\"seq2\", \"ATGAAGGTGATG\"),\n",
    "        (\"seq3\", \"ATGAAGGNGATG\"),\n",
    "    ],\n",
    "    moltype=\"dna\",\n",
    ")\n",
    "counts = aln.counts()\n",
    "print(counts)\n",
    "counts = aln.counts(motif_length=3)\n",
    "print(counts)\n",
    "counts = aln.counts(include_ambiguity=True)\n",
    "print(counts)"
   ]
  },
  {
   "cell_type": "code",
   "execution_count": 47,
   "id": "c1ebd5d1",
   "metadata": {
    "execution": {
     "iopub.execute_input": "2023-01-15T01:16:07.723814Z",
     "iopub.status.busy": "2023-01-15T01:16:07.722618Z",
     "iopub.status.idle": "2023-01-15T01:16:07.727235Z",
     "shell.execute_reply": "2023-01-15T01:16:07.727724Z"
    }
   },
   "outputs": [
    {
     "name": "stdout",
     "output_type": "stream",
     "text": [
      "{'T': 0.25520602569782896, 'C': 0.25808595480726626, 'A': 0.24390784226849802, 'G': 0.24280017722640673}\n"
     ]
    }
   ],
   "source": [
    "from cogent3 import load_aligned_seqs\n",
    "\n",
    "aln = load_aligned_seqs(\"data/primate_cdx2_promoter.fasta\", moltype=\"dna\")\n",
    "motif_probs = aln.get_motif_probs()\n",
    "print(motif_probs)"
   ]
  },
  {
   "cell_type": "code",
   "execution_count": 48,
   "id": "5d24306e",
   "metadata": {
    "execution": {
     "iopub.execute_input": "2023-01-15T01:16:07.731508Z",
     "iopub.status.busy": "2023-01-15T01:16:07.730983Z",
     "iopub.status.idle": "2023-01-15T01:16:07.766454Z",
     "shell.execute_reply": "2023-01-15T01:16:07.766830Z"
    }
   },
   "outputs": [
    {
     "name": "stdout",
     "output_type": "stream",
     "text": [
      "CAG  0.037\n",
      "CCT  0.034\n",
      "CGC  0.030\n",
      "TCT  0.029\n",
      "AAC  0.028\n",
      "GCC  0.028\n",
      "AAA  0.027\n",
      "AAG  0.027\n",
      "GGG  0.026\n",
      "TAA  0.025\n",
      "CCC  0.025\n",
      "TTC  0.024\n",
      "CTT  0.024\n",
      "GAG  0.024\n",
      "TGT  0.023\n",
      "CTG  0.023\n",
      "CTC  0.021\n",
      "GGA  0.021\n",
      "TTT  0.020\n",
      "CAA  0.019\n",
      "GGT  0.019\n",
      "TCC  0.019\n",
      "AGT  0.019\n",
      "GAA  0.019\n",
      "ATT  0.018\n",
      "TAG  0.017\n",
      "TTG  0.017\n",
      "AAT  0.017\n",
      "TCA  0.015\n",
      "TGG  0.015\n",
      "TGC  0.015\n",
      "GTT  0.014\n",
      "GGC  0.014\n",
      "CAT  0.013\n",
      "GTA  0.013\n",
      "TGA  0.013\n",
      "ATA  0.012\n",
      "AGA  0.012\n",
      "TTA  0.011\n",
      "CCA  0.011\n",
      "CAC  0.011\n",
      "CCG  0.011\n",
      "GCT  0.011\n",
      "GCA  0.011\n",
      "GAT  0.011\n",
      "TAC  0.010\n",
      "AGC  0.009\n",
      "GAC  0.009\n",
      "CGG  0.008\n",
      "ATC  0.008\n",
      "AGG  0.008\n",
      "GTC  0.008\n",
      "ACT  0.007\n",
      "ACG  0.007\n",
      "CGT  0.007\n",
      "GCG  0.007\n",
      "GTG  0.006\n",
      "TCG  0.005\n",
      "TAT  0.005\n",
      "ATG  0.005\n",
      "CGA  0.005\n",
      "ACC  0.005\n",
      "CTA  0.003\n",
      "ACA  0.002\n"
     ]
    }
   ],
   "source": [
    "from cogent3 import DNA, load_aligned_seqs\n",
    "\n",
    "trinuc_alphabet = DNA.alphabet.get_word_alphabet(3)\n",
    "aln = load_aligned_seqs(\"data/primate_cdx2_promoter.fasta\", moltype=\"dna\")\n",
    "motif_probs = aln.get_motif_probs(alphabet=trinuc_alphabet)\n",
    "for m in sorted(motif_probs, key=lambda x: motif_probs[x], reverse=True):\n",
    "    print(\"%s  %.3f\" % (m, motif_probs[m]))"
   ]
  },
  {
   "cell_type": "code",
   "execution_count": 49,
   "id": "e8aa370a",
   "metadata": {
    "execution": {
     "iopub.execute_input": "2023-01-15T01:16:07.771010Z",
     "iopub.status.busy": "2023-01-15T01:16:07.770471Z",
     "iopub.status.idle": "2023-01-15T01:16:07.772374Z",
     "shell.execute_reply": "2023-01-15T01:16:07.772768Z"
    }
   },
   "outputs": [],
   "source": [
    "aln = make_aligned_seqs(data=[(\"a\", \"AACAAC\"), (\"b\", \"AAGAAG\")], moltype=\"dna\")\n",
    "motif_probs = aln.get_motif_probs()\n",
    "assert motif_probs[\"T\"] == 0.0\n",
    "motif_probs = aln.get_motif_probs(pseudocount=1e-6)\n",
    "assert 0 < motif_probs[\"T\"] <= 1e-6"
   ]
  },
  {
   "cell_type": "code",
   "execution_count": 50,
   "id": "a3604469",
   "metadata": {
    "execution": {
     "iopub.execute_input": "2023-01-15T01:16:07.777100Z",
     "iopub.status.busy": "2023-01-15T01:16:07.776543Z",
     "iopub.status.idle": "2023-01-15T01:16:07.778172Z",
     "shell.execute_reply": "2023-01-15T01:16:07.778548Z"
    }
   },
   "outputs": [],
   "source": [
    "seqs = [(\"a\", \"AACGTAAG\"), (\"b\", \"AACGTAAG\")]\n",
    "aln = make_aligned_seqs(data=seqs, moltype=\"dna\")\n",
    "dinuc_alphabet = DNA.alphabet.get_word_alphabet(2)\n",
    "motif_probs = aln.get_motif_probs(alphabet=dinuc_alphabet)\n",
    "assert motif_probs[\"AA\"] == 0.25"
   ]
  },
  {
   "cell_type": "code",
   "execution_count": 51,
   "id": "456b2b96",
   "metadata": {
    "execution": {
     "iopub.execute_input": "2023-01-15T01:16:07.782925Z",
     "iopub.status.busy": "2023-01-15T01:16:07.782357Z",
     "iopub.status.idle": "2023-01-15T01:16:07.784586Z",
     "shell.execute_reply": "2023-01-15T01:16:07.784955Z"
    }
   },
   "outputs": [
    {
     "data": {
      "text/plain": [
       "2"
      ]
     },
     "execution_count": 51,
     "metadata": {},
     "output_type": "execute_result"
    }
   ],
   "source": [
    "seqs = [(\"my_seq\", \"AAAGTAAG\")]\n",
    "aln = make_aligned_seqs(data=seqs, moltype=\"dna\")\n",
    "my_seq = aln.get_seq(\"my_seq\")\n",
    "my_seq.count(\"AA\")\n",
    "\"AAA\".count(\"AA\")\n",
    "\"AAAA\".count(\"AA\")"
   ]
  },
  {
   "cell_type": "code",
   "execution_count": 52,
   "id": "1582d2e0",
   "metadata": {
    "execution": {
     "iopub.execute_input": "2023-01-15T01:16:07.789477Z",
     "iopub.status.busy": "2023-01-15T01:16:07.788906Z",
     "iopub.status.idle": "2023-01-15T01:16:07.791352Z",
     "shell.execute_reply": "2023-01-15T01:16:07.791717Z"
    }
   },
   "outputs": [
    {
     "data": {
      "text/plain": [
       "3"
      ]
     },
     "execution_count": 52,
     "metadata": {},
     "output_type": "execute_result"
    }
   ],
   "source": [
    "from cogent3 import make_seq\n",
    "\n",
    "seq = make_seq(moltype=\"dna\", seq=\"AAAGTAAG\")\n",
    "seq\n",
    "di_nucs = [seq[i : i + 2] for i in range(len(seq) - 1)]\n",
    "sum([nn == \"AA\" for nn in di_nucs])"
   ]
  },
  {
   "cell_type": "code",
   "execution_count": 53,
   "id": "8b31e630",
   "metadata": {
    "execution": {
     "iopub.execute_input": "2023-01-15T01:16:07.795471Z",
     "iopub.status.busy": "2023-01-15T01:16:07.794931Z",
     "iopub.status.idle": "2023-01-15T01:16:07.799701Z",
     "shell.execute_reply": "2023-01-15T01:16:07.800069Z"
    }
   },
   "outputs": [
    {
     "data": {
      "text/plain": [
       "[ByteSequence(-), ByteSequence(-)]"
      ]
     },
     "execution_count": 53,
     "metadata": {},
     "output_type": "execute_result"
    }
   ],
   "source": [
    "from cogent3 import load_aligned_seqs\n",
    "\n",
    "aln = load_aligned_seqs(\"data/primate_cdx2_promoter.fasta\")\n",
    "col = aln[113:115].iter_positions()\n",
    "c1, c2 = list(col)\n",
    "c1, c2\n",
    "list(filter(lambda x: x == \"-\", c1))\n",
    "list(filter(lambda x: x == \"-\", c2))"
   ]
  },
  {
   "cell_type": "code",
   "execution_count": 54,
   "id": "e66aef58",
   "metadata": {
    "execution": {
     "iopub.execute_input": "2023-01-15T01:16:07.803587Z",
     "iopub.status.busy": "2023-01-15T01:16:07.802999Z",
     "iopub.status.idle": "2023-01-15T01:16:07.808621Z",
     "shell.execute_reply": "2023-01-15T01:16:07.809160Z"
    }
   },
   "outputs": [
    {
     "name": "stdout",
     "output_type": "stream",
     "text": [
      "0.0\n",
      "0.6666666666666666\n",
      "0.0\n",
      "0.0\n",
      "0.0\n",
      "0.0\n",
      "0.0\n",
      "0.0\n",
      "0.0\n",
      "0.0\n",
      "0.0\n",
      "0.0\n",
      "0.0\n",
      "0.0\n",
      "0.0\n",
      "0.0\n",
      "0.0\n",
      "0.0\n",
      "0.0\n",
      "0.0\n",
      "0.0\n",
      "0.0\n",
      "0.0\n",
      "0.0\n",
      "0.0\n",
      "0.0\n",
      "0.0\n",
      "0.0\n",
      "0.0\n",
      "0.0\n",
      "0.0\n",
      "0.0\n",
      "0.0\n",
      "0.0\n",
      "0.0\n",
      "0.0\n",
      "0.0\n"
     ]
    }
   ],
   "source": [
    "from cogent3 import load_aligned_seqs\n",
    "\n",
    "aln = load_aligned_seqs(\"data/primate_cdx2_promoter.fasta\")\n",
    "for column in aln[113:150].iter_positions():\n",
    "    ungapped = list(filter(lambda x: x == \"-\", column))\n",
    "    gap_fraction = len(ungapped) * 1.0 / len(column)\n",
    "    print(gap_fraction)"
   ]
  },
  {
   "cell_type": "code",
   "execution_count": 55,
   "id": "e28cdcbd",
   "metadata": {
    "execution": {
     "iopub.execute_input": "2023-01-15T01:16:07.813299Z",
     "iopub.status.busy": "2023-01-15T01:16:07.812685Z",
     "iopub.status.idle": "2023-01-15T01:16:07.814655Z",
     "shell.execute_reply": "2023-01-15T01:16:07.815019Z"
    }
   },
   "outputs": [],
   "source": [
    "from cogent3 import make_aligned_seqs\n",
    "\n",
    "aln = make_aligned_seqs(\n",
    "    data=[\n",
    "        (\"seq1\", \"ATGAAGG-TG--\"),\n",
    "        (\"seq2\", \"ATG-AGGTGATG\"),\n",
    "        (\"seq3\", \"ATGAAG--GATG\"),\n",
    "    ],\n",
    "    moltype=\"dna\",\n",
    ")\n",
    "seq_to_aln_map = aln.get_gapped_seq(\"seq1\").gap_maps()[0]"
   ]
  },
  {
   "cell_type": "code",
   "execution_count": 56,
   "id": "2271e2e5",
   "metadata": {
    "execution": {
     "iopub.execute_input": "2023-01-15T01:16:07.818490Z",
     "iopub.status.busy": "2023-01-15T01:16:07.817943Z",
     "iopub.status.idle": "2023-01-15T01:16:07.820195Z",
     "shell.execute_reply": "2023-01-15T01:16:07.820598Z"
    }
   },
   "outputs": [
    {
     "data": {
      "text/plain": [
       "9"
      ]
     },
     "execution_count": 56,
     "metadata": {},
     "output_type": "execute_result"
    }
   ],
   "source": [
    "seq_to_aln_map[3]\n",
    "seq_to_aln_map[8]"
   ]
  },
  {
   "cell_type": "code",
   "execution_count": 57,
   "id": "af25e480",
   "metadata": {
    "execution": {
     "iopub.execute_input": "2023-01-15T01:16:07.824169Z",
     "iopub.status.busy": "2023-01-15T01:16:07.823635Z",
     "iopub.status.idle": "2023-01-15T01:16:07.825891Z",
     "shell.execute_reply": "2023-01-15T01:16:07.826296Z"
    }
   },
   "outputs": [
    {
     "data": {
      "text/plain": [
       "7"
      ]
     },
     "execution_count": 57,
     "metadata": {},
     "output_type": "execute_result"
    }
   ],
   "source": [
    "aln_to_seq_map = aln.get_gapped_seq(\"seq1\").gap_maps()[1]\n",
    "aln_to_seq_map[3]\n",
    "aln_to_seq_map[8]"
   ]
  },
  {
   "cell_type": "code",
   "execution_count": 58,
   "id": "1433b5ab",
   "metadata": {
    "execution": {
     "iopub.execute_input": "2023-01-15T01:16:07.838206Z",
     "iopub.status.busy": "2023-01-15T01:16:07.837594Z",
     "iopub.status.idle": "2023-01-15T01:16:07.839955Z",
     "shell.execute_reply": "2023-01-15T01:16:07.840414Z"
    }
   },
   "outputs": [
    {
     "ename": "KeyError",
     "evalue": "7",
     "output_type": "error",
     "traceback": [
      "\u001b[0;31m---------------------------------------------------------------------------\u001b[0m",
      "\u001b[0;31mKeyError\u001b[0m                                  Traceback (most recent call last)",
      "Input \u001b[0;32mIn [58]\u001b[0m, in \u001b[0;36m<module>\u001b[0;34m\u001b[0m\n\u001b[0;32m----> 1\u001b[0m seq_pos \u001b[38;5;241m=\u001b[39m \u001b[43maln_to_seq_map\u001b[49m\u001b[43m[\u001b[49m\u001b[38;5;241;43m7\u001b[39;49m\u001b[43m]\u001b[49m\n",
      "\u001b[0;31mKeyError\u001b[0m: 7"
     ]
    }
   ],
   "source": [
    "seq_pos = aln_to_seq_map[7]"
   ]
  },
  {
   "cell_type": "code",
   "execution_count": 59,
   "id": "b9fb72f6",
   "metadata": {
    "execution": {
     "iopub.execute_input": "2023-01-15T01:16:07.844195Z",
     "iopub.status.busy": "2023-01-15T01:16:07.843656Z",
     "iopub.status.idle": "2023-01-15T01:16:07.845617Z",
     "shell.execute_reply": "2023-01-15T01:16:07.845981Z"
    }
   },
   "outputs": [
    {
     "name": "stdout",
     "output_type": "stream",
     "text": [
      ">seq2\n",
      "ATG-AGTGATG\n",
      ">seq3\n",
      "AT--AG-GATG\n",
      "\n"
     ]
    }
   ],
   "source": [
    "aln = make_aligned_seqs(\n",
    "    data=[\n",
    "        (\"seq1\", \"ATGAA---TG-\"),\n",
    "        (\"seq2\", \"ATG-AGTGATG\"),\n",
    "        (\"seq3\", \"AT--AG-GATG\"),\n",
    "    ],\n",
    "    moltype=\"dna\",\n",
    ")\n",
    "print(aln.omit_gap_runs(2))"
   ]
  },
  {
   "cell_type": "code",
   "execution_count": 60,
   "id": "3499d099",
   "metadata": {
    "execution": {
     "iopub.execute_input": "2023-01-15T01:16:07.849951Z",
     "iopub.status.busy": "2023-01-15T01:16:07.849390Z",
     "iopub.status.idle": "2023-01-15T01:16:07.851393Z",
     "shell.execute_reply": "2023-01-15T01:16:07.851776Z"
    }
   },
   "outputs": [
    {
     "name": "stdout",
     "output_type": "stream",
     "text": [
      ">seq1\n",
      "ATGA--TG-\n",
      ">seq2\n",
      "ATGAGGATG\n",
      ">seq3\n",
      "AT-AGGATG\n",
      "\n"
     ]
    }
   ],
   "source": [
    "aln = make_aligned_seqs(\n",
    "    data=[\n",
    "        (\"seq1\", \"ATGAA---TG-\"),\n",
    "        (\"seq2\", \"ATG-AGTGATG\"),\n",
    "        (\"seq3\", \"AT--AG-GATG\"),\n",
    "    ],\n",
    "    moltype=\"dna\",\n",
    ")\n",
    "print(aln.omit_gap_pos(0.40))"
   ]
  },
  {
   "cell_type": "code",
   "execution_count": 61,
   "id": "b523e4ff",
   "metadata": {
    "execution": {
     "iopub.execute_input": "2023-01-15T01:16:07.855287Z",
     "iopub.status.busy": "2023-01-15T01:16:07.854758Z",
     "iopub.status.idle": "2023-01-15T01:16:07.857111Z",
     "shell.execute_reply": "2023-01-15T01:16:07.857479Z"
    }
   },
   "outputs": [
    {
     "name": "stdout",
     "output_type": "stream",
     "text": [
      ">seq2\n",
      "ATG-AGTGATG\n",
      ">seq3\n",
      "AT--AG-GATG\n",
      "\n"
     ]
    }
   ],
   "source": [
    "aln = make_aligned_seqs(\n",
    "    data=[\n",
    "        (\"seq1\", \"ATGAA------\"),\n",
    "        (\"seq2\", \"ATG-AGTGATG\"),\n",
    "        (\"seq3\", \"AT--AG-GATG\"),\n",
    "    ],\n",
    "    moltype=\"dna\",\n",
    ")\n",
    "filtered_aln = aln.omit_gap_seqs(0.50)\n",
    "print(filtered_aln)"
   ]
  },
  {
   "cell_type": "code",
   "execution_count": 62,
   "id": "01d01466",
   "metadata": {
    "execution": {
     "iopub.execute_input": "2023-01-15T01:16:07.860680Z",
     "iopub.status.busy": "2023-01-15T01:16:07.860153Z",
     "iopub.status.idle": "2023-01-15T01:16:07.862052Z",
     "shell.execute_reply": "2023-01-15T01:16:07.862609Z"
    }
   },
   "outputs": [
    {
     "name": "stdout",
     "output_type": "stream",
     "text": [
      ">seq2\n",
      "ATGAGTGATG\n",
      ">seq3\n",
      "AT-AG-GATG\n",
      "\n"
     ]
    }
   ],
   "source": [
    "print(filtered_aln.omit_gap_pos())"
   ]
  }
 ],
 "metadata": {
  "kernelspec": {
   "display_name": "Python 3 (ipykernel)",
   "language": "python",
   "name": "python3"
  },
  "language_info": {
   "codemirror_mode": {
    "name": "ipython",
    "version": 3
   },
   "file_extension": ".py",
   "mimetype": "text/x-python",
   "name": "python",
   "nbconvert_exporter": "python",
   "pygments_lexer": "ipython3",
   "version": "3.10.0"
  }
 },
 "nbformat": 4,
 "nbformat_minor": 5
}