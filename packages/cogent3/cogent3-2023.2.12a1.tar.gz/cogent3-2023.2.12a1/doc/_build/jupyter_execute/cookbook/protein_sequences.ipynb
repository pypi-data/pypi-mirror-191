{
 "cells": [
  {
   "cell_type": "code",
   "execution_count": 1,
   "id": "a6e97b02",
   "metadata": {
    "execution": {
     "iopub.execute_input": "2023-01-15T01:17:09.362198Z",
     "iopub.status.busy": "2023-01-15T01:17:09.361546Z",
     "iopub.status.idle": "2023-01-15T01:17:11.376308Z",
     "shell.execute_reply": "2023-01-15T01:17:11.376772Z"
    }
   },
   "outputs": [],
   "source": [
    "import set_working_directory"
   ]
  },
  {
   "cell_type": "code",
   "execution_count": 2,
   "id": "85eeb9c4",
   "metadata": {
    "execution": {
     "iopub.execute_input": "2023-01-15T01:17:11.381259Z",
     "iopub.status.busy": "2023-01-15T01:17:11.380609Z",
     "iopub.status.idle": "2023-01-15T01:17:12.686042Z",
     "shell.execute_reply": "2023-01-15T01:17:12.686769Z"
    }
   },
   "outputs": [
    {
     "data": {
      "text/plain": [
       "'THISISAPRQTEIN'"
      ]
     },
     "execution_count": 2,
     "metadata": {},
     "output_type": "execute_result"
    }
   ],
   "source": [
    "from cogent3 import PROTEIN\n",
    "\n",
    "p = PROTEIN.make_seq(\"THISISAPRQTEIN\", \"myProtein\")\n",
    "type(p)\n",
    "str(p)"
   ]
  },
  {
   "cell_type": "code",
   "execution_count": 3,
   "id": "a5442866",
   "metadata": {
    "execution": {
     "iopub.execute_input": "2023-01-15T01:17:12.690997Z",
     "iopub.status.busy": "2023-01-15T01:17:12.690380Z",
     "iopub.status.idle": "2023-01-15T01:17:12.692661Z",
     "shell.execute_reply": "2023-01-15T01:17:12.693058Z"
    }
   },
   "outputs": [
    {
     "data": {
      "text/plain": [
       "'FAN'"
      ]
     },
     "execution_count": 3,
     "metadata": {},
     "output_type": "execute_result"
    }
   ],
   "source": [
    "from cogent3.core.genetic_code import DEFAULT as standard_code\n",
    "\n",
    "standard_code.translate(\"TTTGCAAAC\")"
   ]
  },
  {
   "cell_type": "code",
   "execution_count": 4,
   "id": "9648623e",
   "metadata": {
    "execution": {
     "iopub.execute_input": "2023-01-15T01:17:12.696192Z",
     "iopub.status.busy": "2023-01-15T01:17:12.695677Z",
     "iopub.status.idle": "2023-01-15T01:17:12.698101Z",
     "shell.execute_reply": "2023-01-15T01:17:12.698636Z"
    }
   },
   "outputs": [],
   "source": [
    "from cogent3 import load_aligned_seqs\n",
    "\n",
    "seq = load_aligned_seqs(\"data/abglobin_aa.phylip\", moltype=\"protein\")"
   ]
  }
 ],
 "metadata": {
  "kernelspec": {
   "display_name": "Python 3 (ipykernel)",
   "language": "python",
   "name": "python3"
  },
  "language_info": {
   "codemirror_mode": {
    "name": "ipython",
    "version": 3
   },
   "file_extension": ".py",
   "mimetype": "text/x-python",
   "name": "python",
   "nbconvert_exporter": "python",
   "pygments_lexer": "ipython3",
   "version": "3.10.0"
  }
 },
 "nbformat": 4,
 "nbformat_minor": 5
}