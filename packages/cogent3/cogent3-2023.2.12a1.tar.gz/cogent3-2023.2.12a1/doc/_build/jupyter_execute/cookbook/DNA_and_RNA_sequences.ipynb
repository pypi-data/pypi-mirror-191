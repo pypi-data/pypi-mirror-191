{
 "cells": [
  {
   "cell_type": "code",
   "execution_count": 1,
   "id": "28cd9006",
   "metadata": {
    "execution": {
     "iopub.execute_input": "2023-01-15T01:15:59.514359Z",
     "iopub.status.busy": "2023-01-15T01:15:59.513661Z",
     "iopub.status.idle": "2023-01-15T01:16:00.986216Z",
     "shell.execute_reply": "2023-01-15T01:16:00.986593Z"
    }
   },
   "outputs": [
    {
     "name": "stdout",
     "output_type": "stream",
     "text": [
      "AGTACACTGGT\n"
     ]
    },
    {
     "data": {
      "text/plain": [
       "'AGTACACTGGT'"
      ]
     },
     "execution_count": 1,
     "metadata": {},
     "output_type": "execute_result"
    }
   ],
   "source": [
    "from cogent3 import DNA\n",
    "\n",
    "my_seq = DNA.make_seq(\"AGTACACTGGT\")\n",
    "my_seq\n",
    "print(my_seq)\n",
    "str(my_seq)"
   ]
  },
  {
   "cell_type": "code",
   "execution_count": 2,
   "id": "f0ac5745",
   "metadata": {
    "execution": {
     "iopub.execute_input": "2023-01-15T01:16:00.990068Z",
     "iopub.status.busy": "2023-01-15T01:16:00.989475Z",
     "iopub.status.idle": "2023-01-15T01:16:00.991038Z",
     "shell.execute_reply": "2023-01-15T01:16:00.991586Z"
    }
   },
   "outputs": [],
   "source": [
    "from cogent3 import RNA\n",
    "\n",
    "rnaseq = RNA.make_seq(\"ACGUACGUACGUACGU\")"
   ]
  },
  {
   "cell_type": "code",
   "execution_count": 3,
   "id": "d991dcc5",
   "metadata": {
    "execution": {
     "iopub.execute_input": "2023-01-15T01:16:00.994959Z",
     "iopub.status.busy": "2023-01-15T01:16:00.994382Z",
     "iopub.status.idle": "2023-01-15T01:16:00.996660Z",
     "shell.execute_reply": "2023-01-15T01:16:00.997071Z"
    }
   },
   "outputs": [
    {
     "name": "stdout",
     "output_type": "stream",
     "text": [
      ">0\n",
      "AGTACACTGGT\n",
      "\n"
     ]
    }
   ],
   "source": [
    "from cogent3 import DNA\n",
    "\n",
    "my_seq = DNA.make_seq(\"AGTACACTGGT\")\n",
    "print(my_seq.to_fasta())"
   ]
  },
  {
   "cell_type": "code",
   "execution_count": 4,
   "id": "d22440a6",
   "metadata": {
    "execution": {
     "iopub.execute_input": "2023-01-15T01:16:01.001171Z",
     "iopub.status.busy": "2023-01-15T01:16:01.000483Z",
     "iopub.status.idle": "2023-01-15T01:16:01.002841Z",
     "shell.execute_reply": "2023-01-15T01:16:01.003224Z"
    }
   },
   "outputs": [
    {
     "data": {
      "text/plain": [
       "'>0\\nACGUACGUACGUACGU\\n'"
      ]
     },
     "execution_count": 4,
     "metadata": {},
     "output_type": "execute_result"
    }
   ],
   "source": [
    "from cogent3 import RNA\n",
    "\n",
    "rnaseq = RNA.make_seq(\"ACGUACGUACGUACGU\")\n",
    "rnaseq.to_fasta()"
   ]
  },
  {
   "cell_type": "code",
   "execution_count": 5,
   "id": "9638c23d",
   "metadata": {
    "execution": {
     "iopub.execute_input": "2023-01-15T01:16:01.007305Z",
     "iopub.status.busy": "2023-01-15T01:16:01.006759Z",
     "iopub.status.idle": "2023-01-15T01:16:01.008938Z",
     "shell.execute_reply": "2023-01-15T01:16:01.009364Z"
    }
   },
   "outputs": [
    {
     "data": {
      "text/plain": [
       "cogent3.core.sequence.DnaSequence"
      ]
     },
     "execution_count": 5,
     "metadata": {},
     "output_type": "execute_result"
    }
   ],
   "source": [
    "from cogent3 import make_seq\n",
    "\n",
    "my_seq = make_seq(\"AGTACACTGGT\", \"my_gene\", moltype=\"dna\")\n",
    "my_seq\n",
    "type(my_seq)"
   ]
  },
  {
   "cell_type": "code",
   "execution_count": 6,
   "id": "faa13e42",
   "metadata": {
    "execution": {
     "iopub.execute_input": "2023-01-15T01:16:01.012769Z",
     "iopub.status.busy": "2023-01-15T01:16:01.012158Z",
     "iopub.status.idle": "2023-01-15T01:16:01.014272Z",
     "shell.execute_reply": "2023-01-15T01:16:01.014654Z"
    }
   },
   "outputs": [
    {
     "name": "stdout",
     "output_type": "stream",
     "text": [
      ">my_gene\n",
      "AGTACACTGGT\n",
      "\n"
     ]
    }
   ],
   "source": [
    "from cogent3 import make_seq\n",
    "\n",
    "my_seq = make_seq(\"AGTACACTGGT\", moltype=\"dna\")\n",
    "my_seq.name = \"my_gene\"\n",
    "print(my_seq.to_fasta())"
   ]
  },
  {
   "cell_type": "code",
   "execution_count": 7,
   "id": "6d7a692a",
   "metadata": {
    "execution": {
     "iopub.execute_input": "2023-01-15T01:16:01.017883Z",
     "iopub.status.busy": "2023-01-15T01:16:01.017304Z",
     "iopub.status.idle": "2023-01-15T01:16:01.019380Z",
     "shell.execute_reply": "2023-01-15T01:16:01.019771Z"
    }
   },
   "outputs": [
    {
     "name": "stdout",
     "output_type": "stream",
     "text": [
      "TCATGTGACCA\n"
     ]
    }
   ],
   "source": [
    "from cogent3 import DNA\n",
    "\n",
    "my_seq = DNA.make_seq(\"AGTACACTGGT\")\n",
    "print(my_seq.complement())"
   ]
  },
  {
   "cell_type": "code",
   "execution_count": 8,
   "id": "b460b8e7",
   "metadata": {
    "execution": {
     "iopub.execute_input": "2023-01-15T01:16:01.023014Z",
     "iopub.status.busy": "2023-01-15T01:16:01.022479Z",
     "iopub.status.idle": "2023-01-15T01:16:01.024464Z",
     "shell.execute_reply": "2023-01-15T01:16:01.024901Z"
    }
   },
   "outputs": [
    {
     "name": "stdout",
     "output_type": "stream",
     "text": [
      "ACCAGTGTACT\n"
     ]
    }
   ],
   "source": [
    "print(my_seq.rc())"
   ]
  },
  {
   "cell_type": "code",
   "execution_count": 9,
   "id": "d0144a1d",
   "metadata": {
    "execution": {
     "iopub.execute_input": "2023-01-15T01:16:01.027845Z",
     "iopub.status.busy": "2023-01-15T01:16:01.027289Z",
     "iopub.status.idle": "2023-01-15T01:16:01.029261Z",
     "shell.execute_reply": "2023-01-15T01:16:01.029836Z"
    }
   },
   "outputs": [
    {
     "name": "stdout",
     "output_type": "stream",
     "text": [
      "ACCAGTGTACT\n"
     ]
    }
   ],
   "source": [
    "print(my_seq.rc())"
   ]
  },
  {
   "cell_type": "code",
   "execution_count": 10,
   "id": "5914f657",
   "metadata": {
    "execution": {
     "iopub.execute_input": "2023-01-15T01:16:01.033668Z",
     "iopub.status.busy": "2023-01-15T01:16:01.033140Z",
     "iopub.status.idle": "2023-01-15T01:16:01.035046Z",
     "shell.execute_reply": "2023-01-15T01:16:01.035417Z"
    }
   },
   "outputs": [
    {
     "name": "stdout",
     "output_type": "stream",
     "text": [
      ">protein-X\n",
      "AWESQME\n",
      "\n"
     ]
    }
   ],
   "source": [
    "from cogent3 import DNA\n",
    "\n",
    "my_seq = DNA.make_seq(\"GCTTGGGAAAGTCAAATGGAA\", \"protein-X\")\n",
    "pep = my_seq.get_translation()\n",
    "type(pep)\n",
    "print(pep.to_fasta())"
   ]
  },
  {
   "cell_type": "code",
   "execution_count": 11,
   "id": "4035ab31",
   "metadata": {
    "execution": {
     "iopub.execute_input": "2023-01-15T01:16:01.038643Z",
     "iopub.status.busy": "2023-01-15T01:16:01.038053Z",
     "iopub.status.idle": "2023-01-15T01:16:01.040102Z",
     "shell.execute_reply": "2023-01-15T01:16:01.040471Z"
    }
   },
   "outputs": [
    {
     "name": "stdout",
     "output_type": "stream",
     "text": [
      "ACGUACGUACGUACGU\n"
     ]
    }
   ],
   "source": [
    "from cogent3 import DNA\n",
    "\n",
    "my_seq = DNA.make_seq(\"ACGTACGTACGTACGT\")\n",
    "print(my_seq.to_rna())"
   ]
  },
  {
   "cell_type": "code",
   "execution_count": 12,
   "id": "df3f681a",
   "metadata": {
    "execution": {
     "iopub.execute_input": "2023-01-15T01:16:01.043692Z",
     "iopub.status.busy": "2023-01-15T01:16:01.043108Z",
     "iopub.status.idle": "2023-01-15T01:16:01.045175Z",
     "shell.execute_reply": "2023-01-15T01:16:01.045543Z"
    }
   },
   "outputs": [
    {
     "name": "stdout",
     "output_type": "stream",
     "text": [
      "ACGTACGTACGTACGT\n"
     ]
    }
   ],
   "source": [
    "from cogent3 import RNA\n",
    "\n",
    "rnaseq = RNA.make_seq(\"ACGUACGUACGUACGU\")\n",
    "print(rnaseq.to_dna())"
   ]
  },
  {
   "cell_type": "code",
   "execution_count": 13,
   "id": "3ef64958",
   "metadata": {
    "execution": {
     "iopub.execute_input": "2023-01-15T01:16:01.049351Z",
     "iopub.status.busy": "2023-01-15T01:16:01.048822Z",
     "iopub.status.idle": "2023-01-15T01:16:01.051041Z",
     "shell.execute_reply": "2023-01-15T01:16:01.051409Z"
    }
   },
   "outputs": [
    {
     "data": {
      "text/plain": [
       "True"
      ]
     },
     "execution_count": 13,
     "metadata": {},
     "output_type": "execute_result"
    }
   ],
   "source": [
    "from cogent3 import DNA\n",
    "\n",
    "a = DNA.make_seq(\"AGTACACTGGT\")\n",
    "a.can_pair(a.complement())\n",
    "a.can_pair(a.rc())"
   ]
  },
  {
   "cell_type": "code",
   "execution_count": 14,
   "id": "11055001",
   "metadata": {
    "execution": {
     "iopub.execute_input": "2023-01-15T01:16:01.055473Z",
     "iopub.status.busy": "2023-01-15T01:16:01.054881Z",
     "iopub.status.idle": "2023-01-15T01:16:01.057006Z",
     "shell.execute_reply": "2023-01-15T01:16:01.057452Z"
    }
   },
   "outputs": [
    {
     "data": {
      "text/plain": [
       "'AGTACACTGGTCTGAC'"
      ]
     },
     "execution_count": 14,
     "metadata": {},
     "output_type": "execute_result"
    }
   ],
   "source": [
    "from cogent3 import DNA\n",
    "\n",
    "my_seq = DNA.make_seq(\"AGTACACTGGT\")\n",
    "extra_seq = DNA.make_seq(\"CTGAC\")\n",
    "long_seq = my_seq + extra_seq\n",
    "long_seq\n",
    "str(long_seq)"
   ]
  },
  {
   "cell_type": "code",
   "execution_count": 15,
   "id": "ea160002",
   "metadata": {
    "execution": {
     "iopub.execute_input": "2023-01-15T01:16:01.061120Z",
     "iopub.status.busy": "2023-01-15T01:16:01.060513Z",
     "iopub.status.idle": "2023-01-15T01:16:01.062674Z",
     "shell.execute_reply": "2023-01-15T01:16:01.063106Z"
    }
   },
   "outputs": [
    {
     "data": {
      "text/html": [
       "<style>\n",
       ".c3seq td { border: none !important; text-align: left !important; }\n",
       ".c3seq tr:not(.num_row) td span {margin: 0 2px;}\n",
       ".c3seq tr:nth-child(even) {background: #f7f7f7;}\n",
       ".c3seq .num_row {background-color:rgba(161, 195, 209, 0.5) !important; border-top: solid 1px black; }\n",
       ".c3seq .label { font-size: 12pt ; text-align: right !important; color: black !important; padding: 0 4px; }\n",
       ".c3seq .T_dna{font-family: \"Lucida Console\",monospace !important; font-size: 12pt !important; color: blue; }\n",
       ".c3seq .C_dna{font-family: \"Lucida Console\",monospace !important; font-size: 12pt !important; color: black; }\n",
       ".c3seq .A_dna{font-family: \"Lucida Console\",monospace !important; font-size: 12pt !important; color: #FF0102; }\n",
       ".c3seq .G_dna{font-family: \"Lucida Console\",monospace !important; font-size: 12pt !important; color: green; }\n",
       ".c3seq .terminal_ambig_dna{font-family: \"Lucida Console\",monospace !important; font-size: 12pt !important; color: gray; }\n",
       ".c3seq .ambig_dna{font-family: \"Lucida Console\",monospace !important; font-size: 12pt !important; color: gray; }\n",
       "</style>\n",
       "<div class=\"c3seq\">\n",
       "<table>\n",
       "<tr class=\"num_row\"><td></td><td><b>0</b></td></tr>\n",
       "<tr><td class=\"label\">None</td><td><span class=\"G_dna\">G</span><span class=\"T_dna\">T</span><span class=\"A_dna\">A</span><span class=\"C_dna\">C</span><span class=\"A_dna\">A</span></td></tr>\n",
       "</table>\n",
       "<p><i>5 DnaSequence</i></p>\n",
       "</div>"
      ],
      "text/plain": [
       "DnaSequence(GTACA)"
      ]
     },
     "execution_count": 15,
     "metadata": {},
     "output_type": "execute_result"
    }
   ],
   "source": [
    "my_seq[1:6]"
   ]
  },
  {
   "cell_type": "code",
   "execution_count": 16,
   "id": "90055036",
   "metadata": {
    "execution": {
     "iopub.execute_input": "2023-01-15T01:16:01.066506Z",
     "iopub.status.busy": "2023-01-15T01:16:01.065979Z",
     "iopub.status.idle": "2023-01-15T01:16:01.067735Z",
     "shell.execute_reply": "2023-01-15T01:16:01.068250Z"
    }
   },
   "outputs": [],
   "source": [
    "from cogent3 import DNA\n",
    "\n",
    "seq = DNA.make_array_seq(\"ATGATGATGATG\")\n",
    "pos3 = seq[2::3]\n",
    "assert str(pos3) == \"GGGG\""
   ]
  },
  {
   "cell_type": "code",
   "execution_count": 17,
   "id": "c438f7f9",
   "metadata": {
    "execution": {
     "iopub.execute_input": "2023-01-15T01:16:01.072474Z",
     "iopub.status.busy": "2023-01-15T01:16:01.071918Z",
     "iopub.status.idle": "2023-01-15T01:16:01.073556Z",
     "shell.execute_reply": "2023-01-15T01:16:01.073931Z"
    }
   },
   "outputs": [],
   "source": [
    "from cogent3 import DNA\n",
    "\n",
    "seq = DNA.make_seq(\"ATGATGATGATG\")\n",
    "indices = [(i, i + 2) for i in range(len(seq))[::3]]\n",
    "pos12 = seq.add_feature(\"pos12\", \"pos12\", indices)\n",
    "pos12 = pos12.get_slice()\n",
    "assert str(pos12) == \"ATATATAT\""
   ]
  },
  {
   "cell_type": "code",
   "execution_count": 18,
   "id": "7c962678",
   "metadata": {
    "execution": {
     "iopub.execute_input": "2023-01-15T01:16:01.077135Z",
     "iopub.status.busy": "2023-01-15T01:16:01.076580Z",
     "iopub.status.idle": "2023-01-15T01:16:01.078571Z",
     "shell.execute_reply": "2023-01-15T01:16:01.078949Z"
    }
   },
   "outputs": [
    {
     "name": "stdout",
     "output_type": "stream",
     "text": [
      "AUUAUGCUAUUAU\n"
     ]
    }
   ],
   "source": [
    "from cogent3 import RNA\n",
    "\n",
    "s = RNA.make_seq(\"--AUUAUGCUAU-UAu--\")\n",
    "print(s.degap())"
   ]
  }
 ],
 "metadata": {
  "kernelspec": {
   "display_name": "Python 3 (ipykernel)",
   "language": "python",
   "name": "python3"
  },
  "language_info": {
   "codemirror_mode": {
    "name": "ipython",
    "version": 3
   },
   "file_extension": ".py",
   "mimetype": "text/x-python",
   "name": "python",
   "nbconvert_exporter": "python",
   "pygments_lexer": "ipython3",
   "version": "3.10.0"
  }
 },
 "nbformat": 4,
 "nbformat_minor": 5
}