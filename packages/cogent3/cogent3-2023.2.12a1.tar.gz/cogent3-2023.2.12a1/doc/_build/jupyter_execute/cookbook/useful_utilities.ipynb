{
 "cells": [
  {
   "cell_type": "code",
   "execution_count": 1,
   "id": "7e840236",
   "metadata": {
    "execution": {
     "iopub.execute_input": "2023-01-15T01:17:26.203602Z",
     "iopub.status.busy": "2023-01-15T01:17:26.202899Z",
     "iopub.status.idle": "2023-01-15T01:17:27.545945Z",
     "shell.execute_reply": "2023-01-15T01:17:27.545522Z"
    }
   },
   "outputs": [
    {
     "data": {
      "text/plain": [
       "2"
      ]
     },
     "execution_count": 1,
     "metadata": {},
     "output_type": "execute_result"
    }
   ],
   "source": [
    "from cogent3.util.union_dict import UnionDict\n",
    "\n",
    "data = UnionDict(a=2, b={\"c\": 24, \"d\": [25]})\n",
    "data.a"
   ]
  },
  {
   "cell_type": "code",
   "execution_count": 2,
   "id": "06a7eeeb",
   "metadata": {
    "execution": {
     "iopub.execute_input": "2023-01-15T01:17:27.549954Z",
     "iopub.status.busy": "2023-01-15T01:17:27.549328Z",
     "iopub.status.idle": "2023-01-15T01:17:27.552040Z",
     "shell.execute_reply": "2023-01-15T01:17:27.551678Z"
    }
   },
   "outputs": [
    {
     "data": {
      "text/plain": [
       "2"
      ]
     },
     "execution_count": 2,
     "metadata": {},
     "output_type": "execute_result"
    }
   ],
   "source": [
    "data[\"a\"]"
   ]
  },
  {
   "cell_type": "code",
   "execution_count": 3,
   "id": "ce12aa8a",
   "metadata": {
    "execution": {
     "iopub.execute_input": "2023-01-15T01:17:27.555381Z",
     "iopub.status.busy": "2023-01-15T01:17:27.554796Z",
     "iopub.status.idle": "2023-01-15T01:17:27.557055Z",
     "shell.execute_reply": "2023-01-15T01:17:27.557437Z"
    }
   },
   "outputs": [
    {
     "data": {
      "text/plain": [
       "[25]"
      ]
     },
     "execution_count": 3,
     "metadata": {},
     "output_type": "execute_result"
    }
   ],
   "source": [
    "data.b.d"
   ]
  },
  {
   "cell_type": "code",
   "execution_count": 4,
   "id": "936494c9",
   "metadata": {
    "execution": {
     "iopub.execute_input": "2023-01-15T01:17:27.561417Z",
     "iopub.status.busy": "2023-01-15T01:17:27.560832Z",
     "iopub.status.idle": "2023-01-15T01:17:27.563007Z",
     "shell.execute_reply": "2023-01-15T01:17:27.563509Z"
    }
   },
   "outputs": [
    {
     "data": {
      "text/plain": [
       "{'c': 24, 'd': 25}"
      ]
     },
     "execution_count": 4,
     "metadata": {},
     "output_type": "execute_result"
    }
   ],
   "source": [
    "from cogent3.util.union_dict import UnionDict\n",
    "\n",
    "data = UnionDict(a=2, b={\"c\": 24, \"d\": [25]})\n",
    "data.b |= {\"d\": 25}\n",
    "data.b"
   ]
  },
  {
   "cell_type": "code",
   "execution_count": 5,
   "id": "b4135798",
   "metadata": {
    "execution": {
     "iopub.execute_input": "2023-01-15T01:17:27.566589Z",
     "iopub.status.busy": "2023-01-15T01:17:27.566001Z",
     "iopub.status.idle": "2023-01-15T01:17:27.567818Z",
     "shell.execute_reply": "2023-01-15T01:17:27.568365Z"
    }
   },
   "outputs": [],
   "source": [
    "data.b.union({\"d\": [25]})"
   ]
  },
  {
   "cell_type": "code",
   "execution_count": 6,
   "id": "b6252465",
   "metadata": {
    "execution": {
     "iopub.execute_input": "2023-01-15T01:17:27.571786Z",
     "iopub.status.busy": "2023-01-15T01:17:27.571245Z",
     "iopub.status.idle": "2023-01-15T01:17:27.573452Z",
     "shell.execute_reply": "2023-01-15T01:17:27.573831Z"
    }
   },
   "outputs": [
    {
     "data": {
      "text/plain": [
       "{'c': 24, 'd': [25]}"
      ]
     },
     "execution_count": 6,
     "metadata": {},
     "output_type": "execute_result"
    }
   ],
   "source": [
    "data.b\n",
    "{\"c\": 24, \"d\": [25]}"
   ]
  },
  {
   "cell_type": "code",
   "execution_count": 7,
   "id": "f3c5a44b",
   "metadata": {
    "execution": {
     "iopub.execute_input": "2023-01-15T01:17:27.577103Z",
     "iopub.status.busy": "2023-01-15T01:17:27.576580Z",
     "iopub.status.idle": "2023-01-15T01:17:27.953801Z",
     "shell.execute_reply": "2023-01-15T01:17:27.954151Z"
    }
   },
   "outputs": [
    {
     "ename": "KeyError",
     "evalue": "'k'",
     "output_type": "error",
     "traceback": [
      "\u001b[0;31m---------------------------------------------------------------------------\u001b[0m",
      "\u001b[0;31mKeyError\u001b[0m                                  Traceback (most recent call last)",
      "Input \u001b[0;32mIn [7]\u001b[0m, in \u001b[0;36m<module>\u001b[0;34m\u001b[0m\n\u001b[1;32m      1\u001b[0m \u001b[38;5;28;01mfrom\u001b[39;00m \u001b[38;5;21;01mcogent3\u001b[39;00m\u001b[38;5;21;01m.\u001b[39;00m\u001b[38;5;21;01mutil\u001b[39;00m\u001b[38;5;21;01m.\u001b[39;00m\u001b[38;5;21;01munion_dict\u001b[39;00m \u001b[38;5;28;01mimport\u001b[39;00m UnionDict\n\u001b[1;32m      3\u001b[0m data \u001b[38;5;241m=\u001b[39m UnionDict(a\u001b[38;5;241m=\u001b[39m\u001b[38;5;241m2\u001b[39m, b\u001b[38;5;241m=\u001b[39m{\u001b[38;5;124m\"\u001b[39m\u001b[38;5;124mc\u001b[39m\u001b[38;5;124m\"\u001b[39m: \u001b[38;5;241m24\u001b[39m, \u001b[38;5;124m\"\u001b[39m\u001b[38;5;124md\u001b[39m\u001b[38;5;124m\"\u001b[39m: [\u001b[38;5;241m25\u001b[39m]})\n\u001b[0;32m----> 4\u001b[0m \u001b[43mdata\u001b[49m\u001b[43m[\u001b[49m\u001b[38;5;124;43m\"\u001b[39;49m\u001b[38;5;124;43mk\u001b[39;49m\u001b[38;5;124;43m\"\u001b[39;49m\u001b[43m]\u001b[49m\n",
      "\u001b[0;31mKeyError\u001b[0m: 'k'"
     ]
    }
   ],
   "source": [
    "from cogent3.util.union_dict import UnionDict\n",
    "\n",
    "data = UnionDict(a=2, b={\"c\": 24, \"d\": [25]})\n",
    "data[\"k\"]"
   ]
  },
  {
   "cell_type": "code",
   "execution_count": 8,
   "id": "57aca18d",
   "metadata": {
    "execution": {
     "iopub.execute_input": "2023-01-15T01:17:27.960601Z",
     "iopub.status.busy": "2023-01-15T01:17:27.960144Z",
     "iopub.status.idle": "2023-01-15T01:17:27.991928Z",
     "shell.execute_reply": "2023-01-15T01:17:27.992272Z"
    }
   },
   "outputs": [
    {
     "ename": "AttributeError",
     "evalue": "'k' not a key or attribute",
     "output_type": "error",
     "traceback": [
      "\u001b[0;31m---------------------------------------------------------------------------\u001b[0m",
      "\u001b[0;31mAttributeError\u001b[0m                            Traceback (most recent call last)",
      "File \u001b[0;32m~/opt/miniconda3/envs/c310dev/lib/python3.10/site-packages/cogent3/util/union_dict.py:46\u001b[0m, in \u001b[0;36mUnionDict.__getattr__\u001b[0;34m(self, item)\u001b[0m\n\u001b[1;32m     45\u001b[0m \u001b[38;5;28;01mtry\u001b[39;00m:\n\u001b[0;32m---> 46\u001b[0m     \u001b[38;5;28;01mreturn\u001b[39;00m \u001b[38;5;28;43msuper\u001b[39;49m\u001b[43m(\u001b[49m\u001b[43m)\u001b[49m\u001b[38;5;241;43m.\u001b[39;49m\u001b[38;5;21;43m__getattr__\u001b[39;49m(item)\n\u001b[1;32m     47\u001b[0m \u001b[38;5;28;01mexcept\u001b[39;00m \u001b[38;5;167;01mAttributeError\u001b[39;00m:\n",
      "\u001b[0;31mAttributeError\u001b[0m: 'super' object has no attribute '__getattr__'",
      "\nDuring handling of the above exception, another exception occurred:\n",
      "\u001b[0;31mAttributeError\u001b[0m                            Traceback (most recent call last)",
      "Input \u001b[0;32mIn [8]\u001b[0m, in \u001b[0;36m<module>\u001b[0;34m\u001b[0m\n\u001b[0;32m----> 1\u001b[0m \u001b[43mdata\u001b[49m\u001b[38;5;241;43m.\u001b[39;49m\u001b[43mk\u001b[49m\n",
      "File \u001b[0;32m~/opt/miniconda3/envs/c310dev/lib/python3.10/site-packages/cogent3/util/union_dict.py:48\u001b[0m, in \u001b[0;36mUnionDict.__getattr__\u001b[0;34m(self, item)\u001b[0m\n\u001b[1;32m     46\u001b[0m     \u001b[38;5;28;01mreturn\u001b[39;00m \u001b[38;5;28msuper\u001b[39m()\u001b[38;5;241m.\u001b[39m\u001b[38;5;21m__getattr__\u001b[39m(item)\n\u001b[1;32m     47\u001b[0m \u001b[38;5;28;01mexcept\u001b[39;00m \u001b[38;5;167;01mAttributeError\u001b[39;00m:\n\u001b[0;32m---> 48\u001b[0m     \u001b[38;5;28;01mraise\u001b[39;00m \u001b[38;5;167;01mAttributeError\u001b[39;00m(\u001b[38;5;124mf\u001b[39m\u001b[38;5;124m\"\u001b[39m\u001b[38;5;124m'\u001b[39m\u001b[38;5;132;01m{\u001b[39;00mitem\u001b[38;5;132;01m}\u001b[39;00m\u001b[38;5;124m'\u001b[39m\u001b[38;5;124m not a key or attribute\u001b[39m\u001b[38;5;124m\"\u001b[39m)\n",
      "\u001b[0;31mAttributeError\u001b[0m: 'k' not a key or attribute"
     ]
    }
   ],
   "source": [
    "data.k"
   ]
  },
  {
   "cell_type": "code",
   "execution_count": 9,
   "id": "c99c791e",
   "metadata": {
    "execution": {
     "iopub.execute_input": "2023-01-15T01:17:27.995849Z",
     "iopub.status.busy": "2023-01-15T01:17:27.995387Z",
     "iopub.status.idle": "2023-01-15T01:17:27.997301Z",
     "shell.execute_reply": "2023-01-15T01:17:27.997627Z"
    }
   },
   "outputs": [],
   "source": [
    "import numpy\n",
    "\n",
    "def DiffOmega(omega):\n",
    "    def omega_from_S(S):\n",
    "        omega_est = S / (1 - numpy.e ** (-1 * S))\n",
    "        return abs(omega - omega_est) ** 2\n",
    "\n",
    "    return omega_from_S\n",
    "\n",
    "omega = 0.1\n",
    "f = DiffOmega(omega)"
   ]
  },
  {
   "cell_type": "code",
   "execution_count": 10,
   "id": "7b63c41e",
   "metadata": {
    "execution": {
     "iopub.execute_input": "2023-01-15T01:17:28.004117Z",
     "iopub.status.busy": "2023-01-15T01:17:28.003550Z",
     "iopub.status.idle": "2023-01-15T01:17:28.005578Z",
     "shell.execute_reply": "2023-01-15T01:17:28.005893Z"
    }
   },
   "outputs": [
    {
     "name": "stdout",
     "output_type": "stream",
     "text": [
      "S=-3.6150\n"
     ]
    }
   ],
   "source": [
    "from cogent3.maths.optimisers import maximise, minimise\n",
    "\n",
    "S = minimise(\n",
    "    f,  # the function\n",
    "    xinit=1.0,  # the initial value\n",
    "    bounds=(-100, 100),  # [lower,upper] bounds for the parameter\n",
    "    local=True,  # just local optimisation, not Simulated Annealing\n",
    "    show_progress=False,\n",
    ")\n",
    "assert 0.0 <= f(S) < 1e-6\n",
    "print(\"S=%.4f\" % S)"
   ]
  },
  {
   "cell_type": "code",
   "execution_count": 11,
   "id": "362875f6",
   "metadata": {
    "execution": {
     "iopub.execute_input": "2023-01-15T01:17:28.017524Z",
     "iopub.status.busy": "2023-01-15T01:17:28.016827Z",
     "iopub.status.idle": "2023-01-15T01:17:28.020397Z",
     "shell.execute_reply": "2023-01-15T01:17:28.020065Z"
    }
   },
   "outputs": [
    {
     "ename": "TypeError",
     "evalue": "'int' object is not iterable",
     "output_type": "error",
     "traceback": [
      "\u001b[0;31m---------------------------------------------------------------------------\u001b[0m",
      "\u001b[0;31mTypeError\u001b[0m                                 Traceback (most recent call last)",
      "Input \u001b[0;32mIn [11]\u001b[0m, in \u001b[0;36m<module>\u001b[0;34m\u001b[0m\n\u001b[1;32m      1\u001b[0m \u001b[38;5;28;01mfrom\u001b[39;00m \u001b[38;5;21;01mcogent3\u001b[39;00m\u001b[38;5;21;01m.\u001b[39;00m\u001b[38;5;21;01mutil\u001b[39;00m\u001b[38;5;21;01m.\u001b[39;00m\u001b[38;5;21;01mmisc\u001b[39;00m \u001b[38;5;28;01mimport\u001b[39;00m iterable\n\u001b[1;32m      3\u001b[0m my_var \u001b[38;5;241m=\u001b[39m \u001b[38;5;241m10\u001b[39m\n\u001b[0;32m----> 4\u001b[0m \u001b[38;5;28;01mfor\u001b[39;00m i \u001b[38;5;129;01min\u001b[39;00m my_var:\n\u001b[1;32m      5\u001b[0m     \u001b[38;5;28mprint\u001b[39m(\u001b[38;5;124m\"\u001b[39m\u001b[38;5;124mwill not work\u001b[39m\u001b[38;5;124m\"\u001b[39m)\n\u001b[1;32m      7\u001b[0m \u001b[38;5;28;01mfor\u001b[39;00m i \u001b[38;5;129;01min\u001b[39;00m iterable(my_var):\n",
      "\u001b[0;31mTypeError\u001b[0m: 'int' object is not iterable"
     ]
    }
   ],
   "source": [
    "from cogent3.util.misc import iterable\n",
    "\n",
    "my_var = 10\n",
    "for i in my_var:\n",
    "    print(\"will not work\")\n",
    "\n",
    "for i in iterable(my_var):\n",
    "    print(i)"
   ]
  },
  {
   "cell_type": "code",
   "execution_count": 12,
   "id": "ef9fb792",
   "metadata": {
    "execution": {
     "iopub.execute_input": "2023-01-15T01:17:28.024086Z",
     "iopub.status.busy": "2023-01-15T01:17:28.023527Z",
     "iopub.status.idle": "2023-01-15T01:17:28.025904Z",
     "shell.execute_reply": "2023-01-15T01:17:28.026289Z"
    }
   },
   "outputs": [
    {
     "name": "stdout",
     "output_type": "stream",
     "text": [
      " curry(foo,5)\n",
      "== curried from foo ==\n",
      " Some function\n"
     ]
    },
    {
     "data": {
      "text/plain": [
       "15"
      ]
     },
     "execution_count": 12,
     "metadata": {},
     "output_type": "execute_result"
    }
   ],
   "source": [
    "from cogent3.util.misc import curry\n",
    "\n",
    "def foo(x, y):\n",
    "    \"\"\"Some function\"\"\"\n",
    "    return x + y\n",
    "\n",
    "bar = curry(foo, 5)\n",
    "print(bar.__doc__)\n",
    "bar(10)"
   ]
  },
  {
   "cell_type": "code",
   "execution_count": 13,
   "id": "0385beff",
   "metadata": {
    "execution": {
     "iopub.execute_input": "2023-01-15T01:17:28.029479Z",
     "iopub.status.busy": "2023-01-15T01:17:28.028918Z",
     "iopub.status.idle": "2023-01-15T01:17:28.030946Z",
     "shell.execute_reply": "2023-01-15T01:17:28.031343Z"
    }
   },
   "outputs": [
    {
     "data": {
      "text/plain": [
       "True"
      ]
     },
     "execution_count": 13,
     "metadata": {},
     "output_type": "execute_result"
    }
   ],
   "source": [
    "from cogent3.util.misc import is_iterable\n",
    "\n",
    "can_iter = [1, 2, 3, 4]\n",
    "cannot_iter = 1.234\n",
    "is_iterable(can_iter)"
   ]
  },
  {
   "cell_type": "code",
   "execution_count": 14,
   "id": "9fb8507a",
   "metadata": {
    "execution": {
     "iopub.execute_input": "2023-01-15T01:17:28.034517Z",
     "iopub.status.busy": "2023-01-15T01:17:28.033996Z",
     "iopub.status.idle": "2023-01-15T01:17:28.036270Z",
     "shell.execute_reply": "2023-01-15T01:17:28.036593Z"
    }
   },
   "outputs": [
    {
     "data": {
      "text/plain": [
       "False"
      ]
     },
     "execution_count": 14,
     "metadata": {},
     "output_type": "execute_result"
    }
   ],
   "source": [
    "is_iterable(cannot_iter)"
   ]
  },
  {
   "cell_type": "code",
   "execution_count": 15,
   "id": "5a9b3917",
   "metadata": {
    "execution": {
     "iopub.execute_input": "2023-01-15T01:17:28.039579Z",
     "iopub.status.busy": "2023-01-15T01:17:28.039101Z",
     "iopub.status.idle": "2023-01-15T01:17:28.040965Z",
     "shell.execute_reply": "2023-01-15T01:17:28.041364Z"
    }
   },
   "outputs": [
    {
     "data": {
      "text/plain": [
       "True"
      ]
     },
     "execution_count": 15,
     "metadata": {},
     "output_type": "execute_result"
    }
   ],
   "source": [
    "from cogent3.util.misc import is_char\n",
    "\n",
    "class foo:\n",
    "    pass\n",
    "\n",
    "is_char(\"a\")"
   ]
  },
  {
   "cell_type": "code",
   "execution_count": 16,
   "id": "95c2ec25",
   "metadata": {
    "execution": {
     "iopub.execute_input": "2023-01-15T01:17:28.044063Z",
     "iopub.status.busy": "2023-01-15T01:17:28.043559Z",
     "iopub.status.idle": "2023-01-15T01:17:28.045662Z",
     "shell.execute_reply": "2023-01-15T01:17:28.045982Z"
    }
   },
   "outputs": [
    {
     "data": {
      "text/plain": [
       "False"
      ]
     },
     "execution_count": 16,
     "metadata": {},
     "output_type": "execute_result"
    }
   ],
   "source": [
    "is_char(\"ab\")"
   ]
  },
  {
   "cell_type": "code",
   "execution_count": 17,
   "id": "6f8ddcb1",
   "metadata": {
    "execution": {
     "iopub.execute_input": "2023-01-15T01:17:28.048883Z",
     "iopub.status.busy": "2023-01-15T01:17:28.048281Z",
     "iopub.status.idle": "2023-01-15T01:17:28.050967Z",
     "shell.execute_reply": "2023-01-15T01:17:28.051486Z"
    }
   },
   "outputs": [
    {
     "data": {
      "text/plain": [
       "False"
      ]
     },
     "execution_count": 17,
     "metadata": {},
     "output_type": "execute_result"
    }
   ],
   "source": [
    "is_char(foo())"
   ]
  },
  {
   "cell_type": "code",
   "execution_count": 18,
   "id": "1d82c457",
   "metadata": {
    "execution": {
     "iopub.execute_input": "2023-01-15T01:17:28.054237Z",
     "iopub.status.busy": "2023-01-15T01:17:28.053768Z",
     "iopub.status.idle": "2023-01-15T01:17:28.055232Z",
     "shell.execute_reply": "2023-01-15T01:17:28.055616Z"
    }
   },
   "outputs": [],
   "source": [
    "from cogent3.util.misc import recursive_flatten\n",
    "\n",
    "l = [[[[1, 2], \"abcde\"], [5, 6]], [7, 8], [9, 10]]"
   ]
  },
  {
   "cell_type": "code",
   "execution_count": 19,
   "id": "6d5740e9",
   "metadata": {
    "execution": {
     "iopub.execute_input": "2023-01-15T01:17:28.058504Z",
     "iopub.status.busy": "2023-01-15T01:17:28.057991Z",
     "iopub.status.idle": "2023-01-15T01:17:28.059971Z",
     "shell.execute_reply": "2023-01-15T01:17:28.060444Z"
    }
   },
   "outputs": [
    {
     "data": {
      "text/plain": [
       "[1, 2, 'a', 'b', 'c', 'd', 'e', 5, 6, 7, 8, 9, 10]"
      ]
     },
     "execution_count": 19,
     "metadata": {},
     "output_type": "execute_result"
    }
   ],
   "source": [
    "recursive_flatten(l)"
   ]
  },
  {
   "cell_type": "code",
   "execution_count": 20,
   "id": "07a3e21c",
   "metadata": {
    "execution": {
     "iopub.execute_input": "2023-01-15T01:17:28.063207Z",
     "iopub.status.busy": "2023-01-15T01:17:28.062707Z",
     "iopub.status.idle": "2023-01-15T01:17:28.064910Z",
     "shell.execute_reply": "2023-01-15T01:17:28.065235Z"
    }
   },
   "outputs": [
    {
     "data": {
      "text/plain": [
       "True"
      ]
     },
     "execution_count": 20,
     "metadata": {},
     "output_type": "execute_result"
    }
   ],
   "source": [
    "from cogent3.util.misc import not_list_tuple\n",
    "\n",
    "not_list_tuple(1)"
   ]
  },
  {
   "cell_type": "code",
   "execution_count": 21,
   "id": "e8db970a",
   "metadata": {
    "execution": {
     "iopub.execute_input": "2023-01-15T01:17:28.067990Z",
     "iopub.status.busy": "2023-01-15T01:17:28.067451Z",
     "iopub.status.idle": "2023-01-15T01:17:28.069477Z",
     "shell.execute_reply": "2023-01-15T01:17:28.069798Z"
    }
   },
   "outputs": [
    {
     "data": {
      "text/plain": [
       "False"
      ]
     },
     "execution_count": 21,
     "metadata": {},
     "output_type": "execute_result"
    }
   ],
   "source": [
    "not_list_tuple([1])"
   ]
  },
  {
   "cell_type": "code",
   "execution_count": 22,
   "id": "f3fbe655",
   "metadata": {
    "execution": {
     "iopub.execute_input": "2023-01-15T01:17:28.072475Z",
     "iopub.status.busy": "2023-01-15T01:17:28.072010Z",
     "iopub.status.idle": "2023-01-15T01:17:28.074106Z",
     "shell.execute_reply": "2023-01-15T01:17:28.074420Z"
    }
   },
   "outputs": [
    {
     "data": {
      "text/plain": [
       "True"
      ]
     },
     "execution_count": 22,
     "metadata": {},
     "output_type": "execute_result"
    }
   ],
   "source": [
    "not_list_tuple(\"ab\")"
   ]
  },
  {
   "cell_type": "code",
   "execution_count": 23,
   "id": "da00ea02",
   "metadata": {
    "execution": {
     "iopub.execute_input": "2023-01-15T01:17:28.077660Z",
     "iopub.status.busy": "2023-01-15T01:17:28.077154Z",
     "iopub.status.idle": "2023-01-15T01:17:28.079185Z",
     "shell.execute_reply": "2023-01-15T01:17:28.079565Z"
    }
   },
   "outputs": [
    {
     "data": {
      "text/plain": [
       "{'A': 5, 'B': 6, 'C': 7, 'foo': 8, 42: 'life', 'a': 5, 'b': 6, 'c': 7}"
      ]
     },
     "execution_count": 23,
     "metadata": {},
     "output_type": "execute_result"
    }
   ],
   "source": [
    "from cogent3.util.misc import add_lowercase\n",
    "\n",
    "d = {\"A\": 5, \"B\": 6, \"C\": 7, \"foo\": 8, 42: \"life\"}\n",
    "add_lowercase(d)"
   ]
  },
  {
   "cell_type": "code",
   "execution_count": 24,
   "id": "b1b5c3cc",
   "metadata": {
    "execution": {
     "iopub.execute_input": "2023-01-15T01:17:28.083336Z",
     "iopub.status.busy": "2023-01-15T01:17:28.082646Z",
     "iopub.status.idle": "2023-01-15T01:17:28.084943Z",
     "shell.execute_reply": "2023-01-15T01:17:28.085347Z"
    }
   },
   "outputs": [
    {
     "data": {
      "text/plain": [
       "1"
      ]
     },
     "execution_count": 24,
     "metadata": {},
     "output_type": "execute_result"
    }
   ],
   "source": [
    "from numpy import array\n",
    "\n",
    "from cogent3.util.misc import DistanceFromMatrix\n",
    "\n",
    "m = array([[1, 2, 3], [4, 5, 6], [7, 8, 9]])\n",
    "f = DistanceFromMatrix(m)\n",
    "f(0, 0)"
   ]
  },
  {
   "cell_type": "code",
   "execution_count": 25,
   "id": "65f861cc",
   "metadata": {
    "execution": {
     "iopub.execute_input": "2023-01-15T01:17:28.088325Z",
     "iopub.status.busy": "2023-01-15T01:17:28.087856Z",
     "iopub.status.idle": "2023-01-15T01:17:28.089774Z",
     "shell.execute_reply": "2023-01-15T01:17:28.090159Z"
    }
   },
   "outputs": [
    {
     "data": {
      "text/plain": [
       "6"
      ]
     },
     "execution_count": 25,
     "metadata": {},
     "output_type": "execute_result"
    }
   ],
   "source": [
    "f(1, 2)"
   ]
  },
  {
   "cell_type": "code",
   "execution_count": 26,
   "id": "4d5637c3",
   "metadata": {
    "execution": {
     "iopub.execute_input": "2023-01-15T01:17:28.094186Z",
     "iopub.status.busy": "2023-01-15T01:17:28.093643Z",
     "iopub.status.idle": "2023-01-15T01:17:28.095590Z",
     "shell.execute_reply": "2023-01-15T01:17:28.095967Z"
    }
   },
   "outputs": [
    {
     "data": {
      "text/plain": [
       "True"
      ]
     },
     "execution_count": 26,
     "metadata": {},
     "output_type": "execute_result"
    }
   ],
   "source": [
    "from cogent3.util.misc import ClassChecker\n",
    "\n",
    "class not_okay(object):\n",
    "    pass\n",
    "\n",
    "no = not_okay()\n",
    "\n",
    "class okay(object):\n",
    "    pass\n",
    "\n",
    "o = okay()\n",
    "\n",
    "class my_dict(dict):\n",
    "    pass\n",
    "\n",
    "md = my_dict()\n",
    "cc = ClassChecker(str, okay, dict)\n",
    "o in cc"
   ]
  },
  {
   "cell_type": "code",
   "execution_count": 27,
   "id": "767aab57",
   "metadata": {
    "execution": {
     "iopub.execute_input": "2023-01-15T01:17:28.099170Z",
     "iopub.status.busy": "2023-01-15T01:17:28.098492Z",
     "iopub.status.idle": "2023-01-15T01:17:28.100975Z",
     "shell.execute_reply": "2023-01-15T01:17:28.101320Z"
    }
   },
   "outputs": [
    {
     "data": {
      "text/plain": [
       "False"
      ]
     },
     "execution_count": 27,
     "metadata": {},
     "output_type": "execute_result"
    }
   ],
   "source": [
    "no in cc"
   ]
  },
  {
   "cell_type": "code",
   "execution_count": 28,
   "id": "989f3d55",
   "metadata": {
    "execution": {
     "iopub.execute_input": "2023-01-15T01:17:28.104383Z",
     "iopub.status.busy": "2023-01-15T01:17:28.103924Z",
     "iopub.status.idle": "2023-01-15T01:17:28.105737Z",
     "shell.execute_reply": "2023-01-15T01:17:28.106054Z"
    }
   },
   "outputs": [
    {
     "data": {
      "text/plain": [
       "False"
      ]
     },
     "execution_count": 28,
     "metadata": {},
     "output_type": "execute_result"
    }
   ],
   "source": [
    "5 in cc"
   ]
  },
  {
   "cell_type": "code",
   "execution_count": 29,
   "id": "0a9bff20",
   "metadata": {
    "execution": {
     "iopub.execute_input": "2023-01-15T01:17:28.108833Z",
     "iopub.status.busy": "2023-01-15T01:17:28.108325Z",
     "iopub.status.idle": "2023-01-15T01:17:28.110390Z",
     "shell.execute_reply": "2023-01-15T01:17:28.110763Z"
    }
   },
   "outputs": [
    {
     "data": {
      "text/plain": [
       "True"
      ]
     },
     "execution_count": 29,
     "metadata": {},
     "output_type": "execute_result"
    }
   ],
   "source": [
    "{\"a\": 5} in cc"
   ]
  },
  {
   "cell_type": "code",
   "execution_count": 30,
   "id": "02544391",
   "metadata": {
    "execution": {
     "iopub.execute_input": "2023-01-15T01:17:28.113426Z",
     "iopub.status.busy": "2023-01-15T01:17:28.112959Z",
     "iopub.status.idle": "2023-01-15T01:17:28.115173Z",
     "shell.execute_reply": "2023-01-15T01:17:28.115558Z"
    }
   },
   "outputs": [
    {
     "data": {
      "text/plain": [
       "True"
      ]
     },
     "execution_count": 30,
     "metadata": {},
     "output_type": "execute_result"
    }
   ],
   "source": [
    "\"asasas\" in cc"
   ]
  },
  {
   "cell_type": "code",
   "execution_count": 31,
   "id": "a4792881",
   "metadata": {
    "execution": {
     "iopub.execute_input": "2023-01-15T01:17:28.118607Z",
     "iopub.status.busy": "2023-01-15T01:17:28.118013Z",
     "iopub.status.idle": "2023-01-15T01:17:28.120354Z",
     "shell.execute_reply": "2023-01-15T01:17:28.120667Z"
    }
   },
   "outputs": [
    {
     "data": {
      "text/plain": [
       "True"
      ]
     },
     "execution_count": 31,
     "metadata": {},
     "output_type": "execute_result"
    }
   ],
   "source": [
    "md in cc"
   ]
  },
  {
   "cell_type": "code",
   "execution_count": 32,
   "id": "bf27fa72",
   "metadata": {
    "execution": {
     "iopub.execute_input": "2023-01-15T01:17:28.124389Z",
     "iopub.status.busy": "2023-01-15T01:17:28.123783Z",
     "iopub.status.idle": "2023-01-15T01:17:28.125781Z",
     "shell.execute_reply": "2023-01-15T01:17:28.126169Z"
    }
   },
   "outputs": [
    {
     "data": {
      "text/plain": [
       "3"
      ]
     },
     "execution_count": 32,
     "metadata": {},
     "output_type": "execute_result"
    }
   ],
   "source": [
    "from cogent3.util.misc import Delegator\n",
    "\n",
    "class ListAndString(list, Delegator):\n",
    "    def __init__(self, items, string):\n",
    "        Delegator.__init__(self, string)\n",
    "        for i in items:\n",
    "            self.append(i)\n",
    "\n",
    "ls = ListAndString([1, 2, 3], \"ab_cd\")\n",
    "len(ls)"
   ]
  },
  {
   "cell_type": "code",
   "execution_count": 33,
   "id": "2310c678",
   "metadata": {
    "execution": {
     "iopub.execute_input": "2023-01-15T01:17:28.129060Z",
     "iopub.status.busy": "2023-01-15T01:17:28.128568Z",
     "iopub.status.idle": "2023-01-15T01:17:28.130636Z",
     "shell.execute_reply": "2023-01-15T01:17:28.130949Z"
    }
   },
   "outputs": [
    {
     "data": {
      "text/plain": [
       "1"
      ]
     },
     "execution_count": 33,
     "metadata": {},
     "output_type": "execute_result"
    }
   ],
   "source": [
    "ls[0]"
   ]
  },
  {
   "cell_type": "code",
   "execution_count": 34,
   "id": "655cf9b0",
   "metadata": {
    "execution": {
     "iopub.execute_input": "2023-01-15T01:17:28.133914Z",
     "iopub.status.busy": "2023-01-15T01:17:28.133458Z",
     "iopub.status.idle": "2023-01-15T01:17:28.135773Z",
     "shell.execute_reply": "2023-01-15T01:17:28.136319Z"
    }
   },
   "outputs": [
    {
     "data": {
      "text/plain": [
       "'AB_CD'"
      ]
     },
     "execution_count": 34,
     "metadata": {},
     "output_type": "execute_result"
    }
   ],
   "source": [
    "ls.upper()"
   ]
  },
  {
   "cell_type": "code",
   "execution_count": 35,
   "id": "06174c70",
   "metadata": {
    "execution": {
     "iopub.execute_input": "2023-01-15T01:17:28.139308Z",
     "iopub.status.busy": "2023-01-15T01:17:28.138748Z",
     "iopub.status.idle": "2023-01-15T01:17:28.140958Z",
     "shell.execute_reply": "2023-01-15T01:17:28.141288Z"
    }
   },
   "outputs": [
    {
     "data": {
      "text/plain": [
       "['ab', 'cd']"
      ]
     },
     "execution_count": 35,
     "metadata": {},
     "output_type": "execute_result"
    }
   ],
   "source": [
    "ls.split(\"_\")"
   ]
  },
  {
   "cell_type": "code",
   "execution_count": 36,
   "id": "bd198052",
   "metadata": {
    "execution": {
     "iopub.execute_input": "2023-01-15T01:17:28.144491Z",
     "iopub.status.busy": "2023-01-15T01:17:28.143920Z",
     "iopub.status.idle": "2023-01-15T01:17:28.146087Z",
     "shell.execute_reply": "2023-01-15T01:17:28.146523Z"
    }
   },
   "outputs": [
    {
     "data": {
      "text/plain": [
       "<cogent3.util.misc.FunctionWrapper at 0x7f91818ff010>"
      ]
     },
     "execution_count": 36,
     "metadata": {},
     "output_type": "execute_result"
    }
   ],
   "source": [
    "from cogent3.util.misc import FunctionWrapper\n",
    "\n",
    "f = FunctionWrapper(str)\n",
    "f"
   ]
  },
  {
   "cell_type": "code",
   "execution_count": 37,
   "id": "d55f4981",
   "metadata": {
    "execution": {
     "iopub.execute_input": "2023-01-15T01:17:28.149667Z",
     "iopub.status.busy": "2023-01-15T01:17:28.149135Z",
     "iopub.status.idle": "2023-01-15T01:17:28.151113Z",
     "shell.execute_reply": "2023-01-15T01:17:28.151484Z"
    }
   },
   "outputs": [
    {
     "data": {
      "text/plain": [
       "'123'"
      ]
     },
     "execution_count": 37,
     "metadata": {},
     "output_type": "execute_result"
    }
   ],
   "source": [
    "f(123)"
   ]
  },
  {
   "cell_type": "code",
   "execution_count": 38,
   "id": "9a408338",
   "metadata": {
    "execution": {
     "iopub.execute_input": "2023-01-15T01:17:28.154084Z",
     "iopub.status.busy": "2023-01-15T01:17:28.153620Z",
     "iopub.status.idle": "2023-01-15T01:17:28.155164Z",
     "shell.execute_reply": "2023-01-15T01:17:28.155475Z"
    }
   },
   "outputs": [],
   "source": [
    "from cogent3.util.misc import ConstraintError"
   ]
  },
  {
   "cell_type": "code",
   "execution_count": 39,
   "id": "45cdc65c",
   "metadata": {
    "execution": {
     "iopub.execute_input": "2023-01-15T01:17:28.158881Z",
     "iopub.status.busy": "2023-01-15T01:17:28.158254Z",
     "iopub.status.idle": "2023-01-15T01:17:28.160478Z",
     "shell.execute_reply": "2023-01-15T01:17:28.160853Z"
    }
   },
   "outputs": [
    {
     "data": {
      "text/plain": [
       "{'a': 1, 'b': 2, 'c': 3}"
      ]
     },
     "execution_count": 39,
     "metadata": {},
     "output_type": "execute_result"
    }
   ],
   "source": [
    "from cogent3.util.misc import ConstrainedDict\n",
    "\n",
    "d = ConstrainedDict({\"a\": 1, \"b\": 2, \"c\": 3}, constraint=\"abc\")\n",
    "d"
   ]
  },
  {
   "cell_type": "code",
   "execution_count": 40,
   "id": "bc089c41",
   "metadata": {
    "execution": {
     "iopub.execute_input": "2023-01-15T01:17:28.167206Z",
     "iopub.status.busy": "2023-01-15T01:17:28.166755Z",
     "iopub.status.idle": "2023-01-15T01:17:28.263821Z",
     "shell.execute_reply": "2023-01-15T01:17:28.264162Z"
    }
   },
   "outputs": [
    {
     "ename": "ConstraintError",
     "evalue": "Item 'd' not in constraint 'abc'",
     "output_type": "error",
     "traceback": [
      "\u001b[0;31m---------------------------------------------------------------------------\u001b[0m",
      "\u001b[0;31mConstraintError\u001b[0m                           Traceback (most recent call last)",
      "Input \u001b[0;32mIn [40]\u001b[0m, in \u001b[0;36m<module>\u001b[0;34m\u001b[0m\n\u001b[0;32m----> 1\u001b[0m d[\u001b[38;5;124m\"\u001b[39m\u001b[38;5;124md\u001b[39m\u001b[38;5;124m\"\u001b[39m] \u001b[38;5;241m=\u001b[39m \u001b[38;5;241m5\u001b[39m\n",
      "File \u001b[0;32m~/opt/miniconda3/envs/c310dev/lib/python3.10/site-packages/cogent3/util/misc.py:692\u001b[0m, in \u001b[0;36mConstrainedDict.__setitem__\u001b[0;34m(self, key, value)\u001b[0m\n\u001b[1;32m    690\u001b[0m \u001b[38;5;124;03m\"\"\"Sets self[key] to value if value in constraint.\"\"\"\u001b[39;00m\n\u001b[1;32m    691\u001b[0m \u001b[38;5;28;01mif\u001b[39;00m \u001b[38;5;129;01mnot\u001b[39;00m \u001b[38;5;28mself\u001b[39m\u001b[38;5;241m.\u001b[39mitem_is_valid(key):\n\u001b[0;32m--> 692\u001b[0m     \u001b[38;5;28;01mraise\u001b[39;00m ConstraintError(\u001b[38;5;124mf\u001b[39m\u001b[38;5;124m\"\u001b[39m\u001b[38;5;124mItem \u001b[39m\u001b[38;5;124m'\u001b[39m\u001b[38;5;132;01m{\u001b[39;00mkey\u001b[38;5;132;01m}\u001b[39;00m\u001b[38;5;124m'\u001b[39m\u001b[38;5;124m not in constraint \u001b[39m\u001b[38;5;124m'\u001b[39m\u001b[38;5;132;01m{\u001b[39;00m\u001b[38;5;28mself\u001b[39m\u001b[38;5;241m.\u001b[39mconstraint\u001b[38;5;132;01m}\u001b[39;00m\u001b[38;5;124m'\u001b[39m\u001b[38;5;124m\"\u001b[39m)\n\u001b[1;32m    693\u001b[0m key, value \u001b[38;5;241m=\u001b[39m \u001b[38;5;28mself\u001b[39m\u001b[38;5;241m.\u001b[39mmask(key), \u001b[38;5;28mself\u001b[39m\u001b[38;5;241m.\u001b[39mvalue_mask(value)\n\u001b[1;32m    694\u001b[0m \u001b[38;5;28mdict\u001b[39m\u001b[38;5;241m.\u001b[39m\u001b[38;5;21m__setitem__\u001b[39m(\u001b[38;5;28mself\u001b[39m, key, value)\n",
      "\u001b[0;31mConstraintError\u001b[0m: Item 'd' not in constraint 'abc'"
     ]
    }
   ],
   "source": [
    "d[\"d\"] = 5"
   ]
  }
 ],
 "metadata": {
  "kernelspec": {
   "display_name": "Python 3 (ipykernel)",
   "language": "python",
   "name": "python3"
  },
  "language_info": {
   "codemirror_mode": {
    "name": "ipython",
    "version": 3
   },
   "file_extension": ".py",
   "mimetype": "text/x-python",
   "name": "python",
   "nbconvert_exporter": "python",
   "pygments_lexer": "ipython3",
   "version": "3.10.0"
  }
 },
 "nbformat": 4,
 "nbformat_minor": 5
}