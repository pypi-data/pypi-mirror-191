{
 "cells": [
  {
   "cell_type": "code",
   "execution_count": 1,
   "id": "f1822752",
   "metadata": {
    "execution": {
     "iopub.execute_input": "2023-01-15T01:16:24.862647Z",
     "iopub.status.busy": "2023-01-15T01:16:24.861993Z",
     "iopub.status.idle": "2023-01-15T01:16:26.826384Z",
     "shell.execute_reply": "2023-01-15T01:16:26.826899Z"
    }
   },
   "outputs": [],
   "source": [
    "import set_working_directory"
   ]
  },
  {
   "cell_type": "code",
   "execution_count": 2,
   "id": "93fc468d",
   "metadata": {
    "execution": {
     "iopub.execute_input": "2023-01-15T01:16:26.832126Z",
     "iopub.status.busy": "2023-01-15T01:16:26.831337Z",
     "iopub.status.idle": "2023-01-15T01:16:28.155239Z",
     "shell.execute_reply": "2023-01-15T01:16:28.155615Z"
    }
   },
   "outputs": [
    {
     "name": "stdout",
     "output_type": "stream",
     "text": [
      "                              /-HowlerMon\n",
      "                    /edge.0--|\n",
      "          /edge.1--|          \\-Galago\n",
      "         |         |\n",
      "         |          \\-Rhesus\n",
      "-root----|\n",
      "         |--Orangutan\n",
      "         |\n",
      "         |          /-Chimpanzee\n",
      "          \\edge.2--|\n",
      "                   |          /-Human\n",
      "                    \\edge.3--|\n",
      "                              \\-Gorilla\n"
     ]
    }
   ],
   "source": [
    "from cogent3 import load_aligned_seqs\n",
    "\n",
    "aln = load_aligned_seqs(\"data/primate_brca1.fasta\", moltype=\"dna\")\n",
    "tree = aln.quick_tree(calc=\"TN93\", show_progress=False)\n",
    "tree = tree.balanced()  # purely for display\n",
    "print(tree.ascii_art())"
   ]
  },
  {
   "cell_type": "code",
   "execution_count": 3,
   "id": "57058583",
   "metadata": {
    "execution": {
     "iopub.execute_input": "2023-01-15T01:16:28.158977Z",
     "iopub.status.busy": "2023-01-15T01:16:28.158463Z",
     "iopub.status.idle": "2023-01-15T01:16:28.590526Z",
     "shell.execute_reply": "2023-01-15T01:16:28.590913Z"
    }
   },
   "outputs": [],
   "source": [
    "tree = aln.quick_tree(calc=\"TN93\", bootstrap=100, show_progress=False)"
   ]
  },
  {
   "cell_type": "code",
   "execution_count": 4,
   "id": "396bbb8a",
   "metadata": {
    "execution": {
     "iopub.execute_input": "2023-01-15T01:16:28.594682Z",
     "iopub.status.busy": "2023-01-15T01:16:28.594136Z",
     "iopub.status.idle": "2023-01-15T01:16:28.604329Z",
     "shell.execute_reply": "2023-01-15T01:16:28.604706Z"
    }
   },
   "outputs": [
    {
     "name": "stdout",
     "output_type": "stream",
     "text": [
      "                              /-HowlerMon\n",
      "                    /edge.0--|\n",
      "          /edge.1--|          \\-Galago\n",
      "         |         |\n",
      "         |          \\-Rhesus\n",
      "-root----|\n",
      "         |--Orangutan\n",
      "         |\n",
      "         |          /-Chimpanzee\n",
      "          \\edge.2--|\n",
      "                   |          /-Human\n",
      "                    \\edge.3--|\n",
      "                              \\-Gorilla\n"
     ]
    }
   ],
   "source": [
    "from cogent3 import load_aligned_seqs\n",
    "\n",
    "aln = load_aligned_seqs(\"data/primate_brca1.fasta\", moltype=\"dna\")\n",
    "dists = aln.distance_matrix(calc=\"TN93\")\n",
    "tree = dists.quick_tree(show_progress=False)\n",
    "tree = tree.balanced()  # purely for display\n",
    "print(tree.ascii_art())"
   ]
  },
  {
   "cell_type": "code",
   "execution_count": 5,
   "id": "2006b9e4",
   "metadata": {
    "execution": {
     "iopub.execute_input": "2023-01-15T01:16:28.608387Z",
     "iopub.status.busy": "2023-01-15T01:16:28.607834Z",
     "iopub.status.idle": "2023-01-15T01:16:28.617571Z",
     "shell.execute_reply": "2023-01-15T01:16:28.618032Z"
    }
   },
   "outputs": [
    {
     "name": "stdout",
     "output_type": "stream",
     "text": [
      "                              /-HowlerMon\n",
      "                    /edge.0--|\n",
      "          /edge.1--|          \\-Galago\n",
      "         |         |\n",
      "         |          \\-Rhesus\n",
      "-root----|\n",
      "         |--Orangutan\n",
      "         |\n",
      "         |          /-Chimpanzee\n",
      "          \\edge.2--|\n",
      "                   |          /-Human\n",
      "                    \\edge.3--|\n",
      "                              \\-Gorilla\n"
     ]
    }
   ],
   "source": [
    "from cogent3 import load_aligned_seqs\n",
    "from cogent3.phylo import nj\n",
    "\n",
    "aln = load_aligned_seqs(\"data/primate_brca1.fasta\", moltype=\"dna\")\n",
    "dists = aln.distance_matrix(calc=\"TN93\")\n",
    "tree = nj.nj(dists, show_progress=False)\n",
    "tree = tree.balanced()  # purely for display\n",
    "print(tree.ascii_art())"
   ]
  },
  {
   "cell_type": "code",
   "execution_count": 6,
   "id": "081874ff",
   "metadata": {
    "execution": {
     "iopub.execute_input": "2023-01-15T01:16:28.621866Z",
     "iopub.status.busy": "2023-01-15T01:16:28.621389Z",
     "iopub.status.idle": "2023-01-15T01:16:28.623198Z",
     "shell.execute_reply": "2023-01-15T01:16:28.623593Z"
    }
   },
   "outputs": [
    {
     "name": "stdout",
     "output_type": "stream",
     "text": [
      "          /-a\n",
      "         |\n",
      "-root----|--b\n",
      "         |\n",
      "          \\-c\n"
     ]
    }
   ],
   "source": [
    "from cogent3.phylo import nj\n",
    "\n",
    "dists = {(\"a\", \"b\"): 2.7, (\"c\", \"b\"): 2.33, (\"c\", \"a\"): 0.73}\n",
    "tree = nj.nj(dists, show_progress=False)\n",
    "print(tree.ascii_art())"
   ]
  },
  {
   "cell_type": "code",
   "execution_count": 7,
   "id": "1ddf0494",
   "metadata": {
    "execution": {
     "iopub.execute_input": "2023-01-15T01:16:28.626970Z",
     "iopub.status.busy": "2023-01-15T01:16:28.626489Z",
     "iopub.status.idle": "2023-01-15T01:16:28.904414Z",
     "shell.execute_reply": "2023-01-15T01:16:28.904810Z"
    }
   },
   "outputs": [],
   "source": [
    "from cogent3.phylo.least_squares import WLS\n",
    "from cogent3.util.deserialise import deserialise_object\n",
    "\n",
    "dists = deserialise_object(\"data/dists_for_phylo.json\")\n",
    "ls = WLS(dists)\n",
    "stat, tree = ls.trex(a=5, k=5, show_progress=False)"
   ]
  },
  {
   "cell_type": "code",
   "execution_count": 8,
   "id": "8200bb4d",
   "metadata": {
    "execution": {
     "iopub.execute_input": "2023-01-15T01:16:28.908549Z",
     "iopub.status.busy": "2023-01-15T01:16:28.907915Z",
     "iopub.status.idle": "2023-01-15T01:16:28.914367Z",
     "shell.execute_reply": "2023-01-15T01:16:28.913897Z"
    }
   },
   "outputs": [],
   "source": [
    "from cogent3 import load_aligned_seqs\n",
    "from cogent3.evolve.models import F81\n",
    "from cogent3.phylo.maximum_likelihood import ML\n",
    "\n",
    "aln = load_aligned_seqs(\"data/primate_brca1.fasta\")\n",
    "ml = ML(F81(), aln)"
   ]
  }
 ],
 "metadata": {
  "kernelspec": {
   "display_name": "Python 3 (ipykernel)",
   "language": "python",
   "name": "python3"
  },
  "language_info": {
   "codemirror_mode": {
    "name": "ipython",
    "version": 3
   },
   "file_extension": ".py",
   "mimetype": "text/x-python",
   "name": "python",
   "nbconvert_exporter": "python",
   "pygments_lexer": "ipython3",
   "version": "3.10.0"
  }
 },
 "nbformat": 4,
 "nbformat_minor": 5
}