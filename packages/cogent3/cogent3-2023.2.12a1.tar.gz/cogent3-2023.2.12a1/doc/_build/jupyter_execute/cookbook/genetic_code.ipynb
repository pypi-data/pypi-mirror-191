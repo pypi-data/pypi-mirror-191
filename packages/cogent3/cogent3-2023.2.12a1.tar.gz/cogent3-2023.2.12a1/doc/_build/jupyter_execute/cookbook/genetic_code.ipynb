{
 "cells": [
  {
   "cell_type": "code",
   "execution_count": 1,
   "id": "94cdc2fa",
   "metadata": {
    "execution": {
     "iopub.execute_input": "2023-01-15T01:16:48.974436Z",
     "iopub.status.busy": "2023-01-15T01:16:48.973818Z",
     "iopub.status.idle": "2023-01-15T01:16:50.327372Z",
     "shell.execute_reply": "2023-01-15T01:16:50.327751Z"
    }
   },
   "outputs": [
    {
     "data": {
      "text/plain": [
       "'FAN'"
      ]
     },
     "execution_count": 1,
     "metadata": {},
     "output_type": "execute_result"
    }
   ],
   "source": [
    "from cogent3 import get_code\n",
    "\n",
    "standard_code = get_code(1)\n",
    "standard_code.translate(\"TTTGCAAAC\")"
   ]
  },
  {
   "cell_type": "code",
   "execution_count": 2,
   "id": "f7aa0a56",
   "metadata": {
    "execution": {
     "iopub.execute_input": "2023-01-15T01:16:50.332146Z",
     "iopub.status.busy": "2023-01-15T01:16:50.331605Z",
     "iopub.status.idle": "2023-01-15T01:16:50.333998Z",
     "shell.execute_reply": "2023-01-15T01:16:50.334336Z"
    }
   },
   "outputs": [
    {
     "name": "stdout",
     "output_type": "stream",
     "text": [
      "['MLT*', 'C*HK', 'ANI', 'FMLA', 'LC*H', 'YVS']\n"
     ]
    }
   ],
   "source": [
    "from cogent3 import get_code, make_seq\n",
    "\n",
    "standard_code = get_code(1)\n",
    "seq = make_seq(\"ATGCTAACATAAA\", moltype=\"dna\")\n",
    "translations = standard_code.sixframes(seq)\n",
    "print(translations)"
   ]
  },
  {
   "cell_type": "code",
   "execution_count": 3,
   "id": "1d63dedc",
   "metadata": {
    "execution": {
     "iopub.execute_input": "2023-01-15T01:16:50.339046Z",
     "iopub.status.busy": "2023-01-15T01:16:50.338481Z",
     "iopub.status.idle": "2023-01-15T01:16:50.340604Z",
     "shell.execute_reply": "2023-01-15T01:16:50.341072Z"
    }
   },
   "outputs": [
    {
     "data": {
      "text/html": [
       "<style>\n",
       ".c3seq td { border: none !important; text-align: left !important; }\n",
       ".c3seq tr:not(.num_row) td span {margin: 0 2px;}\n",
       ".c3seq tr:nth-child(even) {background: #f7f7f7;}\n",
       ".c3seq .num_row {background-color:rgba(161, 195, 209, 0.5) !important; border-top: solid 1px black; }\n",
       ".c3seq .label { font-size: 12pt ; text-align: right !important; color: black !important; padding: 0 4px; }\n",
       ".c3seq .T_dna{font-family: \"Lucida Console\",monospace !important; font-size: 12pt !important; color: blue; }\n",
       ".c3seq .C_dna{font-family: \"Lucida Console\",monospace !important; font-size: 12pt !important; color: black; }\n",
       ".c3seq .A_dna{font-family: \"Lucida Console\",monospace !important; font-size: 12pt !important; color: #FF0102; }\n",
       ".c3seq .G_dna{font-family: \"Lucida Console\",monospace !important; font-size: 12pt !important; color: green; }\n",
       ".c3seq .terminal_ambig_dna{font-family: \"Lucida Console\",monospace !important; font-size: 12pt !important; color: gray; }\n",
       ".c3seq .ambig_dna{font-family: \"Lucida Console\",monospace !important; font-size: 12pt !important; color: gray; }\n",
       "</style>\n",
       "<div class=\"c3seq\">\n",
       "<table>\n",
       "<tr class=\"num_row\"><td></td><td><b>0</b></td></tr>\n",
       "<tr><td class=\"label\">None</td><td><span class=\"T_dna\">T</span><span class=\"A_dna\">A</span><span class=\"A_dna\">A</span></td></tr>\n",
       "</table>\n",
       "<p><i>3 DnaSequence</i></p>\n",
       "</div>"
      ],
      "text/plain": [
       "DnaSequence(TAA)"
      ]
     },
     "execution_count": 3,
     "metadata": {},
     "output_type": "execute_result"
    }
   ],
   "source": [
    "from cogent3 import get_code, make_seq\n",
    "\n",
    "standard_code = get_code(1)\n",
    "seq = make_seq(\"ATGCTAACATAAA\", moltype=\"dna\")\n",
    "stops_frame1 = standard_code.get_stop_indices(seq, start=0)\n",
    "stops_frame1\n",
    "stop_index = stops_frame1[0]\n",
    "seq[stop_index : stop_index + 3]"
   ]
  },
  {
   "cell_type": "code",
   "execution_count": 4,
   "id": "420a6d16",
   "metadata": {
    "execution": {
     "iopub.execute_input": "2023-01-15T01:16:50.344233Z",
     "iopub.status.busy": "2023-01-15T01:16:50.343675Z",
     "iopub.status.idle": "2023-01-15T01:16:50.345759Z",
     "shell.execute_reply": "2023-01-15T01:16:50.346220Z"
    }
   },
   "outputs": [
    {
     "data": {
      "text/plain": [
       "'F'"
      ]
     },
     "execution_count": 4,
     "metadata": {},
     "output_type": "execute_result"
    }
   ],
   "source": [
    "from cogent3 import get_code, make_seq\n",
    "\n",
    "standard_code = get_code(1)\n",
    "standard_code[\"TTT\"]"
   ]
  },
  {
   "cell_type": "code",
   "execution_count": 5,
   "id": "c2bafa02",
   "metadata": {
    "execution": {
     "iopub.execute_input": "2023-01-15T01:16:50.349791Z",
     "iopub.status.busy": "2023-01-15T01:16:50.348932Z",
     "iopub.status.idle": "2023-01-15T01:16:50.351636Z",
     "shell.execute_reply": "2023-01-15T01:16:50.351984Z"
    }
   },
   "outputs": [
    {
     "data": {
      "text/plain": [
       "['GCT', 'GCC', 'GCA', 'GCG']"
      ]
     },
     "execution_count": 5,
     "metadata": {},
     "output_type": "execute_result"
    }
   ],
   "source": [
    "standard_code[\"A\"]"
   ]
  },
  {
   "cell_type": "code",
   "execution_count": 6,
   "id": "4aa87fd7",
   "metadata": {
    "execution": {
     "iopub.execute_input": "2023-01-15T01:16:50.355104Z",
     "iopub.status.busy": "2023-01-15T01:16:50.354541Z",
     "iopub.status.idle": "2023-01-15T01:16:50.356602Z",
     "shell.execute_reply": "2023-01-15T01:16:50.357066Z"
    }
   },
   "outputs": [
    {
     "data": {
      "text/plain": [
       "'F'"
      ]
     },
     "execution_count": 6,
     "metadata": {},
     "output_type": "execute_result"
    }
   ],
   "source": [
    "from cogent3 import get_code\n",
    "\n",
    "standard_code = get_code(1)\n",
    "standard_code[\"TTT\"]"
   ]
  },
  {
   "cell_type": "code",
   "execution_count": 7,
   "id": "42064e49",
   "metadata": {
    "execution": {
     "iopub.execute_input": "2023-01-15T01:16:50.360062Z",
     "iopub.status.busy": "2023-01-15T01:16:50.359602Z",
     "iopub.status.idle": "2023-01-15T01:16:50.361445Z",
     "shell.execute_reply": "2023-01-15T01:16:50.361825Z"
    }
   },
   "outputs": [
    {
     "data": {
      "text/plain": [
       "['GCT', 'GCC', 'GCA', 'GCG']"
      ]
     },
     "execution_count": 7,
     "metadata": {},
     "output_type": "execute_result"
    }
   ],
   "source": [
    "from cogent3 import get_code\n",
    "\n",
    "standard_code = get_code(1)\n",
    "standard_code[\"A\"]"
   ]
  },
  {
   "cell_type": "code",
   "execution_count": 8,
   "id": "eb358595",
   "metadata": {
    "execution": {
     "iopub.execute_input": "2023-01-15T01:16:50.365275Z",
     "iopub.status.busy": "2023-01-15T01:16:50.364784Z",
     "iopub.status.idle": "2023-01-15T01:16:50.367189Z",
     "shell.execute_reply": "2023-01-15T01:16:50.367739Z"
    }
   },
   "outputs": [
    {
     "data": {
      "text/plain": [
       "['GCT', 'GCC', 'GCA', 'GCG', 'TGT', 'TGC']"
      ]
     },
     "execution_count": 8,
     "metadata": {},
     "output_type": "execute_result"
    }
   ],
   "source": [
    "targets = [\"A\", \"C\"]\n",
    "codons = [standard_code[aa] for aa in targets]\n",
    "codons\n",
    "flat_list = sum(codons, [])\n",
    "flat_list"
   ]
  },
  {
   "cell_type": "code",
   "execution_count": 9,
   "id": "a46df44b",
   "metadata": {
    "execution": {
     "iopub.execute_input": "2023-01-15T01:16:50.371573Z",
     "iopub.status.busy": "2023-01-15T01:16:50.370990Z",
     "iopub.status.idle": "2023-01-15T01:16:50.373039Z",
     "shell.execute_reply": "2023-01-15T01:16:50.373418Z"
    }
   },
   "outputs": [
    {
     "data": {
      "text/plain": [
       "61"
      ]
     },
     "execution_count": 9,
     "metadata": {},
     "output_type": "execute_result"
    }
   ],
   "source": [
    "from cogent3 import make_seq\n",
    "\n",
    "my_seq = make_seq(\"AGTACACTGGTT\", moltype=\"dna\")\n",
    "sorted(my_seq.codon_alphabet())\n",
    "len(my_seq.codon_alphabet())"
   ]
  },
  {
   "cell_type": "code",
   "execution_count": 10,
   "id": "07b44363",
   "metadata": {
    "execution": {
     "iopub.execute_input": "2023-01-15T01:16:50.376380Z",
     "iopub.status.busy": "2023-01-15T01:16:50.375924Z",
     "iopub.status.idle": "2023-01-15T01:16:50.377797Z",
     "shell.execute_reply": "2023-01-15T01:16:50.378116Z"
    }
   },
   "outputs": [
    {
     "name": "stdout",
     "output_type": "stream",
     "text": [
      "['ATG', 'CAC', 'TGG', 'TAA']\n"
     ]
    }
   ],
   "source": [
    "from cogent3 import make_seq\n",
    "\n",
    "my_seq = make_seq(\"ATGCACTGGTAA\", name=\"my_gene\", moltype=\"dna\")\n",
    "codons = my_seq.get_in_motif_size(3)\n",
    "print(codons)"
   ]
  },
  {
   "cell_type": "code",
   "execution_count": 11,
   "id": "e68f5057",
   "metadata": {
    "execution": {
     "iopub.execute_input": "2023-01-15T01:16:50.380605Z",
     "iopub.status.busy": "2023-01-15T01:16:50.380147Z",
     "iopub.status.idle": "2023-01-15T01:16:50.381689Z",
     "shell.execute_reply": "2023-01-15T01:16:50.382000Z"
    }
   },
   "outputs": [],
   "source": [
    "from cogent3.core.alphabet import AlphabetError"
   ]
  },
  {
   "cell_type": "code",
   "execution_count": 12,
   "id": "91a6e6ce",
   "metadata": {
    "execution": {
     "iopub.execute_input": "2023-01-15T01:16:50.385271Z",
     "iopub.status.busy": "2023-01-15T01:16:50.384496Z",
     "iopub.status.idle": "2023-01-15T01:16:51.100561Z",
     "shell.execute_reply": "2023-01-15T01:16:51.100995Z"
    }
   },
   "outputs": [
    {
     "ename": "AlphabetError",
     "evalue": "TAA",
     "output_type": "error",
     "traceback": [
      "\u001b[0;31m---------------------------------------------------------------------------\u001b[0m",
      "\u001b[0;31mAlphabetError\u001b[0m                             Traceback (most recent call last)",
      "Input \u001b[0;32mIn [12]\u001b[0m, in \u001b[0;36m<module>\u001b[0;34m\u001b[0m\n\u001b[0;32m----> 1\u001b[0m pep \u001b[38;5;241m=\u001b[39m \u001b[43mmy_seq\u001b[49m\u001b[38;5;241;43m.\u001b[39;49m\u001b[43mget_translation\u001b[49m\u001b[43m(\u001b[49m\u001b[43m)\u001b[49m\n",
      "File \u001b[0;32m~/opt/miniconda3/envs/c310dev/lib/python3.10/site-packages/cogent3/core/sequence.py:1316\u001b[0m, in \u001b[0;36mNucleicAcidSequence.get_translation\u001b[0;34m(self, gc, incomplete_ok)\u001b[0m\n\u001b[1;32m   1314\u001b[0m orig_codon \u001b[38;5;241m=\u001b[39m \u001b[38;5;28mself\u001b[39m\u001b[38;5;241m.\u001b[39m_seq[posn : posn \u001b[38;5;241m+\u001b[39m \u001b[38;5;241m3\u001b[39m]\n\u001b[1;32m   1315\u001b[0m \u001b[38;5;28;01mtry\u001b[39;00m:\n\u001b[0;32m-> 1316\u001b[0m     resolved \u001b[38;5;241m=\u001b[39m \u001b[43mcodon_alphabet\u001b[49m\u001b[38;5;241;43m.\u001b[39;49m\u001b[43mresolve_ambiguity\u001b[49m\u001b[43m(\u001b[49m\u001b[43morig_codon\u001b[49m\u001b[43m)\u001b[49m\n\u001b[1;32m   1317\u001b[0m \u001b[38;5;28;01mexcept\u001b[39;00m AlphabetError:\n\u001b[1;32m   1318\u001b[0m     \u001b[38;5;28;01mif\u001b[39;00m \u001b[38;5;129;01mnot\u001b[39;00m incomplete_ok \u001b[38;5;129;01mor\u001b[39;00m \u001b[38;5;124m\"\u001b[39m\u001b[38;5;124m-\u001b[39m\u001b[38;5;124m\"\u001b[39m \u001b[38;5;129;01mnot\u001b[39;00m \u001b[38;5;129;01min\u001b[39;00m orig_codon:\n",
      "File \u001b[0;32m~/opt/miniconda3/envs/c310dev/lib/python3.10/site-packages/cogent3/core/alphabet.py:710\u001b[0m, in \u001b[0;36mAlphabet.resolve_ambiguity\u001b[0;34m(self, ambig_motif)\u001b[0m\n\u001b[1;32m    707\u001b[0m motif_set \u001b[38;5;241m=\u001b[39m [motif \u001b[38;5;28;01mfor\u001b[39;00m motif \u001b[38;5;129;01min\u001b[39;00m motif_set \u001b[38;5;28;01mif\u001b[39;00m motif \u001b[38;5;129;01min\u001b[39;00m \u001b[38;5;28mself\u001b[39m\u001b[38;5;241m.\u001b[39m_quick_motifset]\n\u001b[1;32m    709\u001b[0m \u001b[38;5;28;01mif\u001b[39;00m \u001b[38;5;129;01mnot\u001b[39;00m motif_set:\n\u001b[0;32m--> 710\u001b[0m     \u001b[38;5;28;01mraise\u001b[39;00m AlphabetError(ambig_motif)\n\u001b[1;32m    712\u001b[0m \u001b[38;5;28;01mreturn\u001b[39;00m \u001b[38;5;28mtuple\u001b[39m(motif_set)\n",
      "\u001b[0;31mAlphabetError\u001b[0m: TAA"
     ]
    }
   ],
   "source": [
    "pep = my_seq.get_translation()"
   ]
  },
  {
   "cell_type": "code",
   "execution_count": 13,
   "id": "18ab641b",
   "metadata": {
    "execution": {
     "iopub.execute_input": "2023-01-15T01:16:51.104864Z",
     "iopub.status.busy": "2023-01-15T01:16:51.104302Z",
     "iopub.status.idle": "2023-01-15T01:16:51.106385Z",
     "shell.execute_reply": "2023-01-15T01:16:51.107271Z"
    }
   },
   "outputs": [
    {
     "name": "stdout",
     "output_type": "stream",
     "text": [
      ">my_gene\n",
      "MHW\n",
      "\n",
      "<class 'cogent3.core.sequence.ProteinSequence'>\n"
     ]
    }
   ],
   "source": [
    "from cogent3 import make_seq\n",
    "\n",
    "my_seq = make_seq(\"ATGCACTGGTAA\", name=\"my_gene\", moltype=\"dna\")\n",
    "seq = my_seq.trim_stop_codon()\n",
    "pep = seq.get_translation()\n",
    "print(pep.to_fasta())\n",
    "print(type(pep))"
   ]
  },
  {
   "cell_type": "code",
   "execution_count": 14,
   "id": "f8a1ad7a",
   "metadata": {
    "execution": {
     "iopub.execute_input": "2023-01-15T01:16:51.110979Z",
     "iopub.status.busy": "2023-01-15T01:16:51.110411Z",
     "iopub.status.idle": "2023-01-15T01:16:51.112321Z",
     "shell.execute_reply": "2023-01-15T01:16:51.112746Z"
    }
   },
   "outputs": [
    {
     "name": "stdout",
     "output_type": "stream",
     "text": [
      ">my_gene\n",
      "QMY\n",
      "\n"
     ]
    }
   ],
   "source": [
    "from cogent3 import make_seq\n",
    "\n",
    "my_seq = make_seq(\"CAAATGTATTAA\", name=\"my_gene\", moltype=\"dna\")\n",
    "pep = my_seq[:-3].get_translation()\n",
    "print(pep.to_fasta())"
   ]
  }
 ],
 "metadata": {
  "kernelspec": {
   "display_name": "Python 3 (ipykernel)",
   "language": "python",
   "name": "python3"
  },
  "language_info": {
   "codemirror_mode": {
    "name": "ipython",
    "version": 3
   },
   "file_extension": ".py",
   "mimetype": "text/x-python",
   "name": "python",
   "nbconvert_exporter": "python",
   "pygments_lexer": "ipython3",
   "version": "3.10.0"
  }
 },
 "nbformat": 4,
 "nbformat_minor": 5
}