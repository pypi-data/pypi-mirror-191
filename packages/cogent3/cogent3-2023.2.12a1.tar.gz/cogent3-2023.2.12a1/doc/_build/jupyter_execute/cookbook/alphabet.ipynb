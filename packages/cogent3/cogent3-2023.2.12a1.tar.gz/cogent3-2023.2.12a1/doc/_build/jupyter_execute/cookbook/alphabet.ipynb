{
 "cells": [
  {
   "cell_type": "code",
   "execution_count": 1,
   "id": "fad5ec79",
   "metadata": {
    "execution": {
     "iopub.execute_input": "2023-01-15T01:16:10.006273Z",
     "iopub.status.busy": "2023-01-15T01:16:10.005624Z",
     "iopub.status.idle": "2023-01-15T01:16:11.453153Z",
     "shell.execute_reply": "2023-01-15T01:16:11.453599Z"
    }
   },
   "outputs": [
    {
     "name": "stdout",
     "output_type": "stream",
     "text": [
      "('T', 'C', 'A', 'G')\n",
      "('A', 'C', 'D', 'E', 'F', 'G', 'H', 'I', 'K', 'L', 'M', 'N', 'P', 'Q', 'R', 'S', 'T', 'U', 'V', 'W', 'Y')\n"
     ]
    }
   ],
   "source": [
    "from cogent3 import DNA, PROTEIN\n",
    "\n",
    "print(DNA.alphabet)\n",
    "print(PROTEIN.alphabet)"
   ]
  },
  {
   "cell_type": "code",
   "execution_count": 2,
   "id": "08eee00a",
   "metadata": {
    "execution": {
     "iopub.execute_input": "2023-01-15T01:16:11.461904Z",
     "iopub.status.busy": "2023-01-15T01:16:11.461360Z",
     "iopub.status.idle": "2023-01-15T01:16:11.463690Z",
     "shell.execute_reply": "2023-01-15T01:16:11.464068Z"
    }
   },
   "outputs": [
    {
     "data": {
      "text/plain": [
       "True"
      ]
     },
     "execution_count": 2,
     "metadata": {},
     "output_type": "execute_result"
    }
   ],
   "source": [
    "PROTEIN.alphabet.moltype == PROTEIN"
   ]
  },
  {
   "cell_type": "code",
   "execution_count": 3,
   "id": "e6455789",
   "metadata": {
    "execution": {
     "iopub.execute_input": "2023-01-15T01:16:11.467554Z",
     "iopub.status.busy": "2023-01-15T01:16:11.466975Z",
     "iopub.status.idle": "2023-01-15T01:16:11.469298Z",
     "shell.execute_reply": "2023-01-15T01:16:11.469669Z"
    }
   },
   "outputs": [
    {
     "name": "stdout",
     "output_type": "stream",
     "text": [
      "('TT', 'TC', 'TA', 'TG', 'CT', 'CC', 'CA', 'CG', 'AT', 'AC', 'AA', 'AG', 'GT', 'GC', 'GA', 'GG')\n",
      "('TTT', 'TTC', 'TTA', 'TTG', 'TCT', 'TCC', 'TCA', 'TCG', 'TAT', 'TAC', 'TAA', 'TAG', 'TGT', 'TGC', 'TGA', 'TGG', 'CTT', 'CTC', 'CTA', 'CTG', 'CCT', 'CCC', 'CCA', 'CCG', 'CAT', 'CAC', 'CAA', 'CAG', 'CGT', 'CGC', 'CGA', 'CGG', 'ATT', 'ATC', 'ATA', 'ATG', 'ACT', 'ACC', 'ACA', 'ACG', 'AAT', 'AAC', 'AAA', 'AAG', 'AGT', 'AGC', 'AGA', 'AGG', 'GTT', 'GTC', 'GTA', 'GTG', 'GCT', 'GCC', 'GCA', 'GCG', 'GAT', 'GAC', 'GAA', 'GAG', 'GGT', 'GGC', 'GGA', 'GGG')\n"
     ]
    }
   ],
   "source": [
    "dinuc_alphabet = DNA.alphabet.get_word_alphabet(2)\n",
    "print(dinuc_alphabet)\n",
    "trinuc_alphabet = DNA.alphabet.get_word_alphabet(3)\n",
    "print(trinuc_alphabet)"
   ]
  },
  {
   "cell_type": "code",
   "execution_count": 4,
   "id": "71ea0fd1",
   "metadata": {
    "execution": {
     "iopub.execute_input": "2023-01-15T01:16:11.473185Z",
     "iopub.status.busy": "2023-01-15T01:16:11.472610Z",
     "iopub.status.idle": "2023-01-15T01:16:11.474917Z",
     "shell.execute_reply": "2023-01-15T01:16:11.475285Z"
    }
   },
   "outputs": [
    {
     "data": {
      "text/plain": [
       "[0, 2, 3, 0]"
      ]
     },
     "execution_count": 4,
     "metadata": {},
     "output_type": "execute_result"
    }
   ],
   "source": [
    "seq = \"TAGT\"\n",
    "indices = DNA.alphabet.to_indices(seq)\n",
    "indices"
   ]
  },
  {
   "cell_type": "code",
   "execution_count": 5,
   "id": "d48bd1fa",
   "metadata": {
    "execution": {
     "iopub.execute_input": "2023-01-15T01:16:11.478704Z",
     "iopub.status.busy": "2023-01-15T01:16:11.478110Z",
     "iopub.status.idle": "2023-01-15T01:16:11.480381Z",
     "shell.execute_reply": "2023-01-15T01:16:11.480864Z"
    }
   },
   "outputs": [
    {
     "data": {
      "text/plain": [
       "['T', 'A', 'G', 'T']"
      ]
     },
     "execution_count": 5,
     "metadata": {},
     "output_type": "execute_result"
    }
   ],
   "source": [
    "seq = DNA.alphabet.from_indices([0, 2, 3, 0])\n",
    "seq"
   ]
  },
  {
   "cell_type": "code",
   "execution_count": 6,
   "id": "604a506a",
   "metadata": {
    "execution": {
     "iopub.execute_input": "2023-01-15T01:16:11.484735Z",
     "iopub.status.busy": "2023-01-15T01:16:11.484116Z",
     "iopub.status.idle": "2023-01-15T01:16:11.486946Z",
     "shell.execute_reply": "2023-01-15T01:16:11.487324Z"
    }
   },
   "outputs": [
    {
     "name": "stderr",
     "output_type": "stream",
     "text": [
      "/var/folders/rh/t24zj19s7qxd4_4p0n5rqjy00000gn/T/ipykernel_48007/3773891511.py:1: DeprecationWarning: method Alphabet.from_ordinals_to_seq is discontinued, support will be stopped in version 2023.1\n",
      "redundant\n",
      "  seq = DNA.alphabet.from_ordinals_to_seq([0, 2, 3, 0])\n"
     ]
    },
    {
     "data": {
      "text/html": [
       "<style>\n",
       ".c3seq td { border: none !important; text-align: left !important; }\n",
       ".c3seq tr:not(.num_row) td span {margin: 0 2px;}\n",
       ".c3seq tr:nth-child(even) {background: #f7f7f7;}\n",
       ".c3seq .num_row {background-color:rgba(161, 195, 209, 0.5) !important; border-top: solid 1px black; }\n",
       ".c3seq .label { font-size: 12pt ; text-align: right !important; color: black !important; padding: 0 4px; }\n",
       ".c3seq .T_dna{font-family: \"Lucida Console\",monospace !important; font-size: 12pt !important; color: blue; }\n",
       ".c3seq .C_dna{font-family: \"Lucida Console\",monospace !important; font-size: 12pt !important; color: black; }\n",
       ".c3seq .A_dna{font-family: \"Lucida Console\",monospace !important; font-size: 12pt !important; color: #FF0102; }\n",
       ".c3seq .G_dna{font-family: \"Lucida Console\",monospace !important; font-size: 12pt !important; color: green; }\n",
       ".c3seq .terminal_ambig_dna{font-family: \"Lucida Console\",monospace !important; font-size: 12pt !important; color: gray; }\n",
       ".c3seq .ambig_dna{font-family: \"Lucida Console\",monospace !important; font-size: 12pt !important; color: gray; }\n",
       "</style>\n",
       "<div class=\"c3seq\">\n",
       "<table>\n",
       "<tr class=\"num_row\"><td></td><td><b>0</b></td></tr>\n",
       "<tr><td class=\"label\">None</td><td><span class=\"T_dna\">T</span><span class=\"A_dna\">A</span><span class=\"G_dna\">G</span><span class=\"T_dna\">T</span></td></tr>\n",
       "</table>\n",
       "<p><i>4 DnaSequence</i></p>\n",
       "</div>"
      ],
      "text/plain": [
       "DnaSequence(TAGT)"
      ]
     },
     "execution_count": 6,
     "metadata": {},
     "output_type": "execute_result"
    }
   ],
   "source": [
    "seq = DNA.alphabet.from_ordinals_to_seq([0, 2, 3, 0])\n",
    "seq"
   ]
  }
 ],
 "metadata": {
  "kernelspec": {
   "display_name": "Python 3 (ipykernel)",
   "language": "python",
   "name": "python3"
  },
  "language_info": {
   "codemirror_mode": {
    "name": "ipython",
    "version": 3
   },
   "file_extension": ".py",
   "mimetype": "text/x-python",
   "name": "python",
   "nbconvert_exporter": "python",
   "pygments_lexer": "ipython3",
   "version": "3.10.0"
  }
 },
 "nbformat": 4,
 "nbformat_minor": 5
}