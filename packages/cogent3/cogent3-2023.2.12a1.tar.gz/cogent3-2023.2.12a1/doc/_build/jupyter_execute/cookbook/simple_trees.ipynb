{
 "cells": [
  {
   "cell_type": "code",
   "execution_count": 1,
   "id": "b2ef7b3a",
   "metadata": {
    "execution": {
     "iopub.execute_input": "2023-01-15T01:17:14.335119Z",
     "iopub.status.busy": "2023-01-15T01:17:14.334361Z",
     "iopub.status.idle": "2023-01-15T01:17:16.249203Z",
     "shell.execute_reply": "2023-01-15T01:17:16.249729Z"
    }
   },
   "outputs": [],
   "source": [
    "import set_working_directory"
   ]
  },
  {
   "cell_type": "code",
   "execution_count": 2,
   "id": "afc23f9d",
   "metadata": {
    "execution": {
     "iopub.execute_input": "2023-01-15T01:17:16.254097Z",
     "iopub.status.busy": "2023-01-15T01:17:16.253392Z",
     "iopub.status.idle": "2023-01-15T01:17:17.548468Z",
     "shell.execute_reply": "2023-01-15T01:17:17.549180Z"
    }
   },
   "outputs": [
    {
     "name": "stdout",
     "output_type": "stream",
     "text": [
      "                              /-Human\n",
      "                    /edge.0--|\n",
      "          /edge.1--|          \\-HowlerMon\n",
      "         |         |\n",
      "         |          \\-Mouse\n",
      "-root----|\n",
      "         |--NineBande\n",
      "         |\n",
      "          \\-DogFaced\n"
     ]
    }
   ],
   "source": [
    "from cogent3 import load_tree\n",
    "\n",
    "tr = load_tree(\"data/test.tree\")\n",
    "print(tr.ascii_art())"
   ]
  },
  {
   "cell_type": "code",
   "execution_count": 3,
   "id": "33fced29",
   "metadata": {
    "execution": {
     "iopub.execute_input": "2023-01-15T01:17:17.553933Z",
     "iopub.status.busy": "2023-01-15T01:17:17.552772Z",
     "iopub.status.idle": "2023-01-15T01:17:17.555988Z",
     "shell.execute_reply": "2023-01-15T01:17:17.556313Z"
    }
   },
   "outputs": [],
   "source": [
    "from cogent3 import load_tree\n",
    "\n",
    "tr = load_tree(\"data/test.tree\")\n",
    "tr.write(\"data/temp.tree\")"
   ]
  },
  {
   "cell_type": "code",
   "execution_count": 4,
   "id": "95bddea9",
   "metadata": {
    "execution": {
     "iopub.execute_input": "2023-01-15T01:17:17.563823Z",
     "iopub.status.busy": "2023-01-15T01:17:17.559034Z",
     "iopub.status.idle": "2023-01-15T01:17:17.566305Z",
     "shell.execute_reply": "2023-01-15T01:17:17.566624Z"
    }
   },
   "outputs": [
    {
     "data": {
      "text/plain": [
       "['root', 'edge.1', 'edge.0', 'Human']"
      ]
     },
     "execution_count": 4,
     "metadata": {},
     "output_type": "execute_result"
    }
   ],
   "source": [
    "from cogent3 import load_tree\n",
    "\n",
    "tr = load_tree(\"data/test.tree\")\n",
    "names = tr.get_node_names()\n",
    "names[:4]"
   ]
  },
  {
   "cell_type": "code",
   "execution_count": 5,
   "id": "617294bb",
   "metadata": {
    "execution": {
     "iopub.execute_input": "2023-01-15T01:17:17.570859Z",
     "iopub.status.busy": "2023-01-15T01:17:17.570166Z",
     "iopub.status.idle": "2023-01-15T01:17:17.572862Z",
     "shell.execute_reply": "2023-01-15T01:17:17.573232Z"
    }
   },
   "outputs": [
    {
     "data": {
      "text/plain": [
       "Tree(\"Human;\")"
      ]
     },
     "execution_count": 5,
     "metadata": {},
     "output_type": "execute_result"
    }
   ],
   "source": [
    "names[4:]\n",
    "names_nodes = tr.get_nodes_dict()\n",
    "names_nodes[\"Human\"]"
   ]
  },
  {
   "cell_type": "code",
   "execution_count": 6,
   "id": "b41636b2",
   "metadata": {
    "execution": {
     "iopub.execute_input": "2023-01-15T01:17:17.576220Z",
     "iopub.status.busy": "2023-01-15T01:17:17.575608Z",
     "iopub.status.idle": "2023-01-15T01:17:17.578048Z",
     "shell.execute_reply": "2023-01-15T01:17:17.578381Z"
    }
   },
   "outputs": [
    {
     "data": {
      "text/plain": [
       "Tree(\"Mouse;\")"
      ]
     },
     "execution_count": 6,
     "metadata": {},
     "output_type": "execute_result"
    }
   ],
   "source": [
    "tr.get_node_matching_name(\"Mouse\")"
   ]
  },
  {
   "cell_type": "code",
   "execution_count": 7,
   "id": "9d4c9822",
   "metadata": {
    "execution": {
     "iopub.execute_input": "2023-01-15T01:17:17.581261Z",
     "iopub.status.busy": "2023-01-15T01:17:17.580739Z",
     "iopub.status.idle": "2023-01-15T01:17:17.583669Z",
     "shell.execute_reply": "2023-01-15T01:17:17.583983Z"
    }
   },
   "outputs": [
    {
     "data": {
      "text/plain": [
       "'root'"
      ]
     },
     "execution_count": 7,
     "metadata": {},
     "output_type": "execute_result"
    }
   ],
   "source": [
    "from cogent3 import load_tree\n",
    "\n",
    "tr = load_tree(\"data/test.tree\")\n",
    "hu = tr.get_node_matching_name(\"Human\")\n",
    "tr.name"
   ]
  },
  {
   "cell_type": "code",
   "execution_count": 8,
   "id": "bec4c2b1",
   "metadata": {
    "execution": {
     "iopub.execute_input": "2023-01-15T01:17:17.587788Z",
     "iopub.status.busy": "2023-01-15T01:17:17.587080Z",
     "iopub.status.idle": "2023-01-15T01:17:17.589592Z",
     "shell.execute_reply": "2023-01-15T01:17:17.589931Z"
    }
   },
   "outputs": [
    {
     "data": {
      "text/plain": [
       "'Human'"
      ]
     },
     "execution_count": 8,
     "metadata": {},
     "output_type": "execute_result"
    }
   ],
   "source": [
    "hu.name"
   ]
  },
  {
   "cell_type": "code",
   "execution_count": 9,
   "id": "100ad9c5",
   "metadata": {
    "execution": {
     "iopub.execute_input": "2023-01-15T01:17:17.592906Z",
     "iopub.status.busy": "2023-01-15T01:17:17.592412Z",
     "iopub.status.idle": "2023-01-15T01:17:17.595552Z",
     "shell.execute_reply": "2023-01-15T01:17:17.595886Z"
    }
   },
   "outputs": [
    {
     "data": {
      "text/plain": [
       "cogent3.core.tree.PhyloNode"
      ]
     },
     "execution_count": 9,
     "metadata": {},
     "output_type": "execute_result"
    }
   ],
   "source": [
    "from cogent3 import load_tree\n",
    "\n",
    "tr = load_tree(\"data/test.tree\")\n",
    "nodes = tr.get_nodes_dict()\n",
    "hu = nodes[\"Human\"]\n",
    "type(hu)"
   ]
  },
  {
   "cell_type": "code",
   "execution_count": 10,
   "id": "7019fc7f",
   "metadata": {
    "execution": {
     "iopub.execute_input": "2023-01-15T01:17:17.598514Z",
     "iopub.status.busy": "2023-01-15T01:17:17.598003Z",
     "iopub.status.idle": "2023-01-15T01:17:17.599906Z",
     "shell.execute_reply": "2023-01-15T01:17:17.600397Z"
    }
   },
   "outputs": [
    {
     "data": {
      "text/plain": [
       "cogent3.core.tree.PhyloNode"
      ]
     },
     "execution_count": 10,
     "metadata": {},
     "output_type": "execute_result"
    }
   ],
   "source": [
    "type(tr)"
   ]
  },
  {
   "cell_type": "code",
   "execution_count": 11,
   "id": "0051b5de",
   "metadata": {
    "execution": {
     "iopub.execute_input": "2023-01-15T01:17:17.604242Z",
     "iopub.status.busy": "2023-01-15T01:17:17.603755Z",
     "iopub.status.idle": "2023-01-15T01:17:17.605574Z",
     "shell.execute_reply": "2023-01-15T01:17:17.605920Z"
    }
   },
   "outputs": [
    {
     "name": "stdout",
     "output_type": "stream",
     "text": [
      "('root', Tree(\"(((Human,HowlerMon),Mouse),NineBande,DogFaced);\"))\n",
      "('edge.1', Tree(\"((Human,HowlerMon),Mouse);\"))\n",
      "('edge.0', Tree(\"(Human,HowlerMon);\"))\n",
      "('Human', Tree(\"Human;\"))\n",
      "('HowlerMon', Tree(\"HowlerMon;\"))\n",
      "('Mouse', Tree(\"Mouse;\"))\n",
      "('NineBande', Tree(\"NineBande;\"))\n",
      "('DogFaced', Tree(\"DogFaced;\"))\n"
     ]
    }
   ],
   "source": [
    "from cogent3 import load_tree\n",
    "\n",
    "tr = load_tree(\"data/test.tree\")\n",
    "nodes = tr.get_nodes_dict()\n",
    "for n in nodes.items():\n",
    "    print(n)"
   ]
  },
  {
   "cell_type": "code",
   "execution_count": 12,
   "id": "a69e0c37",
   "metadata": {
    "execution": {
     "iopub.execute_input": "2023-01-15T01:17:17.608628Z",
     "iopub.status.busy": "2023-01-15T01:17:17.608121Z",
     "iopub.status.idle": "2023-01-15T01:17:17.609967Z",
     "shell.execute_reply": "2023-01-15T01:17:17.610322Z"
    }
   },
   "outputs": [
    {
     "name": "stdout",
     "output_type": "stream",
     "text": [
      "Human:0.0311054096183;\n",
      "HowlerMon:0.0415847131449;\n",
      "Mouse:0.277353608988;\n",
      "NineBande:0.0939768158209;\n",
      "DogFaced:0.113211053859;\n"
     ]
    }
   ],
   "source": [
    "for n in tr.iter_tips():\n",
    "    print(n)"
   ]
  },
  {
   "cell_type": "code",
   "execution_count": 13,
   "id": "b8164913",
   "metadata": {
    "execution": {
     "iopub.execute_input": "2023-01-15T01:17:17.612978Z",
     "iopub.status.busy": "2023-01-15T01:17:17.612471Z",
     "iopub.status.idle": "2023-01-15T01:17:17.614773Z",
     "shell.execute_reply": "2023-01-15T01:17:17.615164Z"
    }
   },
   "outputs": [
    {
     "name": "stdout",
     "output_type": "stream",
     "text": [
      "((Human,HowlerMon),Mouse);\n",
      "(Human,HowlerMon);\n"
     ]
    }
   ],
   "source": [
    "from cogent3 import load_tree\n",
    "\n",
    "tr = load_tree(\"data/test.tree\")\n",
    "for n in tr.iter_nontips():\n",
    "    print(n.get_newick())"
   ]
  },
  {
   "cell_type": "code",
   "execution_count": 14,
   "id": "a232b2a7",
   "metadata": {
    "execution": {
     "iopub.execute_input": "2023-01-15T01:17:17.618620Z",
     "iopub.status.busy": "2023-01-15T01:17:17.618002Z",
     "iopub.status.idle": "2023-01-15T01:17:17.620721Z",
     "shell.execute_reply": "2023-01-15T01:17:17.621077Z"
    }
   },
   "outputs": [
    {
     "name": "stdout",
     "output_type": "stream",
     "text": [
      "edge.1\n",
      "edge.0\n",
      "Human\n"
     ]
    }
   ],
   "source": [
    "from cogent3 import load_tree\n",
    "\n",
    "tr = load_tree(\"data/test.tree\")\n",
    "edges = tr.get_connecting_edges(\"edge.1\", \"Human\")\n",
    "for edge in edges:\n",
    "    print(edge.name)"
   ]
  },
  {
   "cell_type": "code",
   "execution_count": 15,
   "id": "efb52757",
   "metadata": {
    "execution": {
     "iopub.execute_input": "2023-01-15T01:17:17.623921Z",
     "iopub.status.busy": "2023-01-15T01:17:17.623428Z",
     "iopub.status.idle": "2023-01-15T01:17:17.626493Z",
     "shell.execute_reply": "2023-01-15T01:17:17.626831Z"
    }
   },
   "outputs": [
    {
     "data": {
      "text/plain": [
       "True"
      ]
     },
     "execution_count": 15,
     "metadata": {},
     "output_type": "execute_result"
    }
   ],
   "source": [
    "from cogent3 import load_tree\n",
    "\n",
    "tr = load_tree(\"data/test.tree\")\n",
    "nodes = tr.get_nodes_dict()\n",
    "hu = nodes[\"Human\"]\n",
    "mu = nodes[\"Mouse\"]\n",
    "hu.distance(mu)\n",
    "hu.is_tip()"
   ]
  },
  {
   "cell_type": "code",
   "execution_count": 16,
   "id": "a0368e3b",
   "metadata": {
    "execution": {
     "iopub.execute_input": "2023-01-15T01:17:17.629684Z",
     "iopub.status.busy": "2023-01-15T01:17:17.629193Z",
     "iopub.status.idle": "2023-01-15T01:17:17.632168Z",
     "shell.execute_reply": "2023-01-15T01:17:17.632499Z"
    }
   },
   "outputs": [
    {
     "data": {
      "text/plain": [
       "Tree(\"((Human,HowlerMon),Mouse);\")"
      ]
     },
     "execution_count": 16,
     "metadata": {},
     "output_type": "execute_result"
    }
   ],
   "source": [
    "from cogent3 import load_tree\n",
    "\n",
    "tr = load_tree(\"data/test.tree\")\n",
    "nodes = tr.get_nodes_dict()\n",
    "hu = nodes[\"Human\"]\n",
    "mu = nodes[\"Mouse\"]\n",
    "lca = hu.last_common_ancestor(mu)\n",
    "lca"
   ]
  },
  {
   "cell_type": "code",
   "execution_count": 17,
   "id": "ac4ce4d8",
   "metadata": {
    "execution": {
     "iopub.execute_input": "2023-01-15T01:17:17.635703Z",
     "iopub.status.busy": "2023-01-15T01:17:17.635040Z",
     "iopub.status.idle": "2023-01-15T01:17:17.637489Z",
     "shell.execute_reply": "2023-01-15T01:17:17.637826Z"
    }
   },
   "outputs": [
    {
     "data": {
      "text/plain": [
       "cogent3.core.tree.PhyloNode"
      ]
     },
     "execution_count": 17,
     "metadata": {},
     "output_type": "execute_result"
    }
   ],
   "source": [
    "type(lca)"
   ]
  },
  {
   "cell_type": "code",
   "execution_count": 18,
   "id": "923f9942",
   "metadata": {
    "execution": {
     "iopub.execute_input": "2023-01-15T01:17:17.640677Z",
     "iopub.status.busy": "2023-01-15T01:17:17.640152Z",
     "iopub.status.idle": "2023-01-15T01:17:17.642562Z",
     "shell.execute_reply": "2023-01-15T01:17:17.642908Z"
    }
   },
   "outputs": [
    {
     "name": "stdout",
     "output_type": "stream",
     "text": [
      "edge.0\n",
      "edge.1\n",
      "root\n"
     ]
    }
   ],
   "source": [
    "from cogent3 import load_tree\n",
    "\n",
    "tr = load_tree(\"data/test.tree\")\n",
    "hu = tr.get_node_matching_name(\"Human\")\n",
    "for a in hu.ancestors():\n",
    "    print(a.name)"
   ]
  },
  {
   "cell_type": "code",
   "execution_count": 19,
   "id": "86ef0699",
   "metadata": {
    "execution": {
     "iopub.execute_input": "2023-01-15T01:17:17.645832Z",
     "iopub.status.busy": "2023-01-15T01:17:17.645365Z",
     "iopub.status.idle": "2023-01-15T01:17:17.647642Z",
     "shell.execute_reply": "2023-01-15T01:17:17.647960Z"
    }
   },
   "outputs": [
    {
     "name": "stdout",
     "output_type": "stream",
     "text": [
      "Human\n",
      "HowlerMon\n",
      "Mouse\n",
      "edge.0\n"
     ]
    }
   ],
   "source": [
    "from cogent3 import load_tree\n",
    "\n",
    "tr = load_tree(\"data/test.tree\")\n",
    "node = tr.get_node_matching_name(\"edge.1\")\n",
    "children = list(node.iter_tips()) + list(node.iter_nontips())\n",
    "for child in children:\n",
    "    print(child.name)"
   ]
  },
  {
   "cell_type": "code",
   "execution_count": 20,
   "id": "f422470f",
   "metadata": {
    "execution": {
     "iopub.execute_input": "2023-01-15T01:17:17.650713Z",
     "iopub.status.busy": "2023-01-15T01:17:17.650207Z",
     "iopub.status.idle": "2023-01-15T01:17:17.652484Z",
     "shell.execute_reply": "2023-01-15T01:17:17.653092Z"
    }
   },
   "outputs": [],
   "source": [
    "from cogent3 import load_tree\n",
    "\n",
    "tr = load_tree(\"data/test.tree\")\n",
    "dists = tr.get_distances()"
   ]
  },
  {
   "cell_type": "code",
   "execution_count": 21,
   "id": "464cdc90",
   "metadata": {
    "execution": {
     "iopub.execute_input": "2023-01-15T01:17:17.656147Z",
     "iopub.status.busy": "2023-01-15T01:17:17.655623Z",
     "iopub.status.idle": "2023-01-15T01:17:17.657477Z",
     "shell.execute_reply": "2023-01-15T01:17:17.657886Z"
    }
   },
   "outputs": [
    {
     "name": "stdout",
     "output_type": "stream",
     "text": [
      "('Human', 'HowlerMon') 0.0726901227632\n",
      "('HowlerMon', 'Human') 0.0726901227632\n",
      "('Human', 'Mouse') 0.3467553610937\n",
      "('Mouse', 'Human') 0.3467553610937\n",
      "('Human', 'NineBande') 0.18310641816450002\n",
      "('NineBande', 'Human') 0.18310641816450002\n",
      "('Human', 'DogFaced') 0.2023406562026\n",
      "('DogFaced', 'Human') 0.2023406562026\n"
     ]
    }
   ],
   "source": [
    "human_dists = [names for names in dists if \"Human\" in names]\n",
    "for dist in human_dists:\n",
    "    print(dist, dists[dist])"
   ]
  },
  {
   "cell_type": "code",
   "execution_count": 22,
   "id": "ee05d45b",
   "metadata": {
    "execution": {
     "iopub.execute_input": "2023-01-15T01:17:17.660604Z",
     "iopub.status.busy": "2023-01-15T01:17:17.660111Z",
     "iopub.status.idle": "2023-01-15T01:17:17.663306Z",
     "shell.execute_reply": "2023-01-15T01:17:17.663736Z"
    }
   },
   "outputs": [
    {
     "data": {
      "text/plain": [
       "(0.4102925130849, ('Mouse', 'DogFaced'))"
      ]
     },
     "execution_count": 22,
     "metadata": {},
     "output_type": "execute_result"
    }
   ],
   "source": [
    "from cogent3 import load_tree\n",
    "\n",
    "tr = load_tree(\"data/test.tree\")\n",
    "tr.max_tip_tip_distance()"
   ]
  },
  {
   "cell_type": "code",
   "execution_count": 23,
   "id": "472ae823",
   "metadata": {
    "execution": {
     "iopub.execute_input": "2023-01-15T01:17:17.666970Z",
     "iopub.status.busy": "2023-01-15T01:17:17.666410Z",
     "iopub.status.idle": "2023-01-15T01:17:17.669218Z",
     "shell.execute_reply": "2023-01-15T01:17:17.669633Z"
    }
   },
   "outputs": [
    {
     "name": "stdout",
     "output_type": "stream",
     "text": [
      "HowlerMon:0.0415847131449;\n",
      "NineBande:0.0939768158209;\n"
     ]
    }
   ],
   "source": [
    "from cogent3 import load_tree\n",
    "\n",
    "tr = load_tree(\"data/test.tree\")\n",
    "hu = tr.get_node_matching_name(\"Human\")\n",
    "tips = hu.tips_within_distance(0.2)\n",
    "for t in tips:\n",
    "    print(t)"
   ]
  },
  {
   "cell_type": "code",
   "execution_count": 24,
   "id": "eb685d63",
   "metadata": {
    "execution": {
     "iopub.execute_input": "2023-01-15T01:17:17.672351Z",
     "iopub.status.busy": "2023-01-15T01:17:17.671859Z",
     "iopub.status.idle": "2023-01-15T01:17:17.674136Z",
     "shell.execute_reply": "2023-01-15T01:17:17.674543Z"
    }
   },
   "outputs": [
    {
     "name": "stdout",
     "output_type": "stream",
     "text": [
      "          /-Human\n",
      "         |\n",
      "-root----|--HowlerMon\n",
      "         |\n",
      "         |          /-Mouse\n",
      "          \\edge.0--|\n",
      "                   |          /-NineBande\n",
      "                    \\edge.1--|\n",
      "                              \\-DogFaced\n"
     ]
    }
   ],
   "source": [
    "from cogent3 import load_tree\n",
    "\n",
    "tr = load_tree(\"data/test.tree\")\n",
    "print(tr.rooted_at(\"edge.0\").ascii_art())"
   ]
  },
  {
   "cell_type": "code",
   "execution_count": 25,
   "id": "a830225f",
   "metadata": {
    "execution": {
     "iopub.execute_input": "2023-01-15T01:17:17.677196Z",
     "iopub.status.busy": "2023-01-15T01:17:17.676677Z",
     "iopub.status.idle": "2023-01-15T01:17:17.679046Z",
     "shell.execute_reply": "2023-01-15T01:17:17.679446Z"
    }
   },
   "outputs": [
    {
     "name": "stdout",
     "output_type": "stream",
     "text": [
      "          /-Mouse\n",
      "         |\n",
      "-root----|                    /-Human\n",
      "         |          /edge.0--|\n",
      "         |         |          \\-HowlerMon\n",
      "          \\edge.0.2|\n",
      "                   |          /-NineBande\n",
      "                    \\edge.1--|\n",
      "                              \\-DogFaced\n"
     ]
    }
   ],
   "source": [
    "from cogent3 import load_tree\n",
    "\n",
    "tr = load_tree(\"data/test.tree\")\n",
    "print(tr.root_at_midpoint().ascii_art())"
   ]
  },
  {
   "cell_type": "code",
   "execution_count": 26,
   "id": "5dc85e3e",
   "metadata": {
    "execution": {
     "iopub.execute_input": "2023-01-15T01:17:17.682039Z",
     "iopub.status.busy": "2023-01-15T01:17:17.681463Z",
     "iopub.status.idle": "2023-01-15T01:17:17.683317Z",
     "shell.execute_reply": "2023-01-15T01:17:17.683659Z"
    }
   },
   "outputs": [
    {
     "name": "stdout",
     "output_type": "stream",
     "text": [
      "                              /-Human\n",
      "                    /edge.0--|\n",
      "          /edge.1--|          \\-HowlerMon\n",
      "         |         |\n",
      "         |          \\-------- /-Mouse\n",
      "-root----|\n",
      "         |--NineBande\n",
      "         |\n",
      "          \\-DogFaced\n"
     ]
    }
   ],
   "source": [
    "print(tr.ascii_art())"
   ]
  },
  {
   "cell_type": "code",
   "execution_count": 27,
   "id": "08e2b8d2",
   "metadata": {
    "execution": {
     "iopub.execute_input": "2023-01-15T01:17:17.686832Z",
     "iopub.status.busy": "2023-01-15T01:17:17.686316Z",
     "iopub.status.idle": "2023-01-15T01:17:17.688876Z",
     "shell.execute_reply": "2023-01-15T01:17:17.689221Z"
    }
   },
   "outputs": [
    {
     "name": "stdout",
     "output_type": "stream",
     "text": [
      "                              /-Human\n",
      "                    /edge.0--|\n",
      "          /edge.1--|          \\-HowlerMon\n",
      "         |         |\n",
      "         |          \\-Mouse\n",
      "-root----|\n",
      "         |--NineBande\n",
      "         |\n",
      "          \\-DogFaced\n"
     ]
    }
   ],
   "source": [
    "from cogent3 import load_tree\n",
    "\n",
    "tr = load_tree(\"data/test.tree\")\n",
    "print(tr.ascii_art())"
   ]
  },
  {
   "cell_type": "code",
   "execution_count": 28,
   "id": "5d72f099",
   "metadata": {
    "execution": {
     "iopub.execute_input": "2023-01-15T01:17:17.691981Z",
     "iopub.status.busy": "2023-01-15T01:17:17.691495Z",
     "iopub.status.idle": "2023-01-15T01:17:17.693188Z",
     "shell.execute_reply": "2023-01-15T01:17:17.693684Z"
    }
   },
   "outputs": [
    {
     "name": "stdout",
     "output_type": "stream",
     "text": [
      "                    /-Human\n",
      "          /edge.0--|\n",
      "         |          \\-HowlerMon\n",
      "         |\n",
      "-root----|--Mouse\n",
      "         |\n",
      "         |          /-NineBande\n",
      "          \\edge.1--|\n",
      "                    \\-DogFaced\n"
     ]
    }
   ],
   "source": [
    "print(tr.rooted_with_tip(\"Mouse\").ascii_art())"
   ]
  },
  {
   "cell_type": "code",
   "execution_count": 29,
   "id": "cd803428",
   "metadata": {
    "execution": {
     "iopub.execute_input": "2023-01-15T01:17:17.696312Z",
     "iopub.status.busy": "2023-01-15T01:17:17.695793Z",
     "iopub.status.idle": "2023-01-15T01:17:17.698650Z",
     "shell.execute_reply": "2023-01-15T01:17:17.698996Z"
    }
   },
   "outputs": [
    {
     "data": {
      "text/plain": [
       "'(((Human,HowlerMon),Mouse),NineBande,DogFaced);'"
      ]
     },
     "execution_count": 29,
     "metadata": {},
     "output_type": "execute_result"
    }
   ],
   "source": [
    "from cogent3 import load_tree\n",
    "\n",
    "tr = load_tree(\"data/test.tree\")\n",
    "tr.get_newick()"
   ]
  },
  {
   "cell_type": "code",
   "execution_count": 30,
   "id": "ba509c1e",
   "metadata": {
    "execution": {
     "iopub.execute_input": "2023-01-15T01:17:17.702092Z",
     "iopub.status.busy": "2023-01-15T01:17:17.701464Z",
     "iopub.status.idle": "2023-01-15T01:17:17.703759Z",
     "shell.execute_reply": "2023-01-15T01:17:17.704162Z"
    }
   },
   "outputs": [
    {
     "data": {
      "text/plain": [
       "'(((Human:0.0311054096183,HowlerMon:0.0415847131449):0.0382963424874,Mouse:0.277353608988):0.0197278502379,NineBande:0.0939768158209,DogFaced:0.113211053859);'"
      ]
     },
     "execution_count": 30,
     "metadata": {},
     "output_type": "execute_result"
    }
   ],
   "source": [
    "tr.get_newick(with_distances=True)"
   ]
  },
  {
   "cell_type": "code",
   "execution_count": 31,
   "id": "5711c1e9",
   "metadata": {
    "execution": {
     "iopub.execute_input": "2023-01-15T01:17:17.706958Z",
     "iopub.status.busy": "2023-01-15T01:17:17.706431Z",
     "iopub.status.idle": "2023-01-15T01:17:17.709026Z",
     "shell.execute_reply": "2023-01-15T01:17:17.709397Z"
    }
   },
   "outputs": [
    {
     "name": "stdout",
     "output_type": "stream",
     "text": [
      "<?xml version=\"1.0\"?>\n",
      "<clade>\n",
      "  <clade>\n",
      "     <param><name>length</name><value>0.0197278502379</value></param>\n",
      "    <clade>\n",
      "       <param><name>length</name><value>0.0382963424874</value></param>\n",
      "      <clade>\n",
      "         <name>Human</name>\n",
      "         <param><name>length</name><value>0.0311054096183</value></param>\n",
      "      </clade>\n",
      "      <clade>\n",
      "         <name>HowlerMon</name>\n",
      "         <param><name>length</name><value>0.0415847131449</value></param>\n",
      "      </clade>\n",
      "    </clade>\n",
      "    <clade>\n",
      "       <name>Mouse</name>\n",
      "       <param><name>length</name><value>0.277353608988</value></param>\n",
      "    </clade>\n",
      "  </clade>\n",
      "  <clade>\n",
      "     <name>NineBande</name>\n",
      "     <param><name>length</name><value>0.0939768158209</value></param>\n",
      "  </clade>\n",
      "  <clade>\n",
      "     <name>DogFaced</name>\n",
      "     <param><name>length</name><value>0.113211053859</value></param>\n",
      "  </clade>\n",
      "</clade>\n"
     ]
    }
   ],
   "source": [
    "from cogent3 import load_tree\n",
    "\n",
    "tr = load_tree(\"data/test.tree\")\n",
    "xml = tr.get_xml()\n",
    "for line in xml.splitlines():\n",
    "    print(line)"
   ]
  },
  {
   "cell_type": "code",
   "execution_count": 32,
   "id": "fa457796",
   "metadata": {
    "execution": {
     "iopub.execute_input": "2023-01-15T01:17:17.712196Z",
     "iopub.status.busy": "2023-01-15T01:17:17.711670Z",
     "iopub.status.idle": "2023-01-15T01:17:17.714188Z",
     "shell.execute_reply": "2023-01-15T01:17:17.714509Z"
    }
   },
   "outputs": [
    {
     "name": "stdout",
     "output_type": "stream",
     "text": [
      "                              /-Human\n",
      "                    /edge.0--|\n",
      "          /edge.1--|          \\-HowlerMon\n",
      "         |         |\n",
      "         |          \\-Mouse\n",
      "-root----|\n",
      "         |--NineBande\n",
      "         |\n",
      "          \\-DogFaced\n"
     ]
    }
   ],
   "source": [
    "from cogent3 import load_tree\n",
    "\n",
    "tr = load_tree(\"data/test.tree\")\n",
    "print(tr.ascii_art())"
   ]
  },
  {
   "cell_type": "code",
   "execution_count": 33,
   "id": "7e238b57",
   "metadata": {
    "execution": {
     "iopub.execute_input": "2023-01-15T01:17:17.717777Z",
     "iopub.status.busy": "2023-01-15T01:17:17.717243Z",
     "iopub.status.idle": "2023-01-15T01:17:17.720198Z",
     "shell.execute_reply": "2023-01-15T01:17:17.720538Z"
    }
   },
   "outputs": [
    {
     "name": "stdout",
     "output_type": "stream",
     "text": [
      "(((Human,HowlerMon),Mouse),NineBande,DogFaced);\n",
      "((Human,HowlerMon),Mouse);\n",
      "(Human,HowlerMon);\n",
      "Human;\n",
      "HowlerMon;\n",
      "Mouse;\n",
      "NineBande;\n",
      "DogFaced;\n"
     ]
    }
   ],
   "source": [
    "from cogent3 import load_tree\n",
    "\n",
    "tr = load_tree(\"data/test.tree\")\n",
    "for t in tr.preorder():\n",
    "    print(t.get_newick())"
   ]
  },
  {
   "cell_type": "code",
   "execution_count": 34,
   "id": "53717709",
   "metadata": {
    "execution": {
     "iopub.execute_input": "2023-01-15T01:17:17.723498Z",
     "iopub.status.busy": "2023-01-15T01:17:17.722973Z",
     "iopub.status.idle": "2023-01-15T01:17:17.725643Z",
     "shell.execute_reply": "2023-01-15T01:17:17.725987Z"
    }
   },
   "outputs": [
    {
     "name": "stdout",
     "output_type": "stream",
     "text": [
      "Human;\n",
      "HowlerMon;\n",
      "(Human,HowlerMon);\n",
      "Mouse;\n",
      "((Human,HowlerMon),Mouse);\n",
      "NineBande;\n",
      "DogFaced;\n",
      "(((Human,HowlerMon),Mouse),NineBande,DogFaced);\n"
     ]
    }
   ],
   "source": [
    "from cogent3 import load_tree\n",
    "\n",
    "tr = load_tree(\"data/test.tree\")\n",
    "for t in tr.postorder():\n",
    "    print(t.get_newick())"
   ]
  },
  {
   "cell_type": "code",
   "execution_count": 35,
   "id": "93b956bd",
   "metadata": {
    "execution": {
     "iopub.execute_input": "2023-01-15T01:17:17.729156Z",
     "iopub.status.busy": "2023-01-15T01:17:17.728661Z",
     "iopub.status.idle": "2023-01-15T01:17:17.731341Z",
     "shell.execute_reply": "2023-01-15T01:17:17.731783Z"
    }
   },
   "outputs": [
    {
     "name": "stdout",
     "output_type": "stream",
     "text": [
      "['Human', 'HowlerMon', 'Mouse']\n",
      "          /-Human\n",
      "         |\n",
      "-root----|--HowlerMon\n",
      "         |\n",
      "          \\-Mouse\n",
      "['Human', 'HowlerMon']\n",
      "          /-Human\n",
      "-root----|\n",
      "          \\-HowlerMon\n"
     ]
    }
   ],
   "source": [
    "from cogent3 import load_tree\n",
    "\n",
    "tr = load_tree(\"data/test.tree\")\n",
    "for tip in tr.iter_nontips():\n",
    "    tip_names = tip.get_tip_names()\n",
    "    print(tip_names)\n",
    "    sub_tree = tr.get_sub_tree(tip_names)\n",
    "    print(sub_tree.ascii_art())"
   ]
  },
  {
   "cell_type": "code",
   "execution_count": 36,
   "id": "f792faaa",
   "metadata": {
    "execution": {
     "iopub.execute_input": "2023-01-15T01:17:17.734724Z",
     "iopub.status.busy": "2023-01-15T01:17:17.734230Z",
     "iopub.status.idle": "2023-01-15T01:17:17.735927Z",
     "shell.execute_reply": "2023-01-15T01:17:17.736509Z"
    }
   },
   "outputs": [],
   "source": [
    "from cogent3.util.io import remove_files\n",
    "\n",
    "remove_files([\"data/temp.tree\", \"data/temp.pdf\"], error_on_missing=False)"
   ]
  },
  {
   "cell_type": "code",
   "execution_count": 37,
   "id": "555227db",
   "metadata": {
    "execution": {
     "iopub.execute_input": "2023-01-15T01:17:17.739326Z",
     "iopub.status.busy": "2023-01-15T01:17:17.738839Z",
     "iopub.status.idle": "2023-01-15T01:17:17.740476Z",
     "shell.execute_reply": "2023-01-15T01:17:17.740977Z"
    }
   },
   "outputs": [
    {
     "name": "stdout",
     "output_type": "stream",
     "text": [
      "          /-B\n",
      "-F-------|\n",
      "          \\E------- /-D\n"
     ]
    }
   ],
   "source": [
    "from cogent3 import make_tree\n",
    "\n",
    "simple_tree_string = \"(B:0.2,(D:0.4)E:0.5)F;\"\n",
    "simple_tree = make_tree(simple_tree_string)\n",
    "print(simple_tree.ascii_art())"
   ]
  },
  {
   "cell_type": "code",
   "execution_count": 38,
   "id": "aadd0d6f",
   "metadata": {
    "execution": {
     "iopub.execute_input": "2023-01-15T01:17:17.743689Z",
     "iopub.status.busy": "2023-01-15T01:17:17.743204Z",
     "iopub.status.idle": "2023-01-15T01:17:17.745139Z",
     "shell.execute_reply": "2023-01-15T01:17:17.745472Z"
    }
   },
   "outputs": [
    {
     "name": "stdout",
     "output_type": "stream",
     "text": [
      "          /-B\n",
      "-F-------|\n",
      "          \\-D\n"
     ]
    }
   ],
   "source": [
    "simple_tree.prune()\n",
    "print(simple_tree.ascii_art())"
   ]
  },
  {
   "cell_type": "code",
   "execution_count": 39,
   "id": "6cbbc388",
   "metadata": {
    "execution": {
     "iopub.execute_input": "2023-01-15T01:17:17.748115Z",
     "iopub.status.busy": "2023-01-15T01:17:17.747573Z",
     "iopub.status.idle": "2023-01-15T01:17:17.749518Z",
     "shell.execute_reply": "2023-01-15T01:17:17.749834Z"
    }
   },
   "outputs": [
    {
     "name": "stdout",
     "output_type": "stream",
     "text": [
      "(B:0.2,D:0.9)F;\n"
     ]
    }
   ],
   "source": [
    "print(simple_tree)"
   ]
  },
  {
   "cell_type": "code",
   "execution_count": 40,
   "id": "59e00c50",
   "metadata": {
    "execution": {
     "iopub.execute_input": "2023-01-15T01:17:17.753253Z",
     "iopub.status.busy": "2023-01-15T01:17:17.752438Z",
     "iopub.status.idle": "2023-01-15T01:17:17.755062Z",
     "shell.execute_reply": "2023-01-15T01:17:17.755677Z"
    }
   },
   "outputs": [
    {
     "name": "stdout",
     "output_type": "stream",
     "text": [
      "(((Human,HowlerMon),Mouse),NineBande,DogFaced);\n"
     ]
    }
   ],
   "source": [
    "from cogent3 import load_tree\n",
    "\n",
    "tr1 = load_tree(\"data/test.tree\")\n",
    "print(tr1.get_newick())"
   ]
  },
  {
   "cell_type": "code",
   "execution_count": 41,
   "id": "93f44aa9",
   "metadata": {
    "execution": {
     "iopub.execute_input": "2023-01-15T01:17:17.758531Z",
     "iopub.status.busy": "2023-01-15T01:17:17.758048Z",
     "iopub.status.idle": "2023-01-15T01:17:17.759841Z",
     "shell.execute_reply": "2023-01-15T01:17:17.760326Z"
    }
   },
   "outputs": [
    {
     "name": "stdout",
     "output_type": "stream",
     "text": [
      "(((Human,HowlerMon),Mouse),NineBande,DogFaced);\n"
     ]
    }
   ],
   "source": [
    "tr2 = tr1.unrooted_deepcopy()\n",
    "print(tr2.get_newick())"
   ]
  },
  {
   "cell_type": "code",
   "execution_count": 42,
   "id": "e87bad2e",
   "metadata": {
    "execution": {
     "iopub.execute_input": "2023-01-15T01:17:17.763815Z",
     "iopub.status.busy": "2023-01-15T01:17:17.763110Z",
     "iopub.status.idle": "2023-01-15T01:17:17.765114Z",
     "shell.execute_reply": "2023-01-15T01:17:17.765560Z"
    }
   },
   "outputs": [
    {
     "name": "stdout",
     "output_type": "stream",
     "text": [
      "          /-B\n",
      "         |\n",
      "         |--H\n",
      "-G-------|\n",
      "         |          /-C\n",
      "         |         |\n",
      "          \\F-------|--D\n",
      "                   |\n",
      "                    \\-E\n"
     ]
    }
   ],
   "source": [
    "from cogent3 import load_tree\n",
    "\n",
    "tree_string = \"(B:0.2,H:0.2,(C:0.3,D:0.4,E:0.1)F:0.5)G;\"\n",
    "tr = make_tree(tree_string)\n",
    "print(tr.ascii_art())"
   ]
  },
  {
   "cell_type": "code",
   "execution_count": 43,
   "id": "1529e2a2",
   "metadata": {
    "execution": {
     "iopub.execute_input": "2023-01-15T01:17:17.768524Z",
     "iopub.status.busy": "2023-01-15T01:17:17.768031Z",
     "iopub.status.idle": "2023-01-15T01:17:17.770236Z",
     "shell.execute_reply": "2023-01-15T01:17:17.770634Z"
    }
   },
   "outputs": [
    {
     "name": "stdout",
     "output_type": "stream",
     "text": [
      "          /-B\n",
      "-G-------|\n",
      "         |          /-H\n",
      "          \\--------|\n",
      "                   |          /-C\n",
      "                    \\F-------|\n",
      "                             |          /-D\n",
      "                              \\--------|\n",
      "                                        \\-E\n"
     ]
    }
   ],
   "source": [
    "print(tr.bifurcating().ascii_art())"
   ]
  },
  {
   "cell_type": "code",
   "execution_count": 44,
   "id": "5a6c8315",
   "metadata": {
    "execution": {
     "iopub.execute_input": "2023-01-15T01:17:17.773646Z",
     "iopub.status.busy": "2023-01-15T01:17:17.773058Z",
     "iopub.status.idle": "2023-01-15T01:17:17.775505Z",
     "shell.execute_reply": "2023-01-15T01:17:17.775886Z"
    }
   },
   "outputs": [
    {
     "name": "stdout",
     "output_type": "stream",
     "text": [
      "                              /-Human\n",
      "                    /edge.0--|\n",
      "          /edge.1--|          \\-HowlerMon\n",
      "         |         |\n",
      "         |          \\-Mouse\n",
      "-root----|\n",
      "         |--NineBande\n",
      "         |\n",
      "          \\-DogFaced\n"
     ]
    }
   ],
   "source": [
    "from cogent3 import load_tree\n",
    "\n",
    "tr = load_tree(\"data/test.tree\")\n",
    "print(tr.ascii_art())"
   ]
  },
  {
   "cell_type": "code",
   "execution_count": 45,
   "id": "a7968bc3",
   "metadata": {
    "execution": {
     "iopub.execute_input": "2023-01-15T01:17:17.778858Z",
     "iopub.status.busy": "2023-01-15T01:17:17.778354Z",
     "iopub.status.idle": "2023-01-15T01:17:17.780355Z",
     "shell.execute_reply": "2023-01-15T01:17:17.780851Z"
    }
   },
   "outputs": [
    {
     "name": "stdout",
     "output_type": "stream",
     "text": [
      "                    /-Human\n",
      "          /edge.0--|\n",
      "         |          \\-HowlerMon\n",
      "         |\n",
      "-root----|--Mouse\n",
      "         |\n",
      "         |          /-NineBande\n",
      "          \\edge.1--|\n",
      "                    \\-DogFaced\n"
     ]
    }
   ],
   "source": [
    "print(tr.balanced().ascii_art())"
   ]
  },
  {
   "cell_type": "code",
   "execution_count": 46,
   "id": "838ca310",
   "metadata": {
    "execution": {
     "iopub.execute_input": "2023-01-15T01:17:17.785053Z",
     "iopub.status.busy": "2023-01-15T01:17:17.784456Z",
     "iopub.status.idle": "2023-01-15T01:17:17.786718Z",
     "shell.execute_reply": "2023-01-15T01:17:17.787177Z"
    }
   },
   "outputs": [
    {
     "data": {
      "text/plain": [
       "True"
      ]
     },
     "execution_count": 46,
     "metadata": {},
     "output_type": "execute_result"
    }
   ],
   "source": [
    "from cogent3 import load_tree\n",
    "\n",
    "tr1 = make_tree(\"(B:0.2,(C:0.2,D:0.2)F:0.2)G;\")\n",
    "tr2 = make_tree(\"((C:0.1,D:0.1)F:0.1,B:0.1)G;\")\n",
    "tr1.same_topology(tr2)"
   ]
  },
  {
   "cell_type": "code",
   "execution_count": 47,
   "id": "cfa231ba",
   "metadata": {
    "execution": {
     "iopub.execute_input": "2023-01-15T01:17:17.790308Z",
     "iopub.status.busy": "2023-01-15T01:17:17.789741Z",
     "iopub.status.idle": "2023-01-15T01:17:17.791612Z",
     "shell.execute_reply": "2023-01-15T01:17:17.792026Z"
    }
   },
   "outputs": [
    {
     "name": "stdout",
     "output_type": "stream",
     "text": [
      "          /-B\n",
      "-G-------|\n",
      "         |          /-C\n",
      "          \\F-------|\n",
      "                    \\-D\n"
     ]
    }
   ],
   "source": [
    "from cogent3 import load_tree\n",
    "\n",
    "tr = make_tree(\"(B:0.2,(C:0.3,D:0.4)F:0.5)G;\")\n",
    "print(tr.ascii_art())"
   ]
  },
  {
   "cell_type": "code",
   "execution_count": 48,
   "id": "11d66056",
   "metadata": {
    "execution": {
     "iopub.execute_input": "2023-01-15T01:17:17.795074Z",
     "iopub.status.busy": "2023-01-15T01:17:17.794554Z",
     "iopub.status.idle": "2023-01-15T01:17:17.796266Z",
     "shell.execute_reply": "2023-01-15T01:17:17.796878Z"
    }
   },
   "outputs": [
    {
     "name": "stdout",
     "output_type": "stream",
     "text": [
      "G 0.9\n",
      "B 0\n",
      "F 0.4\n",
      "C 0\n",
      "D 0\n"
     ]
    }
   ],
   "source": [
    "tr.set_tip_distances()\n",
    "for t in tr.preorder():\n",
    "    print(t.name, t.TipDistance)"
   ]
  },
  {
   "cell_type": "code",
   "execution_count": 49,
   "id": "ea6e1d75",
   "metadata": {
    "execution": {
     "iopub.execute_input": "2023-01-15T01:17:17.800146Z",
     "iopub.status.busy": "2023-01-15T01:17:17.799590Z",
     "iopub.status.idle": "2023-01-15T01:17:17.801395Z",
     "shell.execute_reply": "2023-01-15T01:17:17.801770Z"
    }
   },
   "outputs": [
    {
     "name": "stdout",
     "output_type": "stream",
     "text": [
      "(B:0.2,(C:0.3,D:0.4)F:0.5)G;\n"
     ]
    }
   ],
   "source": [
    "from cogent3 import load_tree\n",
    "\n",
    "tr = make_tree(\"(B:0.2,(C:0.3,D:0.4)F:0.5)G;\")\n",
    "print(tr)"
   ]
  },
  {
   "cell_type": "code",
   "execution_count": 50,
   "id": "5f9ff540",
   "metadata": {
    "execution": {
     "iopub.execute_input": "2023-01-15T01:17:17.804702Z",
     "iopub.status.busy": "2023-01-15T01:17:17.804211Z",
     "iopub.status.idle": "2023-01-15T01:17:17.806069Z",
     "shell.execute_reply": "2023-01-15T01:17:17.806540Z"
    }
   },
   "outputs": [
    {
     "name": "stdout",
     "output_type": "stream",
     "text": [
      "(B:22,(C:33,D:44)F:56)G;\n"
     ]
    }
   ],
   "source": [
    "tr.scale_branch_lengths()\n",
    "print(tr)"
   ]
  },
  {
   "cell_type": "code",
   "execution_count": 51,
   "id": "376c1981",
   "metadata": {
    "execution": {
     "iopub.execute_input": "2023-01-15T01:17:17.810376Z",
     "iopub.status.busy": "2023-01-15T01:17:17.809830Z",
     "iopub.status.idle": "2023-01-15T01:17:17.812315Z",
     "shell.execute_reply": "2023-01-15T01:17:17.812719Z"
    }
   },
   "outputs": [
    {
     "name": "stdout",
     "output_type": "stream",
     "text": [
      "B [ 0. 10. 12.]"
     ]
    },
    {
     "name": "stdout",
     "output_type": "stream",
     "text": [
      "\n",
      "C [10.  0.  6.]\n",
      "D [12.  6.  0.]\n"
     ]
    }
   ],
   "source": [
    "from cogent3 import load_tree\n",
    "\n",
    "tr = make_tree(\"(B:3,(C:2,D:4)F:5)G;\")\n",
    "d, tips = tr.tip_to_tip_distances()\n",
    "for i, t in enumerate(tips):\n",
    "    print(t.name, d[i])"
   ]
  },
  {
   "cell_type": "code",
   "execution_count": 52,
   "id": "d8d13c27",
   "metadata": {
    "execution": {
     "iopub.execute_input": "2023-01-15T01:17:17.816992Z",
     "iopub.status.busy": "2023-01-15T01:17:17.816474Z",
     "iopub.status.idle": "2023-01-15T01:17:17.818723Z",
     "shell.execute_reply": "2023-01-15T01:17:17.819128Z"
    }
   },
   "outputs": [
    {
     "data": {
      "text/plain": [
       "0.08352668213457076"
      ]
     },
     "execution_count": 52,
     "metadata": {},
     "output_type": "execute_result"
    }
   ],
   "source": [
    "from cogent3 import load_tree\n",
    "\n",
    "tr1 = make_tree(\"(B:2,(C:3,D:4)F:5)G;\")\n",
    "tr2 = make_tree(\"(C:2,(B:3,D:4)F:5)G;\")\n",
    "tr1.compare_by_tip_distances(tr2)"
   ]
  }
 ],
 "metadata": {
  "kernelspec": {
   "display_name": "Python 3 (ipykernel)",
   "language": "python",
   "name": "python3"
  },
  "language_info": {
   "codemirror_mode": {
    "name": "ipython",
    "version": 3
   },
   "file_extension": ".py",
   "mimetype": "text/x-python",
   "name": "python",
   "nbconvert_exporter": "python",
   "pygments_lexer": "ipython3",
   "version": "3.10.0"
  }
 },
 "nbformat": 4,
 "nbformat_minor": 5
}