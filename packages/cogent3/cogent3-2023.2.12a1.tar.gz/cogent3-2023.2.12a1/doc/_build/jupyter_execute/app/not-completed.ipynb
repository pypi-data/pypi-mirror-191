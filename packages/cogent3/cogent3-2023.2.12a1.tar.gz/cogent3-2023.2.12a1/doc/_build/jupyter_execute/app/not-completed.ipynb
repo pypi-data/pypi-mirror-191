{
 "cells": [
  {
   "cell_type": "code",
   "execution_count": 1,
   "id": "73e087b0",
   "metadata": {
    "execution": {
     "iopub.execute_input": "2023-01-15T02:51:16.631271Z",
     "iopub.status.busy": "2023-01-15T02:51:16.630524Z",
     "iopub.status.idle": "2023-01-15T02:51:18.214578Z",
     "shell.execute_reply": "2023-01-15T02:51:18.215270Z"
    }
   },
   "outputs": [],
   "source": [
    "import set_working_directory"
   ]
  },
  {
   "cell_type": "code",
   "execution_count": 2,
   "id": "b3beac77",
   "metadata": {
    "execution": {
     "iopub.execute_input": "2023-01-15T02:51:18.220088Z",
     "iopub.status.busy": "2023-01-15T02:51:18.219430Z",
     "iopub.status.idle": "2023-01-15T02:51:19.532395Z",
     "shell.execute_reply": "2023-01-15T02:51:19.532915Z"
    }
   },
   "outputs": [
    {
     "data": {
      "text/plain": [
       "NotCompleted(type=FALSE, origin=take_named_seqs, source=\"primate_brca1.fasta\", message=\"named seq(s) {'Mouse'} not in ['Chimpanzee', 'Galago', 'Gorilla', 'HowlerMon', 'Human', 'Orangutan', 'Rhesus']\")"
      ]
     },
     "execution_count": 2,
     "metadata": {},
     "output_type": "execute_result"
    }
   ],
   "source": [
    "from cogent3 import get_app\n",
    "\n",
    "reader = get_app(\"load_aligned\", format=\"fasta\")\n",
    "select_seqs = get_app(\"take_named_seqs\", \"Mouse\", \"Human\")\n",
    "aln = reader(\"data/primate_brca1.fasta\")\n",
    "result = select_seqs(aln)\n",
    "result"
   ]
  },
  {
   "cell_type": "code",
   "execution_count": 3,
   "id": "770ae3b2",
   "metadata": {
    "execution": {
     "iopub.execute_input": "2023-01-15T02:51:19.536051Z",
     "iopub.status.busy": "2023-01-15T02:51:19.535581Z",
     "iopub.status.idle": "2023-01-15T02:51:19.537544Z",
     "shell.execute_reply": "2023-01-15T02:51:19.537863Z"
    }
   },
   "outputs": [
    {
     "data": {
      "text/plain": [
       "\"named seq(s) {'Mouse'} not in ['Chimpanzee', 'Galago', 'Gorilla', 'HowlerMon', 'Human', 'Orangutan', 'Rhesus']\""
      ]
     },
     "execution_count": 3,
     "metadata": {},
     "output_type": "execute_result"
    }
   ],
   "source": [
    "result == False\n",
    "result.type\n",
    "result.message"
   ]
  },
  {
   "cell_type": "code",
   "execution_count": 4,
   "id": "c024f14f",
   "metadata": {
    "execution": {
     "iopub.execute_input": "2023-01-15T02:51:19.540405Z",
     "iopub.status.busy": "2023-01-15T02:51:19.539945Z",
     "iopub.status.idle": "2023-01-15T02:51:19.543270Z",
     "shell.execute_reply": "2023-01-15T02:51:19.543601Z"
    }
   },
   "outputs": [
    {
     "data": {
      "text/plain": [
       "NotCompleted(type=ERROR, origin=load_aligned, source=\"primate_brca1.fasta\", message=\"Traceback (most recent call last):\n",
       "  File \"/Users/gavin/opt/miniconda3/envs/c310dev/lib/python3.10/site-packages/cogent3/app/io_new.py\", line 255, in _read_it\n",
       "    data = path.read()\n",
       "AttributeError: 'PosixPath' object has no attribute 'read'\n",
       "\n",
       "During handling of the above exception, another exception occurred:\n",
       "\n",
       "Traceback (most recent call last):\n",
       "  File \"/Users/gavin/opt/miniconda3/envs/c310dev/lib/python3.10/site-packages/cogent3/app/composable.py\", line 1020, in _call\n",
       "    result = self.main(val, *args, **kwargs)\n",
       "  File \"/Users/gavin/opt/miniconda3/envs/c310dev/lib/python3.10/site-packages/cogent3/app/io_new.py\", line 293, in main\n",
       "    return _load_seqs(path, ArrayAlignment, self._parser, self.moltype)\n",
       "  File \"/Users/gavin/opt/miniconda3/envs/c310dev/lib/python3.10/site-packages/cogent3/app/io_new.py\", line 265, in _load_seqs\n",
       "    data = _read_it(path)\n",
       "  File \"/Users/gavin/opt/miniconda3/envs/c310dev/lib/python3.10/site-packages/cogent3/app/io_new.py\", line 258, in _read_it\n",
       "    data = path.read_text()\n",
       "  File \"/Users/gavin/opt/miniconda3/envs/c310dev/lib/python3.10/pathlib.py\", line 1132, in read_text\n",
       "    with self.open(mode='r', encoding=encoding, errors=errors) as f:\n",
       "  File \"/Users/gavin/opt/miniconda3/envs/c310dev/lib/python3.10/pathlib.py\", line 1117, in open\n",
       "    return self._accessor.open(self, mode, buffering, encoding, errors,\n",
       "FileNotFoundError: [Errno 2] No such file or directory: 'primate_brca1.fasta'\n",
       "\")"
      ]
     },
     "execution_count": 4,
     "metadata": {},
     "output_type": "execute_result"
    }
   ],
   "source": [
    "result = reader(\"primate_brca1.fasta\")\n",
    "result"
   ]
  },
  {
   "cell_type": "code",
   "execution_count": 5,
   "id": "d0d4b787",
   "metadata": {
    "execution": {
     "iopub.execute_input": "2023-01-15T02:51:19.546340Z",
     "iopub.status.busy": "2023-01-15T02:51:19.545869Z",
     "iopub.status.idle": "2023-01-15T02:51:19.551541Z",
     "shell.execute_reply": "2023-01-15T02:51:19.551148Z"
    }
   },
   "outputs": [
    {
     "data": {
      "text/plain": [
       "NotCompleted(type=FALSE, origin=take_named_seqs, source=\"primate_brca1.fasta\", message=\"named seq(s) {'Mouse'} not in ['Chimpanzee', 'Galago', 'Gorilla', 'HowlerMon', 'Human', 'Orangutan', 'Rhesus']\")"
      ]
     },
     "execution_count": 5,
     "metadata": {},
     "output_type": "execute_result"
    }
   ],
   "source": [
    "process = reader + select_seqs\n",
    "result = process(\"data/primate_brca1.fasta\")\n",
    "result"
   ]
  },
  {
   "cell_type": "code",
   "execution_count": 6,
   "id": "32dc9ba6",
   "metadata": {
    "execution": {
     "iopub.execute_input": "2023-01-15T02:51:19.554253Z",
     "iopub.status.busy": "2023-01-15T02:51:19.553701Z",
     "iopub.status.idle": "2023-01-15T02:51:19.556576Z",
     "shell.execute_reply": "2023-01-15T02:51:19.556991Z"
    }
   },
   "outputs": [
    {
     "data": {
      "text/plain": [
       "NotCompleted(type=ERROR, origin=load_aligned, source=\"primate_brca1.fasta\", message=\"Traceback (most recent call last):\n",
       "  File \"/Users/gavin/opt/miniconda3/envs/c310dev/lib/python3.10/site-packages/cogent3/app/io_new.py\", line 255, in _read_it\n",
       "    data = path.read()\n",
       "AttributeError: 'PosixPath' object has no attribute 'read'\n",
       "\n",
       "During handling of the above exception, another exception occurred:\n",
       "\n",
       "Traceback (most recent call last):\n",
       "  File \"/Users/gavin/opt/miniconda3/envs/c310dev/lib/python3.10/site-packages/cogent3/app/composable.py\", line 1020, in _call\n",
       "    result = self.main(val, *args, **kwargs)\n",
       "  File \"/Users/gavin/opt/miniconda3/envs/c310dev/lib/python3.10/site-packages/cogent3/app/io_new.py\", line 293, in main\n",
       "    return _load_seqs(path, ArrayAlignment, self._parser, self.moltype)\n",
       "  File \"/Users/gavin/opt/miniconda3/envs/c310dev/lib/python3.10/site-packages/cogent3/app/io_new.py\", line 265, in _load_seqs\n",
       "    data = _read_it(path)\n",
       "  File \"/Users/gavin/opt/miniconda3/envs/c310dev/lib/python3.10/site-packages/cogent3/app/io_new.py\", line 258, in _read_it\n",
       "    data = path.read_text()\n",
       "  File \"/Users/gavin/opt/miniconda3/envs/c310dev/lib/python3.10/pathlib.py\", line 1132, in read_text\n",
       "    with self.open(mode='r', encoding=encoding, errors=errors) as f:\n",
       "  File \"/Users/gavin/opt/miniconda3/envs/c310dev/lib/python3.10/pathlib.py\", line 1117, in open\n",
       "    return self._accessor.open(self, mode, buffering, encoding, errors,\n",
       "FileNotFoundError: [Errno 2] No such file or directory: 'primate_brca1.fasta'\n",
       "\")"
      ]
     },
     "execution_count": 6,
     "metadata": {},
     "output_type": "execute_result"
    }
   ],
   "source": [
    "result = process(\"primate_brca1.fasta\")\n",
    "result"
   ]
  }
 ],
 "metadata": {
  "kernelspec": {
   "display_name": "Python 3 (ipykernel)",
   "language": "python",
   "name": "python3"
  },
  "language_info": {
   "codemirror_mode": {
    "name": "ipython",
    "version": 3
   },
   "file_extension": ".py",
   "mimetype": "text/x-python",
   "name": "python",
   "nbconvert_exporter": "python",
   "pygments_lexer": "ipython3",
   "version": "3.10.0"
  }
 },
 "nbformat": 4,
 "nbformat_minor": 5
}