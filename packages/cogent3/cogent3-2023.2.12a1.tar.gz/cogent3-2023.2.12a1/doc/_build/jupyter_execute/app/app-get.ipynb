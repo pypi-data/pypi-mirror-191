{
 "cells": [
  {
   "cell_type": "code",
   "execution_count": 1,
   "id": "162d35f4",
   "metadata": {
    "execution": {
     "iopub.execute_input": "2023-01-17T04:33:00.014280Z",
     "iopub.status.busy": "2023-01-17T04:33:00.013676Z",
     "iopub.status.idle": "2023-01-17T04:33:01.581470Z",
     "shell.execute_reply": "2023-01-17T04:33:01.581879Z"
    }
   },
   "outputs": [
    {
     "data": {
      "text/plain": [
       "omit_degenerates(moltype='dna', gap_is_degen=True, motif_length=1)"
      ]
     },
     "execution_count": 1,
     "metadata": {},
     "output_type": "execute_result"
    }
   ],
   "source": [
    "from cogent3 import get_app\n",
    "\n",
    "just_nucs = get_app(\"omit_degenerates\", moltype=\"dna\")\n",
    "just_nucs"
   ]
  }
 ],
 "metadata": {
  "kernelspec": {
   "display_name": "Python 3 (ipykernel)",
   "language": "python",
   "name": "python3"
  },
  "language_info": {
   "codemirror_mode": {
    "name": "ipython",
    "version": 3
   },
   "file_extension": ".py",
   "mimetype": "text/x-python",
   "name": "python",
   "nbconvert_exporter": "python",
   "pygments_lexer": "ipython3",
   "version": "3.10.0"
  }
 },
 "nbformat": 4,
 "nbformat_minor": 5
}