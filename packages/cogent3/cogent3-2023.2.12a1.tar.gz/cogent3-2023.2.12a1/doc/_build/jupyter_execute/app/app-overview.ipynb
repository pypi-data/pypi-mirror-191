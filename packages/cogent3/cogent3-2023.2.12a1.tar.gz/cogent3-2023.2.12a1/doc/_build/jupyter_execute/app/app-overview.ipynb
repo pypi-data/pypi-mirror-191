{
 "cells": [
  {
   "cell_type": "code",
   "execution_count": 1,
   "id": "b9466b02",
   "metadata": {
    "execution": {
     "iopub.execute_input": "2023-01-17T04:33:06.058740Z",
     "iopub.status.busy": "2023-01-17T04:33:06.058072Z",
     "iopub.status.idle": "2023-01-17T04:33:07.923696Z",
     "shell.execute_reply": "2023-01-17T04:33:07.924222Z"
    }
   },
   "outputs": [],
   "source": [
    "import set_working_directory"
   ]
  },
  {
   "cell_type": "code",
   "execution_count": 2,
   "id": "d00c8407",
   "metadata": {
    "execution": {
     "iopub.execute_input": "2023-01-17T04:33:07.928712Z",
     "iopub.status.busy": "2023-01-17T04:33:07.927986Z",
     "iopub.status.idle": "2023-01-17T04:33:07.930545Z",
     "shell.execute_reply": "2023-01-17T04:33:07.931022Z"
    }
   },
   "outputs": [],
   "source": [
    "from pathlib import Path\n",
    "from tempfile import TemporaryDirectory\n",
    "\n",
    "tmpdir = TemporaryDirectory(dir=\".\")\n",
    "path_to_dir = tmpdir.name"
   ]
  },
  {
   "cell_type": "code",
   "execution_count": 3,
   "id": "cc31a9f7",
   "metadata": {
    "execution": {
     "iopub.execute_input": "2023-01-17T04:33:07.935163Z",
     "iopub.status.busy": "2023-01-17T04:33:07.934496Z",
     "iopub.status.idle": "2023-01-17T04:33:09.429140Z",
     "shell.execute_reply": "2023-01-17T04:33:09.429542Z"
    }
   },
   "outputs": [],
   "source": [
    "from cogent3 import get_app, open_data_store\n",
    "\n",
    "out_dstore = open_data_store(path_to_dir, suffix=\"fa\", mode=\"w\")\n",
    "\n",
    "loader = get_app(\"load_aligned\", format=\"fasta\", moltype=\"dna\")\n",
    "cpos3 = get_app(\"take_codon_positions\", 3)\n",
    "writer = get_app(\"write_seqs\", out_dstore, format=\"fasta\")"
   ]
  },
  {
   "cell_type": "code",
   "execution_count": 4,
   "id": "b8061010",
   "metadata": {
    "execution": {
     "iopub.execute_input": "2023-01-17T04:33:09.432938Z",
     "iopub.status.busy": "2023-01-17T04:33:09.432379Z",
     "iopub.status.idle": "2023-01-17T04:33:09.440229Z",
     "shell.execute_reply": "2023-01-17T04:33:09.440681Z"
    }
   },
   "outputs": [],
   "source": [
    "data = loader(\"data/primate_brca1.fasta\")\n",
    "just3rd = cpos3(data)\n",
    "m = writer(just3rd)"
   ]
  },
  {
   "cell_type": "code",
   "execution_count": 5,
   "id": "0d9d925b",
   "metadata": {
    "execution": {
     "iopub.execute_input": "2023-01-17T04:33:09.443921Z",
     "iopub.status.busy": "2023-01-17T04:33:09.443380Z",
     "iopub.status.idle": "2023-01-17T04:33:09.449265Z",
     "shell.execute_reply": "2023-01-17T04:33:09.449655Z"
    }
   },
   "outputs": [],
   "source": [
    "process = loader + cpos3 + writer\n",
    "m = process(\"data/primate_brca1.fasta\")"
   ]
  },
  {
   "cell_type": "code",
   "execution_count": 6,
   "id": "1e0b678a",
   "metadata": {
    "execution": {
     "iopub.execute_input": "2023-01-17T04:33:09.452818Z",
     "iopub.status.busy": "2023-01-17T04:33:09.452223Z",
     "iopub.status.idle": "2023-01-17T04:33:09.511970Z",
     "shell.execute_reply": "2023-01-17T04:33:09.512585Z"
    }
   },
   "outputs": [],
   "source": [
    "dstore = open_data_store(\"data\", suffix=\"fasta\", mode=\"r\")\n",
    "result = process.apply_to(dstore)"
   ]
  },
  {
   "cell_type": "code",
   "execution_count": 7,
   "id": "d10d56aa",
   "metadata": {
    "execution": {
     "iopub.execute_input": "2023-01-17T04:33:09.517236Z",
     "iopub.status.busy": "2023-01-17T04:33:09.516244Z",
     "iopub.status.idle": "2023-01-17T04:33:09.528073Z",
     "shell.execute_reply": "2023-01-17T04:33:09.528460Z"
    }
   },
   "outputs": [
    {
     "data": {
      "text/html": [
       "\n",
       "<div class=\"c3table\">\n",
       "\n",
       "<style>\n",
       ".c3table table {margin: 10px 0;}\n",
       ".c3table tr:last-child {border-bottom: 1px solid #000;} \n",
       ".c3table tr > th {text-align: left; padding: 0 5px;}\n",
       ".c3table tr > td {text-align: left; padding: 5px;}\n",
       ".c3table tr:nth-child(even) {background: #f7f7f7 !important;}\n",
       ".c3table .ellipsis {background: rgba(0, 0, 0, .01);}\n",
       ".c3table .index {background: rgba(161, 195, 209, 0.0); margin: 10px; font-weight: 600;}\n",
       ".c3table .head_cell {background: rgba(161, 195, 209, 0.75); font-weight: bold; text-align: center;}\n",
       ".c3table caption {color: rgb(250, 250, 250); background: rgba(30, 140, 200, 1); padding: 3px; white-space: nowrap; caption-side: top;}\n",
       ".c3table .cell_title {font-weight: bold;}\n",
       ".c3col_left { text-align: left !important; display: block;}\n",
       ".c3col_right { text-align: right !important; display: block;}\n",
       ".c3col_center { text-align: center !important; display: block;}\n",
       "</style>\n",
       "\n",
       "<table>\n",
       "\n",
       "<caption>\n",
       "<span class=\"cell_title\">summary of log files</span>\n",
       "</caption>\n",
       "<thead class=\"head_cell\">\n",
       "<th>time</th><th>name</th><th>python version</th><th>who</th><th>command</th><th>composable</th>\n",
       "</thead>\n",
       "<tbody>\n",
       "<tr><td><span class=\"c3col_left\">2023-01-17 15:33:09</span></td><td><span class=\"c3col_left\">logs/l-t-w-37ff2524.log</span></td><td><span class=\"c3col_left\">3.10.0</span></td><td><span class=\"c3col_left\">gavin</span></td><td><span class=\"c3col_left\">/Users/gavin/opt/miniconda3/envs/c310dev/lib/python3.10/site-packages/ipykernel_launcher.py -f /private/var/folders/rh/t24zj19s7qxd4_4p0n5rqjy00000gn/T/tmpoa88i9hl.json --HistoryManager.hist_file=:memory:</span></td><td><span class=\"c3col_left\">load_aligned(moltype='dna', format='fasta') +take_codon_positions(positions=(3,), fourfold_degenerate=False, gc='Standard',moltype='dna') +write_seqs(data_store=DataStoreDirectory(source=/Users/gavin/repos/Cogent3/doc/tmpgq42rzpt,mode=Mode.w, suffix=fa, limit=None, verbose=False), id_from_source=<functionget_unique_id at 0x7fb4a8b8fd00>, format='fasta')</span></td></tr>\n",
       "</tbody>\n",
       "</table>\n",
       "<p>\n",
       "1 rows x 6 columns</p>\n",
       "</div>"
      ],
      "text/plain": [
       "summary of log files\n",
       "================================================================================================================================================================================================================================================================================================================================================================================================================================================================================================================================================================================================================================================================\n",
       "time                   name                       python version    who      command                                                                                                                                                                                                         composable                                                                                                                                                                                                                                                                                                                                                         \n",
       "----------------------------------------------------------------------------------------------------------------------------------------------------------------------------------------------------------------------------------------------------------------------------------------------------------------------------------------------------------------------------------------------------------------------------------------------------------------------------------------------------------------------------------------------------------------------------------------------------------------------------------------------------------------\n",
       "2023-01-17 15:33:09    logs/l-t-w-37ff2524.log    3.10.0            gavin    /Users/gavin/opt/miniconda3/envs/c310dev/lib/python3.10/site-packages/ipykernel_launcher.py -f /private/var/folders/rh/t24zj19s7qxd4_4p0n5rqjy00000gn/T/tmpoa88i9hl.json --HistoryManager.hist_file=:memory:    load_aligned(moltype='dna', format='fasta') +take_codon_positions(positions=(3,), fourfold_degenerate=False, gc='Standard',moltype='dna') +write_seqs(data_store=DataStoreDirectory(source=/Users/gavin/repos/Cogent3/doc/tmpgq42rzpt,mode=Mode.w, suffix=fa, limit=None, verbose=False), id_from_source=<functionget_unique_id at 0x7fb4a8b8fd00>, format='fasta')\n",
       "----------------------------------------------------------------------------------------------------------------------------------------------------------------------------------------------------------------------------------------------------------------------------------------------------------------------------------------------------------------------------------------------------------------------------------------------------------------------------------------------------------------------------------------------------------------------------------------------------------------------------------------------------------------\n",
       "\n",
       "1 rows x 6 columns"
      ]
     },
     "execution_count": 7,
     "metadata": {},
     "output_type": "execute_result"
    }
   ],
   "source": [
    "out_dstore.summary_logs"
   ]
  },
  {
   "cell_type": "code",
   "execution_count": 8,
   "id": "1c9edd46",
   "metadata": {
    "execution": {
     "iopub.execute_input": "2023-01-17T04:33:09.531575Z",
     "iopub.status.busy": "2023-01-17T04:33:09.531031Z",
     "iopub.status.idle": "2023-01-17T04:33:09.534580Z",
     "shell.execute_reply": "2023-01-17T04:33:09.535209Z"
    }
   },
   "outputs": [
    {
     "data": {
      "text/html": [
       "\n",
       "<div class=\"c3table\">\n",
       "\n",
       "<style>\n",
       ".c3table table {margin: 10px 0;}\n",
       ".c3table tr:last-child {border-bottom: 1px solid #000;} \n",
       ".c3table tr > th {text-align: left; padding: 0 5px;}\n",
       ".c3table tr > td {text-align: left; padding: 5px;}\n",
       ".c3table tr:nth-child(even) {background: #f7f7f7 !important;}\n",
       ".c3table .ellipsis {background: rgba(0, 0, 0, .01);}\n",
       ".c3table .index {background: rgba(161, 195, 209, 0.0); margin: 10px; font-weight: 600;}\n",
       ".c3table .head_cell {background: rgba(161, 195, 209, 0.75); font-weight: bold; text-align: center;}\n",
       ".c3table caption {color: rgb(250, 250, 250); background: rgba(30, 140, 200, 1); padding: 3px; white-space: nowrap; caption-side: top;}\n",
       ".c3table .cell_title {font-weight: bold;}\n",
       ".c3col_left { text-align: left !important; display: block;}\n",
       ".c3col_right { text-align: right !important; display: block;}\n",
       ".c3col_center { text-align: center !important; display: block;}\n",
       "</style>\n",
       "\n",
       "<table>\n",
       "\n",
       "<caption>\n",
       "<span class=\"cell_title\">Directory datastore</span>\n",
       "</caption>\n",
       "<thead class=\"head_cell\">\n",
       "<th>record type</th><th>number</th>\n",
       "</thead>\n",
       "<tbody>\n",
       "<tr><td><span class=\"c3col_left\">completed</span></td><td><span class=\"c3col_right\">7</span></td></tr>\n",
       "<tr><td><span class=\"c3col_left\">not_completed</span></td><td><span class=\"c3col_right\">6</span></td></tr>\n",
       "<tr><td><span class=\"c3col_left\">logs</span></td><td><span class=\"c3col_right\">1</span></td></tr>\n",
       "</tbody>\n",
       "</table>\n",
       "<p>\n",
       "3 rows x 2 columns</p>\n",
       "</div>"
      ],
      "text/plain": [
       "Directory datastore\n",
       "=======================\n",
       "record type      number\n",
       "-----------------------\n",
       "completed             7\n",
       "not_completed         6\n",
       "logs                  1\n",
       "-----------------------\n",
       "\n",
       "3 rows x 2 columns"
      ]
     },
     "execution_count": 8,
     "metadata": {},
     "output_type": "execute_result"
    }
   ],
   "source": [
    "out_dstore.describe"
   ]
  },
  {
   "cell_type": "code",
   "execution_count": 9,
   "id": "a0faee9f",
   "metadata": {
    "execution": {
     "iopub.execute_input": "2023-01-17T04:33:09.538614Z",
     "iopub.status.busy": "2023-01-17T04:33:09.538063Z",
     "iopub.status.idle": "2023-01-17T04:33:09.543289Z",
     "shell.execute_reply": "2023-01-17T04:33:09.543677Z"
    }
   },
   "outputs": [
    {
     "data": {
      "text/html": [
       "\n",
       "<div class=\"c3table\">\n",
       "\n",
       "<style>\n",
       ".c3table table {margin: 10px 0;}\n",
       ".c3table tr:last-child {border-bottom: 1px solid #000;} \n",
       ".c3table tr > th {text-align: left; padding: 0 5px;}\n",
       ".c3table tr > td {text-align: left; padding: 5px;}\n",
       ".c3table tr:nth-child(even) {background: #f7f7f7 !important;}\n",
       ".c3table .ellipsis {background: rgba(0, 0, 0, .01);}\n",
       ".c3table .index {background: rgba(161, 195, 209, 0.0); margin: 10px; font-weight: 600;}\n",
       ".c3table .head_cell {background: rgba(161, 195, 209, 0.75); font-weight: bold; text-align: center;}\n",
       ".c3table caption {color: rgb(250, 250, 250); background: rgba(30, 140, 200, 1); padding: 3px; white-space: nowrap; caption-side: top;}\n",
       ".c3table .cell_title {font-weight: bold;}\n",
       ".c3col_left { text-align: left !important; display: block;}\n",
       ".c3col_right { text-align: right !important; display: block;}\n",
       ".c3col_center { text-align: center !important; display: block;}\n",
       "</style>\n",
       "\n",
       "<table>\n",
       "\n",
       "<caption>\n",
       "<span class=\"cell_title\">not completed records</span>\n",
       "</caption>\n",
       "<thead class=\"head_cell\">\n",
       "<th>type</th><th>origin</th><th>message</th><th>num</th><th>source</th>\n",
       "</thead>\n",
       "<tbody>\n",
       "<tr><td><span class=\"c3col_left\">ERROR</span></td><td><span class=\"c3col_left\">load_aligned</span></td><td><span class=\"c3col_left\">\"KeyError: 'U', Value...ces have same length\"</span></td><td><span class=\"c3col_right\">6</span></td><td><span class=\"c3col_left\">'SCA1-cds.fasta, inse...fasta, refseqs.fasta'</span></td></tr>\n",
       "</tbody>\n",
       "</table>\n",
       "<p>\n",
       "1 rows x 5 columns</p>\n",
       "</div>"
      ],
      "text/plain": [
       "not completed records\n",
       "==============================================================================================================================\n",
       "type     origin          message                                          num    source                                       \n",
       "------------------------------------------------------------------------------------------------------------------------------\n",
       "ERROR    load_aligned    \"KeyError: 'U', Value...ces have same length\"      6    'SCA1-cds.fasta, inse...fasta, refseqs.fasta'\n",
       "------------------------------------------------------------------------------------------------------------------------------\n",
       "\n",
       "1 rows x 5 columns"
      ]
     },
     "execution_count": 9,
     "metadata": {},
     "output_type": "execute_result"
    }
   ],
   "source": [
    "out_dstore.summary_not_completed"
   ]
  },
  {
   "cell_type": "code",
   "execution_count": 10,
   "id": "e45806e5",
   "metadata": {
    "execution": {
     "iopub.execute_input": "2023-01-17T04:33:09.547123Z",
     "iopub.status.busy": "2023-01-17T04:33:09.546447Z",
     "iopub.status.idle": "2023-01-17T04:33:09.626813Z",
     "shell.execute_reply": "2023-01-17T04:33:09.627219Z"
    }
   },
   "outputs": [
    {
     "data": {
      "application/vnd.jupyter.widget-view+json": {
       "model_id": "a7c63517a0ac4f60812565ed62a39f51",
       "version_major": 2,
       "version_minor": 0
      },
      "text/plain": [
       "   0%|                                                                                                        …"
      ]
     },
     "metadata": {},
     "output_type": "display_data"
    }
   ],
   "source": [
    "result = process.apply_to(dstore, show_progress=True)"
   ]
  }
 ],
 "metadata": {
  "kernelspec": {
   "display_name": "Python 3 (ipykernel)",
   "language": "python",
   "name": "python3"
  },
  "language_info": {
   "codemirror_mode": {
    "name": "ipython",
    "version": 3
   },
   "file_extension": ".py",
   "mimetype": "text/x-python",
   "name": "python",
   "nbconvert_exporter": "python",
   "pygments_lexer": "ipython3",
   "version": "3.10.0"
  },
  "widgets": {
   "application/vnd.jupyter.widget-state+json": {
    "state": {
     "124ded50e2cb47af8b6eb83d0e781ee8": {
      "model_module": "@jupyter-widgets/base",
      "model_module_version": "1.2.0",
      "model_name": "LayoutModel",
      "state": {
       "_model_module": "@jupyter-widgets/base",
       "_model_module_version": "1.2.0",
       "_model_name": "LayoutModel",
       "_view_count": null,
       "_view_module": "@jupyter-widgets/base",
       "_view_module_version": "1.2.0",
       "_view_name": "LayoutView",
       "align_content": null,
       "align_items": null,
       "align_self": null,
       "border": null,
       "bottom": null,
       "display": "inline-flex",
       "flex": null,
       "flex_flow": "row wrap",
       "grid_area": null,
       "grid_auto_columns": null,
       "grid_auto_flow": null,
       "grid_auto_rows": null,
       "grid_column": null,
       "grid_gap": null,
       "grid_row": null,
       "grid_template_areas": null,
       "grid_template_columns": null,
       "grid_template_rows": null,
       "height": null,
       "justify_content": null,
       "justify_items": null,
       "left": null,
       "margin": null,
       "max_height": null,
       "max_width": null,
       "min_height": null,
       "min_width": null,
       "object_fit": null,
       "object_position": null,
       "order": null,
       "overflow": null,
       "overflow_x": null,
       "overflow_y": null,
       "padding": null,
       "right": null,
       "top": null,
       "visibility": null,
       "width": "100%"
      }
     },
     "2781a502f9324a669186d7c97cb05534": {
      "model_module": "@jupyter-widgets/controls",
      "model_module_version": "1.5.0",
      "model_name": "FloatProgressModel",
      "state": {
       "_dom_classes": [],
       "_model_module": "@jupyter-widgets/controls",
       "_model_module_version": "1.5.0",
       "_model_name": "FloatProgressModel",
       "_view_count": null,
       "_view_module": "@jupyter-widgets/controls",
       "_view_module_version": "1.5.0",
       "_view_name": "ProgressView",
       "bar_style": "",
       "description": "",
       "description_tooltip": null,
       "layout": "IPY_MODEL_8910f429c2a44ad6862eb650248c626c",
       "max": 1.0,
       "min": 0.0,
       "orientation": "horizontal",
       "style": "IPY_MODEL_47747436ab3240fca1dd08f5873eb060",
       "value": 1.0
      }
     },
     "3ed87d0e3c204a30b127d05e58183dd6": {
      "model_module": "@jupyter-widgets/controls",
      "model_module_version": "1.5.0",
      "model_name": "HTMLModel",
      "state": {
       "_dom_classes": [],
       "_model_module": "@jupyter-widgets/controls",
       "_model_module_version": "1.5.0",
       "_model_name": "HTMLModel",
       "_view_count": null,
       "_view_module": "@jupyter-widgets/controls",
       "_view_module_version": "1.5.0",
       "_view_name": "HTMLView",
       "description": "",
       "description_tooltip": null,
       "layout": "IPY_MODEL_e6ce1bd326a948bca28c914a95721221",
       "placeholder": "​",
       "style": "IPY_MODEL_a7e2fc10834c47248198ae9a54a20dad",
       "value": "6/6:  100%"
      }
     },
     "47747436ab3240fca1dd08f5873eb060": {
      "model_module": "@jupyter-widgets/controls",
      "model_module_version": "1.5.0",
      "model_name": "ProgressStyleModel",
      "state": {
       "_model_module": "@jupyter-widgets/controls",
       "_model_module_version": "1.5.0",
       "_model_name": "ProgressStyleModel",
       "_view_count": null,
       "_view_module": "@jupyter-widgets/base",
       "_view_module_version": "1.2.0",
       "_view_name": "StyleView",
       "bar_color": null,
       "description_width": ""
      }
     },
     "7414b2ee4358406bbad0732f0fe4111d": {
      "model_module": "@jupyter-widgets/controls",
      "model_module_version": "1.5.0",
      "model_name": "HTMLModel",
      "state": {
       "_dom_classes": [],
       "_model_module": "@jupyter-widgets/controls",
       "_model_module_version": "1.5.0",
       "_model_name": "HTMLModel",
       "_view_count": null,
       "_view_module": "@jupyter-widgets/controls",
       "_view_module_version": "1.5.0",
       "_view_name": "HTMLView",
       "description": "",
       "description_tooltip": null,
       "layout": "IPY_MODEL_b3c9f24689f94d3b84b073060a39e93d",
       "placeholder": "​",
       "style": "IPY_MODEL_e65616e6bfc94d57a7284e1a445904f0",
       "value": "00:00&lt;00:00"
      }
     },
     "8910f429c2a44ad6862eb650248c626c": {
      "model_module": "@jupyter-widgets/base",
      "model_module_version": "1.2.0",
      "model_name": "LayoutModel",
      "state": {
       "_model_module": "@jupyter-widgets/base",
       "_model_module_version": "1.2.0",
       "_model_name": "LayoutModel",
       "_view_count": null,
       "_view_module": "@jupyter-widgets/base",
       "_view_module_version": "1.2.0",
       "_view_name": "LayoutView",
       "align_content": null,
       "align_items": null,
       "align_self": null,
       "border": null,
       "bottom": null,
       "display": null,
       "flex": "2",
       "flex_flow": null,
       "grid_area": null,
       "grid_auto_columns": null,
       "grid_auto_flow": null,
       "grid_auto_rows": null,
       "grid_column": null,
       "grid_gap": null,
       "grid_row": null,
       "grid_template_areas": null,
       "grid_template_columns": null,
       "grid_template_rows": null,
       "height": null,
       "justify_content": null,
       "justify_items": null,
       "left": null,
       "margin": null,
       "max_height": null,
       "max_width": null,
       "min_height": null,
       "min_width": null,
       "object_fit": null,
       "object_position": null,
       "order": null,
       "overflow": null,
       "overflow_x": null,
       "overflow_y": null,
       "padding": null,
       "right": null,
       "top": null,
       "visibility": null,
       "width": null
      }
     },
     "a7c63517a0ac4f60812565ed62a39f51": {
      "model_module": "@jupyter-widgets/controls",
      "model_module_version": "1.5.0",
      "model_name": "HBoxModel",
      "state": {
       "_dom_classes": [],
       "_model_module": "@jupyter-widgets/controls",
       "_model_module_version": "1.5.0",
       "_model_name": "HBoxModel",
       "_view_count": null,
       "_view_module": "@jupyter-widgets/controls",
       "_view_module_version": "1.5.0",
       "_view_name": "HBoxView",
       "box_style": "",
       "children": [
        "IPY_MODEL_3ed87d0e3c204a30b127d05e58183dd6",
        "IPY_MODEL_2781a502f9324a669186d7c97cb05534",
        "IPY_MODEL_7414b2ee4358406bbad0732f0fe4111d"
       ],
       "layout": "IPY_MODEL_124ded50e2cb47af8b6eb83d0e781ee8"
      }
     },
     "a7e2fc10834c47248198ae9a54a20dad": {
      "model_module": "@jupyter-widgets/controls",
      "model_module_version": "1.5.0",
      "model_name": "DescriptionStyleModel",
      "state": {
       "_model_module": "@jupyter-widgets/controls",
       "_model_module_version": "1.5.0",
       "_model_name": "DescriptionStyleModel",
       "_view_count": null,
       "_view_module": "@jupyter-widgets/base",
       "_view_module_version": "1.2.0",
       "_view_name": "StyleView",
       "description_width": ""
      }
     },
     "b3c9f24689f94d3b84b073060a39e93d": {
      "model_module": "@jupyter-widgets/base",
      "model_module_version": "1.2.0",
      "model_name": "LayoutModel",
      "state": {
       "_model_module": "@jupyter-widgets/base",
       "_model_module_version": "1.2.0",
       "_model_name": "LayoutModel",
       "_view_count": null,
       "_view_module": "@jupyter-widgets/base",
       "_view_module_version": "1.2.0",
       "_view_name": "LayoutView",
       "align_content": null,
       "align_items": null,
       "align_self": null,
       "border": null,
       "bottom": null,
       "display": null,
       "flex": null,
       "flex_flow": null,
       "grid_area": null,
       "grid_auto_columns": null,
       "grid_auto_flow": null,
       "grid_auto_rows": null,
       "grid_column": null,
       "grid_gap": null,
       "grid_row": null,
       "grid_template_areas": null,
       "grid_template_columns": null,
       "grid_template_rows": null,
       "height": null,
       "justify_content": null,
       "justify_items": null,
       "left": null,
       "margin": null,
       "max_height": null,
       "max_width": null,
       "min_height": null,
       "min_width": null,
       "object_fit": null,
       "object_position": null,
       "order": null,
       "overflow": null,
       "overflow_x": null,
       "overflow_y": null,
       "padding": null,
       "right": null,
       "top": null,
       "visibility": null,
       "width": null
      }
     },
     "e65616e6bfc94d57a7284e1a445904f0": {
      "model_module": "@jupyter-widgets/controls",
      "model_module_version": "1.5.0",
      "model_name": "DescriptionStyleModel",
      "state": {
       "_model_module": "@jupyter-widgets/controls",
       "_model_module_version": "1.5.0",
       "_model_name": "DescriptionStyleModel",
       "_view_count": null,
       "_view_module": "@jupyter-widgets/base",
       "_view_module_version": "1.2.0",
       "_view_name": "StyleView",
       "description_width": ""
      }
     },
     "e6ce1bd326a948bca28c914a95721221": {
      "model_module": "@jupyter-widgets/base",
      "model_module_version": "1.2.0",
      "model_name": "LayoutModel",
      "state": {
       "_model_module": "@jupyter-widgets/base",
       "_model_module_version": "1.2.0",
       "_model_name": "LayoutModel",
       "_view_count": null,
       "_view_module": "@jupyter-widgets/base",
       "_view_module_version": "1.2.0",
       "_view_name": "LayoutView",
       "align_content": null,
       "align_items": null,
       "align_self": null,
       "border": null,
       "bottom": null,
       "display": null,
       "flex": null,
       "flex_flow": null,
       "grid_area": null,
       "grid_auto_columns": null,
       "grid_auto_flow": null,
       "grid_auto_rows": null,
       "grid_column": null,
       "grid_gap": null,
       "grid_row": null,
       "grid_template_areas": null,
       "grid_template_columns": null,
       "grid_template_rows": null,
       "height": null,
       "justify_content": null,
       "justify_items": null,
       "left": null,
       "margin": null,
       "max_height": null,
       "max_width": null,
       "min_height": null,
       "min_width": null,
       "object_fit": null,
       "object_position": null,
       "order": null,
       "overflow": null,
       "overflow_x": null,
       "overflow_y": null,
       "padding": null,
       "right": null,
       "top": null,
       "visibility": null,
       "width": null
      }
     }
    },
    "version_major": 2,
    "version_minor": 0
   }
  }
 },
 "nbformat": 4,
 "nbformat_minor": 5
}