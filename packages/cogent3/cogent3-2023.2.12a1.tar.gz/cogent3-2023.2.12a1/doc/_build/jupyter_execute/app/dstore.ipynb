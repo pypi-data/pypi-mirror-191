{
 "cells": [
  {
   "cell_type": "code",
   "execution_count": 1,
   "id": "68678906",
   "metadata": {
    "execution": {
     "iopub.execute_input": "2023-01-17T04:33:14.068829Z",
     "iopub.status.busy": "2023-01-17T04:33:14.068255Z",
     "iopub.status.idle": "2023-01-17T04:33:15.893011Z",
     "shell.execute_reply": "2023-01-17T04:33:15.893444Z"
    }
   },
   "outputs": [],
   "source": [
    "import set_working_directory"
   ]
  },
  {
   "cell_type": "code",
   "execution_count": 2,
   "id": "d418a7b8",
   "metadata": {
    "execution": {
     "iopub.execute_input": "2023-01-17T04:33:15.897675Z",
     "iopub.status.busy": "2023-01-17T04:33:15.896767Z",
     "iopub.status.idle": "2023-01-17T04:33:17.373121Z",
     "shell.execute_reply": "2023-01-17T04:33:17.373504Z"
    }
   },
   "outputs": [
    {
     "name": "stderr",
     "output_type": "stream",
     "text": [
      "/Users/gavin/opt/miniconda3/envs/c310dev/lib/python3.10/site-packages/cogent3/app/data_store.py:367: DeprecationWarning: use class cogent3.data_store_new.DataStoreDirectory instead of ReadOnlyDataStoreBase, support discontinued in version 2023.3\n",
      "use cogent3.data_store_new.DataStoreABC\n",
      "  super().__init__(*args, **kwargs)\n",
      "/Users/gavin/opt/miniconda3/envs/c310dev/lib/python3.10/site-packages/cogent3/app/io_new.py:171: DeprecationWarning: class ReadOnlyZippedDataStore is discontinued, support will be stopped in version 2022.3\n",
      "dropping support for zip archives\n",
      "  return klass(base_path, **kwargs)\n"
     ]
    }
   ],
   "source": [
    "from cogent3 import open_data_store\n",
    "\n",
    "dstore = open_data_store(\"data/raw.zip\", suffix=\"fa*\", limit=5, mode=\"r\")"
   ]
  },
  {
   "cell_type": "code",
   "execution_count": 3,
   "id": "e3568b06",
   "metadata": {
    "execution": {
     "iopub.execute_input": "2023-01-17T04:33:17.376858Z",
     "iopub.status.busy": "2023-01-17T04:33:17.376213Z",
     "iopub.status.idle": "2023-01-17T04:33:17.392877Z",
     "shell.execute_reply": "2023-01-17T04:33:17.393254Z"
    }
   },
   "outputs": [
    {
     "name": "stderr",
     "output_type": "stream",
     "text": [
      "/Users/gavin/opt/miniconda3/envs/c310dev/lib/python3.10/site-packages/cogent3/app/data_store.py:391: DeprecationWarning: use class cogent3.data_store_new.DataMember instead of DataStoreMember, support discontinued in version 2023.3\n",
      "use cogent3.data_store_new.DataMember\n",
      "  member = DataStoreMember(os.path.join(source_path, name), self)\n",
      "/Users/gavin/opt/miniconda3/envs/c310dev/lib/python3.10/site-packages/cogent3/app/data_store.py:391: DeprecationWarning: use class cogent3.data_store_new.DataMember instead of DataStoreMember, support discontinued in version 2023.3\n",
      "use cogent3.data_store_new.DataMember\n",
      "  member = DataStoreMember(os.path.join(source_path, name), self)\n",
      "/Users/gavin/opt/miniconda3/envs/c310dev/lib/python3.10/site-packages/cogent3/app/data_store.py:391: DeprecationWarning: use class cogent3.data_store_new.DataMember instead of DataStoreMember, support discontinued in version 2023.3\n",
      "use cogent3.data_store_new.DataMember\n",
      "  member = DataStoreMember(os.path.join(source_path, name), self)\n",
      "/Users/gavin/opt/miniconda3/envs/c310dev/lib/python3.10/site-packages/cogent3/app/data_store.py:391: DeprecationWarning: use class cogent3.data_store_new.DataMember instead of DataStoreMember, support discontinued in version 2023.3\n",
      "use cogent3.data_store_new.DataMember\n",
      "  member = DataStoreMember(os.path.join(source_path, name), self)\n",
      "/Users/gavin/opt/miniconda3/envs/c310dev/lib/python3.10/site-packages/cogent3/app/data_store.py:391: DeprecationWarning: use class cogent3.data_store_new.DataMember instead of DataStoreMember, support discontinued in version 2023.3\n",
      "use cogent3.data_store_new.DataMember\n",
      "  member = DataStoreMember(os.path.join(source_path, name), self)\n"
     ]
    },
    {
     "data": {
      "text/plain": [
       "'/Users/gavin/repos/Cogent3/doc/data/raw/ENSG00000157184.fa'"
      ]
     },
     "execution_count": 3,
     "metadata": {},
     "output_type": "execute_result"
    }
   ],
   "source": [
    "m = dstore[0]\n",
    "m"
   ]
  },
  {
   "cell_type": "code",
   "execution_count": 4,
   "id": "879c027f",
   "metadata": {
    "execution": {
     "iopub.execute_input": "2023-01-17T04:33:17.396350Z",
     "iopub.status.busy": "2023-01-17T04:33:17.395814Z",
     "iopub.status.idle": "2023-01-17T04:33:17.405687Z",
     "shell.execute_reply": "2023-01-17T04:33:17.406079Z"
    }
   },
   "outputs": [
    {
     "data": {
      "text/plain": [
       "'>Human\\nATGGTGCCCCGCC'"
      ]
     },
     "execution_count": 4,
     "metadata": {},
     "output_type": "execute_result"
    }
   ],
   "source": [
    "m.read()[:20]  # truncating"
   ]
  },
  {
   "cell_type": "code",
   "execution_count": 5,
   "id": "f22cabd0",
   "metadata": {
    "execution": {
     "iopub.execute_input": "2023-01-17T04:33:17.409067Z",
     "iopub.status.busy": "2023-01-17T04:33:17.408553Z",
     "iopub.status.idle": "2023-01-17T04:33:17.410669Z",
     "shell.execute_reply": "2023-01-17T04:33:17.411312Z"
    }
   },
   "outputs": [
    {
     "name": "stdout",
     "output_type": "stream",
     "text": [
      "/Users/gavin/repos/Cogent3/doc/data/raw/ENSG00000157184.fa\n",
      "/Users/gavin/repos/Cogent3/doc/data/raw/ENSG00000131791.fa\n",
      "/Users/gavin/repos/Cogent3/doc/data/raw/ENSG00000127054.fa\n",
      "/Users/gavin/repos/Cogent3/doc/data/raw/ENSG00000067704.fa\n",
      "/Users/gavin/repos/Cogent3/doc/data/raw/ENSG00000182004.fa\n"
     ]
    }
   ],
   "source": [
    "for m in dstore:\n",
    "    print(m)"
   ]
  },
  {
   "cell_type": "code",
   "execution_count": 6,
   "id": "de5f50a0",
   "metadata": {
    "execution": {
     "iopub.execute_input": "2023-01-17T04:33:17.414002Z",
     "iopub.status.busy": "2023-01-17T04:33:17.413531Z",
     "iopub.status.idle": "2023-01-17T04:33:17.428639Z",
     "shell.execute_reply": "2023-01-17T04:33:17.429105Z"
    }
   },
   "outputs": [
    {
     "data": {
      "text/html": [
       "\n",
       "<div class=\"c3table\">\n",
       "\n",
       "<style>\n",
       ".c3table table {margin: 10px 0;}\n",
       ".c3table tr:last-child {border-bottom: 1px solid #000;} \n",
       ".c3table tr > th {text-align: left; padding: 0 5px;}\n",
       ".c3table tr > td {text-align: left; padding: 5px;}\n",
       ".c3table tr:nth-child(even) {background: #f7f7f7 !important;}\n",
       ".c3table .ellipsis {background: rgba(0, 0, 0, .01);}\n",
       ".c3table .index {background: rgba(161, 195, 209, 0.0); margin: 10px; font-weight: 600;}\n",
       ".c3table .head_cell {background: rgba(161, 195, 209, 0.75); font-weight: bold; text-align: center;}\n",
       ".c3table caption {color: rgb(250, 250, 250); background: rgba(30, 140, 200, 1); padding: 3px; white-space: nowrap; caption-side: top;}\n",
       ".c3table .cell_title {font-weight: bold;}\n",
       ".c3col_left { text-align: left !important; display: block;}\n",
       ".c3col_right { text-align: right !important; display: block;}\n",
       ".c3col_center { text-align: center !important; display: block;}\n",
       "</style>\n",
       "\n",
       "<table>\n",
       "\n",
       "<caption>\n",
       "<span class=\"cell_title\">Unlocked db store.</span>\n",
       "</caption>\n",
       "<thead class=\"head_cell\">\n",
       "<th>record type</th><th>number</th>\n",
       "</thead>\n",
       "<tbody>\n",
       "<tr><td><span class=\"c3col_left\">completed</span></td><td><span class=\"c3col_right\">175</span></td></tr>\n",
       "<tr><td><span class=\"c3col_left\">not_completed</span></td><td><span class=\"c3col_right\">0</span></td></tr>\n",
       "<tr><td><span class=\"c3col_left\">logs</span></td><td><span class=\"c3col_right\">1</span></td></tr>\n",
       "</tbody>\n",
       "</table>\n",
       "<p>\n",
       "3 rows x 2 columns</p>\n",
       "</div>"
      ],
      "text/plain": [
       "Unlocked db store.\n",
       "=======================\n",
       "record type      number\n",
       "-----------------------\n",
       "completed           175\n",
       "not_completed         0\n",
       "logs                  1\n",
       "-----------------------\n",
       "\n",
       "3 rows x 2 columns"
      ]
     },
     "execution_count": 6,
     "metadata": {},
     "output_type": "execute_result"
    }
   ],
   "source": [
    "dstore = open_data_store(\"data/demo-locked.sqlitedb\")\n",
    "dstore.describe"
   ]
  },
  {
   "cell_type": "code",
   "execution_count": 7,
   "id": "8ced52f6",
   "metadata": {
    "execution": {
     "iopub.execute_input": "2023-01-17T04:33:17.431821Z",
     "iopub.status.busy": "2023-01-17T04:33:17.431360Z",
     "iopub.status.idle": "2023-01-17T04:33:17.433008Z",
     "shell.execute_reply": "2023-01-17T04:33:17.433394Z"
    }
   },
   "outputs": [],
   "source": [
    "dstore.unlock(force=True)"
   ]
  },
  {
   "cell_type": "code",
   "execution_count": 8,
   "id": "82cda131",
   "metadata": {
    "execution": {
     "iopub.execute_input": "2023-01-17T04:33:17.436017Z",
     "iopub.status.busy": "2023-01-17T04:33:17.435517Z",
     "iopub.status.idle": "2023-01-17T04:33:17.439861Z",
     "shell.execute_reply": "2023-01-17T04:33:17.440245Z"
    }
   },
   "outputs": [
    {
     "data": {
      "text/html": [
       "\n",
       "<div class=\"c3table\">\n",
       "\n",
       "<style>\n",
       ".c3table table {margin: 10px 0;}\n",
       ".c3table tr:last-child {border-bottom: 1px solid #000;} \n",
       ".c3table tr > th {text-align: left; padding: 0 5px;}\n",
       ".c3table tr > td {text-align: left; padding: 5px;}\n",
       ".c3table tr:nth-child(even) {background: #f7f7f7 !important;}\n",
       ".c3table .ellipsis {background: rgba(0, 0, 0, .01);}\n",
       ".c3table .index {background: rgba(161, 195, 209, 0.0); margin: 10px; font-weight: 600;}\n",
       ".c3table .head_cell {background: rgba(161, 195, 209, 0.75); font-weight: bold; text-align: center;}\n",
       ".c3table caption {color: rgb(250, 250, 250); background: rgba(30, 140, 200, 1); padding: 3px; white-space: nowrap; caption-side: top;}\n",
       ".c3table .cell_title {font-weight: bold;}\n",
       ".c3col_left { text-align: left !important; display: block;}\n",
       ".c3col_right { text-align: right !important; display: block;}\n",
       ".c3col_center { text-align: center !important; display: block;}\n",
       "</style>\n",
       "\n",
       "<table>\n",
       "\n",
       "<caption>\n",
       "<span class=\"cell_title\">summary of log files</span>\n",
       "</caption>\n",
       "<thead class=\"head_cell\">\n",
       "<th>time</th><th>name</th><th>python version</th><th>who</th><th>command</th><th>composable</th>\n",
       "</thead>\n",
       "<tbody>\n",
       "<tr><td><span class=\"c3col_left\">2019-07-24 14:42:56</span></td><td><span class=\"c3col_left\">logs/load_unaligned-progressive_align-write_db-pid8650.log</span></td><td><span class=\"c3col_left\">3.7.3</span></td><td><span class=\"c3col_left\">gavin</span></td><td><span class=\"c3col_left\">/Users/gavin/miniconda3/envs/c3dev/lib/python3.7/site-packages/ipykernel_launcher.py -f /Users/gavin/Library/Jupyter/runtime/kernel-5eb93aeb-f6e0-493e-85d1-d62895201ae2.json</span></td><td><span class=\"c3col_left\">load_unaligned(type='sequences', moltype='dna', format='fasta') + progressive_align(type='sequences', model='HKY85', gc=None, param_vals={'kappa': 3}, guide_tree=None, unique_guides=False, indel_length=0.1, indel_rate=1e-10) + write_db(type='output', data_path='../data/aligned-nt.tinydb', name_callback=None, create=True, if_exists='overwrite', suffix='json')</span></td></tr>\n",
       "</tbody>\n",
       "</table>\n",
       "<p>\n",
       "1 rows x 6 columns</p>\n",
       "</div>"
      ],
      "text/plain": [
       "summary of log files\n",
       "=========================================================================================================================================================================================================================================================================================================================================================================================================================================================================================================================================================================================================================================================================\n",
       "time                   name                                                          python version    who      command                                                                                                                                                                          composable                                                                                                                                                                                                                                                                                                                                                              \n",
       "-------------------------------------------------------------------------------------------------------------------------------------------------------------------------------------------------------------------------------------------------------------------------------------------------------------------------------------------------------------------------------------------------------------------------------------------------------------------------------------------------------------------------------------------------------------------------------------------------------------------------------------------------------------------------\n",
       "2019-07-24 14:42:56    logs/load_unaligned-progressive_align-write_db-pid8650.log    3.7.3             gavin    /Users/gavin/miniconda3/envs/c3dev/lib/python3.7/site-packages/ipykernel_launcher.py -f /Users/gavin/Library/Jupyter/runtime/kernel-5eb93aeb-f6e0-493e-85d1-d62895201ae2.json    load_unaligned(type='sequences', moltype='dna', format='fasta') + progressive_align(type='sequences', model='HKY85', gc=None, param_vals={'kappa': 3}, guide_tree=None, unique_guides=False, indel_length=0.1, indel_rate=1e-10) + write_db(type='output', data_path='../data/aligned-nt.tinydb', name_callback=None, create=True, if_exists='overwrite', suffix='json')\n",
       "-------------------------------------------------------------------------------------------------------------------------------------------------------------------------------------------------------------------------------------------------------------------------------------------------------------------------------------------------------------------------------------------------------------------------------------------------------------------------------------------------------------------------------------------------------------------------------------------------------------------------------------------------------------------------\n",
       "\n",
       "1 rows x 6 columns"
      ]
     },
     "execution_count": 8,
     "metadata": {},
     "output_type": "execute_result"
    }
   ],
   "source": [
    "dstore.summary_logs"
   ]
  },
  {
   "cell_type": "code",
   "execution_count": 9,
   "id": "03f2f673",
   "metadata": {
    "execution": {
     "iopub.execute_input": "2023-01-17T04:33:17.443038Z",
     "iopub.status.busy": "2023-01-17T04:33:17.442530Z",
     "iopub.status.idle": "2023-01-17T04:33:17.444757Z",
     "shell.execute_reply": "2023-01-17T04:33:17.445078Z"
    }
   },
   "outputs": [
    {
     "data": {
      "text/plain": [
       "[DataMember(data_store=/Users/gavin/repos/Cogent3/doc/data/demo-locked.sqlitedb, unique_id=logs/load_unaligned-progressive_align-write_db-pid8650.log)]"
      ]
     },
     "execution_count": 9,
     "metadata": {},
     "output_type": "execute_result"
    }
   ],
   "source": [
    "dstore.logs"
   ]
  },
  {
   "cell_type": "code",
   "execution_count": 10,
   "id": "0f78aa75",
   "metadata": {
    "execution": {
     "iopub.execute_input": "2023-01-17T04:33:17.447845Z",
     "iopub.status.busy": "2023-01-17T04:33:17.447283Z",
     "iopub.status.idle": "2023-01-17T04:33:17.449219Z",
     "shell.execute_reply": "2023-01-17T04:33:17.449690Z"
    }
   },
   "outputs": [
    {
     "name": "stdout",
     "output_type": "stream",
     "text": [
      "2019-07-24 14:42:56\tEratosthenes.local:8650\tINFO\tsystem_details : system=Darwin Kernel Version 18.6.0: Thu Apr 25 23:16:27 PDT 2019; root:xnu-4903.261.4~2/RELEASE_X86_64\n",
      "2019-07-24 14:42:56\tEratosthenes.local:8650\tINFO\tpython\n"
     ]
    }
   ],
   "source": [
    "print(dstore.logs[0].read()[:225])  # truncated for clarity"
   ]
  }
 ],
 "metadata": {
  "kernelspec": {
   "display_name": "Python 3 (ipykernel)",
   "language": "python",
   "name": "python3"
  },
  "language_info": {
   "codemirror_mode": {
    "name": "ipython",
    "version": 3
   },
   "file_extension": ".py",
   "mimetype": "text/x-python",
   "name": "python",
   "nbconvert_exporter": "python",
   "pygments_lexer": "ipython3",
   "version": "3.10.0"
  }
 },
 "nbformat": 4,
 "nbformat_minor": 5
}