{
 "cells": [
  {
   "cell_type": "code",
   "execution_count": 1,
   "id": "931d04aa",
   "metadata": {
    "execution": {
     "iopub.execute_input": "2023-01-17T04:33:03.107837Z",
     "iopub.status.busy": "2023-01-17T04:33:03.107182Z",
     "iopub.status.idle": "2023-01-17T04:33:04.473007Z",
     "shell.execute_reply": "2023-01-17T04:33:04.473387Z"
    }
   },
   "outputs": [
    {
     "name": "stdout",
     "output_type": "stream",
     "text": [
      "Overview\n",
      "--------\n",
      "Excludes alignment columns with degenerate characters. Can accomodate\n",
      "reading frame.\n",
      "\n",
      "Options for making the app\n",
      "--------------------------\n",
      "omit_degenerates_app = get_app(\n",
      "    \"omit_degenerates\",\n",
      "    moltype=None,\n",
      "    gap_is_degen=True,\n",
      "    motif_length=1,\n",
      ")\n",
      "\n",
      "Parameters\n",
      "----------\n",
      "moltype : str\n",
      "    molecular type, must be either DNA or RNA\n",
      "gap_is_degen : bool\n",
      "    include gap character in degenerate character set\n",
      "motif_length : int\n",
      "    sequences split into non-overlapping tuples of this size. If a\n",
      "    tuple contains a degen character at any position the entire tuple\n",
      "    is excluded\n",
      "\n",
      "Input type\n",
      "----------\n",
      "Alignment, ArrayAlignment\n",
      "\n",
      "Output type\n",
      "-----------\n",
      "Alignment, SerialisableType, ArrayAlignment\n"
     ]
    }
   ],
   "source": [
    "from cogent3 import app_help\n",
    "\n",
    "app_help(\"omit_degenerates\")"
   ]
  }
 ],
 "metadata": {
  "kernelspec": {
   "display_name": "Python 3 (ipykernel)",
   "language": "python",
   "name": "python3"
  },
  "language_info": {
   "codemirror_mode": {
    "name": "ipython",
    "version": 3
   },
   "file_extension": ".py",
   "mimetype": "text/x-python",
   "name": "python",
   "nbconvert_exporter": "python",
   "pygments_lexer": "ipython3",
   "version": "3.10.0"
  }
 },
 "nbformat": 4,
 "nbformat_minor": 5
}