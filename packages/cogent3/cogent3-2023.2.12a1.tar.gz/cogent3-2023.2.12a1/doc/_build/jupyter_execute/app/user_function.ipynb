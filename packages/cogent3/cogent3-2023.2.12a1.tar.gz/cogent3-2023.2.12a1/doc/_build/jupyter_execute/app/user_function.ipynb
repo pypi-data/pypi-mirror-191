{
 "cells": [
  {
   "cell_type": "code",
   "execution_count": 1,
   "id": "dd6323fa",
   "metadata": {
    "execution": {
     "iopub.execute_input": "2023-01-15T04:49:29.785128Z",
     "iopub.status.busy": "2023-01-15T04:49:29.784342Z",
     "iopub.status.idle": "2023-01-15T04:49:31.049464Z",
     "shell.execute_reply": "2023-01-15T04:49:31.049101Z"
    }
   },
   "outputs": [],
   "source": [
    "from cogent3.app.composable import define_app\n",
    "from cogent3.app.typing import AlignedSeqsType\n",
    "\n",
    "@define_app\n",
    "def up_to(val: AlignedSeqsType, index=2) -> AlignedSeqsType:\n",
    "    return val[:index]"
   ]
  },
  {
   "cell_type": "code",
   "execution_count": 2,
   "id": "78ba9cf3",
   "metadata": {
    "execution": {
     "iopub.execute_input": "2023-01-15T04:49:31.056866Z",
     "iopub.status.busy": "2023-01-15T04:49:31.056171Z",
     "iopub.status.idle": "2023-01-15T04:49:31.058650Z",
     "shell.execute_reply": "2023-01-15T04:49:31.059030Z"
    }
   },
   "outputs": [
    {
     "data": {
      "text/plain": [
       "up_to(index=4)"
      ]
     },
     "execution_count": 2,
     "metadata": {},
     "output_type": "execute_result"
    }
   ],
   "source": [
    "first4 = up_to(index=4)\n",
    "first4"
   ]
  },
  {
   "cell_type": "code",
   "execution_count": 3,
   "id": "d438e1f9",
   "metadata": {
    "execution": {
     "iopub.execute_input": "2023-01-15T04:49:31.063732Z",
     "iopub.status.busy": "2023-01-15T04:49:31.063205Z",
     "iopub.status.idle": "2023-01-15T04:49:31.065311Z",
     "shell.execute_reply": "2023-01-15T04:49:31.065759Z"
    }
   },
   "outputs": [
    {
     "data": {
      "text/html": [
       "<style>\n",
       ".c3align td { border: none !important; text-align: left !important; }\n",
       ".c3align tr:not(.num_row) td span {margin: 0 2px;}\n",
       ".c3align tr:nth-child(even) {background: #f7f7f7;}\n",
       ".c3align .num_row {background-color:rgba(161, 195, 209, 0.5) !important; border-top: solid 1px black; }\n",
       ".c3align .label { font-size: 12pt ; text-align: right !important; color: black !important; padding: 0 4px; display: table-cell !important; font-weight: normal !important; }\n",
       ".c3align .T_dna{font-family: \"Lucida Console\",monospace !important; font-size: 12pt !important; color: blue; }\n",
       ".c3align .C_dna{font-family: \"Lucida Console\",monospace !important; font-size: 12pt !important; color: black; }\n",
       ".c3align .A_dna{font-family: \"Lucida Console\",monospace !important; font-size: 12pt !important; color: #FF0102; }\n",
       ".c3align .G_dna{font-family: \"Lucida Console\",monospace !important; font-size: 12pt !important; color: green; }\n",
       ".c3align .terminal_ambig_dna{font-family: \"Lucida Console\",monospace !important; font-size: 12pt !important; color: gray; }\n",
       ".c3align .ambig_dna{font-family: \"Lucida Console\",monospace !important; font-size: 12pt !important; color: gray; }\n",
       "</style>\n",
       "<div class=\"c3align\">\n",
       "<table>\n",
       "<tr class=\"num_row\"><td></td><td><b>0</b></td></tr>\n",
       "<tr><td class=\"label\">a</td><td><span class=\"G_dna\">G</span><span class=\"C_dna\">C</span><span class=\"A_dna\">A</span><span class=\"A_dna\">A</span></td></tr>\n",
       "<tr><td class=\"label\">b</td><td><span class=\"G_dna\">.</span><span class=\"C_dna\">.</span><span class=\"T_dna\">T</span><span class=\"T_dna\">T</span></td></tr>\n",
       "</table>\n",
       "<p><i>2 x 4 dna alignment</i></p>\n",
       "</div>"
      ],
      "text/plain": [
       "2 x 4 alignment: a[GCAA], b[GCTT]"
      ]
     },
     "execution_count": 3,
     "metadata": {},
     "output_type": "execute_result"
    }
   ],
   "source": [
    "from cogent3 import make_aligned_seqs\n",
    "\n",
    "aln = make_aligned_seqs(\n",
    "    data=dict(a=\"GCAAGCGTTTAT\", b=\"GCTTTTGTCAAT\"), array_align=False, moltype=\"dna\"\n",
    ")\n",
    "result = first4(aln)\n",
    "result"
   ]
  },
  {
   "cell_type": "code",
   "execution_count": 4,
   "id": "177f4219",
   "metadata": {
    "execution": {
     "iopub.execute_input": "2023-01-15T04:49:31.070670Z",
     "iopub.status.busy": "2023-01-15T04:49:31.070174Z",
     "iopub.status.idle": "2023-01-15T04:49:31.072251Z",
     "shell.execute_reply": "2023-01-15T04:49:31.072567Z"
    }
   },
   "outputs": [
    {
     "data": {
      "text/html": [
       "<style>\n",
       ".c3align td { border: none !important; text-align: left !important; }\n",
       ".c3align tr:not(.num_row) td span {margin: 0 2px;}\n",
       ".c3align tr:nth-child(even) {background: #f7f7f7;}\n",
       ".c3align .num_row {background-color:rgba(161, 195, 209, 0.5) !important; border-top: solid 1px black; }\n",
       ".c3align .label { font-size: 12pt ; text-align: right !important; color: black !important; padding: 0 4px; display: table-cell !important; font-weight: normal !important; }\n",
       ".c3align .T_dna{font-family: \"Lucida Console\",monospace !important; font-size: 12pt !important; color: blue; }\n",
       ".c3align .C_dna{font-family: \"Lucida Console\",monospace !important; font-size: 12pt !important; color: black; }\n",
       ".c3align .A_dna{font-family: \"Lucida Console\",monospace !important; font-size: 12pt !important; color: #FF0102; }\n",
       ".c3align .G_dna{font-family: \"Lucida Console\",monospace !important; font-size: 12pt !important; color: green; }\n",
       ".c3align .terminal_ambig_dna{font-family: \"Lucida Console\",monospace !important; font-size: 12pt !important; color: gray; }\n",
       ".c3align .ambig_dna{font-family: \"Lucida Console\",monospace !important; font-size: 12pt !important; color: gray; }\n",
       "</style>\n",
       "<div class=\"c3align\">\n",
       "<table>\n",
       "<tr class=\"num_row\"><td></td><td><b>0</b></td></tr>\n",
       "<tr><td class=\"label\">A</td><td><span class=\"G_dna\">G</span><span class=\"C_dna\">C</span><span class=\"A_dna\">A</span><span class=\"A_dna\">A</span><span class=\"G_dna\">G</span><span class=\"C_dna\">C</span><span class=\"G_dna\">G</span><span class=\"T_dna\">T</span><span class=\"T_dna\">T</span><span class=\"T_dna\">T</span><span class=\"A_dna\">A</span><span class=\"T_dna\">T</span></td></tr>\n",
       "<tr><td class=\"label\">B</td><td><span class=\"G_dna\">.</span><span class=\"C_dna\">.</span><span class=\"T_dna\">T</span><span class=\"T_dna\">T</span><span class=\"T_dna\">T</span><span class=\"T_dna\">T</span><span class=\"G_dna\">.</span><span class=\"T_dna\">.</span><span class=\"C_dna\">C</span><span class=\"A_dna\">A</span><span class=\"A_dna\">.</span><span class=\"T_dna\">.</span></td></tr>\n",
       "</table>\n",
       "<p><i>2 x 12 dna alignment</i></p>\n",
       "</div>"
      ],
      "text/plain": [
       "2 x 12 alignment: A[GCAAGCGTTTA...], B[GCTTTTGTCAA...]"
      ]
     },
     "execution_count": 4,
     "metadata": {},
     "output_type": "execute_result"
    }
   ],
   "source": [
    "from typing import Union\n",
    "\n",
    "from cogent3.app.composable import define_app\n",
    "from cogent3.app.typing import SeqsCollectionType, SerialisableType\n",
    "\n",
    "T = Union[SeqsCollectionType, SerialisableType]\n",
    "\n",
    "@define_app\n",
    "def rename_seqs(seqs: SeqsCollectionType) -> T:\n",
    "    \"\"\"upper case names\"\"\"\n",
    "    return seqs.rename_seqs(lambda x: x.upper())\n",
    "\n",
    "renamer = rename_seqs()\n",
    "result = renamer(aln)\n",
    "result"
   ]
  },
  {
   "cell_type": "code",
   "execution_count": 5,
   "id": "c5af2d06",
   "metadata": {
    "execution": {
     "iopub.execute_input": "2023-01-15T04:49:31.076373Z",
     "iopub.status.busy": "2023-01-15T04:49:31.075907Z",
     "iopub.status.idle": "2023-01-15T04:49:31.222491Z",
     "shell.execute_reply": "2023-01-15T04:49:31.222939Z"
    }
   },
   "outputs": [
    {
     "data": {
      "text/html": [
       "\n",
       "<div class=\"c3table\">\n",
       "\n",
       "<style>\n",
       ".c3table table {margin: 10px 0;}\n",
       ".c3table tr:last-child {border-bottom: 1px solid #000;} \n",
       ".c3table tr > th {text-align: left; padding: 0 5px;}\n",
       ".c3table tr > td {text-align: left; padding: 5px;}\n",
       ".c3table tr:nth-child(even) {background: #f7f7f7 !important;}\n",
       ".c3table .ellipsis {background: rgba(0, 0, 0, .01);}\n",
       ".c3table .index {background: rgba(161, 195, 209, 0.25); margin: 10px; font-weight: 600;}\n",
       ".c3table .head_cell {background: rgba(161, 195, 209, 0.75); font-weight: bold; text-align: center;}\n",
       ".c3table caption {color: rgb(250, 250, 250); background: rgba(30, 140, 200, 1); padding: 3px; white-space: nowrap; caption-side: top;}\n",
       ".c3table .cell_title {font-weight: bold;}\n",
       ".c3col_left { text-align: left !important; display: block;}\n",
       ".c3col_right { text-align: right !important; display: block;}\n",
       ".c3col_center { text-align: center !important; display: block;}\n",
       "</style>\n",
       "\n",
       "<table>\n",
       "\n",
       "<thead class=\"head_cell\">\n",
       "<th>names</th><th>a</th><th>b</th>\n",
       "</thead>\n",
       "<tbody>\n",
       "<tr><td class=\"index\"><span class=\"c3col_left\">a</span></td><td><span class=\"c3col_right\">0.0000</span></td><td><span class=\"c3col_right\">0.5000</span></td></tr>\n",
       "<tr><td class=\"index\"><span class=\"c3col_left\">b</span></td><td><span class=\"c3col_right\">0.5000</span></td><td><span class=\"c3col_right\">0.0000</span></td></tr>\n",
       "</tbody>\n",
       "</table>\n",
       "\n",
       "</div>"
      ],
      "text/plain": [
       "=========================\n",
       "names         a         b\n",
       "-------------------------\n",
       "a        0.0000    0.5000\n",
       "b        0.5000    0.0000\n",
       "-------------------------"
      ]
     },
     "execution_count": 5,
     "metadata": {},
     "output_type": "execute_result"
    }
   ],
   "source": [
    "from cogent3.app.composable import define_app\n",
    "from cogent3.app.typing import AlignedSeqsType, PairwiseDistanceType\n",
    "\n",
    "@define_app\n",
    "def get_dists(aln: AlignedSeqsType, calc=\"hamming\") -> PairwiseDistanceType:\n",
    "    return aln.distance_matrix(calc=calc, show_progress=False)\n",
    "\n",
    "percent_dist = get_dists(calc=\"percent\")\n",
    "result = percent_dist(aln)\n",
    "result"
   ]
  }
 ],
 "metadata": {
  "kernelspec": {
   "display_name": "Python 3 (ipykernel)",
   "language": "python",
   "name": "python3"
  },
  "language_info": {
   "codemirror_mode": {
    "name": "ipython",
    "version": 3
   },
   "file_extension": ".py",
   "mimetype": "text/x-python",
   "name": "python",
   "nbconvert_exporter": "python",
   "pygments_lexer": "ipython3",
   "version": "3.10.0"
  }
 },
 "nbformat": 4,
 "nbformat_minor": 5
}