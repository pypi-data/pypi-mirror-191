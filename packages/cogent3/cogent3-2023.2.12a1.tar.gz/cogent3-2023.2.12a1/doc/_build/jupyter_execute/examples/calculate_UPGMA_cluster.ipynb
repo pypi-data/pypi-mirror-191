{
 "cells": [
  {
   "cell_type": "code",
   "execution_count": 1,
   "id": "160c1aca",
   "metadata": {
    "execution": {
     "iopub.execute_input": "2023-01-15T01:18:51.199935Z",
     "iopub.status.busy": "2023-01-15T01:18:51.199284Z",
     "iopub.status.idle": "2023-01-15T01:18:53.129993Z",
     "shell.execute_reply": "2023-01-15T01:18:53.130501Z"
    }
   },
   "outputs": [],
   "source": [
    "import set_working_directory"
   ]
  },
  {
   "cell_type": "code",
   "execution_count": 2,
   "id": "d67bc012",
   "metadata": {
    "execution": {
     "iopub.execute_input": "2023-01-15T01:18:53.134721Z",
     "iopub.status.busy": "2023-01-15T01:18:53.134073Z",
     "iopub.status.idle": "2023-01-15T01:18:54.480347Z",
     "shell.execute_reply": "2023-01-15T01:18:54.479938Z"
    }
   },
   "outputs": [],
   "source": [
    "from cogent3 import load_aligned_seqs\n",
    "from cogent3.cluster.UPGMA import upgma\n",
    "from cogent3.evolve import distance"
   ]
  },
  {
   "cell_type": "code",
   "execution_count": 3,
   "id": "f4ee595f",
   "metadata": {
    "execution": {
     "iopub.execute_input": "2023-01-15T01:18:54.483450Z",
     "iopub.status.busy": "2023-01-15T01:18:54.482929Z",
     "iopub.status.idle": "2023-01-15T01:18:54.484616Z",
     "shell.execute_reply": "2023-01-15T01:18:54.484929Z"
    }
   },
   "outputs": [],
   "source": [
    "from cogent3.evolve.models import HKY85"
   ]
  },
  {
   "cell_type": "code",
   "execution_count": 4,
   "id": "22743b0d",
   "metadata": {
    "execution": {
     "iopub.execute_input": "2023-01-15T01:18:54.487574Z",
     "iopub.status.busy": "2023-01-15T01:18:54.487063Z",
     "iopub.status.idle": "2023-01-15T01:18:54.489225Z",
     "shell.execute_reply": "2023-01-15T01:18:54.489704Z"
    }
   },
   "outputs": [],
   "source": [
    "al = load_aligned_seqs(\"data/test.paml\")"
   ]
  },
  {
   "cell_type": "code",
   "execution_count": 5,
   "id": "dd4b6447",
   "metadata": {
    "execution": {
     "iopub.execute_input": "2023-01-15T01:18:54.493554Z",
     "iopub.status.busy": "2023-01-15T01:18:54.493082Z",
     "iopub.status.idle": "2023-01-15T01:18:54.730633Z",
     "shell.execute_reply": "2023-01-15T01:18:54.730122Z"
    }
   },
   "outputs": [],
   "source": [
    "d = distance.EstimateDistances(al, submodel=HKY85())\n",
    "d.run(show_progress=False)"
   ]
  },
  {
   "cell_type": "code",
   "execution_count": 6,
   "id": "916766c1",
   "metadata": {
    "execution": {
     "iopub.execute_input": "2023-01-15T01:18:54.734872Z",
     "iopub.status.busy": "2023-01-15T01:18:54.734093Z",
     "iopub.status.idle": "2023-01-15T01:18:54.737464Z",
     "shell.execute_reply": "2023-01-15T01:18:54.737914Z"
    }
   },
   "outputs": [
    {
     "name": "stdout",
     "output_type": "stream",
     "text": [
      "                    /-DogFaced\n",
      "                   |\n",
      "          /edge.0--|                    /-HowlerMon\n",
      "         |         |          /edge.2--|\n",
      "         |          \\edge.1--|          \\-Human\n",
      "-root----|                   |\n",
      "         |                    \\-NineBande\n",
      "         |\n",
      "          \\-Mouse\n"
     ]
    }
   ],
   "source": [
    "mycluster = upgma(d.get_pairwise_distances())\n",
    "print(mycluster.ascii_art())"
   ]
  },
  {
   "cell_type": "code",
   "execution_count": 7,
   "id": "5c60bff3",
   "metadata": {
    "execution": {
     "iopub.execute_input": "2023-01-15T01:18:54.741345Z",
     "iopub.status.busy": "2023-01-15T01:18:54.740731Z",
     "iopub.status.idle": "2023-01-15T01:18:54.744198Z",
     "shell.execute_reply": "2023-01-15T01:18:54.743664Z"
    }
   },
   "outputs": [],
   "source": [
    "mycluster.write(\"test_upgma.tree\")"
   ]
  },
  {
   "cell_type": "code",
   "execution_count": 8,
   "id": "5441d156",
   "metadata": {
    "execution": {
     "iopub.execute_input": "2023-01-15T01:18:54.747476Z",
     "iopub.status.busy": "2023-01-15T01:18:54.746824Z",
     "iopub.status.idle": "2023-01-15T01:18:54.749175Z",
     "shell.execute_reply": "2023-01-15T01:18:54.749732Z"
    }
   },
   "outputs": [],
   "source": [
    "import os\n",
    "\n",
    "os.remove(\"test_upgma.tree\")"
   ]
  }
 ],
 "metadata": {
  "kernelspec": {
   "display_name": "Python 3 (ipykernel)",
   "language": "python",
   "name": "python3"
  },
  "language_info": {
   "codemirror_mode": {
    "name": "ipython",
    "version": 3
   },
   "file_extension": ".py",
   "mimetype": "text/x-python",
   "name": "python",
   "nbconvert_exporter": "python",
   "pygments_lexer": "ipython3",
   "version": "3.10.0"
  }
 },
 "nbformat": 4,
 "nbformat_minor": 5
}