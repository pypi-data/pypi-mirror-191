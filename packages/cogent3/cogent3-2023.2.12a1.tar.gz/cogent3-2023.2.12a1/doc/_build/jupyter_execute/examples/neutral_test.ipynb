{
 "cells": [
  {
   "cell_type": "code",
   "execution_count": 1,
   "id": "2a8de0cf",
   "metadata": {
    "execution": {
     "iopub.execute_input": "2023-01-15T01:21:02.714880Z",
     "iopub.status.busy": "2023-01-15T01:21:02.714207Z",
     "iopub.status.idle": "2023-01-15T01:21:05.082775Z",
     "shell.execute_reply": "2023-01-15T01:21:05.083244Z"
    }
   },
   "outputs": [],
   "source": [
    "import set_working_directory"
   ]
  },
  {
   "cell_type": "code",
   "execution_count": 2,
   "id": "41470bd9",
   "metadata": {
    "execution": {
     "iopub.execute_input": "2023-01-15T01:21:05.087509Z",
     "iopub.status.busy": "2023-01-15T01:21:05.086867Z",
     "iopub.status.idle": "2023-01-15T01:21:06.686956Z",
     "shell.execute_reply": "2023-01-15T01:21:06.687365Z"
    }
   },
   "outputs": [],
   "source": [
    "from cogent3 import load_aligned_seqs, load_tree\n",
    "from cogent3.evolve.models import get_model\n",
    "from scipy.stats.distributions import chi2"
   ]
  },
  {
   "cell_type": "code",
   "execution_count": 3,
   "id": "dc878e1b",
   "metadata": {
    "execution": {
     "iopub.execute_input": "2023-01-15T01:21:06.693792Z",
     "iopub.status.busy": "2023-01-15T01:21:06.693106Z",
     "iopub.status.idle": "2023-01-15T01:21:06.695552Z",
     "shell.execute_reply": "2023-01-15T01:21:06.696140Z"
    }
   },
   "outputs": [],
   "source": [
    "al = load_aligned_seqs(\"data/long_testseqs.fasta\")\n",
    "t = load_tree(\"data/test.tree\")"
   ]
  },
  {
   "cell_type": "code",
   "execution_count": 4,
   "id": "b3e6f74d",
   "metadata": {
    "execution": {
     "iopub.execute_input": "2023-01-15T01:21:06.733897Z",
     "iopub.status.busy": "2023-01-15T01:21:06.733308Z",
     "iopub.status.idle": "2023-01-15T01:21:07.435364Z",
     "shell.execute_reply": "2023-01-15T01:21:07.435805Z"
    }
   },
   "outputs": [],
   "source": [
    "sm = get_model(\"MG94GTR\")"
   ]
  },
  {
   "cell_type": "code",
   "execution_count": 5,
   "id": "afac278e",
   "metadata": {
    "execution": {
     "iopub.execute_input": "2023-01-15T01:21:07.440693Z",
     "iopub.status.busy": "2023-01-15T01:21:07.440109Z",
     "iopub.status.idle": "2023-01-15T01:21:07.445633Z",
     "shell.execute_reply": "2023-01-15T01:21:07.446126Z"
    }
   },
   "outputs": [],
   "source": [
    "lf = sm.make_likelihood_function(t, digits=2, space=2)"
   ]
  },
  {
   "cell_type": "code",
   "execution_count": 6,
   "id": "aeba76d5",
   "metadata": {
    "execution": {
     "iopub.execute_input": "2023-01-15T01:21:07.450888Z",
     "iopub.status.busy": "2023-01-15T01:21:07.450003Z",
     "iopub.status.idle": "2023-01-15T01:21:07.477344Z",
     "shell.execute_reply": "2023-01-15T01:21:07.477888Z"
    }
   },
   "outputs": [],
   "source": [
    "lf.set_alignment(al)"
   ]
  },
  {
   "cell_type": "code",
   "execution_count": 7,
   "id": "d2411f9a",
   "metadata": {
    "execution": {
     "iopub.execute_input": "2023-01-15T01:21:07.482083Z",
     "iopub.status.busy": "2023-01-15T01:21:07.481360Z",
     "iopub.status.idle": "2023-01-15T01:21:10.041646Z",
     "shell.execute_reply": "2023-01-15T01:21:10.041050Z"
    }
   },
   "outputs": [],
   "source": [
    "lf.optimise(global_tolerance=1.0, show_progress=False)"
   ]
  },
  {
   "cell_type": "code",
   "execution_count": 8,
   "id": "a44a00df",
   "metadata": {
    "execution": {
     "iopub.execute_input": "2023-01-15T01:21:10.057198Z",
     "iopub.status.busy": "2023-01-15T01:21:10.056184Z",
     "iopub.status.idle": "2023-01-15T01:21:10.060055Z",
     "shell.execute_reply": "2023-01-15T01:21:10.060558Z"
    }
   },
   "outputs": [
    {
     "data": {
      "text/html": [
       "<h4>MG94GTR</h4>\n",
       "<p>log-likelihood = -8636.1801</p>\n",
       "<p>number of free parameters = 13</p>\n",
       "\n",
       "<div class=\"c3table\">\n",
       "\n",
       "<style>\n",
       ".c3table table {margin: 10px 0;}\n",
       ".c3table tr:last-child {border-bottom: 1px solid #000;} \n",
       ".c3table tr > th {text-align: left; padding: 0 5px;}\n",
       ".c3table tr > td {text-align: left; padding: 5px;}\n",
       ".c3table tr:nth-child(even) {background: #f7f7f7 !important;}\n",
       ".c3table .ellipsis {background: rgba(0, 0, 0, .01);}\n",
       ".c3table .index {background: rgba(161, 195, 209, 0.0); margin: 10px; font-weight: 600;}\n",
       ".c3table .head_cell {background: rgba(161, 195, 209, 0.75); font-weight: bold; text-align: center;}\n",
       ".c3table caption {color: rgb(250, 250, 250); background: rgba(30, 140, 200, 1); padding: 3px; white-space: nowrap; caption-side: top;}\n",
       ".c3table .cell_title {font-weight: bold;}\n",
       ".c3col_left { text-align: left !important; display: block;}\n",
       ".c3col_right { text-align: right !important; display: block;}\n",
       ".c3col_center { text-align: center !important; display: block;}\n",
       "</style>\n",
       "\n",
       "<table>\n",
       "\n",
       "<caption>\n",
       "<span class=\"cell_title\">Global params</span>\n",
       "</caption>\n",
       "<thead class=\"head_cell\">\n",
       "<th>A/C</th><th>A/G</th><th>A/T</th><th>C/G</th><th>C/T</th><th>omega</th>\n",
       "</thead>\n",
       "<tbody>\n",
       "<tr><td><span class=\"c3col_right\">1.02</span></td><td><span class=\"c3col_right\">3.36</span></td><td><span class=\"c3col_right\">0.73</span></td><td><span class=\"c3col_right\">0.95</span></td><td><span class=\"c3col_right\">3.71</span></td><td><span class=\"c3col_right\">0.90</span></td></tr>\n",
       "</tbody>\n",
       "</table>\n",
       "\n",
       "</div>\n",
       "\n",
       "<div class=\"c3table\">\n",
       "\n",
       "<style>\n",
       ".c3table table {margin: 10px 0;}\n",
       ".c3table tr:last-child {border-bottom: 1px solid #000;} \n",
       ".c3table tr > th {text-align: left; padding: 0 5px;}\n",
       ".c3table tr > td {text-align: left; padding: 5px;}\n",
       ".c3table tr:nth-child(even) {background: #f7f7f7 !important;}\n",
       ".c3table .ellipsis {background: rgba(0, 0, 0, .01);}\n",
       ".c3table .index {background: rgba(161, 195, 209, 0.0); margin: 10px; font-weight: 600;}\n",
       ".c3table .head_cell {background: rgba(161, 195, 209, 0.75); font-weight: bold; text-align: center;}\n",
       ".c3table caption {color: rgb(250, 250, 250); background: rgba(30, 140, 200, 1); padding: 3px; white-space: nowrap; caption-side: top;}\n",
       ".c3table .cell_title {font-weight: bold;}\n",
       ".c3col_left { text-align: left !important; display: block;}\n",
       ".c3col_right { text-align: right !important; display: block;}\n",
       ".c3col_center { text-align: center !important; display: block;}\n",
       "</style>\n",
       "\n",
       "<table>\n",
       "\n",
       "<caption>\n",
       "<span class=\"cell_title\">Edge params</span>\n",
       "</caption>\n",
       "<thead class=\"head_cell\">\n",
       "<th>edge</th><th>parent</th><th>length</th>\n",
       "</thead>\n",
       "<tbody>\n",
       "<tr><td><span class=\"c3col_left\">Human</span></td><td><span class=\"c3col_left\">edge.0</span></td><td><span class=\"c3col_right\">0.09</span></td></tr>\n",
       "<tr><td><span class=\"c3col_left\">HowlerMon</span></td><td><span class=\"c3col_left\">edge.0</span></td><td><span class=\"c3col_right\">0.12</span></td></tr>\n",
       "<tr><td><span class=\"c3col_left\">edge.0</span></td><td><span class=\"c3col_left\">edge.1</span></td><td><span class=\"c3col_right\">0.12</span></td></tr>\n",
       "<tr><td><span class=\"c3col_left\">Mouse</span></td><td><span class=\"c3col_left\">edge.1</span></td><td><span class=\"c3col_right\">0.84</span></td></tr>\n",
       "<tr><td><span class=\"c3col_left\">edge.1</span></td><td><span class=\"c3col_left\">root</span></td><td><span class=\"c3col_right\">0.06</span></td></tr>\n",
       "<tr><td><span class=\"c3col_left\">NineBande</span></td><td><span class=\"c3col_left\">root</span></td><td><span class=\"c3col_right\">0.28</span></td></tr>\n",
       "<tr><td><span class=\"c3col_left\">DogFaced</span></td><td><span class=\"c3col_left\">root</span></td><td><span class=\"c3col_right\">0.34</span></td></tr>\n",
       "</tbody>\n",
       "</table>\n",
       "\n",
       "</div>\n",
       "\n",
       "<div class=\"c3table\">\n",
       "\n",
       "<style>\n",
       ".c3table table {margin: 10px 0;}\n",
       ".c3table tr:last-child {border-bottom: 1px solid #000;} \n",
       ".c3table tr > th {text-align: left; padding: 0 5px;}\n",
       ".c3table tr > td {text-align: left; padding: 5px;}\n",
       ".c3table tr:nth-child(even) {background: #f7f7f7 !important;}\n",
       ".c3table .ellipsis {background: rgba(0, 0, 0, .01);}\n",
       ".c3table .index {background: rgba(161, 195, 209, 0.0); margin: 10px; font-weight: 600;}\n",
       ".c3table .head_cell {background: rgba(161, 195, 209, 0.75); font-weight: bold; text-align: center;}\n",
       ".c3table caption {color: rgb(250, 250, 250); background: rgba(30, 140, 200, 1); padding: 3px; white-space: nowrap; caption-side: top;}\n",
       ".c3table .cell_title {font-weight: bold;}\n",
       ".c3col_left { text-align: left !important; display: block;}\n",
       ".c3col_right { text-align: right !important; display: block;}\n",
       ".c3col_center { text-align: center !important; display: block;}\n",
       "</style>\n",
       "\n",
       "<table>\n",
       "\n",
       "<caption>\n",
       "<span class=\"cell_title\">Motif params</span>\n",
       "</caption>\n",
       "<thead class=\"head_cell\">\n",
       "<th>A</th><th>C</th><th>G</th><th>T</th>\n",
       "</thead>\n",
       "<tbody>\n",
       "<tr><td><span class=\"c3col_right\">0.37</span></td><td><span class=\"c3col_right\">0.19</span></td><td><span class=\"c3col_right\">0.21</span></td><td><span class=\"c3col_right\">0.23</span></td></tr>\n",
       "</tbody>\n",
       "</table>\n",
       "\n",
       "</div>"
      ],
      "text/plain": [
       "MG94GTR\n",
       "log-likelihood = -8636.1801\n",
       "number of free parameters = 13\n",
       "===================================\n",
       " A/C   A/G   A/T   C/G   C/T  omega\n",
       "-----------------------------------\n",
       "1.02  3.36  0.73  0.95  3.71   0.90\n",
       "-----------------------------------\n",
       "=========================\n",
       "edge       parent  length\n",
       "-------------------------\n",
       "Human      edge.0    0.09\n",
       "HowlerMon  edge.0    0.12\n",
       "edge.0     edge.1    0.12\n",
       "Mouse      edge.1    0.84\n",
       "edge.1     root      0.06\n",
       "NineBande  root      0.28\n",
       "DogFaced   root      0.34\n",
       "-------------------------\n",
       "======================\n",
       "   A     C     G     T\n",
       "----------------------\n",
       "0.37  0.19  0.21  0.23\n",
       "----------------------"
      ]
     },
     "execution_count": 8,
     "metadata": {},
     "output_type": "execute_result"
    }
   ],
   "source": [
    "lf"
   ]
  },
  {
   "cell_type": "code",
   "execution_count": 9,
   "id": "f3d3d8b8",
   "metadata": {
    "execution": {
     "iopub.execute_input": "2023-01-15T01:21:10.065645Z",
     "iopub.status.busy": "2023-01-15T01:21:10.064711Z",
     "iopub.status.idle": "2023-01-15T01:21:10.066989Z",
     "shell.execute_reply": "2023-01-15T01:21:10.067490Z"
    }
   },
   "outputs": [],
   "source": [
    "null_lnL = lf.get_log_likelihood()\n",
    "null_nfp = lf.get_num_free_params()"
   ]
  },
  {
   "cell_type": "code",
   "execution_count": 10,
   "id": "a11f66f8",
   "metadata": {
    "execution": {
     "iopub.execute_input": "2023-01-15T01:21:10.072648Z",
     "iopub.status.busy": "2023-01-15T01:21:10.071824Z",
     "iopub.status.idle": "2023-01-15T01:21:10.093261Z",
     "shell.execute_reply": "2023-01-15T01:21:10.093929Z"
    }
   },
   "outputs": [],
   "source": [
    "lf.set_param_rule(\"omega\", is_independent=True)"
   ]
  },
  {
   "cell_type": "code",
   "execution_count": 11,
   "id": "fe6a638e",
   "metadata": {
    "execution": {
     "iopub.execute_input": "2023-01-15T01:21:10.100389Z",
     "iopub.status.busy": "2023-01-15T01:21:10.099360Z",
     "iopub.status.idle": "2023-01-15T01:21:21.084512Z",
     "shell.execute_reply": "2023-01-15T01:21:21.085164Z"
    }
   },
   "outputs": [],
   "source": [
    "lf.optimise(local=True, show_progress=False)"
   ]
  },
  {
   "cell_type": "code",
   "execution_count": 12,
   "id": "7e916928",
   "metadata": {
    "execution": {
     "iopub.execute_input": "2023-01-15T01:21:21.094830Z",
     "iopub.status.busy": "2023-01-15T01:21:21.093907Z",
     "iopub.status.idle": "2023-01-15T01:21:21.097873Z",
     "shell.execute_reply": "2023-01-15T01:21:21.098493Z"
    }
   },
   "outputs": [
    {
     "data": {
      "text/html": [
       "<h4>MG94GTR</h4>\n",
       "<p>log-likelihood = -8632.1355</p>\n",
       "<p>number of free parameters = 19</p>\n",
       "\n",
       "<div class=\"c3table\">\n",
       "\n",
       "<style>\n",
       ".c3table table {margin: 10px 0;}\n",
       ".c3table tr:last-child {border-bottom: 1px solid #000;} \n",
       ".c3table tr > th {text-align: left; padding: 0 5px;}\n",
       ".c3table tr > td {text-align: left; padding: 5px;}\n",
       ".c3table tr:nth-child(even) {background: #f7f7f7 !important;}\n",
       ".c3table .ellipsis {background: rgba(0, 0, 0, .01);}\n",
       ".c3table .index {background: rgba(161, 195, 209, 0.0); margin: 10px; font-weight: 600;}\n",
       ".c3table .head_cell {background: rgba(161, 195, 209, 0.75); font-weight: bold; text-align: center;}\n",
       ".c3table caption {color: rgb(250, 250, 250); background: rgba(30, 140, 200, 1); padding: 3px; white-space: nowrap; caption-side: top;}\n",
       ".c3table .cell_title {font-weight: bold;}\n",
       ".c3col_left { text-align: left !important; display: block;}\n",
       ".c3col_right { text-align: right !important; display: block;}\n",
       ".c3col_center { text-align: center !important; display: block;}\n",
       "</style>\n",
       "\n",
       "<table>\n",
       "\n",
       "<caption>\n",
       "<span class=\"cell_title\">Global params</span>\n",
       "</caption>\n",
       "<thead class=\"head_cell\">\n",
       "<th>A/C</th><th>A/G</th><th>A/T</th><th>C/G</th><th>C/T</th>\n",
       "</thead>\n",
       "<tbody>\n",
       "<tr><td><span class=\"c3col_right\">1.03</span></td><td><span class=\"c3col_right\">3.38</span></td><td><span class=\"c3col_right\">0.73</span></td><td><span class=\"c3col_right\">0.95</span></td><td><span class=\"c3col_right\">3.72</span></td></tr>\n",
       "</tbody>\n",
       "</table>\n",
       "\n",
       "</div>\n",
       "\n",
       "<div class=\"c3table\">\n",
       "\n",
       "<style>\n",
       ".c3table table {margin: 10px 0;}\n",
       ".c3table tr:last-child {border-bottom: 1px solid #000;} \n",
       ".c3table tr > th {text-align: left; padding: 0 5px;}\n",
       ".c3table tr > td {text-align: left; padding: 5px;}\n",
       ".c3table tr:nth-child(even) {background: #f7f7f7 !important;}\n",
       ".c3table .ellipsis {background: rgba(0, 0, 0, .01);}\n",
       ".c3table .index {background: rgba(161, 195, 209, 0.0); margin: 10px; font-weight: 600;}\n",
       ".c3table .head_cell {background: rgba(161, 195, 209, 0.75); font-weight: bold; text-align: center;}\n",
       ".c3table caption {color: rgb(250, 250, 250); background: rgba(30, 140, 200, 1); padding: 3px; white-space: nowrap; caption-side: top;}\n",
       ".c3table .cell_title {font-weight: bold;}\n",
       ".c3col_left { text-align: left !important; display: block;}\n",
       ".c3col_right { text-align: right !important; display: block;}\n",
       ".c3col_center { text-align: center !important; display: block;}\n",
       "</style>\n",
       "\n",
       "<table>\n",
       "\n",
       "<caption>\n",
       "<span class=\"cell_title\">Edge params</span>\n",
       "</caption>\n",
       "<thead class=\"head_cell\">\n",
       "<th>edge</th><th>parent</th><th>length</th><th>omega</th>\n",
       "</thead>\n",
       "<tbody>\n",
       "<tr><td><span class=\"c3col_left\">Human</span></td><td><span class=\"c3col_left\">edge.0</span></td><td><span class=\"c3col_right\">0.09</span></td><td><span class=\"c3col_right\">0.59</span></td></tr>\n",
       "<tr><td><span class=\"c3col_left\">HowlerMon</span></td><td><span class=\"c3col_left\">edge.0</span></td><td><span class=\"c3col_right\">0.12</span></td><td><span class=\"c3col_right\">0.96</span></td></tr>\n",
       "<tr><td><span class=\"c3col_left\">edge.0</span></td><td><span class=\"c3col_left\">edge.1</span></td><td><span class=\"c3col_right\">0.11</span></td><td><span class=\"c3col_right\">1.13</span></td></tr>\n",
       "<tr><td><span class=\"c3col_left\">Mouse</span></td><td><span class=\"c3col_left\">edge.1</span></td><td><span class=\"c3col_right\">0.83</span></td><td><span class=\"c3col_right\">0.92</span></td></tr>\n",
       "<tr><td><span class=\"c3col_left\">edge.1</span></td><td><span class=\"c3col_left\">root</span></td><td><span class=\"c3col_right\">0.06</span></td><td><span class=\"c3col_right\">0.39</span></td></tr>\n",
       "<tr><td><span class=\"c3col_left\">NineBande</span></td><td><span class=\"c3col_left\">root</span></td><td><span class=\"c3col_right\">0.28</span></td><td><span class=\"c3col_right\">1.28</span></td></tr>\n",
       "<tr><td><span class=\"c3col_left\">DogFaced</span></td><td><span class=\"c3col_left\">root</span></td><td><span class=\"c3col_right\">0.34</span></td><td><span class=\"c3col_right\">0.84</span></td></tr>\n",
       "</tbody>\n",
       "</table>\n",
       "\n",
       "</div>\n",
       "\n",
       "<div class=\"c3table\">\n",
       "\n",
       "<style>\n",
       ".c3table table {margin: 10px 0;}\n",
       ".c3table tr:last-child {border-bottom: 1px solid #000;} \n",
       ".c3table tr > th {text-align: left; padding: 0 5px;}\n",
       ".c3table tr > td {text-align: left; padding: 5px;}\n",
       ".c3table tr:nth-child(even) {background: #f7f7f7 !important;}\n",
       ".c3table .ellipsis {background: rgba(0, 0, 0, .01);}\n",
       ".c3table .index {background: rgba(161, 195, 209, 0.0); margin: 10px; font-weight: 600;}\n",
       ".c3table .head_cell {background: rgba(161, 195, 209, 0.75); font-weight: bold; text-align: center;}\n",
       ".c3table caption {color: rgb(250, 250, 250); background: rgba(30, 140, 200, 1); padding: 3px; white-space: nowrap; caption-side: top;}\n",
       ".c3table .cell_title {font-weight: bold;}\n",
       ".c3col_left { text-align: left !important; display: block;}\n",
       ".c3col_right { text-align: right !important; display: block;}\n",
       ".c3col_center { text-align: center !important; display: block;}\n",
       "</style>\n",
       "\n",
       "<table>\n",
       "\n",
       "<caption>\n",
       "<span class=\"cell_title\">Motif params</span>\n",
       "</caption>\n",
       "<thead class=\"head_cell\">\n",
       "<th>A</th><th>C</th><th>G</th><th>T</th>\n",
       "</thead>\n",
       "<tbody>\n",
       "<tr><td><span class=\"c3col_right\">0.37</span></td><td><span class=\"c3col_right\">0.19</span></td><td><span class=\"c3col_right\">0.21</span></td><td><span class=\"c3col_right\">0.23</span></td></tr>\n",
       "</tbody>\n",
       "</table>\n",
       "\n",
       "</div>"
      ],
      "text/plain": [
       "MG94GTR\n",
       "log-likelihood = -8632.1355\n",
       "number of free parameters = 19\n",
       "============================\n",
       " A/C   A/G   A/T   C/G   C/T\n",
       "----------------------------\n",
       "1.03  3.38  0.73  0.95  3.72\n",
       "----------------------------\n",
       "================================\n",
       "edge       parent  length  omega\n",
       "--------------------------------\n",
       "Human      edge.0    0.09   0.59\n",
       "HowlerMon  edge.0    0.12   0.96\n",
       "edge.0     edge.1    0.11   1.13\n",
       "Mouse      edge.1    0.83   0.92\n",
       "edge.1     root      0.06   0.39\n",
       "NineBande  root      0.28   1.28\n",
       "DogFaced   root      0.34   0.84\n",
       "--------------------------------\n",
       "======================\n",
       "   A     C     G     T\n",
       "----------------------\n",
       "0.37  0.19  0.21  0.23\n",
       "----------------------"
      ]
     },
     "execution_count": 12,
     "metadata": {},
     "output_type": "execute_result"
    }
   ],
   "source": [
    "lf"
   ]
  },
  {
   "cell_type": "code",
   "execution_count": 13,
   "id": "b98b3425",
   "metadata": {
    "execution": {
     "iopub.execute_input": "2023-01-15T01:21:21.107840Z",
     "iopub.status.busy": "2023-01-15T01:21:21.106829Z",
     "iopub.status.idle": "2023-01-15T01:21:21.109398Z",
     "shell.execute_reply": "2023-01-15T01:21:21.110340Z"
    }
   },
   "outputs": [],
   "source": [
    "at = lf.get_annotated_tree()"
   ]
  },
  {
   "cell_type": "code",
   "execution_count": 14,
   "id": "87af1605",
   "metadata": {
    "execution": {
     "iopub.execute_input": "2023-01-15T01:21:21.116268Z",
     "iopub.status.busy": "2023-01-15T01:21:21.115351Z",
     "iopub.status.idle": "2023-01-15T01:21:21.118445Z",
     "shell.execute_reply": "2023-01-15T01:21:21.119122Z"
    }
   },
   "outputs": [],
   "source": [
    "LR = 2 * (lf.get_log_likelihood() - null_lnL)\n",
    "df = lf.get_num_free_params() - null_nfp\n",
    "P = chi2.sf(LR, df)"
   ]
  },
  {
   "cell_type": "code",
   "execution_count": 15,
   "id": "e5a3338f",
   "metadata": {
    "execution": {
     "iopub.execute_input": "2023-01-15T01:21:21.124482Z",
     "iopub.status.busy": "2023-01-15T01:21:21.123468Z",
     "iopub.status.idle": "2023-01-15T01:21:21.127180Z",
     "shell.execute_reply": "2023-01-15T01:21:21.127864Z"
    }
   },
   "outputs": [
    {
     "name": "stdout",
     "output_type": "stream",
     "text": [
      "Likelihood ratio statistic = 8.08923855797184\n",
      "degrees-of-freedom = 6\n",
      "probability = 0.2316381150836258\n"
     ]
    }
   ],
   "source": [
    "print(f\"Likelihood ratio statistic = {LR}\")\n",
    "print(f\"degrees-of-freedom = {df}\")\n",
    "print(f\"probability = {P}\")"
   ]
  }
 ],
 "metadata": {
  "kernelspec": {
   "display_name": "Python 3 (ipykernel)",
   "language": "python",
   "name": "python3"
  },
  "language_info": {
   "codemirror_mode": {
    "name": "ipython",
    "version": 3
   },
   "file_extension": ".py",
   "mimetype": "text/x-python",
   "name": "python",
   "nbconvert_exporter": "python",
   "pygments_lexer": "ipython3",
   "version": "3.10.0"
  }
 },
 "nbformat": 4,
 "nbformat_minor": 5
}