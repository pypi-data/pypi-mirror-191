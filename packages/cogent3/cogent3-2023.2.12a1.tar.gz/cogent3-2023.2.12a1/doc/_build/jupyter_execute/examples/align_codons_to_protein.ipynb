{
 "cells": [
  {
   "cell_type": "code",
   "execution_count": 1,
   "id": "269cdbab",
   "metadata": {
    "execution": {
     "iopub.execute_input": "2023-01-15T01:18:48.482383Z",
     "iopub.status.busy": "2023-01-15T01:18:48.481600Z",
     "iopub.status.idle": "2023-01-15T01:18:49.822381Z",
     "shell.execute_reply": "2023-01-15T01:18:49.822736Z"
    }
   },
   "outputs": [],
   "source": [
    "from cogent3 import make_aligned_seqs, make_unaligned_seqs"
   ]
  },
  {
   "cell_type": "code",
   "execution_count": 2,
   "id": "e6d26f48",
   "metadata": {
    "execution": {
     "iopub.execute_input": "2023-01-15T01:18:49.827193Z",
     "iopub.status.busy": "2023-01-15T01:18:49.826542Z",
     "iopub.status.idle": "2023-01-15T01:18:49.828999Z",
     "shell.execute_reply": "2023-01-15T01:18:49.829367Z"
    }
   },
   "outputs": [
    {
     "name": "stdout",
     "output_type": "stream",
     "text": [
      ">hum\n",
      "AAGCAGATCCAGGAAAGCAGCGAGAATGGCAGCCTGGCCGCGCGCCAGGAGAGGCAGGCC\n",
      "CAGGTCAACCTCACT\n",
      ">mus\n",
      "AAGCAGATCCAGGAGAGCGGCGAGAGCGGCAGCCTGGCCGCGCGGCAGGAGAGGCAGGCC\n",
      "CAAGTCAACCTCACG\n",
      ">rat\n",
      "CTGAACAAGCAGCCACTTTCAAACAAGAAA\n",
      "\n"
     ]
    }
   ],
   "source": [
    "seqs = {\n",
    "    \"hum\": \"AAGCAGATCCAGGAAAGCAGCGAGAATGGCAGCCTGGCCGCGCGCCAGGAGAGGCAGGCCCAGGTCAACCTCACT\",\n",
    "    \"mus\": \"AAGCAGATCCAGGAGAGCGGCGAGAGCGGCAGCCTGGCCGCGCGGCAGGAGAGGCAGGCCCAAGTCAACCTCACG\",\n",
    "    \"rat\": \"CTGAACAAGCAGCCACTTTCAAACAAGAAA\",\n",
    "}\n",
    "unaligned_DNA = make_unaligned_seqs(seqs, moltype=\"dna\")\n",
    "print(unaligned_DNA.to_fasta())"
   ]
  },
  {
   "cell_type": "code",
   "execution_count": 3,
   "id": "904c259d",
   "metadata": {
    "execution": {
     "iopub.execute_input": "2023-01-15T01:18:49.833266Z",
     "iopub.status.busy": "2023-01-15T01:18:49.832738Z",
     "iopub.status.idle": "2023-01-15T01:18:49.834661Z",
     "shell.execute_reply": "2023-01-15T01:18:49.835028Z"
    }
   },
   "outputs": [
    {
     "name": "stdout",
     "output_type": "stream",
     "text": [
      ">hum\n",
      "KQIQESSENGSLAARQERQAQVNLT\n",
      ">mus\n",
      "KQIQESGESGSLAARQERQAQVNLT\n",
      ">rat\n",
      "LNKQPLSNKK\n",
      "\n"
     ]
    }
   ],
   "source": [
    "unaligned_aa = unaligned_DNA.get_translation()\n",
    "print(unaligned_aa.to_fasta())"
   ]
  },
  {
   "cell_type": "code",
   "execution_count": 4,
   "id": "269a70a3",
   "metadata": {
    "execution": {
     "iopub.execute_input": "2023-01-15T01:18:49.842503Z",
     "iopub.status.busy": "2023-01-15T01:18:49.838199Z",
     "iopub.status.idle": "2023-01-15T01:18:49.846889Z",
     "shell.execute_reply": "2023-01-15T01:18:49.847219Z"
    }
   },
   "outputs": [
    {
     "data": {
      "text/html": [
       "<style>\n",
       ".c3align td { border: none !important; text-align: left !important; }\n",
       ".c3align tr:not(.num_row) td span {margin: 0 2px;}\n",
       ".c3align tr:nth-child(even) {background: #f7f7f7;}\n",
       ".c3align .num_row {background-color:rgba(161, 195, 209, 0.5) !important; border-top: solid 1px black; }\n",
       ".c3align .label { font-size: 12pt ; text-align: right !important; color: black !important; padding: 0 4px; display: table-cell !important; font-weight: normal !important; }\n",
       ".c3align .T_dna{font-family: \"Lucida Console\",monospace !important; font-size: 12pt !important; color: blue; }\n",
       ".c3align .C_dna{font-family: \"Lucida Console\",monospace !important; font-size: 12pt !important; color: black; }\n",
       ".c3align .A_dna{font-family: \"Lucida Console\",monospace !important; font-size: 12pt !important; color: #FF0102; }\n",
       ".c3align .G_dna{font-family: \"Lucida Console\",monospace !important; font-size: 12pt !important; color: green; }\n",
       ".c3align .terminal_ambig_dna{font-family: \"Lucida Console\",monospace !important; font-size: 12pt !important; color: gray; }\n",
       ".c3align .ambig_dna{font-family: \"Lucida Console\",monospace !important; font-size: 12pt !important; color: gray; }\n",
       "</style>\n",
       "<div class=\"c3align\">\n",
       "<table>\n",
       "<tr class=\"num_row\"><td></td><td><b>0</b></td></tr>\n",
       "<tr><td class=\"label\">hum</td><td><span class=\"A_dna\">A</span><span class=\"A_dna\">A</span><span class=\"G_dna\">G</span><span class=\"C_dna\">C</span><span class=\"A_dna\">A</span><span class=\"G_dna\">G</span><span class=\"A_dna\">A</span><span class=\"T_dna\">T</span><span class=\"C_dna\">C</span><span class=\"C_dna\">C</span><span class=\"A_dna\">A</span><span class=\"G_dna\">G</span><span class=\"G_dna\">G</span><span class=\"A_dna\">A</span><span class=\"A_dna\">A</span><span class=\"A_dna\">A</span><span class=\"G_dna\">G</span><span class=\"C_dna\">C</span><span class=\"A_dna\">A</span><span class=\"G_dna\">G</span><span class=\"C_dna\">C</span><span class=\"G_dna\">G</span><span class=\"A_dna\">A</span><span class=\"G_dna\">G</span><span class=\"A_dna\">A</span><span class=\"A_dna\">A</span><span class=\"T_dna\">T</span><span class=\"G_dna\">G</span><span class=\"G_dna\">G</span><span class=\"C_dna\">C</span><span class=\"A_dna\">A</span><span class=\"G_dna\">G</span><span class=\"C_dna\">C</span><span class=\"C_dna\">C</span><span class=\"T_dna\">T</span><span class=\"G_dna\">G</span><span class=\"G_dna\">G</span><span class=\"C_dna\">C</span><span class=\"C_dna\">C</span><span class=\"G_dna\">G</span><span class=\"C_dna\">C</span><span class=\"G_dna\">G</span><span class=\"C_dna\">C</span><span class=\"G_dna\">G</span><span class=\"C_dna\">C</span><span class=\"C_dna\">C</span><span class=\"A_dna\">A</span><span class=\"G_dna\">G</span><span class=\"G_dna\">G</span><span class=\"A_dna\">A</span><span class=\"G_dna\">G</span><span class=\"A_dna\">A</span><span class=\"G_dna\">G</span><span class=\"G_dna\">G</span><span class=\"C_dna\">C</span><span class=\"A_dna\">A</span><span class=\"G_dna\">G</span><span class=\"G_dna\">G</span><span class=\"C_dna\">C</span><span class=\"C_dna\">C</span></td></tr>\n",
       "<tr><td class=\"label\">mus</td><td><span class=\"A_dna\">.</span><span class=\"A_dna\">.</span><span class=\"G_dna\">.</span><span class=\"C_dna\">.</span><span class=\"A_dna\">.</span><span class=\"G_dna\">.</span><span class=\"A_dna\">.</span><span class=\"T_dna\">.</span><span class=\"C_dna\">.</span><span class=\"C_dna\">.</span><span class=\"A_dna\">.</span><span class=\"G_dna\">.</span><span class=\"G_dna\">.</span><span class=\"A_dna\">.</span><span class=\"G_dna\">G</span><span class=\"A_dna\">.</span><span class=\"G_dna\">.</span><span class=\"C_dna\">.</span><span class=\"G_dna\">G</span><span class=\"G_dna\">.</span><span class=\"C_dna\">.</span><span class=\"G_dna\">.</span><span class=\"A_dna\">.</span><span class=\"G_dna\">.</span><span class=\"A_dna\">.</span><span class=\"G_dna\">G</span><span class=\"C_dna\">C</span><span class=\"G_dna\">.</span><span class=\"G_dna\">.</span><span class=\"C_dna\">.</span><span class=\"A_dna\">.</span><span class=\"G_dna\">.</span><span class=\"C_dna\">.</span><span class=\"C_dna\">.</span><span class=\"T_dna\">.</span><span class=\"G_dna\">.</span><span class=\"G_dna\">.</span><span class=\"C_dna\">.</span><span class=\"C_dna\">.</span><span class=\"G_dna\">.</span><span class=\"C_dna\">.</span><span class=\"G_dna\">.</span><span class=\"C_dna\">.</span><span class=\"G_dna\">.</span><span class=\"G_dna\">G</span><span class=\"C_dna\">.</span><span class=\"A_dna\">.</span><span class=\"G_dna\">.</span><span class=\"G_dna\">.</span><span class=\"A_dna\">.</span><span class=\"G_dna\">.</span><span class=\"A_dna\">.</span><span class=\"G_dna\">.</span><span class=\"G_dna\">.</span><span class=\"C_dna\">.</span><span class=\"A_dna\">.</span><span class=\"G_dna\">.</span><span class=\"G_dna\">.</span><span class=\"C_dna\">.</span><span class=\"C_dna\">.</span></td></tr>\n",
       "<tr><td class=\"label\">rat</td><td><span class=\"C_dna\">C</span><span class=\"T_dna\">T</span><span class=\"G_dna\">.</span><span class=\"A_dna\">A</span><span class=\"A_dna\">.</span><span class=\"C_dna\">C</span><span class=\"A_dna\">.</span><span class=\"A_dna\">A</span><span class=\"G_dna\">G</span><span class=\"C_dna\">.</span><span class=\"A_dna\">.</span><span class=\"G_dna\">.</span><span class=\"ambig_dna\">-</span><span class=\"ambig_dna\">-</span><span class=\"ambig_dna\">-</span><span class=\"ambig_dna\">-</span><span class=\"ambig_dna\">-</span><span class=\"ambig_dna\">-</span><span class=\"ambig_dna\">-</span><span class=\"ambig_dna\">-</span><span class=\"ambig_dna\">-</span><span class=\"ambig_dna\">-</span><span class=\"ambig_dna\">-</span><span class=\"ambig_dna\">-</span><span class=\"ambig_dna\">-</span><span class=\"ambig_dna\">-</span><span class=\"ambig_dna\">-</span><span class=\"ambig_dna\">-</span><span class=\"ambig_dna\">-</span><span class=\"ambig_dna\">-</span><span class=\"C_dna\">C</span><span class=\"C_dna\">C</span><span class=\"A_dna\">A</span><span class=\"C_dna\">.</span><span class=\"T_dna\">.</span><span class=\"T_dna\">T</span><span class=\"T_dna\">T</span><span class=\"C_dna\">.</span><span class=\"A_dna\">A</span><span class=\"ambig_dna\">-</span><span class=\"ambig_dna\">-</span><span class=\"ambig_dna\">-</span><span class=\"ambig_dna\">-</span><span class=\"ambig_dna\">-</span><span class=\"ambig_dna\">-</span><span class=\"ambig_dna\">-</span><span class=\"ambig_dna\">-</span><span class=\"ambig_dna\">-</span><span class=\"ambig_dna\">-</span><span class=\"ambig_dna\">-</span><span class=\"ambig_dna\">-</span><span class=\"ambig_dna\">-</span><span class=\"ambig_dna\">-</span><span class=\"ambig_dna\">-</span><span class=\"ambig_dna\">-</span><span class=\"ambig_dna\">-</span><span class=\"ambig_dna\">-</span><span class=\"ambig_dna\">-</span><span class=\"ambig_dna\">-</span><span class=\"ambig_dna\">-</span></td></tr>\n",
       "</table>\n",
       "<p><i>3 x 75 (truncated to 3 x 60) dna alignment</i></p>\n",
       "</div>"
      ],
      "text/plain": [
       "3 x 75 alignment: hum[AAGCAGATCCA...], mus[AAGCAGATCCA...], rat[CTGAACAAGCA...]"
      ]
     },
     "execution_count": 4,
     "metadata": {},
     "output_type": "execute_result"
    }
   ],
   "source": [
    "aligned_aa_seqs = {\n",
    "    \"hum\": \"KQIQESSENGSLAARQERQAQVNLT\",\n",
    "    \"mus\": \"KQIQESGESGSLAARQERQAQVNLT\",\n",
    "    \"rat\": \"LNKQ------PLS---------NKK\",\n",
    "}\n",
    "aligned_aa = make_aligned_seqs(aligned_aa_seqs, moltype=\"protein\")\n",
    "aligned_DNA = aligned_aa.replace_seqs(unaligned_DNA)\n",
    "aligned_DNA"
   ]
  }
 ],
 "metadata": {
  "kernelspec": {
   "display_name": "Python 3 (ipykernel)",
   "language": "python",
   "name": "python3"
  },
  "language_info": {
   "codemirror_mode": {
    "name": "ipython",
    "version": 3
   },
   "file_extension": ".py",
   "mimetype": "text/x-python",
   "name": "python",
   "nbconvert_exporter": "python",
   "pygments_lexer": "ipython3",
   "version": "3.10.0"
  }
 },
 "nbformat": 4,
 "nbformat_minor": 5
}