{
 "cells": [
  {
   "cell_type": "code",
   "execution_count": 1,
   "id": "f381c37f",
   "metadata": {
    "execution": {
     "iopub.execute_input": "2023-01-15T01:21:23.362107Z",
     "iopub.status.busy": "2023-01-15T01:21:23.361353Z",
     "iopub.status.idle": "2023-01-15T01:21:26.436958Z",
     "shell.execute_reply": "2023-01-15T01:21:26.437493Z"
    }
   },
   "outputs": [],
   "source": [
    "import set_working_directory"
   ]
  },
  {
   "cell_type": "code",
   "execution_count": 2,
   "id": "486aa7d8",
   "metadata": {
    "execution": {
     "iopub.execute_input": "2023-01-15T01:21:26.442477Z",
     "iopub.status.busy": "2023-01-15T01:21:26.441614Z",
     "iopub.status.idle": "2023-01-15T01:21:28.397966Z",
     "shell.execute_reply": "2023-01-15T01:21:28.398450Z"
    }
   },
   "outputs": [],
   "source": [
    "from cogent3 import load_aligned_seqs, load_tree\n",
    "from cogent3.evolve import bootstrap\n",
    "from cogent3.evolve.models import HKY85"
   ]
  },
  {
   "cell_type": "code",
   "execution_count": 3,
   "id": "14887841",
   "metadata": {
    "execution": {
     "iopub.execute_input": "2023-01-15T01:21:28.403044Z",
     "iopub.status.busy": "2023-01-15T01:21:28.402362Z",
     "iopub.status.idle": "2023-01-15T01:21:28.404767Z",
     "shell.execute_reply": "2023-01-15T01:21:28.405513Z"
    }
   },
   "outputs": [],
   "source": [
    "def create_alt_function():\n",
    "    t = load_tree(\"data/test.tree\")\n",
    "    sm = HKY85()\n",
    "    return sm.make_likelihood_function(t)"
   ]
  },
  {
   "cell_type": "code",
   "execution_count": 4,
   "id": "8d5c1357",
   "metadata": {
    "execution": {
     "iopub.execute_input": "2023-01-15T01:21:28.409732Z",
     "iopub.status.busy": "2023-01-15T01:21:28.409033Z",
     "iopub.status.idle": "2023-01-15T01:21:28.411127Z",
     "shell.execute_reply": "2023-01-15T01:21:28.411697Z"
    }
   },
   "outputs": [],
   "source": [
    "def create_null_function():\n",
    "    lf = create_alt_function()\n",
    "    # set the local clock for humans & howler monkey\n",
    "    lf.set_local_clock(\"Human\", \"HowlerMon\")\n",
    "    return lf"
   ]
  },
  {
   "cell_type": "code",
   "execution_count": 5,
   "id": "708d28bb",
   "metadata": {
    "execution": {
     "iopub.execute_input": "2023-01-15T01:21:28.415437Z",
     "iopub.status.busy": "2023-01-15T01:21:28.414779Z",
     "iopub.status.idle": "2023-01-15T01:21:28.419948Z",
     "shell.execute_reply": "2023-01-15T01:21:28.420423Z"
    }
   },
   "outputs": [],
   "source": [
    "aln = load_aligned_seqs(\"data/long_testseqs.fasta\")"
   ]
  },
  {
   "cell_type": "code",
   "execution_count": 6,
   "id": "c60a2925",
   "metadata": {
    "execution": {
     "iopub.execute_input": "2023-01-15T01:21:28.424624Z",
     "iopub.status.busy": "2023-01-15T01:21:28.423857Z",
     "iopub.status.idle": "2023-01-15T01:21:28.436014Z",
     "shell.execute_reply": "2023-01-15T01:21:28.436517Z"
    }
   },
   "outputs": [
    {
     "name": "stderr",
     "output_type": "stream",
     "text": [
      "/Users/gavin/opt/miniconda3/envs/c310dev/lib/python3.10/site-packages/cogent3/evolve/parameter_controller.py:414: UserWarning: Used mean of 2 length values\n",
      "  self.assign_all(\n"
     ]
    }
   ],
   "source": [
    "estimateP = bootstrap.EstimateProbability(\n",
    "    create_null_function(), create_alt_function(), aln\n",
    ")"
   ]
  },
  {
   "cell_type": "code",
   "execution_count": 7,
   "id": "a81d13bd",
   "metadata": {
    "execution": {
     "iopub.execute_input": "2023-01-15T01:21:28.441024Z",
     "iopub.status.busy": "2023-01-15T01:21:28.440165Z",
     "iopub.status.idle": "2023-01-15T01:21:28.442707Z",
     "shell.execute_reply": "2023-01-15T01:21:28.443263Z"
    }
   },
   "outputs": [],
   "source": [
    "estimateP.set_num_replicates(5)"
   ]
  },
  {
   "cell_type": "code",
   "execution_count": 8,
   "id": "13a5c195",
   "metadata": {
    "execution": {
     "iopub.execute_input": "2023-01-15T01:21:28.447541Z",
     "iopub.status.busy": "2023-01-15T01:21:28.446731Z",
     "iopub.status.idle": "2023-01-15T01:21:31.930540Z",
     "shell.execute_reply": "2023-01-15T01:21:31.931187Z"
    }
   },
   "outputs": [
    {
     "name": "stderr",
     "output_type": "stream",
     "text": [
      "/Users/gavin/opt/miniconda3/envs/c310dev/lib/python3.10/site-packages/cogent3/maths/optimisers.py:189: UserWarning: Unused arg for local alignment: random_series\n",
      "  warnings.warn(\"Unused arg for local alignment: \" + k)\n"
     ]
    }
   ],
   "source": [
    "estimateP.run(show_progress=False)"
   ]
  },
  {
   "cell_type": "code",
   "execution_count": 9,
   "id": "1e564b46",
   "metadata": {
    "execution": {
     "iopub.execute_input": "2023-01-15T01:21:31.935161Z",
     "iopub.status.busy": "2023-01-15T01:21:31.934392Z",
     "iopub.status.idle": "2023-01-15T01:21:31.937003Z",
     "shell.execute_reply": "2023-01-15T01:21:31.936446Z"
    }
   },
   "outputs": [],
   "source": [
    "p = estimateP.get_estimated_prob()"
   ]
  },
  {
   "cell_type": "code",
   "execution_count": 10,
   "id": "72f27f7b",
   "metadata": {
    "execution": {
     "iopub.execute_input": "2023-01-15T01:21:31.941339Z",
     "iopub.status.busy": "2023-01-15T01:21:31.940500Z",
     "iopub.status.idle": "2023-01-15T01:21:31.943587Z",
     "shell.execute_reply": "2023-01-15T01:21:31.944169Z"
    }
   },
   "outputs": [
    {
     "name": "stdout",
     "output_type": "stream",
     "text": [
      "-8751.94, -8750.59\n"
     ]
    }
   ],
   "source": [
    "print(\"%.2f, %.2f\" % estimateP.get_observed_lnL())"
   ]
  }
 ],
 "metadata": {
  "kernelspec": {
   "display_name": "Python 3 (ipykernel)",
   "language": "python",
   "name": "python3"
  },
  "language_info": {
   "codemirror_mode": {
    "name": "ipython",
    "version": 3
   },
   "file_extension": ".py",
   "mimetype": "text/x-python",
   "name": "python",
   "nbconvert_exporter": "python",
   "pygments_lexer": "ipython3",
   "version": "3.10.0"
  }
 },
 "nbformat": 4,
 "nbformat_minor": 5
}