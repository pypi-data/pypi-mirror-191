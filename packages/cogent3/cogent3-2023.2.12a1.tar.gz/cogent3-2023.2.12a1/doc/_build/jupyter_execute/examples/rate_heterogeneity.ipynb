{
 "cells": [
  {
   "cell_type": "code",
   "execution_count": 1,
   "id": "9732dcf5",
   "metadata": {
    "execution": {
     "iopub.execute_input": "2023-01-15T01:21:43.723332Z",
     "iopub.status.busy": "2023-01-15T01:21:43.722494Z",
     "iopub.status.idle": "2023-01-15T01:21:45.912160Z",
     "shell.execute_reply": "2023-01-15T01:21:45.912629Z"
    }
   },
   "outputs": [],
   "source": [
    "import set_working_directory"
   ]
  },
  {
   "cell_type": "code",
   "execution_count": 2,
   "id": "7f1230a4",
   "metadata": {
    "execution": {
     "iopub.execute_input": "2023-01-15T01:21:45.916302Z",
     "iopub.status.busy": "2023-01-15T01:21:45.915665Z",
     "iopub.status.idle": "2023-01-15T01:21:47.412662Z",
     "shell.execute_reply": "2023-01-15T01:21:47.413048Z"
    }
   },
   "outputs": [],
   "source": [
    "from cogent3 import load_tree\n",
    "from cogent3.evolve.substitution_model import TimeReversibleNucleotide"
   ]
  },
  {
   "cell_type": "code",
   "execution_count": 3,
   "id": "93cb3fdf",
   "metadata": {
    "execution": {
     "iopub.execute_input": "2023-01-15T01:21:47.421457Z",
     "iopub.status.busy": "2023-01-15T01:21:47.417459Z",
     "iopub.status.idle": "2023-01-15T01:21:49.652339Z",
     "shell.execute_reply": "2023-01-15T01:21:49.652813Z"
    }
   },
   "outputs": [],
   "source": [
    "model = TimeReversibleNucleotide(equal_motif_probs=True)\n",
    "tree = load_tree(\"data/test.tree\")\n",
    "lf = model.make_likelihood_function(tree)\n",
    "lf.set_param_rule(\"length\", value=0.6, is_constant=True)\n",
    "aln1 = lf.simulate_alignment(sequence_length=10000)\n",
    "lf.set_param_rule(\"length\", value=0.2, is_constant=True)\n",
    "aln2 = lf.simulate_alignment(sequence_length=10000)\n",
    "aln3 = aln1 + aln2"
   ]
  },
  {
   "cell_type": "code",
   "execution_count": 4,
   "id": "19ed92cb",
   "metadata": {
    "execution": {
     "iopub.execute_input": "2023-01-15T01:21:49.661335Z",
     "iopub.status.busy": "2023-01-15T01:21:49.660664Z",
     "iopub.status.idle": "2023-01-15T01:21:50.469125Z",
     "shell.execute_reply": "2023-01-15T01:21:50.469582Z"
    }
   },
   "outputs": [],
   "source": [
    "model = TimeReversibleNucleotide(\n",
    "    equal_motif_probs=True, ordered_param=\"rate\", distribution=\"free\"\n",
    ")\n",
    "lf = model.make_likelihood_function(tree, bins=2, digits=2, space=3)\n",
    "lf.set_alignment(aln3)\n",
    "lf.optimise(local=True, max_restarts=2, show_progress=False)"
   ]
  },
  {
   "cell_type": "code",
   "execution_count": 5,
   "id": "91bc039d",
   "metadata": {
    "execution": {
     "iopub.execute_input": "2023-01-15T01:21:50.479708Z",
     "iopub.status.busy": "2023-01-15T01:21:50.479007Z",
     "iopub.status.idle": "2023-01-15T01:21:50.482174Z",
     "shell.execute_reply": "2023-01-15T01:21:50.481728Z"
    }
   },
   "outputs": [
    {
     "data": {
      "text/html": [
       "\n",
       "<div class=\"c3table\">\n",
       "\n",
       "<style>\n",
       ".c3table table {margin: 10px 0;}\n",
       ".c3table tr:last-child {border-bottom: 1px solid #000;} \n",
       ".c3table tr > th {text-align: left; padding: 0 5px;}\n",
       ".c3table tr > td {text-align: left; padding: 5px;}\n",
       ".c3table tr:nth-child(even) {background: #f7f7f7 !important;}\n",
       ".c3table .ellipsis {background: rgba(0, 0, 0, .01);}\n",
       ".c3table .index {background: rgba(161, 195, 209, 0.0); margin: 10px; font-weight: 600;}\n",
       ".c3table .head_cell {background: rgba(161, 195, 209, 0.75); font-weight: bold; text-align: center;}\n",
       ".c3table caption {color: rgb(250, 250, 250); background: rgba(30, 140, 200, 1); padding: 3px; white-space: nowrap; caption-side: top;}\n",
       ".c3table .cell_title {font-weight: bold;}\n",
       ".c3col_left { text-align: left !important; display: block;}\n",
       ".c3col_right { text-align: right !important; display: block;}\n",
       ".c3col_center { text-align: center !important; display: block;}\n",
       "</style>\n",
       "\n",
       "<table>\n",
       "\n",
       "<caption>\n",
       "<span class=\"cell_title\">bin params</span>\n",
       "</caption>\n",
       "<thead class=\"head_cell\">\n",
       "<th>bin</th><th>bprobs</th><th>rate</th>\n",
       "</thead>\n",
       "<tbody>\n",
       "<tr><td><span class=\"c3col_left\">bin0</span></td><td><span class=\"c3col_right\">0.40</span></td><td><span class=\"c3col_right\">0.47</span></td></tr>\n",
       "<tr><td><span class=\"c3col_left\">bin1</span></td><td><span class=\"c3col_right\">0.60</span></td><td><span class=\"c3col_right\">1.35</span></td></tr>\n",
       "</tbody>\n",
       "</table>\n",
       "<p>\n",
       "2 rows x 3 columns</p>\n",
       "</div>"
      ],
      "text/plain": [
       "bin params\n",
       "====================\n",
       "bin    bprobs   rate\n",
       "--------------------\n",
       "bin0     0.40   0.47\n",
       "bin1     0.60   1.35\n",
       "--------------------\n",
       "\n",
       "2 rows x 3 columns"
      ]
     },
     "execution_count": 5,
     "metadata": {},
     "output_type": "execute_result"
    }
   ],
   "source": [
    "bprobs = [t for t in lf.get_statistics() if \"bin\" in t.title][0]\n",
    "bprobs"
   ]
  },
  {
   "cell_type": "code",
   "execution_count": 6,
   "id": "312c4a74",
   "metadata": {
    "execution": {
     "iopub.execute_input": "2023-01-15T01:21:50.508081Z",
     "iopub.status.busy": "2023-01-15T01:21:50.498328Z",
     "iopub.status.idle": "2023-01-15T01:21:51.909352Z",
     "shell.execute_reply": "2023-01-15T01:21:51.909796Z"
    }
   },
   "outputs": [],
   "source": [
    "model = TimeReversibleNucleotide(\n",
    "    equal_motif_probs=True, ordered_param=\"rate\", distribution=\"gamma\"\n",
    ")\n",
    "lf = model.make_likelihood_function(tree, bins=4)\n",
    "lf.set_param_rule(\"bprobs\", is_constant=True)\n",
    "lf.set_alignment(aln3)\n",
    "lf.optimise(local=True, max_restarts=2, show_progress=False)"
   ]
  }
 ],
 "metadata": {
  "kernelspec": {
   "display_name": "Python 3 (ipykernel)",
   "language": "python",
   "name": "python3"
  },
  "language_info": {
   "codemirror_mode": {
    "name": "ipython",
    "version": 3
   },
   "file_extension": ".py",
   "mimetype": "text/x-python",
   "name": "python",
   "nbconvert_exporter": "python",
   "pygments_lexer": "ipython3",
   "version": "3.10.0"
  }
 },
 "nbformat": 4,
 "nbformat_minor": 5
}