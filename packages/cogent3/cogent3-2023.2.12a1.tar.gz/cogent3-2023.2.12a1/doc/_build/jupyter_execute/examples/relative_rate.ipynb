{
 "cells": [
  {
   "cell_type": "code",
   "execution_count": 1,
   "id": "f56c7450",
   "metadata": {
    "execution": {
     "iopub.execute_input": "2023-01-15T01:21:53.440626Z",
     "iopub.status.busy": "2023-01-15T01:21:53.439941Z",
     "iopub.status.idle": "2023-01-15T01:21:55.776758Z",
     "shell.execute_reply": "2023-01-15T01:21:55.777243Z"
    }
   },
   "outputs": [],
   "source": [
    "import set_working_directory"
   ]
  },
  {
   "cell_type": "code",
   "execution_count": 2,
   "id": "52bb3a9e",
   "metadata": {
    "execution": {
     "iopub.execute_input": "2023-01-15T01:21:55.781310Z",
     "iopub.status.busy": "2023-01-15T01:21:55.780650Z",
     "iopub.status.idle": "2023-01-15T01:21:57.254645Z",
     "shell.execute_reply": "2023-01-15T01:21:57.255051Z"
    }
   },
   "outputs": [],
   "source": [
    "from cogent3 import load_aligned_seqs, load_tree\n",
    "from cogent3.evolve.models import get_model\n",
    "from scipy.stats.distributions import chi2"
   ]
  },
  {
   "cell_type": "code",
   "execution_count": 3,
   "id": "c452c347",
   "metadata": {
    "execution": {
     "iopub.execute_input": "2023-01-15T01:21:57.258774Z",
     "iopub.status.busy": "2023-01-15T01:21:57.258212Z",
     "iopub.status.idle": "2023-01-15T01:21:57.262911Z",
     "shell.execute_reply": "2023-01-15T01:21:57.263293Z"
    }
   },
   "outputs": [],
   "source": [
    "aln = load_aligned_seqs(\"data/long_testseqs.fasta\")\n",
    "t = load_tree(filename=\"data/test.tree\")"
   ]
  },
  {
   "cell_type": "code",
   "execution_count": 4,
   "id": "06108b1a",
   "metadata": {
    "execution": {
     "iopub.execute_input": "2023-01-15T01:21:57.266998Z",
     "iopub.status.busy": "2023-01-15T01:21:57.266441Z",
     "iopub.status.idle": "2023-01-15T01:21:57.267930Z",
     "shell.execute_reply": "2023-01-15T01:21:57.268480Z"
    }
   },
   "outputs": [],
   "source": [
    "sm = get_model(\"HKY85\")"
   ]
  },
  {
   "cell_type": "code",
   "execution_count": 5,
   "id": "fa6603fd",
   "metadata": {
    "execution": {
     "iopub.execute_input": "2023-01-15T01:21:57.274337Z",
     "iopub.status.busy": "2023-01-15T01:21:57.273710Z",
     "iopub.status.idle": "2023-01-15T01:21:57.275980Z",
     "shell.execute_reply": "2023-01-15T01:21:57.276427Z"
    }
   },
   "outputs": [],
   "source": [
    "lf = sm.make_likelihood_function(t, digits=2, space=3)"
   ]
  },
  {
   "cell_type": "code",
   "execution_count": 6,
   "id": "7a1546a0",
   "metadata": {
    "execution": {
     "iopub.execute_input": "2023-01-15T01:21:57.279918Z",
     "iopub.status.busy": "2023-01-15T01:21:57.279274Z",
     "iopub.status.idle": "2023-01-15T01:21:57.283122Z",
     "shell.execute_reply": "2023-01-15T01:21:57.282443Z"
    }
   },
   "outputs": [
    {
     "name": "stderr",
     "output_type": "stream",
     "text": [
      "/Users/gavin/opt/miniconda3/envs/c310dev/lib/python3.10/site-packages/cogent3/evolve/parameter_controller.py:414: UserWarning: Used mean of 2 length values\n",
      "  self.assign_all(\n"
     ]
    }
   ],
   "source": [
    "lf.set_local_clock(\"Human\", \"HowlerMon\")"
   ]
  },
  {
   "cell_type": "code",
   "execution_count": 7,
   "id": "165da6b2",
   "metadata": {
    "execution": {
     "iopub.execute_input": "2023-01-15T01:21:57.286260Z",
     "iopub.status.busy": "2023-01-15T01:21:57.285636Z",
     "iopub.status.idle": "2023-01-15T01:21:57.311013Z",
     "shell.execute_reply": "2023-01-15T01:21:57.311443Z"
    }
   },
   "outputs": [],
   "source": [
    "lf.set_alignment(aln)"
   ]
  },
  {
   "cell_type": "code",
   "execution_count": 8,
   "id": "ee2e79ab",
   "metadata": {
    "execution": {
     "iopub.execute_input": "2023-01-15T01:21:57.316173Z",
     "iopub.status.busy": "2023-01-15T01:21:57.315421Z",
     "iopub.status.idle": "2023-01-15T01:21:57.461505Z",
     "shell.execute_reply": "2023-01-15T01:21:57.461950Z"
    }
   },
   "outputs": [],
   "source": [
    "lf.optimise(show_progress=False)"
   ]
  },
  {
   "cell_type": "code",
   "execution_count": 9,
   "id": "f9efbedf",
   "metadata": {
    "execution": {
     "iopub.execute_input": "2023-01-15T01:21:57.472642Z",
     "iopub.status.busy": "2023-01-15T01:21:57.471949Z",
     "iopub.status.idle": "2023-01-15T01:21:57.474620Z",
     "shell.execute_reply": "2023-01-15T01:21:57.475263Z"
    }
   },
   "outputs": [
    {
     "data": {
      "text/html": [
       "<h4>clock</h4>\n",
       "<p>log-likelihood = -8751.9425</p>\n",
       "<p>number of free parameters = 7</p>\n",
       "\n",
       "<div class=\"c3table\">\n",
       "\n",
       "<style>\n",
       ".c3table table {margin: 10px 0;}\n",
       ".c3table tr:last-child {border-bottom: 1px solid #000;} \n",
       ".c3table tr > th {text-align: left; padding: 0 5px;}\n",
       ".c3table tr > td {text-align: left; padding: 5px;}\n",
       ".c3table tr:nth-child(even) {background: #f7f7f7 !important;}\n",
       ".c3table .ellipsis {background: rgba(0, 0, 0, .01);}\n",
       ".c3table .index {background: rgba(161, 195, 209, 0.0); margin: 10px; font-weight: 600;}\n",
       ".c3table .head_cell {background: rgba(161, 195, 209, 0.75); font-weight: bold; text-align: center;}\n",
       ".c3table caption {color: rgb(250, 250, 250); background: rgba(30, 140, 200, 1); padding: 3px; white-space: nowrap; caption-side: top;}\n",
       ".c3table .cell_title {font-weight: bold;}\n",
       ".c3col_left { text-align: left !important; display: block;}\n",
       ".c3col_right { text-align: right !important; display: block;}\n",
       ".c3col_center { text-align: center !important; display: block;}\n",
       "</style>\n",
       "\n",
       "<table>\n",
       "\n",
       "<caption>\n",
       "<span class=\"cell_title\">Global params</span>\n",
       "</caption>\n",
       "<thead class=\"head_cell\">\n",
       "<th>kappa</th>\n",
       "</thead>\n",
       "<tbody>\n",
       "<tr><td><span class=\"c3col_right\">4.10</span></td></tr>\n",
       "</tbody>\n",
       "</table>\n",
       "\n",
       "</div>\n",
       "\n",
       "<div class=\"c3table\">\n",
       "\n",
       "<style>\n",
       ".c3table table {margin: 10px 0;}\n",
       ".c3table tr:last-child {border-bottom: 1px solid #000;} \n",
       ".c3table tr > th {text-align: left; padding: 0 5px;}\n",
       ".c3table tr > td {text-align: left; padding: 5px;}\n",
       ".c3table tr:nth-child(even) {background: #f7f7f7 !important;}\n",
       ".c3table .ellipsis {background: rgba(0, 0, 0, .01);}\n",
       ".c3table .index {background: rgba(161, 195, 209, 0.0); margin: 10px; font-weight: 600;}\n",
       ".c3table .head_cell {background: rgba(161, 195, 209, 0.75); font-weight: bold; text-align: center;}\n",
       ".c3table caption {color: rgb(250, 250, 250); background: rgba(30, 140, 200, 1); padding: 3px; white-space: nowrap; caption-side: top;}\n",
       ".c3table .cell_title {font-weight: bold;}\n",
       ".c3col_left { text-align: left !important; display: block;}\n",
       ".c3col_right { text-align: right !important; display: block;}\n",
       ".c3col_center { text-align: center !important; display: block;}\n",
       "</style>\n",
       "\n",
       "<table>\n",
       "\n",
       "<caption>\n",
       "<span class=\"cell_title\">Edge params</span>\n",
       "</caption>\n",
       "<thead class=\"head_cell\">\n",
       "<th>edge</th><th>parent</th><th>length</th>\n",
       "</thead>\n",
       "<tbody>\n",
       "<tr><td><span class=\"c3col_left\">Human</span></td><td><span class=\"c3col_left\">edge.0</span></td><td><span class=\"c3col_right\">0.04</span></td></tr>\n",
       "<tr><td><span class=\"c3col_left\">HowlerMon</span></td><td><span class=\"c3col_left\">edge.0</span></td><td><span class=\"c3col_right\">0.04</span></td></tr>\n",
       "<tr><td><span class=\"c3col_left\">edge.0</span></td><td><span class=\"c3col_left\">edge.1</span></td><td><span class=\"c3col_right\">0.04</span></td></tr>\n",
       "<tr><td><span class=\"c3col_left\">Mouse</span></td><td><span class=\"c3col_left\">edge.1</span></td><td><span class=\"c3col_right\">0.28</span></td></tr>\n",
       "<tr><td><span class=\"c3col_left\">edge.1</span></td><td><span class=\"c3col_left\">root</span></td><td><span class=\"c3col_right\">0.02</span></td></tr>\n",
       "<tr><td><span class=\"c3col_left\">NineBande</span></td><td><span class=\"c3col_left\">root</span></td><td><span class=\"c3col_right\">0.09</span></td></tr>\n",
       "<tr><td><span class=\"c3col_left\">DogFaced</span></td><td><span class=\"c3col_left\">root</span></td><td><span class=\"c3col_right\">0.11</span></td></tr>\n",
       "</tbody>\n",
       "</table>\n",
       "\n",
       "</div>\n",
       "\n",
       "<div class=\"c3table\">\n",
       "\n",
       "<style>\n",
       ".c3table table {margin: 10px 0;}\n",
       ".c3table tr:last-child {border-bottom: 1px solid #000;} \n",
       ".c3table tr > th {text-align: left; padding: 0 5px;}\n",
       ".c3table tr > td {text-align: left; padding: 5px;}\n",
       ".c3table tr:nth-child(even) {background: #f7f7f7 !important;}\n",
       ".c3table .ellipsis {background: rgba(0, 0, 0, .01);}\n",
       ".c3table .index {background: rgba(161, 195, 209, 0.0); margin: 10px; font-weight: 600;}\n",
       ".c3table .head_cell {background: rgba(161, 195, 209, 0.75); font-weight: bold; text-align: center;}\n",
       ".c3table caption {color: rgb(250, 250, 250); background: rgba(30, 140, 200, 1); padding: 3px; white-space: nowrap; caption-side: top;}\n",
       ".c3table .cell_title {font-weight: bold;}\n",
       ".c3col_left { text-align: left !important; display: block;}\n",
       ".c3col_right { text-align: right !important; display: block;}\n",
       ".c3col_center { text-align: center !important; display: block;}\n",
       "</style>\n",
       "\n",
       "<table>\n",
       "\n",
       "<caption>\n",
       "<span class=\"cell_title\">Motif params</span>\n",
       "</caption>\n",
       "<thead class=\"head_cell\">\n",
       "<th>A</th><th>C</th><th>G</th><th>T</th>\n",
       "</thead>\n",
       "<tbody>\n",
       "<tr><td><span class=\"c3col_right\">0.37</span></td><td><span class=\"c3col_right\">0.19</span></td><td><span class=\"c3col_right\">0.21</span></td><td><span class=\"c3col_right\">0.23</span></td></tr>\n",
       "</tbody>\n",
       "</table>\n",
       "\n",
       "</div>"
      ],
      "text/plain": [
       "clock\n",
       "log-likelihood = -8751.9425\n",
       "number of free parameters = 7\n",
       "=====\n",
       "kappa\n",
       "-----\n",
       " 4.10\n",
       "-----\n",
       "===========================\n",
       "edge        parent   length\n",
       "---------------------------\n",
       "Human       edge.0     0.04\n",
       "HowlerMon   edge.0     0.04\n",
       "edge.0      edge.1     0.04\n",
       "Mouse       edge.1     0.28\n",
       "edge.1      root       0.02\n",
       "NineBande   root       0.09\n",
       "DogFaced    root       0.11\n",
       "---------------------------\n",
       "=========================\n",
       "   A      C      G      T\n",
       "-------------------------\n",
       "0.37   0.19   0.21   0.23\n",
       "-------------------------"
      ]
     },
     "execution_count": 9,
     "metadata": {},
     "output_type": "execute_result"
    }
   ],
   "source": [
    "lf.set_name(\"clock\")\n",
    "lf"
   ]
  },
  {
   "cell_type": "code",
   "execution_count": 10,
   "id": "30d31215",
   "metadata": {
    "execution": {
     "iopub.execute_input": "2023-01-15T01:21:57.478628Z",
     "iopub.status.busy": "2023-01-15T01:21:57.477994Z",
     "iopub.status.idle": "2023-01-15T01:21:57.479934Z",
     "shell.execute_reply": "2023-01-15T01:21:57.480562Z"
    }
   },
   "outputs": [],
   "source": [
    "null_lnL = lf.get_log_likelihood()\n",
    "null_nfp = lf.get_num_free_params()"
   ]
  },
  {
   "cell_type": "code",
   "execution_count": 11,
   "id": "f2001869",
   "metadata": {
    "execution": {
     "iopub.execute_input": "2023-01-15T01:21:57.484223Z",
     "iopub.status.busy": "2023-01-15T01:21:57.483614Z",
     "iopub.status.idle": "2023-01-15T01:21:57.485468Z",
     "shell.execute_reply": "2023-01-15T01:21:57.486114Z"
    }
   },
   "outputs": [],
   "source": [
    "lf.set_param_rule(\"length\", is_independent=True)"
   ]
  },
  {
   "cell_type": "code",
   "execution_count": 12,
   "id": "88a9f330",
   "metadata": {
    "execution": {
     "iopub.execute_input": "2023-01-15T01:21:57.502613Z",
     "iopub.status.busy": "2023-01-15T01:21:57.500218Z",
     "iopub.status.idle": "2023-01-15T01:21:57.578638Z",
     "shell.execute_reply": "2023-01-15T01:21:57.579066Z"
    }
   },
   "outputs": [],
   "source": [
    "lf.optimise(show_progress=False)"
   ]
  },
  {
   "cell_type": "code",
   "execution_count": 13,
   "id": "45c063f1",
   "metadata": {
    "execution": {
     "iopub.execute_input": "2023-01-15T01:21:57.584831Z",
     "iopub.status.busy": "2023-01-15T01:21:57.584187Z",
     "iopub.status.idle": "2023-01-15T01:21:57.586632Z",
     "shell.execute_reply": "2023-01-15T01:21:57.587239Z"
    }
   },
   "outputs": [
    {
     "data": {
      "text/html": [
       "<h4>non clock</h4>\n",
       "<p>log-likelihood = -8750.5889</p>\n",
       "<p>number of free parameters = 8</p>\n",
       "\n",
       "<div class=\"c3table\">\n",
       "\n",
       "<style>\n",
       ".c3table table {margin: 10px 0;}\n",
       ".c3table tr:last-child {border-bottom: 1px solid #000;} \n",
       ".c3table tr > th {text-align: left; padding: 0 5px;}\n",
       ".c3table tr > td {text-align: left; padding: 5px;}\n",
       ".c3table tr:nth-child(even) {background: #f7f7f7 !important;}\n",
       ".c3table .ellipsis {background: rgba(0, 0, 0, .01);}\n",
       ".c3table .index {background: rgba(161, 195, 209, 0.0); margin: 10px; font-weight: 600;}\n",
       ".c3table .head_cell {background: rgba(161, 195, 209, 0.75); font-weight: bold; text-align: center;}\n",
       ".c3table caption {color: rgb(250, 250, 250); background: rgba(30, 140, 200, 1); padding: 3px; white-space: nowrap; caption-side: top;}\n",
       ".c3table .cell_title {font-weight: bold;}\n",
       ".c3col_left { text-align: left !important; display: block;}\n",
       ".c3col_right { text-align: right !important; display: block;}\n",
       ".c3col_center { text-align: center !important; display: block;}\n",
       "</style>\n",
       "\n",
       "<table>\n",
       "\n",
       "<caption>\n",
       "<span class=\"cell_title\">Global params</span>\n",
       "</caption>\n",
       "<thead class=\"head_cell\">\n",
       "<th>kappa</th>\n",
       "</thead>\n",
       "<tbody>\n",
       "<tr><td><span class=\"c3col_right\">4.10</span></td></tr>\n",
       "</tbody>\n",
       "</table>\n",
       "\n",
       "</div>\n",
       "\n",
       "<div class=\"c3table\">\n",
       "\n",
       "<style>\n",
       ".c3table table {margin: 10px 0;}\n",
       ".c3table tr:last-child {border-bottom: 1px solid #000;} \n",
       ".c3table tr > th {text-align: left; padding: 0 5px;}\n",
       ".c3table tr > td {text-align: left; padding: 5px;}\n",
       ".c3table tr:nth-child(even) {background: #f7f7f7 !important;}\n",
       ".c3table .ellipsis {background: rgba(0, 0, 0, .01);}\n",
       ".c3table .index {background: rgba(161, 195, 209, 0.0); margin: 10px; font-weight: 600;}\n",
       ".c3table .head_cell {background: rgba(161, 195, 209, 0.75); font-weight: bold; text-align: center;}\n",
       ".c3table caption {color: rgb(250, 250, 250); background: rgba(30, 140, 200, 1); padding: 3px; white-space: nowrap; caption-side: top;}\n",
       ".c3table .cell_title {font-weight: bold;}\n",
       ".c3col_left { text-align: left !important; display: block;}\n",
       ".c3col_right { text-align: right !important; display: block;}\n",
       ".c3col_center { text-align: center !important; display: block;}\n",
       "</style>\n",
       "\n",
       "<table>\n",
       "\n",
       "<caption>\n",
       "<span class=\"cell_title\">Edge params</span>\n",
       "</caption>\n",
       "<thead class=\"head_cell\">\n",
       "<th>edge</th><th>parent</th><th>length</th>\n",
       "</thead>\n",
       "<tbody>\n",
       "<tr><td><span class=\"c3col_left\">Human</span></td><td><span class=\"c3col_left\">edge.0</span></td><td><span class=\"c3col_right\">0.03</span></td></tr>\n",
       "<tr><td><span class=\"c3col_left\">HowlerMon</span></td><td><span class=\"c3col_left\">edge.0</span></td><td><span class=\"c3col_right\">0.04</span></td></tr>\n",
       "<tr><td><span class=\"c3col_left\">edge.0</span></td><td><span class=\"c3col_left\">edge.1</span></td><td><span class=\"c3col_right\">0.04</span></td></tr>\n",
       "<tr><td><span class=\"c3col_left\">Mouse</span></td><td><span class=\"c3col_left\">edge.1</span></td><td><span class=\"c3col_right\">0.28</span></td></tr>\n",
       "<tr><td><span class=\"c3col_left\">edge.1</span></td><td><span class=\"c3col_left\">root</span></td><td><span class=\"c3col_right\">0.02</span></td></tr>\n",
       "<tr><td><span class=\"c3col_left\">NineBande</span></td><td><span class=\"c3col_left\">root</span></td><td><span class=\"c3col_right\">0.09</span></td></tr>\n",
       "<tr><td><span class=\"c3col_left\">DogFaced</span></td><td><span class=\"c3col_left\">root</span></td><td><span class=\"c3col_right\">0.11</span></td></tr>\n",
       "</tbody>\n",
       "</table>\n",
       "\n",
       "</div>\n",
       "\n",
       "<div class=\"c3table\">\n",
       "\n",
       "<style>\n",
       ".c3table table {margin: 10px 0;}\n",
       ".c3table tr:last-child {border-bottom: 1px solid #000;} \n",
       ".c3table tr > th {text-align: left; padding: 0 5px;}\n",
       ".c3table tr > td {text-align: left; padding: 5px;}\n",
       ".c3table tr:nth-child(even) {background: #f7f7f7 !important;}\n",
       ".c3table .ellipsis {background: rgba(0, 0, 0, .01);}\n",
       ".c3table .index {background: rgba(161, 195, 209, 0.0); margin: 10px; font-weight: 600;}\n",
       ".c3table .head_cell {background: rgba(161, 195, 209, 0.75); font-weight: bold; text-align: center;}\n",
       ".c3table caption {color: rgb(250, 250, 250); background: rgba(30, 140, 200, 1); padding: 3px; white-space: nowrap; caption-side: top;}\n",
       ".c3table .cell_title {font-weight: bold;}\n",
       ".c3col_left { text-align: left !important; display: block;}\n",
       ".c3col_right { text-align: right !important; display: block;}\n",
       ".c3col_center { text-align: center !important; display: block;}\n",
       "</style>\n",
       "\n",
       "<table>\n",
       "\n",
       "<caption>\n",
       "<span class=\"cell_title\">Motif params</span>\n",
       "</caption>\n",
       "<thead class=\"head_cell\">\n",
       "<th>A</th><th>C</th><th>G</th><th>T</th>\n",
       "</thead>\n",
       "<tbody>\n",
       "<tr><td><span class=\"c3col_right\">0.37</span></td><td><span class=\"c3col_right\">0.19</span></td><td><span class=\"c3col_right\">0.21</span></td><td><span class=\"c3col_right\">0.23</span></td></tr>\n",
       "</tbody>\n",
       "</table>\n",
       "\n",
       "</div>"
      ],
      "text/plain": [
       "non clock\n",
       "log-likelihood = -8750.5889\n",
       "number of free parameters = 8\n",
       "=====\n",
       "kappa\n",
       "-----\n",
       " 4.10\n",
       "-----\n",
       "===========================\n",
       "edge        parent   length\n",
       "---------------------------\n",
       "Human       edge.0     0.03\n",
       "HowlerMon   edge.0     0.04\n",
       "edge.0      edge.1     0.04\n",
       "Mouse       edge.1     0.28\n",
       "edge.1      root       0.02\n",
       "NineBande   root       0.09\n",
       "DogFaced    root       0.11\n",
       "---------------------------\n",
       "=========================\n",
       "   A      C      G      T\n",
       "-------------------------\n",
       "0.37   0.19   0.21   0.23\n",
       "-------------------------"
      ]
     },
     "execution_count": 13,
     "metadata": {},
     "output_type": "execute_result"
    }
   ],
   "source": [
    "lf.set_name(\"non clock\")\n",
    "lf"
   ]
  },
  {
   "cell_type": "code",
   "execution_count": 14,
   "id": "68f40156",
   "metadata": {
    "execution": {
     "iopub.execute_input": "2023-01-15T01:21:57.591078Z",
     "iopub.status.busy": "2023-01-15T01:21:57.590408Z",
     "iopub.status.idle": "2023-01-15T01:21:57.592431Z",
     "shell.execute_reply": "2023-01-15T01:21:57.592830Z"
    }
   },
   "outputs": [],
   "source": [
    "LR = 2 * (lf.get_log_likelihood() - null_lnL)\n",
    "df = lf.get_num_free_params() - null_nfp\n",
    "P = chi2.sf(LR, df)"
   ]
  },
  {
   "cell_type": "code",
   "execution_count": 15,
   "id": "73e53c25",
   "metadata": {
    "execution": {
     "iopub.execute_input": "2023-01-15T01:21:57.596370Z",
     "iopub.status.busy": "2023-01-15T01:21:57.595739Z",
     "iopub.status.idle": "2023-01-15T01:21:57.597859Z",
     "shell.execute_reply": "2023-01-15T01:21:57.598377Z"
    }
   },
   "outputs": [
    {
     "name": "stdout",
     "output_type": "stream",
     "text": [
      "Likelihood ratio statistic =  2.7071645285614068\n",
      "degrees-of-freedom =  1\n",
      "probability =  0.09989841175600517\n"
     ]
    }
   ],
   "source": [
    "print(\"Likelihood ratio statistic = \", LR)\n",
    "print(\"degrees-of-freedom = \", df)\n",
    "print(\"probability = \", P)"
   ]
  }
 ],
 "metadata": {
  "kernelspec": {
   "display_name": "Python 3 (ipykernel)",
   "language": "python",
   "name": "python3"
  },
  "language_info": {
   "codemirror_mode": {
    "name": "ipython",
    "version": 3
   },
   "file_extension": ".py",
   "mimetype": "text/x-python",
   "name": "python",
   "nbconvert_exporter": "python",
   "pygments_lexer": "ipython3",
   "version": "3.10.0"
  }
 },
 "nbformat": 4,
 "nbformat_minor": 5
}