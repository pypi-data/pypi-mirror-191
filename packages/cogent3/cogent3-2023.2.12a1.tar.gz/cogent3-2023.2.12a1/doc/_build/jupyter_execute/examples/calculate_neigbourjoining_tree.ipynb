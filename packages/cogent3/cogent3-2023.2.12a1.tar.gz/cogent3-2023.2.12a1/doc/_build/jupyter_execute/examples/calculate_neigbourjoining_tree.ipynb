{
 "cells": [
  {
   "cell_type": "code",
   "execution_count": 1,
   "id": "eebafdaf",
   "metadata": {
    "execution": {
     "iopub.execute_input": "2023-01-15T01:18:56.210710Z",
     "iopub.status.busy": "2023-01-15T01:18:56.209864Z",
     "iopub.status.idle": "2023-01-15T01:18:58.130595Z",
     "shell.execute_reply": "2023-01-15T01:18:58.131082Z"
    }
   },
   "outputs": [],
   "source": [
    "import set_working_directory"
   ]
  },
  {
   "cell_type": "code",
   "execution_count": 2,
   "id": "75a09686",
   "metadata": {
    "execution": {
     "iopub.execute_input": "2023-01-15T01:18:58.135431Z",
     "iopub.status.busy": "2023-01-15T01:18:58.134783Z",
     "iopub.status.idle": "2023-01-15T01:18:59.426129Z",
     "shell.execute_reply": "2023-01-15T01:18:59.426495Z"
    }
   },
   "outputs": [],
   "source": [
    "from cogent3 import load_aligned_seqs\n",
    "from cogent3.evolve import distance\n",
    "from cogent3.phylo import nj"
   ]
  },
  {
   "cell_type": "code",
   "execution_count": 3,
   "id": "4ca5600b",
   "metadata": {
    "execution": {
     "iopub.execute_input": "2023-01-15T01:18:59.429824Z",
     "iopub.status.busy": "2023-01-15T01:18:59.429297Z",
     "iopub.status.idle": "2023-01-15T01:18:59.431018Z",
     "shell.execute_reply": "2023-01-15T01:18:59.431457Z"
    }
   },
   "outputs": [],
   "source": [
    "from cogent3.evolve.models import get_model"
   ]
  },
  {
   "cell_type": "code",
   "execution_count": 4,
   "id": "6ef971a0",
   "metadata": {
    "execution": {
     "iopub.execute_input": "2023-01-15T01:18:59.434470Z",
     "iopub.status.busy": "2023-01-15T01:18:59.433921Z",
     "iopub.status.idle": "2023-01-15T01:18:59.437585Z",
     "shell.execute_reply": "2023-01-15T01:18:59.438095Z"
    }
   },
   "outputs": [],
   "source": [
    "al = load_aligned_seqs(\"data/long_testseqs.fasta\")"
   ]
  },
  {
   "cell_type": "code",
   "execution_count": 5,
   "id": "4e82e988",
   "metadata": {
    "execution": {
     "iopub.execute_input": "2023-01-15T01:18:59.441901Z",
     "iopub.status.busy": "2023-01-15T01:18:59.441292Z",
     "iopub.status.idle": "2023-01-15T01:18:59.858114Z",
     "shell.execute_reply": "2023-01-15T01:18:59.857560Z"
    }
   },
   "outputs": [],
   "source": [
    "d = distance.EstimateDistances(al, submodel=get_model(\"HKY85\"))\n",
    "d.run(show_progress=False)"
   ]
  },
  {
   "cell_type": "code",
   "execution_count": 6,
   "id": "a7985010",
   "metadata": {
    "execution": {
     "iopub.execute_input": "2023-01-15T01:18:59.864097Z",
     "iopub.status.busy": "2023-01-15T01:18:59.863360Z",
     "iopub.status.idle": "2023-01-15T01:18:59.866360Z",
     "shell.execute_reply": "2023-01-15T01:18:59.867025Z"
    }
   },
   "outputs": [
    {
     "name": "stdout",
     "output_type": "stream",
     "text": [
      "          /-Mouse\n",
      "         |\n",
      "         |          /-NineBande\n",
      "-root----|-edge.0--|\n",
      "         |          \\-DogFaced\n",
      "         |\n",
      "         |          /-Human\n",
      "          \\edge.1--|\n",
      "                    \\-HowlerMon\n"
     ]
    }
   ],
   "source": [
    "mytree = nj.nj(d.get_pairwise_distances(), show_progress=False)\n",
    "print(mytree.ascii_art())"
   ]
  },
  {
   "cell_type": "code",
   "execution_count": 7,
   "id": "05448aee",
   "metadata": {
    "execution": {
     "iopub.execute_input": "2023-01-15T01:18:59.870793Z",
     "iopub.status.busy": "2023-01-15T01:18:59.870180Z",
     "iopub.status.idle": "2023-01-15T01:18:59.873590Z",
     "shell.execute_reply": "2023-01-15T01:18:59.872960Z"
    }
   },
   "outputs": [],
   "source": [
    "mytree.write(\"test_nj.tree\")"
   ]
  },
  {
   "cell_type": "code",
   "execution_count": 8,
   "id": "23b1c247",
   "metadata": {
    "execution": {
     "iopub.execute_input": "2023-01-15T01:18:59.876830Z",
     "iopub.status.busy": "2023-01-15T01:18:59.876205Z",
     "iopub.status.idle": "2023-01-15T01:18:59.878080Z",
     "shell.execute_reply": "2023-01-15T01:18:59.878695Z"
    }
   },
   "outputs": [],
   "source": [
    "import os\n",
    "\n",
    "os.remove(\"test_nj.tree\")"
   ]
  }
 ],
 "metadata": {
  "kernelspec": {
   "display_name": "Python 3 (ipykernel)",
   "language": "python",
   "name": "python3"
  },
  "language_info": {
   "codemirror_mode": {
    "name": "ipython",
    "version": 3
   },
   "file_extension": ".py",
   "mimetype": "text/x-python",
   "name": "python",
   "nbconvert_exporter": "python",
   "pygments_lexer": "ipython3",
   "version": "3.10.0"
  }
 },
 "nbformat": 4,
 "nbformat_minor": 5
}