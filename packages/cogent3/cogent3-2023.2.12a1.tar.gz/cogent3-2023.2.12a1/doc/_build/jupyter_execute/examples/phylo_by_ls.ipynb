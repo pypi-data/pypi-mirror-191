{
 "cells": [
  {
   "cell_type": "code",
   "execution_count": 1,
   "id": "ce846ca8",
   "metadata": {
    "execution": {
     "iopub.execute_input": "2023-01-15T01:21:37.648089Z",
     "iopub.status.busy": "2023-01-15T01:21:37.647447Z",
     "iopub.status.idle": "2023-01-15T01:21:39.938177Z",
     "shell.execute_reply": "2023-01-15T01:21:39.938666Z"
    }
   },
   "outputs": [],
   "source": [
    "import set_working_directory"
   ]
  },
  {
   "cell_type": "code",
   "execution_count": 2,
   "id": "6af1a212",
   "metadata": {
    "execution": {
     "iopub.execute_input": "2023-01-15T01:21:39.943596Z",
     "iopub.status.busy": "2023-01-15T01:21:39.942984Z",
     "iopub.status.idle": "2023-01-15T01:21:41.916113Z",
     "shell.execute_reply": "2023-01-15T01:21:41.916572Z"
    }
   },
   "outputs": [],
   "source": [
    "import pickle\n",
    "\n",
    "from cogent3 import load_aligned_seqs\n",
    "from cogent3.evolve import distance\n",
    "from cogent3.evolve.fast_distance import DistanceMatrix\n",
    "from cogent3.evolve.models import HKY85\n",
    "\n",
    "al = load_aligned_seqs(\"data/long_testseqs.fasta\")\n",
    "d = distance.EstimateDistances(al, submodel=HKY85())\n",
    "d.run(show_progress=False)\n",
    "\n",
    "with open(\"dists_for_phylo.pickle\", \"wb\") as f:\n",
    "    pickle.dump(d.get_pairwise_distances(), f)"
   ]
  },
  {
   "cell_type": "code",
   "execution_count": 3,
   "id": "31db6d5d",
   "metadata": {
    "execution": {
     "iopub.execute_input": "2023-01-15T01:21:41.920034Z",
     "iopub.status.busy": "2023-01-15T01:21:41.919392Z",
     "iopub.status.idle": "2023-01-15T01:21:41.923614Z",
     "shell.execute_reply": "2023-01-15T01:21:41.924080Z"
    }
   },
   "outputs": [],
   "source": [
    "import pickle\n",
    "\n",
    "from cogent3.phylo import least_squares"
   ]
  },
  {
   "cell_type": "code",
   "execution_count": 4,
   "id": "0a6b2f1e",
   "metadata": {
    "execution": {
     "iopub.execute_input": "2023-01-15T01:21:41.927695Z",
     "iopub.status.busy": "2023-01-15T01:21:41.926977Z",
     "iopub.status.idle": "2023-01-15T01:21:41.929338Z",
     "shell.execute_reply": "2023-01-15T01:21:41.929789Z"
    }
   },
   "outputs": [],
   "source": [
    "with open(\"dists_for_phylo.pickle\", \"rb\") as f:\n",
    "    dists = pickle.load(f)"
   ]
  },
  {
   "cell_type": "code",
   "execution_count": 5,
   "id": "31838ea3",
   "metadata": {
    "execution": {
     "iopub.execute_input": "2023-01-15T01:21:41.933354Z",
     "iopub.status.busy": "2023-01-15T01:21:41.932698Z",
     "iopub.status.idle": "2023-01-15T01:21:41.934619Z",
     "shell.execute_reply": "2023-01-15T01:21:41.935265Z"
    }
   },
   "outputs": [],
   "source": [
    "ls = least_squares.WLS(dists)"
   ]
  },
  {
   "cell_type": "code",
   "execution_count": 6,
   "id": "f9d69247",
   "metadata": {
    "execution": {
     "iopub.execute_input": "2023-01-15T01:21:41.939025Z",
     "iopub.status.busy": "2023-01-15T01:21:41.938374Z",
     "iopub.status.idle": "2023-01-15T01:21:41.940202Z",
     "shell.execute_reply": "2023-01-15T01:21:41.940667Z"
    }
   },
   "outputs": [],
   "source": [
    "ls_distance_matrix = least_squares.WLS(DistanceMatrix(dists))\n",
    "ls_pairwise_matrix = least_squares.WLS(dists.to_dict())"
   ]
  },
  {
   "cell_type": "code",
   "execution_count": 7,
   "id": "be5cb256",
   "metadata": {
    "execution": {
     "iopub.execute_input": "2023-01-15T01:21:41.944698Z",
     "iopub.status.busy": "2023-01-15T01:21:41.944019Z",
     "iopub.status.idle": "2023-01-15T01:21:41.948425Z",
     "shell.execute_reply": "2023-01-15T01:21:41.948889Z"
    }
   },
   "outputs": [],
   "source": [
    "score, tree = ls.trex(a=5, k=1, show_progress=False)\n",
    "assert score < 1e-4"
   ]
  },
  {
   "cell_type": "code",
   "execution_count": 8,
   "id": "1f70d85f",
   "metadata": {
    "execution": {
     "iopub.execute_input": "2023-01-15T01:21:41.952958Z",
     "iopub.status.busy": "2023-01-15T01:21:41.952277Z",
     "iopub.status.idle": "2023-01-15T01:21:41.956908Z",
     "shell.execute_reply": "2023-01-15T01:21:41.957361Z"
    }
   },
   "outputs": [],
   "source": [
    "trees = ls.trex(a=5, k=5, return_all=True, show_progress=False)"
   ]
  },
  {
   "cell_type": "code",
   "execution_count": 9,
   "id": "d2fbd342",
   "metadata": {
    "execution": {
     "iopub.execute_input": "2023-01-15T01:21:41.960828Z",
     "iopub.status.busy": "2023-01-15T01:21:41.960167Z",
     "iopub.status.idle": "2023-01-15T01:21:41.962874Z",
     "shell.execute_reply": "2023-01-15T01:21:41.963302Z"
    }
   },
   "outputs": [
    {
     "name": "stdout",
     "output_type": "stream",
     "text": [
      "5\n"
     ]
    }
   ],
   "source": [
    "print(len(trees))"
   ]
  },
  {
   "cell_type": "code",
   "execution_count": 10,
   "id": "0d6a14cc",
   "metadata": {
    "execution": {
     "iopub.execute_input": "2023-01-15T01:21:41.966911Z",
     "iopub.status.busy": "2023-01-15T01:21:41.966263Z",
     "iopub.status.idle": "2023-01-15T01:21:41.968420Z",
     "shell.execute_reply": "2023-01-15T01:21:41.968845Z"
    }
   },
   "outputs": [],
   "source": [
    "wls_stats = [tree[0] for tree in trees]"
   ]
  },
  {
   "cell_type": "code",
   "execution_count": 11,
   "id": "ff2d9110",
   "metadata": {
    "execution": {
     "iopub.execute_input": "2023-01-15T01:21:41.972660Z",
     "iopub.status.busy": "2023-01-15T01:21:41.971994Z",
     "iopub.status.idle": "2023-01-15T01:21:41.974355Z",
     "shell.execute_reply": "2023-01-15T01:21:41.974889Z"
    }
   },
   "outputs": [
    {
     "name": "stdout",
     "output_type": "stream",
     "text": [
      "          /-Mouse\n",
      "         |\n",
      "         |          /-DogFaced\n",
      "-root----|-edge.0--|\n",
      "         |          \\-NineBande\n",
      "         |\n",
      "         |          /-HowlerMon\n",
      "          \\edge.1--|\n",
      "                    \\-Human\n"
     ]
    }
   ],
   "source": [
    "t1 = trees[0][1].balanced()\n",
    "t2 = trees[1][1].balanced()\n",
    "print(t1.ascii_art())"
   ]
  },
  {
   "cell_type": "code",
   "execution_count": 12,
   "id": "9f0c508c",
   "metadata": {
    "execution": {
     "iopub.execute_input": "2023-01-15T01:21:41.978326Z",
     "iopub.status.busy": "2023-01-15T01:21:41.977676Z",
     "iopub.status.idle": "2023-01-15T01:21:41.979978Z",
     "shell.execute_reply": "2023-01-15T01:21:41.980397Z"
    }
   },
   "outputs": [
    {
     "name": "stdout",
     "output_type": "stream",
     "text": [
      "          /-DogFaced\n",
      "         |\n",
      "         |          /-Mouse\n",
      "-root----|-edge.0--|\n",
      "         |          \\-NineBande\n",
      "         |\n",
      "         |          /-HowlerMon\n",
      "          \\edge.1--|\n",
      "                    \\-Human\n"
     ]
    }
   ],
   "source": [
    "print(t2.ascii_art())"
   ]
  },
  {
   "cell_type": "code",
   "execution_count": 13,
   "id": "c14460bd",
   "metadata": {
    "execution": {
     "iopub.execute_input": "2023-01-15T01:21:41.984144Z",
     "iopub.status.busy": "2023-01-15T01:21:41.983504Z",
     "iopub.status.idle": "2023-01-15T01:21:41.985134Z",
     "shell.execute_reply": "2023-01-15T01:21:41.985796Z"
    }
   },
   "outputs": [],
   "source": [
    "from cogent3 import make_tree\n",
    "\n",
    "query_tree = make_tree(\n",
    "    \"((Human:.2,DogFaced:.2):.3,(NineBande:.1, Mouse:.5):.2,HowlerMon:.1)\"\n",
    ")"
   ]
  },
  {
   "cell_type": "code",
   "execution_count": 14,
   "id": "a2c704a3",
   "metadata": {
    "execution": {
     "iopub.execute_input": "2023-01-15T01:21:41.994701Z",
     "iopub.status.busy": "2023-01-15T01:21:41.994008Z",
     "iopub.status.idle": "2023-01-15T01:21:41.997051Z",
     "shell.execute_reply": "2023-01-15T01:21:41.996407Z"
    }
   },
   "outputs": [
    {
     "data": {
      "text/plain": [
       "2.8938102203001925"
      ]
     },
     "execution_count": 14,
     "metadata": {},
     "output_type": "execute_result"
    }
   ],
   "source": [
    "ls.evaluate_tree(query_tree)"
   ]
  },
  {
   "cell_type": "code",
   "execution_count": 15,
   "id": "4ec3a07c",
   "metadata": {
    "execution": {
     "iopub.execute_input": "2023-01-15T01:21:42.000685Z",
     "iopub.status.busy": "2023-01-15T01:21:42.000046Z",
     "iopub.status.idle": "2023-01-15T01:21:42.002318Z",
     "shell.execute_reply": "2023-01-15T01:21:42.002779Z"
    }
   },
   "outputs": [],
   "source": [
    "wls, t = ls.evaluate_topology(query_tree)\n",
    "assert \"%.4f\" % wls == \"0.0084\""
   ]
  },
  {
   "cell_type": "code",
   "execution_count": 16,
   "id": "d1b29c83",
   "metadata": {
    "execution": {
     "iopub.execute_input": "2023-01-15T01:21:42.006008Z",
     "iopub.status.busy": "2023-01-15T01:21:42.005378Z",
     "iopub.status.idle": "2023-01-15T01:21:42.007465Z",
     "shell.execute_reply": "2023-01-15T01:21:42.008125Z"
    }
   },
   "outputs": [],
   "source": [
    "import os\n",
    "\n",
    "os.remove(\"dists_for_phylo.pickle\")"
   ]
  }
 ],
 "metadata": {
  "kernelspec": {
   "display_name": "Python 3 (ipykernel)",
   "language": "python",
   "name": "python3"
  },
  "language_info": {
   "codemirror_mode": {
    "name": "ipython",
    "version": 3
   },
   "file_extension": ".py",
   "mimetype": "text/x-python",
   "name": "python",
   "nbconvert_exporter": "python",
   "pygments_lexer": "ipython3",
   "version": "3.10.0"
  }
 },
 "nbformat": 4,
 "nbformat_minor": 5
}