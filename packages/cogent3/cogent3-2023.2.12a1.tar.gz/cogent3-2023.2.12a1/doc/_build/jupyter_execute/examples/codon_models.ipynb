{
 "cells": [
  {
   "cell_type": "code",
   "execution_count": 1,
   "id": "8e044338",
   "metadata": {
    "execution": {
     "iopub.execute_input": "2023-01-15T01:19:06.807351Z",
     "iopub.status.busy": "2023-01-15T01:19:06.806594Z",
     "iopub.status.idle": "2023-01-15T01:19:08.747442Z",
     "shell.execute_reply": "2023-01-15T01:19:08.747998Z"
    }
   },
   "outputs": [],
   "source": [
    "import set_working_directory"
   ]
  },
  {
   "cell_type": "code",
   "execution_count": 2,
   "id": "0925c90c",
   "metadata": {
    "execution": {
     "iopub.execute_input": "2023-01-15T01:19:08.752197Z",
     "iopub.status.busy": "2023-01-15T01:19:08.751493Z",
     "iopub.status.idle": "2023-01-15T01:19:10.070953Z",
     "shell.execute_reply": "2023-01-15T01:19:10.071316Z"
    }
   },
   "outputs": [],
   "source": [
    "from cogent3.evolve.models import get_model"
   ]
  },
  {
   "cell_type": "code",
   "execution_count": 3,
   "id": "bf7c0160",
   "metadata": {
    "execution": {
     "iopub.execute_input": "2023-01-15T01:19:10.087691Z",
     "iopub.status.busy": "2023-01-15T01:19:10.077472Z",
     "iopub.status.idle": "2023-01-15T01:19:11.721450Z",
     "shell.execute_reply": "2023-01-15T01:19:11.722142Z"
    }
   },
   "outputs": [],
   "source": [
    "tf = get_model(\"GY94\")\n",
    "nf = get_model(\"MG94GTR\")\n",
    "cnf = get_model(\"CNFGTR\")"
   ]
  },
  {
   "cell_type": "code",
   "execution_count": 4,
   "id": "b3674529",
   "metadata": {
    "execution": {
     "iopub.execute_input": "2023-01-15T01:19:11.729747Z",
     "iopub.status.busy": "2023-01-15T01:19:11.729180Z",
     "iopub.status.idle": "2023-01-15T01:19:11.731812Z",
     "shell.execute_reply": "2023-01-15T01:19:11.732192Z"
    }
   },
   "outputs": [],
   "source": [
    "from cogent3 import load_aligned_seqs, load_tree\n",
    "\n",
    "aln = load_aligned_seqs(\"data/primate_brca1.fasta\", moltype=\"dna\")\n",
    "tree = load_tree(\"data/primate_brca1.tree\")"
   ]
  },
  {
   "cell_type": "code",
   "execution_count": 5,
   "id": "c6571e7a",
   "metadata": {
    "execution": {
     "iopub.execute_input": "2023-01-15T01:19:11.736458Z",
     "iopub.status.busy": "2023-01-15T01:19:11.735886Z",
     "iopub.status.idle": "2023-01-15T01:19:11.743800Z",
     "shell.execute_reply": "2023-01-15T01:19:11.743104Z"
    }
   },
   "outputs": [],
   "source": [
    "lf = cnf.make_likelihood_function(tree, digits=2, space=3)\n",
    "lf.set_param_rule(\"omega\", is_constant=True, value=1.0)"
   ]
  },
  {
   "cell_type": "code",
   "execution_count": 6,
   "id": "dad4106e",
   "metadata": {
    "execution": {
     "iopub.execute_input": "2023-01-15T01:19:11.747450Z",
     "iopub.status.busy": "2023-01-15T01:19:11.746856Z",
     "iopub.status.idle": "2023-01-15T01:19:14.936052Z",
     "shell.execute_reply": "2023-01-15T01:19:14.936444Z"
    }
   },
   "outputs": [
    {
     "data": {
      "text/html": [
       "<h4>CNFGTR</h4>\n",
       "<p>log-likelihood = -6767.0980</p>\n",
       "<p>number of free parameters = 16</p>\n",
       "\n",
       "<div class=\"c3table\">\n",
       "\n",
       "<style>\n",
       ".c3table table {margin: 10px 0;}\n",
       ".c3table tr:last-child {border-bottom: 1px solid #000;} \n",
       ".c3table tr > th {text-align: left; padding: 0 5px;}\n",
       ".c3table tr > td {text-align: left; padding: 5px;}\n",
       ".c3table tr:nth-child(even) {background: #f7f7f7 !important;}\n",
       ".c3table .ellipsis {background: rgba(0, 0, 0, .01);}\n",
       ".c3table .index {background: rgba(161, 195, 209, 0.0); margin: 10px; font-weight: 600;}\n",
       ".c3table .head_cell {background: rgba(161, 195, 209, 0.75); font-weight: bold; text-align: center;}\n",
       ".c3table caption {color: rgb(250, 250, 250); background: rgba(30, 140, 200, 1); padding: 3px; white-space: nowrap; caption-side: top;}\n",
       ".c3table .cell_title {font-weight: bold;}\n",
       ".c3col_left { text-align: left !important; display: block;}\n",
       ".c3col_right { text-align: right !important; display: block;}\n",
       ".c3col_center { text-align: center !important; display: block;}\n",
       "</style>\n",
       "\n",
       "<table>\n",
       "\n",
       "<caption>\n",
       "<span class=\"cell_title\">Global params</span>\n",
       "</caption>\n",
       "<thead class=\"head_cell\">\n",
       "<th>A/C</th><th>A/G</th><th>A/T</th><th>C/G</th><th>C/T</th><th>omega</th>\n",
       "</thead>\n",
       "<tbody>\n",
       "<tr><td><span class=\"c3col_right\">1.10</span></td><td><span class=\"c3col_right\">4.07</span></td><td><span class=\"c3col_right\">0.84</span></td><td><span class=\"c3col_right\">1.95</span></td><td><span class=\"c3col_right\">4.58</span></td><td><span class=\"c3col_right\">1.00</span></td></tr>\n",
       "</tbody>\n",
       "</table>\n",
       "\n",
       "</div>\n",
       "\n",
       "<div class=\"c3table\">\n",
       "\n",
       "<style>\n",
       ".c3table table {margin: 10px 0;}\n",
       ".c3table tr:last-child {border-bottom: 1px solid #000;} \n",
       ".c3table tr > th {text-align: left; padding: 0 5px;}\n",
       ".c3table tr > td {text-align: left; padding: 5px;}\n",
       ".c3table tr:nth-child(even) {background: #f7f7f7 !important;}\n",
       ".c3table .ellipsis {background: rgba(0, 0, 0, .01);}\n",
       ".c3table .index {background: rgba(161, 195, 209, 0.0); margin: 10px; font-weight: 600;}\n",
       ".c3table .head_cell {background: rgba(161, 195, 209, 0.75); font-weight: bold; text-align: center;}\n",
       ".c3table caption {color: rgb(250, 250, 250); background: rgba(30, 140, 200, 1); padding: 3px; white-space: nowrap; caption-side: top;}\n",
       ".c3table .cell_title {font-weight: bold;}\n",
       ".c3col_left { text-align: left !important; display: block;}\n",
       ".c3col_right { text-align: right !important; display: block;}\n",
       ".c3col_center { text-align: center !important; display: block;}\n",
       "</style>\n",
       "\n",
       "<table>\n",
       "\n",
       "<caption>\n",
       "<span class=\"cell_title\">Edge params</span>\n",
       "</caption>\n",
       "<thead class=\"head_cell\">\n",
       "<th>edge</th><th>parent</th><th>length</th>\n",
       "</thead>\n",
       "<tbody>\n",
       "<tr><td><span class=\"c3col_left\">Galago</span></td><td><span class=\"c3col_left\">root</span></td><td><span class=\"c3col_right\">0.53</span></td></tr>\n",
       "<tr><td><span class=\"c3col_left\">HowlerMon</span></td><td><span class=\"c3col_left\">root</span></td><td><span class=\"c3col_right\">0.14</span></td></tr>\n",
       "<tr><td><span class=\"c3col_left\">Rhesus</span></td><td><span class=\"c3col_left\">edge.3</span></td><td><span class=\"c3col_right\">0.07</span></td></tr>\n",
       "<tr><td><span class=\"c3col_left\">Orangutan</span></td><td><span class=\"c3col_left\">edge.2</span></td><td><span class=\"c3col_right\">0.02</span></td></tr>\n",
       "<tr><td><span class=\"c3col_left\">Gorilla</span></td><td><span class=\"c3col_left\">edge.1</span></td><td><span class=\"c3col_right\">0.01</span></td></tr>\n",
       "<tr><td><span class=\"c3col_left\">Human</span></td><td><span class=\"c3col_left\">edge.0</span></td><td><span class=\"c3col_right\">0.02</span></td></tr>\n",
       "<tr><td><span class=\"c3col_left\">Chimpanzee</span></td><td><span class=\"c3col_left\">edge.0</span></td><td><span class=\"c3col_right\">0.01</span></td></tr>\n",
       "<tr><td><span class=\"c3col_left\">edge.0</span></td><td><span class=\"c3col_left\">edge.1</span></td><td><span class=\"c3col_right\">0.00</span></td></tr>\n",
       "<tr><td><span class=\"c3col_left\">edge.1</span></td><td><span class=\"c3col_left\">edge.2</span></td><td><span class=\"c3col_right\">0.01</span></td></tr>\n",
       "<tr><td><span class=\"c3col_left\">edge.2</span></td><td><span class=\"c3col_left\">edge.3</span></td><td><span class=\"c3col_right\">0.04</span></td></tr>\n",
       "<tr><td><span class=\"c3col_left\">edge.3</span></td><td><span class=\"c3col_left\">root</span></td><td><span class=\"c3col_right\">0.02</span></td></tr>\n",
       "</tbody>\n",
       "</table>\n",
       "\n",
       "</div>\n",
       "\n",
       "<div class=\"c3table\">\n",
       "\n",
       "<style>\n",
       ".c3table table {margin: 10px 0;}\n",
       ".c3table tr:last-child {border-bottom: 1px solid #000;} \n",
       ".c3table tr > th {text-align: left; padding: 0 5px;}\n",
       ".c3table tr > td {text-align: left; padding: 5px;}\n",
       ".c3table tr:nth-child(even) {background: #f7f7f7 !important;}\n",
       ".c3table .ellipsis {background: rgba(0, 0, 0, .01);}\n",
       ".c3table .index {background: rgba(161, 195, 209, 0.0); margin: 10px; font-weight: 600;}\n",
       ".c3table .head_cell {background: rgba(161, 195, 209, 0.75); font-weight: bold; text-align: center;}\n",
       ".c3table caption {color: rgb(250, 250, 250); background: rgba(30, 140, 200, 1); padding: 3px; white-space: nowrap; caption-side: top;}\n",
       ".c3table .cell_title {font-weight: bold;}\n",
       ".c3col_left { text-align: left !important; display: block;}\n",
       ".c3col_right { text-align: right !important; display: block;}\n",
       ".c3col_center { text-align: center !important; display: block;}\n",
       "</style>\n",
       "\n",
       "<table>\n",
       "\n",
       "<caption>\n",
       "<span class=\"cell_title\">Motif params</span>\n",
       "</caption>\n",
       "<thead class=\"head_cell\">\n",
       "<th>AAA</th><th>AAC</th><th>AAG</th><th>AAT</th><th>ACA</th><th>ACC</th><th>ACG</th><th>ACT</th><th>AGA</th><th>AGC</th><th>AGG</th><th>AGT</th><th>ATA</th>\n",
       "</thead>\n",
       "<tbody>\n",
       "<tr><td><span class=\"c3col_right\">0.06</span></td><td><span class=\"c3col_right\">0.02</span></td><td><span class=\"c3col_right\">0.03</span></td><td><span class=\"c3col_right\">0.06</span></td><td><span class=\"c3col_right\">0.02</span></td><td><span class=\"c3col_right\">0.00</span></td><td><span class=\"c3col_right\">0.00</span></td><td><span class=\"c3col_right\">0.03</span></td><td><span class=\"c3col_right\">0.02</span></td><td><span class=\"c3col_right\">0.03</span></td><td><span class=\"c3col_right\">0.01</span></td><td><span class=\"c3col_right\">0.04</span></td><td><span class=\"c3col_right\">0.02</span></td></tr>\n",
       "</tbody>\n",
       "</table>\n",
       "\n",
       "<table>\n",
       "\n",
       "<caption>\n",
       "<span class=\"cell_title\">continuation</span>\n",
       "</caption>\n",
       "<thead class=\"head_cell\">\n",
       "<th>ATC</th><th>ATG</th><th>ATT</th><th>CAA</th><th>CAC</th><th>CAG</th><th>CAT</th><th>CCA</th><th>CCC</th><th>CCG</th><th>CCT</th><th>CGA</th><th>CGC</th>\n",
       "</thead>\n",
       "<tbody>\n",
       "<tr><td><span class=\"c3col_right\">0.01</span></td><td><span class=\"c3col_right\">0.01</span></td><td><span class=\"c3col_right\">0.02</span></td><td><span class=\"c3col_right\">0.02</span></td><td><span class=\"c3col_right\">0.01</span></td><td><span class=\"c3col_right\">0.02</span></td><td><span class=\"c3col_right\">0.02</span></td><td><span class=\"c3col_right\">0.02</span></td><td><span class=\"c3col_right\">0.01</span></td><td><span class=\"c3col_right\">0.00</span></td><td><span class=\"c3col_right\">0.03</span></td><td><span class=\"c3col_right\">0.00</span></td><td><span class=\"c3col_right\">0.00</span></td></tr>\n",
       "</tbody>\n",
       "</table>\n",
       "\n",
       "<table>\n",
       "\n",
       "<caption>\n",
       "<span class=\"cell_title\">continuation</span>\n",
       "</caption>\n",
       "<thead class=\"head_cell\">\n",
       "<th>CGG</th><th>CGT</th><th>CTA</th><th>CTC</th><th>CTG</th><th>CTT</th><th>GAA</th><th>GAC</th><th>GAG</th><th>GAT</th><th>GCA</th><th>GCC</th><th>GCG</th>\n",
       "</thead>\n",
       "<tbody>\n",
       "<tr><td><span class=\"c3col_right\">0.00</span></td><td><span class=\"c3col_right\">0.00</span></td><td><span class=\"c3col_right\">0.01</span></td><td><span class=\"c3col_right\">0.01</span></td><td><span class=\"c3col_right\">0.01</span></td><td><span class=\"c3col_right\">0.01</span></td><td><span class=\"c3col_right\">0.08</span></td><td><span class=\"c3col_right\">0.01</span></td><td><span class=\"c3col_right\">0.03</span></td><td><span class=\"c3col_right\">0.03</span></td><td><span class=\"c3col_right\">0.02</span></td><td><span class=\"c3col_right\">0.01</span></td><td><span class=\"c3col_right\">0.00</span></td></tr>\n",
       "</tbody>\n",
       "</table>\n",
       "\n",
       "<table>\n",
       "\n",
       "<caption>\n",
       "<span class=\"cell_title\">continuation</span>\n",
       "</caption>\n",
       "<thead class=\"head_cell\">\n",
       "<th>GCT</th><th>GGA</th><th>GGC</th><th>GGG</th><th>GGT</th><th>GTA</th><th>GTC</th><th>GTG</th><th>GTT</th><th>TAC</th><th>TAT</th><th>TCA</th><th>TCC</th>\n",
       "</thead>\n",
       "<tbody>\n",
       "<tr><td><span class=\"c3col_right\">0.01</span></td><td><span class=\"c3col_right\">0.02</span></td><td><span class=\"c3col_right\">0.01</span></td><td><span class=\"c3col_right\">0.01</span></td><td><span class=\"c3col_right\">0.01</span></td><td><span class=\"c3col_right\">0.01</span></td><td><span class=\"c3col_right\">0.01</span></td><td><span class=\"c3col_right\">0.01</span></td><td><span class=\"c3col_right\">0.02</span></td><td><span class=\"c3col_right\">0.00</span></td><td><span class=\"c3col_right\">0.01</span></td><td><span class=\"c3col_right\">0.02</span></td><td><span class=\"c3col_right\">0.01</span></td></tr>\n",
       "</tbody>\n",
       "</table>\n",
       "\n",
       "<table>\n",
       "\n",
       "<caption>\n",
       "<span class=\"cell_title\">continuation</span>\n",
       "</caption>\n",
       "<thead class=\"head_cell\">\n",
       "<th>TCG</th><th>TCT</th><th>TGC</th><th>TGG</th><th>TGT</th><th>TTA</th><th>TTC</th><th>TTG</th><th>TTT</th>\n",
       "</thead>\n",
       "<tbody>\n",
       "<tr><td><span class=\"c3col_right\">0.00</span></td><td><span class=\"c3col_right\">0.03</span></td><td><span class=\"c3col_right\">0.00</span></td><td><span class=\"c3col_right\">0.00</span></td><td><span class=\"c3col_right\">0.02</span></td><td><span class=\"c3col_right\">0.02</span></td><td><span class=\"c3col_right\">0.01</span></td><td><span class=\"c3col_right\">0.01</span></td><td><span class=\"c3col_right\">0.02</span></td></tr>\n",
       "</tbody>\n",
       "</table>\n",
       "\n",
       "</div>"
      ],
      "text/plain": [
       "CNFGTR\n",
       "log-likelihood = -6767.0980\n",
       "number of free parameters = 16\n",
       "========================================\n",
       " A/C    A/G    A/T    C/G    C/T   omega\n",
       "----------------------------------------\n",
       "1.10   4.07   0.84   1.95   4.58    1.00\n",
       "----------------------------------------\n",
       "============================\n",
       "edge         parent   length\n",
       "----------------------------\n",
       "Galago       root       0.53\n",
       "HowlerMon    root       0.14\n",
       "Rhesus       edge.3     0.07\n",
       "Orangutan    edge.2     0.02\n",
       "Gorilla      edge.1     0.01\n",
       "Human        edge.0     0.02\n",
       "Chimpanzee   edge.0     0.01\n",
       "edge.0       edge.1     0.00\n",
       "edge.1       edge.2     0.01\n",
       "edge.2       edge.3     0.04\n",
       "edge.3       root       0.02\n",
       "----------------------------\n",
       "==========================================================================\n",
       " AAA    AAC    AAG    AAT    ACA    ACC    ACG    ACT    AGA    AGC    AGG\n",
       "--------------------------------------------------------------------------\n",
       "0.06   0.02   0.03   0.06   0.02   0.00   0.00   0.03   0.02   0.03   0.01\n",
       "--------------------------------------------------------------------------\n",
       "\n",
       "continued: \n",
       "==========================================================================\n",
       " AGT    ATA    ATC    ATG    ATT    CAA    CAC    CAG    CAT    CCA    CCC\n",
       "--------------------------------------------------------------------------\n",
       "0.04   0.02   0.01   0.01   0.02   0.02   0.01   0.02   0.02   0.02   0.01\n",
       "--------------------------------------------------------------------------\n",
       "\n",
       "continued: \n",
       "==========================================================================\n",
       " CCG    CCT    CGA    CGC    CGG    CGT    CTA    CTC    CTG    CTT    GAA\n",
       "--------------------------------------------------------------------------\n",
       "0.00   0.03   0.00   0.00   0.00   0.00   0.01   0.01   0.01   0.01   0.08\n",
       "--------------------------------------------------------------------------\n",
       "\n",
       "continued: \n",
       "==========================================================================\n",
       " GAC    GAG    GAT    GCA    GCC    GCG    GCT    GGA    GGC    GGG    GGT\n",
       "--------------------------------------------------------------------------\n",
       "0.01   0.03   0.03   0.02   0.01   0.00   0.01   0.02   0.01   0.01   0.01\n",
       "--------------------------------------------------------------------------\n",
       "\n",
       "continued: \n",
       "==========================================================================\n",
       " GTA    GTC    GTG    GTT    TAC    TAT    TCA    TCC    TCG    TCT    TGC\n",
       "--------------------------------------------------------------------------\n",
       "0.01   0.01   0.01   0.02   0.00   0.01   0.02   0.01   0.00   0.03   0.00\n",
       "--------------------------------------------------------------------------\n",
       "\n",
       "continued: \n",
       "=======================================\n",
       " TGG    TGT    TTA    TTC    TTG    TTT\n",
       "---------------------------------------\n",
       "0.00   0.02   0.02   0.01   0.01   0.02\n",
       "---------------------------------------"
      ]
     },
     "execution_count": 6,
     "metadata": {},
     "output_type": "execute_result"
    }
   ],
   "source": [
    "optimiser_args = dict(\n",
    "    local=True, max_restarts=5, tolerance=1e-8, show_progress=False\n",
    ")\n",
    "lf.set_alignment(aln)\n",
    "lf.optimise(**optimiser_args)\n",
    "lf"
   ]
  },
  {
   "cell_type": "code",
   "execution_count": 7,
   "id": "0b88136d",
   "metadata": {
    "execution": {
     "iopub.execute_input": "2023-01-15T01:19:14.940893Z",
     "iopub.status.busy": "2023-01-15T01:19:14.940242Z",
     "iopub.status.idle": "2023-01-15T01:19:18.574351Z",
     "shell.execute_reply": "2023-01-15T01:19:18.575090Z"
    }
   },
   "outputs": [
    {
     "data": {
      "text/html": [
       "<h4>CNFGTR</h4>\n",
       "<p>log-likelihood = -6762.5761</p>\n",
       "<p>number of free parameters = 17</p>\n",
       "\n",
       "<div class=\"c3table\">\n",
       "\n",
       "<style>\n",
       ".c3table table {margin: 10px 0;}\n",
       ".c3table tr:last-child {border-bottom: 1px solid #000;} \n",
       ".c3table tr > th {text-align: left; padding: 0 5px;}\n",
       ".c3table tr > td {text-align: left; padding: 5px;}\n",
       ".c3table tr:nth-child(even) {background: #f7f7f7 !important;}\n",
       ".c3table .ellipsis {background: rgba(0, 0, 0, .01);}\n",
       ".c3table .index {background: rgba(161, 195, 209, 0.0); margin: 10px; font-weight: 600;}\n",
       ".c3table .head_cell {background: rgba(161, 195, 209, 0.75); font-weight: bold; text-align: center;}\n",
       ".c3table caption {color: rgb(250, 250, 250); background: rgba(30, 140, 200, 1); padding: 3px; white-space: nowrap; caption-side: top;}\n",
       ".c3table .cell_title {font-weight: bold;}\n",
       ".c3col_left { text-align: left !important; display: block;}\n",
       ".c3col_right { text-align: right !important; display: block;}\n",
       ".c3col_center { text-align: center !important; display: block;}\n",
       "</style>\n",
       "\n",
       "<table>\n",
       "\n",
       "<caption>\n",
       "<span class=\"cell_title\">Global params</span>\n",
       "</caption>\n",
       "<thead class=\"head_cell\">\n",
       "<th>A/C</th><th>A/G</th><th>A/T</th><th>C/G</th><th>C/T</th><th>omega</th>\n",
       "</thead>\n",
       "<tbody>\n",
       "<tr><td><span class=\"c3col_right\">1.08</span></td><td><span class=\"c3col_right\">3.86</span></td><td><span class=\"c3col_right\">0.78</span></td><td><span class=\"c3col_right\">1.96</span></td><td><span class=\"c3col_right\">4.08</span></td><td><span class=\"c3col_right\">0.75</span></td></tr>\n",
       "</tbody>\n",
       "</table>\n",
       "\n",
       "</div>\n",
       "\n",
       "<div class=\"c3table\">\n",
       "\n",
       "<style>\n",
       ".c3table table {margin: 10px 0;}\n",
       ".c3table tr:last-child {border-bottom: 1px solid #000;} \n",
       ".c3table tr > th {text-align: left; padding: 0 5px;}\n",
       ".c3table tr > td {text-align: left; padding: 5px;}\n",
       ".c3table tr:nth-child(even) {background: #f7f7f7 !important;}\n",
       ".c3table .ellipsis {background: rgba(0, 0, 0, .01);}\n",
       ".c3table .index {background: rgba(161, 195, 209, 0.0); margin: 10px; font-weight: 600;}\n",
       ".c3table .head_cell {background: rgba(161, 195, 209, 0.75); font-weight: bold; text-align: center;}\n",
       ".c3table caption {color: rgb(250, 250, 250); background: rgba(30, 140, 200, 1); padding: 3px; white-space: nowrap; caption-side: top;}\n",
       ".c3table .cell_title {font-weight: bold;}\n",
       ".c3col_left { text-align: left !important; display: block;}\n",
       ".c3col_right { text-align: right !important; display: block;}\n",
       ".c3col_center { text-align: center !important; display: block;}\n",
       "</style>\n",
       "\n",
       "<table>\n",
       "\n",
       "<caption>\n",
       "<span class=\"cell_title\">Edge params</span>\n",
       "</caption>\n",
       "<thead class=\"head_cell\">\n",
       "<th>edge</th><th>parent</th><th>length</th>\n",
       "</thead>\n",
       "<tbody>\n",
       "<tr><td><span class=\"c3col_left\">Galago</span></td><td><span class=\"c3col_left\">root</span></td><td><span class=\"c3col_right\">0.53</span></td></tr>\n",
       "<tr><td><span class=\"c3col_left\">HowlerMon</span></td><td><span class=\"c3col_left\">root</span></td><td><span class=\"c3col_right\">0.14</span></td></tr>\n",
       "<tr><td><span class=\"c3col_left\">Rhesus</span></td><td><span class=\"c3col_left\">edge.3</span></td><td><span class=\"c3col_right\">0.07</span></td></tr>\n",
       "<tr><td><span class=\"c3col_left\">Orangutan</span></td><td><span class=\"c3col_left\">edge.2</span></td><td><span class=\"c3col_right\">0.02</span></td></tr>\n",
       "<tr><td><span class=\"c3col_left\">Gorilla</span></td><td><span class=\"c3col_left\">edge.1</span></td><td><span class=\"c3col_right\">0.01</span></td></tr>\n",
       "<tr><td><span class=\"c3col_left\">Human</span></td><td><span class=\"c3col_left\">edge.0</span></td><td><span class=\"c3col_right\">0.02</span></td></tr>\n",
       "<tr><td><span class=\"c3col_left\">Chimpanzee</span></td><td><span class=\"c3col_left\">edge.0</span></td><td><span class=\"c3col_right\">0.01</span></td></tr>\n",
       "<tr><td><span class=\"c3col_left\">edge.0</span></td><td><span class=\"c3col_left\">edge.1</span></td><td><span class=\"c3col_right\">0.00</span></td></tr>\n",
       "<tr><td><span class=\"c3col_left\">edge.1</span></td><td><span class=\"c3col_left\">edge.2</span></td><td><span class=\"c3col_right\">0.01</span></td></tr>\n",
       "<tr><td><span class=\"c3col_left\">edge.2</span></td><td><span class=\"c3col_left\">edge.3</span></td><td><span class=\"c3col_right\">0.03</span></td></tr>\n",
       "<tr><td><span class=\"c3col_left\">edge.3</span></td><td><span class=\"c3col_left\">root</span></td><td><span class=\"c3col_right\">0.02</span></td></tr>\n",
       "</tbody>\n",
       "</table>\n",
       "\n",
       "</div>\n",
       "\n",
       "<div class=\"c3table\">\n",
       "\n",
       "<style>\n",
       ".c3table table {margin: 10px 0;}\n",
       ".c3table tr:last-child {border-bottom: 1px solid #000;} \n",
       ".c3table tr > th {text-align: left; padding: 0 5px;}\n",
       ".c3table tr > td {text-align: left; padding: 5px;}\n",
       ".c3table tr:nth-child(even) {background: #f7f7f7 !important;}\n",
       ".c3table .ellipsis {background: rgba(0, 0, 0, .01);}\n",
       ".c3table .index {background: rgba(161, 195, 209, 0.0); margin: 10px; font-weight: 600;}\n",
       ".c3table .head_cell {background: rgba(161, 195, 209, 0.75); font-weight: bold; text-align: center;}\n",
       ".c3table caption {color: rgb(250, 250, 250); background: rgba(30, 140, 200, 1); padding: 3px; white-space: nowrap; caption-side: top;}\n",
       ".c3table .cell_title {font-weight: bold;}\n",
       ".c3col_left { text-align: left !important; display: block;}\n",
       ".c3col_right { text-align: right !important; display: block;}\n",
       ".c3col_center { text-align: center !important; display: block;}\n",
       "</style>\n",
       "\n",
       "<table>\n",
       "\n",
       "<caption>\n",
       "<span class=\"cell_title\">Motif params</span>\n",
       "</caption>\n",
       "<thead class=\"head_cell\">\n",
       "<th>AAA</th><th>AAC</th><th>AAG</th><th>AAT</th><th>ACA</th><th>ACC</th><th>ACG</th><th>ACT</th><th>AGA</th><th>AGC</th><th>AGG</th><th>AGT</th><th>ATA</th>\n",
       "</thead>\n",
       "<tbody>\n",
       "<tr><td><span class=\"c3col_right\">0.06</span></td><td><span class=\"c3col_right\">0.02</span></td><td><span class=\"c3col_right\">0.03</span></td><td><span class=\"c3col_right\">0.06</span></td><td><span class=\"c3col_right\">0.02</span></td><td><span class=\"c3col_right\">0.00</span></td><td><span class=\"c3col_right\">0.00</span></td><td><span class=\"c3col_right\">0.03</span></td><td><span class=\"c3col_right\">0.02</span></td><td><span class=\"c3col_right\">0.03</span></td><td><span class=\"c3col_right\">0.01</span></td><td><span class=\"c3col_right\">0.04</span></td><td><span class=\"c3col_right\">0.02</span></td></tr>\n",
       "</tbody>\n",
       "</table>\n",
       "\n",
       "<table>\n",
       "\n",
       "<caption>\n",
       "<span class=\"cell_title\">continuation</span>\n",
       "</caption>\n",
       "<thead class=\"head_cell\">\n",
       "<th>ATC</th><th>ATG</th><th>ATT</th><th>CAA</th><th>CAC</th><th>CAG</th><th>CAT</th><th>CCA</th><th>CCC</th><th>CCG</th><th>CCT</th><th>CGA</th><th>CGC</th>\n",
       "</thead>\n",
       "<tbody>\n",
       "<tr><td><span class=\"c3col_right\">0.01</span></td><td><span class=\"c3col_right\">0.01</span></td><td><span class=\"c3col_right\">0.02</span></td><td><span class=\"c3col_right\">0.02</span></td><td><span class=\"c3col_right\">0.01</span></td><td><span class=\"c3col_right\">0.02</span></td><td><span class=\"c3col_right\">0.02</span></td><td><span class=\"c3col_right\">0.02</span></td><td><span class=\"c3col_right\">0.01</span></td><td><span class=\"c3col_right\">0.00</span></td><td><span class=\"c3col_right\">0.03</span></td><td><span class=\"c3col_right\">0.00</span></td><td><span class=\"c3col_right\">0.00</span></td></tr>\n",
       "</tbody>\n",
       "</table>\n",
       "\n",
       "<table>\n",
       "\n",
       "<caption>\n",
       "<span class=\"cell_title\">continuation</span>\n",
       "</caption>\n",
       "<thead class=\"head_cell\">\n",
       "<th>CGG</th><th>CGT</th><th>CTA</th><th>CTC</th><th>CTG</th><th>CTT</th><th>GAA</th><th>GAC</th><th>GAG</th><th>GAT</th><th>GCA</th><th>GCC</th><th>GCG</th>\n",
       "</thead>\n",
       "<tbody>\n",
       "<tr><td><span class=\"c3col_right\">0.00</span></td><td><span class=\"c3col_right\">0.00</span></td><td><span class=\"c3col_right\">0.01</span></td><td><span class=\"c3col_right\">0.01</span></td><td><span class=\"c3col_right\">0.01</span></td><td><span class=\"c3col_right\">0.01</span></td><td><span class=\"c3col_right\">0.08</span></td><td><span class=\"c3col_right\">0.01</span></td><td><span class=\"c3col_right\">0.03</span></td><td><span class=\"c3col_right\">0.03</span></td><td><span class=\"c3col_right\">0.02</span></td><td><span class=\"c3col_right\">0.01</span></td><td><span class=\"c3col_right\">0.00</span></td></tr>\n",
       "</tbody>\n",
       "</table>\n",
       "\n",
       "<table>\n",
       "\n",
       "<caption>\n",
       "<span class=\"cell_title\">continuation</span>\n",
       "</caption>\n",
       "<thead class=\"head_cell\">\n",
       "<th>GCT</th><th>GGA</th><th>GGC</th><th>GGG</th><th>GGT</th><th>GTA</th><th>GTC</th><th>GTG</th><th>GTT</th><th>TAC</th><th>TAT</th><th>TCA</th><th>TCC</th>\n",
       "</thead>\n",
       "<tbody>\n",
       "<tr><td><span class=\"c3col_right\">0.01</span></td><td><span class=\"c3col_right\">0.02</span></td><td><span class=\"c3col_right\">0.01</span></td><td><span class=\"c3col_right\">0.01</span></td><td><span class=\"c3col_right\">0.01</span></td><td><span class=\"c3col_right\">0.01</span></td><td><span class=\"c3col_right\">0.01</span></td><td><span class=\"c3col_right\">0.01</span></td><td><span class=\"c3col_right\">0.02</span></td><td><span class=\"c3col_right\">0.00</span></td><td><span class=\"c3col_right\">0.01</span></td><td><span class=\"c3col_right\">0.02</span></td><td><span class=\"c3col_right\">0.01</span></td></tr>\n",
       "</tbody>\n",
       "</table>\n",
       "\n",
       "<table>\n",
       "\n",
       "<caption>\n",
       "<span class=\"cell_title\">continuation</span>\n",
       "</caption>\n",
       "<thead class=\"head_cell\">\n",
       "<th>TCG</th><th>TCT</th><th>TGC</th><th>TGG</th><th>TGT</th><th>TTA</th><th>TTC</th><th>TTG</th><th>TTT</th>\n",
       "</thead>\n",
       "<tbody>\n",
       "<tr><td><span class=\"c3col_right\">0.00</span></td><td><span class=\"c3col_right\">0.03</span></td><td><span class=\"c3col_right\">0.00</span></td><td><span class=\"c3col_right\">0.00</span></td><td><span class=\"c3col_right\">0.02</span></td><td><span class=\"c3col_right\">0.02</span></td><td><span class=\"c3col_right\">0.01</span></td><td><span class=\"c3col_right\">0.01</span></td><td><span class=\"c3col_right\">0.02</span></td></tr>\n",
       "</tbody>\n",
       "</table>\n",
       "\n",
       "</div>"
      ],
      "text/plain": [
       "CNFGTR\n",
       "log-likelihood = -6762.5761\n",
       "number of free parameters = 17\n",
       "========================================\n",
       " A/C    A/G    A/T    C/G    C/T   omega\n",
       "----------------------------------------\n",
       "1.08   3.86   0.78   1.96   4.08    0.75\n",
       "----------------------------------------\n",
       "============================\n",
       "edge         parent   length\n",
       "----------------------------\n",
       "Galago       root       0.53\n",
       "HowlerMon    root       0.14\n",
       "Rhesus       edge.3     0.07\n",
       "Orangutan    edge.2     0.02\n",
       "Gorilla      edge.1     0.01\n",
       "Human        edge.0     0.02\n",
       "Chimpanzee   edge.0     0.01\n",
       "edge.0       edge.1     0.00\n",
       "edge.1       edge.2     0.01\n",
       "edge.2       edge.3     0.03\n",
       "edge.3       root       0.02\n",
       "----------------------------\n",
       "==========================================================================\n",
       " AAA    AAC    AAG    AAT    ACA    ACC    ACG    ACT    AGA    AGC    AGG\n",
       "--------------------------------------------------------------------------\n",
       "0.06   0.02   0.03   0.06   0.02   0.00   0.00   0.03   0.02   0.03   0.01\n",
       "--------------------------------------------------------------------------\n",
       "\n",
       "continued: \n",
       "==========================================================================\n",
       " AGT    ATA    ATC    ATG    ATT    CAA    CAC    CAG    CAT    CCA    CCC\n",
       "--------------------------------------------------------------------------\n",
       "0.04   0.02   0.01   0.01   0.02   0.02   0.01   0.02   0.02   0.02   0.01\n",
       "--------------------------------------------------------------------------\n",
       "\n",
       "continued: \n",
       "==========================================================================\n",
       " CCG    CCT    CGA    CGC    CGG    CGT    CTA    CTC    CTG    CTT    GAA\n",
       "--------------------------------------------------------------------------\n",
       "0.00   0.03   0.00   0.00   0.00   0.00   0.01   0.01   0.01   0.01   0.08\n",
       "--------------------------------------------------------------------------\n",
       "\n",
       "continued: \n",
       "==========================================================================\n",
       " GAC    GAG    GAT    GCA    GCC    GCG    GCT    GGA    GGC    GGG    GGT\n",
       "--------------------------------------------------------------------------\n",
       "0.01   0.03   0.03   0.02   0.01   0.00   0.01   0.02   0.01   0.01   0.01\n",
       "--------------------------------------------------------------------------\n",
       "\n",
       "continued: \n",
       "==========================================================================\n",
       " GTA    GTC    GTG    GTT    TAC    TAT    TCA    TCC    TCG    TCT    TGC\n",
       "--------------------------------------------------------------------------\n",
       "0.01   0.01   0.01   0.02   0.00   0.01   0.02   0.01   0.00   0.03   0.00\n",
       "--------------------------------------------------------------------------\n",
       "\n",
       "continued: \n",
       "=======================================\n",
       " TGG    TGT    TTA    TTC    TTG    TTT\n",
       "---------------------------------------\n",
       "0.00   0.02   0.02   0.01   0.01   0.02\n",
       "---------------------------------------"
      ]
     },
     "execution_count": 7,
     "metadata": {},
     "output_type": "execute_result"
    }
   ],
   "source": [
    "neutral_lnL = lf.get_log_likelihood()\n",
    "neutral_nfp = lf.get_num_free_params()\n",
    "lf.set_param_rule(\"omega\", is_constant=False)\n",
    "lf.optimise(**optimiser_args)\n",
    "non_neutral_lnL = lf.get_log_likelihood()\n",
    "non_neutral_nfp = lf.get_num_free_params()\n",
    "lf"
   ]
  },
  {
   "cell_type": "code",
   "execution_count": 8,
   "id": "ae01f00a",
   "metadata": {
    "execution": {
     "iopub.execute_input": "2023-01-15T01:19:18.579710Z",
     "iopub.status.busy": "2023-01-15T01:19:18.578959Z",
     "iopub.status.idle": "2023-01-15T01:19:18.581743Z",
     "shell.execute_reply": "2023-01-15T01:19:18.582192Z"
    }
   },
   "outputs": [
    {
     "name": "stdout",
     "output_type": "stream",
     "text": [
      "0.002635763176761208\n"
     ]
    }
   ],
   "source": [
    "from scipy.stats.distributions import chi2\n",
    "\n",
    "LR = 2 * (non_neutral_lnL - neutral_lnL)\n",
    "df = non_neutral_nfp - neutral_nfp\n",
    "print(chi2.sf(LR, df))"
   ]
  },
  {
   "cell_type": "code",
   "execution_count": 9,
   "id": "08e487d1",
   "metadata": {
    "execution": {
     "iopub.execute_input": "2023-01-15T01:19:18.586561Z",
     "iopub.status.busy": "2023-01-15T01:19:18.585783Z",
     "iopub.status.idle": "2023-01-15T01:19:23.155388Z",
     "shell.execute_reply": "2023-01-15T01:19:23.155962Z"
    }
   },
   "outputs": [],
   "source": [
    "lf.set_param_rule(\n",
    "    \"omega\", tip_names=[\"Chimpanzee\", \"Human\"], outgroup_name=\"Galago\", clade=True\n",
    ")\n",
    "lf.optimise(**optimiser_args)\n",
    "lf\n",
    "chimp_human_clade_lnL = lf.get_log_likelihood()\n",
    "chimp_human_clade_nfp = lf.get_num_free_params()"
   ]
  },
  {
   "cell_type": "code",
   "execution_count": 10,
   "id": "d8eb873b",
   "metadata": {
    "execution": {
     "iopub.execute_input": "2023-01-15T01:19:23.161436Z",
     "iopub.status.busy": "2023-01-15T01:19:23.160511Z",
     "iopub.status.idle": "2023-01-15T01:19:23.163703Z",
     "shell.execute_reply": "2023-01-15T01:19:23.164224Z"
    }
   },
   "outputs": [
    {
     "name": "stdout",
     "output_type": "stream",
     "text": [
      "0.02842632489854714\n"
     ]
    }
   ],
   "source": [
    "LR = 2 * (chimp_human_clade_lnL - non_neutral_lnL)\n",
    "df = chimp_human_clade_nfp - non_neutral_nfp\n",
    "print(chi2.sf(LR, df))"
   ]
  },
  {
   "cell_type": "code",
   "execution_count": 11,
   "id": "d912091b",
   "metadata": {
    "execution": {
     "iopub.execute_input": "2023-01-15T01:19:23.169933Z",
     "iopub.status.busy": "2023-01-15T01:19:23.169145Z",
     "iopub.status.idle": "2023-01-15T01:19:28.192819Z",
     "shell.execute_reply": "2023-01-15T01:19:28.193595Z"
    }
   },
   "outputs": [],
   "source": [
    "lf = cnf.make_likelihood_function(tree, digits=2, space=3)\n",
    "lf.set_alignment(aln)\n",
    "lf.optimise(**optimiser_args)\n",
    "non_neutral_lnL = lf.get_log_likelihood()\n",
    "non_neutral_nfp = lf.get_num_free_params()"
   ]
  },
  {
   "cell_type": "code",
   "execution_count": 12,
   "id": "ff077b13",
   "metadata": {
    "execution": {
     "iopub.execute_input": "2023-01-15T01:19:28.203715Z",
     "iopub.status.busy": "2023-01-15T01:19:28.202779Z",
     "iopub.status.idle": "2023-01-15T01:19:28.205237Z",
     "shell.execute_reply": "2023-01-15T01:19:28.205951Z"
    }
   },
   "outputs": [],
   "source": [
    "annot_tree = lf.get_annotated_tree()\n",
    "omega_mle = lf.get_param_value(\"omega\")"
   ]
  },
  {
   "cell_type": "code",
   "execution_count": 13,
   "id": "b7410225",
   "metadata": {
    "execution": {
     "iopub.execute_input": "2023-01-15T01:19:28.213096Z",
     "iopub.status.busy": "2023-01-15T01:19:28.212173Z",
     "iopub.status.idle": "2023-01-15T01:19:28.221911Z",
     "shell.execute_reply": "2023-01-15T01:19:28.222624Z"
    }
   },
   "outputs": [],
   "source": [
    "rate_lf = cnf.make_likelihood_function(\n",
    "    annot_tree, bins=[\"neutral\", \"adaptive\"], digits=2, space=3\n",
    ")"
   ]
  },
  {
   "cell_type": "code",
   "execution_count": 14,
   "id": "3144ef5b",
   "metadata": {
    "execution": {
     "iopub.execute_input": "2023-01-15T01:19:28.227553Z",
     "iopub.status.busy": "2023-01-15T01:19:28.226551Z",
     "iopub.status.idle": "2023-01-15T01:19:28.229141Z",
     "shell.execute_reply": "2023-01-15T01:19:28.229732Z"
    }
   },
   "outputs": [],
   "source": [
    "epsilon = 1e-6"
   ]
  },
  {
   "cell_type": "code",
   "execution_count": 15,
   "id": "090e3814",
   "metadata": {
    "execution": {
     "iopub.execute_input": "2023-01-15T01:19:28.235275Z",
     "iopub.status.busy": "2023-01-15T01:19:28.234420Z",
     "iopub.status.idle": "2023-01-15T01:19:28.249607Z",
     "shell.execute_reply": "2023-01-15T01:19:28.250376Z"
    }
   },
   "outputs": [],
   "source": [
    "rate_lf.set_param_rule(\"omega\", bin=\"neutral\", upper=1, init=omega_mle)\n",
    "rate_lf.set_param_rule(\n",
    "    \"omega\", bin=\"adaptive\", lower=1 + epsilon, upper=100, init=1 + 2 * epsilon\n",
    ")"
   ]
  },
  {
   "cell_type": "code",
   "execution_count": 16,
   "id": "ffd20e0e",
   "metadata": {
    "execution": {
     "iopub.execute_input": "2023-01-15T01:19:28.255434Z",
     "iopub.status.busy": "2023-01-15T01:19:28.254531Z",
     "iopub.status.idle": "2023-01-15T01:19:28.256914Z",
     "shell.execute_reply": "2023-01-15T01:19:28.257845Z"
    }
   },
   "outputs": [],
   "source": [
    "rate_lf.set_param_rule(\"bprobs\", init=[1 - epsilon, epsilon])"
   ]
  },
  {
   "cell_type": "code",
   "execution_count": 17,
   "id": "5819deb1",
   "metadata": {
    "execution": {
     "iopub.execute_input": "2023-01-15T01:19:28.271063Z",
     "iopub.status.busy": "2023-01-15T01:19:28.270173Z",
     "iopub.status.idle": "2023-01-15T01:19:58.494166Z",
     "shell.execute_reply": "2023-01-15T01:19:58.495296Z"
    }
   },
   "outputs": [
    {
     "data": {
      "text/html": [
       "<h4>CNFGTR</h4>\n",
       "<p>log-likelihood = -6755.4520</p>\n",
       "<p>number of free parameters = 19</p>\n",
       "\n",
       "<div class=\"c3table\">\n",
       "\n",
       "<style>\n",
       ".c3table table {margin: 10px 0;}\n",
       ".c3table tr:last-child {border-bottom: 1px solid #000;} \n",
       ".c3table tr > th {text-align: left; padding: 0 5px;}\n",
       ".c3table tr > td {text-align: left; padding: 5px;}\n",
       ".c3table tr:nth-child(even) {background: #f7f7f7 !important;}\n",
       ".c3table .ellipsis {background: rgba(0, 0, 0, .01);}\n",
       ".c3table .index {background: rgba(161, 195, 209, 0.0); margin: 10px; font-weight: 600;}\n",
       ".c3table .head_cell {background: rgba(161, 195, 209, 0.75); font-weight: bold; text-align: center;}\n",
       ".c3table caption {color: rgb(250, 250, 250); background: rgba(30, 140, 200, 1); padding: 3px; white-space: nowrap; caption-side: top;}\n",
       ".c3table .cell_title {font-weight: bold;}\n",
       ".c3col_left { text-align: left !important; display: block;}\n",
       ".c3col_right { text-align: right !important; display: block;}\n",
       ".c3col_center { text-align: center !important; display: block;}\n",
       "</style>\n",
       "\n",
       "<table>\n",
       "\n",
       "<caption>\n",
       "<span class=\"cell_title\">Global params</span>\n",
       "</caption>\n",
       "<thead class=\"head_cell\">\n",
       "<th>A/C</th><th>A/G</th><th>A/T</th><th>C/G</th><th>C/T</th>\n",
       "</thead>\n",
       "<tbody>\n",
       "<tr><td><span class=\"c3col_right\">1.07</span></td><td><span class=\"c3col_right\">3.96</span></td><td><span class=\"c3col_right\">0.78</span></td><td><span class=\"c3col_right\">1.96</span></td><td><span class=\"c3col_right\">4.20</span></td></tr>\n",
       "</tbody>\n",
       "</table>\n",
       "\n",
       "</div>\n",
       "\n",
       "<div class=\"c3table\">\n",
       "\n",
       "<style>\n",
       ".c3table table {margin: 10px 0;}\n",
       ".c3table tr:last-child {border-bottom: 1px solid #000;} \n",
       ".c3table tr > th {text-align: left; padding: 0 5px;}\n",
       ".c3table tr > td {text-align: left; padding: 5px;}\n",
       ".c3table tr:nth-child(even) {background: #f7f7f7 !important;}\n",
       ".c3table .ellipsis {background: rgba(0, 0, 0, .01);}\n",
       ".c3table .index {background: rgba(161, 195, 209, 0.0); margin: 10px; font-weight: 600;}\n",
       ".c3table .head_cell {background: rgba(161, 195, 209, 0.75); font-weight: bold; text-align: center;}\n",
       ".c3table caption {color: rgb(250, 250, 250); background: rgba(30, 140, 200, 1); padding: 3px; white-space: nowrap; caption-side: top;}\n",
       ".c3table .cell_title {font-weight: bold;}\n",
       ".c3col_left { text-align: left !important; display: block;}\n",
       ".c3col_right { text-align: right !important; display: block;}\n",
       ".c3col_center { text-align: center !important; display: block;}\n",
       "</style>\n",
       "\n",
       "<table>\n",
       "\n",
       "<caption>\n",
       "<span class=\"cell_title\">Bin params</span>\n",
       "</caption>\n",
       "<thead class=\"head_cell\">\n",
       "<th>bin</th><th>bprobs</th><th>omega</th>\n",
       "</thead>\n",
       "<tbody>\n",
       "<tr><td><span class=\"c3col_left\">neutral</span></td><td><span class=\"c3col_right\">0.14</span></td><td><span class=\"c3col_right\">0.01</span></td></tr>\n",
       "<tr><td><span class=\"c3col_left\">adaptive</span></td><td><span class=\"c3col_right\">0.86</span></td><td><span class=\"c3col_right\">1.17</span></td></tr>\n",
       "</tbody>\n",
       "</table>\n",
       "\n",
       "</div>\n",
       "\n",
       "<div class=\"c3table\">\n",
       "\n",
       "<style>\n",
       ".c3table table {margin: 10px 0;}\n",
       ".c3table tr:last-child {border-bottom: 1px solid #000;} \n",
       ".c3table tr > th {text-align: left; padding: 0 5px;}\n",
       ".c3table tr > td {text-align: left; padding: 5px;}\n",
       ".c3table tr:nth-child(even) {background: #f7f7f7 !important;}\n",
       ".c3table .ellipsis {background: rgba(0, 0, 0, .01);}\n",
       ".c3table .index {background: rgba(161, 195, 209, 0.0); margin: 10px; font-weight: 600;}\n",
       ".c3table .head_cell {background: rgba(161, 195, 209, 0.75); font-weight: bold; text-align: center;}\n",
       ".c3table caption {color: rgb(250, 250, 250); background: rgba(30, 140, 200, 1); padding: 3px; white-space: nowrap; caption-side: top;}\n",
       ".c3table .cell_title {font-weight: bold;}\n",
       ".c3col_left { text-align: left !important; display: block;}\n",
       ".c3col_right { text-align: right !important; display: block;}\n",
       ".c3col_center { text-align: center !important; display: block;}\n",
       "</style>\n",
       "\n",
       "<table>\n",
       "\n",
       "<caption>\n",
       "<span class=\"cell_title\">Edge params</span>\n",
       "</caption>\n",
       "<thead class=\"head_cell\">\n",
       "<th>edge</th><th>parent</th><th>length</th>\n",
       "</thead>\n",
       "<tbody>\n",
       "<tr><td><span class=\"c3col_left\">Galago</span></td><td><span class=\"c3col_left\">root</span></td><td><span class=\"c3col_right\">0.56</span></td></tr>\n",
       "<tr><td><span class=\"c3col_left\">HowlerMon</span></td><td><span class=\"c3col_left\">root</span></td><td><span class=\"c3col_right\">0.14</span></td></tr>\n",
       "<tr><td><span class=\"c3col_left\">Rhesus</span></td><td><span class=\"c3col_left\">edge.3</span></td><td><span class=\"c3col_right\">0.07</span></td></tr>\n",
       "<tr><td><span class=\"c3col_left\">Orangutan</span></td><td><span class=\"c3col_left\">edge.2</span></td><td><span class=\"c3col_right\">0.02</span></td></tr>\n",
       "<tr><td><span class=\"c3col_left\">Gorilla</span></td><td><span class=\"c3col_left\">edge.1</span></td><td><span class=\"c3col_right\">0.01</span></td></tr>\n",
       "<tr><td><span class=\"c3col_left\">Human</span></td><td><span class=\"c3col_left\">edge.0</span></td><td><span class=\"c3col_right\">0.02</span></td></tr>\n",
       "<tr><td><span class=\"c3col_left\">Chimpanzee</span></td><td><span class=\"c3col_left\">edge.0</span></td><td><span class=\"c3col_right\">0.01</span></td></tr>\n",
       "<tr><td><span class=\"c3col_left\">edge.0</span></td><td><span class=\"c3col_left\">edge.1</span></td><td><span class=\"c3col_right\">0.00</span></td></tr>\n",
       "<tr><td><span class=\"c3col_left\">edge.1</span></td><td><span class=\"c3col_left\">edge.2</span></td><td><span class=\"c3col_right\">0.01</span></td></tr>\n",
       "<tr><td><span class=\"c3col_left\">edge.2</span></td><td><span class=\"c3col_left\">edge.3</span></td><td><span class=\"c3col_right\">0.03</span></td></tr>\n",
       "<tr><td><span class=\"c3col_left\">edge.3</span></td><td><span class=\"c3col_left\">root</span></td><td><span class=\"c3col_right\">0.02</span></td></tr>\n",
       "</tbody>\n",
       "</table>\n",
       "\n",
       "</div>\n",
       "\n",
       "<div class=\"c3table\">\n",
       "\n",
       "<style>\n",
       ".c3table table {margin: 10px 0;}\n",
       ".c3table tr:last-child {border-bottom: 1px solid #000;} \n",
       ".c3table tr > th {text-align: left; padding: 0 5px;}\n",
       ".c3table tr > td {text-align: left; padding: 5px;}\n",
       ".c3table tr:nth-child(even) {background: #f7f7f7 !important;}\n",
       ".c3table .ellipsis {background: rgba(0, 0, 0, .01);}\n",
       ".c3table .index {background: rgba(161, 195, 209, 0.0); margin: 10px; font-weight: 600;}\n",
       ".c3table .head_cell {background: rgba(161, 195, 209, 0.75); font-weight: bold; text-align: center;}\n",
       ".c3table caption {color: rgb(250, 250, 250); background: rgba(30, 140, 200, 1); padding: 3px; white-space: nowrap; caption-side: top;}\n",
       ".c3table .cell_title {font-weight: bold;}\n",
       ".c3col_left { text-align: left !important; display: block;}\n",
       ".c3col_right { text-align: right !important; display: block;}\n",
       ".c3col_center { text-align: center !important; display: block;}\n",
       "</style>\n",
       "\n",
       "<table>\n",
       "\n",
       "<caption>\n",
       "<span class=\"cell_title\">Motif params</span>\n",
       "</caption>\n",
       "<thead class=\"head_cell\">\n",
       "<th>AAA</th><th>AAC</th><th>AAG</th><th>AAT</th><th>ACA</th><th>ACC</th><th>ACG</th><th>ACT</th><th>AGA</th><th>AGC</th><th>AGG</th><th>AGT</th><th>ATA</th>\n",
       "</thead>\n",
       "<tbody>\n",
       "<tr><td><span class=\"c3col_right\">0.06</span></td><td><span class=\"c3col_right\">0.02</span></td><td><span class=\"c3col_right\">0.03</span></td><td><span class=\"c3col_right\">0.06</span></td><td><span class=\"c3col_right\">0.02</span></td><td><span class=\"c3col_right\">0.00</span></td><td><span class=\"c3col_right\">0.00</span></td><td><span class=\"c3col_right\">0.03</span></td><td><span class=\"c3col_right\">0.02</span></td><td><span class=\"c3col_right\">0.03</span></td><td><span class=\"c3col_right\">0.01</span></td><td><span class=\"c3col_right\">0.04</span></td><td><span class=\"c3col_right\">0.02</span></td></tr>\n",
       "</tbody>\n",
       "</table>\n",
       "\n",
       "<table>\n",
       "\n",
       "<caption>\n",
       "<span class=\"cell_title\">continuation</span>\n",
       "</caption>\n",
       "<thead class=\"head_cell\">\n",
       "<th>ATC</th><th>ATG</th><th>ATT</th><th>CAA</th><th>CAC</th><th>CAG</th><th>CAT</th><th>CCA</th><th>CCC</th><th>CCG</th><th>CCT</th><th>CGA</th><th>CGC</th>\n",
       "</thead>\n",
       "<tbody>\n",
       "<tr><td><span class=\"c3col_right\">0.01</span></td><td><span class=\"c3col_right\">0.01</span></td><td><span class=\"c3col_right\">0.02</span></td><td><span class=\"c3col_right\">0.02</span></td><td><span class=\"c3col_right\">0.01</span></td><td><span class=\"c3col_right\">0.02</span></td><td><span class=\"c3col_right\">0.02</span></td><td><span class=\"c3col_right\">0.02</span></td><td><span class=\"c3col_right\">0.01</span></td><td><span class=\"c3col_right\">0.00</span></td><td><span class=\"c3col_right\">0.03</span></td><td><span class=\"c3col_right\">0.00</span></td><td><span class=\"c3col_right\">0.00</span></td></tr>\n",
       "</tbody>\n",
       "</table>\n",
       "\n",
       "<table>\n",
       "\n",
       "<caption>\n",
       "<span class=\"cell_title\">continuation</span>\n",
       "</caption>\n",
       "<thead class=\"head_cell\">\n",
       "<th>CGG</th><th>CGT</th><th>CTA</th><th>CTC</th><th>CTG</th><th>CTT</th><th>GAA</th><th>GAC</th><th>GAG</th><th>GAT</th><th>GCA</th><th>GCC</th><th>GCG</th>\n",
       "</thead>\n",
       "<tbody>\n",
       "<tr><td><span class=\"c3col_right\">0.00</span></td><td><span class=\"c3col_right\">0.00</span></td><td><span class=\"c3col_right\">0.01</span></td><td><span class=\"c3col_right\">0.01</span></td><td><span class=\"c3col_right\">0.01</span></td><td><span class=\"c3col_right\">0.01</span></td><td><span class=\"c3col_right\">0.08</span></td><td><span class=\"c3col_right\">0.01</span></td><td><span class=\"c3col_right\">0.03</span></td><td><span class=\"c3col_right\">0.03</span></td><td><span class=\"c3col_right\">0.02</span></td><td><span class=\"c3col_right\">0.01</span></td><td><span class=\"c3col_right\">0.00</span></td></tr>\n",
       "</tbody>\n",
       "</table>\n",
       "\n",
       "<table>\n",
       "\n",
       "<caption>\n",
       "<span class=\"cell_title\">continuation</span>\n",
       "</caption>\n",
       "<thead class=\"head_cell\">\n",
       "<th>GCT</th><th>GGA</th><th>GGC</th><th>GGG</th><th>GGT</th><th>GTA</th><th>GTC</th><th>GTG</th><th>GTT</th><th>TAC</th><th>TAT</th><th>TCA</th><th>TCC</th>\n",
       "</thead>\n",
       "<tbody>\n",
       "<tr><td><span class=\"c3col_right\">0.01</span></td><td><span class=\"c3col_right\">0.02</span></td><td><span class=\"c3col_right\">0.01</span></td><td><span class=\"c3col_right\">0.01</span></td><td><span class=\"c3col_right\">0.01</span></td><td><span class=\"c3col_right\">0.01</span></td><td><span class=\"c3col_right\">0.01</span></td><td><span class=\"c3col_right\">0.01</span></td><td><span class=\"c3col_right\">0.02</span></td><td><span class=\"c3col_right\">0.00</span></td><td><span class=\"c3col_right\">0.01</span></td><td><span class=\"c3col_right\">0.02</span></td><td><span class=\"c3col_right\">0.01</span></td></tr>\n",
       "</tbody>\n",
       "</table>\n",
       "\n",
       "<table>\n",
       "\n",
       "<caption>\n",
       "<span class=\"cell_title\">continuation</span>\n",
       "</caption>\n",
       "<thead class=\"head_cell\">\n",
       "<th>TCG</th><th>TCT</th><th>TGC</th><th>TGG</th><th>TGT</th><th>TTA</th><th>TTC</th><th>TTG</th><th>TTT</th>\n",
       "</thead>\n",
       "<tbody>\n",
       "<tr><td><span class=\"c3col_right\">0.00</span></td><td><span class=\"c3col_right\">0.03</span></td><td><span class=\"c3col_right\">0.00</span></td><td><span class=\"c3col_right\">0.00</span></td><td><span class=\"c3col_right\">0.02</span></td><td><span class=\"c3col_right\">0.02</span></td><td><span class=\"c3col_right\">0.01</span></td><td><span class=\"c3col_right\">0.01</span></td><td><span class=\"c3col_right\">0.02</span></td></tr>\n",
       "</tbody>\n",
       "</table>\n",
       "\n",
       "</div>"
      ],
      "text/plain": [
       "CNFGTR\n",
       "log-likelihood = -6755.4520\n",
       "number of free parameters = 19\n",
       "================================\n",
       " A/C    A/G    A/T    C/G    C/T\n",
       "--------------------------------\n",
       "1.07   3.96   0.78   1.96   4.20\n",
       "--------------------------------\n",
       "=========================\n",
       "bin        bprobs   omega\n",
       "-------------------------\n",
       "neutral      0.14    0.01\n",
       "adaptive     0.86    1.17\n",
       "-------------------------\n",
       "============================\n",
       "edge         parent   length\n",
       "----------------------------\n",
       "Galago       root       0.56\n",
       "HowlerMon    root       0.14\n",
       "Rhesus       edge.3     0.07\n",
       "Orangutan    edge.2     0.02\n",
       "Gorilla      edge.1     0.01\n",
       "Human        edge.0     0.02\n",
       "Chimpanzee   edge.0     0.01\n",
       "edge.0       edge.1     0.00\n",
       "edge.1       edge.2     0.01\n",
       "edge.2       edge.3     0.03\n",
       "edge.3       root       0.02\n",
       "----------------------------\n",
       "==========================================================================\n",
       " AAA    AAC    AAG    AAT    ACA    ACC    ACG    ACT    AGA    AGC    AGG\n",
       "--------------------------------------------------------------------------\n",
       "0.06   0.02   0.03   0.06   0.02   0.00   0.00   0.03   0.02   0.03   0.01\n",
       "--------------------------------------------------------------------------\n",
       "\n",
       "continued: \n",
       "==========================================================================\n",
       " AGT    ATA    ATC    ATG    ATT    CAA    CAC    CAG    CAT    CCA    CCC\n",
       "--------------------------------------------------------------------------\n",
       "0.04   0.02   0.01   0.01   0.02   0.02   0.01   0.02   0.02   0.02   0.01\n",
       "--------------------------------------------------------------------------\n",
       "\n",
       "continued: \n",
       "==========================================================================\n",
       " CCG    CCT    CGA    CGC    CGG    CGT    CTA    CTC    CTG    CTT    GAA\n",
       "--------------------------------------------------------------------------\n",
       "0.00   0.03   0.00   0.00   0.00   0.00   0.01   0.01   0.01   0.01   0.08\n",
       "--------------------------------------------------------------------------\n",
       "\n",
       "continued: \n",
       "==========================================================================\n",
       " GAC    GAG    GAT    GCA    GCC    GCG    GCT    GGA    GGC    GGG    GGT\n",
       "--------------------------------------------------------------------------\n",
       "0.01   0.03   0.03   0.02   0.01   0.00   0.01   0.02   0.01   0.01   0.01\n",
       "--------------------------------------------------------------------------\n",
       "\n",
       "continued: \n",
       "==========================================================================\n",
       " GTA    GTC    GTG    GTT    TAC    TAT    TCA    TCC    TCG    TCT    TGC\n",
       "--------------------------------------------------------------------------\n",
       "0.01   0.01   0.01   0.02   0.00   0.01   0.02   0.01   0.00   0.03   0.00\n",
       "--------------------------------------------------------------------------\n",
       "\n",
       "continued: \n",
       "=======================================\n",
       " TGG    TGT    TTA    TTC    TTG    TTT\n",
       "---------------------------------------\n",
       "0.00   0.02   0.02   0.01   0.01   0.02\n",
       "---------------------------------------"
      ]
     },
     "execution_count": 17,
     "metadata": {},
     "output_type": "execute_result"
    }
   ],
   "source": [
    "rate_lf.set_alignment(aln)\n",
    "rate_lf.optimise(**optimiser_args)\n",
    "rate_lnL = rate_lf.get_log_likelihood()\n",
    "rate_nfp = rate_lf.get_num_free_params()\n",
    "LR = 2 * (rate_lnL - non_neutral_lnL)\n",
    "df = rate_nfp - non_neutral_nfp\n",
    "rate_lf"
   ]
  },
  {
   "cell_type": "code",
   "execution_count": 18,
   "id": "f314dcd0",
   "metadata": {
    "execution": {
     "iopub.execute_input": "2023-01-15T01:19:58.502052Z",
     "iopub.status.busy": "2023-01-15T01:19:58.500915Z",
     "iopub.status.idle": "2023-01-15T01:19:58.506517Z",
     "shell.execute_reply": "2023-01-15T01:19:58.505587Z"
    }
   },
   "outputs": [
    {
     "name": "stdout",
     "output_type": "stream",
     "text": [
      "0.0008054431243594382\n"
     ]
    }
   ],
   "source": [
    "print(chi2.sf(LR, df))"
   ]
  },
  {
   "cell_type": "code",
   "execution_count": 19,
   "id": "4bc05d98",
   "metadata": {
    "execution": {
     "iopub.execute_input": "2023-01-15T01:19:58.513577Z",
     "iopub.status.busy": "2023-01-15T01:19:58.512402Z",
     "iopub.status.idle": "2023-01-15T01:19:58.515647Z",
     "shell.execute_reply": "2023-01-15T01:19:58.516540Z"
    }
   },
   "outputs": [],
   "source": [
    "pp = rate_lf.get_bin_probs()"
   ]
  },
  {
   "cell_type": "code",
   "execution_count": 20,
   "id": "323a9195",
   "metadata": {
    "execution": {
     "iopub.execute_input": "2023-01-15T01:19:58.527868Z",
     "iopub.status.busy": "2023-01-15T01:19:58.526477Z",
     "iopub.status.idle": "2023-01-15T01:19:58.531019Z",
     "shell.execute_reply": "2023-01-15T01:19:58.531906Z"
    }
   },
   "outputs": [
    {
     "data": {
      "text/plain": [
       "<IPython.core.display.HTML object>"
      ]
     },
     "execution_count": 20,
     "metadata": {},
     "output_type": "execute_result"
    }
   ],
   "source": [
    "from IPython.core.display import HTML\n",
    "from numpy import array\n",
    "\n",
    "from cogent3 import make_table\n",
    "\n",
    "header = ['Site Class', 'Proportion', 'Background Edges', 'Foreground Edges']\n",
    "data = {'Site Class': array(['0', '1', '2a', '2b'], dtype='<U2'), 'Proportion': array(['p0', 'p1', 'p2', 'p3'], dtype='<U2'), 'Background Edges': array(['0 < omega0 < 1', 'omega1 = 1', '0 < omega0 < 1', 'omega1 = 1'],\n",
    "  dtype='<U14'), 'Foreground Edges': array(['0 < omega0 < 1', 'omega1 = 1', '0 < omega2 > 1', '0 < omega0 < 1'],\n",
    "  dtype='<U14')}\n",
    "data = {k: array(data[k], dtype='U') for k in data}\n",
    "table = make_table(header, data=data)\n",
    "HTML(table.set_repr_policy(show_shape=False))"
   ]
  },
  {
   "cell_type": "code",
   "execution_count": 21,
   "id": "fce7ad61",
   "metadata": {
    "execution": {
     "iopub.execute_input": "2023-01-15T01:19:58.545665Z",
     "iopub.status.busy": "2023-01-15T01:19:58.544089Z",
     "iopub.status.idle": "2023-01-15T01:20:14.562935Z",
     "shell.execute_reply": "2023-01-15T01:20:14.563808Z"
    }
   },
   "outputs": [
    {
     "name": "stdout",
     "output_type": "stream",
     "text": [
      "bin params\n",
      "====================\n",
      "bin   bprobs   omega\n",
      "--------------------\n",
      "0       0.11   0.00 \n",
      "1       0.89   1.00 \n",
      "--------------------\n"
     ]
    }
   ],
   "source": [
    "rate_lf = cnf.make_likelihood_function(tree, bins=[\"0\", \"1\"], digits=2, space=3)\n",
    "rate_lf.set_param_rule(\"omega\", bin=\"0\", upper=1.0 - epsilon, init=1 - epsilon)\n",
    "rate_lf.set_param_rule(\"omega\", bins=\"1\", is_constant=True, value=1.0)\n",
    "rate_lf.set_alignment(aln)\n",
    "rate_lf.optimise(**optimiser_args)\n",
    "tables = rate_lf.get_statistics(with_titles=True)\n",
    "for table in tables:\n",
    "    if \"bin\" in table.title:\n",
    "        print(table)"
   ]
  },
  {
   "cell_type": "code",
   "execution_count": 22,
   "id": "a443f076",
   "metadata": {
    "execution": {
     "iopub.execute_input": "2023-01-15T01:20:14.572869Z",
     "iopub.status.busy": "2023-01-15T01:20:14.571582Z",
     "iopub.status.idle": "2023-01-15T01:20:14.575274Z",
     "shell.execute_reply": "2023-01-15T01:20:14.576160Z"
    }
   },
   "outputs": [],
   "source": [
    "globals = [t for t in tables if \"global\" in t.title][0]\n",
    "globals = dict(zip(globals.header, globals.tolist()[0]))\n",
    "bin_params = [t for t in tables if \"bin\" in t.title][0]\n",
    "rate_class_omegas = dict(bin_params.tolist([\"bin\", \"omega\"]))\n",
    "rate_class_probs = dict(bin_params.tolist([\"bin\", \"bprobs\"]))\n",
    "lengths = [t for t in tables if \"edge\" in t.title][0]\n",
    "lengths = dict(lengths.tolist([\"edge\", \"length\"]))"
   ]
  },
  {
   "cell_type": "code",
   "execution_count": 23,
   "id": "aac043aa",
   "metadata": {
    "execution": {
     "iopub.execute_input": "2023-01-15T01:20:14.589909Z",
     "iopub.status.busy": "2023-01-15T01:20:14.586379Z",
     "iopub.status.idle": "2023-01-15T01:20:14.596975Z",
     "shell.execute_reply": "2023-01-15T01:20:14.597778Z"
    }
   },
   "outputs": [],
   "source": [
    "rate_branch_lf = cnf.make_likelihood_function(\n",
    "    tree, bins=[\"0\", \"1\", \"2a\", \"2b\"], digits=2, space=3\n",
    ")"
   ]
  },
  {
   "cell_type": "code",
   "execution_count": 24,
   "id": "af289403",
   "metadata": {
    "execution": {
     "iopub.execute_input": "2023-01-15T01:20:14.605187Z",
     "iopub.status.busy": "2023-01-15T01:20:14.604043Z",
     "iopub.status.idle": "2023-01-15T01:20:14.627627Z",
     "shell.execute_reply": "2023-01-15T01:20:14.628406Z"
    }
   },
   "outputs": [],
   "source": [
    "for branch, length in lengths.items():\n",
    "    rate_branch_lf.set_param_rule(\"length\", edge=branch, init=length)"
   ]
  },
  {
   "cell_type": "code",
   "execution_count": 25,
   "id": "a627a962",
   "metadata": {
    "execution": {
     "iopub.execute_input": "2023-01-15T01:20:14.635873Z",
     "iopub.status.busy": "2023-01-15T01:20:14.634620Z",
     "iopub.status.idle": "2023-01-15T01:20:14.664367Z",
     "shell.execute_reply": "2023-01-15T01:20:14.665153Z"
    }
   },
   "outputs": [],
   "source": [
    "for param, mle in globals.items():\n",
    "    rate_branch_lf.set_param_rule(param, init=mle)"
   ]
  },
  {
   "cell_type": "code",
   "execution_count": 26,
   "id": "c4e5124e",
   "metadata": {
    "execution": {
     "iopub.execute_input": "2023-01-15T01:20:14.673516Z",
     "iopub.status.busy": "2023-01-15T01:20:14.672325Z",
     "iopub.status.idle": "2023-01-15T01:20:14.706907Z",
     "shell.execute_reply": "2023-01-15T01:20:14.707856Z"
    }
   },
   "outputs": [],
   "source": [
    "rate_branch_lf.set_param_rule(\n",
    "    \"omega\", bins=[\"0\", \"2a\"], upper=1.0, init=rate_class_omegas[\"0\"]\n",
    ")\n",
    "rate_branch_lf.set_param_rule(\n",
    "    \"omega\", bins=[\"1\", \"2b\"], is_constant=True, value=1.0\n",
    ")\n",
    "rate_branch_lf.set_param_rule(\n",
    "    \"omega\",\n",
    "    bins=[\"2a\", \"2b\"],\n",
    "    edges=[\"Chimpanzee\", \"Human\"],\n",
    "    init=99,\n",
    "    lower=1.0,\n",
    "    upper=100.0,\n",
    "    is_constant=False,\n",
    ")"
   ]
  },
  {
   "cell_type": "code",
   "execution_count": 27,
   "id": "5ef23c0d",
   "metadata": {
    "execution": {
     "iopub.execute_input": "2023-01-15T01:20:14.714853Z",
     "iopub.status.busy": "2023-01-15T01:20:14.713608Z",
     "iopub.status.idle": "2023-01-15T01:20:14.716581Z",
     "shell.execute_reply": "2023-01-15T01:20:14.717520Z"
    }
   },
   "outputs": [],
   "source": [
    "rate_branch_lf.set_param_rule(\n",
    "    \"bprobs\",\n",
    "    init=[\n",
    "        rate_class_probs[\"0\"] - epsilon,\n",
    "        rate_class_probs[\"1\"] - epsilon,\n",
    "        epsilon,\n",
    "        epsilon,\n",
    "    ],\n",
    ")"
   ]
  },
  {
   "cell_type": "code",
   "execution_count": 28,
   "id": "28b6c031",
   "metadata": {
    "execution": {
     "iopub.execute_input": "2023-01-15T01:20:14.733029Z",
     "iopub.status.busy": "2023-01-15T01:20:14.731857Z",
     "iopub.status.idle": "2023-01-15T01:20:14.765802Z",
     "shell.execute_reply": "2023-01-15T01:20:14.766563Z"
    }
   },
   "outputs": [],
   "source": [
    "rate_branch_lf.set_alignment(aln)"
   ]
  }
 ],
 "metadata": {
  "kernelspec": {
   "display_name": "Python 3 (ipykernel)",
   "language": "python",
   "name": "python3"
  },
  "language_info": {
   "codemirror_mode": {
    "name": "ipython",
    "version": 3
   },
   "file_extension": ".py",
   "mimetype": "text/x-python",
   "name": "python",
   "nbconvert_exporter": "python",
   "pygments_lexer": "ipython3",
   "version": "3.10.0"
  }
 },
 "nbformat": 4,
 "nbformat_minor": 5
}