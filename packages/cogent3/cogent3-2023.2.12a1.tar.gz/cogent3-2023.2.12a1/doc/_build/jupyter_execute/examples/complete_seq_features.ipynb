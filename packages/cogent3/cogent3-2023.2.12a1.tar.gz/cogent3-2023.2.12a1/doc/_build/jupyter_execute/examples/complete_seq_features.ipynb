{
 "cells": [
  {
   "cell_type": "code",
   "execution_count": 1,
   "id": "1ed4c1ec",
   "metadata": {
    "execution": {
     "iopub.execute_input": "2023-01-15T01:20:22.438441Z",
     "iopub.status.busy": "2023-01-15T01:20:22.437495Z",
     "iopub.status.idle": "2023-01-15T01:20:24.777930Z",
     "shell.execute_reply": "2023-01-15T01:20:24.778636Z"
    }
   },
   "outputs": [],
   "source": [
    "from cogent3 import DNA\n",
    "from cogent3.core.annotation import Feature\n",
    "\n",
    "s = DNA.make_seq(\"AAGAAGAAGACCCCCAAAAAAAAAATTTTTTTTTTAAAAAAAAAAAAA\", name=\"Orig\")\n",
    "exon1 = s.add_annotation(Feature, \"exon\", \"fred\", [(10, 15)])\n",
    "exon2 = s.add_annotation(Feature, \"exon\", \"trev\", [(30, 40)])"
   ]
  },
  {
   "cell_type": "code",
   "execution_count": 2,
   "id": "f9d7cab1",
   "metadata": {
    "execution": {
     "iopub.execute_input": "2023-01-15T01:20:24.793042Z",
     "iopub.status.busy": "2023-01-15T01:20:24.792013Z",
     "iopub.status.idle": "2023-01-15T01:20:24.795898Z",
     "shell.execute_reply": "2023-01-15T01:20:24.796481Z"
    }
   },
   "outputs": [
    {
     "data": {
      "text/html": [
       "<style>\n",
       ".c3seq td { border: none !important; text-align: left !important; }\n",
       ".c3seq tr:not(.num_row) td span {margin: 0 2px;}\n",
       ".c3seq tr:nth-child(even) {background: #f7f7f7;}\n",
       ".c3seq .num_row {background-color:rgba(161, 195, 209, 0.5) !important; border-top: solid 1px black; }\n",
       ".c3seq .label { font-size: 12pt ; text-align: right !important; color: black !important; padding: 0 4px; }\n",
       ".c3seq .T_dna{font-family: \"Lucida Console\",monospace !important; font-size: 12pt !important; color: blue; }\n",
       ".c3seq .C_dna{font-family: \"Lucida Console\",monospace !important; font-size: 12pt !important; color: black; }\n",
       ".c3seq .A_dna{font-family: \"Lucida Console\",monospace !important; font-size: 12pt !important; color: #FF0102; }\n",
       ".c3seq .G_dna{font-family: \"Lucida Console\",monospace !important; font-size: 12pt !important; color: green; }\n",
       ".c3seq .terminal_ambig_dna{font-family: \"Lucida Console\",monospace !important; font-size: 12pt !important; color: gray; }\n",
       ".c3seq .ambig_dna{font-family: \"Lucida Console\",monospace !important; font-size: 12pt !important; color: gray; }\n",
       "</style>\n",
       "<div class=\"c3seq\">\n",
       "<table>\n",
       "<tr class=\"num_row\"><td></td><td><b>0</b></td></tr>\n",
       "<tr><td class=\"label\">Orig</td><td><span class=\"C_dna\">C</span><span class=\"C_dna\">C</span><span class=\"C_dna\">C</span><span class=\"C_dna\">C</span><span class=\"C_dna\">C</span></td></tr>\n",
       "</table>\n",
       "<p><i>5 DnaSequence</i></p>\n",
       "</div>"
      ],
      "text/plain": [
       "DnaSequence(CCCCC)"
      ]
     },
     "execution_count": 2,
     "metadata": {},
     "output_type": "execute_result"
    }
   ],
   "source": [
    "s[exon1]\n",
    "exon1.get_slice()"
   ]
  },
  {
   "cell_type": "code",
   "execution_count": 3,
   "id": "2a6d3d8b",
   "metadata": {
    "execution": {
     "iopub.execute_input": "2023-01-15T01:20:24.801793Z",
     "iopub.status.busy": "2023-01-15T01:20:24.800870Z",
     "iopub.status.idle": "2023-01-15T01:20:24.804260Z",
     "shell.execute_reply": "2023-01-15T01:20:24.804844Z"
    }
   },
   "outputs": [
    {
     "name": "stdout",
     "output_type": "stream",
     "text": [
      "[exon \"fred\" at [10:15]/48, exon \"trev\" at [30:40]/48]\n"
     ]
    }
   ],
   "source": [
    "exons = s.get_annotations_matching(\"exon\")\n",
    "print(exons)"
   ]
  },
  {
   "cell_type": "code",
   "execution_count": 4,
   "id": "f3365eba",
   "metadata": {
    "execution": {
     "iopub.execute_input": "2023-01-15T01:20:24.811125Z",
     "iopub.status.busy": "2023-01-15T01:20:24.810136Z",
     "iopub.status.idle": "2023-01-15T01:20:24.813341Z",
     "shell.execute_reply": "2023-01-15T01:20:24.814033Z"
    }
   },
   "outputs": [
    {
     "data": {
      "text/html": [
       "<style>\n",
       ".c3seq td { border: none !important; text-align: left !important; }\n",
       ".c3seq tr:not(.num_row) td span {margin: 0 2px;}\n",
       ".c3seq tr:nth-child(even) {background: #f7f7f7;}\n",
       ".c3seq .num_row {background-color:rgba(161, 195, 209, 0.5) !important; border-top: solid 1px black; }\n",
       ".c3seq .label { font-size: 12pt ; text-align: right !important; color: black !important; padding: 0 4px; }\n",
       ".c3seq .T_dna{font-family: \"Lucida Console\",monospace !important; font-size: 12pt !important; color: blue; }\n",
       ".c3seq .C_dna{font-family: \"Lucida Console\",monospace !important; font-size: 12pt !important; color: black; }\n",
       ".c3seq .A_dna{font-family: \"Lucida Console\",monospace !important; font-size: 12pt !important; color: #FF0102; }\n",
       ".c3seq .G_dna{font-family: \"Lucida Console\",monospace !important; font-size: 12pt !important; color: green; }\n",
       ".c3seq .terminal_ambig_dna{font-family: \"Lucida Console\",monospace !important; font-size: 12pt !important; color: gray; }\n",
       ".c3seq .ambig_dna{font-family: \"Lucida Console\",monospace !important; font-size: 12pt !important; color: gray; }\n",
       "</style>\n",
       "<div class=\"c3seq\">\n",
       "<table>\n",
       "</table>\n",
       "<p><i>0 DnaSequence</i></p>\n",
       "</div>"
      ],
      "text/plain": [
       "DnaSequence()"
      ]
     },
     "execution_count": 4,
     "metadata": {},
     "output_type": "execute_result"
    }
   ],
   "source": [
    "dont_exist = s.get_annotations_matching(\"dont_exist\")\n",
    "dont_exist\n",
    "s[dont_exist]"
   ]
  },
  {
   "cell_type": "code",
   "execution_count": 5,
   "id": "1cab6ce4",
   "metadata": {
    "execution": {
     "iopub.execute_input": "2023-01-15T01:20:24.819425Z",
     "iopub.status.busy": "2023-01-15T01:20:24.818496Z",
     "iopub.status.idle": "2023-01-15T01:20:24.821576Z",
     "shell.execute_reply": "2023-01-15T01:20:24.822170Z"
    }
   },
   "outputs": [
    {
     "name": "stdout",
     "output_type": "stream",
     "text": [
      "region \"exon\" at [10:15, 30:40]/48\n",
      "region \"not exon\" at [0:10, 15:30, 40:48]/48\n"
     ]
    }
   ],
   "source": [
    "print(s.get_region_covering_all(exons))\n",
    "print(s.get_region_covering_all(exons).get_shadow())"
   ]
  },
  {
   "cell_type": "code",
   "execution_count": 6,
   "id": "2a61826f",
   "metadata": {
    "execution": {
     "iopub.execute_input": "2023-01-15T01:20:24.828504Z",
     "iopub.status.busy": "2023-01-15T01:20:24.827426Z",
     "iopub.status.idle": "2023-01-15T01:20:24.830880Z",
     "shell.execute_reply": "2023-01-15T01:20:24.831500Z"
    }
   },
   "outputs": [
    {
     "data": {
      "text/html": [
       "<style>\n",
       ".c3seq td { border: none !important; text-align: left !important; }\n",
       ".c3seq tr:not(.num_row) td span {margin: 0 2px;}\n",
       ".c3seq tr:nth-child(even) {background: #f7f7f7;}\n",
       ".c3seq .num_row {background-color:rgba(161, 195, 209, 0.5) !important; border-top: solid 1px black; }\n",
       ".c3seq .label { font-size: 12pt ; text-align: right !important; color: black !important; padding: 0 4px; }\n",
       ".c3seq .T_dna{font-family: \"Lucida Console\",monospace !important; font-size: 12pt !important; color: blue; }\n",
       ".c3seq .C_dna{font-family: \"Lucida Console\",monospace !important; font-size: 12pt !important; color: black; }\n",
       ".c3seq .A_dna{font-family: \"Lucida Console\",monospace !important; font-size: 12pt !important; color: #FF0102; }\n",
       ".c3seq .G_dna{font-family: \"Lucida Console\",monospace !important; font-size: 12pt !important; color: green; }\n",
       ".c3seq .terminal_ambig_dna{font-family: \"Lucida Console\",monospace !important; font-size: 12pt !important; color: gray; }\n",
       ".c3seq .ambig_dna{font-family: \"Lucida Console\",monospace !important; font-size: 12pt !important; color: gray; }\n",
       "</style>\n",
       "<div class=\"c3seq\">\n",
       "<table>\n",
       "<tr class=\"num_row\"><td></td><td><b>0</b></td></tr>\n",
       "<tr><td class=\"label\">Orig</td><td><span class=\"C_dna\">C</span><span class=\"C_dna\">C</span><span class=\"C_dna\">C</span><span class=\"C_dna\">C</span><span class=\"C_dna\">C</span><span class=\"T_dna\">T</span><span class=\"T_dna\">T</span><span class=\"T_dna\">T</span><span class=\"T_dna\">T</span><span class=\"T_dna\">T</span><span class=\"A_dna\">A</span><span class=\"A_dna\">A</span><span class=\"A_dna\">A</span><span class=\"A_dna\">A</span><span class=\"A_dna\">A</span></td></tr>\n",
       "</table>\n",
       "<p><i>15 DnaSequence</i></p>\n",
       "</div>"
      ],
      "text/plain": [
       "DnaSequence(CCCCCTT... 15)"
      ]
     },
     "execution_count": 6,
     "metadata": {},
     "output_type": "execute_result"
    }
   ],
   "source": [
    "s.get_region_covering_all(exons).get_slice()"
   ]
  },
  {
   "cell_type": "code",
   "execution_count": 7,
   "id": "b70736fd",
   "metadata": {
    "execution": {
     "iopub.execute_input": "2023-01-15T01:20:24.837215Z",
     "iopub.status.busy": "2023-01-15T01:20:24.836278Z",
     "iopub.status.idle": "2023-01-15T01:20:24.839716Z",
     "shell.execute_reply": "2023-01-15T01:20:24.840336Z"
    }
   },
   "outputs": [
    {
     "data": {
      "text/html": [
       "<style>\n",
       ".c3seq td { border: none !important; text-align: left !important; }\n",
       ".c3seq tr:not(.num_row) td span {margin: 0 2px;}\n",
       ".c3seq tr:nth-child(even) {background: #f7f7f7;}\n",
       ".c3seq .num_row {background-color:rgba(161, 195, 209, 0.5) !important; border-top: solid 1px black; }\n",
       ".c3seq .label { font-size: 12pt ; text-align: right !important; color: black !important; padding: 0 4px; }\n",
       ".c3seq .T_dna{font-family: \"Lucida Console\",monospace !important; font-size: 12pt !important; color: blue; }\n",
       ".c3seq .C_dna{font-family: \"Lucida Console\",monospace !important; font-size: 12pt !important; color: black; }\n",
       ".c3seq .A_dna{font-family: \"Lucida Console\",monospace !important; font-size: 12pt !important; color: #FF0102; }\n",
       ".c3seq .G_dna{font-family: \"Lucida Console\",monospace !important; font-size: 12pt !important; color: green; }\n",
       ".c3seq .terminal_ambig_dna{font-family: \"Lucida Console\",monospace !important; font-size: 12pt !important; color: gray; }\n",
       ".c3seq .ambig_dna{font-family: \"Lucida Console\",monospace !important; font-size: 12pt !important; color: gray; }\n",
       "</style>\n",
       "<div class=\"c3seq\">\n",
       "<table>\n",
       "<tr class=\"num_row\"><td></td><td><b>0</b></td></tr>\n",
       "<tr><td class=\"label\">Orig</td><td><span class=\"C_dna\">C</span><span class=\"C_dna\">C</span><span class=\"C_dna\">C</span><span class=\"C_dna\">C</span><span class=\"C_dna\">C</span><span class=\"T_dna\">T</span><span class=\"T_dna\">T</span><span class=\"T_dna\">T</span><span class=\"T_dna\">T</span><span class=\"T_dna\">T</span><span class=\"A_dna\">A</span><span class=\"A_dna\">A</span><span class=\"A_dna\">A</span><span class=\"A_dna\">A</span><span class=\"A_dna\">A</span></td></tr>\n",
       "</table>\n",
       "<p><i>15 DnaSequence</i></p>\n",
       "</div>"
      ],
      "text/plain": [
       "DnaSequence(CCCCCTT... 15)"
      ]
     },
     "execution_count": 7,
     "metadata": {},
     "output_type": "execute_result"
    }
   ],
   "source": [
    "s[exon1, exon2]"
   ]
  },
  {
   "cell_type": "code",
   "execution_count": 8,
   "id": "b279ef26",
   "metadata": {
    "execution": {
     "iopub.execute_input": "2023-01-15T01:20:24.845777Z",
     "iopub.status.busy": "2023-01-15T01:20:24.844938Z",
     "iopub.status.idle": "2023-01-15T01:20:25.936361Z",
     "shell.execute_reply": "2023-01-15T01:20:25.937037Z"
    }
   },
   "outputs": [
    {
     "name": "stdout",
     "output_type": "stream",
     "text": [
      "region \"exon\" at [10:15, 30:40]/48\n"
     ]
    },
    {
     "ename": "ValueError",
     "evalue": "Uninvertable. Overlap: 10 < 15",
     "output_type": "error",
     "traceback": [
      "\u001b[0;31m---------------------------------------------------------------------------\u001b[0m",
      "\u001b[0;31mValueError\u001b[0m                                Traceback (most recent call last)",
      "Input \u001b[0;32mIn [8]\u001b[0m, in \u001b[0;36m<module>\u001b[0;34m\u001b[0m\n\u001b[1;32m      1\u001b[0m \u001b[38;5;28mprint\u001b[39m(s\u001b[38;5;241m.\u001b[39mget_region_covering_all(exons \u001b[38;5;241m+\u001b[39m exons))\n\u001b[0;32m----> 2\u001b[0m \u001b[43ms\u001b[49m\u001b[43m[\u001b[49m\u001b[43mexon1\u001b[49m\u001b[43m,\u001b[49m\u001b[43m \u001b[49m\u001b[43mexon1\u001b[49m\u001b[43m,\u001b[49m\u001b[43m \u001b[49m\u001b[43mexon1\u001b[49m\u001b[43m,\u001b[49m\u001b[43m \u001b[49m\u001b[43mexon1\u001b[49m\u001b[43m,\u001b[49m\u001b[43m \u001b[49m\u001b[43mexon1\u001b[49m\u001b[43m]\u001b[49m\n",
      "File \u001b[0;32m~/opt/miniconda3/envs/c310dev/lib/python3.10/site-packages/cogent3/core/annotation.py:90\u001b[0m, in \u001b[0;36m_Annotatable.__getitem__\u001b[0;34m(self, index)\u001b[0m\n\u001b[1;32m     88\u001b[0m \u001b[38;5;28mmap\u001b[39m \u001b[38;5;241m=\u001b[39m \u001b[38;5;28mself\u001b[39m\u001b[38;5;241m.\u001b[39m_as_map(index)\n\u001b[1;32m     89\u001b[0m new \u001b[38;5;241m=\u001b[39m \u001b[38;5;28mself\u001b[39m\u001b[38;5;241m.\u001b[39m_mapped(\u001b[38;5;28mmap\u001b[39m)\n\u001b[0;32m---> 90\u001b[0m sliced_annots \u001b[38;5;241m=\u001b[39m \u001b[38;5;28;43mself\u001b[39;49m\u001b[38;5;241;43m.\u001b[39;49m\u001b[43m_sliced_annotations\u001b[49m\u001b[43m(\u001b[49m\u001b[43mnew\u001b[49m\u001b[43m,\u001b[49m\u001b[43m \u001b[49m\u001b[38;5;28;43mmap\u001b[39;49m\u001b[43m)\u001b[49m\n\u001b[1;32m     91\u001b[0m new\u001b[38;5;241m.\u001b[39mattach_annotations(sliced_annots)\n\u001b[1;32m     92\u001b[0m \u001b[38;5;28;01mif\u001b[39;00m \u001b[38;5;28mhasattr\u001b[39m(\u001b[38;5;28mself\u001b[39m, \u001b[38;5;124m\"\u001b[39m\u001b[38;5;124m_repr_policy\u001b[39m\u001b[38;5;124m\"\u001b[39m):\n",
      "File \u001b[0;32m~/opt/miniconda3/envs/c310dev/lib/python3.10/site-packages/cogent3/core/annotation.py:36\u001b[0m, in \u001b[0;36m_Annotatable._sliced_annotations\u001b[0;34m(self, new, slice)\u001b[0m\n\u001b[1;32m     34\u001b[0m slicemap \u001b[38;5;241m=\u001b[39m \u001b[38;5;28mself\u001b[39m\u001b[38;5;241m.\u001b[39m_as_map(\u001b[38;5;28mslice\u001b[39m)\n\u001b[1;32m     35\u001b[0m \u001b[38;5;66;03m# try:\u001b[39;00m\n\u001b[0;32m---> 36\u001b[0m newmap \u001b[38;5;241m=\u001b[39m \u001b[43mslicemap\u001b[49m\u001b[38;5;241;43m.\u001b[39;49m\u001b[43minverse\u001b[49m\u001b[43m(\u001b[49m\u001b[43m)\u001b[49m\n\u001b[1;32m     37\u001b[0m \u001b[38;5;66;03m# except ValueError, detail:\u001b[39;00m\n\u001b[1;32m     38\u001b[0m \u001b[38;5;66;03m#    print \"Annotations dropped because %s\" % detail\u001b[39;00m\n\u001b[1;32m     39\u001b[0m \u001b[38;5;66;03m#    return []\u001b[39;00m\n\u001b[1;32m     40\u001b[0m \u001b[38;5;28;01mif\u001b[39;00m slicemap\u001b[38;5;241m.\u001b[39museful:\n",
      "File \u001b[0;32m~/opt/miniconda3/envs/c310dev/lib/python3.10/site-packages/cogent3/core/location.py:754\u001b[0m, in \u001b[0;36mMap.inverse\u001b[0;34m(self)\u001b[0m\n\u001b[1;32m    752\u001b[0m \u001b[38;5;28;01mdef\u001b[39;00m \u001b[38;5;21minverse\u001b[39m(\u001b[38;5;28mself\u001b[39m):\n\u001b[1;32m    753\u001b[0m     \u001b[38;5;28;01mif\u001b[39;00m \u001b[38;5;28mself\u001b[39m\u001b[38;5;241m.\u001b[39m__inverse \u001b[38;5;129;01mis\u001b[39;00m \u001b[38;5;28;01mNone\u001b[39;00m:\n\u001b[0;32m--> 754\u001b[0m         \u001b[38;5;28mself\u001b[39m\u001b[38;5;241m.\u001b[39m__inverse \u001b[38;5;241m=\u001b[39m \u001b[38;5;28;43mself\u001b[39;49m\u001b[38;5;241;43m.\u001b[39;49m\u001b[43m_inverse\u001b[49m\u001b[43m(\u001b[49m\u001b[43m)\u001b[49m\n\u001b[1;32m    755\u001b[0m     \u001b[38;5;28;01mreturn\u001b[39;00m \u001b[38;5;28mself\u001b[39m\u001b[38;5;241m.\u001b[39m__inverse\n",
      "File \u001b[0;32m~/opt/miniconda3/envs/c310dev/lib/python3.10/site-packages/cogent3/core/location.py:779\u001b[0m, in \u001b[0;36mMap._inverse\u001b[0;34m(self)\u001b[0m\n\u001b[1;32m    777\u001b[0m     new_spans\u001b[38;5;241m.\u001b[39mappend(LostSpan(lo \u001b[38;5;241m-\u001b[39m last_hi))\n\u001b[1;32m    778\u001b[0m \u001b[38;5;28;01melif\u001b[39;00m lo \u001b[38;5;241m<\u001b[39m last_hi:\n\u001b[0;32m--> 779\u001b[0m     \u001b[38;5;28;01mraise\u001b[39;00m \u001b[38;5;167;01mValueError\u001b[39;00m(\u001b[38;5;124mf\u001b[39m\u001b[38;5;124m\"\u001b[39m\u001b[38;5;124mUninvertable. Overlap: \u001b[39m\u001b[38;5;132;01m{\u001b[39;00mlo\u001b[38;5;132;01m}\u001b[39;00m\u001b[38;5;124m < \u001b[39m\u001b[38;5;132;01m{\u001b[39;00mlast_hi\u001b[38;5;132;01m}\u001b[39;00m\u001b[38;5;124m\"\u001b[39m)\n\u001b[1;32m    780\u001b[0m new_spans\u001b[38;5;241m.\u001b[39mappend(Span(start, end, reverse\u001b[38;5;241m=\u001b[39mstart \u001b[38;5;241m>\u001b[39m end))\n\u001b[1;32m    781\u001b[0m last_hi \u001b[38;5;241m=\u001b[39m hi\n",
      "\u001b[0;31mValueError\u001b[0m: Uninvertable. Overlap: 10 < 15"
     ]
    }
   ],
   "source": [
    "print(s.get_region_covering_all(exons + exons))\n",
    "s[exon1, exon1, exon1, exon1, exon1]"
   ]
  },
  {
   "cell_type": "code",
   "execution_count": 9,
   "id": "fc618f58",
   "metadata": {
    "execution": {
     "iopub.execute_input": "2023-01-15T01:20:25.994298Z",
     "iopub.status.busy": "2023-01-15T01:20:25.983135Z",
     "iopub.status.idle": "2023-01-15T01:20:25.997836Z",
     "shell.execute_reply": "2023-01-15T01:20:25.998506Z"
    }
   },
   "outputs": [
    {
     "ename": "ValueError",
     "evalue": "Uninvertable. Overlap: 15 < 16",
     "output_type": "error",
     "traceback": [
      "\u001b[0;31m---------------------------------------------------------------------------\u001b[0m",
      "\u001b[0;31mValueError\u001b[0m                                Traceback (most recent call last)",
      "Input \u001b[0;32mIn [9]\u001b[0m, in \u001b[0;36m<module>\u001b[0;34m\u001b[0m\n\u001b[0;32m----> 1\u001b[0m \u001b[43ms\u001b[49m\u001b[43m[\u001b[49m\u001b[38;5;241;43m15\u001b[39;49m\u001b[43m:\u001b[49m\u001b[38;5;241;43m20\u001b[39;49m\u001b[43m,\u001b[49m\u001b[43m \u001b[49m\u001b[38;5;241;43m5\u001b[39;49m\u001b[43m:\u001b[49m\u001b[38;5;241;43m16\u001b[39;49m\u001b[43m]\u001b[49m\n",
      "File \u001b[0;32m~/opt/miniconda3/envs/c310dev/lib/python3.10/site-packages/cogent3/core/annotation.py:90\u001b[0m, in \u001b[0;36m_Annotatable.__getitem__\u001b[0;34m(self, index)\u001b[0m\n\u001b[1;32m     88\u001b[0m \u001b[38;5;28mmap\u001b[39m \u001b[38;5;241m=\u001b[39m \u001b[38;5;28mself\u001b[39m\u001b[38;5;241m.\u001b[39m_as_map(index)\n\u001b[1;32m     89\u001b[0m new \u001b[38;5;241m=\u001b[39m \u001b[38;5;28mself\u001b[39m\u001b[38;5;241m.\u001b[39m_mapped(\u001b[38;5;28mmap\u001b[39m)\n\u001b[0;32m---> 90\u001b[0m sliced_annots \u001b[38;5;241m=\u001b[39m \u001b[38;5;28;43mself\u001b[39;49m\u001b[38;5;241;43m.\u001b[39;49m\u001b[43m_sliced_annotations\u001b[49m\u001b[43m(\u001b[49m\u001b[43mnew\u001b[49m\u001b[43m,\u001b[49m\u001b[43m \u001b[49m\u001b[38;5;28;43mmap\u001b[39;49m\u001b[43m)\u001b[49m\n\u001b[1;32m     91\u001b[0m new\u001b[38;5;241m.\u001b[39mattach_annotations(sliced_annots)\n\u001b[1;32m     92\u001b[0m \u001b[38;5;28;01mif\u001b[39;00m \u001b[38;5;28mhasattr\u001b[39m(\u001b[38;5;28mself\u001b[39m, \u001b[38;5;124m\"\u001b[39m\u001b[38;5;124m_repr_policy\u001b[39m\u001b[38;5;124m\"\u001b[39m):\n",
      "File \u001b[0;32m~/opt/miniconda3/envs/c310dev/lib/python3.10/site-packages/cogent3/core/annotation.py:36\u001b[0m, in \u001b[0;36m_Annotatable._sliced_annotations\u001b[0;34m(self, new, slice)\u001b[0m\n\u001b[1;32m     34\u001b[0m slicemap \u001b[38;5;241m=\u001b[39m \u001b[38;5;28mself\u001b[39m\u001b[38;5;241m.\u001b[39m_as_map(\u001b[38;5;28mslice\u001b[39m)\n\u001b[1;32m     35\u001b[0m \u001b[38;5;66;03m# try:\u001b[39;00m\n\u001b[0;32m---> 36\u001b[0m newmap \u001b[38;5;241m=\u001b[39m \u001b[43mslicemap\u001b[49m\u001b[38;5;241;43m.\u001b[39;49m\u001b[43minverse\u001b[49m\u001b[43m(\u001b[49m\u001b[43m)\u001b[49m\n\u001b[1;32m     37\u001b[0m \u001b[38;5;66;03m# except ValueError, detail:\u001b[39;00m\n\u001b[1;32m     38\u001b[0m \u001b[38;5;66;03m#    print \"Annotations dropped because %s\" % detail\u001b[39;00m\n\u001b[1;32m     39\u001b[0m \u001b[38;5;66;03m#    return []\u001b[39;00m\n\u001b[1;32m     40\u001b[0m \u001b[38;5;28;01mif\u001b[39;00m slicemap\u001b[38;5;241m.\u001b[39museful:\n",
      "File \u001b[0;32m~/opt/miniconda3/envs/c310dev/lib/python3.10/site-packages/cogent3/core/location.py:754\u001b[0m, in \u001b[0;36mMap.inverse\u001b[0;34m(self)\u001b[0m\n\u001b[1;32m    752\u001b[0m \u001b[38;5;28;01mdef\u001b[39;00m \u001b[38;5;21minverse\u001b[39m(\u001b[38;5;28mself\u001b[39m):\n\u001b[1;32m    753\u001b[0m     \u001b[38;5;28;01mif\u001b[39;00m \u001b[38;5;28mself\u001b[39m\u001b[38;5;241m.\u001b[39m__inverse \u001b[38;5;129;01mis\u001b[39;00m \u001b[38;5;28;01mNone\u001b[39;00m:\n\u001b[0;32m--> 754\u001b[0m         \u001b[38;5;28mself\u001b[39m\u001b[38;5;241m.\u001b[39m__inverse \u001b[38;5;241m=\u001b[39m \u001b[38;5;28;43mself\u001b[39;49m\u001b[38;5;241;43m.\u001b[39;49m\u001b[43m_inverse\u001b[49m\u001b[43m(\u001b[49m\u001b[43m)\u001b[49m\n\u001b[1;32m    755\u001b[0m     \u001b[38;5;28;01mreturn\u001b[39;00m \u001b[38;5;28mself\u001b[39m\u001b[38;5;241m.\u001b[39m__inverse\n",
      "File \u001b[0;32m~/opt/miniconda3/envs/c310dev/lib/python3.10/site-packages/cogent3/core/location.py:779\u001b[0m, in \u001b[0;36mMap._inverse\u001b[0;34m(self)\u001b[0m\n\u001b[1;32m    777\u001b[0m     new_spans\u001b[38;5;241m.\u001b[39mappend(LostSpan(lo \u001b[38;5;241m-\u001b[39m last_hi))\n\u001b[1;32m    778\u001b[0m \u001b[38;5;28;01melif\u001b[39;00m lo \u001b[38;5;241m<\u001b[39m last_hi:\n\u001b[0;32m--> 779\u001b[0m     \u001b[38;5;28;01mraise\u001b[39;00m \u001b[38;5;167;01mValueError\u001b[39;00m(\u001b[38;5;124mf\u001b[39m\u001b[38;5;124m\"\u001b[39m\u001b[38;5;124mUninvertable. Overlap: \u001b[39m\u001b[38;5;132;01m{\u001b[39;00mlo\u001b[38;5;132;01m}\u001b[39;00m\u001b[38;5;124m < \u001b[39m\u001b[38;5;132;01m{\u001b[39;00mlast_hi\u001b[38;5;132;01m}\u001b[39;00m\u001b[38;5;124m\"\u001b[39m)\n\u001b[1;32m    780\u001b[0m new_spans\u001b[38;5;241m.\u001b[39mappend(Span(start, end, reverse\u001b[38;5;241m=\u001b[39mstart \u001b[38;5;241m>\u001b[39m end))\n\u001b[1;32m    781\u001b[0m last_hi \u001b[38;5;241m=\u001b[39m hi\n",
      "\u001b[0;31mValueError\u001b[0m: Uninvertable. Overlap: 15 < 16"
     ]
    }
   ],
   "source": [
    "s[15:20, 5:16]"
   ]
  },
  {
   "cell_type": "code",
   "execution_count": 10,
   "id": "5675a513",
   "metadata": {
    "execution": {
     "iopub.execute_input": "2023-01-15T01:20:26.004274Z",
     "iopub.status.busy": "2023-01-15T01:20:26.003379Z",
     "iopub.status.idle": "2023-01-15T01:20:26.007183Z",
     "shell.execute_reply": "2023-01-15T01:20:26.006631Z"
    }
   },
   "outputs": [
    {
     "data": {
      "text/html": [
       "<style>\n",
       ".c3seq td { border: none !important; text-align: left !important; }\n",
       ".c3seq tr:not(.num_row) td span {margin: 0 2px;}\n",
       ".c3seq tr:nth-child(even) {background: #f7f7f7;}\n",
       ".c3seq .num_row {background-color:rgba(161, 195, 209, 0.5) !important; border-top: solid 1px black; }\n",
       ".c3seq .label { font-size: 12pt ; text-align: right !important; color: black !important; padding: 0 4px; }\n",
       ".c3seq .T_dna{font-family: \"Lucida Console\",monospace !important; font-size: 12pt !important; color: blue; }\n",
       ".c3seq .C_dna{font-family: \"Lucida Console\",monospace !important; font-size: 12pt !important; color: black; }\n",
       ".c3seq .A_dna{font-family: \"Lucida Console\",monospace !important; font-size: 12pt !important; color: #FF0102; }\n",
       ".c3seq .G_dna{font-family: \"Lucida Console\",monospace !important; font-size: 12pt !important; color: green; }\n",
       ".c3seq .terminal_ambig_dna{font-family: \"Lucida Console\",monospace !important; font-size: 12pt !important; color: gray; }\n",
       ".c3seq .ambig_dna{font-family: \"Lucida Console\",monospace !important; font-size: 12pt !important; color: gray; }\n",
       "</style>\n",
       "<div class=\"c3seq\">\n",
       "<table>\n",
       "<tr class=\"num_row\"><td></td><td><b>0</b></td></tr>\n",
       "<tr><td class=\"label\">Orig</td><td><span class=\"C_dna\">C</span><span class=\"C_dna\">C</span><span class=\"C_dna\">C</span></td></tr>\n",
       "</table>\n",
       "<p><i>3 DnaSequence</i></p>\n",
       "</div>"
      ],
      "text/plain": [
       "DnaSequence(CCC)"
      ]
     },
     "execution_count": 10,
     "metadata": {},
     "output_type": "execute_result"
    }
   ],
   "source": [
    "exon1[0:3].get_slice()"
   ]
  },
  {
   "cell_type": "code",
   "execution_count": 11,
   "id": "680ce7e9",
   "metadata": {
    "execution": {
     "iopub.execute_input": "2023-01-15T01:20:26.013429Z",
     "iopub.status.busy": "2023-01-15T01:20:26.012547Z",
     "iopub.status.idle": "2023-01-15T01:20:26.015761Z",
     "shell.execute_reply": "2023-01-15T01:20:26.016377Z"
    }
   },
   "outputs": [
    {
     "name": "stdout",
     "output_type": "stream",
     "text": [
      "49\n",
      "exon \"fred\" at [-4-, 0:1]/49\n",
      "exon \"fred\" at [11:16]/49\n",
      "exon \"trev\" at [31:41]/49\n"
     ]
    }
   ],
   "source": [
    "c = s[exon1[4:]] + s\n",
    "print(len(c))\n",
    "for feat in c.annotations:\n",
    "    print(feat)"
   ]
  },
  {
   "cell_type": "code",
   "execution_count": 12,
   "id": "247b7d53",
   "metadata": {
    "execution": {
     "iopub.execute_input": "2023-01-15T01:20:26.063925Z",
     "iopub.status.busy": "2023-01-15T01:20:26.063030Z",
     "iopub.status.idle": "2023-01-15T01:20:26.066511Z",
     "shell.execute_reply": "2023-01-15T01:20:26.067442Z"
    }
   },
   "outputs": [
    {
     "ename": "ValueError",
     "evalue": "Can't map exon \"fred\" at [10:15]/48 onto DnaSequence(CAAGAAG... 49) via []",
     "output_type": "error",
     "traceback": [
      "\u001b[0;31m---------------------------------------------------------------------------\u001b[0m",
      "\u001b[0;31mValueError\u001b[0m                                Traceback (most recent call last)",
      "Input \u001b[0;32mIn [12]\u001b[0m, in \u001b[0;36m<module>\u001b[0;34m\u001b[0m\n\u001b[0;32m----> 1\u001b[0m \u001b[38;5;28mprint\u001b[39m(\u001b[43mc\u001b[49m\u001b[43m[\u001b[49m\u001b[43mexon1\u001b[49m\u001b[43m]\u001b[49m)\n",
      "File \u001b[0;32m~/opt/miniconda3/envs/c310dev/lib/python3.10/site-packages/cogent3/core/annotation.py:88\u001b[0m, in \u001b[0;36m_Annotatable.__getitem__\u001b[0;34m(self, index)\u001b[0m\n\u001b[1;32m     87\u001b[0m \u001b[38;5;28;01mdef\u001b[39;00m \u001b[38;5;21m__getitem__\u001b[39m(\u001b[38;5;28mself\u001b[39m, index):\n\u001b[0;32m---> 88\u001b[0m     \u001b[38;5;28mmap\u001b[39m \u001b[38;5;241m=\u001b[39m \u001b[38;5;28;43mself\u001b[39;49m\u001b[38;5;241;43m.\u001b[39;49m\u001b[43m_as_map\u001b[49m\u001b[43m(\u001b[49m\u001b[43mindex\u001b[49m\u001b[43m)\u001b[49m\n\u001b[1;32m     89\u001b[0m     new \u001b[38;5;241m=\u001b[39m \u001b[38;5;28mself\u001b[39m\u001b[38;5;241m.\u001b[39m_mapped(\u001b[38;5;28mmap\u001b[39m)\n\u001b[1;32m     90\u001b[0m     sliced_annots \u001b[38;5;241m=\u001b[39m \u001b[38;5;28mself\u001b[39m\u001b[38;5;241m.\u001b[39m_sliced_annotations(new, \u001b[38;5;28mmap\u001b[39m)\n",
      "File \u001b[0;32m~/opt/miniconda3/envs/c310dev/lib/python3.10/site-packages/cogent3/core/annotation.py:78\u001b[0m, in \u001b[0;36m_Annotatable._as_map\u001b[0;34m(self, index)\u001b[0m\n\u001b[1;32m     76\u001b[0m     base \u001b[38;5;241m=\u001b[39m base\u001b[38;5;241m.\u001b[39mparent\n\u001b[1;32m     77\u001b[0m \u001b[38;5;28;01mif\u001b[39;00m base \u001b[38;5;129;01mis\u001b[39;00m \u001b[38;5;129;01mnot\u001b[39;00m \u001b[38;5;28mself\u001b[39m:\n\u001b[0;32m---> 78\u001b[0m     \u001b[38;5;28;01mraise\u001b[39;00m \u001b[38;5;167;01mValueError\u001b[39;00m(\n\u001b[1;32m     79\u001b[0m         \u001b[38;5;124mf\u001b[39m\u001b[38;5;124m\"\u001b[39m\u001b[38;5;124mCan\u001b[39m\u001b[38;5;124m'\u001b[39m\u001b[38;5;124mt map \u001b[39m\u001b[38;5;132;01m{\u001b[39;00mindex\u001b[38;5;132;01m}\u001b[39;00m\u001b[38;5;124m onto \u001b[39m\u001b[38;5;132;01m{\u001b[39;00m\u001b[38;5;28mrepr\u001b[39m(\u001b[38;5;28mself\u001b[39m)\u001b[38;5;132;01m}\u001b[39;00m\u001b[38;5;124m via \u001b[39m\u001b[38;5;132;01m{\u001b[39;00mcontainers\u001b[38;5;132;01m}\u001b[39;00m\u001b[38;5;124m\"\u001b[39m\n\u001b[1;32m     80\u001b[0m     )\n\u001b[1;32m     81\u001b[0m \u001b[38;5;28;01mfor\u001b[39;00m base \u001b[38;5;129;01min\u001b[39;00m containers:\n\u001b[1;32m     82\u001b[0m     feature \u001b[38;5;241m=\u001b[39m feature\u001b[38;5;241m.\u001b[39mremapped_to(base, base\u001b[38;5;241m.\u001b[39mmap)\n",
      "\u001b[0;31mValueError\u001b[0m: Can't map exon \"fred\" at [10:15]/48 onto DnaSequence(CAAGAAG... 49) via []"
     ]
    }
   ],
   "source": [
    "print(c[exon1])"
   ]
  },
  {
   "cell_type": "code",
   "execution_count": 13,
   "id": "26ba75ce",
   "metadata": {
    "execution": {
     "iopub.execute_input": "2023-01-15T01:20:26.074038Z",
     "iopub.status.busy": "2023-01-15T01:20:26.073113Z",
     "iopub.status.idle": "2023-01-15T01:20:26.076296Z",
     "shell.execute_reply": "2023-01-15T01:20:26.077005Z"
    }
   },
   "outputs": [
    {
     "data": {
      "text/plain": [
       "2"
      ]
     },
     "execution_count": 13,
     "metadata": {},
     "output_type": "execute_result"
    }
   ],
   "source": [
    "len(s.annotations)\n",
    "region = s.get_region_covering_all(exons)\n",
    "len(s.annotations)\n",
    "region.attach()\n",
    "len(s.annotations)\n",
    "region.detach()\n",
    "len(s.annotations)"
   ]
  },
  {
   "cell_type": "code",
   "execution_count": 14,
   "id": "e8eb9b24",
   "metadata": {
    "execution": {
     "iopub.execute_input": "2023-01-15T01:20:26.083619Z",
     "iopub.status.busy": "2023-01-15T01:20:26.082536Z",
     "iopub.status.idle": "2023-01-15T01:20:26.086061Z",
     "shell.execute_reply": "2023-01-15T01:20:26.086738Z"
    }
   },
   "outputs": [
    {
     "name": "stdout",
     "output_type": "stream",
     "text": [
      "GGGGCCCCCTTTTTTTTTT\n",
      "GGGGCCCCCTTTTTTTTTT\n"
     ]
    }
   ],
   "source": [
    "plus = DNA.make_seq(\"AAGGGGAAAACCCCCAAAAAAAAAATTTTTTTTTTAAA\", name=\"plus\")\n",
    "plus_cds = plus.add_annotation(Feature, \"CDS\", \"gene\", [(2, 6), (10, 15), (25, 35)])\n",
    "print(plus_cds.get_slice())\n",
    "minus = plus.rc()\n",
    "minus_cds = minus.get_annotations_matching(\"CDS\")[0]\n",
    "print(minus_cds.get_slice())"
   ]
  },
  {
   "cell_type": "code",
   "execution_count": 15,
   "id": "5b342524",
   "metadata": {
    "execution": {
     "iopub.execute_input": "2023-01-15T01:20:26.094213Z",
     "iopub.status.busy": "2023-01-15T01:20:26.093386Z",
     "iopub.status.idle": "2023-01-15T01:20:26.096216Z",
     "shell.execute_reply": "2023-01-15T01:20:26.096794Z"
    }
   },
   "outputs": [
    {
     "name": "stdout",
     "output_type": "stream",
     "text": [
      ">x\n",
      "-AAAAAAAAA\n",
      ">y\n",
      "TTTT--TTTT\n",
      "\n"
     ]
    }
   ],
   "source": [
    "from cogent3 import make_aligned_seqs\n",
    "\n",
    "aln = make_aligned_seqs(\n",
    "    [[\"x\", \"-AAAAAAAAA\"], [\"y\", \"TTTT--TTTT\"]], array_align=False\n",
    ")\n",
    "print(aln)\n",
    "exon = aln.get_seq(\"x\").add_annotation(Feature, \"exon\", \"fred\", [(3, 8)])\n",
    "aln_exons = aln.get_annotations_from_seq(\"x\", \"exon\")\n",
    "aln_exons = aln.get_annotations_from_any_seq(\"exon\")"
   ]
  },
  {
   "cell_type": "code",
   "execution_count": 16,
   "id": "0907f4e6",
   "metadata": {
    "execution": {
     "iopub.execute_input": "2023-01-15T01:20:26.103828Z",
     "iopub.status.busy": "2023-01-15T01:20:26.102914Z",
     "iopub.status.idle": "2023-01-15T01:20:26.107343Z",
     "shell.execute_reply": "2023-01-15T01:20:26.107941Z"
    }
   },
   "outputs": [
    {
     "name": "stdout",
     "output_type": "stream",
     "text": [
      "exon \"fred\" at [3:8]/9\n",
      "exon \"fred\" at [4:9]/10\n",
      ">x\n",
      "AAAAA\n",
      ">y\n",
      "--TTT\n",
      "\n"
     ]
    },
    {
     "data": {
      "text/plain": [
       "1"
      ]
     },
     "execution_count": 16,
     "metadata": {},
     "output_type": "execute_result"
    }
   ],
   "source": [
    "print(exon)\n",
    "print(aln_exons[0])\n",
    "print(aln_exons[0].get_slice())\n",
    "aln_exons[0].attach()\n",
    "len(aln.annotations)"
   ]
  },
  {
   "cell_type": "code",
   "execution_count": 17,
   "id": "c59ca765",
   "metadata": {
    "execution": {
     "iopub.execute_input": "2023-01-15T01:20:26.113548Z",
     "iopub.status.busy": "2023-01-15T01:20:26.112725Z",
     "iopub.status.idle": "2023-01-15T01:20:26.116756Z",
     "shell.execute_reply": "2023-01-15T01:20:26.115875Z"
    }
   },
   "outputs": [
    {
     "name": "stdout",
     "output_type": "stream",
     "text": [
      "[exon \"fred\" at [-2-, 4:7]/8]\n",
      "TTT\n"
     ]
    }
   ],
   "source": [
    "exons = aln.get_projected_annotations(\"y\", \"exon\")\n",
    "print(exons)\n",
    "print(aln.get_seq(\"y\")[exons[0].map.without_gaps()])"
   ]
  },
  {
   "cell_type": "code",
   "execution_count": 18,
   "id": "cb9778ed",
   "metadata": {
    "execution": {
     "iopub.execute_input": "2023-01-15T01:20:26.124176Z",
     "iopub.status.busy": "2023-01-15T01:20:26.123322Z",
     "iopub.status.idle": "2023-01-15T01:20:26.126335Z",
     "shell.execute_reply": "2023-01-15T01:20:26.126916Z"
    }
   },
   "outputs": [
    {
     "name": "stdout",
     "output_type": "stream",
     "text": [
      "[exon \"fred\" at [4:9]/10]\n"
     ]
    }
   ],
   "source": [
    "aln = make_aligned_seqs(\n",
    "    [[\"x\", \"-AAAAAAAAA\"], [\"y\", \"TTTT--CCCC\"]], array_align=False\n",
    ")\n",
    "s = DNA.make_seq(\"AAAAAAAAA\", name=\"x\")\n",
    "exon = s.add_annotation(Feature, \"exon\", \"fred\", [(3, 8)])\n",
    "exon = aln.get_seq(\"x\").copy_annotations(s)\n",
    "aln_exons = list(aln.get_annotations_from_seq(\"x\", \"exon\"))\n",
    "print(aln_exons)"
   ]
  },
  {
   "cell_type": "code",
   "execution_count": 19,
   "id": "b4699d51",
   "metadata": {
    "execution": {
     "iopub.execute_input": "2023-01-15T01:20:26.132837Z",
     "iopub.status.busy": "2023-01-15T01:20:26.132019Z",
     "iopub.status.idle": "2023-01-15T01:20:26.134964Z",
     "shell.execute_reply": "2023-01-15T01:20:26.135537Z"
    }
   },
   "outputs": [
    {
     "name": "stdout",
     "output_type": "stream",
     "text": [
      "[exon \"fred\" at [3:4, 6:10]/10]\n",
      ">x\n",
      "AAAAA\n",
      ">y\n",
      "TCCCC\n",
      "\n"
     ]
    }
   ],
   "source": [
    "exon = aln.get_seq(\"y\").copy_annotations(s)\n",
    "aln_exons = list(aln.get_annotations_from_seq(\"y\", \"exon\"))\n",
    "print(aln_exons)\n",
    "print(aln[aln_exons])"
   ]
  },
  {
   "cell_type": "code",
   "execution_count": 20,
   "id": "776e0454",
   "metadata": {
    "execution": {
     "iopub.execute_input": "2023-01-15T01:20:26.144193Z",
     "iopub.status.busy": "2023-01-15T01:20:26.143355Z",
     "iopub.status.idle": "2023-01-15T01:20:26.146993Z",
     "shell.execute_reply": "2023-01-15T01:20:26.147671Z"
    }
   },
   "outputs": [
    {
     "data": {
      "text/html": [
       "<style>\n",
       ".c3align td { border: none !important; text-align: left !important; }\n",
       ".c3align tr:not(.num_row) td span {margin: 0 2px;}\n",
       ".c3align tr:nth-child(even) {background: #f7f7f7;}\n",
       ".c3align .num_row {background-color:rgba(161, 195, 209, 0.5) !important; border-top: solid 1px black; }\n",
       ".c3align .label { font-size: 12pt ; text-align: right !important; color: black !important; padding: 0 4px; display: table-cell !important; font-weight: normal !important; }\n",
       ".c3align .a_text{font-family: \"Lucida Console\",monospace !important; font-size: 12pt !important; color: black; }\n",
       ".c3align .b_text{font-family: \"Lucida Console\",monospace !important; font-size: 12pt !important; color: black; }\n",
       ".c3align .c_text{font-family: \"Lucida Console\",monospace !important; font-size: 12pt !important; color: black; }\n",
       ".c3align .d_text{font-family: \"Lucida Console\",monospace !important; font-size: 12pt !important; color: black; }\n",
       ".c3align .e_text{font-family: \"Lucida Console\",monospace !important; font-size: 12pt !important; color: black; }\n",
       ".c3align .f_text{font-family: \"Lucida Console\",monospace !important; font-size: 12pt !important; color: black; }\n",
       ".c3align .g_text{font-family: \"Lucida Console\",monospace !important; font-size: 12pt !important; color: black; }\n",
       ".c3align .h_text{font-family: \"Lucida Console\",monospace !important; font-size: 12pt !important; color: black; }\n",
       ".c3align .i_text{font-family: \"Lucida Console\",monospace !important; font-size: 12pt !important; color: black; }\n",
       ".c3align .j_text{font-family: \"Lucida Console\",monospace !important; font-size: 12pt !important; color: black; }\n",
       ".c3align .k_text{font-family: \"Lucida Console\",monospace !important; font-size: 12pt !important; color: black; }\n",
       ".c3align .l_text{font-family: \"Lucida Console\",monospace !important; font-size: 12pt !important; color: black; }\n",
       ".c3align .m_text{font-family: \"Lucida Console\",monospace !important; font-size: 12pt !important; color: black; }\n",
       ".c3align .n_text{font-family: \"Lucida Console\",monospace !important; font-size: 12pt !important; color: black; }\n",
       ".c3align .o_text{font-family: \"Lucida Console\",monospace !important; font-size: 12pt !important; color: black; }\n",
       ".c3align .p_text{font-family: \"Lucida Console\",monospace !important; font-size: 12pt !important; color: black; }\n",
       ".c3align .q_text{font-family: \"Lucida Console\",monospace !important; font-size: 12pt !important; color: black; }\n",
       ".c3align .r_text{font-family: \"Lucida Console\",monospace !important; font-size: 12pt !important; color: black; }\n",
       ".c3align .s_text{font-family: \"Lucida Console\",monospace !important; font-size: 12pt !important; color: black; }\n",
       ".c3align .t_text{font-family: \"Lucida Console\",monospace !important; font-size: 12pt !important; color: black; }\n",
       ".c3align .u_text{font-family: \"Lucida Console\",monospace !important; font-size: 12pt !important; color: black; }\n",
       ".c3align .v_text{font-family: \"Lucida Console\",monospace !important; font-size: 12pt !important; color: black; }\n",
       ".c3align .w_text{font-family: \"Lucida Console\",monospace !important; font-size: 12pt !important; color: black; }\n",
       ".c3align .x_text{font-family: \"Lucida Console\",monospace !important; font-size: 12pt !important; color: black; }\n",
       ".c3align .y_text{font-family: \"Lucida Console\",monospace !important; font-size: 12pt !important; color: black; }\n",
       ".c3align .z_text{font-family: \"Lucida Console\",monospace !important; font-size: 12pt !important; color: black; }\n",
       ".c3align .A_text{font-family: \"Lucida Console\",monospace !important; font-size: 12pt !important; color: black; }\n",
       ".c3align .B_text{font-family: \"Lucida Console\",monospace !important; font-size: 12pt !important; color: black; }\n",
       ".c3align .C_text{font-family: \"Lucida Console\",monospace !important; font-size: 12pt !important; color: black; }\n",
       ".c3align .D_text{font-family: \"Lucida Console\",monospace !important; font-size: 12pt !important; color: black; }\n",
       ".c3align .E_text{font-family: \"Lucida Console\",monospace !important; font-size: 12pt !important; color: black; }\n",
       ".c3align .F_text{font-family: \"Lucida Console\",monospace !important; font-size: 12pt !important; color: black; }\n",
       ".c3align .G_text{font-family: \"Lucida Console\",monospace !important; font-size: 12pt !important; color: black; }\n",
       ".c3align .H_text{font-family: \"Lucida Console\",monospace !important; font-size: 12pt !important; color: black; }\n",
       ".c3align .I_text{font-family: \"Lucida Console\",monospace !important; font-size: 12pt !important; color: black; }\n",
       ".c3align .J_text{font-family: \"Lucida Console\",monospace !important; font-size: 12pt !important; color: black; }\n",
       ".c3align .K_text{font-family: \"Lucida Console\",monospace !important; font-size: 12pt !important; color: black; }\n",
       ".c3align .L_text{font-family: \"Lucida Console\",monospace !important; font-size: 12pt !important; color: black; }\n",
       ".c3align .M_text{font-family: \"Lucida Console\",monospace !important; font-size: 12pt !important; color: black; }\n",
       ".c3align .N_text{font-family: \"Lucida Console\",monospace !important; font-size: 12pt !important; color: black; }\n",
       ".c3align .O_text{font-family: \"Lucida Console\",monospace !important; font-size: 12pt !important; color: black; }\n",
       ".c3align .P_text{font-family: \"Lucida Console\",monospace !important; font-size: 12pt !important; color: black; }\n",
       ".c3align .Q_text{font-family: \"Lucida Console\",monospace !important; font-size: 12pt !important; color: black; }\n",
       ".c3align .R_text{font-family: \"Lucida Console\",monospace !important; font-size: 12pt !important; color: black; }\n",
       ".c3align .S_text{font-family: \"Lucida Console\",monospace !important; font-size: 12pt !important; color: black; }\n",
       ".c3align .T_text{font-family: \"Lucida Console\",monospace !important; font-size: 12pt !important; color: black; }\n",
       ".c3align .U_text{font-family: \"Lucida Console\",monospace !important; font-size: 12pt !important; color: black; }\n",
       ".c3align .V_text{font-family: \"Lucida Console\",monospace !important; font-size: 12pt !important; color: black; }\n",
       ".c3align .W_text{font-family: \"Lucida Console\",monospace !important; font-size: 12pt !important; color: black; }\n",
       ".c3align .X_text{font-family: \"Lucida Console\",monospace !important; font-size: 12pt !important; color: black; }\n",
       ".c3align .Y_text{font-family: \"Lucida Console\",monospace !important; font-size: 12pt !important; color: black; }\n",
       ".c3align .Z_text{font-family: \"Lucida Console\",monospace !important; font-size: 12pt !important; color: black; }\n",
       ".c3align .terminal_ambig_text{font-family: \"Lucida Console\",monospace !important; font-size: 12pt !important; color: black; }\n",
       ".c3align .ambig_text{font-family: \"Lucida Console\",monospace !important; font-size: 12pt !important; color: black; }\n",
       "</style>\n",
       "<div class=\"c3align\">\n",
       "<table>\n",
       "<tr class=\"num_row\"><td></td><td><b>0</b></td></tr>\n",
       "<tr><td class=\"label\">x</td><td><span class=\"terminal_ambig_text\">-</span><span class=\"terminal_ambig_text\">-</span><span class=\"terminal_ambig_text\">-</span><span class=\"terminal_ambig_text\">-</span></td></tr>\n",
       "<tr><td class=\"label\">y</td><td><span class=\"terminal_ambig_text\">.</span><span class=\"terminal_ambig_text\">.</span><span class=\"terminal_ambig_text\">.</span><span class=\"terminal_ambig_text\">.</span></td></tr>\n",
       "</table>\n",
       "<p><i>2 x 4 text alignment</i></p>\n",
       "</div>"
      ],
      "text/plain": [
       "2 x 4 alignment: x[----], y[----]"
      ]
     },
     "execution_count": 20,
     "metadata": {},
     "output_type": "execute_result"
    }
   ],
   "source": [
    "aln = make_aligned_seqs([[\"x\", \"-AAAA\"], [\"y\", \"TTTTT\"]], array_align=False)\n",
    "seq = DNA.make_seq(\"CCCCCCCCCCCCCCCCCCCC\", \"x\")\n",
    "exon = seq.add_feature(\"exon\", \"A\", [(5, 8)])\n",
    "aln.get_seq(\"x\").copy_annotations(seq)\n",
    "copied = list(aln.get_annotations_from_seq(\"x\", \"exon\"))\n",
    "copied\n",
    "copied[0].get_slice()"
   ]
  },
  {
   "cell_type": "code",
   "execution_count": 21,
   "id": "83748356",
   "metadata": {
    "execution": {
     "iopub.execute_input": "2023-01-15T01:20:26.155247Z",
     "iopub.status.busy": "2023-01-15T01:20:26.154375Z",
     "iopub.status.idle": "2023-01-15T01:20:26.157730Z",
     "shell.execute_reply": "2023-01-15T01:20:26.158320Z"
    }
   },
   "outputs": [
    {
     "data": {
      "text/plain": [
       "[exon \"A\" at [7:10]/10]"
      ]
     },
     "execution_count": 21,
     "metadata": {},
     "output_type": "execute_result"
    }
   ],
   "source": [
    "aln = make_aligned_seqs(\n",
    "    [[\"x\", \"-AAAAAAAAA\"], [\"y\", \"TTTT--TTTT\"]], array_align=False\n",
    ")\n",
    "seq = DNA.make_seq(\"CCCCCCCCCCCCCCCCCCCC\", \"x\")\n",
    "match_exon = seq.add_feature(\"exon\", \"A\", [(5, 8)])\n",
    "aln.get_seq(\"y\").copy_annotations(seq)\n",
    "copied = list(aln.get_annotations_from_seq(\"y\", \"exon\"))\n",
    "copied"
   ]
  },
  {
   "cell_type": "code",
   "execution_count": 22,
   "id": "74034aa0",
   "metadata": {
    "execution": {
     "iopub.execute_input": "2023-01-15T01:20:26.166388Z",
     "iopub.status.busy": "2023-01-15T01:20:26.165450Z",
     "iopub.status.idle": "2023-01-15T01:20:26.168769Z",
     "shell.execute_reply": "2023-01-15T01:20:26.169357Z"
    }
   },
   "outputs": [
    {
     "data": {
      "text/plain": [
       "[repeat \"A\" at [10:10, -6-]/10]"
      ]
     },
     "execution_count": 22,
     "metadata": {},
     "output_type": "execute_result"
    }
   ],
   "source": [
    "aln = make_aligned_seqs(\n",
    "    [[\"x\", \"-AAAAAAAAA\"], [\"y\", \"TTTT--TTTT\"]], array_align=False\n",
    ")\n",
    "diff_len_seq = DNA.make_seq(\"CCCCCCCCCCCCCCCCCCCCCCCCCCCC\", \"x\")\n",
    "nonmatch = diff_len_seq.add_feature(\"repeat\", \"A\", [(12, 14)])\n",
    "aln.get_seq(\"y\").copy_annotations(diff_len_seq)\n",
    "copied = list(aln.get_annotations_from_seq(\"y\", \"repeat\"))\n",
    "copied"
   ]
  },
  {
   "cell_type": "code",
   "execution_count": 23,
   "id": "74e8f81b",
   "metadata": {
    "execution": {
     "iopub.execute_input": "2023-01-15T01:20:26.178745Z",
     "iopub.status.busy": "2023-01-15T01:20:26.177900Z",
     "iopub.status.idle": "2023-01-15T01:20:26.180750Z",
     "shell.execute_reply": "2023-01-15T01:20:26.181341Z"
    }
   },
   "outputs": [
    {
     "name": "stdout",
     "output_type": "stream",
     "text": [
      "[exon \"fred\" at [4:9]/10]\n",
      ">x\n",
      "AAAAA\n",
      ">y\n",
      "--TTT\n",
      "\n",
      ">x\n",
      "AAAAA\n",
      ">y\n",
      "--T--\n",
      "\n"
     ]
    }
   ],
   "source": [
    "aln = make_aligned_seqs(\n",
    "    [[\"x\", \"-AAAAAAAAA\"], [\"y\", \"------TTTT\"]], array_align=False\n",
    ")\n",
    "exon = aln.get_seq(\"x\").add_feature(\"exon\", \"fred\", [(3, 8)])\n",
    "aln_exons = list(aln.get_annotations_from_seq(\"x\", \"exon\"))\n",
    "print(aln_exons)\n",
    "print(aln_exons[0].get_slice())\n",
    "aln = make_aligned_seqs(\n",
    "    [[\"x\", \"-AAAAAAAAA\"], [\"y\", \"TTTT--T---\"]], array_align=False\n",
    ")\n",
    "exon = aln.get_seq(\"x\").add_feature(\"exon\", \"fred\", [(3, 8)])\n",
    "aln_exons = list(aln.get_annotations_from_seq(\"x\", \"exon\"))\n",
    "print(aln_exons[0].get_slice())"
   ]
  },
  {
   "cell_type": "code",
   "execution_count": 24,
   "id": "8cc385a0",
   "metadata": {
    "execution": {
     "iopub.execute_input": "2023-01-15T01:20:26.188951Z",
     "iopub.status.busy": "2023-01-15T01:20:26.188084Z",
     "iopub.status.idle": "2023-01-15T01:20:26.191411Z",
     "shell.execute_reply": "2023-01-15T01:20:26.192002Z"
    }
   },
   "outputs": [
    {
     "name": "stdout",
     "output_type": "stream",
     "text": [
      ">x\n",
      "C-CCCAAAAA\n",
      ">y\n",
      "-T----TTTT\n",
      "\n",
      "exon \"ex1\" at [0:4]/9\n",
      "CCCC\n",
      "[exon \"ex1\" at [0:1, 2:5]/10]\n",
      ">x\n",
      "CCCC\n",
      ">y\n",
      "----\n",
      "\n"
     ]
    }
   ],
   "source": [
    "aln = make_aligned_seqs(\n",
    "    [[\"x\", \"C-CCCAAAAA\"], [\"y\", \"-T----TTTT\"]], moltype=\"dna\", array_align=False\n",
    ")\n",
    "print(aln)\n",
    "exon = aln.get_seq(\"x\").add_feature(\"exon\", \"ex1\", [(0, 4)])\n",
    "print(exon)\n",
    "print(exon.get_slice())\n",
    "aln_exons = list(aln.get_annotations_from_seq(\"x\", \"exon\"))\n",
    "print(aln_exons)\n",
    "print(aln_exons[0].get_slice())"
   ]
  },
  {
   "cell_type": "code",
   "execution_count": 25,
   "id": "d39ffe8d",
   "metadata": {
    "execution": {
     "iopub.execute_input": "2023-01-15T01:20:26.197511Z",
     "iopub.status.busy": "2023-01-15T01:20:26.196600Z",
     "iopub.status.idle": "2023-01-15T01:20:26.199698Z",
     "shell.execute_reply": "2023-01-15T01:20:26.200340Z"
    }
   },
   "outputs": [
    {
     "name": "stdout",
     "output_type": "stream",
     "text": [
      ">x\n",
      "C-CCC\n",
      ">y\n",
      "-T---\n",
      "\n"
     ]
    }
   ],
   "source": [
    "print(aln_exons[0].as_one_span().get_slice())"
   ]
  },
  {
   "cell_type": "code",
   "execution_count": 26,
   "id": "30f60b62",
   "metadata": {
    "execution": {
     "iopub.execute_input": "2023-01-15T01:20:26.206464Z",
     "iopub.status.busy": "2023-01-15T01:20:26.205664Z",
     "iopub.status.idle": "2023-01-15T01:20:26.208545Z",
     "shell.execute_reply": "2023-01-15T01:20:26.209237Z"
    }
   },
   "outputs": [
    {
     "name": "stdout",
     "output_type": "stream",
     "text": [
      ">x\n",
      "CCCC\n",
      ">y\n",
      "----\n",
      "\n",
      ">x\n",
      "C-CCC\n",
      ">y\n",
      "-T---\n",
      "\n"
     ]
    }
   ],
   "source": [
    "aln_rc = aln.rc()\n",
    "rc_exons = list(aln_rc.get_annotations_from_any_seq(\"exon\"))\n",
    "print(aln_rc[rc_exons])  # not using as_one_span, so gap removed from x\n",
    "print(aln_rc[rc_exons[0].as_one_span()])"
   ]
  },
  {
   "cell_type": "code",
   "execution_count": 27,
   "id": "1da263b8",
   "metadata": {
    "execution": {
     "iopub.execute_input": "2023-01-15T01:20:26.214212Z",
     "iopub.status.busy": "2023-01-15T01:20:26.213292Z",
     "iopub.status.idle": "2023-01-15T01:20:26.216393Z",
     "shell.execute_reply": "2023-01-15T01:20:26.215802Z"
    }
   },
   "outputs": [],
   "source": [
    "all_exons = aln.get_region_covering_all(aln_exons)\n",
    "coords = all_exons.get_coordinates()\n",
    "assert coords == [(0, 1), (2, 5)]"
   ]
  },
  {
   "cell_type": "code",
   "execution_count": 28,
   "id": "475c7a05",
   "metadata": {
    "execution": {
     "iopub.execute_input": "2023-01-15T01:20:26.224215Z",
     "iopub.status.busy": "2023-01-15T01:20:26.223291Z",
     "iopub.status.idle": "2023-01-15T01:20:26.226208Z",
     "shell.execute_reply": "2023-01-15T01:20:26.226761Z"
    }
   },
   "outputs": [
    {
     "name": "stdout",
     "output_type": "stream",
     "text": [
      ">x\n",
      "C-CCCAAAAAGGGAA\n",
      ">y\n",
      "-T----TTTTG-GTT\n",
      "\n",
      "CCCC\n",
      "GGG\n",
      "GG\n"
     ]
    }
   ],
   "source": [
    "aln = make_aligned_seqs(\n",
    "    [[\"x\", \"C-CCCAAAAAGGGAA\"], [\"y\", \"-T----TTTTG-GTT\"]], array_align=False\n",
    ")\n",
    "print(aln)\n",
    "exon = aln.get_seq(\"x\").add_feature(\"exon\", \"norwegian\", [(0, 4)])\n",
    "print(exon.get_slice())\n",
    "repeat = aln.get_seq(\"x\").add_feature(\"repeat\", \"blue\", [(9, 12)])\n",
    "print(repeat.get_slice())\n",
    "repeat = aln.get_seq(\"y\").add_feature(\"repeat\", \"frog\", [(5, 7)])\n",
    "print(repeat.get_slice())"
   ]
  },
  {
   "cell_type": "code",
   "execution_count": 29,
   "id": "2264374a",
   "metadata": {
    "execution": {
     "iopub.execute_input": "2023-01-15T01:20:26.234245Z",
     "iopub.status.busy": "2023-01-15T01:20:26.232554Z",
     "iopub.status.idle": "2023-01-15T01:20:26.236933Z",
     "shell.execute_reply": "2023-01-15T01:20:26.237497Z"
    }
   },
   "outputs": [
    {
     "name": "stdout",
     "output_type": "stream",
     "text": [
      "????AAAAAGGGAA\n",
      "CCCC??????????\n",
      "????AAAAA???AA\n",
      "CCCC?????GGG??\n",
      "TTTTTGGTT\n",
      "TTTTT??TT\n",
      "?????GG??\n"
     ]
    }
   ],
   "source": [
    "print(aln.get_seq(\"x\").with_masked_annotations(\"exon\", mask_char=\"?\"))\n",
    "print(aln.get_seq(\"x\").with_masked_annotations(\"exon\", mask_char=\"?\", shadow=True))\n",
    "print(aln.get_seq(\"x\").with_masked_annotations([\"exon\", \"repeat\"], mask_char=\"?\"))\n",
    "print(\n",
    "    aln.get_seq(\"x\").with_masked_annotations(\n",
    "        [\"exon\", \"repeat\"], mask_char=\"?\", shadow=True\n",
    "    )\n",
    ")\n",
    "print(aln.get_seq(\"y\").with_masked_annotations(\"exon\", mask_char=\"?\"))\n",
    "print(aln.get_seq(\"y\").with_masked_annotations(\"repeat\", mask_char=\"?\"))\n",
    "print(\n",
    "    aln.get_seq(\"y\").with_masked_annotations(\"repeat\", mask_char=\"?\", shadow=True)\n",
    ")"
   ]
  },
  {
   "cell_type": "code",
   "execution_count": 30,
   "id": "f4638063",
   "metadata": {
    "execution": {
     "iopub.execute_input": "2023-01-15T01:20:26.245723Z",
     "iopub.status.busy": "2023-01-15T01:20:26.243755Z",
     "iopub.status.idle": "2023-01-15T01:20:26.249391Z",
     "shell.execute_reply": "2023-01-15T01:20:26.248661Z"
    }
   },
   "outputs": [
    {
     "name": "stdout",
     "output_type": "stream",
     "text": [
      ">x\n",
      "?-???AAAAAGGGAA\n",
      ">y\n",
      "-T----TTTTG-GTT\n",
      "\n",
      ">x\n",
      "C-CCC??????????\n",
      ">y\n",
      "-?----?????-???\n",
      "\n",
      ">x\n",
      "C-CCCAAAAA???AA\n",
      ">y\n",
      "-T----TTTT?-?TT\n",
      "\n",
      ">x\n",
      "?-????????GGG??\n",
      ">y\n",
      "-?----????G-G??\n",
      "\n",
      ">x\n",
      "?-???AAAAA???AA\n",
      ">y\n",
      "-T----TTTT?-?TT\n",
      "\n",
      ">x\n",
      "C-CCC?????GGG??\n",
      ">y\n",
      "-?----????G-G??\n",
      "\n"
     ]
    }
   ],
   "source": [
    "print(aln.with_masked_annotations(\"exon\", mask_char=\"?\"))\n",
    "print(aln.with_masked_annotations(\"exon\", mask_char=\"?\", shadow=True))\n",
    "print(aln.with_masked_annotations(\"repeat\", mask_char=\"?\"))\n",
    "print(aln.with_masked_annotations(\"repeat\", mask_char=\"?\", shadow=True))\n",
    "print(aln.with_masked_annotations([\"repeat\", \"exon\"], mask_char=\"?\"))\n",
    "print(aln.with_masked_annotations([\"repeat\", \"exon\"], shadow=True))"
   ]
  },
  {
   "cell_type": "code",
   "execution_count": 31,
   "id": "8ddc7a6e",
   "metadata": {
    "execution": {
     "iopub.execute_input": "2023-01-15T01:20:26.255148Z",
     "iopub.status.busy": "2023-01-15T01:20:26.254375Z",
     "iopub.status.idle": "2023-01-15T01:20:26.256482Z",
     "shell.execute_reply": "2023-01-15T01:20:26.257038Z"
    }
   },
   "outputs": [],
   "source": [
    "data = [[\"human\", \"CGAAACGTTT\"], [\"mouse\", \"CTAAACGTCG\"]]\n",
    "as_series = make_aligned_seqs(data, array_align=False)\n",
    "as_items = make_aligned_seqs(data, array_align=False)"
   ]
  },
  {
   "cell_type": "code",
   "execution_count": 32,
   "id": "430003d3",
   "metadata": {
    "execution": {
     "iopub.execute_input": "2023-01-15T01:20:26.263185Z",
     "iopub.status.busy": "2023-01-15T01:20:26.262281Z",
     "iopub.status.idle": "2023-01-15T01:20:26.265785Z",
     "shell.execute_reply": "2023-01-15T01:20:26.266341Z"
    }
   },
   "outputs": [
    {
     "data": {
      "text/plain": [
       "cpgsite \"cpg\" at [5:7, 8:10]/10"
      ]
     },
     "execution_count": 32,
     "metadata": {},
     "output_type": "execute_result"
    }
   ],
   "source": [
    "as_series.get_seq(\"human\").add_feature(\"cpgsite\", \"cpg\", [(0, 2), (5, 7)])\n",
    "as_series.get_seq(\"mouse\").add_feature(\"cpgsite\", \"cpg\", [(5, 7), (8, 10)])"
   ]
  },
  {
   "cell_type": "code",
   "execution_count": 33,
   "id": "39e8c882",
   "metadata": {
    "execution": {
     "iopub.execute_input": "2023-01-15T01:20:26.272940Z",
     "iopub.status.busy": "2023-01-15T01:20:26.272058Z",
     "iopub.status.idle": "2023-01-15T01:20:26.275477Z",
     "shell.execute_reply": "2023-01-15T01:20:26.276170Z"
    }
   },
   "outputs": [
    {
     "data": {
      "text/plain": [
       "cpgsite \"cpg\" at [8:10]/10"
      ]
     },
     "execution_count": 33,
     "metadata": {},
     "output_type": "execute_result"
    }
   ],
   "source": [
    "as_items.get_seq(\"human\").add_feature(\"cpgsite\", \"cpg\", [(0, 2)])\n",
    "as_items.get_seq(\"human\").add_feature(\"cpgsite\", \"cpg\", [(5, 7)])\n",
    "as_items.get_seq(\"mouse\").add_feature(\"cpgsite\", \"cpg\", [(5, 7)])\n",
    "as_items.get_seq(\"mouse\").add_feature(\"cpgsite\", \"cpg\", [(8, 10)])"
   ]
  },
  {
   "cell_type": "code",
   "execution_count": 34,
   "id": "adef035f",
   "metadata": {
    "execution": {
     "iopub.execute_input": "2023-01-15T01:20:26.282732Z",
     "iopub.status.busy": "2023-01-15T01:20:26.281830Z",
     "iopub.status.idle": "2023-01-15T01:20:26.284769Z",
     "shell.execute_reply": "2023-01-15T01:20:26.285322Z"
    }
   },
   "outputs": [
    {
     "name": "stdout",
     "output_type": "stream",
     "text": [
      ">human\n",
      "??AAA??TTT\n",
      ">mouse\n",
      "CTAAA??T??\n",
      "\n",
      ">human\n",
      "??AAA??TTT\n",
      ">mouse\n",
      "CTAAA??T??\n",
      "\n"
     ]
    }
   ],
   "source": [
    "serial = as_series.with_masked_annotations([\"cpgsite\"])\n",
    "print(serial)\n",
    "itemwise = as_items.with_masked_annotations([\"cpgsite\"])\n",
    "print(itemwise)"
   ]
  },
  {
   "cell_type": "code",
   "execution_count": 35,
   "id": "4fb89787",
   "metadata": {
    "execution": {
     "iopub.execute_input": "2023-01-15T01:20:26.290081Z",
     "iopub.status.busy": "2023-01-15T01:20:26.289249Z",
     "iopub.status.idle": "2023-01-15T01:20:26.292186Z",
     "shell.execute_reply": "2023-01-15T01:20:26.292762Z"
    }
   },
   "outputs": [
    {
     "name": "stdout",
     "output_type": "stream",
     "text": [
      "AA????AAAA?????AAAAAAAAAA??????????AAA\n",
      "TTT??????????TTTTTTTTTT?????TTTT????TT\n"
     ]
    }
   ],
   "source": [
    "print(plus.with_masked_annotations(\"CDS\"))\n",
    "print(minus.with_masked_annotations(\"CDS\"))"
   ]
  }
 ],
 "metadata": {
  "kernelspec": {
   "display_name": "Python 3 (ipykernel)",
   "language": "python",
   "name": "python3"
  },
  "language_info": {
   "codemirror_mode": {
    "name": "ipython",
    "version": 3
   },
   "file_extension": ".py",
   "mimetype": "text/x-python",
   "name": "python",
   "nbconvert_exporter": "python",
   "pygments_lexer": "ipython3",
   "version": "3.10.0"
  }
 },
 "nbformat": 4,
 "nbformat_minor": 5
}