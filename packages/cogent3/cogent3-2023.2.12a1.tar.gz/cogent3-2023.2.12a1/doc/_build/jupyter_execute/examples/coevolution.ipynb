{
 "cells": [
  {
   "cell_type": "code",
   "execution_count": 1,
   "id": "bbdf9da8",
   "metadata": {
    "execution": {
     "iopub.execute_input": "2023-01-15T01:20:17.468831Z",
     "iopub.status.busy": "2023-01-15T01:20:17.467661Z",
     "iopub.status.idle": "2023-01-15T01:20:20.011810Z",
     "shell.execute_reply": "2023-01-15T01:20:20.012480Z"
    }
   },
   "outputs": [],
   "source": [
    "from cogent3 import make_aligned_seqs\n",
    "from cogent3.core.alignment import ArrayAlignment\n",
    "from cogent3.evolve.coevolution import validate_alignment\n",
    "\n",
    "aln = make_aligned_seqs(\n",
    "    {\"1\": \"GAA\", \"2\": \"CTA\", \"3\": \"CTC\", \"4\": \"-TC\"},\n",
    "    moltype=\"protein\",\n",
    "    array_align=True,\n",
    ")\n",
    "validate_alignment(aln)"
   ]
  },
  {
   "cell_type": "code",
   "execution_count": 2,
   "id": "7c1e037c",
   "metadata": {
    "execution": {
     "iopub.execute_input": "2023-01-15T01:20:20.019023Z",
     "iopub.status.busy": "2023-01-15T01:20:20.018127Z",
     "iopub.status.idle": "2023-01-15T01:20:20.021064Z",
     "shell.execute_reply": "2023-01-15T01:20:20.021697Z"
    }
   },
   "outputs": [],
   "source": [
    "from cogent3 import make_aligned_seqs\n",
    "from cogent3.core.alignment import ArrayAlignment\n",
    "\n",
    "aln = make_aligned_seqs(\n",
    "    {\"1\": \"AAA\", \"2\": \"CTA\", \"3\": \"CTC\", \"4\": \"-TC\"},\n",
    "    moltype=\"protein\",\n",
    "    array_align=True,\n",
    ")"
   ]
  },
  {
   "cell_type": "code",
   "execution_count": 3,
   "id": "2b8eb964",
   "metadata": {
    "execution": {
     "iopub.execute_input": "2023-01-15T01:20:20.037310Z",
     "iopub.status.busy": "2023-01-15T01:20:20.036303Z",
     "iopub.status.idle": "2023-01-15T01:20:20.040127Z",
     "shell.execute_reply": "2023-01-15T01:20:20.040839Z"
    }
   },
   "outputs": [
    {
     "data": {
      "text/plain": [
       "0.31127812445913294"
      ]
     },
     "execution_count": 3,
     "metadata": {},
     "output_type": "execute_result"
    }
   ],
   "source": [
    "from cogent3.evolve.coevolution import (\n",
    "    coevolve_pair,\n",
    "    coevolve_pair_functions,\n",
    ")\n",
    "\n",
    "coevolve_pair(coevolve_pair_functions[\"mi\"], aln, pos1=1, pos2=2)"
   ]
  },
  {
   "cell_type": "code",
   "execution_count": 4,
   "id": "b6470a3a",
   "metadata": {
    "execution": {
     "iopub.execute_input": "2023-01-15T01:20:20.050332Z",
     "iopub.status.busy": "2023-01-15T01:20:20.049320Z",
     "iopub.status.idle": "2023-01-15T01:20:20.052701Z",
     "shell.execute_reply": "2023-01-15T01:20:20.053336Z"
    }
   },
   "outputs": [
    {
     "data": {
      "text/plain": [
       "0.980536895536287"
      ]
     },
     "execution_count": 4,
     "metadata": {},
     "output_type": "execute_result"
    }
   ],
   "source": [
    "from cogent3.evolve.coevolution import (\n",
    "    coevolve_pair,\n",
    "    coevolve_pair_functions,\n",
    ")\n",
    "\n",
    "coevolve_pair(coevolve_pair_functions[\"sca\"], aln, pos1=1, pos2=2, cutoff=0.5)"
   ]
  },
  {
   "cell_type": "code",
   "execution_count": 5,
   "id": "7301a64c",
   "metadata": {
    "execution": {
     "iopub.execute_input": "2023-01-15T01:20:20.061560Z",
     "iopub.status.busy": "2023-01-15T01:20:20.060544Z",
     "iopub.status.idle": "2023-01-15T01:20:20.063796Z",
     "shell.execute_reply": "2023-01-15T01:20:20.064789Z"
    }
   },
   "outputs": [
    {
     "data": {
      "text/plain": [
       "array([       nan, 0.81127812, 0.31127812])"
      ]
     },
     "execution_count": 5,
     "metadata": {},
     "output_type": "execute_result"
    }
   ],
   "source": [
    "from cogent3.evolve.coevolution import (\n",
    "    coevolve_position,\n",
    "    coevolve_position_functions,\n",
    ")\n",
    "\n",
    "coevolve_position(coevolve_position_functions[\"mi\"], aln, position=1)"
   ]
  },
  {
   "cell_type": "code",
   "execution_count": 6,
   "id": "997cebdc",
   "metadata": {
    "execution": {
     "iopub.execute_input": "2023-01-15T01:20:20.072854Z",
     "iopub.status.busy": "2023-01-15T01:20:20.070412Z",
     "iopub.status.idle": "2023-01-15T01:20:20.077407Z",
     "shell.execute_reply": "2023-01-15T01:20:20.076637Z"
    }
   },
   "outputs": [
    {
     "data": {
      "text/plain": [
       "array([[       nan,        nan,        nan],\n",
       "       [       nan, 0.81127812, 0.31127812],\n",
       "       [       nan, 0.31127812, 1.        ]])"
      ]
     },
     "execution_count": 6,
     "metadata": {},
     "output_type": "execute_result"
    }
   ],
   "source": [
    "from cogent3.evolve.coevolution import (\n",
    "    coevolve_alignment,\n",
    "    coevolve_alignment_functions,\n",
    ")\n",
    "\n",
    "coevolve_alignment(coevolve_alignment_functions[\"mi\"], aln)"
   ]
  },
  {
   "cell_type": "code",
   "execution_count": 7,
   "id": "7af8c13f",
   "metadata": {
    "execution": {
     "iopub.execute_input": "2023-01-15T01:20:20.082571Z",
     "iopub.status.busy": "2023-01-15T01:20:20.081607Z",
     "iopub.status.idle": "2023-01-15T01:20:20.085254Z",
     "shell.execute_reply": "2023-01-15T01:20:20.085838Z"
    }
   },
   "outputs": [
    {
     "name": "stdout",
     "output_type": "stream",
     "text": [
      "dict_keys(['mi', 'nmi', 'rmi', 'sca', 'an'])\n"
     ]
    }
   ],
   "source": [
    "print(coevolve_pair_functions.keys())"
   ]
  },
  {
   "cell_type": "code",
   "execution_count": 8,
   "id": "192eab2e",
   "metadata": {
    "execution": {
     "iopub.execute_input": "2023-01-15T01:20:20.093082Z",
     "iopub.status.busy": "2023-01-15T01:20:20.092089Z",
     "iopub.status.idle": "2023-01-15T01:20:20.101309Z",
     "shell.execute_reply": "2023-01-15T01:20:20.101946Z"
    }
   },
   "outputs": [
    {
     "data": {
      "text/plain": [
       "array([[       nan,        nan,        nan],\n",
       "       [       nan, 0.12255625, 0.31127812],\n",
       "       [       nan, 0.31127812, 0.        ],\n",
       "       [       nan, 0.31127812, 0.        ]])"
      ]
     },
     "execution_count": 8,
     "metadata": {},
     "output_type": "execute_result"
    }
   ],
   "source": [
    "from cogent3.evolve.coevolution import (\n",
    "    coevolve_alignment_functions,\n",
    "    coevolve_alignments,\n",
    ")\n",
    "\n",
    "aln1 = make_aligned_seqs(\n",
    "    {\n",
    "        \"human+protein1\": \"AAA\",\n",
    "        \"pig+protein1\": \"CTA\",\n",
    "        \"chicken+protein1\": \"CTC\",\n",
    "        \"echidna+weird_db_identifier\": \"-TC\",\n",
    "    },\n",
    "    moltype=\"protein\",\n",
    "    array_align=True,\n",
    ")\n",
    "aln2 = make_aligned_seqs(\n",
    "    {\n",
    "        \"pig+protein2\": \"AAAY\",\n",
    "        \"chicken+protein2\": \"CTAY\",\n",
    "        \"echidna+protein2\": \"CTCF\",\n",
    "        \"human+protein2\": \"-TCF\",\n",
    "    },\n",
    "    moltype=\"protein\",\n",
    "    array_align=True,\n",
    ")\n",
    "coevolve_alignments(coevolve_alignment_functions[\"mi\"], aln1, aln2)"
   ]
  }
 ],
 "metadata": {
  "kernelspec": {
   "display_name": "Python 3 (ipykernel)",
   "language": "python",
   "name": "python3"
  },
  "language_info": {
   "codemirror_mode": {
    "name": "ipython",
    "version": 3
   },
   "file_extension": ".py",
   "mimetype": "text/x-python",
   "name": "python",
   "nbconvert_exporter": "python",
   "pygments_lexer": "ipython3",
   "version": "3.10.0"
  }
 },
 "nbformat": 4,
 "nbformat_minor": 5
}