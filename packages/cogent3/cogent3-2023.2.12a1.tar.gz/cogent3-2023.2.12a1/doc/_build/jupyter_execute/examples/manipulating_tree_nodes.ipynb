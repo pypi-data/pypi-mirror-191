{
 "cells": [
  {
   "cell_type": "code",
   "execution_count": 1,
   "id": "f0fecab7",
   "metadata": {
    "execution": {
     "iopub.execute_input": "2023-01-15T01:20:59.282803Z",
     "iopub.status.busy": "2023-01-15T01:20:59.282184Z",
     "iopub.status.idle": "2023-01-15T01:21:00.973845Z",
     "shell.execute_reply": "2023-01-15T01:21:00.974283Z"
    }
   },
   "outputs": [],
   "source": [
    "from cogent3 import load_tree, make_tree\n",
    "from cogent3.core.tree import PhyloNode\n",
    "from cogent3.parse.tree import DndParser"
   ]
  },
  {
   "cell_type": "code",
   "execution_count": 2,
   "id": "a713d78b",
   "metadata": {
    "execution": {
     "iopub.execute_input": "2023-01-15T01:21:00.979292Z",
     "iopub.status.busy": "2023-01-15T01:21:00.978661Z",
     "iopub.status.idle": "2023-01-15T01:21:00.980472Z",
     "shell.execute_reply": "2023-01-15T01:21:00.980899Z"
    }
   },
   "outputs": [],
   "source": [
    "simple_tree_string = \"(B:0.2,(C:0.3,D:0.4)E:0.5)F;\"\n",
    "complex_tree_string = \"(((363564 AB294167.1 Alkalibacterium putridalgicola:0.0028006,55874 AB083411.1 Marinilactibacillus psychrotolerans:0.0022089):0.40998,(15050 Y10772.1 Facklamia hominis:0.32304,(132509 AY707780.1 Aerococcus viridans:0.58815,((143063 AY879307.1 Abiotrophia defectiva:0.5807,83619 AB042060.1 Bacillus schlegelii:0.23569):0.03586,169722 AB275483.1 Fibrobacter succinogenes:0.38272):0.06516):0.03492):0.14265):0.63594,(3589 M62687.1 Fibrobacter intestinalis:0.65866,314063 CP001146.1 Dictyoglomus thermophilum:0.38791):0.32147,276579 EU652053.1 Thermus scotoductus:0.57336);\"\n",
    "simple_tree = make_tree(simple_tree_string)\n",
    "complex_tree = DndParser(complex_tree_string, PhyloNode)"
   ]
  },
  {
   "cell_type": "code",
   "execution_count": 3,
   "id": "79074716",
   "metadata": {
    "execution": {
     "iopub.execute_input": "2023-01-15T01:21:00.984620Z",
     "iopub.status.busy": "2023-01-15T01:21:00.983893Z",
     "iopub.status.idle": "2023-01-15T01:21:00.986785Z",
     "shell.execute_reply": "2023-01-15T01:21:00.987215Z"
    }
   },
   "outputs": [
    {
     "name": "stdout",
     "output_type": "stream",
     "text": [
      "          /-B\n",
      "-F-------|\n",
      "         |          /-C\n",
      "          \\E-------|\n",
      "                    \\-D\n"
     ]
    }
   ],
   "source": [
    "print(simple_tree.ascii_art())"
   ]
  },
  {
   "cell_type": "code",
   "execution_count": 4,
   "id": "797412e2",
   "metadata": {
    "execution": {
     "iopub.execute_input": "2023-01-15T01:21:00.990759Z",
     "iopub.status.busy": "2023-01-15T01:21:00.990159Z",
     "iopub.status.idle": "2023-01-15T01:21:00.992207Z",
     "shell.execute_reply": "2023-01-15T01:21:00.992730Z"
    }
   },
   "outputs": [],
   "source": [
    "A_node = PhyloNode(name=\"A\", Length=0.1)"
   ]
  },
  {
   "cell_type": "code",
   "execution_count": 5,
   "id": "3f08eeeb",
   "metadata": {
    "execution": {
     "iopub.execute_input": "2023-01-15T01:21:00.996235Z",
     "iopub.status.busy": "2023-01-15T01:21:00.995584Z",
     "iopub.status.idle": "2023-01-15T01:21:00.997902Z",
     "shell.execute_reply": "2023-01-15T01:21:00.998330Z"
    }
   },
   "outputs": [
    {
     "name": "stdout",
     "output_type": "stream",
     "text": [
      "[Tree(\"B;\"), Tree(\"(C,D)E;\")]\n"
     ]
    }
   ],
   "source": [
    "print(simple_tree.children)"
   ]
  },
  {
   "cell_type": "code",
   "execution_count": 6,
   "id": "7fe89a49",
   "metadata": {
    "execution": {
     "iopub.execute_input": "2023-01-15T01:21:01.007124Z",
     "iopub.status.busy": "2023-01-15T01:21:01.006414Z",
     "iopub.status.idle": "2023-01-15T01:21:01.009315Z",
     "shell.execute_reply": "2023-01-15T01:21:01.009818Z"
    }
   },
   "outputs": [
    {
     "data": {
      "text/plain": [
       "True"
      ]
     },
     "execution_count": 6,
     "metadata": {},
     "output_type": "execute_result"
    }
   ],
   "source": [
    "simple_tree.children[1].remove(\"C\")"
   ]
  },
  {
   "cell_type": "code",
   "execution_count": 7,
   "id": "1b2e6086",
   "metadata": {
    "execution": {
     "iopub.execute_input": "2023-01-15T01:21:01.013186Z",
     "iopub.status.busy": "2023-01-15T01:21:01.012595Z",
     "iopub.status.idle": "2023-01-15T01:21:01.014314Z",
     "shell.execute_reply": "2023-01-15T01:21:01.014936Z"
    }
   },
   "outputs": [],
   "source": [
    "simple_tree.children[1].insert(0, A_node)"
   ]
  },
  {
   "cell_type": "code",
   "execution_count": 8,
   "id": "a1604716",
   "metadata": {
    "execution": {
     "iopub.execute_input": "2023-01-15T01:21:01.018488Z",
     "iopub.status.busy": "2023-01-15T01:21:01.017822Z",
     "iopub.status.idle": "2023-01-15T01:21:01.020046Z",
     "shell.execute_reply": "2023-01-15T01:21:01.020467Z"
    }
   },
   "outputs": [
    {
     "name": "stdout",
     "output_type": "stream",
     "text": [
      "          /-B\n",
      "-F-------|\n",
      "         |          /-A\n",
      "          \\E-------|\n",
      "                    \\-D\n"
     ]
    }
   ],
   "source": [
    "print(simple_tree.ascii_art())"
   ]
  },
  {
   "cell_type": "code",
   "execution_count": 9,
   "id": "c798d84b",
   "metadata": {
    "execution": {
     "iopub.execute_input": "2023-01-15T01:21:01.024228Z",
     "iopub.status.busy": "2023-01-15T01:21:01.023556Z",
     "iopub.status.idle": "2023-01-15T01:21:01.025877Z",
     "shell.execute_reply": "2023-01-15T01:21:01.026304Z"
    }
   },
   "outputs": [
    {
     "name": "stdout",
     "output_type": "stream",
     "text": [
      "          /-B\n",
      "-F-------|\n",
      "          \\E------- /-D\n"
     ]
    }
   ],
   "source": [
    "simple_tree.children[1].remove(\"A\")\n",
    "print(simple_tree.ascii_art())"
   ]
  },
  {
   "cell_type": "code",
   "execution_count": 10,
   "id": "908447a9",
   "metadata": {
    "execution": {
     "iopub.execute_input": "2023-01-15T01:21:01.029981Z",
     "iopub.status.busy": "2023-01-15T01:21:01.029368Z",
     "iopub.status.idle": "2023-01-15T01:21:01.031503Z",
     "shell.execute_reply": "2023-01-15T01:21:01.031985Z"
    }
   },
   "outputs": [
    {
     "name": "stdout",
     "output_type": "stream",
     "text": [
      "          /-B\n",
      "-F-------|\n",
      "          \\-D\n"
     ]
    }
   ],
   "source": [
    "simple_tree.prune()\n",
    "print(simple_tree.ascii_art())"
   ]
  },
  {
   "cell_type": "code",
   "execution_count": 11,
   "id": "ec34af7d",
   "metadata": {
    "execution": {
     "iopub.execute_input": "2023-01-15T01:21:01.035817Z",
     "iopub.status.busy": "2023-01-15T01:21:01.035211Z",
     "iopub.status.idle": "2023-01-15T01:21:01.037219Z",
     "shell.execute_reply": "2023-01-15T01:21:01.037639Z"
    }
   },
   "outputs": [],
   "source": [
    "for n in complex_tree.iter_tips():\n",
    "    n.name = n.name.split()[2] + \" \" + n.name.split()[3]"
   ]
  },
  {
   "cell_type": "code",
   "execution_count": 12,
   "id": "bde92f2c",
   "metadata": {
    "execution": {
     "iopub.execute_input": "2023-01-15T01:21:01.041359Z",
     "iopub.status.busy": "2023-01-15T01:21:01.040733Z",
     "iopub.status.idle": "2023-01-15T01:21:01.043045Z",
     "shell.execute_reply": "2023-01-15T01:21:01.043477Z"
    }
   },
   "outputs": [
    {
     "name": "stdout",
     "output_type": "stream",
     "text": [
      "                              /-Alkalibacterium putridalgicola\n",
      "                    /--------|\n",
      "                   |          \\-Marinilactibacillus psychrotolerans\n",
      "          /--------|\n",
      "         |         |          /-Facklamia hominis\n",
      "         |         |         |\n",
      "         |          \\--------|          /-Aerococcus viridans\n",
      "         |                   |         |\n",
      "         |                    \\--------|                    /-Abiotrophia defectiva\n",
      "         |                             |          /--------|\n",
      "---------|                              \\--------|          \\-Bacillus schlegelii\n",
      "         |                                       |\n",
      "         |                                        \\-Fibrobacter succinogenes\n",
      "         |\n",
      "         |          /-Fibrobacter intestinalis\n",
      "         |---------|\n",
      "         |          \\-Dictyoglomus thermophilum\n",
      "         |\n",
      "          \\-Thermus scotoductus\n"
     ]
    }
   ],
   "source": [
    "print(complex_tree.ascii_art(show_internal=False))"
   ]
  },
  {
   "cell_type": "code",
   "execution_count": 13,
   "id": "61e200b7",
   "metadata": {
    "execution": {
     "iopub.execute_input": "2023-01-15T01:21:01.046830Z",
     "iopub.status.busy": "2023-01-15T01:21:01.046226Z",
     "iopub.status.idle": "2023-01-15T01:21:01.047836Z",
     "shell.execute_reply": "2023-01-15T01:21:01.048440Z"
    }
   },
   "outputs": [],
   "source": [
    "tips = complex_tree.tips()"
   ]
  },
  {
   "cell_type": "code",
   "execution_count": 14,
   "id": "e138ce7a",
   "metadata": {
    "execution": {
     "iopub.execute_input": "2023-01-15T01:21:01.052335Z",
     "iopub.status.busy": "2023-01-15T01:21:01.051693Z",
     "iopub.status.idle": "2023-01-15T01:21:01.054006Z",
     "shell.execute_reply": "2023-01-15T01:21:01.053567Z"
    }
   },
   "outputs": [],
   "source": [
    "tips_to_delete = []\n",
    "AEROCOCCUS_INDEX = 3\n",
    "for n in tips:\n",
    "    if tips[AEROCOCCUS_INDEX].distance(n) > 1.8:\n",
    "        tips_to_delete.append(n)"
   ]
  },
  {
   "cell_type": "code",
   "execution_count": 15,
   "id": "67cb427a",
   "metadata": {
    "execution": {
     "iopub.execute_input": "2023-01-15T01:21:01.057609Z",
     "iopub.status.busy": "2023-01-15T01:21:01.056952Z",
     "iopub.status.idle": "2023-01-15T01:21:01.059147Z",
     "shell.execute_reply": "2023-01-15T01:21:01.059627Z"
    }
   },
   "outputs": [],
   "source": [
    "for n in tips_to_delete:\n",
    "    n.parent.remove(n)\n",
    "    complex_tree.prune()"
   ]
  },
  {
   "cell_type": "code",
   "execution_count": 16,
   "id": "17e3d4e2",
   "metadata": {
    "execution": {
     "iopub.execute_input": "2023-01-15T01:21:01.063131Z",
     "iopub.status.busy": "2023-01-15T01:21:01.062510Z",
     "iopub.status.idle": "2023-01-15T01:21:01.064773Z",
     "shell.execute_reply": "2023-01-15T01:21:01.065203Z"
    }
   },
   "outputs": [
    {
     "name": "stdout",
     "output_type": "stream",
     "text": [
      "                              /-Alkalibacterium putridalgicola\n",
      "                    /--------|\n",
      "                   |          \\-Marinilactibacillus psychrotolerans\n",
      "--------- /--------|\n",
      "                   |          /-Facklamia hominis\n",
      "                   |         |\n",
      "                    \\--------|          /-Aerococcus viridans\n",
      "                             |         |\n",
      "                              \\--------|                    /-Abiotrophia defectiva\n",
      "                                       |          /--------|\n",
      "                                        \\--------|          \\-Bacillus schlegelii\n",
      "                                                 |\n",
      "                                                  \\-Fibrobacter succinogenes\n"
     ]
    }
   ],
   "source": [
    "print(complex_tree.ascii_art(show_internal=False))"
   ]
  }
 ],
 "metadata": {
  "kernelspec": {
   "display_name": "Python 3 (ipykernel)",
   "language": "python",
   "name": "python3"
  },
  "language_info": {
   "codemirror_mode": {
    "name": "ipython",
    "version": 3
   },
   "file_extension": ".py",
   "mimetype": "text/x-python",
   "name": "python",
   "nbconvert_exporter": "python",
   "pygments_lexer": "ipython3",
   "version": "3.10.0"
  }
 },
 "nbformat": 4,
 "nbformat_minor": 5
}