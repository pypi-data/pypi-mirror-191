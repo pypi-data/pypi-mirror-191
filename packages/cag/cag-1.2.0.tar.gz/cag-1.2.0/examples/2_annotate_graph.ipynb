{
 "cells": [
  {
   "cell_type": "code",
   "execution_count": 1,
   "id": "6b4c2483",
   "metadata": {},
   "outputs": [
    {
     "name": "stdout",
     "output_type": "stream",
     "text": [
      "Note: you may need to restart the kernel to use updated packages.\n"
     ]
    },
    {
     "name": "stderr",
     "output_type": "stream",
     "text": [
      "  WARNING: The script cag.exe is installed in 'C:\\Users\\elba_ro\\AppData\\Roaming\\Python\\Python38\\Scripts' which is not on PATH.\n",
      "  Consider adding this directory to PATH or, if you prefer to suppress this warning, use --no-warn-script-location.\n"
     ]
    },
    {
     "name": "stdout",
     "output_type": "stream",
     "text": [
      "Defaulting to user installation because normal site-packages is not writeable\n",
      "Obtaining file:///C:/Users/elba_ro/Documents/projects/public_cag/corpus-annotation-graph-builder\n",
      "  Installing build dependencies: started\n",
      "  Installing build dependencies: finished with status 'done'\n",
      "  Checking if build backend supports build_editable: started\n",
      "  Checking if build backend supports build_editable: finished with status 'done'\n",
      "  Getting requirements to build editable: started\n",
      "  Getting requirements to build editable: finished with status 'done'\n",
      "  Preparing editable metadata (pyproject.toml): started\n",
      "  Preparing editable metadata (pyproject.toml): finished with status 'done'\n",
      "Requirement already satisfied: nltk>=3.4.5 in c:\\users\\elba_ro\\appdata\\roaming\\python\\python38\\site-packages (from cag==1.1.5) (3.4.5)\n",
      "Requirement already satisfied: dataclasses>=0.6 in c:\\users\\elba_ro\\appdata\\roaming\\python\\python38\\site-packages (from cag==1.1.5) (0.6)\n",
      "Requirement already satisfied: spacy_arguing_lexicon>=0.0.3 in c:\\program files\\python38\\lib\\site-packages (from cag==1.1.5) (0.0.3)\n",
      "Requirement already satisfied: empath>=0.89 in c:\\program files\\python38\\lib\\site-packages (from cag==1.1.5) (0.89)\n",
      "Requirement already satisfied: python-arango>=7.4.1 in c:\\program files\\python38\\lib\\site-packages (from cag==1.1.5) (7.4.1)\n",
      "Requirement already satisfied: networkx>=2.8.5 in c:\\program files\\python38\\lib\\site-packages (from cag==1.1.5) (2.8.5)\n",
      "Requirement already satisfied: pyArango>=2.0.1 in c:\\users\\elba_ro\\appdata\\roaming\\python\\python38\\site-packages (from cag==1.1.5) (2.0.1)\n",
      "Requirement already satisfied: tqdm>=4.43.0 in c:\\program files\\python38\\lib\\site-packages (from cag==1.1.5) (4.43.0)\n",
      "Requirement already satisfied: spacy>=3.4.1 in c:\\users\\elba_ro\\appdata\\roaming\\python\\python38\\site-packages (from cag==1.1.5) (3.4.1)\n",
      "Requirement already satisfied: pytest>=7.1.2 in c:\\users\\elba_ro\\appdata\\roaming\\python\\python38\\site-packages (from cag==1.1.5) (7.1.2)\n",
      "Requirement already satisfied: tomli>=2.0.1 in c:\\users\\elba_ro\\appdata\\roaming\\python\\python38\\site-packages (from cag==1.1.5) (2.0.1)\n",
      "Requirement already satisfied: pyvis>=0.2.1 in c:\\program files\\python38\\lib\\site-packages (from cag==1.1.5) (0.2.1)\n",
      "Requirement already satisfied: requests in c:\\users\\elba_ro\\appdata\\roaming\\python\\python38\\site-packages (from empath>=0.89->cag==1.1.5) (2.28.1)\n",
      "Requirement already satisfied: six in c:\\program files\\python38\\lib\\site-packages (from nltk>=3.4.5->cag==1.1.5) (1.15.0)\n",
      "Requirement already satisfied: future in c:\\program files\\python38\\lib\\site-packages (from pyArango>=2.0.1->cag==1.1.5) (0.18.2)\n",
      "Requirement already satisfied: datetime in c:\\users\\elba_ro\\appdata\\roaming\\python\\python38\\site-packages (from pyArango>=2.0.1->cag==1.1.5) (4.4)\n",
      "Requirement already satisfied: iniconfig in c:\\program files\\python38\\lib\\site-packages (from pytest>=7.1.2->cag==1.1.5) (1.1.1)\n",
      "Requirement already satisfied: pluggy<2.0,>=0.12 in c:\\program files\\python38\\lib\\site-packages (from pytest>=7.1.2->cag==1.1.5) (1.0.0)\n",
      "Requirement already satisfied: attrs>=19.2.0 in c:\\program files\\python38\\lib\\site-packages (from pytest>=7.1.2->cag==1.1.5) (20.3.0)\n",
      "Requirement already satisfied: packaging in c:\\users\\elba_ro\\appdata\\roaming\\python\\python38\\site-packages (from pytest>=7.1.2->cag==1.1.5) (21.3)\n",
      "Requirement already satisfied: atomicwrites>=1.0 in c:\\program files\\python38\\lib\\site-packages (from pytest>=7.1.2->cag==1.1.5) (1.3.0)\n",
      "Requirement already satisfied: colorama in c:\\program files\\python38\\lib\\site-packages (from pytest>=7.1.2->cag==1.1.5) (0.4.3)\n",
      "Requirement already satisfied: py>=1.8.2 in c:\\program files\\python38\\lib\\site-packages (from pytest>=7.1.2->cag==1.1.5) (1.11.0)\n",
      "Requirement already satisfied: urllib3>=1.26.0 in c:\\users\\elba_ro\\appdata\\roaming\\python\\python38\\site-packages (from python-arango>=7.4.1->cag==1.1.5) (1.26.12)\n",
      "Requirement already satisfied: requests-toolbelt in c:\\users\\elba_ro\\appdata\\roaming\\python\\python38\\site-packages (from python-arango>=7.4.1->cag==1.1.5) (0.9.1)\n",
      "Requirement already satisfied: PyJWT in c:\\users\\elba_ro\\appdata\\roaming\\python\\python38\\site-packages (from python-arango>=7.4.1->cag==1.1.5) (2.4.0)\n",
      "Requirement already satisfied: setuptools>=42 in c:\\users\\elba_ro\\appdata\\roaming\\python\\python38\\site-packages (from python-arango>=7.4.1->cag==1.1.5) (63.1.0)\n",
      "Requirement already satisfied: jinja2>=2.9.6 in c:\\users\\elba_ro\\appdata\\roaming\\python\\python38\\site-packages (from pyvis>=0.2.1->cag==1.1.5) (3.1.2)\n",
      "Requirement already satisfied: ipython>=5.3.0 in c:\\users\\elba_ro\\appdata\\roaming\\python\\python38\\site-packages (from pyvis>=0.2.1->cag==1.1.5) (8.4.0)\n",
      "Requirement already satisfied: jsonpickle>=1.4.1 in c:\\program files\\python38\\lib\\site-packages (from pyvis>=0.2.1->cag==1.1.5) (2.2.0)\n",
      "Requirement already satisfied: preshed<3.1.0,>=3.0.2 in c:\\program files\\python38\\lib\\site-packages (from spacy>=3.4.1->cag==1.1.5) (3.0.2)\n",
      "Requirement already satisfied: cymem<2.1.0,>=2.0.2 in c:\\program files\\python38\\lib\\site-packages (from spacy>=3.4.1->cag==1.1.5) (2.0.3)\n",
      "Requirement already satisfied: thinc<8.2.0,>=8.1.0 in c:\\users\\elba_ro\\appdata\\roaming\\python\\python38\\site-packages (from spacy>=3.4.1->cag==1.1.5) (8.1.0)\n",
      "Requirement already satisfied: langcodes<4.0.0,>=3.2.0 in c:\\users\\elba_ro\\appdata\\roaming\\python\\python38\\site-packages (from spacy>=3.4.1->cag==1.1.5) (3.3.0)\n",
      "Requirement already satisfied: pydantic!=1.8,!=1.8.1,<1.10.0,>=1.7.4 in c:\\users\\elba_ro\\appdata\\roaming\\python\\python38\\site-packages (from spacy>=3.4.1->cag==1.1.5) (1.8.2)\n",
      "Requirement already satisfied: numpy>=1.15.0 in c:\\users\\elba_ro\\appdata\\roaming\\python\\python38\\site-packages (from spacy>=3.4.1->cag==1.1.5) (1.22.4)\n",
      "Requirement already satisfied: catalogue<2.1.0,>=2.0.6 in c:\\users\\elba_ro\\appdata\\roaming\\python\\python38\\site-packages (from spacy>=3.4.1->cag==1.1.5) (2.0.7)\n",
      "Requirement already satisfied: murmurhash<1.1.0,>=0.28.0 in c:\\program files\\python38\\lib\\site-packages (from spacy>=3.4.1->cag==1.1.5) (1.0.2)\n",
      "Requirement already satisfied: spacy-loggers<2.0.0,>=1.0.0 in c:\\users\\elba_ro\\appdata\\roaming\\python\\python38\\site-packages (from spacy>=3.4.1->cag==1.1.5) (1.0.2)\n",
      "Requirement already satisfied: typer<0.5.0,>=0.3.0 in c:\\users\\elba_ro\\appdata\\roaming\\python\\python38\\site-packages (from spacy>=3.4.1->cag==1.1.5) (0.4.2)\n",
      "Requirement already satisfied: spacy-legacy<3.1.0,>=3.0.9 in c:\\users\\elba_ro\\appdata\\roaming\\python\\python38\\site-packages (from spacy>=3.4.1->cag==1.1.5) (3.0.9)\n",
      "Requirement already satisfied: wasabi<1.1.0,>=0.9.1 in c:\\users\\elba_ro\\appdata\\roaming\\python\\python38\\site-packages (from spacy>=3.4.1->cag==1.1.5) (0.9.1)\n",
      "Requirement already satisfied: pathy>=0.3.5 in c:\\users\\elba_ro\\appdata\\roaming\\python\\python38\\site-packages (from spacy>=3.4.1->cag==1.1.5) (0.6.2)\n",
      "Requirement already satisfied: srsly<3.0.0,>=2.4.3 in c:\\users\\elba_ro\\appdata\\roaming\\python\\python38\\site-packages (from spacy>=3.4.1->cag==1.1.5) (2.4.3)\n",
      "Requirement already satisfied: prompt-toolkit!=3.0.0,!=3.0.1,<3.1.0,>=2.0.0 in c:\\program files\\python38\\lib\\site-packages (from ipython>=5.3.0->pyvis>=0.2.1->cag==1.1.5) (3.0.30)\n",
      "Requirement already satisfied: pickleshare in c:\\program files\\python38\\lib\\site-packages (from ipython>=5.3.0->pyvis>=0.2.1->cag==1.1.5) (0.7.5)\n",
      "Requirement already satisfied: jedi>=0.16 in c:\\users\\elba_ro\\appdata\\roaming\\python\\python38\\site-packages (from ipython>=5.3.0->pyvis>=0.2.1->cag==1.1.5) (0.18.1)\n",
      "Requirement already satisfied: matplotlib-inline in c:\\users\\elba_ro\\appdata\\roaming\\python\\python38\\site-packages (from ipython>=5.3.0->pyvis>=0.2.1->cag==1.1.5) (0.1.3)\n",
      "Requirement already satisfied: pygments>=2.4.0 in c:\\program files\\python38\\lib\\site-packages (from ipython>=5.3.0->pyvis>=0.2.1->cag==1.1.5) (2.12.0)\n",
      "Requirement already satisfied: traitlets>=5 in c:\\program files\\python38\\lib\\site-packages (from ipython>=5.3.0->pyvis>=0.2.1->cag==1.1.5) (5.3.0)\n",
      "Requirement already satisfied: stack-data in c:\\users\\elba_ro\\appdata\\roaming\\python\\python38\\site-packages (from ipython>=5.3.0->pyvis>=0.2.1->cag==1.1.5) (0.3.0)\n",
      "Requirement already satisfied: backcall in c:\\program files\\python38\\lib\\site-packages (from ipython>=5.3.0->pyvis>=0.2.1->cag==1.1.5) (0.2.0)\n",
      "Requirement already satisfied: decorator in c:\\program files\\python38\\lib\\site-packages (from ipython>=5.3.0->pyvis>=0.2.1->cag==1.1.5) (4.4.2)\n",
      "Requirement already satisfied: MarkupSafe>=2.0 in c:\\users\\elba_ro\\appdata\\roaming\\python\\python38\\site-packages (from jinja2>=2.9.6->pyvis>=0.2.1->cag==1.1.5) (2.1.1)\n",
      "Requirement already satisfied: pyparsing!=3.0.5,>=2.0.2 in c:\\program files\\python38\\lib\\site-packages (from packaging->pytest>=7.1.2->cag==1.1.5) (2.4.6)\n",
      "Requirement already satisfied: smart-open<6.0.0,>=5.2.1 in c:\\users\\elba_ro\\appdata\\roaming\\python\\python38\\site-packages (from pathy>=0.3.5->spacy>=3.4.1->cag==1.1.5) (5.2.1)\n",
      "Requirement already satisfied: typing-extensions>=3.7.4.3 in c:\\users\\elba_ro\\appdata\\roaming\\python\\python38\\site-packages (from pydantic!=1.8,!=1.8.1,<1.10.0,>=1.7.4->spacy>=3.4.1->cag==1.1.5) (4.3.0)\n",
      "Requirement already satisfied: charset-normalizer<3,>=2 in c:\\users\\elba_ro\\appdata\\roaming\\python\\python38\\site-packages (from requests->empath>=0.89->cag==1.1.5) (2.1.0)\n",
      "Requirement already satisfied: certifi>=2017.4.17 in c:\\program files\\python38\\lib\\site-packages (from requests->empath>=0.89->cag==1.1.5) (2019.11.28)\n",
      "Requirement already satisfied: idna<4,>=2.5 in c:\\program files\\python38\\lib\\site-packages (from requests->empath>=0.89->cag==1.1.5) (2.9)\n",
      "Requirement already satisfied: blis<0.8.0,>=0.7.8 in c:\\users\\elba_ro\\appdata\\roaming\\python\\python38\\site-packages (from thinc<8.2.0,>=8.1.0->spacy>=3.4.1->cag==1.1.5) (0.7.8)\n",
      "Requirement already satisfied: click<9.0.0,>=7.1.1 in c:\\users\\elba_ro\\appdata\\roaming\\python\\python38\\site-packages (from typer<0.5.0,>=0.3.0->spacy>=3.4.1->cag==1.1.5) (8.1.3)\n",
      "Requirement already satisfied: zope.interface in c:\\users\\elba_ro\\appdata\\roaming\\python\\python38\\site-packages (from datetime->pyArango>=2.0.1->cag==1.1.5) (5.4.0)\n",
      "Requirement already satisfied: pytz in c:\\program files\\python38\\lib\\site-packages (from datetime->pyArango>=2.0.1->cag==1.1.5) (2022.1)\n",
      "Requirement already satisfied: parso<0.9.0,>=0.8.0 in c:\\program files\\python38\\lib\\site-packages (from jedi>=0.16->ipython>=5.3.0->pyvis>=0.2.1->cag==1.1.5) (0.8.3)\n",
      "Requirement already satisfied: wcwidth in c:\\users\\elba_ro\\appdata\\roaming\\python\\python38\\site-packages (from prompt-toolkit!=3.0.0,!=3.0.1,<3.1.0,>=2.0.0->ipython>=5.3.0->pyvis>=0.2.1->cag==1.1.5) (0.2.5)\n",
      "Requirement already satisfied: executing in c:\\program files\\python38\\lib\\site-packages (from stack-data->ipython>=5.3.0->pyvis>=0.2.1->cag==1.1.5) (0.8.3)\n",
      "Requirement already satisfied: pure-eval in c:\\program files\\python38\\lib\\site-packages (from stack-data->ipython>=5.3.0->pyvis>=0.2.1->cag==1.1.5) (0.2.2)\n",
      "Requirement already satisfied: asttokens in c:\\users\\elba_ro\\appdata\\roaming\\python\\python38\\site-packages (from stack-data->ipython>=5.3.0->pyvis>=0.2.1->cag==1.1.5) (2.0.5)\n",
      "Building wheels for collected packages: cag\n",
      "  Building editable for cag (pyproject.toml): started\n",
      "  Building editable for cag (pyproject.toml): finished with status 'done'\n",
      "  Created wheel for cag: filename=cag-1.1.5-py3-none-any.whl size=3840 sha256=c0945cda034a14d1587c08a026a44f927a8723a6585643b92d6d8d470e735d3c\n",
      "  Stored in directory: C:\\Users\\elba_ro\\AppData\\Local\\Temp\\pip-ephem-wheel-cache-gdq_nemk\\wheels\\19\\7a\\67\\139fdee11a059dd7ce2446d6ae8495f0a520b2fa1ac55dbfca\n",
      "Successfully built cag\n",
      "Installing collected packages: cag\n",
      "  Attempting uninstall: cag\n",
      "    Found existing installation: cag 1.1.5\n",
      "    Uninstalling cag-1.1.5:\n",
      "      Successfully uninstalled cag-1.1.5\n",
      "Successfully installed cag-1.1.5\n"
     ]
    }
   ],
   "source": [
    "%pip install -e ../"
   ]
  },
  {
   "cell_type": "code",
   "execution_count": 2,
   "id": "ae91a7ba",
   "metadata": {},
   "outputs": [
    {
     "name": "stdout",
     "output_type": "stream",
     "text": [
      "Name: cag\n",
      "Version: 1.1.5\n",
      "Summary: This is a general framework to create arango db graphs and annotate them.\n",
      "Home-page: \n",
      "Author: \n",
      "Author-email: Roxanne El Baff <roxanne.elbaff@dlr.de>, Tobias Hecking <tobias.hecking@dlr.de>\n",
      "License: \n",
      "Location: c:\\users\\elba_ro\\appdata\\roaming\\python\\python38\\site-packages\n",
      "Requires: dataclasses, empath, networkx, nltk, pyArango, pytest, python-arango, pyvis, spacy, spacy_arguing_lexicon, tomli, tqdm\n",
      "Required-by: insightsnet-graphs\n",
      "Note: you may need to restart the kernel to use updated packages.\n"
     ]
    }
   ],
   "source": [
    "%pip show cag"
   ]
  },
  {
   "cell_type": "code",
   "execution_count": 3,
   "id": "b1acacf7",
   "metadata": {},
   "outputs": [],
   "source": [
    "from cag.framework.annotator.pipeline.pipeline_base import Pipeline\n",
    "from cag.utils.config import Config\n",
    "from tqdm import tqdm\n",
    "from cag.graph_elements.base_graph import BaseGraph\n",
    "from pyArango.graph import EdgeDefinition\n",
    "import cag"
   ]
  },
  {
   "cell_type": "code",
   "execution_count": 4,
   "id": "857066a2",
   "metadata": {},
   "outputs": [],
   "source": [
    "# make sure arangodb is up and running - Enter your credentials below\n",
    "my_config = Config(\n",
    "    url=\"http://127.0.0.1:8529\",\n",
    "    user=\"root\",\n",
    "    password=\"oiE9O6s14rLwJ2SB\",\n",
    "    database=\"_system\",\n",
    "    graph=\"MyFirstCagGraph\",\n",
    ")"
   ]
  },
  {
   "attachments": {},
   "cell_type": "markdown",
   "id": "cc35efa0",
   "metadata": {},
   "source": [
    "## Create your first CAG Annotation Pipeline"
   ]
  },
  {
   "cell_type": "code",
   "execution_count": 5,
   "id": "24c94e62",
   "metadata": {},
   "outputs": [],
   "source": [
    "# Extends the CAG Pipeline and implements the two methds: process_input and init_and_run\n",
    "class MyFirstPipeline(Pipeline):\n",
    "    def __init__(self, database_config: Config):\n",
    "        super().__init__(database_config)\n",
    "        self.period = None\n",
    "\n",
    "    # Code for preprocessing the input data before annotating. In this case here, we convert the nodes into a list of tuples.\n",
    "    # Each tuple contains the text of the node and the _key (the unique id of the node)\n",
    "    def process_input(self) -> list:\n",
    "        processed = []\n",
    "        for txt_node in tqdm(self.input):\n",
    "            processed.append((txt_node.text, {\"_key\": txt_node._key}))\n",
    "\n",
    "        return processed\n",
    "\n",
    "    def init_and_run(self) -> list:\n",
    "        # set the pipeline by adding pre defined pipelines from CAG or using cunstomized ones\n",
    "\n",
    "        self.set_spacy_language_model(\n",
    "            \"en_core_web_sm\"\n",
    "        )  # This is needed just because we are using NER spacy, otherwise, skip this if you are not using spacy pretrained pipes\n",
    "\n",
    "        # Add Pipes\n",
    "        ## The attributes of each pipe is defined in the cag.framework.annotator.registered_pipes\n",
    "        self.add_annotation_pipe(\n",
    "            name=\"tok2vec\", save_output=False, is_spacy=True, is_native=True\n",
    "        )  # mandatory for NER\n",
    "        self.add_annotation_pipe(\n",
    "            name=\"NamedEntityPipeOrchestrator\", save_output=True, is_spacy=True\n",
    "        )  # spacy\n",
    "        self.add_annotation_pipe(\n",
    "            name=\"EmpathPipeOrchestrator\", save_output=True, is_spacy=True\n",
    "        )\n",
    "        self.init_pipe_stack()"
   ]
  },
  {
   "attachments": {},
   "cell_type": "markdown",
   "id": "77b84341",
   "metadata": {},
   "source": [
    "## Initialize your first cag Pipeline"
   ]
  },
  {
   "cell_type": "code",
   "execution_count": 6,
   "id": "02a1ca4e",
   "metadata": {},
   "outputs": [
    {
     "name": "stderr",
     "output_type": "stream",
     "text": [
      "cag          INFO     adding pipe with name NamedEntityPipeOrchestrator\n",
      "cag          INFO     saving relation HasAnnotation to NamedEntityNode and from TextNode\n",
      "cag          INFO     orchestrator is validated: True\n",
      "cag          INFO     adding pipe with code ner\n",
      "cag          INFO     adding pipe with name EmpathPipeOrchestrator\n",
      "cag          INFO     saving relation HasAnnotation to EmpathNode and from TextNode\n",
      "cag          INFO     orchestrator is validated: True\n",
      "cag          INFO     adding pipe with code empath_component\n",
      "cag          INFO     Defining pipe default and spacy stacks\n",
      "cag          INFO     Pipes are ['tok2vec', 'ner', 'empath_component']\n"
     ]
    }
   ],
   "source": [
    "cag_pipeline = MyFirstPipeline(my_config)\n",
    "cag_pipeline.spacy_n_processors = 2  # In case you are using spacy pipe, this flag can be set to enable multiprocessing,\n",
    "# NOTE: If you are using spacy with transformer based feature, set the flag to 1 or else the pipeline will freeze (this is a spacy bug and not related to cag)\n",
    "cag_pipeline.init_and_run()"
   ]
  },
  {
   "attachments": {},
   "cell_type": "markdown",
   "id": "e9bf7c7a",
   "metadata": {},
   "source": [
    "## Fetch the TextNode and Annotate & Save"
   ]
  },
  {
   "cell_type": "code",
   "execution_count": 7,
   "id": "67f85ef3",
   "metadata": {},
   "outputs": [
    {
     "name": "stderr",
     "output_type": "stream",
     "text": [
      "100%|██████████| 216/216 [00:00<00:00, 50635.46it/s]\n",
      "  0%|          | 0/3 [00:00<?, ?it/s]cag          INFO     saving annotations of Pipe(name='NamedEntityPipeOrchestrator', save_output=True, is_spacy=True, is_native=False, pipe_id_or_func='ner')\n"
     ]
    }
   ],
   "source": [
    "#  Loop over your data, annotateA and save\n",
    "coll = cag_pipeline.database_config.db[\"TextNode\"]\n",
    "docs = coll.fetchAll(limit=1000)\n",
    "fetched = len(docs)\n",
    "while docs != None and len(docs) > 0:\n",
    "    ## annotate\n",
    "\n",
    "    # Set the INPUT - this will automatically call preprocess_input (make sure to implement it)\n",
    "    cag_pipeline.reset_input_output()\n",
    "    cag_pipeline.set_input(docs)\n",
    "\n",
    "    cag_pipeline.annotate()\n",
    "    cag_pipeline.save()\n",
    "\n",
    "    cag_pipeline.reset_input_output()\n",
    "    print(f\"Processed {fetched} docs\")\n",
    "    docs = coll.fetchAll(limit=1000, skip=fetched)\n",
    "    fetched = fetched + len(docs)"
   ]
  }
 ],
 "metadata": {
  "kernelspec": {
   "display_name": "Python 3",
   "language": "python",
   "name": "python3"
  },
  "language_info": {
   "codemirror_mode": {
    "name": "ipython",
    "version": 3
   },
   "file_extension": ".py",
   "mimetype": "text/x-python",
   "name": "python",
   "nbconvert_exporter": "python",
   "pygments_lexer": "ipython3",
   "version": "3.8.2"
  },
  "vscode": {
   "interpreter": {
    "hash": "570feb405e2e27c949193ac68f46852414290d515b0ba6e5d90d076ed2284471"
   }
  }
 },
 "nbformat": 4,
 "nbformat_minor": 5
}
