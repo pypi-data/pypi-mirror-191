{
 "cells": [
  {
   "cell_type": "markdown",
   "metadata": {
    "pycharm": {
     "name": "#%% md\n"
    }
   },
   "source": [
    "# ML Surrogates for Chemical Processes with OMLT\n",
    "This notebook illustrates the use of TensorFlow Keras and OMLT to produce an ML surrogate based on data from a chemical process flowsheet.\n",
    "\n",
    "There are several reasons to build surrogate models for complex processes, even when higher fidelity models already exist (e.g., reduce model size, improve convergence reliability, replace models with externally compiled code and make them fully-equation oriented).\n",
    "\n",
    "In this example, we have an existing model for an auto-thermal reformer flowsheet that has been built using the IDAES-PSE package. IDAES-PSE is a Python package that is built on Pyomo and provides a framework for equation-oriented modeling and analysis of advanced energy systems. We use this package to generate data for our systems, and then we utilize this data in an optimization problem with OMLT. To learn more about IDAES, see the [IDAES-PSE Github Page](https://github.com/IDAES/IDAES-PSE) or [IDAES Read-the-docs](https://idaes-pse.readthedocs.io/en/stable/)."
   ]
  },
  {
   "cell_type": "markdown",
   "metadata": {
    "pycharm": {
     "name": "#%% md\n"
    }
   },
   "source": [
    "## The Auto-thermal Reformer Process\n",
    "\n",
    "The figure below shows the reformer process as modeled in IDAES.\n",
    "\n",
    "![Reformer Flowsheet](../images/reformer.png)\n",
    "\n",
    "This model has 12 outputs of interest, the steam flowrate, the reformer duty, and the properties of the outlet stream, including temperature, pressure, and composition. We are interested modeling how these outputs change as a function of two operating (or input) variables: \n",
    "- the fraction of natural gas that bypasses the reformer\n",
    "- steam to natural gas flow ratio\n",
    "\n",
    "We have already used IDAES to generate a CSV file that contains the input and output data for 2800 data points for our system.\n",
    "\n",
    "In this example, we will train a neural network model with sigmoid activations from our process data and then demonstrate that we can solve an optimization problem with that surrogate model. In realistic applications, this surrogate model would form part of a design or operations problem with a much larger flowsheet. "
   ]
  },
  {
   "cell_type": "markdown",
   "metadata": {},
   "source": [
    "## Library Setup\n",
    "This notebook assumes you have a working Tensorflow environment in addition to necessary Python packages described here. We use Keras to train neural networks of interest for our example which requires the Python Tensorflow package. The neural networks are then formulated in Pyomo using OMLT which therefore requires working Pyomo and OMLT installations.\n",
    "\n",
    "The required Python libraries used this notebook are as follows: <br>\n",
    "- `pandas`: used for data import and management <br>\n",
    "- `tensorflow`: the machine learning language we use to train our neural network\n",
    "- `pyomo`: the algebraic modeling language for Python, it is used to define the optimization model passed to the solver\n",
    "- `onnx`: used to express trained neural network models\n",    
    "- `omlt`: The package this notebook demonstates. OMLT can formulate machine learning models (such as neural networks) within Pyomo\n",
    "\n",
    "**NOTE:** This notebook also assumes you have a working MIP solver executable (e.g., CBC, Gurobi) to solve optimization problems in Pyomo. The open-source solver IPOPT is called by default."
   ]
  },
  {
   "cell_type": "code",
   "execution_count": 1,
   "metadata": {
    "pycharm": {
     "name": "#%%\n"
    }
   },
   "outputs": [],
   "source": [
    "import os\n",
    "os.environ['TF_CPP_MIN_LOG_LEVEL'] = '2' # suppress CUDA warnings from tensorflow\n",
    "\n",
    "# import the necessary packages\n",
    "from omlt import OmltBlock, OffsetScaling\n",
    "from omlt.io.keras import load_keras_sequential\n",
    "from omlt.neuralnet import FullSpaceSmoothNNFormulation\n",
    "import pyomo.environ as pyo\n",
    "import pandas as pd\n",
    "import tensorflow.keras as keras\n",
    "from tensorflow.keras.models import Sequential\n",
    "from tensorflow.keras.layers import Dense\n",
    "from tensorflow.keras.optimizers import Adam\n",
    "from tensorflow.keras.callbacks import ModelCheckpoint"
   ]
  },
  {
   "cell_type": "code",
   "execution_count": 3,
   "metadata": {
    "pycharm": {
     "name": "#%%\n"
    }
   },
   "outputs": [
    {
     "name": "stdout",
     "output_type": "stream",
     "text": [
      "      Bypass Fraction  NG Steam Ratio  Steam Flow  Reformer Duty        AR  \\\n",
      "0                 0.8        0.800000    0.193898    9806.732716  0.002662   \n",
      "1                 0.8        0.810526    0.196449    9846.047501  0.002660   \n",
      "2                 0.8        0.821053    0.199000    9885.419259  0.002657   \n",
      "3                 0.8        0.831579    0.201552    9924.849127  0.002654   \n",
      "4                 0.8        0.842105    0.204103    9964.338177  0.002651   \n",
      "...               ...             ...         ...            ...       ...   \n",
      "2795              0.1        1.157895    1.262887   39771.876388  0.004086   \n",
      "2796              0.1        1.168421    1.274368   39989.582852  0.004080   \n",
      "2797              0.1        1.178947    1.285849   40207.531167  0.004073   \n",
      "2798              0.1        1.189474    1.297330   40425.721366  0.004067   \n",
      "2799              0.1        1.200000    1.308811   40644.153425  0.004060   \n",
      "\n",
      "          C2H6      C3H8     C4H10       CH4        CO       CO2        H2  \\\n",
      "0     0.012120  0.002651  0.001515  0.369276  0.073971  0.032251  0.208494   \n",
      "1     0.012107  0.002648  0.001513  0.368883  0.073684  0.032432  0.208507   \n",
      "2     0.012094  0.002646  0.001512  0.368491  0.073398  0.032612  0.208519   \n",
      "3     0.012082  0.002643  0.001510  0.368100  0.073114  0.032791  0.208529   \n",
      "4     0.012069  0.002640  0.001509  0.367710  0.072832  0.032968  0.208537   \n",
      "...        ...       ...       ...       ...       ...       ...       ...   \n",
      "2795  0.000517  0.000113  0.000065  0.016104  0.103440  0.054146  0.330923   \n",
      "2796  0.000516  0.000113  0.000064  0.016073  0.103003  0.054335  0.330682   \n",
      "2797  0.000515  0.000113  0.000064  0.016043  0.102569  0.054521  0.330439   \n",
      "2798  0.000514  0.000112  0.000064  0.016013  0.102138  0.054706  0.330196   \n",
      "2799  0.000513  0.000112  0.000064  0.015984  0.101710  0.054889  0.329953   \n",
      "\n",
      "           H2O        N2  \n",
      "0     0.070771  0.226288  \n",
      "1     0.071514  0.226050  \n",
      "2     0.072258  0.225813  \n",
      "3     0.073000  0.225577  \n",
      "4     0.073743  0.225341  \n",
      "...        ...       ...  \n",
      "2795  0.152351  0.338256  \n",
      "2796  0.153420  0.337714  \n",
      "2797  0.154487  0.337174  \n",
      "2798  0.155552  0.336636  \n",
      "2799  0.156616  0.336099  \n",
      "\n",
      "[2800 rows x 14 columns]\n"
     ]
    }
   ],
   "source": [
    "# read in our csv data\n",
    "columns = ['Bypass Fraction', 'NG Steam Ratio', 'Steam Flow',\n",
    "           'Reformer Duty','AR', 'C2H6', 'C3H8', 'C4H10',\n",
    "           'CH4', 'CO', 'CO2', 'H2', 'H2O', 'N2']\n",
    "df = pd.read_csv('../data/reformer.csv', usecols=columns)\n",
    "print(df)"
   ]
  },
  {
   "cell_type": "code",
   "execution_count": 4,
   "metadata": {
    "pycharm": {
     "name": "#%%\n"
    }
   },
   "outputs": [],
   "source": [
    "# separate the data into inputs and outputs\n",
    "inputs = ['Bypass Fraction', 'NG Steam Ratio']\n",
    "outputs = [ 'Steam Flow', 'Reformer Duty','AR', 'C2H6', 'C3H8', 'C4H10',\n",
    "           'CH4', 'CO', 'CO2', 'H2', 'H2O', 'N2']\n",
    "dfin = df[inputs]\n",
    "dfout = df[outputs]"
   ]
  },
  {
   "cell_type": "code",
   "execution_count": 5,
   "metadata": {
    "pycharm": {
     "name": "#%%\n"
    }
   },
   "outputs": [],
   "source": [
    "# We scale the data for improved training, however, we want to formulate\n",
    "# our optimizaton problem on the original variables. Therefore, we keep\n",
    "# the scaling parameters to use later in our optimization formulation\n",
    "\n",
    "x_offset, x_factor = dfin.mean().to_dict(), dfin.std().to_dict()\n",
    "y_offset, y_factor = dfout.mean().to_dict(), dfout.std().to_dict()\n",
    "\n",
    "dfin = (dfin - dfin.mean()).divide(dfin.std())\n",
    "dfout = (dfout - dfout.mean()).divide(dfout.std())\n",
    "\n",
    "# capture the minimum and maximum values of the scaled inputs\n",
    "# so we don't use the model outside the valid range\n",
    "scaled_lb = dfin.min()[inputs].values\n",
    "scaled_ub = dfin.max()[inputs].values"
   ]
  },
  {
   "cell_type": "code",
   "execution_count": 6,
   "metadata": {
    "pycharm": {
     "name": "#%%\n"
    }
   },
   "outputs": [],
   "source": [
    "# create our Keras Sequential model\n",
    "nn = Sequential(name='reformer_sigmoid_4_20')\n",
    "nn.add(Dense(units=20, input_dim=len(inputs), activation='sigmoid'))\n",
    "nn.add(Dense(units=20, activation='sigmoid'))\n",
    "nn.add(Dense(units=20, activation='sigmoid'))\n",
    "nn.add(Dense(units=20, activation='sigmoid'))\n",
    "nn.add(Dense(units=len(outputs)))\n",
    "nn.compile(optimizer=Adam(), loss='mse')"
   ]
  },
  {
   "cell_type": "code",
   "execution_count": 7,
   "metadata": {
    "pycharm": {
     "name": "#%%\n"
    }
   },
   "outputs": [
    {
     "name": "stdout",
     "output_type": "stream",
     "text": [
      "Epoch 1/100\n",
      "88/88 [==============================] - 0s 2ms/step - loss: 1.0341\n",
      "Epoch 2/100\n",
      "88/88 [==============================] - 0s 3ms/step - loss: 0.9957\n",
      "Epoch 3/100\n",
      "88/88 [==============================] - 0s 3ms/step - loss: 0.9706\n",
      "Epoch 4/100\n",
      "88/88 [==============================] - 0s 2ms/step - loss: 0.7485\n",
      "Epoch 5/100\n",
      "88/88 [==============================] - 0s 2ms/step - loss: 0.2584\n",
      "Epoch 6/100\n",
      "88/88 [==============================] - 0s 2ms/step - loss: 0.1501\n",
      "Epoch 7/100\n",
      "88/88 [==============================] - 0s 2ms/step - loss: 0.1265\n",
      "Epoch 8/100\n",
      "88/88 [==============================] - 0s 2ms/step - loss: 0.1111\n",
      "Epoch 9/100\n",
      "88/88 [==============================] - 0s 3ms/step - loss: 0.0998\n",
      "Epoch 10/100\n",
      "88/88 [==============================] - 0s 2ms/step - loss: 0.0907\n",
      "Epoch 11/100\n",
      "88/88 [==============================] - 0s 2ms/step - loss: 0.0828\n",
      "Epoch 12/100\n",
      "88/88 [==============================] - 0s 2ms/step - loss: 0.0741\n",
      "Epoch 13/100\n",
      "88/88 [==============================] - 0s 2ms/step - loss: 0.0640\n",
      "Epoch 14/100\n",
      "88/88 [==============================] - 0s 2ms/step - loss: 0.0511\n",
      "Epoch 15/100\n",
      "88/88 [==============================] - 0s 2ms/step - loss: 0.0374\n",
      "Epoch 16/100\n",
      "88/88 [==============================] - 0s 2ms/step - loss: 0.0266\n",
      "Epoch 17/100\n",
      "88/88 [==============================] - 0s 2ms/step - loss: 0.0196\n",
      "Epoch 18/100\n",
      "88/88 [==============================] - 0s 2ms/step - loss: 0.0153\n",
      "Epoch 19/100\n",
      "88/88 [==============================] - 0s 2ms/step - loss: 0.0124\n",
      "Epoch 20/100\n",
      "88/88 [==============================] - 0s 2ms/step - loss: 0.0102\n",
      "Epoch 21/100\n",
      "88/88 [==============================] - 0s 2ms/step - loss: 0.0086\n",
      "Epoch 22/100\n",
      "88/88 [==============================] - 0s 2ms/step - loss: 0.0072\n",
      "Epoch 23/100\n",
      "88/88 [==============================] - 0s 2ms/step - loss: 0.0062\n",
      "Epoch 24/100\n",
      "88/88 [==============================] - 0s 2ms/step - loss: 0.0054\n",
      "Epoch 25/100\n",
      "88/88 [==============================] - 0s 2ms/step - loss: 0.0047\n",
      "Epoch 26/100\n",
      "88/88 [==============================] - 0s 3ms/step - loss: 0.0041\n",
      "Epoch 27/100\n",
      "88/88 [==============================] - 0s 3ms/step - loss: 0.0037\n",
      "Epoch 28/100\n",
      "88/88 [==============================] - 0s 3ms/step - loss: 0.0033\n",
      "Epoch 29/100\n",
      "88/88 [==============================] - 0s 2ms/step - loss: 0.0029\n",
      "Epoch 30/100\n",
      "88/88 [==============================] - 0s 2ms/step - loss: 0.0027\n",
      "Epoch 31/100\n",
      "88/88 [==============================] - 0s 2ms/step - loss: 0.0024\n",
      "Epoch 32/100\n",
      "88/88 [==============================] - 0s 3ms/step - loss: 0.0022\n",
      "Epoch 33/100\n",
      "88/88 [==============================] - 0s 3ms/step - loss: 0.0020\n",
      "Epoch 34/100\n",
      "88/88 [==============================] - 0s 2ms/step - loss: 0.0019\n",
      "Epoch 35/100\n",
      "88/88 [==============================] - 0s 2ms/step - loss: 0.0017\n",
      "Epoch 36/100\n",
      "88/88 [==============================] - 0s 2ms/step - loss: 0.0016\n",
      "Epoch 37/100\n",
      "88/88 [==============================] - 0s 2ms/step - loss: 0.0016\n",
      "Epoch 38/100\n",
      "88/88 [==============================] - 0s 2ms/step - loss: 0.0014\n",
      "Epoch 39/100\n",
      "88/88 [==============================] - 0s 2ms/step - loss: 0.0014\n",
      "Epoch 40/100\n",
      "88/88 [==============================] - 0s 2ms/step - loss: 0.0013\n",
      "Epoch 41/100\n",
      "88/88 [==============================] - 0s 2ms/step - loss: 0.0012\n",
      "Epoch 42/100\n",
      "88/88 [==============================] - 0s 2ms/step - loss: 0.0011\n",
      "Epoch 43/100\n",
      "88/88 [==============================] - 0s 3ms/step - loss: 0.0011\n",
      "Epoch 44/100\n",
      "88/88 [==============================] - 0s 3ms/step - loss: 0.0010\n",
      "Epoch 45/100\n",
      "88/88 [==============================] - 0s 3ms/step - loss: 9.7936e-04\n",
      "Epoch 46/100\n",
      "88/88 [==============================] - 0s 3ms/step - loss: 9.2880e-04\n",
      "Epoch 47/100\n",
      "88/88 [==============================] - 0s 2ms/step - loss: 9.0375e-04\n",
      "Epoch 48/100\n",
      "88/88 [==============================] - 0s 2ms/step - loss: 8.6779e-04\n",
      "Epoch 49/100\n",
      "88/88 [==============================] - 0s 2ms/step - loss: 8.5856e-04\n",
      "Epoch 50/100\n",
      "88/88 [==============================] - 0s 2ms/step - loss: 8.0145e-04\n",
      "Epoch 51/100\n",
      "88/88 [==============================] - 0s 2ms/step - loss: 8.0115e-04\n",
      "Epoch 52/100\n",
      "88/88 [==============================] - 0s 2ms/step - loss: 7.9738e-04\n",
      "Epoch 53/100\n",
      "88/88 [==============================] - 0s 2ms/step - loss: 6.9619e-04\n",
      "Epoch 54/100\n",
      "88/88 [==============================] - 0s 3ms/step - loss: 6.7135e-04\n",
      "Epoch 55/100\n",
      "88/88 [==============================] - 0s 2ms/step - loss: 6.5336e-04\n",
      "Epoch 56/100\n",
      "88/88 [==============================] - 0s 2ms/step - loss: 6.6119e-04\n",
      "Epoch 57/100\n",
      "88/88 [==============================] - 0s 2ms/step - loss: 6.0447e-04\n",
      "Epoch 58/100\n",
      "88/88 [==============================] - 0s 2ms/step - loss: 5.9642e-04\n",
      "Epoch 59/100\n",
      "88/88 [==============================] - 0s 3ms/step - loss: 5.8340e-04\n",
      "Epoch 60/100\n",
      "88/88 [==============================] - 0s 3ms/step - loss: 5.9287e-04\n",
      "Epoch 61/100\n",
      "88/88 [==============================] - 0s 2ms/step - loss: 5.4710e-04\n",
      "Epoch 62/100\n",
      "88/88 [==============================] - 0s 2ms/step - loss: 5.1789e-04\n",
      "Epoch 63/100\n",
      "88/88 [==============================] - 0s 2ms/step - loss: 4.9301e-04\n",
      "Epoch 64/100\n",
      "88/88 [==============================] - 0s 2ms/step - loss: 4.8124e-04\n",
      "Epoch 65/100\n",
      "88/88 [==============================] - 0s 2ms/step - loss: 4.6044e-04\n",
      "Epoch 66/100\n",
      "88/88 [==============================] - 0s 2ms/step - loss: 4.3224e-04\n",
      "Epoch 67/100\n",
      "88/88 [==============================] - 0s 2ms/step - loss: 4.2608e-04\n",
      "Epoch 68/100\n",
      "88/88 [==============================] - 0s 2ms/step - loss: 4.0868e-04\n",
      "Epoch 69/100\n",
      "88/88 [==============================] - 0s 2ms/step - loss: 3.9811e-04\n",
      "Epoch 70/100\n",
      "88/88 [==============================] - 0s 2ms/step - loss: 3.9089e-04\n",
      "Epoch 71/100\n",
      "88/88 [==============================] - 0s 2ms/step - loss: 4.0310e-04\n",
      "Epoch 72/100\n",
      "88/88 [==============================] - 0s 2ms/step - loss: 3.6990e-04A: 0s - loss: 3.5289e-0\n",
      "Epoch 73/100\n",
      "88/88 [==============================] - 0s 2ms/step - loss: 3.7645e-04\n",
      "Epoch 74/100\n",
      "88/88 [==============================] - 0s 2ms/step - loss: 3.2927e-04\n",
      "Epoch 75/100\n",
      "88/88 [==============================] - 0s 2ms/step - loss: 3.3896e-04\n",
      "Epoch 76/100\n",
      "88/88 [==============================] - 0s 3ms/step - loss: 3.3238e-04\n",
      "Epoch 77/100\n",
      "88/88 [==============================] - 0s 2ms/step - loss: 3.2586e-04\n",
      "Epoch 78/100\n",
      "88/88 [==============================] - 0s 3ms/step - loss: 3.0942e-04\n",
      "Epoch 79/100\n",
      "88/88 [==============================] - 0s 3ms/step - loss: 2.8561e-04\n",
      "Epoch 80/100\n",
      "88/88 [==============================] - 0s 2ms/step - loss: 2.8161e-04\n",
      "Epoch 81/100\n",
      "88/88 [==============================] - 0s 3ms/step - loss: 2.6297e-04\n",
      "Epoch 82/100\n",
      "88/88 [==============================] - 0s 3ms/step - loss: 2.6181e-04\n",
      "Epoch 83/100\n",
      "88/88 [==============================] - 0s 3ms/step - loss: 2.6130e-04\n",
      "Epoch 84/100\n",
      "88/88 [==============================] - 0s 3ms/step - loss: 2.4854e-04\n",
      "Epoch 85/100\n",
      "88/88 [==============================] - 0s 3ms/step - loss: 2.6028e-04\n",
      "Epoch 86/100\n",
      "88/88 [==============================] - 0s 4ms/step - loss: 2.3970e-04\n",
      "Epoch 87/100\n",
      "88/88 [==============================] - 1s 6ms/step - loss: 2.2274e-04\n",
      "Epoch 88/100\n",
      "88/88 [==============================] - 0s 5ms/step - loss: 2.2896e-04\n",
      "Epoch 89/100\n",
      "88/88 [==============================] - 0s 5ms/step - loss: 2.3039e-04\n",
      "Epoch 90/100\n",
      "88/88 [==============================] - 0s 5ms/step - loss: 2.4000e-04\n",
      "Epoch 91/100\n",
      "88/88 [==============================] - 0s 5ms/step - loss: 1.8690e-04\n",
      "Epoch 92/100\n",
      "88/88 [==============================] - 0s 5ms/step - loss: 1.9249e-04\n",
      "Epoch 93/100\n",
      "88/88 [==============================] - 0s 5ms/step - loss: 2.0807e-04\n",
      "Epoch 94/100\n",
      "88/88 [==============================] - 1s 6ms/step - loss: 1.8234e-04\n",
      "Epoch 95/100\n",
      "88/88 [==============================] - 1s 7ms/step - loss: 1.8770e-04\n",
      "Epoch 96/100\n",
      "88/88 [==============================] - 1s 6ms/step - loss: 1.6957e-04\n",
      "Epoch 97/100\n",
      "88/88 [==============================] - 0s 5ms/step - loss: 1.6235e-04\n",
      "Epoch 98/100\n",
      "88/88 [==============================] - 0s 5ms/step - loss: 1.7383e-04\n",
      "Epoch 99/100\n",
      "88/88 [==============================] - 0s 2ms/step - loss: 1.7169e-04\n",
      "Epoch 100/100\n",
      "88/88 [==============================] - 0s 3ms/step - loss: 1.6411e-04\n"
     ]
    }
   ],
   "source": [
    "# train our model\n",
    "x = dfin.values\n",
    "y = dfout.values\n",
    "\n",
    "history = nn.fit(x, y, epochs=100)"
   ]
  },
  {
   "cell_type": "code",
   "execution_count": 9,
   "metadata": {
    "pycharm": {
     "name": "#%%\n"
    }
   },
   "outputs": [
    {
     "name": "stdout",
     "output_type": "stream",
     "text": [
      "INFO:tensorflow:Assets written to: reformer_nn/assets\n"
     ]
    }
   ],
   "source": [
    "# save the model to disk\n",
    "# While not technically necessary, this shows how we can load a previously saved model into\n",
    "# our optimization formulation)\n",
    "nn.save('reformer_nn')"
   ]
  },
  {
   "cell_type": "markdown",
   "metadata": {
    "pycharm": {
     "name": "#%% md\n"
    }
   },
   "source": [
    "## Optimization Problem\n",
    "In this small example, we will formulate a simple optimization problem that seeks to maximize the concentration of Hydrogen in the outlet while placing an upper bound on the Nitrogen concentration."
   ]
  },
  {
   "cell_type": "code",
   "execution_count": 10,
   "metadata": {
    "pycharm": {
     "name": "#%%\n"
    }
   },
   "outputs": [],
   "source": [
    "# first, create the Pyomo model\n",
    "m = pyo.ConcreteModel()"
   ]
  },
  {
   "cell_type": "code",
   "execution_count": 11,
   "metadata": {
    "pycharm": {
     "name": "#%%\n"
    }
   },
   "outputs": [],
   "source": [
    "# create the OmltBlock to hold the neural network model\n",
    "m.reformer = OmltBlock()"
   ]
  },
  {
   "cell_type": "code",
   "execution_count": 12,
   "metadata": {
    "pycharm": {
     "name": "#%%\n"
    }
   },
   "outputs": [],
   "source": [
    "# load the Keras model\n",
    "nn_reformer = keras.models.load_model('reformer_nn', compile=False)\n",
    "\n",
    "# Note: The neural network is in the scaled space. We want access to the\n",
    "# variables in the unscaled space. Therefore, we need to tell OMLT about the\n",
    "# scaling factors\n",
    "scaler = OffsetScaling(\n",
    "        offset_inputs={i: x_offset[inputs[i]] for i in range(len(inputs))},\n",
    "        factor_inputs={i: x_factor[inputs[i]] for i in range(len(inputs))},\n",
    "        offset_outputs={i: y_offset[outputs[i]] for i in range(len(outputs))},\n",
    "        factor_outputs={i: y_factor[outputs[i]] for i in range(len(outputs))}\n",
    "    )\n",
    "\n",
    "scaled_input_bounds = {i: (scaled_lb[i], scaled_ub[i]) for i in range(len(inputs))}\n",
    "\n",
    "# create a network definition from the Keras model\n",
    "net = load_keras_sequential(nn_reformer, scaling_object=scaler, scaled_input_bounds=scaled_input_bounds)\n",
    "\n",
    "# create the variables and constraints for the neural network in Pyomo\n",
    "m.reformer.build_formulation(FullSpaceSmoothNNFormulation(net))"
   ]
  },
  {
   "cell_type": "code",
   "execution_count": 13,
   "metadata": {
    "pycharm": {
     "name": "#%%\n"
    }
   },
   "outputs": [],
   "source": [
    "# now add the objective and the constraints\n",
    "h2_idx = outputs.index('H2')\n",
    "n2_idx = outputs.index('N2')\n",
    "m.obj = pyo.Objective(expr=m.reformer.outputs[h2_idx], sense=pyo.maximize)\n",
    "m.con = pyo.Constraint(expr=m.reformer.outputs[n2_idx] <= 0.34)"
   ]
  },
  {
   "cell_type": "code",
   "execution_count": 14,
   "metadata": {
    "pycharm": {
     "name": "#%%\n"
    }
   },
   "outputs": [
    {
     "name": "stdout",
     "output_type": "stream",
     "text": [
      "Ipopt 3.13.3: \n",
      "\n",
      "******************************************************************************\n",
      "This program contains Ipopt, a library for large-scale nonlinear optimization.\n",
      " Ipopt is released as open source code under the Eclipse Public License (EPL).\n",
      "         For more information visit https://github.com/coin-or/Ipopt\n",
      "******************************************************************************\n",
      "\n",
      "This is Ipopt version 3.13.3, running with linear solver ma27.\n",
      "\n",
      "Number of nonzeros in equality constraint Jacobian...:     1812\n",
      "Number of nonzeros in inequality constraint Jacobian.:        1\n",
      "Number of nonzeros in Lagrangian Hessian.............:       80\n",
      "\n",
      "Total number of variables............................:      214\n",
      "                     variables with only lower bounds:        0\n",
      "                variables with lower and upper bounds:      190\n",
      "                     variables with only upper bounds:        0\n",
      "Total number of equality constraints.................:      212\n",
      "Total number of inequality constraints...............:        1\n",
      "        inequality constraints with only lower bounds:        0\n",
      "   inequality constraints with lower and upper bounds:        0\n",
      "        inequality constraints with only upper bounds:        1\n",
      "\n",
      "iter    objective    inf_pr   inf_du lg(mu)  ||d||  lg(rg) alpha_du alpha_pr  ls\n",
      "   0 -0.0000000e+00 2.32e+04 3.68e-04  -1.0 0.00e+00    -  0.00e+00 0.00e+00   0\n",
      "   1 -2.6030116e-03 2.29e+04 1.06e+00  -1.0 7.05e+03    -  5.34e-03 1.11e-02f  1\n",
      "   2 -6.0669949e-03 2.27e+04 1.96e+00  -1.0 1.59e+04    -  1.18e-02 9.02e-03f  1\n",
      "   3 -6.2596751e-03 2.27e+04 4.65e+01  -1.0 2.84e+04    -  6.23e-03 4.77e-04h  1\n",
      "   4 -6.2616127e-03 2.27e+04 6.65e+03  -1.0 1.47e+04    -  4.48e-03 2.90e-05h  1\n",
      "   5 -6.2581094e-03 2.27e+04 6.22e+05  -1.0 2.50e+04    -  3.05e-03 3.23e-05h  1\n",
      "   6r-6.2581094e-03 2.27e+04 9.99e+02   2.5 0.00e+00    -  0.00e+00 1.97e-07R  2\n",
      "   7r-5.9558091e-03 2.20e+04 2.14e+03   2.5 2.66e+04    -  1.15e-02 3.11e-04f  1\n",
      "   8r-7.6598374e-03 2.09e+02 2.07e+03   1.1 8.43e+04    -  4.26e-04 3.31e-03f  1\n",
      "   9 -7.7647208e-03 2.09e+02 1.36e+00  -1.0 9.30e+03    -  6.42e-04 3.06e-04h  1\n",
      "iter    objective    inf_pr   inf_du lg(mu)  ||d||  lg(rg) alpha_du alpha_pr  ls\n",
      "  10 -7.7729541e-03 2.09e+02 2.65e+03  -1.0 1.75e+04    -  2.10e-02 3.24e-05h  1\n",
      "  11 -7.7716836e-03 2.09e+02 3.58e+05  -1.0 2.09e+04    -  1.54e-03 1.11e-05h  1\n",
      "  12r-7.7716836e-03 2.09e+02 9.99e+02   0.4 0.00e+00    -  0.00e+00 2.22e-07R  2\n",
      "  13r-2.5415884e-02 8.08e+01 9.99e+02   0.4 2.65e+03    -  2.04e-04 6.20e-04f  1\n",
      "  14r-2.5415884e-02 8.08e+01 9.99e+02   0.4 0.00e+00    -  0.00e+00 2.54e-07R  5\n",
      "  15r-3.9234936e-02 6.38e+01 9.99e+02   0.4 5.96e+02    -  6.52e-04 4.72e-04f  1\n",
      "  16r-8.3935109e-02 2.62e+01 9.97e+02   0.4 4.70e+02    -  5.99e-04 1.71e-03f  1\n",
      "  17r-1.3934552e-01 5.58e+00 9.95e+02   0.4 2.45e+02    -  1.67e-03 2.76e-03f  1\n",
      "  18 -1.4363902e-01 5.40e+00 3.72e+00  -1.0 3.92e+03    -  6.89e-03 3.28e-02f  1\n",
      "  19 -1.6446259e-01 4.80e+00 8.56e+00  -1.0 1.60e+04    -  8.07e-02 1.11e-01f  1\n",
      "iter    objective    inf_pr   inf_du lg(mu)  ||d||  lg(rg) alpha_du alpha_pr  ls\n",
      "  20 -1.7215140e-01 4.48e+00 7.06e+01  -1.0 6.18e+03    -  2.94e-01 6.74e-02h  1\n",
      "  21 -1.7784726e-01 4.23e+00 6.31e+02  -1.0 9.08e+03    -  4.03e-01 5.47e-02h  1\n",
      "  22 -1.8642388e-01 3.85e+00 8.97e+02  -1.0 7.01e+03    -  3.33e-01 9.04e-02h  1\n",
      "  23 -2.3017104e-01 2.09e+00 8.13e+04  -1.0 1.22e+04    -  2.45e-03 4.58e-01f  1\n",
      "  24 -2.7788252e-01 3.25e-02 1.62e+04  -1.0 8.46e+03    -  2.03e-03 1.00e+00f  1\n",
      "  25 -2.7625877e-01 3.29e-04 1.28e+02  -1.0 9.08e-02   2.0 8.50e-01 1.00e+00f  1\n",
      "  26 -2.7633917e-01 7.21e-07 1.04e-01  -1.0 1.59e+01    -  1.00e+00 1.00e+00h  1\n",
      "  27 -2.7678608e-01 8.97e-06 2.15e-03  -2.5 7.21e+01    -  1.00e+00 1.00e+00h  1\n",
      "  28 -2.8773008e-01 4.94e-03 2.06e-02  -3.8 1.77e+03    -  7.86e-01 1.00e+00h  1\n",
      "  29 -3.0628413e-01 1.68e-02 6.62e-04  -3.8 3.63e+03    -  9.95e-01 1.00e+00h  1\n",
      "iter    objective    inf_pr   inf_du lg(mu)  ||d||  lg(rg) alpha_du alpha_pr  ls\n",
      "  30 -3.1281609e-01 4.16e-02 1.09e-01  -3.8 2.12e+03    -  6.47e-01 4.46e-01h  1\n",
      "  31 -3.2328324e-01 2.01e-02 8.47e-02  -3.8 3.96e+03    -  1.00e+00 7.31e-01h  1\n",
      "  32 -3.2676931e-01 3.50e-02 2.48e+00  -3.8 4.58e+03    -  5.28e-02 1.00e+00H  1\n",
      "  33 -3.2673051e-01 7.54e-03 1.58e-03  -3.8 5.36e+02    -  9.98e-01 1.00e+00h  1\n",
      "  34 -3.2769712e-01 1.87e-02 1.82e-03  -3.8 1.82e+03    -  5.30e-01 5.19e-01h  1\n",
      "  35 -3.2579448e-01 5.47e-03 1.41e-04  -3.8 1.83e+03    -  1.00e+00 1.00e+00f  1\n",
      "  36 -3.2581048e-01 1.50e-03 5.66e-06  -3.8 3.23e+02    -  1.00e+00 1.00e+00h  1\n",
      "  37 -3.2778102e-01 1.39e-02 2.44e-02  -5.7 4.01e+03    -  4.61e-01 5.40e-01h  1\n",
      "  38 -3.3081682e-01 6.98e-02 3.75e-02  -5.7 5.65e+03    -  5.42e-01 8.01e-01h  1\n",
      "  39 -3.3146434e-01 5.19e-02 3.12e-02  -5.7 4.30e+03    -  2.86e-02 2.85e-01h  1\n",
      "iter    objective    inf_pr   inf_du lg(mu)  ||d||  lg(rg) alpha_du alpha_pr  ls\n",
      "  40 -3.3127607e-01 6.17e-04 9.41e-02  -5.7 7.26e+00    -  3.83e-01 1.00e+00h  1\n",
      "  41 -3.3130748e-01 3.54e-04 3.08e-02  -5.7 1.29e+02    -  1.00e+00 4.35e-01h  1\n",
      "  42 -3.3129128e-01 1.51e-06 9.28e-03  -5.7 2.63e+01    -  7.55e-01 1.00e+00f  1\n",
      "  43 -3.3129839e-01 2.97e-07 9.66e-07  -5.7 1.24e+01    -  1.00e+00 1.00e+00h  1\n",
      "  44 -3.3130682e-01 1.84e-07 1.60e-03  -8.6 1.25e+01    -  1.00e+00 8.58e-01h  1\n",
      "  45 -3.3130710e-01 9.64e-10 1.06e-01  -8.6 2.73e-01    -  1.69e-01 1.00e+00h  1\n",
      "  46 -3.3130710e-01 3.66e-15 2.50e-14  -8.6 1.29e-03    -  1.00e+00 1.00e+00h  1\n",
      "\n",
      "Number of Iterations....: 46\n",
      "\n",
      "                                   (scaled)                 (unscaled)\n",
      "Objective...............:  -3.3130709928730723e-01   -3.3130709928730723e-01\n",
      "Dual infeasibility......:   2.5035529205297280e-14    2.5035529205297280e-14\n",
      "Constraint violation....:   3.6637359812630166e-15    3.6637359812630166e-15\n",
      "Complementarity.........:   2.7713235776435301e-09    2.7713235776435301e-09\n",
      "Overall NLP error.......:   2.7713235776435301e-09    2.7713235776435301e-09\n",
      "\n",
      "\n",
      "Number of objective function evaluations             = 58\n",
      "Number of objective gradient evaluations             = 44\n",
      "Number of equality constraint evaluations            = 58\n",
      "Number of inequality constraint evaluations          = 58\n",
      "Number of equality constraint Jacobian evaluations   = 50\n",
      "Number of inequality constraint Jacobian evaluations = 50\n",
      "Number of Lagrangian Hessian evaluations             = 46\n",
      "Total CPU secs in IPOPT (w/o function evaluations)   =      0.015\n",
      "Total CPU secs in NLP function evaluations           =      0.001\n",
      "\n",
      "EXIT: Optimal Solution Found.\n",
      "\b\b\b\b\b\b\b\b\b\b\b\b\b\b"
     ]
    }
   ],
   "source": [
    "# now solve the optimization problem\n",
    "solver = pyo.SolverFactory('ipopt')\n",
    "status = solver.solve(m, tee=True)"
   ]
  },
  {
   "cell_type": "code",
   "execution_count": 15,
   "metadata": {
    "pycharm": {
     "name": "#%%\n"
    }
   },
   "outputs": [
    {
     "name": "stdout",
     "output_type": "stream",
     "text": [
      "Bypass Fraction: 0.10000025307452928\n",
      "NG Steam Ratio: 1.1197517732543654\n",
      "H2 Concentration: 0.3313070992873072\n",
      "N2 Concentration: 0.34000000393182694\n"
     ]
    }
   ],
   "source": [
    "print('Bypass Fraction:', pyo.value(m.reformer.inputs[0]))\n",
    "print('NG Steam Ratio:', pyo.value(m.reformer.inputs[1]))\n",
    "print('H2 Concentration:', pyo.value(m.reformer.outputs[h2_idx]))\n",
    "print('N2 Concentration:', pyo.value(m.reformer.outputs[n2_idx]))"
   ]
  }
 ],
 "metadata": {
  "kernelspec": {
   "display_name": "Python 3 (ipykernel)",
   "language": "python",
   "name": "python3"
  },
  "language_info": {
   "codemirror_mode": {
    "name": "ipython",
    "version": 3
   },
   "file_extension": ".py",
   "mimetype": "text/x-python",
   "name": "python",
   "nbconvert_exporter": "python",
   "pygments_lexer": "ipython3",
   "version": "3.8.12"
  }
 },
 "nbformat": 4,
 "nbformat_minor": 4
}
