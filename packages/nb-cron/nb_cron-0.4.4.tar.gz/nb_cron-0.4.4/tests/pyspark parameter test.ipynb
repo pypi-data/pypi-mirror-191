{
 "cells": [
  {
   "cell_type": "markdown",
   "id": "8f5c4c81",
   "metadata": {},
   "source": [
    "# Papermill parameter test pyspark notebook"
   ]
  },
  {
   "cell_type": "code",
   "execution_count": 1,
   "id": "96912f23",
   "metadata": {
    "tags": [
     "parameters"
    ]
   },
   "outputs": [],
   "source": [
    "%%local\n",
    "newline = \"\"\"new\n",
    "line\"\"\"\n",
    "quote = \"'single quoting' \\\"double quote\\\"\"\n",
    "flt = 3.123\n",
    "num = 1234\n",
    "boolean = False"
   ]
  },
  {
   "cell_type": "code",
   "execution_count": 2,
   "id": "8962950b",
   "metadata": {},
   "outputs": [
    {
     "name": "stdout",
     "output_type": "stream",
     "text": [
      "newline: new\n",
      "line, type: <class 'str'>\n",
      "quote: 'single quoting' \"double quote\", type: <class 'str'>\n",
      "flt: 3.123, type: <class 'float'>\n",
      "num: 1234, type: <class 'int'>\n",
      "boolean: False, type: <class 'bool'>\n"
     ]
    }
   ],
   "source": [
    "%%local\n",
    "print(\"newline: {}, type: {}\".format(newline, type(newline)))\n",
    "print(\"quote: {}, type: {}\".format(quote, type(quote)))\n",
    "print(\"flt: {}, type: {}\".format(flt, type(flt)))\n",
    "print(\"num: {}, type: {}\".format(num, type(num)))\n",
    "print(\"boolean: {}, type: {}\".format(boolean, type(boolean)))"
   ]
  }
 ],
 "metadata": {
  "celltoolbar": "Tags",
  "kernelspec": {
   "display_name": "PySpark",
   "language": "python",
   "name": "pysparkkernel"
  },
  "language_info": {
   "codemirror_mode": {
    "name": "python",
    "version": 3
   },
   "file_extension": ".py",
   "mimetype": "text/x-python",
   "name": "pyspark",
   "pygments_lexer": "python3"
  }
 },
 "nbformat": 4,
 "nbformat_minor": 5
}