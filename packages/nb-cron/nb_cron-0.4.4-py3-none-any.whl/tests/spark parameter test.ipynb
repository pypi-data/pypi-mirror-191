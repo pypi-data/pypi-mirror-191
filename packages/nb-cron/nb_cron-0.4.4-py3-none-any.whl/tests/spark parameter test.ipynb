{
 "cells": [
  {
   "cell_type": "markdown",
   "id": "8f5c4c81",
   "metadata": {},
   "source": [
    "# Papermill parameter test spark notebook"
   ]
  },
  {
   "cell_type": "code",
   "execution_count": 1,
   "id": "96912f23",
   "metadata": {
    "tags": [
     "parameters"
    ]
   },
   "outputs": [
    {
     "name": "stdout",
     "output_type": "stream",
     "text": [
      "Starting Spark application\n"
     ]
    },
    {
     "data": {
      "text/html": [
       "<table>\n",
       "<tr><th>ID</th><th>YARN Application ID</th><th>Kind</th><th>State</th><th>Spark UI</th><th>Driver log</th><th>User</th><th>Current session?</th></tr><tr><td>0</td><td>None</td><td>spark</td><td>idle</td><td></td><td></td><td>None</td><td>✔</td></tr></table>"
      ],
      "text/plain": [
       "<IPython.core.display.HTML object>"
      ]
     },
     "metadata": {},
     "output_type": "display_data"
    },
    {
     "data": {
      "application/vnd.jupyter.widget-view+json": {
       "model_id": "",
       "version_major": 2,
       "version_minor": 0
      },
      "text/plain": [
       "FloatProgress(value=0.0, bar_style='info', description='Progress:', layout=Layout(height='25px', width='50%'),…"
      ]
     },
     "metadata": {},
     "output_type": "display_data"
    },
    {
     "name": "stdout",
     "output_type": "stream",
     "text": [
      "SparkSession available as 'spark'.\n"
     ]
    },
    {
     "data": {
      "application/vnd.jupyter.widget-view+json": {
       "model_id": "",
       "version_major": 2,
       "version_minor": 0
      },
      "text/plain": [
       "FloatProgress(value=0.0, bar_style='info', description='Progress:', layout=Layout(height='25px', width='50%'),…"
      ]
     },
     "metadata": {},
     "output_type": "display_data"
    },
    {
     "name": "stdout",
     "output_type": "stream",
     "text": [
      "newline: String =\n",
      "new\n",
      "line\n",
      "quote: String = 'single quoting' \"double quote\"\n",
      "flt: Double = 3.123\n",
      "num: Int = 1234\n",
      "boolean: Boolean = false\n"
     ]
    }
   ],
   "source": [
    "val newline = \"\"\"new\n",
    "line\"\"\"\n",
    "val quote = \"'single quoting' \\\"double quote\\\"\"\n",
    "val flt = 3.123\n",
    "val num = 1234\n",
    "val boolean = false"
   ]
  },
  {
   "cell_type": "code",
   "execution_count": 15,
   "id": "8962950b",
   "metadata": {},
   "outputs": [
    {
     "data": {
      "application/vnd.jupyter.widget-view+json": {
       "model_id": "",
       "version_major": 2,
       "version_minor": 0
      },
      "text/plain": [
       "FloatProgress(value=0.0, bar_style='info', description='Progress:', layout=Layout(height='25px', width='50%'),…"
      ]
     },
     "metadata": {},
     "output_type": "display_data"
    },
    {
     "name": "stdout",
     "output_type": "stream",
     "text": [
      "f: [T](v: T)T\n",
      "newline: new\n",
      "line, type: class java.lang.String\n",
      "quote: 'single quoting' \"double quote\", type: class java.lang.String\n",
      "flt: 3.123, type: double\n",
      "num: 1234, type: int\n",
      "boolean: false, type: boolean\n"
     ]
    }
   ],
   "source": [
    "def f[T](v: T) = v\n",
    "println(s\"newline: $newline, type: \" + newline.getClass())\n",
    "println(s\"quote: $quote, type: \" + quote.getClass())\n",
    "println(s\"flt: $flt, type: \" + flt.getClass())\n",
    "println(s\"num: $num, type: \" + num.getClass())\n",
    "println(s\"boolean: $boolean, type: \" + boolean.getClass())"
   ]
  },
  {
   "cell_type": "code",
   "execution_count": 11,
   "id": "10328405",
   "metadata": {},
   "outputs": [
    {
     "name": "stderr",
     "output_type": "stream",
     "text": [
      "Translator for 'scala' language does not support parameter introspection.\n"
     ]
    },
    {
     "data": {
      "text/plain": [
       "{}"
      ]
     },
     "execution_count": 11,
     "metadata": {},
     "output_type": "execute_result"
    }
   ],
   "source": [
    "%local\n",
    "\n",
    "import papermill as pm\n",
    "\n",
    "pm.inspect_notebook('spark parameter test.ipynb')"
   ]
  }
 ],
 "metadata": {
  "celltoolbar": "Tags",
  "kernelspec": {
   "display_name": "Spark [conda env:.conda-sparkmagic]",
   "language": "scala",
   "name": "conda-env-.conda-sparkmagic-sparkkernel"
  },
  "language_info": {
   "codemirror_mode": "text/x-scala",
   "file_extension": ".sc",
   "mimetype": "text/x-scala",
   "name": "scala",
   "pygments_lexer": "scala"
  }
 },
 "nbformat": 4,
 "nbformat_minor": 5
}
