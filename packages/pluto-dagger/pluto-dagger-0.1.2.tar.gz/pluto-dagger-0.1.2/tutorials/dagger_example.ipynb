{
 "cells": [
  {
   "attachments": {},
   "cell_type": "markdown",
   "id": "339b9e58",
   "metadata": {},
   "source": [
    "\n",
    "Installing the Pluto dagger current Release \n"
   ]
  },
  {
   "cell_type": "code",
   "execution_count": null,
   "id": "78ea9027",
   "metadata": {},
   "outputs": [],
   "source": [
    "\n",
    "!pip install pluto_dagger"
   ]
  },
  {
   "attachments": {},
   "cell_type": "markdown",
   "id": "4101e671",
   "metadata": {},
   "source": [
    "### Connecting with Pluto Drone\n",
    " Make Sure you're connected with pluto's hotspot"
   ]
  },
  {
   "cell_type": "code",
   "execution_count": null,
   "id": "f0d6d9db",
   "metadata": {},
   "outputs": [],
   "source": [
    "import dagger\n",
    "Pluto_IP = \"192.168.4.1\"\n",
    "Pluto_PORT = 23\n",
    "pluto = dagger.PlutoConnection()\n",
    "pluto.connect((Pluto_IP, Pluto_PORT))"
   ]
  },
  {
   "attachments": {},
   "cell_type": "markdown",
   "id": "1a4ae924",
   "metadata": {},
   "source": [
    "Intiating the SetRawRc Object for Controlling the pluto Drone using the RC params"
   ]
  },
  {
   "cell_type": "code",
   "execution_count": null,
   "id": "13b6764d",
   "metadata": {},
   "outputs": [],
   "source": [
    "rc = dagger.SetRawRC(pluto)"
   ]
  },
  {
   "attachments": {},
   "cell_type": "markdown",
   "id": "047844a7",
   "metadata": {},
   "source": [
    "Arming the Drone"
   ]
  },
  {
   "cell_type": "code",
   "execution_count": null,
   "id": "76dc833a",
   "metadata": {},
   "outputs": [],
   "source": [
    "rc.arm_drone()"
   ]
  },
  {
   "attachments": {},
   "cell_type": "markdown",
   "id": "891f7220",
   "metadata": {},
   "source": [
    "Disarming the Drone"
   ]
  },
  {
   "cell_type": "code",
   "execution_count": null,
   "id": "a90d80cc",
   "metadata": {},
   "outputs": [],
   "source": [
    "rc.disarm_drone()"
   ]
  },
  {
   "attachments": {},
   "cell_type": "markdown",
   "id": "5e831768",
   "metadata": {},
   "source": [
    "Intiating the SetCommand Object for sending the commands\n"
   ]
  },
  {
   "cell_type": "code",
   "execution_count": null,
   "id": "1395f6e9",
   "metadata": {},
   "outputs": [],
   "source": [
    "com = dagger.SetCommand(pluto)"
   ]
  },
  {
   "attachments": {},
   "cell_type": "markdown",
   "id": "b38c2788",
   "metadata": {},
   "source": [
    "\n",
    "NOTE : Run the following script in separate terminal\n",
    "``` python\n",
    "def default_values(Pluto_IP, Pluto_PORT):\n",
    "    t = PlutoConnection()\n",
    "    t.connect((Pluto_IP, Pluto_PORT))\n",
    "    cmd = SetRawRC(t)\n",
    "    while True:\n",
    "        cmd.box_arm()\n",
    "\n",
    "\n",
    "if __name__ == '__main__':\n",
    "    Pluto_IP = \"192.168.4.1\"\n",
    "    Pluto_PORT = 23\n",
    "    default_values(Pluto_IP, Pluto_PORT)\n",
    "```\n",
    " "
   ]
  },
  {
   "attachments": {},
   "cell_type": "markdown",
   "id": "2c413213",
   "metadata": {},
   "source": [
    "Taking off the drone using the PlutoControl object"
   ]
  },
  {
   "cell_type": "code",
   "execution_count": null,
   "id": "1ca2a8d6",
   "metadata": {},
   "outputs": [],
   "source": [
    "pluto_control = dagger.PlutoControl(t)\n",
    "\n",
    "pluto_control.take_off()"
   ]
  },
  {
   "attachments": {},
   "cell_type": "markdown",
   "id": "15703adc",
   "metadata": {},
   "source": [
    "Landing the drone"
   ]
  },
  {
   "cell_type": "code",
   "execution_count": null,
   "id": "fe46c6d2",
   "metadata": {},
   "outputs": [],
   "source": [
    "pluto_control.land()"
   ]
  },
  {
   "attachments": {},
   "cell_type": "markdown",
   "id": "0f2b8c70",
   "metadata": {},
   "source": [
    "Pitch Forward"
   ]
  },
  {
   "cell_type": "code",
   "execution_count": null,
   "id": "72f8b726",
   "metadata": {},
   "outputs": [],
   "source": [
    "pluto_control.pitch_forward()"
   ]
  },
  {
   "attachments": {},
   "cell_type": "markdown",
   "id": "084c1e9a",
   "metadata": {},
   "source": [
    "Calibration and Sensory data of Pluto drone"
   ]
  },
  {
   "cell_type": "code",
   "execution_count": null,
   "id": "8a3fb0f3",
   "metadata": {},
   "outputs": [],
   "source": [
    "pluto_sensor = dagger.PlutoSensor(t)"
   ]
  },
  {
   "cell_type": "code",
   "execution_count": null,
   "id": "ef95d488",
   "metadata": {},
   "outputs": [],
   "source": [
    "\"\"\" Getting the Altitude Data \"\"\"\n",
    "alt = pluto_sensor.get_altitude_data()\n",
    "print(alt.altitude)\n",
    "\n",
    "\"\"\" Getting the Analog/Battery Data \"\"\"\n",
    "ang = pluto_sensor.get_analog_data()\n",
    "print(ang.vbat)\n",
    "\n",
    "\"\"\" Getting the Attitude Data \"\"\"\n",
    "att = pluto_sensor.get_attitude_data()\n",
    "print(att.roll)\n",
    "\n",
    "\"\"\" Getting the RAW IMU Data \"\"\"\n",
    "raw_imu = pluto_sensor.get_raw_imu()\n",
    "print(raw_imu.acc_x)"
   ]
  },
  {
   "cell_type": "code",
   "execution_count": null,
   "id": "93291c10",
   "metadata": {},
   "outputs": [],
   "source": [
    "\"\"\" Calibrating the Accelerometer.\"\"\"\n",
    "acc_cal = pluto_sensor.acc_calibartion(t)\n",
    "\n",
    "\"\"\" Calibrating the Magenometer.\"\"\"\n",
    "acc_cal = pluto_sensor.mag_calibration(t)"
   ]
  }
 ],
 "metadata": {
  "kernelspec": {
   "display_name": "dagger",
   "language": "python",
   "name": "python3"
  },
  "language_info": {
   "codemirror_mode": {
    "name": "ipython",
    "version": 3
   },
   "file_extension": ".py",
   "mimetype": "text/x-python",
   "name": "python",
   "nbconvert_exporter": "python",
   "pygments_lexer": "ipython3",
   "version": "3.8.0 | packaged by conda-forge | (default, Nov 22 2019, 19:11:38) \n[GCC 7.3.0]"
  },
  "vscode": {
   "interpreter": {
    "hash": "8a5edab282632443219e051e4ade2d1d5bbc671c781051bf1437897cbdfea0f1"
   }
  }
 },
 "nbformat": 4,
 "nbformat_minor": 5
}
