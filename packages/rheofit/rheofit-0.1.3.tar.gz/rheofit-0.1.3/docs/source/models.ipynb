{
 "cells": [
  {
   "cell_type": "markdown",
   "metadata": {
    "colab_type": "text",
    "id": "KCx99NUurSGJ"
   },
   "source": [
    "# Available Rheological models "
   ]
  },
  {
   "cell_type": "code",
   "execution_count": 10,
   "metadata": {
    "colab": {},
    "colab_type": "code",
    "id": "WNPh2HsxpHo7"
   },
   "outputs": [],
   "source": [
    "import sys\n",
    "import os\n",
    "sys.path.insert(0,'C:\\\\Users\\\\caggioni.m\\\\Documents\\\\GitHub\\\\rheofit')\n",
    "import rheofit"
   ]
  },
  {
   "cell_type": "markdown",
   "metadata": {
    "colab_type": "text",
    "id": "pdfiuz8grIJY"
   },
   "source": [
    "The rheological models available are intended for fitting flow curves, the shear stress indicated by the symbol $\\sigma$ as a function of shear rate indicated by the symbol $\\dot\\gamma$."
   ]
  },
  {
   "cell_type": "code",
   "execution_count": 11,
   "metadata": {
    "scrolled": false
   },
   "outputs": [
    {
     "data": {
      "text/latex": [
       "$\\displaystyle \\sigma=\\sigma_y + \\eta_{bg}\\cdot\\dot\\gamma$"
      ],
      "text/plain": [
       "<IPython.core.display.Math object>"
      ]
     },
     "metadata": {},
     "output_type": "display_data"
    },
    {
     "name": "stdout",
     "output_type": "stream",
     "text": [
      "Help on function Bingham in module rheofit.models:\n",
      "\n",
      "Bingham(x, ystress=1.0, eta_bg=0.1)\n",
      "    Bingham model\n",
      "    \n",
      "    Note:\n",
      "    \n",
      "    .. math::\n",
      "       \\sigma=\\sigma_y+\\eta_{bg}\\cdot\\dot\\gamma\n",
      "    \n",
      "    Args:\n",
      "        ystress: yield stress [Pa]\n",
      "    \n",
      "        eta_bg : Background viscosity [Pa s]\n",
      "    \n",
      "    Returns:\n",
      "        stress : Shear Stress, [Pa]\n",
      "\n"
     ]
    }
   ],
   "source": [
    "rheofit.models.Bingham_model # lmfit model\n",
    "display(rheofit.models.Bingham_model.model_expression)\n",
    "help(rheofit.models.Bingham)"
   ]
  },
  {
   "cell_type": "code",
   "execution_count": 12,
   "metadata": {},
   "outputs": [
    {
     "data": {
      "text/latex": [
       "$\\displaystyle \\sigma^{0.5}=\\sigma_y^{0.5}+\\eta_{bg}^{0.5}$"
      ],
      "text/plain": [
       "<IPython.core.display.Math object>"
      ]
     },
     "metadata": {},
     "output_type": "display_data"
    },
    {
     "name": "stdout",
     "output_type": "stream",
     "text": [
      "Help on function casson in module rheofit.models:\n",
      "\n",
      "casson(x, ystress=1.0, eta_bg=0.1)\n",
      "    Casson Model\n",
      "    \n",
      "    Note:\n",
      "    \n",
      "    .. math::\n",
      "       \\sigma^{0.5}= \\sigma_y^{0.5} + \\eta_{bg}^{0.5}\n",
      "    \n",
      "    Args:\n",
      "        ystress: yield stress [Pa]\n",
      "    \n",
      "        eta_bg : Background viscosity [Pa s]\n",
      "    \n",
      "    Returns:\n",
      "        stress : Shear Stress, [Pa]\n",
      "\n"
     ]
    }
   ],
   "source": [
    "rheofit.models.casson_model # lmfit model\n",
    "display(rheofit.models.casson_model.model_expression)\n",
    "help(rheofit.models.casson)"
   ]
  },
  {
   "cell_type": "code",
   "execution_count": 13,
   "metadata": {},
   "outputs": [
    {
     "data": {
      "text/latex": [
       "$\\displaystyle \\sigma=K\\cdot\\dot\\gamma^n$"
      ],
      "text/plain": [
       "<IPython.core.display.Math object>"
      ]
     },
     "metadata": {},
     "output_type": "display_data"
    },
    {
     "name": "stdout",
     "output_type": "stream",
     "text": [
      "Help on function Powerlaw in module rheofit.models:\n",
      "\n",
      "Powerlaw(x, n=0.5, K=0.1)\n",
      "    Powerlaw model for the stress data\n",
      "    \n",
      "    Note:\n",
      "    \n",
      "    .. math::\n",
      "       \\sigma=K \\cdot \\dot\\gamma^n\n",
      "    \n",
      "    Args:\n",
      "    \n",
      "        K : consistency index [Pa s]\n",
      "        n : shear thinning index (1 for Newtonian) []\n",
      "    \n",
      "    Returns:\n",
      "        stress : Shear Stress, [Pa]\n",
      "\n"
     ]
    }
   ],
   "source": [
    "rheofit.models.Powerlaw_model # lmfit model\n",
    "display(rheofit.models.Powerlaw_model.model_expression)\n",
    "help(rheofit.models.Powerlaw)"
   ]
  },
  {
   "cell_type": "code",
   "execution_count": 14,
   "metadata": {},
   "outputs": [
    {
     "data": {
      "text/latex": [
       "$\\displaystyle \\sigma=\\sigma_y+K\\cdot\\dot\\gamma^n$"
      ],
      "text/plain": [
       "<IPython.core.display.Math object>"
      ]
     },
     "metadata": {},
     "output_type": "display_data"
    },
    {
     "name": "stdout",
     "output_type": "stream",
     "text": [
      "Help on function HB in module rheofit.models:\n",
      "\n",
      "HB(x, ystress=1.0, K=1.0, n=0.5)\n",
      "    Hershel-Bulkley Model\n",
      "    \n",
      "    Note:\n",
      "    \n",
      "    .. math::\n",
      "       \\sigma= \\sigma_y + K \\cdot \\dot\\gamma^n\n",
      "    \n",
      "    Args:\n",
      "        ystress: yield stress [Pa]\n",
      "    \n",
      "        K : Consistency index [Pa s^n]\n",
      "    \n",
      "        n : Shear thinning index []\n",
      "    \n",
      "    Returns:\n",
      "        stress : Shear Stress, [Pa]\n",
      "\n"
     ]
    }
   ],
   "source": [
    "rheofit.models.HB_model # lmfit model\n",
    "display(rheofit.models.HB_model.model_expression)\n",
    "help(rheofit.models.HB)"
   ]
  },
  {
   "cell_type": "code",
   "execution_count": 15,
   "metadata": {},
   "outputs": [
    {
     "data": {
      "text/latex": [
       "$\\displaystyle \\sigma=\\sigma_y+\\sigma_y\\cdot(\\dot\\gamma/\\dot\\gamma_c)^{0.5}+\\eta_{bg}\\cdot\\dot\\gamma$"
      ],
      "text/plain": [
       "<IPython.core.display.Math object>"
      ]
     },
     "metadata": {},
     "output_type": "display_data"
    },
    {
     "name": "stdout",
     "output_type": "stream",
     "text": [
      "Help on function TC in module rheofit.models:\n",
      "\n",
      "TC(x, ystress=1.0, eta_bg=0.1, gammadot_crit=0.1)\n",
      "    Three component model\n",
      "    \n",
      "    Note:\n",
      "    \n",
      "    .. math::\n",
      "       \\sigma=\\sigma_y+\\sigma_y\\cdot(\\dot\\gamma/\\dot\\gamma_c)^{0.5}+\\eta_{bg}\\cdot\\dot\\gamma\n",
      "    \n",
      "    Args:\n",
      "        ystress: yield stress [Pa]\n",
      "    \n",
      "        eta_bg : Background viscosity [Pa s]\n",
      "    \n",
      "        gammadot_crit : Critical shear rate [1/s]\n",
      "    \n",
      "    Returns:\n",
      "        stress : Shear Stress, [Pa]\n",
      "\n"
     ]
    }
   ],
   "source": [
    "rheofit.models.TC_model # lmfit model\n",
    "display(rheofit.models.TC_model.model_expression)\n",
    "help(rheofit.models.TC)"
   ]
  },
  {
   "cell_type": "code",
   "execution_count": 16,
   "metadata": {},
   "outputs": [
    {
     "data": {
      "text/latex": [
       "$\\displaystyle \\sigma=\\dot\\gamma \\cdot \\eta_0 \\cdot (1+(\\dot\\gamma/\\dot\\gamma_{c_carreau})^2)^{(n-1)/2}$"
      ],
      "text/plain": [
       "<IPython.core.display.Math object>"
      ]
     },
     "metadata": {},
     "output_type": "display_data"
    },
    {
     "name": "stdout",
     "output_type": "stream",
     "text": [
      "Help on function carreau in module rheofit.models:\n",
      "\n",
      "carreau(x, eta_0=1.0, gammadot_crit=1.0, n=0.5, prefix='carreau')\n",
      "    carreau Model\n",
      "    \n",
      "    Note:\n",
      "    \n",
      "    .. math::\n",
      "       \\sigma=\\dot\\gamma \\cdot \\eta_0 \\cdot (1+(\\dot\\gamma/\\dot\\gamma_c)^2)^{(n-1)/2}\n",
      "    \n",
      "    Args:\n",
      "        eta_0: low shear viscosity [Pa s]\n",
      "    \n",
      "        gammadot_crit: critical shear rate [1/s]\n",
      "    \n",
      "        n : shear thinning exponent\n",
      "    \n",
      "    Returns:\n",
      "        stress : Shear Stress, [Pa]\n",
      "\n"
     ]
    }
   ],
   "source": [
    "rheofit.models.carreau_model # lmfit model\n",
    "display(rheofit.models.carreau_model.model_expression)\n",
    "help(rheofit.models.carreau)"
   ]
  },
  {
   "cell_type": "code",
   "execution_count": 17,
   "metadata": {},
   "outputs": [
    {
     "data": {
      "text/latex": [
       "$\\displaystyle \\sigma= \\dot\\gamma \\eta_{inf} + \\dot\\gamma (\\eta_0 - \\eta_{inf})/(1 + (\\dot\\gamma/\\dot\\gamma_c)^n)$"
      ],
      "text/plain": [
       "<IPython.core.display.Math object>"
      ]
     },
     "metadata": {},
     "output_type": "display_data"
    },
    {
     "name": "stdout",
     "output_type": "stream",
     "text": [
      "Help on function cross in module rheofit.models:\n",
      "\n",
      "cross(x, eta_inf=0.001, eta_0=1.0, n=0.5, gammadot_crit=1.0)\n",
      "    cross Model\n",
      "    \n",
      "    Note:\n",
      "    \n",
      "    .. math::\n",
      "       \\sigma= \\dot\\gamma \\eta_{inf} + \\dot\\gamma (\\eta_0 - \\eta_{inf})/(1 + (\\dot\\gamma/\\dot\\gamma_c)^n)\n",
      "    \n",
      "    Args:\n",
      "        ystress: yield stress [Pa]\n",
      "    \n",
      "        K : Consistency index [Pa s^n]\n",
      "    \n",
      "        n : Shear thinning index []\n",
      "    \n",
      "    Returns:\n",
      "        stress : Shear Stress, [Pa]\n",
      "\n"
     ]
    }
   ],
   "source": [
    "rheofit.models.cross_model # lmfit model\n",
    "display(rheofit.models.cross_model.model_expression)\n",
    "help(rheofit.models.cross)"
   ]
  }
 ],
 "metadata": {
  "colab": {
   "name": "Quickstart.ipynb",
   "provenance": []
  },
  "kernelspec": {
   "display_name": "Python 3",
   "language": "python",
   "name": "python3"
  },
  "language_info": {
   "codemirror_mode": {
    "name": "ipython",
    "version": 3
   },
   "file_extension": ".py",
   "mimetype": "text/x-python",
   "name": "python",
   "nbconvert_exporter": "python",
   "pygments_lexer": "ipython3",
   "version": "3.8.5"
  }
 },
 "nbformat": 4,
 "nbformat_minor": 1
}
