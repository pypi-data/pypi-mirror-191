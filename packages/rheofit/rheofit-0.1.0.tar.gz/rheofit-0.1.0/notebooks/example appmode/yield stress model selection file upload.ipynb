{
 "cells": [
  {
   "cell_type": "markdown",
   "metadata": {},
   "source": [
    "# Yield stress Model Selection\n",
    "\n",
    "Notebook to create interactive app with function:\n",
    "* Upload rheology xls file exported from trios with multitab option selected\n",
    "* Execute Fit to flow curve data with model or models selected from a list"
   ]
  },
  {
   "cell_type": "code",
   "execution_count": 3,
   "metadata": {},
   "outputs": [],
   "source": [
    "%matplotlib widget\n",
    "import sys\n",
    "sys.path.append(\"./../../\")\n",
    "import os\n",
    "import ipywidgets as widgets\n",
    "from IPython.display import clear_output\n",
    "import pandas as pd\n",
    "import matplotlib.pyplot as plt\n",
    "import rheofit"
   ]
  },
  {
   "cell_type": "markdown",
   "metadata": {},
   "source": [
    "# Select and upload data file (currently 1 file only)"
   ]
  },
  {
   "cell_type": "code",
   "execution_count": 4,
   "metadata": {},
   "outputs": [
    {
     "data": {
      "application/vnd.jupyter.widget-view+json": {
       "model_id": "e7d115e08a074f5992040389d5f5142c",
       "version_major": 2,
       "version_minor": 0
      },
      "text/plain": [
       "FileUpload(compress_level=9, style_button='color: darkblue; background-color: lightblue; width: 300px;')"
      ]
     },
     "metadata": {},
     "output_type": "display_data"
    }
   ],
   "source": [
    "import io\n",
    "from ipyupload import FileUpload\n",
    "\n",
    "w = FileUpload(accept=None,\n",
    "               multiple=False, \n",
    "               disabled=False,\n",
    "               style_button='color: darkblue; background-color: lightblue; width: 300px;',\n",
    "               compress_level=9\n",
    "              )\n",
    "w"
   ]
  },
  {
   "cell_type": "markdown",
   "metadata": {},
   "source": [
    "# Select Rheological model or models from the list of available models"
   ]
  },
  {
   "cell_type": "code",
   "execution_count": 7,
   "metadata": {
    "code_folding": []
   },
   "outputs": [
    {
     "name": "stdout",
     "output_type": "stream",
     "text": [
      "Model(Bingham, prefix='bingham_')\n"
     ]
    },
    {
     "data": {
      "text/latex": [
       "$\\displaystyle \\sigma=\\sigma_y + \\eta_{bg}\\cdot\\dot\\gamma$"
      ],
      "text/plain": [
       "<IPython.core.display.Math object>"
      ]
     },
     "metadata": {},
     "output_type": "display_data"
    },
    {
     "name": "stdout",
     "output_type": "stream",
     "text": [
      "Model(casson, prefix='casson_')\n"
     ]
    },
    {
     "data": {
      "text/latex": [
       "$\\displaystyle \\sigma^{0.5}=\\sigma_y^{0.5}+\\eta_{bg}^{0.5}$"
      ],
      "text/plain": [
       "<IPython.core.display.Math object>"
      ]
     },
     "metadata": {},
     "output_type": "display_data"
    },
    {
     "name": "stdout",
     "output_type": "stream",
     "text": [
      "Model(HB)\n"
     ]
    },
    {
     "data": {
      "text/latex": [
       "$\\displaystyle \\sigma=\\sigma_y+K\\cdot\\dot\\gamma^n$"
      ],
      "text/plain": [
       "<IPython.core.display.Math object>"
      ]
     },
     "metadata": {},
     "output_type": "display_data"
    },
    {
     "name": "stdout",
     "output_type": "stream",
     "text": [
      "Model(Powerlaw, prefix='PL_')\n"
     ]
    },
    {
     "data": {
      "text/latex": [
       "$\\displaystyle \\sigma=K\\cdot\\dot\\gamma^n$"
      ],
      "text/plain": [
       "<IPython.core.display.Math object>"
      ]
     },
     "metadata": {},
     "output_type": "display_data"
    }
   ],
   "source": [
    "model_list=[rheofit.models.Bingham_model,\n",
    "            rheofit.models.casson_model,\n",
    "            rheofit.models.HB_model,\n",
    "            rheofit.models.Powerlaw_model,\n",
    "            rheofit.models.TC_model,\n",
    "           ]\n",
    "\n",
    "for model in model_list:\n",
    "    print(model.name)\n",
    "    display(model.model_expression)"
   ]
  },
  {
   "cell_type": "code",
   "execution_count": 8,
   "metadata": {},
   "outputs": [
    {
     "data": {
      "application/vnd.jupyter.widget-view+json": {
       "model_id": "2979c746ebd14d24b444068a4f1cf5eb",
       "version_major": 2,
       "version_minor": 0
      },
      "text/plain": [
       "SelectMultiple(options={\"Model(Bingham, prefix='bingham_')\": <lmfit.Model: Model(Bingham, prefix='bingham_')>,…"
      ]
     },
     "metadata": {},
     "output_type": "display_data"
    }
   ],
   "source": [
    "select_model_widget=widgets.SelectMultiple(options={item.name:item for item in model_list})\n",
    "select_model_widget"
   ]
  },
  {
   "cell_type": "code",
   "execution_count": 11,
   "metadata": {},
   "outputs": [],
   "source": [
    "def execute_analysis(sender):\n",
    "    \n",
    "    figlist=plt.get_fignums()\n",
    "    \n",
    "    for i in figlist:\n",
    "        plt.close(i)\n",
    "    \n",
    "    datafile_object=pd.ExcelFile(io.BytesIO(w.li_content[0]))\n",
    "    table_name_list = datafile_object.sheet_names\n",
    "    rheodata=datafile_object.parse(table_name_list[-1],skiprows=1).drop(0).reset_index().astype('float')\n",
    "    \n",
    "    condition=rheodata['Shear rate']<50\n",
    "    \n",
    "    data=rheodata[condition]\n",
    "    \n",
    "    \n",
    "    clear_output()\n",
    "    display(exec_analysis_button)\n",
    "    \n",
    "    global fit_list        \n",
    "    fit_list=[rheofit.models.fit_FC(model,data) for model in select_model_widget.value]\n",
    "   \n",
    "    table_list=[rheofit.models.show_parameter_table(fit) for fit in fit_list];\n",
    "    result_table=pd.concat(table_list,sort=False)\n",
    "    \n",
    "    \n",
    "    display(result_table)\n",
    "    \n",
    "    for fit, model in zip(fit_list,select_model_widget.value):\n",
    "        display(fit)\n",
    "        plt.figure()\n",
    "        rheofit.models.plot_fit_fc(fit,show_table=False)\n",
    "        #fit.plot_residuals(yerr=False)\n",
    "        #plt.xscale('log')\n",
    "        #plt.yscale('symlog')\n",
    "        #plt.ylim(-1000,1000)\n",
    "\n",
    "exec_analysis_button=widgets.Button(description='Execute Analysis')\n",
    "exec_analysis_button.on_click(execute_analysis)\n"
   ]
  },
  {
   "cell_type": "code",
   "execution_count": 12,
   "metadata": {
    "scrolled": false
   },
   "outputs": [
    {
     "data": {
      "application/vnd.jupyter.widget-view+json": {
       "model_id": "934cdaaa09654fd5a3294ffaf5375e1c",
       "version_major": 2,
       "version_minor": 0
      },
      "text/plain": [
       "Button(description='Execute Analysis', style=ButtonStyle())"
      ]
     },
     "metadata": {},
     "output_type": "display_data"
    },
    {
     "data": {
      "text/html": [
       "<div>\n",
       "<style scoped>\n",
       "    .dataframe tbody tr th:only-of-type {\n",
       "        vertical-align: middle;\n",
       "    }\n",
       "\n",
       "    .dataframe tbody tr th {\n",
       "        vertical-align: top;\n",
       "    }\n",
       "\n",
       "    .dataframe thead th {\n",
       "        text-align: right;\n",
       "    }\n",
       "</style>\n",
       "<table border=\"1\" class=\"dataframe\">\n",
       "  <thead>\n",
       "    <tr style=\"text-align: right;\">\n",
       "      <th></th>\n",
       "      <th>bingham_eta_bg</th>\n",
       "      <th>bingham_ystress</th>\n",
       "      <th>bic</th>\n",
       "      <th>redchi</th>\n",
       "      <th>casson_eta_bg</th>\n",
       "      <th>casson_ystress</th>\n",
       "      <th>n</th>\n",
       "      <th>K</th>\n",
       "      <th>ystress</th>\n",
       "    </tr>\n",
       "  </thead>\n",
       "  <tbody>\n",
       "    <tr>\n",
       "      <td>Model(Bingham, prefix='bingham_')</td>\n",
       "      <td>0.01423</td>\n",
       "      <td>0.027338</td>\n",
       "      <td>-98.350450</td>\n",
       "      <td>0.060948</td>\n",
       "      <td>NaN</td>\n",
       "      <td>NaN</td>\n",
       "      <td>NaN</td>\n",
       "      <td>NaN</td>\n",
       "      <td>NaN</td>\n",
       "    </tr>\n",
       "    <tr>\n",
       "      <td>Model(casson, prefix='casson_')</td>\n",
       "      <td>NaN</td>\n",
       "      <td>NaN</td>\n",
       "      <td>-164.260544</td>\n",
       "      <td>0.010264</td>\n",
       "      <td>0.008004</td>\n",
       "      <td>0.020929</td>\n",
       "      <td>NaN</td>\n",
       "      <td>NaN</td>\n",
       "      <td>NaN</td>\n",
       "    </tr>\n",
       "    <tr>\n",
       "      <td>Model(HB)</td>\n",
       "      <td>NaN</td>\n",
       "      <td>NaN</td>\n",
       "      <td>-286.020519</td>\n",
       "      <td>0.000357</td>\n",
       "      <td>NaN</td>\n",
       "      <td>NaN</td>\n",
       "      <td>0.578298</td>\n",
       "      <td>0.044922</td>\n",
       "      <td>0.017983</td>\n",
       "    </tr>\n",
       "  </tbody>\n",
       "</table>\n",
       "</div>"
      ],
      "text/plain": [
       "                                   bingham_eta_bg  bingham_ystress  \\\n",
       "Model(Bingham, prefix='bingham_')         0.01423         0.027338   \n",
       "Model(casson, prefix='casson_')               NaN              NaN   \n",
       "Model(HB)                                     NaN              NaN   \n",
       "\n",
       "                                          bic    redchi  casson_eta_bg  \\\n",
       "Model(Bingham, prefix='bingham_')  -98.350450  0.060948            NaN   \n",
       "Model(casson, prefix='casson_')   -164.260544  0.010264       0.008004   \n",
       "Model(HB)                         -286.020519  0.000357            NaN   \n",
       "\n",
       "                                   casson_ystress         n         K  \\\n",
       "Model(Bingham, prefix='bingham_')             NaN       NaN       NaN   \n",
       "Model(casson, prefix='casson_')          0.020929       NaN       NaN   \n",
       "Model(HB)                                     NaN  0.578298  0.044922   \n",
       "\n",
       "                                    ystress  \n",
       "Model(Bingham, prefix='bingham_')       NaN  \n",
       "Model(casson, prefix='casson_')         NaN  \n",
       "Model(HB)                          0.017983  "
      ]
     },
     "metadata": {},
     "output_type": "display_data"
    },
    {
     "data": {
      "text/html": [
       "<h2> Model</h2> Model(Bingham, prefix='bingham_') <h2>Fit Statistics</h2><table><tr><td>fitting method</td><td>leastsq</td><td></td></tr><tr><td># function evals</td><td>19</td><td></td></tr><tr><td># data points</td><td>37</td><td></td></tr><tr><td># variables</td><td>2</td><td></td></tr><tr><td>chi-square</td><td> 2.13317798</td><td></td></tr><tr><td>reduced chi-square</td><td> 0.06094794</td><td></td></tr><tr><td>Akaike info crit.</td><td>-101.572286</td><td></td></tr><tr><td>Bayesian info crit.</td><td>-98.3504504</td><td></td></tr></table><h2>Variables</h2><table><tr><th> name </th><th> value </th><th> standard error </th><th> relative error </th><th> initial value </th><th> min </th><th> max </th><th> vary </th></tr><tr><td> bingham_eta_bg </td><td>  0.01422998 </td><td>  0.00112079 </td><td> 7.88% </td><td> 0.1 </td><td>  0.00000000 </td><td>         inf </td><td> True </td></tr><tr><td> bingham_ystress </td><td>  0.02733847 </td><td>  0.00156975 </td><td> 5.74% </td><td> 1.0 </td><td>  0.00000000 </td><td>         inf </td><td> True </td></tr></table><h2>Correlations (unreported correlations are < 0.100)</h2><table><tr><td>bingham_eta_bg</td><td>bingham_ystress</td><td>-0.1944</td></tr></table>"
      ],
      "text/plain": [
       "<lmfit.model.ModelResult at 0x1dc9f2ef388>"
      ]
     },
     "metadata": {},
     "output_type": "display_data"
    },
    {
     "data": {
      "application/vnd.jupyter.widget-view+json": {
       "model_id": "bde34335222c46339b7cd484ab5b12b5",
       "version_major": 2,
       "version_minor": 0
      },
      "text/plain": [
       "Canvas(toolbar=Toolbar(toolitems=[('Home', 'Reset original view', 'home', 'home'), ('Back', 'Back to previous …"
      ]
     },
     "metadata": {},
     "output_type": "display_data"
    },
    {
     "data": {
      "text/html": [
       "<h2> Model</h2> Model(casson, prefix='casson_') <h2>Fit Statistics</h2><table><tr><td>fitting method</td><td>leastsq</td><td></td></tr><tr><td># function evals</td><td>19</td><td></td></tr><tr><td># data points</td><td>37</td><td></td></tr><tr><td># variables</td><td>2</td><td></td></tr><tr><td>chi-square</td><td> 0.35924848</td><td></td></tr><tr><td>reduced chi-square</td><td> 0.01026424</td><td></td></tr><tr><td>Akaike info crit.</td><td>-167.482379</td><td></td></tr><tr><td>Bayesian info crit.</td><td>-164.260544</td><td></td></tr></table><h2>Variables</h2><table><tr><th> name </th><th> value </th><th> standard error </th><th> relative error </th><th> initial value </th><th> min </th><th> max </th><th> vary </th></tr><tr><td> casson_eta_bg </td><td>  0.00800412 </td><td>  3.5472e-04 </td><td> 4.43% </td><td> 0.1 </td><td>  0.00000000 </td><td>         inf </td><td> True </td></tr><tr><td> casson_ystress </td><td>  0.02092879 </td><td>  6.1432e-04 </td><td> 2.94% </td><td> 1.0 </td><td>  0.00000000 </td><td>         inf </td><td> True </td></tr></table><h2>Correlations (unreported correlations are < 0.100)</h2><table><tr><td>casson_eta_bg</td><td>casson_ystress</td><td>-0.5453</td></tr></table>"
      ],
      "text/plain": [
       "<lmfit.model.ModelResult at 0x1dc9f302448>"
      ]
     },
     "metadata": {},
     "output_type": "display_data"
    },
    {
     "data": {
      "application/vnd.jupyter.widget-view+json": {
       "model_id": "4da31c8747a346098c14c6ea58f5fb77",
       "version_major": 2,
       "version_minor": 0
      },
      "text/plain": [
       "Canvas(toolbar=Toolbar(toolitems=[('Home', 'Reset original view', 'home', 'home'), ('Back', 'Back to previous …"
      ]
     },
     "metadata": {},
     "output_type": "display_data"
    },
    {
     "data": {
      "text/html": [
       "<h2> Model</h2> Model(HB) <h2>Fit Statistics</h2><table><tr><td>fitting method</td><td>leastsq</td><td></td></tr><tr><td># function evals</td><td>29</td><td></td></tr><tr><td># data points</td><td>37</td><td></td></tr><tr><td># variables</td><td>3</td><td></td></tr><tr><td>chi-square</td><td> 0.01212915</td><td></td></tr><tr><td>reduced chi-square</td><td> 3.5674e-04</td><td></td></tr><tr><td>Akaike info crit.</td><td>-290.853273</td><td></td></tr><tr><td>Bayesian info crit.</td><td>-286.020519</td><td></td></tr></table><h2>Variables</h2><table><tr><th> name </th><th> value </th><th> standard error </th><th> relative error </th><th> initial value </th><th> min </th><th> max </th><th> vary </th></tr><tr><td> n </td><td>  0.57829777 </td><td>  0.00435052 </td><td> 0.75% </td><td> 0.5 </td><td>  0.00000000 </td><td>  1.00000000 </td><td> True </td></tr><tr><td> K </td><td>  0.04492176 </td><td>  4.8110e-04 </td><td> 1.07% </td><td> 1.0 </td><td>  0.00000000 </td><td>         inf </td><td> True </td></tr><tr><td> ystress </td><td>  0.01798338 </td><td>  2.3064e-04 </td><td> 1.28% </td><td> 1.0 </td><td>  0.00000000 </td><td>         inf </td><td> True </td></tr></table><h2>Correlations (unreported correlations are < 0.100)</h2><table><tr><td>n</td><td>K</td><td>-0.8600</td></tr><tr><td>K</td><td>ystress</td><td>-0.8484</td></tr><tr><td>n</td><td>ystress</td><td>0.8005</td></tr></table>"
      ],
      "text/plain": [
       "<lmfit.model.ModelResult at 0x1dc9efaeac8>"
      ]
     },
     "metadata": {},
     "output_type": "display_data"
    },
    {
     "data": {
      "application/vnd.jupyter.widget-view+json": {
       "model_id": "3e2c4a1013df4265bb72689e8f50885d",
       "version_major": 2,
       "version_minor": 0
      },
      "text/plain": [
       "Canvas(toolbar=Toolbar(toolitems=[('Home', 'Reset original view', 'home', 'home'), ('Back', 'Back to previous …"
      ]
     },
     "metadata": {},
     "output_type": "display_data"
    }
   ],
   "source": [
    "display(exec_analysis_button)"
   ]
  },
  {
   "cell_type": "code",
   "execution_count": null,
   "metadata": {},
   "outputs": [],
   "source": []
  }
 ],
 "metadata": {
  "hide_input": false,
  "kernelspec": {
   "display_name": "Python 3",
   "language": "python",
   "name": "python3"
  },
  "language_info": {
   "codemirror_mode": {
    "name": "ipython",
    "version": 3
   },
   "file_extension": ".py",
   "mimetype": "text/x-python",
   "name": "python",
   "nbconvert_exporter": "python",
   "pygments_lexer": "ipython3",
   "version": "3.7.4"
  }
 },
 "nbformat": 4,
 "nbformat_minor": 4
}
