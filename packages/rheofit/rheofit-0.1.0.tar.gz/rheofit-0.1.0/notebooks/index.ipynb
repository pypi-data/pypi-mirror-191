{
  "nbformat": 4,
  "nbformat_minor": 0,
  "metadata": {
    "kernelspec": {
      "display_name": "Python 3",
      "language": "python",
      "name": "python3"
    },
    "language_info": {
      "codemirror_mode": {
        "name": "ipython",
        "version": 3
      },
      "file_extension": ".py",
      "mimetype": "text/x-python",
      "name": "python",
      "nbconvert_exporter": "python",
      "pygments_lexer": "ipython3",
      "version": "3.7.4"
    },
    "colab": {
      "name": "index.ipynb",
      "provenance": [],
      "include_colab_link": true
    }
  },
  "cells": [
    {
      "cell_type": "markdown",
      "metadata": {
        "id": "view-in-github",
        "colab_type": "text"
      },
      "source": [
        "<a href=\"https://colab.research.google.com/github/rheopy/rheofit/blob/master/notebooks/index.ipynb\" target=\"_parent\"><img src=\"https://colab.research.google.com/assets/colab-badge.svg\" alt=\"Open In Colab\"/></a>"
      ]
    },
    {
      "cell_type": "markdown",
      "metadata": {
        "id": "wCHfTND-FAyq",
        "colab_type": "text"
      },
      "source": [
        "# Rheofit notebooks index\n",
        "\n",
        "This index is the landing notebook for the colab badge\n",
        "\n",
        "* [Quickstart](Quickstart.ipynb)\n",
        "```\n",
        "Example of how to start using rheofit to analyze one or more flow curves, explore results and save to file\n",
        "```\n",
        "\n",
        "* [load rheology data](load_data.ipynb)\n",
        "```\n",
        "Examples of how to load rheology data using function provided by rheodata class\n",
        "```\n",
        "\n",
        "* [Fitting single flow curve data](Fitting_single_flow_curve_colab.ipynb) \n",
        "```\n",
        "this notebook focus on the possible analysis performed on a single flow curve.\n",
        "```"
      ]
    },
    {
      "cell_type": "code",
      "metadata": {
        "id": "Jbkwio05Fhy2",
        "colab_type": "code",
        "colab": {}
      },
      "source": [
        ""
      ],
      "execution_count": 0,
      "outputs": []
    }
  ]
}