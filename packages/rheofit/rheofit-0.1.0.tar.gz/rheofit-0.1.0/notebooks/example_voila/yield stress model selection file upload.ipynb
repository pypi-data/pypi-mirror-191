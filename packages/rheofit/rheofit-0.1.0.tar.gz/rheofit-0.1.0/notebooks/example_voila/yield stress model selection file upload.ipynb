{
 "cells": [
  {
   "cell_type": "markdown",
   "metadata": {},
   "source": [
    "# Fit Flow curve\n",
    "Notebook to create interactive app with function:\n",
    "* Upload rheology xls file exported from trios with multitab option selected\n",
    "* Alternatively \n",
    "* Execute Fit to flow curve data with model or models selected from a list"
   ]
  },
  {
   "cell_type": "code",
   "execution_count": 1,
   "metadata": {},
   "outputs": [],
   "source": [
    "%matplotlib widget\n",
    "import ipympl\n",
    "import sys\n",
    "sys.path.append(\"./../../\")\n",
    "import os\n",
    "import ipywidgets as widgets\n",
    "from IPython.display import clear_output\n",
    "import pandas as pd\n",
    "import matplotlib.pyplot as plt\n",
    "import rheofit\n",
    "import lmfit"
   ]
  },
  {
   "cell_type": "markdown",
   "metadata": {},
   "source": [
    "# Select and upload data file (currently 1 file only)\n",
    "\n",
    "The assumed file format is xls file exported from trios with multitab option selected"
   ]
  },
  {
   "cell_type": "code",
   "execution_count": 2,
   "metadata": {},
   "outputs": [
    {
     "data": {
      "application/vnd.jupyter.widget-view+json": {
       "model_id": "c57e1a69c8d34ea59536b490d133d832",
       "version_major": 2,
       "version_minor": 0
      },
      "text/plain": [
       "FileUpload(value={}, description='Upload')"
      ]
     },
     "metadata": {},
     "output_type": "display_data"
    }
   ],
   "source": [
    "import io\n",
    "\n",
    "w = widgets.FileUpload(multiple=False)\n",
    "w"
   ]
  },
  {
   "cell_type": "markdown",
   "metadata": {},
   "source": [
    "# Alternativly paste shear rate and stress columns\n",
    "\n",
    "the two columns should be just numbers and have the same number of raws"
   ]
  },
  {
   "cell_type": "code",
   "execution_count": 3,
   "metadata": {},
   "outputs": [
    {
     "data": {
      "application/vnd.jupyter.widget-view+json": {
       "model_id": "24cf43e6ee2a4d36b150c96a014c2def",
       "version_major": 2,
       "version_minor": 0
      },
      "text/plain": [
       "HBox(children=(Textarea(value='', description='Shear Rate Column [1/s]'), Textarea(value='', description='Shea…"
      ]
     },
     "metadata": {},
     "output_type": "display_data"
    }
   ],
   "source": [
    "Shear_rate_col=widgets.Textarea(description='Shear Rate Column [1/s]')\n",
    "Stress_col=widgets.Textarea(description='Shear Stress Column [Pa]')\n",
    "\n",
    "display(widgets.HBox([Shear_rate_col,Stress_col]))"
   ]
  },
  {
   "cell_type": "markdown",
   "metadata": {},
   "source": [
    "# Select Rheological model from the list of available models"
   ]
  },
  {
   "cell_type": "code",
   "execution_count": 4,
   "metadata": {
    "code_folding": []
   },
   "outputs": [
    {
     "name": "stdout",
     "output_type": "stream",
     "text": [
      "Model(Bingham, prefix='bingham_')\n"
     ]
    },
    {
     "data": {
      "text/latex": [
       "$\\displaystyle \\sigma=\\sigma_y + \\eta_{bg}\\cdot\\dot\\gamma$"
      ],
      "text/plain": [
       "<IPython.core.display.Math object>"
      ]
     },
     "metadata": {},
     "output_type": "display_data"
    },
    {
     "name": "stdout",
     "output_type": "stream",
     "text": [
      "Model(casson, prefix='casson_')\n"
     ]
    },
    {
     "data": {
      "text/latex": [
       "$\\displaystyle \\sigma^{0.5}=\\sigma_y^{0.5}+\\eta_{bg}^{0.5}$"
      ],
      "text/plain": [
       "<IPython.core.display.Math object>"
      ]
     },
     "metadata": {},
     "output_type": "display_data"
    },
    {
     "name": "stdout",
     "output_type": "stream",
     "text": [
      "Model(HB, prefix='HB_')\n"
     ]
    },
    {
     "data": {
      "text/latex": [
       "$\\displaystyle \\sigma=\\sigma_y+K\\cdot\\dot\\gamma^n$"
      ],
      "text/plain": [
       "<IPython.core.display.Math object>"
      ]
     },
     "metadata": {},
     "output_type": "display_data"
    },
    {
     "name": "stdout",
     "output_type": "stream",
     "text": [
      "Model(Powerlaw, prefix='PL_')\n"
     ]
    },
    {
     "data": {
      "text/latex": [
       "$\\displaystyle \\sigma=K\\cdot\\dot\\gamma^n$"
      ],
      "text/plain": [
       "<IPython.core.display.Math object>"
      ]
     },
     "metadata": {},
     "output_type": "display_data"
    },
    {
     "name": "stdout",
     "output_type": "stream",
     "text": [
      "Model(TC, prefix='TC_')\n"
     ]
    },
    {
     "data": {
      "text/latex": [
       "$\\displaystyle \\sigma=\\sigma_y+\\sigma_y\\cdot(\\dot\\gamma/\\dot\\gamma_c)^{0.5}+\\eta_{bg}\\cdot\\dot\\gamma$"
      ],
      "text/plain": [
       "<IPython.core.display.Math object>"
      ]
     },
     "metadata": {},
     "output_type": "display_data"
    },
    {
     "name": "stdout",
     "output_type": "stream",
     "text": [
      "Model(carreau, prefix='carreau_')\n"
     ]
    },
    {
     "data": {
      "text/latex": [
       "$\\displaystyle \\sigma=\\dot\\gamma \\cdot \\eta_0 \\cdot (1+(\\dot\\gamma/\\dot\\gamma_{c_carreau})^2)^{(n-1)/2}$"
      ],
      "text/plain": [
       "<IPython.core.display.Math object>"
      ]
     },
     "metadata": {},
     "output_type": "display_data"
    },
    {
     "name": "stdout",
     "output_type": "stream",
     "text": [
      "(Model(carreau, prefix='carreau_') + Model(TC, prefix='TC_'))\n"
     ]
    }
   ],
   "source": [
    "model_list=[rheofit.models.Bingham_model,\n",
    "            rheofit.models.casson_model,\n",
    "            rheofit.models.HB_model,\n",
    "            rheofit.models.Powerlaw_model,\n",
    "            rheofit.models.TC_model,\n",
    "            rheofit.models.carreau_model,\n",
    "            rheofit.models.carreau_model+rheofit.models.TC_model\n",
    "           ]\n",
    "\n",
    "for model in model_list:\n",
    "    try:\n",
    "        print(model.name)\n",
    "        display(model.model_expression)\n",
    "    except:\n",
    "        pass"
   ]
  },
  {
   "cell_type": "code",
   "execution_count": 5,
   "metadata": {},
   "outputs": [
    {
     "data": {
      "application/vnd.jupyter.widget-view+json": {
       "model_id": "ed8789fb704a429d9a4a3fec91265ec5",
       "version_major": 2,
       "version_minor": 0
      },
      "text/plain": [
       "Dropdown(options={\"Model(Bingham, prefix='bingham_')\": <lmfit.Model: Model(Bingham, prefix='bingham_')>, \"Mode…"
      ]
     },
     "metadata": {},
     "output_type": "display_data"
    }
   ],
   "source": [
    "select_model_widget=widgets.Dropdown(options={item.name:item for item in model_list})\n",
    "select_model_widget"
   ]
  },
  {
   "cell_type": "code",
   "execution_count": 6,
   "metadata": {},
   "outputs": [
    {
     "data": {
      "application/vnd.jupyter.widget-view+json": {
       "model_id": "06b280e34273467684389e70bdb9a3b8",
       "version_major": 2,
       "version_minor": 0
      },
      "text/plain": [
       "Text(value='0.0001', description='data_min')"
      ]
     },
     "metadata": {},
     "output_type": "display_data"
    },
    {
     "data": {
      "application/vnd.jupyter.widget-view+json": {
       "model_id": "541f8d6402584b03a15ef586e6dfe448",
       "version_major": 2,
       "version_minor": 0
      },
      "text/plain": [
       "Text(value='1000', description='data_max')"
      ]
     },
     "metadata": {},
     "output_type": "display_data"
    }
   ],
   "source": [
    "# Select data range and iterative mode\n",
    "\n",
    "data_limit_widget_min=widgets.Text(description='data_min',value='0.0001')\n",
    "data_limit_widget_max=widgets.Text(description='data_max',value='1000')\n",
    "\n",
    "display(data_limit_widget_min)\n",
    "display(data_limit_widget_max)"
   ]
  },
  {
   "cell_type": "code",
   "execution_count": 7,
   "metadata": {},
   "outputs": [],
   "source": [
    "def make_par_widget(fit_function):\n",
    "    if Shear_rate_col.value is not '':\n",
    "        shear_rate=pd.Series([y for y in (x.strip() for x in Shear_rate_col.value.splitlines()) if y],name='Shear rate').astype(float)\n",
    "        shear_stress=pd.Series([y for y in (x.strip() for x in Stress_col.value.splitlines()) if y],name='Stress').astype(float)\n",
    "        rheodata=pd.concat([shear_rate, shear_stress], axis=1)\n",
    "    else:\n",
    "        datafile_object=pd.ExcelFile(io.BytesIO(w.value[list(w.value.keys())[0]]['content']))\n",
    "        table_name_list = datafile_object.sheet_names\n",
    "        rheodata=datafile_object.parse(table_name_list[-1],skiprows=1).drop(0).reset_index().astype('float')\n",
    "\n",
    "    \n",
    "    res_fit=select_model_widget.value.fit(rheodata['Stress'],x=rheodata['Shear rate'])\n",
    "    \n",
    "    model_name_widget=widgets.Text(description='Model name',value=res_fit.model.name,\n",
    "                                   style={'description_width': 'initial'},\n",
    "                                   layout=widgets.Layout(width='80%'))\n",
    "    \n",
    "    global iterate_wid\n",
    "    iterate_wid=widgets.Checkbox(description='Iterative data range selection',\n",
    "                                 value=False,\n",
    "                                 style={'description_width': 'initial'},\n",
    "                                 layout=widgets.Layout(width='80%'))\n",
    "    \n",
    "    global weight_widget\n",
    "    weight_widget=widgets.Dropdown(description='Weight',options={'relative':None,'absolute':1},value=None,label='relative')\n",
    "\n",
    "    \n",
    "    par_list_wid=[]\n",
    "    for param in res_fit.params:\n",
    "        par_list_wid.append(widgets.HBox([widgets.Text(value=param),\n",
    "                                          widgets.Text(description='min/val/max',value=str(res_fit.params[param].min)),\n",
    "                                          widgets.Text(value=str(res_fit.params[param].value)),\n",
    "                                          widgets.Text(value=str(res_fit.params[param].max)),\n",
    "                                          widgets.Checkbox(description='fix',value=not(res_fit.params[param].vary))\n",
    "                                         ]))\n",
    "                      \n",
    "    box_layout = widgets.Layout(display='flex',\n",
    "                                flex_flow='column',\n",
    "                                align_items='stretch',\n",
    "                                border='solid')\n",
    "    \n",
    "    par_widgets=widgets.VBox([model_name_widget,iterate_wid,weight_widget]+par_list_wid,layout=box_layout)\n",
    "    display(par_widgets)\n",
    "    return par_widgets\n",
    "\n",
    "def make_par_from_widget(par_widget):\n",
    "    params = lmfit.Parameters()\n",
    "    \n",
    "    for par_info in par_widget.children[3:]:\n",
    "        \n",
    "        params.add(par_info.children[0].value,\n",
    "                   min=float(par_info.children[1].value),\n",
    "                   value=float(par_info.children[2].value),\n",
    "                   max=float(par_info.children[3].value),\n",
    "                   vary=not(par_info.children[4].value)\n",
    "                   )\n",
    "\n",
    "    return params"
   ]
  },
  {
   "cell_type": "code",
   "execution_count": 8,
   "metadata": {},
   "outputs": [
    {
     "data": {
      "application/vnd.jupyter.widget-view+json": {
       "model_id": "6593f8c287e14226967fcf8d4f2d5f43",
       "version_major": 2,
       "version_minor": 0
      },
      "text/plain": [
       "Button(description='Prepare Analysis', style=ButtonStyle())"
      ]
     },
     "metadata": {},
     "output_type": "display_data"
    }
   ],
   "source": [
    "parameter_display_widget=widgets.Output()\n",
    "\n",
    "@parameter_display_widget.capture()\n",
    "def prepare_analysis(sender):\n",
    "    clear_output()\n",
    "    model=select_model_widget.value\n",
    "    global par_wid\n",
    "    par_wid=make_par_widget(model)\n",
    "\n",
    "prepare_analysis_button=widgets.Button(description='Prepare Analysis')\n",
    "prepare_analysis_button.on_click(prepare_analysis)\n",
    "display(prepare_analysis_button)"
   ]
  },
  {
   "cell_type": "code",
   "execution_count": 9,
   "metadata": {},
   "outputs": [
    {
     "data": {
      "application/vnd.jupyter.widget-view+json": {
       "model_id": "1175b8e2c2a648419d60d19e0ac01ac9",
       "version_major": 2,
       "version_minor": 0
      },
      "text/plain": [
       "Output()"
      ]
     },
     "metadata": {},
     "output_type": "display_data"
    }
   ],
   "source": [
    "display(parameter_display_widget)"
   ]
  },
  {
   "cell_type": "code",
   "execution_count": 10,
   "metadata": {},
   "outputs": [],
   "source": [
    "Out=widgets.Output()\n",
    "\n",
    "@Out.capture()\n",
    "def execute_analysis(sender):\n",
    "    figlist=plt.get_fignums()\n",
    "    \n",
    "    for i in figlist:\n",
    "        plt.close(i)\n",
    "    \n",
    "    if Shear_rate_col.value is not '':\n",
    "        shear_rate=pd.Series([y for y in (x.strip() for x in Shear_rate_col.value.splitlines()) if y],name='Shear rate').astype(float)\n",
    "        shear_stress=pd.Series([y for y in (x.strip() for x in Stress_col.value.splitlines()) if y],name='Stress').astype(float)\n",
    "        rheodata=pd.concat([shear_rate, shear_stress], axis=1)\n",
    "\n",
    "    else:\n",
    "        datafile_object=pd.ExcelFile(io.BytesIO(w.value[list(w.value.keys())[0]]['content']))\n",
    "        table_name_list = datafile_object.sheet_names\n",
    "        rheodata=datafile_object.parse(table_name_list[-1],skiprows=1).drop(0).reset_index().astype('float')\n",
    "\n",
    "    \n",
    "    condition=(rheodata['Shear rate']>float(data_limit_widget_min.value)) & (rheodata['Shear rate']<float(data_limit_widget_max.value))\n",
    "    \n",
    "    data=rheodata[condition]\n",
    "    \n",
    "    weights=1/data['Stress']\n",
    "    \n",
    "    if weight_widget.value == 1:\n",
    "        weights=data['Stress']**0\n",
    "    \n",
    "    model=select_model_widget.value\n",
    "    params=make_par_from_widget(par_wid)\n",
    "    \n",
    "    global fit\n",
    "    if iterate_wid.value is True:\n",
    "        iterate=True\n",
    "        while iterate:\n",
    "            data=rheodata[condition]\n",
    "            \n",
    "            weights=1/data['Stress']\n",
    "    \n",
    "            if weight_widget.value == 1:\n",
    "                weights=data['Stress']**0\n",
    "            \n",
    "            fit=model.fit(data['Stress'],x=data['Shear rate'], weights=weights, params=params)\n",
    "            if min(data['Shear rate'])<fit.params['TC_gammadot_crit'].value:\n",
    "                condition=(rheodata['Shear rate']>float(data_limit_widget_min.value)) & (rheodata['Shear rate']<float(data_limit_widget_max.value)) & (rheodata['Shear rate']>fit.params['TC_gammadot_crit'].value)\n",
    "            else:\n",
    "                iterate=False\n",
    "    \n",
    "    else:\n",
    "        fit=model.fit(data['Stress'],x=data['Shear rate'], weights=weights, params=params)\n",
    "   \n",
    "    res_table=rheofit.models.show_parameter_table(fit)\n",
    "    \n",
    "    display(res_table)\n",
    "    display(fit)\n",
    "    \n",
    "    fig=plt.figure()\n",
    "    ax=fig.add_subplot(1,1,1)\n",
    "    ax.plot(data['Shear rate'],data['Stress'],'o',label='Analized data')\n",
    "    ax.plot(rheodata['Shear rate'],rheodata['Stress'],'o',label='Available data',mfc='none')\n",
    "\n",
    "    ax.set_xscale('log')\n",
    "    ax.set_yscale('log')\n",
    "    ax.plot(rheodata['Shear rate'],fit.eval(x=rheodata['Shear rate']), label='Best fit')\n",
    "    ax.set_xlabel('Shear rate [1/s]')\n",
    "    ax.set_ylabel('Stress [Pa]')\n",
    "    fig.show()\n",
    "\n",
    "exec_analysis_button=widgets.Button(description='Execute Analysis')\n",
    "exec_analysis_button.on_click(execute_analysis)\n",
    "\n",
    "@Out.capture()\n",
    "def clear_analysis(object):\n",
    "    figlist=plt.get_fignums()\n",
    "    \n",
    "    for i in figlist:\n",
    "        plt.close(i)\n",
    "        \n",
    "    clear_output()\n",
    "\n",
    "clear_analysis_button=widgets.Button(description='Clear Analysis')\n",
    "clear_analysis_button.on_click(clear_analysis)\n"
   ]
  },
  {
   "cell_type": "code",
   "execution_count": 11,
   "metadata": {
    "scrolled": false
   },
   "outputs": [
    {
     "data": {
      "application/vnd.jupyter.widget-view+json": {
       "model_id": "7d77ad64e8a643b6843c43a7ca8ae5f8",
       "version_major": 2,
       "version_minor": 0
      },
      "text/plain": [
       "Button(description='Execute Analysis', style=ButtonStyle())"
      ]
     },
     "metadata": {},
     "output_type": "display_data"
    },
    {
     "data": {
      "application/vnd.jupyter.widget-view+json": {
       "model_id": "3e58f4acc9654b66952711b326ea641b",
       "version_major": 2,
       "version_minor": 0
      },
      "text/plain": [
       "Button(description='Clear Analysis', style=ButtonStyle())"
      ]
     },
     "metadata": {},
     "output_type": "display_data"
    }
   ],
   "source": [
    "display(exec_analysis_button)\n",
    "display(clear_analysis_button)"
   ]
  },
  {
   "cell_type": "code",
   "execution_count": 12,
   "metadata": {},
   "outputs": [
    {
     "data": {
      "application/vnd.jupyter.widget-view+json": {
       "model_id": "10a07e7ad94d43c79dde535c678e2756",
       "version_major": 2,
       "version_minor": 0
      },
      "text/plain": [
       "Output()"
      ]
     },
     "metadata": {},
     "output_type": "display_data"
    }
   ],
   "source": [
    "display(Out)"
   ]
  }
 ],
 "metadata": {
  "hide_input": false,
  "kernelspec": {
   "display_name": "Python 3",
   "language": "python",
   "name": "python3"
  },
  "language_info": {
   "codemirror_mode": {
    "name": "ipython",
    "version": 3
   },
   "file_extension": ".py",
   "mimetype": "text/x-python",
   "name": "python",
   "nbconvert_exporter": "python",
   "pygments_lexer": "ipython3",
   "version": "3.6.9"
  }
 },
 "nbformat": 4,
 "nbformat_minor": 4
}
