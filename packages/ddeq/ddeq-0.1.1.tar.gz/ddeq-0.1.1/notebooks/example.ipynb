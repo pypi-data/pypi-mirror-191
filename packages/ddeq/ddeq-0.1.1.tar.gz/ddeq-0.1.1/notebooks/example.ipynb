{
 "cells": [
  {
   "cell_type": "markdown",
   "metadata": {},
   "source": [
    "# Data-driven emission quantification of hot spots\n",
    "This notebook demonstrates how to quantify CO$_2$ and NO$_x$ emissions from point sources using synthetic CO2M observations for a power plant and for a city."
   ]
  },
  {
   "cell_type": "code",
   "execution_count": null,
   "metadata": {},
   "outputs": [],
   "source": [
    "import os\n",
    "\n",
    "import cartopy.crs as ccrs\n",
    "import numpy as np\n",
    "import pandas as pandas\n",
    "import xarray\n",
    "\n",
    "# import and setup matplotlib\n",
    "%matplotlib inline\n",
    "import matplotlib.pyplot as plt\n",
    "plt.rcParams['figure.dpi'] = 100\n",
    "\n",
    "import ucat\n",
    "import ddeq"
   ]
  },
  {
   "cell_type": "markdown",
   "metadata": {},
   "source": [
    "Define coordinate reference systems used by the tool, the SMARTCARB model domain and the path to SMARTCARB data:"
   ]
  },
  {
   "cell_type": "code",
   "execution_count": null,
   "metadata": {},
   "outputs": [],
   "source": [
    "# DHDN / Soldner Berlin\n",
    "CRS = ccrs.epsg(3068)\n",
    "WGS84 = ccrs.PlateCarree()\n",
    "\n",
    "DOMAIN = ddeq.misc.Domain.from_nml(os.path.join(os.path.dirname(ddeq.__file__), 'data', 'INPUT_ORG'))\n",
    "\n",
    "ROOT = '/project/coco2/fileshare/WP4/SMARTCARB/'\n",
    "\n",
    "EMISSIONS_DATA_PATH = os.path.join(ROOT, 'timeseries')\n",
    "SMARTCARB_DATA_PATH = os.path.join(ROOT, 'level2')\n",
    "SMARTCARB_MODEL_PATH = os.path.join(ROOT, 'COSMO')"
   ]
  },
  {
   "cell_type": "markdown",
   "metadata": {},
   "source": [
    "Read list of point sources in the SMARTCARB model domain from \"sources.csv\" file. The format of the `xarray.Dataset` is used by plume detection and emission quantification code internally to identify the point sources. "
   ]
  },
  {
   "cell_type": "code",
   "execution_count": null,
   "metadata": {},
   "outputs": [],
   "source": [
    "# list of point sources\n",
    "sources = ddeq.misc.read_point_sources()\n",
    "sources"
   ]
  },
  {
   "cell_type": "markdown",
   "metadata": {},
   "source": [
    "## Synthetic satellite observations"
   ]
  },
  {
   "cell_type": "markdown",
   "metadata": {},
   "source": [
    "Synthetic satellite observations are available from the SMARTCARB project (https://doi.org/10.5281/zenodo.4048227). The `ddeq` package can read the data files and automatically applies random noise and cloud filters to the observations. The code also fixes some issues with the dataset such as wrong emissions for industry in Berlin in January and July. It is also possible to scale the anthropogenic model tracers: "
   ]
  },
  {
   "cell_type": "code",
   "execution_count": null,
   "metadata": {},
   "outputs": [],
   "source": [
    "filename = os.path.join(SMARTCARB_DATA_PATH, 'Sentinel_7_CO2_2015042311_o1670_l0483.nc')\n",
    "data_level2 = ddeq.smartcarb.read_level2(filename, co2_noise_scenario='medium', no2_noise_scenario='high')\n",
    "data_level2"
   ]
  },
  {
   "cell_type": "markdown",
   "metadata": {},
   "source": [
    "The data can easily be plotted using the `ddeq.vis.visualize` function, which requires the satellite data, the name of the trace gas, the SMARTCARB model domain, and the dataset of sources for labeling point sources. It is also possible to show the wind direction on the maker, which however requires ERA5 data."
   ]
  },
  {
   "cell_type": "code",
   "execution_count": null,
   "metadata": {},
   "outputs": [],
   "source": [
    "fig = ddeq.vis.visualize(data_level2, trace_gas='NO2', domain=DOMAIN, sources=sources, add_wind=False)"
   ]
  },
  {
   "cell_type": "markdown",
   "metadata": {},
   "source": [
    "It is also possible to read and visualize the (vertically integrated) COSMO-GHG fields:"
   ]
  },
  {
   "cell_type": "code",
   "execution_count": null,
   "metadata": {},
   "outputs": [],
   "source": [
    "time = pandas.Timestamp(data_level2.time.to_pandas())\n",
    "filename = os.path.join(SMARTCARB_MODEL_PATH.format(start_year=2015, start_month=1 if time.month < 7 else 7),\n",
    "                        time.strftime('cosmo_2d_%Y%m%d%H.nc'))\n",
    "\n",
    "data_cosmo = ddeq.smartcarb.read_cosmo(filename, 'CO2')\n",
    "\n",
    "fig = ddeq.vis.make_field_map(data_cosmo, trace_gas='CO2', domain=DOMAIN, vmin=404, vmax=408,\n",
    "                              alpha=data_cosmo['CLCT'], border=50.0, label='XCO$_2$ [ppm]')"
   ]
  },
  {
   "cell_type": "markdown",
   "metadata": {},
   "source": [
    "### Exercise \n",
    "* Read SMARTCARB Level-2 data for 23 April 2015, 11 UTC (orbit: 1670, lon_eq: 0483) using a low-noise CO2 and high-noise NO2 uncertainty scenario.\n",
    "* Plot the XCO2 observations using `ddeq.vis.visualize`, mask cloud fractions larger than 1%, and add labels point sources (Berlin, Boxberg, Janschwalde, Lippendorf, Schwarze Pumpe and Turow).\n",
    "* Read and add the XCO2 field from the COSMO-GHG model (`ddeq.smartcarb.read_trace_gas_field`) and additional fields (`ddeq.smartcarb.read_fields`) to the plot.\n",
    "* Add a square showing the study area given by lower left and upper right points of 12.0°N, 50.7°E and 15.5°N, 52.7°N, respectively."
   ]
  },
  {
   "cell_type": "code",
   "execution_count": null,
   "metadata": {},
   "outputs": [],
   "source": [
    "# add your code here"
   ]
  },
  {
   "cell_type": "markdown",
   "metadata": {},
   "source": [
    "## Plume detection algorithm\n",
    "Plumes are regions how satellite pixels where CO2/NO2 values are significantly enhanced above the background\n",
    "\\begin{equation}\n",
    "SNR = \\frac{X - X_\\mathrm{bg}}{\\sqrt{\\sigma_\\mathrm{random}^2 + \\sigma_\\mathrm{sys}^2}} \\geq z_\\mathrm{thr}\n",
    "\\end{equation}\n",
    "The value $X$ is computed by applying a Gaussian filter (other filters are possible) with size `filter_size` (default: 0.5 pixels). The background $X_\\mathrm{bg}$ is computed using a median filter (size = 100 pixels). The threshold $z_\\mathrm{thr}$ is computed for z-statistics using a probability $q$ (default: 0.99). Pixels for which above equation is true, are connected to regions using a labeling algorithm considering (horizontal, vertical and diagonal neighbors). Regions that overlap that are within the radius defined in `sources` of a point sources are assigned to the source. A region can be assigned to more than one source (overlapping plumes)."
   ]
  },
  {
   "cell_type": "code",
   "execution_count": null,
   "metadata": {},
   "outputs": [],
   "source": [
    "filename = os.path.join(SMARTCARB_DATA_PATH, 'Sentinel_7_CO2_2015042311_o1670_l0483.nc')\n",
    "data = ddeq.smartcarb.read_level2(filename, co2_noise_scenario='low', no2_noise_scenario='high', co_noise_scenario='low', only_observations=False)"
   ]
  },
  {
   "cell_type": "code",
   "execution_count": null,
   "metadata": {},
   "outputs": [],
   "source": [
    "data = ddeq.dplume.detect_plumes(data, sources, variable='NO2', variable_std='NO2_std',\n",
    "                                 filter_type='gaussian', filter_size=0.5)\n",
    "\n",
    "data.attrs.update(\n",
    "    DESCRIPTION = ('Synthetic XCO2 and NO2 satellite image with ',\n",
    "                   'auxiliary data for estimating CO2/NOx ',\n",
    "                   'emissions of cities and point sources'),\n",
    "    DATAORIGIN = 'SMARTCARB study',\n",
    "    CREATOR = 'Gerrit Kuhlmann',\n",
    "    EMAIL = 'gerrit.kuhlmann@empa.ch',\n",
    "    AFFILIATION = 'Empa Duebendorf, Switzerland',\n",
    "    DATE_CREATED = pandas.Timestamp.now().strftime('%Y-%m-%d %H:%M'),\n",
    ")"
   ]
  },
  {
   "cell_type": "markdown",
   "metadata": {},
   "source": [
    "The code computes several new fields that are added to the provided `data` dataset. The detected plumes are stored in the `detected_plume` data array (dims: nobs, nrows, source) where the length of source is equal to the number of detected plumes. "
   ]
  },
  {
   "cell_type": "code",
   "execution_count": null,
   "metadata": {},
   "outputs": [],
   "source": [
    "data"
   ]
  },
  {
   "cell_type": "markdown",
   "metadata": {},
   "source": [
    "The plume detection can be visualized using the `ddeq.vis.visualize` function:"
   ]
  },
  {
   "cell_type": "code",
   "execution_count": null,
   "metadata": {},
   "outputs": [],
   "source": [
    "ddeq.vis.visualize(data, trace_gas='NO2', domain=DOMAIN, add_wind=True, do_zoom=False, show_clouds=True);"
   ]
  },
  {
   "cell_type": "markdown",
   "metadata": {},
   "source": [
    "### Exercise \n",
    "* Detect emission plumes Berlin and Jänschwalde using low-noise CO2 observations.\n",
    "* Increase the size of the Gaussian filter to increase number of detected pixels.\n",
    "* Visualize the results using `ddeq.vis.visualize`"
   ]
  },
  {
   "cell_type": "code",
   "execution_count": null,
   "metadata": {},
   "outputs": [],
   "source": [
    "# add your code here"
   ]
  },
  {
   "cell_type": "markdown",
   "metadata": {},
   "source": [
    "## Center lines and polygons"
   ]
  },
  {
   "cell_type": "markdown",
   "metadata": {},
   "source": [
    "To estimate emissions for detected plumes, the following code fits a center curve for each detected plume. The code also adds across- and along-plume coordinates (`xp` and `yp`). The computation of plume coordinates can result in multiple solutions when the center line is strongly curved or the plume is small."
   ]
  },
  {
   "cell_type": "code",
   "execution_count": null,
   "metadata": {},
   "outputs": [],
   "source": [
    "filename = os.path.join(SMARTCARB_DATA_PATH, 'Sentinel_7_CO2_2015042311_o1670_l0483.nc')\n",
    "data = ddeq.smartcarb.read_level2(filename, co2_noise_scenario='low', no2_noise_scenario='high', \n",
    "                                  co_noise_scenario='low', only_observations=False)\n",
    "\n",
    "data = ddeq.dplume.detect_plumes(data, sources.sel(source=['Berlin', 'Janschwalde']),\n",
    "                                 variable='NO2', variable_std='NO2_std',\n",
    "                                 filter_type='gaussian', filter_size=0.5)\n",
    "\n",
    "ddeq.vis.visualize(data, trace_gas='NO2', domain=DOMAIN, add_wind=True, do_zoom=True, show_clouds=True);"
   ]
  },
  {
   "cell_type": "code",
   "execution_count": null,
   "metadata": {},
   "outputs": [],
   "source": [
    "data, curves = ddeq.plume_coords.compute_plume_line_and_coords(data, crs=CRS, plume_area=25e3)"
   ]
  },
  {
   "cell_type": "markdown",
   "metadata": {},
   "source": [
    "The following code shows the result:"
   ]
  },
  {
   "cell_type": "code",
   "execution_count": null,
   "metadata": {},
   "outputs": [],
   "source": [
    "ddeq.vis.show_detected_plumes(data, curves, 'NO2', domain=DOMAIN, add_wind=True, do_zoom=True, crs=CRS);"
   ]
  },
  {
   "cell_type": "markdown",
   "metadata": {},
   "source": [
    "## Prepare mass-balance approach"
   ]
  },
  {
   "cell_type": "markdown",
   "metadata": {},
   "source": [
    "To prepare for the mass-balance approach the following code computes the CO2/NO2 background field, the plume signals and converts to mass columns in kg/m² using the `ucat` Python package. "
   ]
  },
  {
   "cell_type": "code",
   "execution_count": null,
   "metadata": {},
   "outputs": [],
   "source": [
    "data = ddeq.emissions.prepare_data(data, 'CO2')\n",
    "data = ddeq.emissions.prepare_data(data, 'NO2')"
   ]
  },
  {
   "cell_type": "markdown",
   "metadata": {},
   "source": [
    "It is possible to visualize different variables using the `variable` parameter:"
   ]
  },
  {
   "cell_type": "code",
   "execution_count": null,
   "metadata": {},
   "outputs": [],
   "source": [
    "ddeq.vis.visualize(data, trace_gas='CO2', domain=DOMAIN, add_wind=False, do_zoom=True, show_clouds=True,\n",
    "                   variable='CO2_minus_estimated_background_mass', vmin=-20e-3, vmax=60e-3,\n",
    "                   label='CO$_2$ column density [kg m$^{-2}$]');"
   ]
  },
  {
   "cell_type": "markdown",
   "metadata": {},
   "source": [
    "## Mass-balance approach\n",
    "The following code estimated CO2 and NOx emissions for a point source (Jänschwalde) and a city (Berlin):"
   ]
  },
  {
   "cell_type": "markdown",
   "metadata": {},
   "source": [
    "### Mass-balance for point source\n",
    "First, we select subset of the dataset for specific source:"
   ]
  },
  {
   "cell_type": "code",
   "execution_count": null,
   "metadata": {},
   "outputs": [],
   "source": [
    "source = 'Janschwalde'\n",
    "this = ddeq.misc.select_source(data, source=source)"
   ]
  },
  {
   "cell_type": "markdown",
   "metadata": {},
   "source": [
    "Wind speed and direction are taken from ERA5 data that are downloaded from the Copernicus Climate Data Store (CDS). This can be done automatically using `cdsapi` but requires a CDS account and it might be slow. At the moment, wind speed and direction are averaged between 800 and 1000 hPa."
   ]
  },
  {
   "cell_type": "code",
   "execution_count": null,
   "metadata": {},
   "outputs": [],
   "source": [
    "time = pandas.Timestamp(data.time.values)\n",
    "wind_speed, wind_direction = ddeq.wind.get_wind(time, this['lon_o'], this['lat_o'], '.', components='ud')\n",
    "wind_direction"
   ]
  },
  {
   "cell_type": "markdown",
   "metadata": {},
   "source": [
    "The mass-balance approach is performed by the following function:"
   ]
  },
  {
   "cell_type": "code",
   "execution_count": null,
   "metadata": {},
   "outputs": [],
   "source": [
    "results = ddeq.emissions.estimate(this, curves[source], source, trace_gases=['CO2', 'NO2'], \n",
    "                                  wind_speed=float(wind_speed), wind_direction=float(wind_direction),\n",
    "                                  method='mass-balance', crs=CRS)\n",
    "\n",
    "results"
   ]
  },
  {
   "cell_type": "markdown",
   "metadata": {},
   "source": [
    "The results can be visualized with the following function:"
   ]
  },
  {
   "cell_type": "code",
   "execution_count": null,
   "metadata": {},
   "outputs": [],
   "source": [
    "ddeq.vis.plot_mass_balance(data, curves, results, source=source, domain=DOMAIN, crs=CRS,\n",
    "                           data_path=EMISSIONS_DATA_PATH);"
   ]
  },
  {
   "cell_type": "markdown",
   "metadata": {},
   "source": [
    "### Mass-balance for city\n",
    "The mass-balance approach over a city is slightly different, because the flux slowly builds up over the city area. For NO$_x$, fluxes over the city are therefore modeled by a Gaussian curve."
   ]
  },
  {
   "cell_type": "code",
   "execution_count": null,
   "metadata": {},
   "outputs": [],
   "source": [
    "source = 'Berlin'\n",
    "this = ddeq.misc.select_source(data, source=source)\n",
    "\n",
    "time = pandas.Timestamp(data.time.values)\n",
    "wind_speed, wind_direction = ddeq.wind.get_wind(time, this.lon_o, this.lat_o, data_path='.', components='vd')\n",
    "\n",
    "results_berlin = ddeq.emissions.estimate(this, curves[source], source, trace_gases=['CO2', 'NO2'], \n",
    "                                  wind_speed=float(wind_speed), wind_direction=float(wind_direction),\n",
    "                                  method='mass-balance', crs=CRS)"
   ]
  },
  {
   "cell_type": "code",
   "execution_count": null,
   "metadata": {},
   "outputs": [],
   "source": [
    "ddeq.vis.plot_mass_balance(data, curves, results_berlin, source='Berlin', domain=DOMAIN, crs=CRS, \n",
    "                           data_path=EMISSIONS_DATA_PATH);"
   ]
  },
  {
   "cell_type": "markdown",
   "metadata": {},
   "source": [
    "### Exercise\n",
    "Write code to quantify the CO2 and NOx emission another point source."
   ]
  },
  {
   "cell_type": "code",
   "execution_count": null,
   "metadata": {},
   "outputs": [],
   "source": [
    "# add your code here"
   ]
  },
  {
   "cell_type": "code",
   "execution_count": null,
   "metadata": {},
   "outputs": [],
   "source": []
  }
 ],
 "metadata": {
  "kernelspec": {
   "display_name": "Python 3",
   "language": "python",
   "name": "python3"
  },
  "language_info": {
   "codemirror_mode": {
    "name": "ipython",
    "version": 3
   },
   "file_extension": ".py",
   "mimetype": "text/x-python",
   "name": "python",
   "nbconvert_exporter": "python",
   "pygments_lexer": "ipython3",
   "version": "3.8.6"
  },
  "toc-autonumbering": true,
  "toc-showmarkdowntxt": false
 },
 "nbformat": 4,
 "nbformat_minor": 4
}
