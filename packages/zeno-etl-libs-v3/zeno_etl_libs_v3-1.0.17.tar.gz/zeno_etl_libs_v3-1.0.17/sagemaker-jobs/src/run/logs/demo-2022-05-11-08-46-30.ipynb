{
 "cells": [
  {
   "cell_type": "code",
   "execution_count": 1,
   "id": "364cf397-f2c8-4a31-b7ac-8f539f79d1f2",
   "metadata": {
    "execution": {
     "iopub.execute_input": "2022-05-11T08:50:58.417103Z",
     "iopub.status.busy": "2022-05-11T08:50:58.416593Z",
     "iopub.status.idle": "2022-05-11T08:50:58.425897Z",
     "shell.execute_reply": "2022-05-11T08:50:58.425219Z"
    },
    "papermill": {
     "duration": 0.014138,
     "end_time": "2022-05-11T08:50:58.427507",
     "exception": false,
     "start_time": "2022-05-11T08:50:58.413369",
     "status": "completed"
    },
    "tags": [
     "parameters"
    ]
   },
   "outputs": [],
   "source": [
    "f_name = \"Kuldeep\"\n",
    "l_name = \"Singh\""
   ]
  },
  {
   "cell_type": "code",
   "execution_count": 2,
   "id": "9ac1d4e1",
   "metadata": {
    "execution": {
     "iopub.execute_input": "2022-05-11T08:50:58.431490Z",
     "iopub.status.busy": "2022-05-11T08:50:58.431152Z",
     "iopub.status.idle": "2022-05-11T08:50:58.434267Z",
     "shell.execute_reply": "2022-05-11T08:50:58.433639Z"
    },
    "papermill": {
     "duration": 0.006643,
     "end_time": "2022-05-11T08:50:58.435704",
     "exception": false,
     "start_time": "2022-05-11T08:50:58.429061",
     "status": "completed"
    },
    "tags": [
     "injected-parameters"
    ]
   },
   "outputs": [],
   "source": [
    "# Parameters\n",
    "f_name = \"Ram\"\n",
    "l_name = \"Babu\"\n"
   ]
  },
  {
   "cell_type": "code",
   "execution_count": 3,
   "id": "ceb68e06-1ee5-4823-b00c-feaa38d051e0",
   "metadata": {
    "execution": {
     "iopub.execute_input": "2022-05-11T08:50:58.439263Z",
     "iopub.status.busy": "2022-05-11T08:50:58.438746Z",
     "iopub.status.idle": "2022-05-11T08:50:58.443242Z",
     "shell.execute_reply": "2022-05-11T08:50:58.442586Z"
    },
    "papermill": {
     "duration": 0.00806,
     "end_time": "2022-05-11T08:50:58.444939",
     "exception": false,
     "start_time": "2022-05-11T08:50:58.436879",
     "status": "completed"
    },
    "tags": []
   },
   "outputs": [
    {
     "name": "stdout",
     "output_type": "stream",
     "text": [
      "Hello Ram Babu, How are you !\n"
     ]
    }
   ],
   "source": [
    "print(f\"Hello {f_name} {l_name}, How are you !\")"
   ]
  },
  {
   "cell_type": "code",
   "execution_count": null,
   "id": "26da0791-a5a9-4b23-957b-82f5f8706c52",
   "metadata": {
    "papermill": {
     "duration": 0.001236,
     "end_time": "2022-05-11T08:50:58.447448",
     "exception": false,
     "start_time": "2022-05-11T08:50:58.446212",
     "status": "completed"
    },
    "tags": []
   },
   "outputs": [],
   "source": []
  }
 ],
 "metadata": {
  "kernelspec": {
   "display_name": "Python 3 (ipykernel)",
   "language": "python",
   "name": "python3"
  },
  "language_info": {
   "codemirror_mode": {
    "name": "ipython",
    "version": 3
   },
   "file_extension": ".py",
   "mimetype": "text/x-python",
   "name": "python",
   "nbconvert_exporter": "python",
   "pygments_lexer": "ipython3",
   "version": "3.7.13"
  },
  "papermill": {
   "default_parameters": {},
   "duration": 1.424699,
   "end_time": "2022-05-11T08:50:58.566110",
   "environment_variables": {},
   "exception": null,
   "input_path": "notebook-2022-05-11-08-46-29.ipynb",
   "output_path": "/opt/ml/processing/output/demo-2022-05-11-08-46-30.ipynb",
   "parameters": {
    "f_name": "Ram",
    "l_name": "Babu"
   },
   "start_time": "2022-05-11T08:50:57.141411",
   "version": "2.3.4"
  }
 },
 "nbformat": 4,
 "nbformat_minor": 5
}