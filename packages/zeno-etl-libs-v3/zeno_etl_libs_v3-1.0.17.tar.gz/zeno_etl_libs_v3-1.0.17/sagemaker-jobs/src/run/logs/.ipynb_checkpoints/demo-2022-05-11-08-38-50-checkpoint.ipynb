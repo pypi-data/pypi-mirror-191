{
 "cells": [
  {
   "cell_type": "code",
   "execution_count": 1,
   "id": "364cf397-f2c8-4a31-b7ac-8f539f79d1f2",
   "metadata": {
    "execution": {
     "iopub.execute_input": "2022-05-11T08:39:21.823231Z",
     "iopub.status.busy": "2022-05-11T08:39:21.822744Z",
     "iopub.status.idle": "2022-05-11T08:39:21.836184Z",
     "shell.execute_reply": "2022-05-11T08:39:21.835433Z"
    },
    "papermill": {
     "duration": 0.026119,
     "end_time": "2022-05-11T08:39:21.839243",
     "exception": false,
     "start_time": "2022-05-11T08:39:21.813124",
     "status": "completed"
    },
    "tags": [
     "parameters"
    ]
   },
   "outputs": [],
   "source": [
    "f_name = \"Kuldeep\"\n",
    "l_name = \"Singh\""
   ]
  },
  {
   "cell_type": "code",
   "execution_count": 2,
   "id": "5efed309",
   "metadata": {
    "execution": {
     "iopub.execute_input": "2022-05-11T08:39:21.851354Z",
     "iopub.status.busy": "2022-05-11T08:39:21.851056Z",
     "iopub.status.idle": "2022-05-11T08:39:21.854984Z",
     "shell.execute_reply": "2022-05-11T08:39:21.854036Z"
    },
    "papermill": {
     "duration": 0.010588,
     "end_time": "2022-05-11T08:39:21.856916",
     "exception": false,
     "start_time": "2022-05-11T08:39:21.846328",
     "status": "completed"
    },
    "tags": [
     "injected-parameters"
    ]
   },
   "outputs": [],
   "source": [
    "# Parameters\n",
    "f_name = \"Ram\"\n",
    "l_name = \"Babu\"\n"
   ]
  },
  {
   "cell_type": "code",
   "execution_count": 3,
   "id": "ceb68e06-1ee5-4823-b00c-feaa38d051e0",
   "metadata": {
    "execution": {
     "iopub.execute_input": "2022-05-11T08:39:21.861453Z",
     "iopub.status.busy": "2022-05-11T08:39:21.861190Z",
     "iopub.status.idle": "2022-05-11T08:39:21.866202Z",
     "shell.execute_reply": "2022-05-11T08:39:21.865706Z"
    },
    "papermill": {
     "duration": 0.008878,
     "end_time": "2022-05-11T08:39:21.867878",
     "exception": false,
     "start_time": "2022-05-11T08:39:21.859000",
     "status": "completed"
    },
    "tags": []
   },
   "outputs": [
    {
     "name": "stdout",
     "output_type": "stream",
     "text": [
      "Hello Ram Babu, How are you !\n"
     ]
    }
   ],
   "source": [
    "print(f\"Hello {f_name} {l_name}, How are you !\")"
   ]
  },
  {
   "cell_type": "code",
   "execution_count": null,
   "id": "26da0791-a5a9-4b23-957b-82f5f8706c52",
   "metadata": {
    "papermill": {
     "duration": 0.001846,
     "end_time": "2022-05-11T08:39:21.874256",
     "exception": false,
     "start_time": "2022-05-11T08:39:21.872410",
     "status": "completed"
    },
    "tags": []
   },
   "outputs": [],
   "source": []
  }
 ],
 "metadata": {
  "kernelspec": {
   "display_name": "Python 3 (ipykernel)",
   "language": "python",
   "name": "python3"
  },
  "language_info": {
   "codemirror_mode": {
    "name": "ipython",
    "version": 3
   },
   "file_extension": ".py",
   "mimetype": "text/x-python",
   "name": "python",
   "nbconvert_exporter": "python",
   "pygments_lexer": "ipython3",
   "version": "3.8.13"
  },
  "papermill": {
   "default_parameters": {},
   "duration": 1.411218,
   "end_time": "2022-05-11T08:39:21.993387",
   "environment_variables": {},
   "exception": null,
   "input_path": "/Users/kuldeep/PycharmProjects/etl/sagemaker-jobs/src/scripts/experiments/demo.ipynb",
   "output_path": "/Users/kuldeep/PycharmProjects/etl/sagemaker-jobs/src/run/logs/demo-2022-05-11-08-38-50.ipynb",
   "parameters": {
    "f_name": "Ram",
    "l_name": "Babu"
   },
   "start_time": "2022-05-11T08:39:20.582169",
   "version": "2.3.4"
  }
 },
 "nbformat": 4,
 "nbformat_minor": 5
}