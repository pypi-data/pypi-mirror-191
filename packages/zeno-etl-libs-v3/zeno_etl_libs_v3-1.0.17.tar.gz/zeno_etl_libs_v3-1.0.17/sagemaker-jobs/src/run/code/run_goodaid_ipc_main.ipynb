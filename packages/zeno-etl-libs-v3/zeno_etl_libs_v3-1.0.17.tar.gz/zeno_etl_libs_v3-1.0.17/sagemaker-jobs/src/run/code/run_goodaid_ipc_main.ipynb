{
 "cells": [
  {
   "cell_type": "code",
   "execution_count": 7,
   "id": "dd17c619-3475-4a95-b24f-ddedce8a3114",
   "metadata": {},
   "outputs": [],
   "source": [
    "import sys\n",
    "import datetime\n",
    "import time\n",
    "import re\n",
    "import os"
   ]
  },
  {
   "cell_type": "code",
   "execution_count": 8,
   "id": "58f85ccf-d658-4b3d-a036-f1cb3889d315",
   "metadata": {},
   "outputs": [],
   "source": [
    "# To add path so that we can import zeno_etl_libs from local folder\n",
    "sys.path.append('../../../..')"
   ]
  },
  {
   "cell_type": "code",
   "execution_count": 9,
   "id": "9ec6ccb1-5aea-45ed-b1eb-37ad950caa32",
   "metadata": {},
   "outputs": [],
   "source": [
    "from zeno_etl_libs.helper.run_notebook import run_notebook\n",
    "from zeno_etl_libs.helper.parameter.job_parameter import parameter"
   ]
  },
  {
   "cell_type": "code",
   "execution_count": 10,
   "id": "fbba683e-b886-4b98-8cfd-25c58d44ac0e",
   "metadata": {
    "tags": []
   },
   "outputs": [],
   "source": [
    "env = \"stage\"\n",
    "notebook_file = \"\\\\scripts\\\\goodaid-ipc-main\\\\goodaid-ipc-main.ipynb\"\n",
    "parameters = {\n",
    "    \"env\": \"stage\",\n",
    "    \"email_to\":\"saurav.maskar@zeno.health\", \n",
    "    \"debug_mode\":\"Yr\"\n",
    "}"
   ]
  },
  {
   "cell_type": "code",
   "execution_count": 11,
   "id": "f7833d4b-17ca-46c2-873f-5348e81db3dc",
   "metadata": {},
   "outputs": [],
   "source": [
    "os.environ['env'] = 'dev'"
   ]
  },
  {
   "cell_type": "code",
   "execution_count": 12,
   "id": "93e25ac8-a40b-4241-b537-ae0c5a49130a",
   "metadata": {},
   "outputs": [],
   "source": [
    "os.environ['env'] = env"
   ]
  },
  {
   "cell_type": "code",
   "execution_count": 13,
   "id": "2e5487a7-35d5-4b66-90ae-7a419174b4fa",
   "metadata": {},
   "outputs": [],
   "source": [
    "base = \"\\\\\".join(os.getcwd().split(\"\\\\\")[:-2])"
   ]
  },
  {
   "cell_type": "code",
   "execution_count": 14,
   "id": "adbbaccd-eb3c-41a3-9c73-645259b4e83a",
   "metadata": {},
   "outputs": [],
   "source": [
    "input_file = base + notebook_file"
   ]
  },
  {
   "cell_type": "code",
   "execution_count": 15,
   "id": "bb52f896-8068-4d4b-a8ab-eee30ee813a6",
   "metadata": {},
   "outputs": [],
   "source": [
    "output_path = base + \"\\\\run\\\\logs\""
   ]
  },
  {
   "cell_type": "code",
   "execution_count": 16,
   "id": "069506fe-42fb-42c5-a225-943dc4c1ff30",
   "metadata": {},
   "outputs": [],
   "source": [
    "name = os.path.basename(notebook_file)\n",
    "nb_name, nb_ext = os.path.splitext(name)\n",
    "timestamp = time.strftime(\"%Y-%m-%d-%H-%M-%S\", time.gmtime())\n",
    "result = \"{}-{}{}\".format(nb_name, timestamp, nb_ext)"
   ]
  },
  {
   "cell_type": "code",
   "execution_count": 17,
   "id": "1d3fb568-e9c1-46c0-8214-2e2d06042c12",
   "metadata": {},
   "outputs": [
    {
     "name": "stdout",
     "output_type": "stream",
     "text": [
      "connecting with secrets manager for getting secrets\n",
      "Job stage-goodaid-ipc-main-2022-12-28-06-33-18 started\n",
      "............................\n"
     ]
    },
    {
     "ename": "FileNotFoundError",
     "evalue": "[WinError 2] The system cannot find the file specified",
     "output_type": "error",
     "traceback": [
      "\u001b[1;31m---------------------------------------------------------------------------\u001b[0m",
      "\u001b[1;31mFileNotFoundError\u001b[0m                         Traceback (most recent call last)",
      "\u001b[1;32m~\\AppData\\Local\\Temp/ipykernel_12220/2038684672.py\u001b[0m in \u001b[0;36m<module>\u001b[1;34m\u001b[0m\n\u001b[0;32m     15\u001b[0m         \u001b[0min_vpc\u001b[0m\u001b[1;33m=\u001b[0m\u001b[1;32mTrue\u001b[0m\u001b[1;33m,\u001b[0m\u001b[1;33m\u001b[0m\u001b[1;33m\u001b[0m\u001b[0m\n\u001b[0;32m     16\u001b[0m         \u001b[0menv\u001b[0m\u001b[1;33m=\u001b[0m\u001b[0menv\u001b[0m\u001b[1;33m,\u001b[0m\u001b[1;33m\u001b[0m\u001b[1;33m\u001b[0m\u001b[0m\n\u001b[1;32m---> 17\u001b[1;33m         \u001b[0minstance_type\u001b[0m\u001b[1;33m=\u001b[0m\u001b[1;34m\"ml.c5.2xlarge\"\u001b[0m\u001b[1;33m\u001b[0m\u001b[1;33m\u001b[0m\u001b[0m\n\u001b[0m\u001b[0;32m     18\u001b[0m     )\n",
      "\u001b[1;32mD:\\Zeno\\etl\\zeno_etl_libs\\helper\\run_notebook\\run_notebook.py\u001b[0m in \u001b[0;36mrun_notebook\u001b[1;34m(image, notebook, parameters, role, instance_type, output_prefix, output, session, in_vpc, env, timeout_in_sec, check_completion_status)\u001b[0m\n\u001b[0;32m    370\u001b[0m \u001b[1;33m\u001b[0m\u001b[0m\n\u001b[0;32m    371\u001b[0m     \u001b[1;32mif\u001b[0m \u001b[0mstatus\u001b[0m \u001b[1;33m==\u001b[0m \u001b[1;34m\"Completed\"\u001b[0m\u001b[1;33m:\u001b[0m\u001b[1;33m\u001b[0m\u001b[1;33m\u001b[0m\u001b[0m\n\u001b[1;32m--> 372\u001b[1;33m         \u001b[0mlocal\u001b[0m \u001b[1;33m=\u001b[0m \u001b[0mdownload_notebook\u001b[0m\u001b[1;33m(\u001b[0m\u001b[0mjob_name\u001b[0m\u001b[1;33m,\u001b[0m \u001b[0moutput\u001b[0m\u001b[1;33m=\u001b[0m\u001b[0moutput\u001b[0m\u001b[1;33m)\u001b[0m\u001b[1;33m\u001b[0m\u001b[1;33m\u001b[0m\u001b[0m\n\u001b[0m\u001b[0;32m    373\u001b[0m     \u001b[1;32melse\u001b[0m\u001b[1;33m:\u001b[0m\u001b[1;33m\u001b[0m\u001b[1;33m\u001b[0m\u001b[0m\n\u001b[0;32m    374\u001b[0m         \u001b[0mlocal\u001b[0m \u001b[1;33m=\u001b[0m \u001b[1;32mNone\u001b[0m\u001b[1;33m\u001b[0m\u001b[1;33m\u001b[0m\u001b[0m\n",
      "\u001b[1;32mD:\\Zeno\\etl\\zeno_etl_libs\\helper\\run_notebook\\run_notebook.py\u001b[0m in \u001b[0;36mdownload_notebook\u001b[1;34m(job_name, output, session)\u001b[0m\n\u001b[0;32m    308\u001b[0m                 \u001b[1;32mraise\u001b[0m\u001b[1;33m\u001b[0m\u001b[1;33m\u001b[0m\u001b[0m\n\u001b[0;32m    309\u001b[0m \u001b[1;33m\u001b[0m\u001b[0m\n\u001b[1;32m--> 310\u001b[1;33m     \u001b[0mp1\u001b[0m \u001b[1;33m=\u001b[0m \u001b[0mPopen\u001b[0m\u001b[1;33m(\u001b[0m\u001b[0msplit\u001b[0m\u001b[1;33m(\u001b[0m\u001b[1;34m\"aws s3 cp --no-progress {} {}/\"\u001b[0m\u001b[1;33m.\u001b[0m\u001b[0mformat\u001b[0m\u001b[1;33m(\u001b[0m\u001b[0ms3path\u001b[0m\u001b[1;33m,\u001b[0m \u001b[0moutput\u001b[0m\u001b[1;33m)\u001b[0m\u001b[1;33m)\u001b[0m\u001b[1;33m)\u001b[0m\u001b[1;33m\u001b[0m\u001b[1;33m\u001b[0m\u001b[0m\n\u001b[0m\u001b[0;32m    311\u001b[0m     \u001b[0mp1\u001b[0m\u001b[1;33m.\u001b[0m\u001b[0mwait\u001b[0m\u001b[1;33m(\u001b[0m\u001b[1;33m)\u001b[0m\u001b[1;33m\u001b[0m\u001b[1;33m\u001b[0m\u001b[0m\n\u001b[0;32m    312\u001b[0m     \u001b[1;32mreturn\u001b[0m \u001b[1;34m\"{}/{}\"\u001b[0m\u001b[1;33m.\u001b[0m\u001b[0mformat\u001b[0m\u001b[1;33m(\u001b[0m\u001b[0moutput\u001b[0m\u001b[1;33m.\u001b[0m\u001b[0mrstrip\u001b[0m\u001b[1;33m(\u001b[0m\u001b[1;34m\"/\"\u001b[0m\u001b[1;33m)\u001b[0m\u001b[1;33m,\u001b[0m \u001b[0mnotebook\u001b[0m\u001b[1;33m)\u001b[0m\u001b[1;33m\u001b[0m\u001b[1;33m\u001b[0m\u001b[0m\n",
      "\u001b[1;32m~\\.conda\\envs\\zeno\\lib\\subprocess.py\u001b[0m in \u001b[0;36m__init__\u001b[1;34m(self, args, bufsize, executable, stdin, stdout, stderr, preexec_fn, close_fds, shell, cwd, env, universal_newlines, startupinfo, creationflags, restore_signals, start_new_session, pass_fds, encoding, errors, text)\u001b[0m\n\u001b[0;32m    798\u001b[0m                                 \u001b[0mc2pread\u001b[0m\u001b[1;33m,\u001b[0m \u001b[0mc2pwrite\u001b[0m\u001b[1;33m,\u001b[0m\u001b[1;33m\u001b[0m\u001b[1;33m\u001b[0m\u001b[0m\n\u001b[0;32m    799\u001b[0m                                 \u001b[0merrread\u001b[0m\u001b[1;33m,\u001b[0m \u001b[0merrwrite\u001b[0m\u001b[1;33m,\u001b[0m\u001b[1;33m\u001b[0m\u001b[1;33m\u001b[0m\u001b[0m\n\u001b[1;32m--> 800\u001b[1;33m                                 restore_signals, start_new_session)\n\u001b[0m\u001b[0;32m    801\u001b[0m         \u001b[1;32mexcept\u001b[0m\u001b[1;33m:\u001b[0m\u001b[1;33m\u001b[0m\u001b[1;33m\u001b[0m\u001b[0m\n\u001b[0;32m    802\u001b[0m             \u001b[1;31m# Cleanup if the child failed starting.\u001b[0m\u001b[1;33m\u001b[0m\u001b[1;33m\u001b[0m\u001b[1;33m\u001b[0m\u001b[0m\n",
      "\u001b[1;32m~\\.conda\\envs\\zeno\\lib\\subprocess.py\u001b[0m in \u001b[0;36m_execute_child\u001b[1;34m(self, args, executable, preexec_fn, close_fds, pass_fds, cwd, env, startupinfo, creationflags, shell, p2cread, p2cwrite, c2pread, c2pwrite, errread, errwrite, unused_restore_signals, unused_start_new_session)\u001b[0m\n\u001b[0;32m   1205\u001b[0m                                          \u001b[0menv\u001b[0m\u001b[1;33m,\u001b[0m\u001b[1;33m\u001b[0m\u001b[1;33m\u001b[0m\u001b[0m\n\u001b[0;32m   1206\u001b[0m                                          \u001b[0mos\u001b[0m\u001b[1;33m.\u001b[0m\u001b[0mfspath\u001b[0m\u001b[1;33m(\u001b[0m\u001b[0mcwd\u001b[0m\u001b[1;33m)\u001b[0m \u001b[1;32mif\u001b[0m \u001b[0mcwd\u001b[0m \u001b[1;32mis\u001b[0m \u001b[1;32mnot\u001b[0m \u001b[1;32mNone\u001b[0m \u001b[1;32melse\u001b[0m \u001b[1;32mNone\u001b[0m\u001b[1;33m,\u001b[0m\u001b[1;33m\u001b[0m\u001b[1;33m\u001b[0m\u001b[0m\n\u001b[1;32m-> 1207\u001b[1;33m                                          startupinfo)\n\u001b[0m\u001b[0;32m   1208\u001b[0m             \u001b[1;32mfinally\u001b[0m\u001b[1;33m:\u001b[0m\u001b[1;33m\u001b[0m\u001b[1;33m\u001b[0m\u001b[0m\n\u001b[0;32m   1209\u001b[0m                 \u001b[1;31m# Child is launched. Close the parent's copy of those pipe\u001b[0m\u001b[1;33m\u001b[0m\u001b[1;33m\u001b[0m\u001b[1;33m\u001b[0m\u001b[0m\n",
      "\u001b[1;31mFileNotFoundError\u001b[0m: [WinError 2] The system cannot find the file specified"
     ]
    }
   ],
   "source": [
    "if env == \"dev\":\n",
    "    import papermill as pm\n",
    "    pm.execute_notebook(\n",
    "        input_path=input_file,\n",
    "        output_path=f\"{output_path}/{result}\",\n",
    "        parameters=parameters\n",
    "    )\n",
    "elif env in (\"stage\", \"prod\"):\n",
    "    run_notebook.run_notebook(\n",
    "        image=f\"{env}-notebook-runner\",\n",
    "        notebook=input_file,\n",
    "        output=output_path,\n",
    "        parameters=parameters,\n",
    "        timeout_in_sec=7200,\n",
    "        in_vpc=True,\n",
    "        env=env,\n",
    "        instance_type=\"ml.c5.2xlarge\"\n",
    "    )"
   ]
  },
  {
   "cell_type": "code",
   "execution_count": null,
   "id": "49224c4f-d63c-426e-890d-440b5b28d641",
   "metadata": {},
   "outputs": [],
   "source": []
  }
 ],
 "metadata": {
  "kernelspec": {
   "display_name": "Python 3 (ipykernel)",
   "language": "python",
   "name": "python3"
  },
  "language_info": {
   "codemirror_mode": {
    "name": "ipython",
    "version": 3
   },
   "file_extension": ".py",
   "mimetype": "text/x-python",
   "name": "python",
   "nbconvert_exporter": "python",
   "pygments_lexer": "ipython3",
   "version": "3.7.5"
  }
 },
 "nbformat": 4,
 "nbformat_minor": 5
}
