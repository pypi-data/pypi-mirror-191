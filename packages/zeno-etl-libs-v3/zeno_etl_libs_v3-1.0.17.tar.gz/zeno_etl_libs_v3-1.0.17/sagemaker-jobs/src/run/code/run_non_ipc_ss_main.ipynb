{
 "cells": [
  {
   "cell_type": "code",
   "execution_count": null,
   "id": "1e52cf73-acd0-4973-914b-2a14a33cba74",
   "metadata": {},
   "outputs": [],
   "source": [
    "import sys\n",
    "import datetime\n",
    "import time\n",
    "import re\n",
    "import os"
   ]
  },
  {
   "cell_type": "code",
   "execution_count": null,
   "id": "9263ecc3-e726-4f14-bad1-69c468dbbcfd",
   "metadata": {},
   "outputs": [],
   "source": [
    "# To add path so that we can improt zeno_etl_libs from local folder\n",
    "sys.path.append('../../../..')"
   ]
  },
  {
   "cell_type": "code",
   "execution_count": null,
   "id": "f3777bed-f191-4d5d-9b6d-bfbfa9af162f",
   "metadata": {},
   "outputs": [],
   "source": [
    "from zeno_etl_libs.helper.run_notebook import run_notebook"
   ]
  },
  {
   "cell_type": "code",
   "execution_count": null,
   "id": "d56796f9-26a3-4c4e-8d1c-a75571f1f4b3",
   "metadata": {},
   "outputs": [],
   "source": [
    "env = \"prod\"\n",
    "notebook_file = \"\\\\scripts\\\\non-ipc-ss-main\\\\non_ipc_ss_main.ipynb\"\n",
    "parameters = {\n",
    "    \"env\": \"prod\",\n",
    "    \"email_to\":\"vivek.revi@zeno.health\", \n",
    "    \"debug_mode\":\"Y\"\n",
    "}"
   ]
  },
  {
   "cell_type": "code",
   "execution_count": null,
   "id": "0a9c7ddf-674f-427a-a837-4250b459e7b6",
   "metadata": {},
   "outputs": [],
   "source": [
    "os.environ['env'] = env"
   ]
  },
  {
   "cell_type": "code",
   "execution_count": null,
   "id": "967b79bd-db31-445d-bfdc-4cb664a9419e",
   "metadata": {},
   "outputs": [],
   "source": [
    "base = \"\\\\\".join(os.getcwd().split(\"\\\\\")[:-2])"
   ]
  },
  {
   "cell_type": "code",
   "execution_count": null,
   "id": "d4f47db8-e1f9-4031-9c43-97ad3e9b93c0",
   "metadata": {},
   "outputs": [],
   "source": [
    "input_file = base + notebook_file"
   ]
  },
  {
   "cell_type": "code",
   "execution_count": null,
   "id": "5d16f837-0283-48a6-8730-9d84b5499276",
   "metadata": {},
   "outputs": [],
   "source": [
    "output_path = base + \"\\\\run\\\\logs\""
   ]
  },
  {
   "cell_type": "code",
   "execution_count": null,
   "id": "df02a865-85d7-4da8-8ccc-d1d6dc5d4552",
   "metadata": {},
   "outputs": [],
   "source": [
    "name = os.path.basename(notebook_file)\n",
    "nb_name, nb_ext = os.path.splitext(name)\n",
    "timestamp = time.strftime(\"%Y-%m-%d-%H-%M-%S\", time.gmtime())\n",
    "result = \"{}-{}{}\".format(nb_name, timestamp, nb_ext)"
   ]
  },
  {
   "cell_type": "code",
   "execution_count": null,
   "id": "9561389f-141a-478b-87ea-0523c3b358cf",
   "metadata": {},
   "outputs": [],
   "source": [
    "if env == \"dev\":\n",
    "    import papermill as pm\n",
    "    pm.execute_notebook(\n",
    "        input_path=input_file,\n",
    "        output_path=f\"{output_path}/{result}\",\n",
    "        parameters=parameters\n",
    "    )\n",
    "elif env in (\"stage\", \"prod\"):\n",
    "    run_notebook.run_notebook(\n",
    "        image=f\"{env}-notebook-runner\",\n",
    "        notebook=input_file,\n",
    "        output=output_path,\n",
    "        parameters=parameters,\n",
    "        timeout_in_sec=7200,\n",
    "        in_vpc=True,\n",
    "        instance_type=\"ml.c5.9xlarge\",\n",
    "        env=env\n",
    "    )"
   ]
  },
  {
   "cell_type": "code",
   "execution_count": null,
   "id": "f2155d94-1f7f-471e-9519-24a917c0891f",
   "metadata": {},
   "outputs": [],
   "source": [
    "# if env == \"dev\":\n",
    "#     import papermill as pm\n",
    "#     pm.execute_notebook(\n",
    "#         input_path=input_file,\n",
    "#         output_path=f\"{output_path}/{result}\",\n",
    "#         parameters=parameters\n",
    "#     )\n",
    "# elif env in (\"stage\", \"prod\"):\n",
    "#     run_notebook.run_notebook(\n",
    "#         image=f\"{env}-notebook-runner\",\n",
    "#         notebook=input_file,\n",
    "#         output=output_path,\n",
    "#         parameters=parameters,\n",
    "#         timeout_in_sec=7200,\n",
    "#         in_vpc=True,\n",
    "#         env=env,\n",
    "#         instance_type=\"ml.c5.9xlarge\"\n",
    "#     )"
   ]
  },
  {
   "cell_type": "code",
   "execution_count": null,
   "id": "5abeda0f-956f-499b-8d89-99530a73371d",
   "metadata": {},
   "outputs": [],
   "source": []
  }
 ],
 "metadata": {
  "kernelspec": {
   "display_name": "Python 3 (ipykernel)",
   "language": "python",
   "name": "python3"
  },
  "language_info": {
   "codemirror_mode": {
    "name": "ipython",
    "version": 3
   },
   "file_extension": ".py",
   "mimetype": "text/x-python",
   "name": "python",
   "nbconvert_exporter": "python",
   "pygments_lexer": "ipython3",
   "version": "3.8.13"
  }
 },
 "nbformat": 4,
 "nbformat_minor": 5
}
