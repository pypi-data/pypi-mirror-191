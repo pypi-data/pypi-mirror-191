{
 "cells": [
  {
   "cell_type": "code",
   "execution_count": 1,
   "id": "11ab2dcb-af7c-487a-a67a-1aca6fef4457",
   "metadata": {},
   "outputs": [
    {
     "name": "stdout",
     "output_type": "stream",
     "text": [
      "\u001b[33mWARNING: Ignoring invalid distribution -yodbc (/Users/kuldeep/opt/anaconda3/envs/etl/lib/python3.6/site-packages)\u001b[0m\n",
      "\u001b[33mWARNING: Ignoring invalid distribution - (/Users/kuldeep/opt/anaconda3/envs/etl/lib/python3.6/site-packages)\u001b[0m\n",
      "\u001b[33mWARNING: Ignoring invalid distribution -yodbc (/Users/kuldeep/opt/anaconda3/envs/etl/lib/python3.6/site-packages)\u001b[0m\n",
      "\u001b[33mWARNING: Ignoring invalid distribution - (/Users/kuldeep/opt/anaconda3/envs/etl/lib/python3.6/site-packages)\u001b[0m\n",
      "\u001b[33mWARNING: Skipping zeno-etl-libs as it is not installed.\u001b[0m\n"
     ]
    }
   ],
   "source": [
    "!pip uninstall zeno_etl_libs"
   ]
  },
  {
   "cell_type": "code",
   "execution_count": 2,
   "id": "1e52cf73-acd0-4973-914b-2a14a33cba74",
   "metadata": {},
   "outputs": [],
   "source": [
    "import sys\n",
    "import datetime\n",
    "import time\n",
    "import re\n",
    "import os"
   ]
  },
  {
   "cell_type": "code",
   "execution_count": 3,
   "id": "9263ecc3-e726-4f14-bad1-69c468dbbcfd",
   "metadata": {},
   "outputs": [],
   "source": [
    "# To add path so that we can improt zeno_etl_libs from local folder\n",
    "sys.path.append('../../../..')"
   ]
  },
  {
   "cell_type": "code",
   "execution_count": 4,
   "id": "f3777bed-f191-4d5d-9b6d-bfbfa9af162f",
   "metadata": {},
   "outputs": [],
   "source": [
    "from zeno_etl_libs.helper.run_notebook import run_notebook"
   ]
  },
  {
   "cell_type": "code",
   "execution_count": 5,
   "id": "3d378043-2cc4-4be7-9869-370622986f7f",
   "metadata": {},
   "outputs": [],
   "source": [
    "env = \"prod\""
   ]
  },
  {
   "cell_type": "code",
   "execution_count": 6,
   "id": "1165e568-6030-49a0-bc17-3d620e29c9ac",
   "metadata": {},
   "outputs": [],
   "source": [
    "os.environ['env'] = env"
   ]
  },
  {
   "cell_type": "code",
   "execution_count": 9,
   "id": "d56796f9-26a3-4c4e-8d1c-a75571f1f4b3",
   "metadata": {},
   "outputs": [],
   "source": [
    "notebook_file = \"/scripts/playstore-review/playstore-patients-batch-process.ipynb\"\n",
    "parameters = {\n",
    "    \"env\":env, \n",
    "    \"full_run\": 1,\n",
    "    \"email_to\": \"NA\",\n",
    "    \"batch_size\": 25\n",
    "}"
   ]
  },
  {
   "cell_type": "code",
   "execution_count": 10,
   "id": "967b79bd-db31-445d-bfdc-4cb664a9419e",
   "metadata": {},
   "outputs": [],
   "source": [
    "base = \"/\".join(os.getcwd().split(\"/\")[:-2])"
   ]
  },
  {
   "cell_type": "code",
   "execution_count": 11,
   "id": "d4f47db8-e1f9-4031-9c43-97ad3e9b93c0",
   "metadata": {},
   "outputs": [],
   "source": [
    "input_file = base + notebook_file"
   ]
  },
  {
   "cell_type": "code",
   "execution_count": 12,
   "id": "5d16f837-0283-48a6-8730-9d84b5499276",
   "metadata": {},
   "outputs": [],
   "source": [
    "output_path = base + \"/run/logs\""
   ]
  },
  {
   "cell_type": "code",
   "execution_count": 13,
   "id": "df02a865-85d7-4da8-8ccc-d1d6dc5d4552",
   "metadata": {},
   "outputs": [],
   "source": [
    "name = os.path.basename(notebook_file)\n",
    "nb_name, nb_ext = os.path.splitext(name)\n",
    "timestamp = time.strftime(\"%Y-%m-%d-%H-%M-%S\", time.gmtime())\n",
    "result = \"{}-{}{}\".format(nb_name, timestamp, nb_ext)"
   ]
  },
  {
   "cell_type": "code",
   "execution_count": 14,
   "id": "9561389f-141a-478b-87ea-0523c3b358cf",
   "metadata": {},
   "outputs": [
    {
     "name": "stdout",
     "output_type": "stream",
     "text": [
      "connecting with secrets manager for getting secrets\n",
      "Job prod-playstore-patients-batch-process-2022-07-21-03-24-01 started\n",
      "............................................................................\n"
     ]
    }
   ],
   "source": [
    "if env == \"dev\":\n",
    "    import papermill as pm\n",
    "    pm.execute_notebook(\n",
    "        input_path=input_file,\n",
    "        output_path=f\"{output_path}/{result}\",\n",
    "        parameters=parameters\n",
    "    )\n",
    "elif env in (\"stage\", \"prod\"):\n",
    "    run_notebook.run_notebook(\n",
    "        image=f\"{env}-notebook-runner\",\n",
    "        notebook=input_file,\n",
    "        output=output_path,\n",
    "        parameters=parameters,\n",
    "        timeout_in_sec=3600,\n",
    "        in_vpc=True,\n",
    "        instance_type=\"ml.m5.large\",\n",
    "        env=env\n",
    "    )"
   ]
  },
  {
   "cell_type": "code",
   "execution_count": null,
   "id": "26c68754-fd50-4c0c-8bf2-6ad90a880dae",
   "metadata": {},
   "outputs": [],
   "source": []
  },
  {
   "cell_type": "code",
   "execution_count": null,
   "id": "9f822759-302a-4481-8953-47966673c0bf",
   "metadata": {},
   "outputs": [],
   "source": []
  }
 ],
 "metadata": {
  "kernelspec": {
   "display_name": "Python 3",
   "language": "python",
   "name": "python3"
  },
  "language_info": {
   "codemirror_mode": {
    "name": "ipython",
    "version": 3
   },
   "file_extension": ".py",
   "mimetype": "text/x-python",
   "name": "python",
   "nbconvert_exporter": "python",
   "pygments_lexer": "ipython3",
   "version": "3.6.10"
  }
 },
 "nbformat": 4,
 "nbformat_minor": 5
}
