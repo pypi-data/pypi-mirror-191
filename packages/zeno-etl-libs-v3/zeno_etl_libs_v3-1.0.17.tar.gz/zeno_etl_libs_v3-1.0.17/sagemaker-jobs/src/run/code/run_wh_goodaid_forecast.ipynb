{
 "cells": [
  {
   "cell_type": "code",
   "execution_count": null,
   "id": "1e52cf73-acd0-4973-914b-2a14a33cba74",
   "metadata": {},
   "outputs": [],
   "source": [
    "import sys\n",
    "import datetime\n",
    "import time\n",
    "import re\n",
    "import os"
   ]
  },
  {
   "cell_type": "code",
   "execution_count": null,
   "id": "9263ecc3-e726-4f14-bad1-69c468dbbcfd",
   "metadata": {},
   "outputs": [],
   "source": [
    "# To add path so that we can improt zeno_etl_libs from local folder\n",
    "sys.path.append('../../../..')"
   ]
  },
  {
   "cell_type": "code",
   "execution_count": null,
   "id": "f3777bed-f191-4d5d-9b6d-bfbfa9af162f",
   "metadata": {},
   "outputs": [],
   "source": [
    "from zeno_etl_libs.helper.run_notebook import run_notebook"
   ]
  },
  {
   "cell_type": "code",
   "execution_count": null,
   "id": "d56796f9-26a3-4c4e-8d1c-a75571f1f4b3",
   "metadata": {},
   "outputs": [],
   "source": [
    "env = \"prod\"\n",
    "notebook_file = \"\\\\scripts\\\\warehouse\\\\wh_goodaid_forecast_343.ipynb\"\n",
    "parameters = {\n",
    "    \"env\": env\n",
    "}"
   ]
  },
  {
   "cell_type": "code",
   "execution_count": null,
   "id": "0a9c7ddf-674f-427a-a837-4250b459e7b6",
   "metadata": {},
   "outputs": [],
   "source": [
    "os.environ['env'] = env"
   ]
  },
  {
   "cell_type": "code",
   "execution_count": null,
   "id": "967b79bd-db31-445d-bfdc-4cb664a9419e",
   "metadata": {},
   "outputs": [],
   "source": [
    "base = \"\\\\\".join(os.getcwd().split(\"\\\\\")[:-2])"
   ]
  },
  {
   "cell_type": "code",
   "execution_count": null,
   "id": "d4f47db8-e1f9-4031-9c43-97ad3e9b93c0",
   "metadata": {},
   "outputs": [],
   "source": [
    "input_file = base + notebook_file"
   ]
  },
  {
   "cell_type": "code",
   "execution_count": null,
   "id": "5d16f837-0283-48a6-8730-9d84b5499276",
   "metadata": {},
   "outputs": [],
   "source": [
    "output_path = base + \"\\\\run\\\\logs\""
   ]
  },
  {
   "cell_type": "code",
   "execution_count": null,
   "id": "df02a865-85d7-4da8-8ccc-d1d6dc5d4552",
   "metadata": {},
   "outputs": [],
   "source": [
    "name = os.path.basename(notebook_file)\n",
    "nb_name, nb_ext = os.path.splitext(name)\n",
    "timestamp = time.strftime(\"%Y-%m-%d-%H-%M-%S\", time.gmtime())\n",
    "result = \"{}-{}{}\".format(nb_name, timestamp, nb_ext)"
   ]
  },
  {
   "cell_type": "code",
   "execution_count": null,
   "id": "9561389f-141a-478b-87ea-0523c3b358cf",
   "metadata": {},
   "outputs": [],
   "source": [
    "if env == \"dev\":\n",
    "    import papermill as pm\n",
    "    pm.execute_notebook(\n",
    "        input_path=input_file,\n",
    "        output_path=f\"{output_path}/{result}\",\n",
    "        parameters=parameters\n",
    "    )\n",
    "elif env in (\"stage\", \"prod\"):\n",
    "    run_notebook.run_notebook(\n",
    "        image=f\"{env}-notebook-runner\",\n",
    "        notebook=input_file,\n",
    "        output=output_path,\n",
    "        parameters=parameters,\n",
    "        timeout_in_sec=7200,\n",
    "        in_vpc=True,\n",
    "        env=env\n",
    "    )"
   ]
  },
  {
   "cell_type": "code",
   "execution_count": null,
   "id": "c70a5f5b-b855-4e61-8b7f-9c29fa467eb6",
   "metadata": {},
   "outputs": [],
   "source": [
    "# if env == \"dev\":\n",
    "#     import papermill as pm\n",
    "#     pm.execute_notebook(\n",
    "#         input_path=input_file,\n",
    "#         output_path=f\"{output_path}/{result}\",\n",
    "#         parameters=parameters\n",
    "#     )\n",
    "# elif env in (\"stage\", \"prod\"):\n",
    "#     run_notebook.run_notebook(\n",
    "#         image=f\"{env}-notebook-runner\",\n",
    "#         notebook=input_file,\n",
    "#         output=output_path,\n",
    "#         parameters=parameters,\n",
    "#         timeout_in_sec=7200,\n",
    "#         in_vpc=True,\n",
    "#         env=env,\n",
    "#         instance_type=\"ml.c5.9xlarge\"\n",
    "#     )"
   ]
  },
  {
   "cell_type": "code",
   "execution_count": null,
   "id": "bdd56476-ec1d-4723-99b3-1afd79eb4f7e",
   "metadata": {},
   "outputs": [],
   "source": []
  }
 ],
 "metadata": {
  "kernelspec": {
   "display_name": "Python 3",
   "language": "python",
   "name": "python3"
  },
  "language_info": {
   "codemirror_mode": {
    "name": "ipython",
    "version": 3
   },
   "file_extension": ".py",
   "mimetype": "text/x-python",
   "name": "python",
   "nbconvert_exporter": "python",
   "pygments_lexer": "ipython3",
   "version": "3.8.8"
  }
 },
 "nbformat": 4,
 "nbformat_minor": 5
}
