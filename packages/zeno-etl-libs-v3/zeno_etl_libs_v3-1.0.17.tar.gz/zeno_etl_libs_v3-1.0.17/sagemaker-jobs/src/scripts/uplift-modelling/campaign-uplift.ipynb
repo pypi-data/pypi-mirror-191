{
 "cells": [
  {
   "cell_type": "code",
   "execution_count": 1,
   "id": "a101c60e-e0df-4425-8a70-fcd53f360d6d",
   "metadata": {},
   "outputs": [
    {
     "data": {
      "text/plain": [
       "'\\nAuthor:shubham.gupta@zeno.health\\nPurpose: Tagging effect of campaign on customer\\n'"
      ]
     },
     "execution_count": 1,
     "metadata": {},
     "output_type": "execute_result"
    }
   ],
   "source": [
    "\"\"\"\n",
    "Author:shubham.gupta@zeno.health\n",
    "Purpose: Tagging effect of campaign on customer\n",
    "\"\"\""
   ]
  },
  {
   "cell_type": "code",
   "execution_count": null,
   "id": "67a82b7c-e5aa-4065-8d31-ca6a5c77ec63",
   "metadata": {},
   "outputs": [],
   "source": [
    "!pip install zeno_etl_libs_v3==1.0.1"
   ]
  },
  {
   "cell_type": "code",
   "execution_count": 2,
   "id": "f6c21473-73e3-4ab4-9bf8-96189310deb1",
   "metadata": {},
   "outputs": [],
   "source": [
    "import argparse\n",
    "import os\n",
    "import sys\n",
    "from datetime import datetime as dt\n",
    "\n",
    "# Model save\n",
    "import joblib\n",
    "import numpy as np\n",
    "from dateutil.tz import gettz\n",
    "\n",
    "sys.path.append('../../../..')\n",
    "\n",
    "from zeno_etl_libs.logger import get_logger\n",
    "from zeno_etl_libs.helper.aws.s3 import S3\n",
    "from zeno_etl_libs.db.db import DB\n",
    "from zeno_etl_libs.helper import helper"
   ]
  },
  {
   "cell_type": "code",
   "execution_count": 3,
   "id": "77af58dd-447b-4197-91cc-58e5c5d604dc",
   "metadata": {
    "tags": [
     "parameters"
    ]
   },
   "outputs": [],
   "source": [
    "env = \"dev\"\n",
    "email_to = [\"shubham.gupta@zeno.health\"]\n",
    "schema = \"public\""
   ]
  },
  {
   "cell_type": "code",
   "execution_count": 4,
   "id": "2044f0f6-7395-4ab3-8200-b4e1b72e6bf2",
   "metadata": {},
   "outputs": [],
   "source": [
    "os.environ['env'] = env"
   ]
  },
  {
   "cell_type": "code",
   "execution_count": 5,
   "id": "d3615989-aa86-4604-b6e8-d2cb7588784f",
   "metadata": {},
   "outputs": [
    {
     "name": "stdout",
     "output_type": "stream",
     "text": [
      "2022-12-29 18:05:10,371 - root - INFO - env: dev\n"
     ]
    }
   ],
   "source": [
    "logger = get_logger()\n",
    "\n",
    "logger.info(f\"env: {env}\")"
   ]
  },
  {
   "cell_type": "code",
   "execution_count": 6,
   "id": "30720d57-f703-411f-ac83-7142de4210a3",
   "metadata": {},
   "outputs": [],
   "source": [
    "read_schema = 'prod2-generico'\n",
    "table_name = 'campaign-uplift'\n",
    "\n",
    "rs_db = DB()\n",
    "rs_db.open_connection()\n",
    "\n",
    "table_info = helper.get_table_info(db=rs_db, table_name=table_name, schema=read_schema)"
   ]
  },
  {
   "cell_type": "code",
   "execution_count": 7,
   "id": "eaa7c03a-37ec-4ad8-bbe8-f67564146357",
   "metadata": {},
   "outputs": [
    {
     "name": "stdout",
     "output_type": "stream",
     "text": [
      "path: /Users/shubham/PycharmProjects/GlueProject/etl/sagemaker-jobs/src/tmp/\n",
      "path: /Users/shubham/PycharmProjects/GlueProject/etl/sagemaker-jobs/src/tmp/\n"
     ]
    },
    {
     "name": "stderr",
     "output_type": "stream",
     "text": [
      "/Users/shubham/opt/anaconda3/envs/etl/lib/python3.6/site-packages/sklearn/base.py:315: UserWarning: Trying to unpickle estimator DecisionTreeClassifier from version 1.0.2 when using version 0.24.2. This might lead to breaking code or invalid results. Use at your own risk.\n",
      "  UserWarning)\n"
     ]
    }
   ],
   "source": [
    "###################################################################\n",
    "###################### Model Loading ##############################\n",
    "###################################################################\n",
    "\n",
    "\n",
    "bucket_name = 'aws-prod-glue-assets-921939243643-ap-south-1'\n",
    "s3 = S3(bucket_name=bucket_name)\n",
    "file_path_control = s3.download_file_from_s3('artifact/glue-jobs/src/scripts/uplift_modelling/dt_model_control.pkl')\n",
    "file_path_test = s3.download_file_from_s3('artifact/glue-jobs/src/scripts/uplift_modelling/dt_model_test.pkl')\n",
    "\n",
    "# Load the model from the file\n",
    "clf_test = joblib.load(file_path_control)\n",
    "clf_control = joblib.load(file_path_test)"
   ]
  },
  {
   "cell_type": "code",
   "execution_count": 8,
   "id": "63f6dd82-8b46-4396-b9d3-0eeef7a27cc8",
   "metadata": {},
   "outputs": [],
   "source": [
    "###################################################################\n",
    "###################### Data Preparation ###########################\n",
    "###################################################################\n",
    "\n",
    "data_q = \"\"\"select\n",
    "                T1.*,\n",
    "                T2.\"mean-interval\",\n",
    "                T2.\"std-interval\",\n",
    "                T2.\"cov\"\n",
    "            from\n",
    "                (\n",
    "                select\n",
    "                    \"patient-id\",\n",
    "                    current_date - max(\"bill-date\") as \"recency\",\n",
    "                    count(id) as \"frquency\",\n",
    "                    avg(\"total-spend\") as \"monetary\",\n",
    "                    max(case when \"is-generic\" = true then 1 else 0 end) as \"is-generic\",\n",
    "                    max(case when \"is-chronic\" = true then 1 else 0 end) as \"is-chronic\",\n",
    "                    (case\n",
    "                        when min(\"p-promo-min-bill-date\")= min(\"created-at\") then 1\n",
    "                        else 0\n",
    "                    end) \"is-promo-acquired\",\n",
    "                    max(case when \"hd-flag\" = true then 1 else 0 end) \"is-hd\",\n",
    "                    max(case when \"pr-flag\" = true then 1 else 0 end) \"is-pr\",\n",
    "                    max(case when \"ecom-flag\" = true then 1 else 0 end) \"is-ecomm\",\n",
    "                    avg(case when \"promo-code-id\" is not null then 1.0 else 0.0 end) \"redemption-perc\"\n",
    "                from\n",
    "                    \"prod2-generico\".\"retention-master\" rm\n",
    "                where\n",
    "                    \"bill-date\" <= current_date\n",
    "                group by\n",
    "                    \"patient-id\") T1\n",
    "            inner join \n",
    "                (\n",
    "                select\n",
    "                    \"x1\".\"patient-id\" as \"patient-id\",\n",
    "                    AVG(\"x1\".\"purchase-interval\") as \"mean-interval\",\n",
    "                    STDDEV(\"x1\".\"purchase-interval\") as \"std-interval\",\n",
    "                    STDDEV(\"x1\".\"purchase-interval\") / AVG(\"x1\".\"purchase-interval\") as \"cov\"\n",
    "                from\n",
    "                    (\n",
    "                    select\n",
    "                        \"s\".\"patient-id\" as \"patient-id\",\n",
    "                        \"s\".\"created-date\" as \"bill-date\",\n",
    "                        lead(\"s\".\"created-date\", 1) over (partition by \"s\".\"patient-id\"\n",
    "                    order by\n",
    "                        \"s\".\"created-date\" desc nulls first) as \"prev-bill-date\",\n",
    "                        \"s\".\"created-date\" - lead(\"s\".\"created-date\", 1) over (partition by \"s\".\"patient-id\"\n",
    "                    order by\n",
    "                        \"s\".\"created-date\" desc nulls first) as \"purchase-interval\"\n",
    "                    from\n",
    "                        \"prod2-generico\".\"sales\" as \"s\"\n",
    "                    where\n",
    "                        \"s\".\"bill-flag\" = 'gross'\n",
    "                        and \"bill-date\" <= current_date\n",
    "                    group by\n",
    "                        \"s\".\"patient-id\",\n",
    "                        \"s\".\"created-date\"\n",
    "                    order by\n",
    "                        \"s\".\"patient-id\" asc nulls last,\n",
    "                        \"s\".\"created-date\" asc nulls last) as \"x1\"\n",
    "                group by\n",
    "                    \"x1\".\"patient-id\") T2 on\n",
    "                T1.\"patient-id\" = T2.\"patient-id\";\"\"\"\n",
    "\n",
    "data = rs_db.get_df(data_q)\n",
    "data = data.fillna(-1)"
   ]
  },
  {
   "cell_type": "code",
   "execution_count": 9,
   "id": "8015b802-97ba-4c6b-ae74-e67127b5af7f",
   "metadata": {},
   "outputs": [
    {
     "name": "stderr",
     "output_type": "stream",
     "text": [
      "/Users/shubham/opt/anaconda3/envs/etl/lib/python3.6/site-packages/ipykernel_launcher.py:25: SettingWithCopyWarning: \n",
      "A value is trying to be set on a copy of a slice from a DataFrame.\n",
      "Try using .loc[row_indexer,col_indexer] = value instead\n",
      "\n",
      "See the caveats in the documentation: https://pandas.pydata.org/pandas-docs/stable/user_guide/indexing.html#returning-a-view-versus-a-copy\n",
      "/Users/shubham/opt/anaconda3/envs/etl/lib/python3.6/site-packages/ipykernel_launcher.py:26: SettingWithCopyWarning: \n",
      "A value is trying to be set on a copy of a slice from a DataFrame.\n",
      "Try using .loc[row_indexer,col_indexer] = value instead\n",
      "\n",
      "See the caveats in the documentation: https://pandas.pydata.org/pandas-docs/stable/user_guide/indexing.html#returning-a-view-versus-a-copy\n",
      "/Users/shubham/opt/anaconda3/envs/etl/lib/python3.6/site-packages/ipykernel_launcher.py:27: SettingWithCopyWarning: \n",
      "A value is trying to be set on a copy of a slice from a DataFrame.\n",
      "Try using .loc[row_indexer,col_indexer] = value instead\n",
      "\n",
      "See the caveats in the documentation: https://pandas.pydata.org/pandas-docs/stable/user_guide/indexing.html#returning-a-view-versus-a-copy\n",
      "/Users/shubham/opt/anaconda3/envs/etl/lib/python3.6/site-packages/ipykernel_launcher.py:28: SettingWithCopyWarning: \n",
      "A value is trying to be set on a copy of a slice from a DataFrame.\n",
      "Try using .loc[row_indexer,col_indexer] = value instead\n",
      "\n",
      "See the caveats in the documentation: https://pandas.pydata.org/pandas-docs/stable/user_guide/indexing.html#returning-a-view-versus-a-copy\n"
     ]
    }
   ],
   "source": [
    "###################################################################\n",
    "###################### Prediction #################################\n",
    "###################################################################\n",
    "\n",
    "# Use the loaded model to make predictions\n",
    "\n",
    "data['treatment-prob'] = clf_test.predict_proba(data[data.columns[1:]])[:, 1]\n",
    "data['non-treatment-prob'] = clf_control.predict_proba(data[data.columns[1:-1]])[:, 1]\n",
    "\n",
    "data['treatment_pred'] = data['treatment-prob'] >= 0.19  # Harcode cutoff\n",
    "data['non_treatment_pred'] = data['non-treatment-prob'] >= 0.26  # Hardcode cutoff\n",
    "\n",
    "data['consumer-type'] = np.where((data['treatment_pred'] == True) & (data['non_treatment_pred'] == True), 'Sure Things',\n",
    "                                 0)\n",
    "data['consumer-type'] = np.where((data['treatment_pred'] == False) & (data['non_treatment_pred'] == False),\n",
    "                                 'Lost Causes', data['consumer-type'])\n",
    "data['consumer-type'] = np.where((data['treatment_pred'] == True) & (data['non_treatment_pred'] == False),\n",
    "                                 'Persuadable', data['consumer-type'])\n",
    "data['consumer-type'] = np.where((data['treatment_pred'] == False) & (data['non_treatment_pred'] == True),\n",
    "                                 'Do Not Disturb', data['consumer-type'])\n",
    "\n",
    "data_upload = data[['patient-id', 'consumer-type', 'treatment-prob', 'non-treatment-prob']]\n",
    "\n",
    "# etl\n",
    "data_upload['created-at'] = dt.now(tz=gettz('Asia/Kolkata')).strftime('%Y-%m-%d %H:%M:%S')\n",
    "data_upload['created-by'] = 'etl-automation'\n",
    "data_upload['updated-at'] = dt.now(tz=gettz('Asia/Kolkata')).strftime('%Y-%m-%d %H:%M:%S')\n",
    "data_upload['updated-by'] = 'etl-automation'"
   ]
  },
  {
   "cell_type": "code",
   "execution_count": 10,
   "id": "043061a4-bbbf-4194-a6ce-7ad56dfd1c52",
   "metadata": {},
   "outputs": [
    {
     "name": "stdout",
     "output_type": "stream",
     "text": [
      "2022-12-29 18:07:36,928 - root - INFO - truncate query : \n",
      " \n",
      "            DELETE\n",
      "            FROM\n",
      "                \"prod2-generico\".\"campaign-uplift\";\n",
      "                \n"
     ]
    }
   ],
   "source": [
    "# Truncating Table\n",
    "\n",
    "if isinstance(table_info, type(None)):\n",
    "    logger.info(f\"table: {table_name} do not exist\")\n",
    "else:\n",
    "    truncate_query = f\"\"\"\n",
    "            DELETE\n",
    "            FROM\n",
    "                \"{read_schema}\".\"{table_name}\";\n",
    "                \"\"\"\n",
    "\n",
    "    logger.info(f\"truncate query : \\n {truncate_query}\")\n",
    "    rs_db.execute(truncate_query)"
   ]
  },
  {
   "cell_type": "code",
   "execution_count": 11,
   "id": "a7e73d30-56db-463f-bd40-c31ce61c76f6",
   "metadata": {},
   "outputs": [
    {
     "name": "stdout",
     "output_type": "stream",
     "text": [
      "S3 object(uri: s3://aws-prod-glue-assets-921939243643-ap-south-1/temp_1672317539999.csv) delete response: {'ResponseMetadata': {'RequestId': 'RJKWS34AAK1FNQN7', 'HostId': '4xwG9UW6ysLWVy2UWL6KktojO+2xlPDK2Djw1Uoz/BwSRU2jN2k+FSGurGJf966S+TEqbkGYhq+j/LuQzmXa6g==', 'HTTPStatusCode': 204, 'HTTPHeaders': {'x-amz-id-2': '4xwG9UW6ysLWVy2UWL6KktojO+2xlPDK2Djw1Uoz/BwSRU2jN2k+FSGurGJf966S+TEqbkGYhq+j/LuQzmXa6g==', 'x-amz-request-id': 'RJKWS34AAK1FNQN7', 'date': 'Thu, 29 Dec 2022 12:40:44 GMT', 'server': 'AmazonS3'}, 'RetryAttempts': 0}}\n"
     ]
    }
   ],
   "source": [
    "# Write to csv\n",
    "s3.save_df_to_s3(df=data_upload[table_info['column_name']],\n",
    "                 file_name='campaign/campaing_uplift.csv')\n",
    "s3.write_df_to_db(df=data_upload[table_info['column_name']], table_name=table_name, db=rs_db,\n",
    "                  schema=read_schema)"
   ]
  }
 ],
 "metadata": {
  "kernelspec": {
   "display_name": "Python 3",
   "language": "python",
   "name": "python3"
  },
  "language_info": {
   "codemirror_mode": {
    "name": "ipython",
    "version": 3
   },
   "file_extension": ".py",
   "mimetype": "text/x-python",
   "name": "python",
   "nbconvert_exporter": "python",
   "pygments_lexer": "ipython3",
   "version": "3.6.10"
  }
 },
 "nbformat": 4,
 "nbformat_minor": 5
}
