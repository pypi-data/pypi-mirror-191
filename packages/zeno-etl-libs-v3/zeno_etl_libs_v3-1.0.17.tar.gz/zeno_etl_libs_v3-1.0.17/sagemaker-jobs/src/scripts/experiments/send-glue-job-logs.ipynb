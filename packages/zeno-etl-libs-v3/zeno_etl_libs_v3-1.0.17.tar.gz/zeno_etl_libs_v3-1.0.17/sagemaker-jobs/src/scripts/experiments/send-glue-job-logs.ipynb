{
 "cells": [
  {
   "cell_type": "code",
   "execution_count": 13,
   "id": "3e9dde28",
   "metadata": {},
   "outputs": [],
   "source": [
    "import requests\n",
    "import json"
   ]
  },
  {
   "cell_type": "code",
   "execution_count": 14,
   "id": "3e7200ee",
   "metadata": {},
   "outputs": [],
   "source": [
    "url = \"https://rcbrrvicsg.execute-api.ap-south-1.amazonaws.com/staging/aws/glue/job/logs\""
   ]
  },
  {
   "cell_type": "code",
   "execution_count": 15,
   "id": "5c6be4a8-fd83-441d-aedd-a6db423fb4c1",
   "metadata": {
    "tags": [
     "parameters"
    ]
   },
   "outputs": [],
   "source": [
    "job_name = \"prod-8-sales\""
   ]
  },
  {
   "cell_type": "code",
   "execution_count": 16,
   "id": "3b4db70d",
   "metadata": {},
   "outputs": [],
   "source": [
    "payload = json.dumps({\n",
    "  \"job_name\": job_name,\n",
    "  \"email_to\": [\n",
    "    \"kuldeep.singh@zeno.health\"\n",
    "  ]\n",
    "})"
   ]
  },
  {
   "cell_type": "code",
   "execution_count": 17,
   "id": "112cb54c",
   "metadata": {},
   "outputs": [],
   "source": [
    "headers = {\n",
    "  'x-api-key': 'o783ilbugb7j3My5hT9mC5sWu4qcPOWs7JVDEYHY',\n",
    "  'Content-Type': 'application/json'\n",
    "}"
   ]
  },
  {
   "cell_type": "code",
   "execution_count": 18,
   "id": "a354f2e2",
   "metadata": {},
   "outputs": [
    {
     "name": "stdout",
     "output_type": "stream",
     "text": [
      "{\"message\": \"Endpoint request timed out\"}\n"
     ]
    }
   ],
   "source": [
    "response = requests.request(\"POST\", url, headers=headers, data=payload)\n",
    "print(response.text)"
   ]
  },
  {
   "cell_type": "code",
   "execution_count": null,
   "id": "deb2a826",
   "metadata": {},
   "outputs": [],
   "source": []
  }
 ],
 "metadata": {
  "kernelspec": {
   "display_name": "Python 3 (ipykernel)",
   "language": "python",
   "name": "python3"
  },
  "language_info": {
   "codemirror_mode": {
    "name": "ipython",
    "version": 3
   },
   "file_extension": ".py",
   "mimetype": "text/x-python",
   "name": "python",
   "nbconvert_exporter": "python",
   "pygments_lexer": "ipython3",
   "version": "3.9.7"
  }
 },
 "nbformat": 4,
 "nbformat_minor": 5
}
