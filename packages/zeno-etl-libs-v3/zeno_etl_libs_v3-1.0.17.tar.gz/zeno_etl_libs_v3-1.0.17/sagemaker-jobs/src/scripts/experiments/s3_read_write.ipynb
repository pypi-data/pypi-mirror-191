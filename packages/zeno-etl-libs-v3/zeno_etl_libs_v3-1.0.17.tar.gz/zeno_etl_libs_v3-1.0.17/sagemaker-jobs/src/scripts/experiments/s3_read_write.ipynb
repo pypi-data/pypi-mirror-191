{
 "cells": [
  {
   "cell_type": "code",
   "execution_count": 1,
   "id": "99c41106-286c-449b-a16a-e544815395b9",
   "metadata": {},
   "outputs": [],
   "source": [
    "import pandas as pd"
   ]
  },
  {
   "cell_type": "code",
   "execution_count": 2,
   "id": "79b0a83f-ef60-4c11-89ea-a8ddc9ec42e8",
   "metadata": {},
   "outputs": [],
   "source": [
    "import datetime"
   ]
  },
  {
   "cell_type": "code",
   "execution_count": 3,
   "id": "600cd83b-21f2-4c09-81ba-89a18c0c3ecf",
   "metadata": {},
   "outputs": [],
   "source": [
    "from zeno_etl_lib.helper.aws.s3 import S3"
   ]
  },
  {
   "cell_type": "code",
   "execution_count": 4,
   "id": "d7b15e43-d526-45e7-9b91-eaca28b72475",
   "metadata": {},
   "outputs": [
    {
     "name": "stdout",
     "output_type": "stream",
     "text": [
      "connecting with secrets manager for getting secrets\n"
     ]
    }
   ],
   "source": [
    "s3 = S3()"
   ]
  },
  {
   "cell_type": "code",
   "execution_count": 5,
   "id": "5c6ed13c-6c32-4e86-881f-1313cdcb7023",
   "metadata": {},
   "outputs": [],
   "source": [
    "df1 = pd.DataFrame({\"a\": [\"b\"]})\n",
    "df2 = pd.DataFrame({\"x\": [\"y\"]})\n",
    "file_name = f\"test_{datetime.datetime.now()}.xlsx\""
   ]
  },
  {
   "cell_type": "code",
   "execution_count": 6,
   "id": "3179fff2-e55e-4c29-8684-beb95cda8a13",
   "metadata": {},
   "outputs": [],
   "source": [
    "file_path = s3.write_df_to_excel(data={\"sheet1\": df1, \"sheet2\": df2}, file_name=file_name)"
   ]
  },
  {
   "cell_type": "code",
   "execution_count": 7,
   "id": "cb7a9f76-48c3-4d80-a5b1-6f8d3b1782e3",
   "metadata": {},
   "outputs": [
    {
     "data": {
      "text/plain": [
       "'/Users/kuldeep/PycharmProjects/ml/tmp/test_2022-04-27 09:30:23.100903.xlsx'"
      ]
     },
     "execution_count": 7,
     "metadata": {},
     "output_type": "execute_result"
    }
   ],
   "source": [
    "file_path"
   ]
  },
  {
   "cell_type": "code",
   "execution_count": null,
   "id": "912b530e-95d0-477b-9b54-bb88b81941ab",
   "metadata": {},
   "outputs": [],
   "source": []
  }
 ],
 "metadata": {
  "kernelspec": {
   "display_name": "Python [conda env:etl]",
   "language": "python",
   "name": "conda-env-etl-py"
  },
  "language_info": {
   "codemirror_mode": {
    "name": "ipython",
    "version": 3
   },
   "file_extension": ".py",
   "mimetype": "text/x-python",
   "name": "python",
   "nbconvert_exporter": "python",
   "pygments_lexer": "ipython3",
   "version": "3.6.13"
  }
 },
 "nbformat": 4,
 "nbformat_minor": 5
}
