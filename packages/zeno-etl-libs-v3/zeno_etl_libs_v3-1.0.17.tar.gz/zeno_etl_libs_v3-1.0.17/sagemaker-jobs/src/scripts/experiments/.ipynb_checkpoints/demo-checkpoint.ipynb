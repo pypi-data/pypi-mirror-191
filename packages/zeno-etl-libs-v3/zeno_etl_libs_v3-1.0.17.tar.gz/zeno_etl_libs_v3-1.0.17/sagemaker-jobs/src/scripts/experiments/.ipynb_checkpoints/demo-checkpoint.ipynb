{
 "cells": [
  {
   "cell_type": "code",
   "execution_count": 1,
   "id": "364cf397-f2c8-4a31-b7ac-8f539f79d1f2",
   "metadata": {
    "tags": [
     "parameters"
    ]
   },
   "outputs": [],
   "source": [
    "f_name = \"Kuldeep\"\n",
    "l_name = \"Singh\""
   ]
  },
  {
   "cell_type": "code",
   "execution_count": 3,
   "id": "ceb68e06-1ee5-4823-b00c-feaa38d051e0",
   "metadata": {},
   "outputs": [
    {
     "name": "stdout",
     "output_type": "stream",
     "text": [
      "Hello Kuldeep Singh, How are you !\n"
     ]
    }
   ],
   "source": [
    "print(f\"Hello {f_name} {l_name}, How are you !\")"
   ]
  },
  {
   "cell_type": "code",
   "execution_count": null,
   "id": "26da0791-a5a9-4b23-957b-82f5f8706c52",
   "metadata": {},
   "outputs": [],
   "source": []
  }
 ],
 "metadata": {
  "kernelspec": {
   "display_name": "Python 3 (ipykernel)",
   "language": "python",
   "name": "python3"
  },
  "language_info": {
   "codemirror_mode": {
    "name": "ipython",
    "version": 3
   },
   "file_extension": ".py",
   "mimetype": "text/x-python",
   "name": "python",
   "nbconvert_exporter": "python",
   "pygments_lexer": "ipython3",
   "version": "3.8.13"
  }
 },
 "nbformat": 4,
 "nbformat_minor": 5
}
