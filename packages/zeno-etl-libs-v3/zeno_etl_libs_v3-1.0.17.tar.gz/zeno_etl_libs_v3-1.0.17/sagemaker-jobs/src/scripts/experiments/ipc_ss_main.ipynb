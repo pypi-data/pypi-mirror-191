{
 "cells": [
  {
   "cell_type": "code",
   "execution_count": 1,
   "id": "bf16c584-d1cd-4de5-9918-07247e106979",
   "metadata": {},
   "outputs": [],
   "source": [
    "\"\"\"main wrapper for IPC safety stock reset\"\"\"\n",
    "\n",
    "import os\n",
    "import sys\n",
    "import argparse\n",
    "\n",
    "import pandas as pd\n",
    "import datetime as dt\n",
    "from dateutil.tz import gettz\n",
    "from ast import literal_eval"
   ]
  },
  {
   "cell_type": "code",
   "execution_count": 2,
   "id": "26afcd97-d076-44b4-8006-feed27ca5089",
   "metadata": {},
   "outputs": [],
   "source": [
    "# To add path so that we can improt zeno_etl_libs from local folder\n",
    "sys.path.append('../../../..')"
   ]
  },
  {
   "cell_type": "code",
   "execution_count": 3,
   "id": "a439c642-2ba5-4779-b4fb-8065f6685f82",
   "metadata": {},
   "outputs": [],
   "source": [
    "from zeno_etl_libs.helper.aws.s3 import S3\n",
    "from zeno_etl_libs.db.db import DB, PostGre\n",
    "from zeno_etl_libs.helper import helper\n",
    "from zeno_etl_libs.logger import get_logger"
   ]
  },
  {
   "cell_type": "code",
   "execution_count": 4,
   "id": "cd8d3880-a889-44f8-9f38-e7083cef42f5",
   "metadata": {},
   "outputs": [
    {
     "name": "stderr",
     "output_type": "stream",
     "text": [
      "/Users/kuldeep/miniforge3/envs/mf-ro-p38/lib/python3.8/site-packages/tqdm/auto.py:22: TqdmWarning: IProgress not found. Please update jupyter and ipywidgets. See https://ipywidgets.readthedocs.io/en/stable/user_install.html\n",
      "  from .autonotebook import tqdm as notebook_tqdm\n"
     ]
    }
   ],
   "source": [
    "from zeno_etl_libs.utils.ipc.forecast_reset import ipc_forecast_reset"
   ]
  },
  {
   "cell_type": "code",
   "execution_count": 5,
   "id": "11f27e55-9c6d-4603-8690-c39c0dbe8f0b",
   "metadata": {},
   "outputs": [],
   "source": [
    "from zeno_etl_libs.utils.warehouse.wh_intervention.store_portfolio_consolidation import stores_ss_consolidation"
   ]
  },
  {
   "cell_type": "code",
   "execution_count": 6,
   "id": "7a7ff0da-65b8-462e-bee9-0fed55d18c52",
   "metadata": {},
   "outputs": [],
   "source": [
    "from zeno_etl_libs.utils.ipc.goodaid_substitution import update_ga_ss"
   ]
  },
  {
   "cell_type": "code",
   "execution_count": 7,
   "id": "d735c088-3b4d-43ed-b03b-7453749f65c5",
   "metadata": {},
   "outputs": [],
   "source": [
    "from zeno_etl_libs.utils.ipc.npi_exclusion import omit_npi_drugs"
   ]
  },
  {
   "cell_type": "code",
   "execution_count": 8,
   "id": "51ceeeda-9e8f-4ef8-98a9-d2bd547d6635",
   "metadata": {},
   "outputs": [],
   "source": [
    "from zeno_etl_libs.utils.ipc.post_processing import post_processing"
   ]
  },
  {
   "cell_type": "code",
   "execution_count": 9,
   "id": "508c996f-3251-444c-9056-89e8afb9fcb5",
   "metadata": {},
   "outputs": [],
   "source": [
    "from zeno_etl_libs.utils.ipc.doid_update_ss import doid_update"
   ]
  },
  {
   "cell_type": "markdown",
   "id": "cae90b5e-9da9-49f6-8a01-95df69d856fa",
   "metadata": {},
   "source": [
    "# main"
   ]
  },
  {
   "cell_type": "code",
   "execution_count": 10,
   "id": "980b56a2-22bc-4f71-80ef-1f42478076a9",
   "metadata": {},
   "outputs": [],
   "source": [
    "def main(debug_mode, reset_stores, reset_date, type_list, reset_store_ops,\n",
    "         goodaid_ss_flag, ga_inv_weight, rest_inv_weight, top_inv_weight,\n",
    "         chronic_max_flag, wh_gen_consolidation, v5_active_flag, v6_active_flag,\n",
    "         v6_type_list, v6_ptr_cut_off, v3_active_flag,\n",
    "         omit_npi, corrections_selling_probability_cutoff,\n",
    "         corrections_cumulative_probability_cutoff, drug_type_list_v4,\n",
    "         rs_db_read, rs_db_write, read_schema, write_schema, logger):\n",
    "\n",
    "    s3 = S3()\n",
    "    logger.info(f\"Debug Mode: {debug_mode}\")\n",
    "    status = 'Failed'\n",
    "    if v3_active_flag == 'Y':\n",
    "        corrections_flag = True\n",
    "    else:\n",
    "        corrections_flag = False\n",
    "\n",
    "    # Define empty DF if required in case of fail\n",
    "    order_value_all = pd.DataFrame()\n",
    "    new_drug_entries = pd.DataFrame()\n",
    "    missed_entries = pd.DataFrame()\n",
    "\n",
    "    logger.info(\"Forecast pipeline starts...\")\n",
    "    try:\n",
    "        for store_id in reset_stores:\n",
    "            logger.info(\"IPC SS calculation started for store id: \" + str(store_id))\n",
    "\n",
    "            # RUNNING FORECAST PIPELINE AND SAFETY STOCK CALC\n",
    "            drug_class, weekly_fcst, safety_stock_df, df_corrections, \\\n",
    "                df_corrections_111, drugs_max_to_lock_ipcv6, \\\n",
    "                drug_rejects_ipcv6 = ipc_forecast_reset(\n",
    "                    store_id, type_list, reset_date, corrections_flag,\n",
    "                    corrections_selling_probability_cutoff,\n",
    "                    corrections_cumulative_probability_cutoff,\n",
    "                    rs_db_read, read_schema,\n",
    "                    drug_type_list_v4=drug_type_list_v4,\n",
    "                    v5_active_flag=v5_active_flag,\n",
    "                    v6_active_flag=v6_active_flag,\n",
    "                    v6_type_list=v6_type_list,\n",
    "                    v6_ptr_cut_off=v6_ptr_cut_off,\n",
    "                    chronic_max_flag=chronic_max_flag,\n",
    "                    logger=logger)\n",
    "\n",
    "            # WAREHOUSE GENERIC SKU CONSOLIDATION\n",
    "            if wh_gen_consolidation == 'Y':\n",
    "                safety_stock_df, consolidation_log = stores_ss_consolidation(\n",
    "                    safety_stock_df, rs_db_read, read_schema,\n",
    "                    min_column='safety_stock', ss_column='reorder_point',\n",
    "                    max_column='order_upto_point')\n",
    "\n",
    "            # GOODAID SAFETY STOCK MODIFICATION\n",
    "            if goodaid_ss_flag == 'Y':\n",
    "                safety_stock_df, good_aid_ss_log = update_ga_ss(\n",
    "                    safety_stock_df, store_id, rs_db_read, read_schema,\n",
    "                    ga_inv_weight, rest_inv_weight,\n",
    "                    top_inv_weight, substition_type=['generic'],\n",
    "                    min_column='safety_stock', ss_column='reorder_point',\n",
    "                    max_column='order_upto_point', logger=logger)\n",
    "\n",
    "            # OMIT NPI DRUGS\n",
    "            if omit_npi == 'Y':\n",
    "                safety_stock_df = omit_npi_drugs(safety_stock_df, store_id,\n",
    "                                                 reset_date, rs_db_read,\n",
    "                                                 read_schema, logger)\n",
    "\n",
    "            # POST PROCESSING AND ORDER VALUE CALCULATION\n",
    "            drug_class, weekly_fcst, safety_stock_df, \\\n",
    "                order_value = post_processing(store_id, drug_class, weekly_fcst,\n",
    "                                              safety_stock_df, rs_db_read,\n",
    "                                              read_schema,  logger)\n",
    "            order_value_all = order_value_all.append(order_value, ignore_index=True)\n",
    "\n",
    "            # WRITING TO RS-DB\n",
    "            if debug_mode == 'N':\n",
    "                logger.info(\"Writing table to RS-DB\")\n",
    "                # writing table ipc-forecast\n",
    "                weekly_fcst.rename(\n",
    "                    columns={'date': 'week_begin_dt', 'fcst': 'point_forecast',\n",
    "                             'std': 'forecast_deviation'}, inplace=True)\n",
    "                weekly_fcst['forecast_date'] = dt.datetime.strptime(reset_date, '%Y-%m-%d').date()\n",
    "                weekly_fcst['week_begin_dt'] = weekly_fcst['week_begin_dt']\n",
    "                weekly_fcst['created-at'] = dt.datetime.now(\n",
    "                    tz=gettz('Asia/Kolkata')).strftime('%Y-%m-%d %H:%M:%S')\n",
    "                weekly_fcst['created-by'] = 'etl-automation'\n",
    "                weekly_fcst['updated-at'] = dt.datetime.now(\n",
    "                    tz=gettz('Asia/Kolkata')).strftime('%Y-%m-%d %H:%M:%S')\n",
    "                weekly_fcst['updated-by'] = 'etl-automation'\n",
    "                weekly_fcst.columns = [c.replace('_', '-') for c in weekly_fcst.columns]\n",
    "                table_info = helper.get_table_info(db=rs_db_write,\n",
    "                                                   table_name='ipc-forecast',\n",
    "                                                   schema=write_schema)\n",
    "                columns = list(table_info['column_name'])\n",
    "                weekly_fcst = weekly_fcst[columns]  # required column order\n",
    "\n",
    "                logger.info(\"Writing to table: ipc-forecast\")\n",
    "                s3.write_df_to_db(df=weekly_fcst,\n",
    "                                  table_name='ipc-forecast',\n",
    "                                  db=rs_db_write, schema=write_schema)\n",
    "\n",
    "                # writing table ipc-safety-stock\n",
    "                safety_stock_df['reset_date'] = dt.datetime.strptime(reset_date, '%Y-%m-%d').date()\n",
    "                safety_stock_df['created-at'] = dt.datetime.now(\n",
    "                    tz=gettz('Asia/Kolkata')).strftime('%Y-%m-%d %H:%M:%S')\n",
    "                safety_stock_df['created-by'] = 'etl-automation'\n",
    "                safety_stock_df['updated-at'] = dt.datetime.now(\n",
    "                    tz=gettz('Asia/Kolkata')).strftime('%Y-%m-%d %H:%M:%S')\n",
    "                safety_stock_df['updated-by'] = 'etl-automation'\n",
    "                safety_stock_df.columns = [c.replace('_', '-') for c in safety_stock_df.columns]\n",
    "                table_info = helper.get_table_info(db=rs_db_write,\n",
    "                                                   table_name='ipc-safety-stock',\n",
    "                                                   schema=write_schema)\n",
    "                columns = list(table_info['column_name'])\n",
    "                safety_stock_df = safety_stock_df[columns]  # required column order\n",
    "\n",
    "                logger.info(\"Writing to table: ipc-safety-stock\")\n",
    "                s3.write_df_to_db(df=safety_stock_df,\n",
    "                                  table_name='ipc-safety-stock',\n",
    "                                  db=rs_db_write, schema=write_schema)\n",
    "\n",
    "                # writing table ipc-abc-xyz-class\n",
    "                drug_class['reset_date'] = dt.datetime.strptime(reset_date, '%Y-%m-%d').date()\n",
    "                drug_class['created-at'] = dt.datetime.now(\n",
    "                    tz=gettz('Asia/Kolkata')).strftime('%Y-%m-%d %H:%M:%S')\n",
    "                drug_class['created-by'] = 'etl-automation'\n",
    "                drug_class['updated-at'] = dt.datetime.now(\n",
    "                    tz=gettz('Asia/Kolkata')).strftime('%Y-%m-%d %H:%M:%S')\n",
    "                drug_class['updated-by'] = 'etl-automation'\n",
    "                drug_class.columns = [c.replace('_', '-') for c in drug_class.columns]\n",
    "                table_info = helper.get_table_info(db=rs_db_write,\n",
    "                                                  table_name='ipc-abc-xyz-class',\n",
    "                                                  schema=write_schema)\n",
    "                columns = list(table_info['column_name'])\n",
    "                drug_class = drug_class[columns]  # required column order\n",
    "\n",
    "                logger.info(\"Writing to table: ipc-abc-xyz-class\")\n",
    "                s3.write_df_to_db(df=drug_class,\n",
    "                                  table_name='ipc-abc-xyz-class',\n",
    "                                  db=rs_db_write, schema=write_schema)\n",
    "\n",
    "                # to write ipc v6 tables ...\n",
    "\n",
    "                # UPLOADING MIN, SS, MAX in DOI-D\n",
    "                logger.info(\"Updating new SS to DrugOrderInfo-Data\")\n",
    "                safety_stock_df.columns = [c.replace('-', '_') for c in safety_stock_df.columns]\n",
    "                ss_data_upload = safety_stock_df.query('order_upto_point > 0')[\n",
    "                    ['store_id', 'drug_id', 'safety_stock', 'reorder_point',\n",
    "                     'order_upto_point']]\n",
    "                ss_data_upload.columns = ['store_id', 'drug_id', 'corr_min',\n",
    "                                          'corr_ss', 'corr_max']\n",
    "                new_drug_entries_str, missed_entries_str = doid_update(\n",
    "                    ss_data_upload, type_list, rs_db_write, write_schema, logger)\n",
    "                new_drug_entries = new_drug_entries.append(new_drug_entries_str)\n",
    "                missed_entries = missed_entries.append(missed_entries_str)\n",
    "\n",
    "                logger.info(\"All writes to RS-DB completed!\")\n",
    "\n",
    "                # INTERNAL TABLE SCHEDULE UPDATE - OPS ORACLE\n",
    "                # logger.info(f\"Rescheduling SID:{store_id} in OPS ORACLE\")\n",
    "                # if reset_store_ops != None:\n",
    "                #     content_type = 74\n",
    "                #     object_id = reset_store_ops.loc[\n",
    "                #         reset_store_ops[\n",
    "                #             'store_id'] == store_id, 'object_id'].unique()\n",
    "                #     for obj in object_id:\n",
    "                #         request_body = {\n",
    "                #             \"object_id\": int(obj), \"content_type\": content_type}\n",
    "                #         api_response, _ = django_model_execution_log_create_api(\n",
    "                #             request_body)\n",
    "                #         reset_store_ops.loc[\n",
    "                #             reset_store_ops['object_id'] == obj,\n",
    "                #             'api_call_response'] = api_response\n",
    "\n",
    "            else:\n",
    "                logger.info(\"Writing to RS-DB skipped\")\n",
    "\n",
    "        status = 'Success'\n",
    "        logger.info(f\"IPC code execution status: {status}\")\n",
    "\n",
    "    except Exception as error:\n",
    "        logger.exception(error)\n",
    "        logger.info(f\"IPC code execution status: {status}\")\n",
    "\n",
    "    return order_value_all, new_drug_entries, missed_entries"
   ]
  },
  {
   "cell_type": "code",
   "execution_count": 11,
   "id": "cad2e69c-e95d-4579-8ec2-60cf7be6aa8a",
   "metadata": {},
   "outputs": [],
   "source": [
    "# Parameter passing"
   ]
  },
  {
   "cell_type": "code",
   "execution_count": 12,
   "id": "09f65b00-f869-471c-aa2c-abb2ed92ebd0",
   "metadata": {
    "tags": [
     "parameters"
    ]
   },
   "outputs": [],
   "source": [
    "env = \"stage\""
   ]
  },
  {
   "cell_type": "code",
   "execution_count": 13,
   "id": "86be901f-7fda-4d08-a136-1c97f6f787bc",
   "metadata": {
    "tags": [
     "parameters"
    ]
   },
   "outputs": [],
   "source": [
    "os.environ['env'] = env"
   ]
  },
  {
   "cell_type": "code",
   "execution_count": 14,
   "id": "8b7e62c7-dc23-4d1d-adc1-053446f1847e",
   "metadata": {
    "tags": [
     "parameters"
    ]
   },
   "outputs": [],
   "source": [
    "email_to = \"vivek.revi@zeno.health\"\n",
    "debug_mode = \"N\"\n",
    "\n",
    "# JOB EXCLUSIVE PARAMS\n",
    "exclude_stores = [52, 60, 92, 243, 281]\n",
    "goodaid_ss_flag = \"Y\"\n",
    "ga_inv_weight = 0.5\n",
    "rest_inv_weight = 0.0\n",
    "top_inv_weight = 1\n",
    "chronic_max_flag = \"N\"\n",
    "wh_gen_consolidation = \"Y\"\n",
    "v5_active_flag = \"N\"\n",
    "v6_active_flag = \"N\"\n",
    "v6_type_list = ['ethical', 'generic', 'others']\n",
    "v6_ptr_cut_off = 400\n",
    "reset_date = \"YYYY-MM-DD\"\n",
    "reset_stores = [2]\n",
    "v3_active_flag = \"N\"\n",
    "corrections_selling_probability_cutoff = \"{'ma_less_than_2': 0.40, 'ma_more_than_2' : 0.40}\"\n",
    "corrections_cumulative_probability_cutoff = \"{'ma_less_than_2':0.50,'ma_more_than_2':0.63}\"\n",
    "drug_type_list_v4 = \"{'generic':'{0:[0,0,0], 1:[0,0,1], 2:[0,1,2],3:[1,2,3]}','ethical':'{0:[0,0,0], 1:[0,0,1], 2:[0,1,2],3:[1,2,3]}','others':'{0:[0,0,0], 1:[0,1,2], 2:[0,1,2],3:[1,2,3]}'}\"\n",
    "omit_npi = 'N'"
   ]
  },
  {
   "cell_type": "code",
   "execution_count": 15,
   "id": "755f67ee-8b6e-43bc-8b94-c5409f85dbf5",
   "metadata": {},
   "outputs": [],
   "source": [
    "# EVALUATE REQUIRED JSON PARAMS\n",
    "corrections_selling_probability_cutoff = literal_eval(\n",
    "    corrections_selling_probability_cutoff)\n",
    "corrections_cumulative_probability_cutoff = literal_eval(\n",
    "    corrections_cumulative_probability_cutoff)\n",
    "drug_type_list_v4 = literal_eval(drug_type_list_v4)"
   ]
  },
  {
   "cell_type": "code",
   "execution_count": 16,
   "id": "519b302a-37ca-4c5d-98a1-8475fe959524",
   "metadata": {},
   "outputs": [
    {
     "name": "stdout",
     "output_type": "stream",
     "text": [
      "connecting with secrets manager for getting secrets\n"
     ]
    }
   ],
   "source": [
    "logger = get_logger()\n",
    "rs_db_read = DB(read_only=True)\n",
    "rs_db_write = DB(read_only=False)\n",
    "read_schema = 'prod2-generico'\n",
    "write_schema = 'prod2-generico'"
   ]
  },
  {
   "cell_type": "code",
   "execution_count": 17,
   "id": "b770d66c-4f10-4ca8-b563-0eb52fb77319",
   "metadata": {},
   "outputs": [
    {
     "ename": "InterfaceError",
     "evalue": "('communication error', TimeoutError(60, 'Operation timed out'))",
     "output_type": "error",
     "traceback": [
      "\u001b[0;31m---------------------------------------------------------------------------\u001b[0m",
      "\u001b[0;31mTimeoutError\u001b[0m                              Traceback (most recent call last)",
      "File \u001b[0;32m~/miniforge3/envs/mf-ro-p38/lib/python3.8/site-packages/redshift_connector/core.py:544\u001b[0m, in \u001b[0;36mConnection.__init__\u001b[0;34m(self, user, password, database, host, port, source_address, unix_sock, ssl, sslmode, timeout, max_prepared_statements, tcp_keepalive, application_name, replication, client_protocol_version, database_metadata_current_db_only, credentials_provider)\u001b[0m\n\u001b[1;32m    543\u001b[0m \u001b[38;5;28;01mif\u001b[39;00m unix_sock \u001b[38;5;129;01mis\u001b[39;00m \u001b[38;5;28;01mNone\u001b[39;00m \u001b[38;5;129;01mand\u001b[39;00m host \u001b[38;5;129;01mis\u001b[39;00m \u001b[38;5;129;01mnot\u001b[39;00m \u001b[38;5;28;01mNone\u001b[39;00m:\n\u001b[0;32m--> 544\u001b[0m     \u001b[38;5;28;43mself\u001b[39;49m\u001b[38;5;241;43m.\u001b[39;49m\u001b[43m_usock\u001b[49m\u001b[38;5;241;43m.\u001b[39;49m\u001b[43mconnect\u001b[49m\u001b[43m(\u001b[49m\u001b[43m(\u001b[49m\u001b[43mhost\u001b[49m\u001b[43m,\u001b[49m\u001b[43m \u001b[49m\u001b[43mport\u001b[49m\u001b[43m)\u001b[49m\u001b[43m)\u001b[49m\n\u001b[1;32m    545\u001b[0m \u001b[38;5;28;01melif\u001b[39;00m unix_sock \u001b[38;5;129;01mis\u001b[39;00m \u001b[38;5;129;01mnot\u001b[39;00m \u001b[38;5;28;01mNone\u001b[39;00m:\n",
      "\u001b[0;31mTimeoutError\u001b[0m: [Errno 60] Operation timed out",
      "\nDuring handling of the above exception, another exception occurred:\n",
      "\u001b[0;31mInterfaceError\u001b[0m                            Traceback (most recent call last)",
      "Input \u001b[0;32mIn [17]\u001b[0m, in \u001b[0;36m<cell line: 2>\u001b[0;34m()\u001b[0m\n\u001b[1;32m      1\u001b[0m \u001b[38;5;66;03m# open RS connection\u001b[39;00m\n\u001b[0;32m----> 2\u001b[0m \u001b[43mrs_db_read\u001b[49m\u001b[38;5;241;43m.\u001b[39;49m\u001b[43mopen_connection\u001b[49m\u001b[43m(\u001b[49m\u001b[43m)\u001b[49m\n\u001b[1;32m      3\u001b[0m rs_db_write\u001b[38;5;241m.\u001b[39mopen_connection()\n",
      "File \u001b[0;32m~/PycharmProjects/etl/sagemaker-jobs/src/scripts/experiments/../../../../zeno_etl_libs/db/db.py:23\u001b[0m, in \u001b[0;36mDB.open_connection\u001b[0;34m(self)\u001b[0m\n\u001b[1;32m     21\u001b[0m \u001b[38;5;124;03m\"\"\"function returns the redshift connection or cursor\"\"\"\u001b[39;00m\n\u001b[1;32m     22\u001b[0m \u001b[38;5;28;01mif\u001b[39;00m \u001b[38;5;28mself\u001b[39m\u001b[38;5;241m.\u001b[39mread_only:\n\u001b[0;32m---> 23\u001b[0m     \u001b[38;5;28mself\u001b[39m\u001b[38;5;241m.\u001b[39mconnection \u001b[38;5;241m=\u001b[39m \u001b[43mrc\u001b[49m\u001b[38;5;241;43m.\u001b[39;49m\u001b[43mconnect\u001b[49m\u001b[43m(\u001b[49m\n\u001b[1;32m     24\u001b[0m \u001b[43m        \u001b[49m\u001b[43mhost\u001b[49m\u001b[38;5;241;43m=\u001b[39;49m\u001b[38;5;28;43mself\u001b[39;49m\u001b[38;5;241;43m.\u001b[39;49m\u001b[43mdb_secrets\u001b[49m\u001b[43m[\u001b[49m\u001b[38;5;124;43m'\u001b[39;49m\u001b[38;5;124;43mREDSHIFT_HOST\u001b[39;49m\u001b[38;5;124;43m'\u001b[39;49m\u001b[43m]\u001b[49m\u001b[43m,\u001b[49m\n\u001b[1;32m     25\u001b[0m \u001b[43m        \u001b[49m\u001b[43mdatabase\u001b[49m\u001b[38;5;241;43m=\u001b[39;49m\u001b[38;5;28;43mself\u001b[39;49m\u001b[38;5;241;43m.\u001b[39;49m\u001b[43mdb_secrets\u001b[49m\u001b[43m[\u001b[49m\u001b[38;5;124;43m'\u001b[39;49m\u001b[38;5;124;43mREDSHIFT_DB\u001b[39;49m\u001b[38;5;124;43m'\u001b[39;49m\u001b[43m]\u001b[49m\u001b[43m,\u001b[49m\n\u001b[1;32m     26\u001b[0m \u001b[43m        \u001b[49m\u001b[43muser\u001b[49m\u001b[38;5;241;43m=\u001b[39;49m\u001b[38;5;28;43mself\u001b[39;49m\u001b[38;5;241;43m.\u001b[39;49m\u001b[43mdb_secrets\u001b[49m\u001b[43m[\u001b[49m\u001b[38;5;124;43m'\u001b[39;49m\u001b[38;5;124;43mREDSHIFT_USER\u001b[39;49m\u001b[38;5;124;43m'\u001b[39;49m\u001b[43m]\u001b[49m\u001b[43m,\u001b[49m\n\u001b[1;32m     27\u001b[0m \u001b[43m        \u001b[49m\u001b[43mpassword\u001b[49m\u001b[38;5;241;43m=\u001b[39;49m\u001b[38;5;28;43mself\u001b[39;49m\u001b[38;5;241;43m.\u001b[39;49m\u001b[43mdb_secrets\u001b[49m\u001b[43m[\u001b[49m\u001b[38;5;124;43m'\u001b[39;49m\u001b[38;5;124;43mREDSHIFT_PASSWORD\u001b[39;49m\u001b[38;5;124;43m'\u001b[39;49m\u001b[43m]\u001b[49m\u001b[43m,\u001b[49m\n\u001b[1;32m     28\u001b[0m \u001b[43m        \u001b[49m\u001b[43mport\u001b[49m\u001b[38;5;241;43m=\u001b[39;49m\u001b[38;5;28;43mint\u001b[39;49m\u001b[43m(\u001b[49m\u001b[38;5;28;43mself\u001b[39;49m\u001b[38;5;241;43m.\u001b[39;49m\u001b[43mdb_secrets\u001b[49m\u001b[43m[\u001b[49m\u001b[38;5;124;43m'\u001b[39;49m\u001b[38;5;124;43mREDSHIFT_PORT\u001b[39;49m\u001b[38;5;124;43m'\u001b[39;49m\u001b[43m]\u001b[49m\u001b[43m)\u001b[49m\u001b[43m,\u001b[49m\n\u001b[1;32m     29\u001b[0m \u001b[43m        \u001b[49m\u001b[43mssl\u001b[49m\u001b[38;5;241;43m=\u001b[39;49m\u001b[38;5;28;43mbool\u001b[39;49m\u001b[43m(\u001b[49m\u001b[38;5;28;43mint\u001b[39;49m\u001b[43m(\u001b[49m\u001b[38;5;28;43mself\u001b[39;49m\u001b[38;5;241;43m.\u001b[39;49m\u001b[43mdb_secrets\u001b[49m\u001b[43m[\u001b[49m\u001b[38;5;124;43m'\u001b[39;49m\u001b[38;5;124;43mREDSHIFT_SSL\u001b[39;49m\u001b[38;5;124;43m'\u001b[39;49m\u001b[43m]\u001b[49m\u001b[43m)\u001b[49m\u001b[43m)\u001b[49m\n\u001b[1;32m     30\u001b[0m \u001b[43m    \u001b[49m\u001b[43m)\u001b[49m\n\u001b[1;32m     31\u001b[0m \u001b[38;5;28;01melse\u001b[39;00m:\n\u001b[1;32m     32\u001b[0m     \u001b[38;5;28mself\u001b[39m\u001b[38;5;241m.\u001b[39mconnection \u001b[38;5;241m=\u001b[39m rc\u001b[38;5;241m.\u001b[39mconnect(\n\u001b[1;32m     33\u001b[0m         host\u001b[38;5;241m=\u001b[39m\u001b[38;5;28mself\u001b[39m\u001b[38;5;241m.\u001b[39mdb_secrets[\u001b[38;5;124m'\u001b[39m\u001b[38;5;124mREDSHIFT_WRITE_HOST\u001b[39m\u001b[38;5;124m'\u001b[39m],\n\u001b[1;32m     34\u001b[0m         database\u001b[38;5;241m=\u001b[39m\u001b[38;5;28mself\u001b[39m\u001b[38;5;241m.\u001b[39mdb_secrets[\u001b[38;5;124m'\u001b[39m\u001b[38;5;124mREDSHIFT_WRITE_DB\u001b[39m\u001b[38;5;124m'\u001b[39m],\n\u001b[0;32m   (...)\u001b[0m\n\u001b[1;32m     38\u001b[0m         ssl\u001b[38;5;241m=\u001b[39m\u001b[38;5;28mbool\u001b[39m(\u001b[38;5;28mint\u001b[39m(\u001b[38;5;28mself\u001b[39m\u001b[38;5;241m.\u001b[39mdb_secrets[\u001b[38;5;124m'\u001b[39m\u001b[38;5;124mREDSHIFT_WRITE_SSL\u001b[39m\u001b[38;5;124m'\u001b[39m]))\n\u001b[1;32m     39\u001b[0m     )\n",
      "File \u001b[0;32m~/miniforge3/envs/mf-ro-p38/lib/python3.8/site-packages/redshift_connector/__init__.py:335\u001b[0m, in \u001b[0;36mconnect\u001b[0;34m(user, database, password, port, host, source_address, unix_sock, ssl, sslmode, timeout, max_prepared_statements, tcp_keepalive, application_name, replication, idp_host, db_user, app_id, app_name, preferred_role, principal_arn, access_key_id, secret_access_key, session_token, profile, credentials_provider, region, cluster_identifier, iam, client_id, idp_tenant, client_secret, partner_sp_id, idp_response_timeout, listen_port, login_url, auto_create, db_groups, force_lowercase, allow_db_user_override, client_protocol_version, database_metadata_current_db_only, ssl_insecure, web_identity_token, role_session_name, role_arn, iam_disable_cache, auth_profile, endpoint_url)\u001b[0m\n\u001b[1;32m    332\u001b[0m _logger\u001b[38;5;241m.\u001b[39mdebug(mask_secure_info_in_props(info)\u001b[38;5;241m.\u001b[39m\u001b[38;5;21m__str__\u001b[39m())\n\u001b[1;32m    333\u001b[0m _logger\u001b[38;5;241m.\u001b[39mdebug(make_divider_block())\n\u001b[0;32m--> 335\u001b[0m \u001b[38;5;28;01mreturn\u001b[39;00m \u001b[43mConnection\u001b[49m\u001b[43m(\u001b[49m\n\u001b[1;32m    336\u001b[0m \u001b[43m    \u001b[49m\u001b[43muser\u001b[49m\u001b[38;5;241;43m=\u001b[39;49m\u001b[43minfo\u001b[49m\u001b[38;5;241;43m.\u001b[39;49m\u001b[43muser_name\u001b[49m\u001b[43m,\u001b[49m\n\u001b[1;32m    337\u001b[0m \u001b[43m    \u001b[49m\u001b[43mhost\u001b[49m\u001b[38;5;241;43m=\u001b[39;49m\u001b[43minfo\u001b[49m\u001b[38;5;241;43m.\u001b[39;49m\u001b[43mhost\u001b[49m\u001b[43m,\u001b[49m\n\u001b[1;32m    338\u001b[0m \u001b[43m    \u001b[49m\u001b[43mdatabase\u001b[49m\u001b[38;5;241;43m=\u001b[39;49m\u001b[43minfo\u001b[49m\u001b[38;5;241;43m.\u001b[39;49m\u001b[43mdb_name\u001b[49m\u001b[43m,\u001b[49m\n\u001b[1;32m    339\u001b[0m \u001b[43m    \u001b[49m\u001b[43mport\u001b[49m\u001b[38;5;241;43m=\u001b[39;49m\u001b[43minfo\u001b[49m\u001b[38;5;241;43m.\u001b[39;49m\u001b[43mport\u001b[49m\u001b[43m,\u001b[49m\n\u001b[1;32m    340\u001b[0m \u001b[43m    \u001b[49m\u001b[43mpassword\u001b[49m\u001b[38;5;241;43m=\u001b[39;49m\u001b[43minfo\u001b[49m\u001b[38;5;241;43m.\u001b[39;49m\u001b[43mpassword\u001b[49m\u001b[43m,\u001b[49m\n\u001b[1;32m    341\u001b[0m \u001b[43m    \u001b[49m\u001b[43msource_address\u001b[49m\u001b[38;5;241;43m=\u001b[39;49m\u001b[43minfo\u001b[49m\u001b[38;5;241;43m.\u001b[39;49m\u001b[43msource_address\u001b[49m\u001b[43m,\u001b[49m\n\u001b[1;32m    342\u001b[0m \u001b[43m    \u001b[49m\u001b[43munix_sock\u001b[49m\u001b[38;5;241;43m=\u001b[39;49m\u001b[43minfo\u001b[49m\u001b[38;5;241;43m.\u001b[39;49m\u001b[43munix_sock\u001b[49m\u001b[43m,\u001b[49m\n\u001b[1;32m    343\u001b[0m \u001b[43m    \u001b[49m\u001b[43mssl\u001b[49m\u001b[38;5;241;43m=\u001b[39;49m\u001b[43minfo\u001b[49m\u001b[38;5;241;43m.\u001b[39;49m\u001b[43mssl\u001b[49m\u001b[43m,\u001b[49m\n\u001b[1;32m    344\u001b[0m \u001b[43m    \u001b[49m\u001b[43msslmode\u001b[49m\u001b[38;5;241;43m=\u001b[39;49m\u001b[43minfo\u001b[49m\u001b[38;5;241;43m.\u001b[39;49m\u001b[43msslmode\u001b[49m\u001b[43m,\u001b[49m\n\u001b[1;32m    345\u001b[0m \u001b[43m    \u001b[49m\u001b[43mtimeout\u001b[49m\u001b[38;5;241;43m=\u001b[39;49m\u001b[43minfo\u001b[49m\u001b[38;5;241;43m.\u001b[39;49m\u001b[43mtimeout\u001b[49m\u001b[43m,\u001b[49m\n\u001b[1;32m    346\u001b[0m \u001b[43m    \u001b[49m\u001b[43mmax_prepared_statements\u001b[49m\u001b[38;5;241;43m=\u001b[39;49m\u001b[43minfo\u001b[49m\u001b[38;5;241;43m.\u001b[39;49m\u001b[43mmax_prepared_statements\u001b[49m\u001b[43m,\u001b[49m\n\u001b[1;32m    347\u001b[0m \u001b[43m    \u001b[49m\u001b[43mtcp_keepalive\u001b[49m\u001b[38;5;241;43m=\u001b[39;49m\u001b[43minfo\u001b[49m\u001b[38;5;241;43m.\u001b[39;49m\u001b[43mtcp_keepalive\u001b[49m\u001b[43m,\u001b[49m\n\u001b[1;32m    348\u001b[0m \u001b[43m    \u001b[49m\u001b[43mapplication_name\u001b[49m\u001b[38;5;241;43m=\u001b[39;49m\u001b[43minfo\u001b[49m\u001b[38;5;241;43m.\u001b[39;49m\u001b[43mapplication_name\u001b[49m\u001b[43m,\u001b[49m\n\u001b[1;32m    349\u001b[0m \u001b[43m    \u001b[49m\u001b[43mreplication\u001b[49m\u001b[38;5;241;43m=\u001b[39;49m\u001b[43minfo\u001b[49m\u001b[38;5;241;43m.\u001b[39;49m\u001b[43mreplication\u001b[49m\u001b[43m,\u001b[49m\n\u001b[1;32m    350\u001b[0m \u001b[43m    \u001b[49m\u001b[43mclient_protocol_version\u001b[49m\u001b[38;5;241;43m=\u001b[39;49m\u001b[43minfo\u001b[49m\u001b[38;5;241;43m.\u001b[39;49m\u001b[43mclient_protocol_version\u001b[49m\u001b[43m,\u001b[49m\n\u001b[1;32m    351\u001b[0m \u001b[43m    \u001b[49m\u001b[43mdatabase_metadata_current_db_only\u001b[49m\u001b[38;5;241;43m=\u001b[39;49m\u001b[43minfo\u001b[49m\u001b[38;5;241;43m.\u001b[39;49m\u001b[43mdatabase_metadata_current_db_only\u001b[49m\u001b[43m,\u001b[49m\n\u001b[1;32m    352\u001b[0m \u001b[43m    \u001b[49m\u001b[43mcredentials_provider\u001b[49m\u001b[38;5;241;43m=\u001b[39;49m\u001b[43minfo\u001b[49m\u001b[38;5;241;43m.\u001b[39;49m\u001b[43mcredentials_provider\u001b[49m\u001b[43m,\u001b[49m\n\u001b[1;32m    353\u001b[0m \u001b[43m\u001b[49m\u001b[43m)\u001b[49m\n",
      "File \u001b[0;32m~/miniforge3/envs/mf-ro-p38/lib/python3.8/site-packages/redshift_connector/core.py:590\u001b[0m, in \u001b[0;36mConnection.__init__\u001b[0;34m(self, user, password, database, host, port, source_address, unix_sock, ssl, sslmode, timeout, max_prepared_statements, tcp_keepalive, application_name, replication, client_protocol_version, database_metadata_current_db_only, credentials_provider)\u001b[0m\n\u001b[1;32m    588\u001b[0m \u001b[38;5;28;01mexcept\u001b[39;00m socket\u001b[38;5;241m.\u001b[39merror \u001b[38;5;28;01mas\u001b[39;00m e:\n\u001b[1;32m    589\u001b[0m     \u001b[38;5;28mself\u001b[39m\u001b[38;5;241m.\u001b[39m_usock\u001b[38;5;241m.\u001b[39mclose()\n\u001b[0;32m--> 590\u001b[0m     \u001b[38;5;28;01mraise\u001b[39;00m InterfaceError(\u001b[38;5;124m\"\u001b[39m\u001b[38;5;124mcommunication error\u001b[39m\u001b[38;5;124m\"\u001b[39m, e)\n\u001b[1;32m    591\u001b[0m \u001b[38;5;28mself\u001b[39m\u001b[38;5;241m.\u001b[39m_flush: typing\u001b[38;5;241m.\u001b[39mCallable \u001b[38;5;241m=\u001b[39m \u001b[38;5;28mself\u001b[39m\u001b[38;5;241m.\u001b[39m_sock\u001b[38;5;241m.\u001b[39mflush\n\u001b[1;32m    592\u001b[0m \u001b[38;5;28mself\u001b[39m\u001b[38;5;241m.\u001b[39m_read: typing\u001b[38;5;241m.\u001b[39mCallable \u001b[38;5;241m=\u001b[39m \u001b[38;5;28mself\u001b[39m\u001b[38;5;241m.\u001b[39m_sock\u001b[38;5;241m.\u001b[39mread\n",
      "\u001b[0;31mInterfaceError\u001b[0m: ('communication error', TimeoutError(60, 'Operation timed out'))"
     ]
    }
   ],
   "source": [
    "# open RS connection\n",
    "rs_db_read.open_connection()\n",
    "rs_db_write.open_connection()"
   ]
  },
  {
   "cell_type": "code",
   "execution_count": null,
   "id": "6a11ed2b-0908-4fe0-bbe2-12126cbfb552",
   "metadata": {},
   "outputs": [],
   "source": [
    "if reset_date == 'YYYY-MM-DD':  # Take current date\n",
    "    reset_date = dt.date.today().strftime(\"%Y-%m-%d\")"
   ]
  },
  {
   "cell_type": "code",
   "execution_count": null,
   "id": "389699ad-2692-4eb2-85d2-c0f635c6cec8",
   "metadata": {},
   "outputs": [],
   "source": [
    "if 0:\n",
    "    pass\n",
    "else:\n",
    "    type_list = \"('ethical', 'ayurvedic', 'generic', 'discontinued-products', \" \\\n",
    "                \"'banned', 'general', 'high-value-ethical', 'baby-product',\" \\\n",
    "                \" 'surgical', 'otc', 'glucose-test-kit', 'category-2', \" \\\n",
    "                \"'category-1', 'category-4', 'baby-food', '', 'category-3')\"\n",
    "    reset_store_ops = None"
   ]
  },
  {
   "cell_type": "code",
   "execution_count": null,
   "id": "70803993-42fb-42a7-b357-27e2e01c9c42",
   "metadata": {},
   "outputs": [],
   "source": [
    "\"\"\" calling the main function \"\"\"\n",
    "order_value_all, new_drug_entries, \\\n",
    "    missed_entries = main(\n",
    "        debug_mode, reset_stores, reset_date, type_list, reset_store_ops,\n",
    "        goodaid_ss_flag, ga_inv_weight, rest_inv_weight, top_inv_weight,\n",
    "        chronic_max_flag, wh_gen_consolidation, v5_active_flag,\n",
    "        v6_active_flag, v6_type_list, v6_ptr_cut_off, v3_active_flag,\n",
    "        omit_npi, corrections_selling_probability_cutoff,\n",
    "        corrections_cumulative_probability_cutoff, drug_type_list_v4,\n",
    "        rs_db_read, rs_db_write, read_schema, write_schema, logger)"
   ]
  },
  {
   "cell_type": "code",
   "execution_count": null,
   "id": "45c0fbd8-ad5c-4402-9770-4093b23af05b",
   "metadata": {},
   "outputs": [],
   "source": [
    "# close RS connection\n",
    "rs_db_read.close_connection()\n",
    "rs_db_write.close_connection()"
   ]
  },
  {
   "cell_type": "code",
   "execution_count": null,
   "id": "2b0fd06a-c09a-43f1-b41a-756cc2a678dd",
   "metadata": {},
   "outputs": [],
   "source": [
    "# SENT EMAIL ATTACHMENTS\n",
    "logger.info(\"Sending email attachments..\")\n",
    "# to write .............."
   ]
  },
  {
   "cell_type": "code",
   "execution_count": null,
   "id": "e5b846cf-9495-49ff-b74e-ce9c75f2d0c2",
   "metadata": {},
   "outputs": [],
   "source": []
  }
 ],
 "metadata": {
  "kernelspec": {
   "display_name": "Python 3 (ipykernel)",
   "language": "python",
   "name": "python3"
  },
  "language_info": {
   "codemirror_mode": {
    "name": "ipython",
    "version": 3
   },
   "file_extension": ".py",
   "mimetype": "text/x-python",
   "name": "python",
   "nbconvert_exporter": "python",
   "pygments_lexer": "ipython3",
   "version": "3.8.13"
  }
 },
 "nbformat": 4,
 "nbformat_minor": 5
}
