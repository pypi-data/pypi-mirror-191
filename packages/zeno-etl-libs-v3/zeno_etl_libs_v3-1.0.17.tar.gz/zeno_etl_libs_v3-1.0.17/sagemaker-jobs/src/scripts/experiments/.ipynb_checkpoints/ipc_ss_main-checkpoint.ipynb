{
 "cells": [
  {
   "cell_type": "code",
   "execution_count": 1,
   "id": "bf16c584-d1cd-4de5-9918-07247e106979",
   "metadata": {},
   "outputs": [],
   "source": [
    "\"\"\"main wrapper for IPC safety stock reset\"\"\"\n",
    "\n",
    "import os\n",
    "import sys\n",
    "import argparse\n",
    "\n",
    "import pandas as pd\n",
    "import datetime as dt\n",
    "from dateutil.tz import gettz\n",
    "from ast import literal_eval"
   ]
  },
  {
   "cell_type": "code",
   "execution_count": 2,
   "id": "26afcd97-d076-44b4-8006-feed27ca5089",
   "metadata": {},
   "outputs": [],
   "source": [
    "# To add path so that we can improt zeno_etl_libs from local folder\n",
    "sys.path.append('../../../..')"
   ]
  },
  {
   "cell_type": "code",
   "execution_count": 3,
   "id": "a439c642-2ba5-4779-b4fb-8065f6685f82",
   "metadata": {},
   "outputs": [],
   "source": [
    "from zeno_etl_libs.helper.aws.s3 import S3\n",
    "from zeno_etl_libs.db.db import DB, PostGre\n",
    "from zeno_etl_libs.helper import helper\n",
    "from zeno_etl_libs.logger import get_logger"
   ]
  },
  {
   "cell_type": "code",
   "execution_count": 4,
   "id": "cd8d3880-a889-44f8-9f38-e7083cef42f5",
   "metadata": {},
   "outputs": [
    {
     "name": "stderr",
     "output_type": "stream",
     "text": [
      "/Users/kuldeep/miniforge3/envs/mf-ro-p38/lib/python3.8/site-packages/tqdm/auto.py:22: TqdmWarning: IProgress not found. Please update jupyter and ipywidgets. See https://ipywidgets.readthedocs.io/en/stable/user_install.html\n",
      "  from .autonotebook import tqdm as notebook_tqdm\n"
     ]
    }
   ],
   "source": [
    "from zeno_etl_libs.utils.ipc.forecast_reset import ipc_forecast_reset"
   ]
  },
  {
   "cell_type": "code",
   "execution_count": 5,
   "id": "11f27e55-9c6d-4603-8690-c39c0dbe8f0b",
   "metadata": {},
   "outputs": [],
   "source": [
    "from zeno_etl_libs.utils.warehouse.wh_intervention.store_portfolio_consolidation import stores_ss_consolidation"
   ]
  },
  {
   "cell_type": "code",
   "execution_count": 6,
   "id": "7a7ff0da-65b8-462e-bee9-0fed55d18c52",
   "metadata": {},
   "outputs": [],
   "source": [
    "from zeno_etl_libs.utils.ipc.goodaid_substitution import update_ga_ss"
   ]
  },
  {
   "cell_type": "code",
   "execution_count": 7,
   "id": "d735c088-3b4d-43ed-b03b-7453749f65c5",
   "metadata": {},
   "outputs": [],
   "source": [
    "from zeno_etl_libs.utils.ipc.npi_exclusion import omit_npi_drugs"
   ]
  },
  {
   "cell_type": "code",
   "execution_count": 8,
   "id": "51ceeeda-9e8f-4ef8-98a9-d2bd547d6635",
   "metadata": {},
   "outputs": [],
   "source": [
    "from zeno_etl_libs.utils.ipc.post_processing import post_processing"
   ]
  },
  {
   "cell_type": "code",
   "execution_count": 9,
   "id": "508c996f-3251-444c-9056-89e8afb9fcb5",
   "metadata": {},
   "outputs": [],
   "source": [
    "from zeno_etl_libs.utils.ipc.doid_update_ss import doid_update"
   ]
  },
  {
   "cell_type": "markdown",
   "id": "cae90b5e-9da9-49f6-8a01-95df69d856fa",
   "metadata": {},
   "source": [
    "# main"
   ]
  },
  {
   "cell_type": "code",
   "execution_count": 10,
   "id": "980b56a2-22bc-4f71-80ef-1f42478076a9",
   "metadata": {},
   "outputs": [],
   "source": [
    "def main(debug_mode, reset_stores, reset_date, type_list, reset_store_ops,\n",
    "         goodaid_ss_flag, ga_inv_weight, rest_inv_weight, top_inv_weight,\n",
    "         chronic_max_flag, wh_gen_consolidation, v5_active_flag, v6_active_flag,\n",
    "         v6_type_list, v6_ptr_cut_off, v3_active_flag,\n",
    "         omit_npi, corrections_selling_probability_cutoff,\n",
    "         corrections_cumulative_probability_cutoff, drug_type_list_v4,\n",
    "         rs_db_read, rs_db_write, read_schema, write_schema, logger):\n",
    "\n",
    "    s3 = S3()\n",
    "    logger.info(f\"Debug Mode: {debug_mode}\")\n",
    "    status = 'Failed'\n",
    "    if v3_active_flag == 'Y':\n",
    "        corrections_flag = True\n",
    "    else:\n",
    "        corrections_flag = False\n",
    "\n",
    "    # Define empty DF if required in case of fail\n",
    "    order_value_all = pd.DataFrame()\n",
    "    new_drug_entries = pd.DataFrame()\n",
    "    missed_entries = pd.DataFrame()\n",
    "\n",
    "    logger.info(\"Forecast pipeline starts...\")\n",
    "    try:\n",
    "        for store_id in reset_stores:\n",
    "            logger.info(\"IPC SS calculation started for store id: \" + str(store_id))\n",
    "\n",
    "            # RUNNING FORECAST PIPELINE AND SAFETY STOCK CALC\n",
    "            drug_class, weekly_fcst, safety_stock_df, df_corrections, \\\n",
    "                df_corrections_111, drugs_max_to_lock_ipcv6, \\\n",
    "                drug_rejects_ipcv6 = ipc_forecast_reset(\n",
    "                    store_id, type_list, reset_date, corrections_flag,\n",
    "                    corrections_selling_probability_cutoff,\n",
    "                    corrections_cumulative_probability_cutoff,\n",
    "                    rs_db_read, read_schema,\n",
    "                    drug_type_list_v4=drug_type_list_v4,\n",
    "                    v5_active_flag=v5_active_flag,\n",
    "                    v6_active_flag=v6_active_flag,\n",
    "                    v6_type_list=v6_type_list,\n",
    "                    v6_ptr_cut_off=v6_ptr_cut_off,\n",
    "                    chronic_max_flag=chronic_max_flag,\n",
    "                    logger=logger)\n",
    "\n",
    "            # WAREHOUSE GENERIC SKU CONSOLIDATION\n",
    "            if wh_gen_consolidation == 'Y':\n",
    "                safety_stock_df, consolidation_log = stores_ss_consolidation(\n",
    "                    safety_stock_df, rs_db_read, read_schema,\n",
    "                    min_column='safety_stock', ss_column='reorder_point',\n",
    "                    max_column='order_upto_point')\n",
    "\n",
    "            # GOODAID SAFETY STOCK MODIFICATION\n",
    "            if goodaid_ss_flag == 'Y':\n",
    "                safety_stock_df, good_aid_ss_log = update_ga_ss(\n",
    "                    safety_stock_df, store_id, rs_db_read, read_schema,\n",
    "                    ga_inv_weight, rest_inv_weight,\n",
    "                    top_inv_weight, substition_type=['generic'],\n",
    "                    min_column='safety_stock', ss_column='reorder_point',\n",
    "                    max_column='order_upto_point', logger=logger)\n",
    "\n",
    "            # OMIT NPI DRUGS\n",
    "            if omit_npi == 'Y':\n",
    "                safety_stock_df = omit_npi_drugs(safety_stock_df, store_id,\n",
    "                                                 reset_date, rs_db_read,\n",
    "                                                 read_schema, logger)\n",
    "\n",
    "            # POST PROCESSING AND ORDER VALUE CALCULATION\n",
    "            drug_class, weekly_fcst, safety_stock_df, \\\n",
    "                order_value = post_processing(store_id, drug_class, weekly_fcst,\n",
    "                                              safety_stock_df, rs_db_read,\n",
    "                                              read_schema,  logger)\n",
    "            order_value_all = order_value_all.append(order_value, ignore_index=True)\n",
    "\n",
    "            # WRITING TO RS-DB\n",
    "            if debug_mode == 'N':\n",
    "                logger.info(\"Writing table to RS-DB\")\n",
    "                # writing table ipc-forecast\n",
    "                weekly_fcst.rename(\n",
    "                    columns={'date': 'week_begin_dt', 'fcst': 'point_forecast',\n",
    "                             'std': 'forecast_deviation'}, inplace=True)\n",
    "                weekly_fcst['forecast_date'] = dt.datetime.strptime(reset_date, '%Y-%m-%d').date()\n",
    "                weekly_fcst['week_begin_dt'] = weekly_fcst['week_begin_dt']\n",
    "                weekly_fcst['created-at'] = dt.datetime.now(\n",
    "                    tz=gettz('Asia/Kolkata')).strftime('%Y-%m-%d %H:%M:%S')\n",
    "                weekly_fcst['created-by'] = 'etl-automation'\n",
    "                weekly_fcst['updated-at'] = dt.datetime.now(\n",
    "                    tz=gettz('Asia/Kolkata')).strftime('%Y-%m-%d %H:%M:%S')\n",
    "                weekly_fcst['updated-by'] = 'etl-automation'\n",
    "                weekly_fcst.columns = [c.replace('_', '-') for c in weekly_fcst.columns]\n",
    "                table_info = helper.get_table_info(db=rs_db_write,\n",
    "                                                   table_name='ipc-forecast',\n",
    "                                                   schema=write_schema)\n",
    "                columns = list(table_info['column_name'])\n",
    "                weekly_fcst = weekly_fcst[columns]  # required column order\n",
    "\n",
    "                logger.info(\"Writing to table: ipc-forecast\")\n",
    "                s3.write_df_to_db(df=weekly_fcst,\n",
    "                                  table_name='ipc-forecast',\n",
    "                                  db=rs_db_write, schema=write_schema)\n",
    "\n",
    "                # writing table ipc-safety-stock\n",
    "                safety_stock_df['reset_date'] = dt.datetime.strptime(reset_date, '%Y-%m-%d').date()\n",
    "                safety_stock_df['created-at'] = dt.datetime.now(\n",
    "                    tz=gettz('Asia/Kolkata')).strftime('%Y-%m-%d %H:%M:%S')\n",
    "                safety_stock_df['created-by'] = 'etl-automation'\n",
    "                safety_stock_df['updated-at'] = dt.datetime.now(\n",
    "                    tz=gettz('Asia/Kolkata')).strftime('%Y-%m-%d %H:%M:%S')\n",
    "                safety_stock_df['updated-by'] = 'etl-automation'\n",
    "                safety_stock_df.columns = [c.replace('_', '-') for c in safety_stock_df.columns]\n",
    "                table_info = helper.get_table_info(db=rs_db_write,\n",
    "                                                   table_name='ipc-safety-stock',\n",
    "                                                   schema=write_schema)\n",
    "                columns = list(table_info['column_name'])\n",
    "                safety_stock_df = safety_stock_df[columns]  # required column order\n",
    "\n",
    "                logger.info(\"Writing to table: ipc-safety-stock\")\n",
    "                s3.write_df_to_db(df=safety_stock_df,\n",
    "                                  table_name='ipc-safety-stock',\n",
    "                                  db=rs_db_write, schema=write_schema)\n",
    "\n",
    "                # writing table ipc-abc-xyz-class\n",
    "                drug_class['reset_date'] = dt.datetime.strptime(reset_date, '%Y-%m-%d').date()\n",
    "                drug_class['created-at'] = dt.datetime.now(\n",
    "                    tz=gettz('Asia/Kolkata')).strftime('%Y-%m-%d %H:%M:%S')\n",
    "                drug_class['created-by'] = 'etl-automation'\n",
    "                drug_class['updated-at'] = dt.datetime.now(\n",
    "                    tz=gettz('Asia/Kolkata')).strftime('%Y-%m-%d %H:%M:%S')\n",
    "                drug_class['updated-by'] = 'etl-automation'\n",
    "                drug_class.columns = [c.replace('_', '-') for c in drug_class.columns]\n",
    "                table_info = helper.get_table_info(db=rs_db_write,\n",
    "                                                  table_name='ipc-abc-xyz-class',\n",
    "                                                  schema=write_schema)\n",
    "                columns = list(table_info['column_name'])\n",
    "                drug_class = drug_class[columns]  # required column order\n",
    "\n",
    "                logger.info(\"Writing to table: ipc-abc-xyz-class\")\n",
    "                s3.write_df_to_db(df=drug_class,\n",
    "                                  table_name='ipc-abc-xyz-class',\n",
    "                                  db=rs_db_write, schema=write_schema)\n",
    "\n",
    "                # to write ipc v6 tables ...\n",
    "\n",
    "                # UPLOADING MIN, SS, MAX in DOI-D\n",
    "                logger.info(\"Updating new SS to DrugOrderInfo-Data\")\n",
    "                safety_stock_df.columns = [c.replace('-', '_') for c in safety_stock_df.columns]\n",
    "                ss_data_upload = safety_stock_df.query('order_upto_point > 0')[\n",
    "                    ['store_id', 'drug_id', 'safety_stock', 'reorder_point',\n",
    "                     'order_upto_point']]\n",
    "                ss_data_upload.columns = ['store_id', 'drug_id', 'corr_min',\n",
    "                                          'corr_ss', 'corr_max']\n",
    "                new_drug_entries_str, missed_entries_str = doid_update(\n",
    "                    ss_data_upload, type_list, rs_db_write, write_schema, logger)\n",
    "                new_drug_entries = new_drug_entries.append(new_drug_entries_str)\n",
    "                missed_entries = missed_entries.append(missed_entries_str)\n",
    "\n",
    "                logger.info(\"All writes to RS-DB completed!\")\n",
    "\n",
    "                # INTERNAL TABLE SCHEDULE UPDATE - OPS ORACLE\n",
    "                # logger.info(f\"Rescheduling SID:{store_id} in OPS ORACLE\")\n",
    "                # if reset_store_ops != None:\n",
    "                #     content_type = 74\n",
    "                #     object_id = reset_store_ops.loc[\n",
    "                #         reset_store_ops[\n",
    "                #             'store_id'] == store_id, 'object_id'].unique()\n",
    "                #     for obj in object_id:\n",
    "                #         request_body = {\n",
    "                #             \"object_id\": int(obj), \"content_type\": content_type}\n",
    "                #         api_response, _ = django_model_execution_log_create_api(\n",
    "                #             request_body)\n",
    "                #         reset_store_ops.loc[\n",
    "                #             reset_store_ops['object_id'] == obj,\n",
    "                #             'api_call_response'] = api_response\n",
    "\n",
    "            else:\n",
    "                logger.info(\"Writing to RS-DB skipped\")\n",
    "\n",
    "        status = 'Success'\n",
    "        logger.info(f\"IPC code execution status: {status}\")\n",
    "\n",
    "    except Exception as error:\n",
    "        logger.exception(error)\n",
    "        logger.info(f\"IPC code execution status: {status}\")\n",
    "\n",
    "    return order_value_all, new_drug_entries, missed_entries"
   ]
  },
  {
   "cell_type": "code",
   "execution_count": 11,
   "id": "cad2e69c-e95d-4579-8ec2-60cf7be6aa8a",
   "metadata": {},
   "outputs": [],
   "source": [
    "# Parameter passing"
   ]
  },
  {
   "cell_type": "code",
   "execution_count": 12,
   "id": "09f65b00-f869-471c-aa2c-abb2ed92ebd0",
   "metadata": {
    "tags": [
     "parameters"
    ]
   },
   "outputs": [],
   "source": [
    "env = \"stage\""
   ]
  },
  {
   "cell_type": "code",
   "execution_count": 13,
   "id": "86be901f-7fda-4d08-a136-1c97f6f787bc",
   "metadata": {},
   "outputs": [],
   "source": [
    "os.environ['env'] = env"
   ]
  },
  {
   "cell_type": "code",
   "execution_count": 14,
   "id": "8b7e62c7-dc23-4d1d-adc1-053446f1847e",
   "metadata": {},
   "outputs": [],
   "source": [
    "email_to = \"vivek.revi@zeno.health\"\n",
    "debug_mode = \"N\"\n",
    "\n",
    "# JOB EXCLUSIVE PARAMS\n",
    "exclude_stores = [52, 60, 92, 243, 281]\n",
    "goodaid_ss_flag = \"Y\"\n",
    "ga_inv_weight = 0.5\n",
    "rest_inv_weight = 0.0\n",
    "top_inv_weight = 1\n",
    "chronic_max_flag = \"N\"\n",
    "wh_gen_consolidation = \"Y\"\n",
    "v5_active_flag = \"N\"\n",
    "v6_active_flag = \"N\"\n",
    "v6_type_list = ['ethical', 'generic', 'others']\n",
    "v6_ptr_cut_off = 400\n",
    "reset_date = \"YYYY-MM-DD\"\n",
    "reset_stores = [2]\n",
    "v3_active_flag = \"N\"\n",
    "corrections_selling_probability_cutoff = \"{'ma_less_than_2': 0.40, 'ma_more_than_2' : 0.40}\"\n",
    "corrections_cumulative_probability_cutoff = \"{'ma_less_than_2':0.50,'ma_more_than_2':0.63}\"\n",
    "drug_type_list_v4 = \"{'generic':'{0:[0,0,0], 1:[0,0,1], 2:[0,1,2],3:[1,2,3]}','ethical':'{0:[0,0,0], 1:[0,0,1], 2:[0,1,2],3:[1,2,3]}','others':'{0:[0,0,0], 1:[0,1,2], 2:[0,1,2],3:[1,2,3]}'}\"\n",
    "omit_npi = 'N'"
   ]
  },
  {
   "cell_type": "code",
   "execution_count": 15,
   "id": "755f67ee-8b6e-43bc-8b94-c5409f85dbf5",
   "metadata": {},
   "outputs": [],
   "source": [
    "# EVALUATE REQUIRED JSON PARAMS\n",
    "corrections_selling_probability_cutoff = literal_eval(\n",
    "    corrections_selling_probability_cutoff)\n",
    "corrections_cumulative_probability_cutoff = literal_eval(\n",
    "    corrections_cumulative_probability_cutoff)\n",
    "drug_type_list_v4 = literal_eval(drug_type_list_v4)"
   ]
  },
  {
   "cell_type": "code",
   "execution_count": 16,
   "id": "519b302a-37ca-4c5d-98a1-8475fe959524",
   "metadata": {},
   "outputs": [],
   "source": [
    "logger = get_logger()\n",
    "rs_db_read = DB(read_only=True)\n",
    "rs_db_write = DB(read_only=False)\n",
    "read_schema = 'prod2-generico'\n",
    "write_schema = 'prod2-generico'"
   ]
  },
  {
   "cell_type": "code",
   "execution_count": 17,
   "id": "b770d66c-4f10-4ca8-b563-0eb52fb77319",
   "metadata": {},
   "outputs": [
    {
     "data": {
      "text/plain": [
       "<redshift_connector.cursor.Cursor at 0x28d30c610>"
      ]
     },
     "execution_count": 17,
     "metadata": {},
     "output_type": "execute_result"
    }
   ],
   "source": [
    "# open RS connection\n",
    "rs_db_read.open_connection()\n",
    "rs_db_write.open_connection()"
   ]
  },
  {
   "cell_type": "code",
   "execution_count": 18,
   "id": "6a11ed2b-0908-4fe0-bbe2-12126cbfb552",
   "metadata": {},
   "outputs": [],
   "source": [
    "if reset_date == 'YYYY-MM-DD':  # Take current date\n",
    "    reset_date = dt.date.today().strftime(\"%Y-%m-%d\")"
   ]
  },
  {
   "cell_type": "code",
   "execution_count": 19,
   "id": "389699ad-2692-4eb2-85d2-c0f635c6cec8",
   "metadata": {},
   "outputs": [],
   "source": [
    "if 0:\n",
    "    pass\n",
    "else:\n",
    "    type_list = \"('ethical', 'ayurvedic', 'generic', 'discontinued-products', \" \\\n",
    "                \"'banned', 'general', 'high-value-ethical', 'baby-product',\" \\\n",
    "                \" 'surgical', 'otc', 'glucose-test-kit', 'category-2', \" \\\n",
    "                \"'category-1', 'category-4', 'baby-food', '', 'category-3')\"\n",
    "    reset_store_ops = None"
   ]
  },
  {
   "cell_type": "code",
   "execution_count": 20,
   "id": "70803993-42fb-42a7-b357-27e2e01c9c42",
   "metadata": {},
   "outputs": [
    {
     "name": "stdout",
     "output_type": "stream",
     "text": [
      "2022-05-09 10:44:34,093 - root - INFO - Debug Mode: N\n",
      "2022-05-09 10:44:34,095 - root - INFO - Forecast pipeline starts...\n",
      "2022-05-09 10:44:34,095 - root - INFO - IPC SS calculation started for store id: 2\n",
      "Date range 2019-04-01 2022-05-09\n",
      "<class 'pandas.core.frame.DataFrame'>\n",
      "RangeIndex: 1205 entries, 0 to 1204\n",
      "Data columns (total 3 columns):\n",
      " #   Column              Non-Null Count  Dtype \n",
      "---  ------              --------------  ----- \n",
      " 0   sales_date          1205 non-null   object\n",
      " 1   drug_id             1205 non-null   int64 \n",
      " 2   net_sales_quantity  1205 non-null   int64 \n",
      "dtypes: int64(2), object(1)\n",
      "memory usage: 28.4+ KB\n",
      "sales_history: None\n",
      "<class 'pandas.core.frame.DataFrame'>\n",
      "RangeIndex: 27504 entries, 0 to 27503\n",
      "Data columns (total 3 columns):\n",
      " #   Column                Non-Null Count  Dtype  \n",
      "---  ------                --------------  -----  \n",
      " 0   attributed_loss_date  27504 non-null  object \n",
      " 1   drug_id               27504 non-null  int64  \n",
      " 2   loss_quantity         27504 non-null  float64\n",
      "dtypes: float64(1), int64(1), object(1)\n",
      "memory usage: 644.8+ KB\n",
      "cfr_pr: None\n",
      "2022-05-08\n",
      "2022-05-08\n",
      "6\n",
      "Distinct drug count 6\n",
      "No of days 1134\n"
     ]
    },
    {
     "name": "stderr",
     "output_type": "stream",
     "text": [
      "/Users/kuldeep/PycharmProjects/etl/sagemaker-jobs/src/scripts/experiments/../../../../zeno_etl_libs/utils/ipc/data_prep.py:132: SettingWithCopyWarning: \n",
      "A value is trying to be set on a copy of a slice from a DataFrame.\n",
      "Try using .loc[row_indexer,col_indexer] = value instead\n",
      "\n",
      "See the caveats in the documentation: https://pandas.pydata.org/pandas-docs/stable/user_guide/indexing.html#returning-a-view-versus-a-copy\n",
      "  cal_sales_weekly['week_begin_dt'] = cal_sales_weekly.apply(\n",
      "/Users/kuldeep/PycharmProjects/etl/sagemaker-jobs/src/scripts/experiments/../../../../zeno_etl_libs/utils/ipc/data_prep.py:134: SettingWithCopyWarning: \n",
      "A value is trying to be set on a copy of a slice from a DataFrame.\n",
      "Try using .loc[row_indexer,col_indexer] = value instead\n",
      "\n",
      "See the caveats in the documentation: https://pandas.pydata.org/pandas-docs/stable/user_guide/indexing.html#returning-a-view-versus-a-copy\n",
      "  cal_sales_weekly['month_begin_dt'] = cal_sales_weekly.apply(\n",
      "/Users/kuldeep/PycharmProjects/etl/sagemaker-jobs/src/scripts/experiments/../../../../zeno_etl_libs/utils/ipc/data_prep.py:136: SettingWithCopyWarning: \n",
      "A value is trying to be set on a copy of a slice from a DataFrame.\n",
      "Try using .loc[row_indexer,col_indexer] = value instead\n",
      "\n",
      "See the caveats in the documentation: https://pandas.pydata.org/pandas-docs/stable/user_guide/indexing.html#returning-a-view-versus-a-copy\n",
      "  cal_sales_monthly['week_begin_dt'] = cal_sales_monthly.apply(\n",
      "/Users/kuldeep/PycharmProjects/etl/sagemaker-jobs/src/scripts/experiments/../../../../zeno_etl_libs/utils/ipc/data_prep.py:138: SettingWithCopyWarning: \n",
      "A value is trying to be set on a copy of a slice from a DataFrame.\n",
      "Try using .loc[row_indexer,col_indexer] = value instead\n",
      "\n",
      "See the caveats in the documentation: https://pandas.pydata.org/pandas-docs/stable/user_guide/indexing.html#returning-a-view-versus-a-copy\n",
      "  cal_sales_monthly['month_begin_dt'] = cal_sales_monthly.apply(\n",
      "/Users/kuldeep/PycharmProjects/etl/sagemaker-jobs/src/scripts/experiments/../../../../zeno_etl_libs/utils/ipc/data_prep.py:144: SettingWithCopyWarning: \n",
      "A value is trying to be set on a copy of a slice from a DataFrame.\n",
      "Try using .loc[row_indexer,col_indexer] = value instead\n",
      "\n",
      "See the caveats in the documentation: https://pandas.pydata.org/pandas-docs/stable/user_guide/indexing.html#returning-a-view-versus-a-copy\n",
      "  cal_sales_weekly['key'] = 1\n",
      "/Users/kuldeep/PycharmProjects/etl/sagemaker-jobs/src/scripts/experiments/../../../../zeno_etl_libs/utils/ipc/data_prep.py:154: SettingWithCopyWarning: \n",
      "A value is trying to be set on a copy of a slice from a DataFrame.\n",
      "Try using .loc[row_indexer,col_indexer] = value instead\n",
      "\n",
      "See the caveats in the documentation: https://pandas.pydata.org/pandas-docs/stable/user_guide/indexing.html#returning-a-view-versus-a-copy\n",
      "  cal_sales_monthly['key'] = 1\n"
     ]
    },
    {
     "name": "stdout",
     "output_type": "stream",
     "text": [
      "Distinct no of drugs 6\n",
      "Distinct dates 1134\n",
      "DF shape 6804\n",
      "2017-05-13\n",
      "6\n",
      "6\n",
      "161   2022-05-02\n",
      "160   2022-04-25\n",
      "159   2022-04-18\n",
      "158   2022-04-11\n",
      "Name: date, dtype: datetime64[ns]\n",
      "6\n",
      "6\n",
      "72\n",
      "6\n",
      "  bucket_abc bucket_xyz  drug_id  net_sales  avg_sales_per_drug  sales_cov  \\\n",
      "0          A          Y        1  52.166667           52.166667   0.380749   \n",
      "1          B          X        1  29.333333           29.333333   0.294101   \n",
      "2          B          Y        1   6.000000            6.000000   0.846860   \n",
      "3          B          Z        1   5.000000            5.000000   1.187817   \n",
      "4          C          Y        1   2.750000            2.750000   0.761587   \n",
      "5          C          Z        1   1.250000            1.250000   1.411640   \n",
      "\n",
      "   net_sales_frac  drug_frac  \n",
      "0           54.06      16.67  \n",
      "1           30.40      16.67  \n",
      "2            6.22      16.67  \n",
      "3            5.18      16.67  \n",
      "4            2.85      16.67  \n",
      "5            1.30      16.67  \n"
     ]
    },
    {
     "name": "stderr",
     "output_type": "stream",
     "text": [
      "[Parallel(n_jobs=4)]: Using backend LokyBackend with 4 concurrent workers.\n"
     ]
    },
    {
     "name": "stdout",
     "output_type": "stream",
     "text": [
      "Metal device set to: Apple M1\n",
      "Metal device set to: Apple M1\n"
     ]
    },
    {
     "name": "stderr",
     "output_type": "stream",
     "text": [
      "2022-05-09 10:44:47.808607: I tensorflow/core/common_runtime/pluggable_device/pluggable_device_factory.cc:305] Could not identify NUMA node of platform GPU ID 0, defaulting to 0. Your kernel may not have been built with NUMA support.\n",
      "2022-05-09 10:44:47.808607: I tensorflow/core/common_runtime/pluggable_device/pluggable_device_factory.cc:305] Could not identify NUMA node of platform GPU ID 0, defaulting to 0. Your kernel may not have been built with NUMA support.\n",
      "2022-05-09 10:44:47.808746: I tensorflow/core/common_runtime/pluggable_device/pluggable_device_factory.cc:271] Created TensorFlow device (/job:localhost/replica:0/task:0/device:GPU:0 with 0 MB memory) -> physical PluggableDevice (device: 0, name: METAL, pci bus id: <undefined>)\n",
      "2022-05-09 10:44:47.808755: I tensorflow/core/common_runtime/pluggable_device/pluggable_device_factory.cc:271] Created TensorFlow device (/job:localhost/replica:0/task:0/device:GPU:0 with 0 MB memory) -> physical PluggableDevice (device: 0, name: METAL, pci bus id: <undefined>)\n",
      "2022-05-09 10:44:48.129087: W tensorflow/core/platform/profile_utils/cpu_utils.cc:128] Failed to get CPU frequency: 0 Hz\n",
      "2022-05-09 10:44:48.129087: W tensorflow/core/platform/profile_utils/cpu_utils.cc:128] Failed to get CPU frequency: 0 Hz\n",
      "2022-05-09 10:44:49.160836: I tensorflow/core/grappler/optimizers/custom_graph_optimizer_registry.cc:113] Plugin optimizer for device_type GPU is enabled.\n",
      "2022-05-09 10:44:49.163709: I tensorflow/core/grappler/optimizers/custom_graph_optimizer_registry.cc:113] Plugin optimizer for device_type GPU is enabled.\n",
      "2022-05-09 10:44:49.339384: I tensorflow/core/grappler/optimizers/custom_graph_optimizer_registry.cc:113] Plugin optimizer for device_type GPU is enabled.\n",
      "2022-05-09 10:44:49.340102: I tensorflow/core/grappler/optimizers/custom_graph_optimizer_registry.cc:113] Plugin optimizer for device_type GPU is enabled.\n",
      "2022-05-09 10:44:49.451997: I tensorflow/core/grappler/optimizers/custom_graph_optimizer_registry.cc:113] Plugin optimizer for device_type GPU is enabled.\n",
      "2022-05-09 10:44:49.457300: I tensorflow/core/grappler/optimizers/custom_graph_optimizer_registry.cc:113] Plugin optimizer for device_type GPU is enabled.\n",
      "2022-05-09 10:50:26.020234: I tensorflow/core/grappler/optimizers/custom_graph_optimizer_registry.cc:113] Plugin optimizer for device_type GPU is enabled.\n",
      "2022-05-09 10:50:26.081932: I tensorflow/core/grappler/optimizers/custom_graph_optimizer_registry.cc:113] Plugin optimizer for device_type GPU is enabled.\n"
     ]
    },
    {
     "name": "stdout",
     "output_type": "stream",
     "text": [
      "Run time  343.4710421562195\n",
      "Run time  0.015439987182617188\n"
     ]
    },
    {
     "name": "stderr",
     "output_type": "stream",
     "text": [
      "2022-05-09 10:50:26.336802: I tensorflow/core/grappler/optimizers/custom_graph_optimizer_registry.cc:113] Plugin optimizer for device_type GPU is enabled.\n",
      "2022-05-09 10:50:26.404737: I tensorflow/core/grappler/optimizers/custom_graph_optimizer_registry.cc:113] Plugin optimizer for device_type GPU is enabled.\n",
      "[Parallel(n_jobs=4)]: Done   2 out of   2 | elapsed:  5.7min remaining:    0.0s\n",
      "[Parallel(n_jobs=4)]: Done   2 out of   2 | elapsed:  5.7min finished\n",
      "[Parallel(n_jobs=4)]: Using backend LokyBackend with 4 concurrent workers.\n"
     ]
    },
    {
     "name": "stdout",
     "output_type": "stream",
     "text": [
      "\n",
      "systemMemory: 8.00 GB\n",
      "maxCacheSize: 2.67 GB\n",
      "\n",
      "Initial log joint probability = -3.44444\n",
      "    Iter      log prob        ||dx||      ||grad||       alpha      alpha0  # evals  Notes \n",
      "      99       255.301   5.22411e-05       52.2026       4.012      0.4012      120   \n",
      "    Iter      log prob        ||dx||      ||grad||       alpha      alpha0  # evals  Notes \n",
      "     134       255.302   2.78558e-08       48.6014           1           1      164   \n",
      "Optimization terminated normally: \n",
      "  Convergence detected: relative gradient magnitude is below tolerance\n",
      "\n",
      "systemMemory: 8.00 GB\n",
      "maxCacheSize: 2.67 GB\n",
      "\n",
      "Initial log joint probability = -10.375\n",
      "    Iter      log prob        ||dx||      ||grad||       alpha      alpha0  # evals  Notes \n",
      "      99       137.791   2.53148e-05       57.0517           1           1      121   \n",
      "    Iter      log prob        ||dx||      ||grad||       alpha      alpha0  # evals  Notes \n",
      "     133       137.792   7.52277e-09       60.3339      0.5674      0.5674      163   \n",
      "Optimization terminated normally: \n",
      "  Convergence detected: absolute parameter change was below tolerance\n"
     ]
    },
    {
     "name": "stderr",
     "output_type": "stream",
     "text": [
      "[Parallel(n_jobs=4)]: Done   2 out of   2 | elapsed:    3.7s remaining:    0.0s\n",
      "[Parallel(n_jobs=4)]: Done   2 out of   2 | elapsed:    3.7s finished\n"
     ]
    },
    {
     "name": "stdout",
     "output_type": "stream",
     "text": [
      "Run time  3.7527899742126465\n",
      "6\n",
      "AX 0.5\n",
      "AY 0.5\n",
      "AZ 0.5\n",
      "BX 0.5\n",
      "BY 0.6\n",
      "BZ 0.6\n",
      "CX 0.5\n",
      "CY 0.6\n",
      "CZ 0.6\n",
      "2022-01-31 2022-05-02 00:00:00\n"
     ]
    },
    {
     "name": "stderr",
     "output_type": "stream",
     "text": [
      "/Users/kuldeep/miniforge3/envs/mf-ro-p38/lib/python3.8/site-packages/pandas/io/sql.py:761: UserWarning: pandas only support SQLAlchemy connectable(engine/connection) ordatabase string URI or sqlite3 DBAPI2 connectionother DBAPI2 objects are not tested, please consider using SQLAlchemy\n",
      "  warnings.warn(\n"
     ]
    },
    {
     "name": "stdout",
     "output_type": "stream",
     "text": [
      "PostGre DB connection closed successfully!\n",
      "4.37 1.8\n",
      "2022-05-09 10:50:34,007 - root - INFO - Getting last 4 week data for base heuristic from2022-04-11to2022-05-09\n",
      "getting data for store 2\n",
      "2022-05-09 10:50:48,617 - root - INFO - Out of total line items 6\n",
      "Decreased: Total 4\n",
      "Decreased: Generic 2\n",
      "Decreased: Ethical 2\n",
      "Increased: Total 0\n",
      "Increased: Generic 0\n",
      "Increased: Ethical 0\n",
      "6\n",
      "  bucket  max_value\n",
      "0     AY   141.9438\n",
      "1     BX   931.9930\n",
      "2     BY    24.0340\n",
      "3     BZ   140.6320\n",
      "4     CY   572.1100\n",
      "5     CZ   917.8892\n",
      "5.90625\n",
      "2728.6020000000003\n",
      "corrections block skipped :\n",
      "Cases with 0 max: 0 for drug_type:generic \n",
      "Cases with 1 max: 1 for drug_type:generic \n",
      "Cases with 2 max: 0 for drug_type:generic \n",
      "Cases with 3 max: 0 for drug_type:generic \n",
      "Cases with 0 max: 0 for drug_type:ethical \n",
      "Cases with 1 max: 0 for drug_type:ethical \n",
      "Cases with 2 max: 1 for drug_type:ethical \n",
      "Cases with 3 max: 0 for drug_type:ethical \n",
      "Cases with 0 max: 0 for drug_type:others \n",
      "Cases with 1 max: 0 for drug_type:others \n",
      "Cases with 2 max: 0 for drug_type:others \n",
      "Cases with 3 max: 0 for drug_type:others \n",
      "SS to be changed due to WH  0\n",
      "WARNING: SKU count dont match after consolidation\n",
      "Reduction in max quantity: 0.0%\n",
      "2022-05-09 10:51:09,173 - root - INFO - Getting SKU list\n",
      "2022-05-09 10:51:13,846 - root - INFO - GoodAid SKU list 143\n",
      "2022-05-09 10:51:19,495 - root - INFO - GoodAid comp Top SKU list 143\n",
      "2022-05-09 10:51:24,319 - root - INFO - GoodAid comp rest SKU list 1313\n",
      "2022-05-09 10:51:24,320 - root - INFO - Aggregating composition level SS\n",
      "2022-05-09 10:51:24,385 - root - INFO - Updating safety stock\n",
      "Reduction in max quantity: 0.0%\n"
     ]
    },
    {
     "name": "stderr",
     "output_type": "stream",
     "text": [
      "/Users/kuldeep/PycharmProjects/etl/sagemaker-jobs/src/scripts/experiments/../../../../zeno_etl_libs/utils/ipc/goodaid_substitution.py:109: FutureWarning: Indexing with multiple keys (implicitly converted to a tuple of keys) will be deprecated, use a list instead.\n",
      "  ga_composition_ss_agg = ga_composition_ss.groupby(\n",
      "/Users/kuldeep/PycharmProjects/etl/sagemaker-jobs/src/scripts/experiments/../../../../zeno_etl_libs/utils/ipc/goodaid_substitution.py:126: FutureWarning: The frame.append method is deprecated and will be removed from pandas in a future version. Use pandas.concat instead.\n",
      "  good_aid_ss_log = good_aid_ss_log.append(prev_rest_sku_ss)\n",
      "/Users/kuldeep/PycharmProjects/etl/sagemaker-jobs/src/scripts/experiments/../../../../zeno_etl_libs/utils/ipc/goodaid_substitution.py:140: FutureWarning: The frame.append method is deprecated and will be removed from pandas in a future version. Use pandas.concat instead.\n",
      "  good_aid_ss_log = good_aid_ss_log.append(prev_top_sku_ss)\n",
      "/Users/kuldeep/PycharmProjects/etl/sagemaker-jobs/src/scripts/experiments/../../../../zeno_etl_libs/utils/ipc/goodaid_substitution.py:154: FutureWarning: The frame.append method is deprecated and will be removed from pandas in a future version. Use pandas.concat instead.\n",
      "  good_aid_ss_log = good_aid_ss_log.append(prev_ga_sku_ss)\n"
     ]
    },
    {
     "name": "stdout",
     "output_type": "stream",
     "text": [
      "2022-05-09 10:51:34,728 - root - INFO - Writing table to RS-DB\n"
     ]
    },
    {
     "name": "stderr",
     "output_type": "stream",
     "text": [
      "/var/folders/70/_0ct3h_106d2kq5hzmzk4f9w0000gn/T/ipykernel_8744/3803816214.py:70: FutureWarning: The frame.append method is deprecated and will be removed from pandas in a future version. Use pandas.concat instead.\n",
      "  order_value_all = order_value_all.append(order_value, ignore_index=True)\n"
     ]
    },
    {
     "name": "stdout",
     "output_type": "stream",
     "text": [
      "2022-05-09 10:51:35,161 - root - INFO - Writing to table: ipc-forecast\n",
      "S3 object(uri: s3://aws-glue-temporary-921939243643-ap-south-1/temp_1652073695162.csv) delete response: {'ResponseMetadata': {'RequestId': '0HFD63S8856Y6E6T', 'HostId': 'g3izOEahDTV6bnF/R/jjEsttCx6zK36NtYR6oTkbEgX4zVuL4Y5QbmTlnPIHgDOtN+bh5jSBKJQ=', 'HTTPStatusCode': 204, 'HTTPHeaders': {'x-amz-id-2': 'g3izOEahDTV6bnF/R/jjEsttCx6zK36NtYR6oTkbEgX4zVuL4Y5QbmTlnPIHgDOtN+bh5jSBKJQ=', 'x-amz-request-id': '0HFD63S8856Y6E6T', 'date': 'Mon, 09 May 2022 05:21:49 GMT', 'server': 'AmazonS3'}, 'RetryAttempts': 0}}\n",
      "2022-05-09 10:51:49,151 - root - INFO - Writing to table: ipc-safety-stock\n",
      "S3 object(uri: s3://aws-glue-temporary-921939243643-ap-south-1/temp_1652073709152.csv) delete response: {'ResponseMetadata': {'RequestId': 'VR3ZPB6R4RN8D7TR', 'HostId': 'SPoOwlSGBDhllN6kQvHe2u4Hy7NJyBwO0vAuuRTfDBN6v4E1A9e+81yv8jwGcMWtCZCZvZqI8ZY=', 'HTTPStatusCode': 204, 'HTTPHeaders': {'x-amz-id-2': 'SPoOwlSGBDhllN6kQvHe2u4Hy7NJyBwO0vAuuRTfDBN6v4E1A9e+81yv8jwGcMWtCZCZvZqI8ZY=', 'x-amz-request-id': 'VR3ZPB6R4RN8D7TR', 'date': 'Mon, 09 May 2022 05:22:08 GMT', 'server': 'AmazonS3'}, 'RetryAttempts': 0}}\n",
      "2022-05-09 10:52:08,012 - root - INFO - Writing to table: ipc-abc-xyz-class\n",
      "S3 object(uri: s3://aws-glue-temporary-921939243643-ap-south-1/temp_1652073728013.csv) delete response: {'ResponseMetadata': {'RequestId': 'GDSBGPM453STBE6X', 'HostId': 'D2xqVWvcOQ7M+yqtQBd5qM45hT/xj+Go1B5e9tsBQaMkB4HQUC6J2Wv8E4IxXSgtGl4pTWHJpc0=', 'HTTPStatusCode': 204, 'HTTPHeaders': {'x-amz-id-2': 'D2xqVWvcOQ7M+yqtQBd5qM45hT/xj+Go1B5e9tsBQaMkB4HQUC6J2Wv8E4IxXSgtGl4pTWHJpc0=', 'x-amz-request-id': 'GDSBGPM453STBE6X', 'date': 'Mon, 09 May 2022 05:22:24 GMT', 'server': 'AmazonS3'}, 'RetryAttempts': 0}}\n",
      "2022-05-09 10:52:23,601 - root - INFO - Updating new SS to DrugOrderInfo-Data\n",
      "2022-05-09 10:52:37,155 - root - INFO - Mysql upload for store 2\n",
      "2022-05-09 10:52:37,156 - root - INFO - New entries 0\n",
      "2022-05-09 10:52:37,187 - root - INFO - SS to update only for 4970\n"
     ]
    },
    {
     "name": "stderr",
     "output_type": "stream",
     "text": [
      "/Users/kuldeep/PycharmProjects/etl/sagemaker-jobs/src/scripts/experiments/../../../../zeno_etl_libs/utils/ipc/doid_update_ss.py:57: FutureWarning: The frame.append method is deprecated and will be removed from pandas in a future version. Use pandas.concat instead.\n",
      "  new_drug_entries = new_drug_entries.append(\n"
     ]
    },
    {
     "name": "stdout",
     "output_type": "stream",
     "text": [
      "2022-05-09 10:52:50,570 - root - INFO - Entries updated successfully: 0\n",
      "2022-05-09 10:52:50,572 - root - INFO - Entries not updated successfully: 4970\n",
      "2022-05-09 10:52:50,627 - root - INFO - All writes to RS-DB completed!\n",
      "2022-05-09 10:52:50,628 - root - INFO - IPC code execution status: Success\n"
     ]
    },
    {
     "name": "stderr",
     "output_type": "stream",
     "text": [
      "/Users/kuldeep/PycharmProjects/etl/sagemaker-jobs/src/scripts/experiments/../../../../zeno_etl_libs/utils/ipc/doid_update_ss.py:111: FutureWarning: The frame.append method is deprecated and will be removed from pandas in a future version. Use pandas.concat instead.\n",
      "  missed_entries = missed_entries.append(\n",
      "/var/folders/70/_0ct3h_106d2kq5hzmzk4f9w0000gn/T/ipykernel_8744/3803816214.py:151: FutureWarning: The frame.append method is deprecated and will be removed from pandas in a future version. Use pandas.concat instead.\n",
      "  new_drug_entries = new_drug_entries.append(new_drug_entries_str)\n",
      "/var/folders/70/_0ct3h_106d2kq5hzmzk4f9w0000gn/T/ipykernel_8744/3803816214.py:152: FutureWarning: The frame.append method is deprecated and will be removed from pandas in a future version. Use pandas.concat instead.\n",
      "  missed_entries = missed_entries.append(missed_entries_str)\n"
     ]
    }
   ],
   "source": [
    "\"\"\" calling the main function \"\"\"\n",
    "order_value_all, new_drug_entries, \\\n",
    "    missed_entries = main(\n",
    "        debug_mode, reset_stores, reset_date, type_list, reset_store_ops,\n",
    "        goodaid_ss_flag, ga_inv_weight, rest_inv_weight, top_inv_weight,\n",
    "        chronic_max_flag, wh_gen_consolidation, v5_active_flag,\n",
    "        v6_active_flag, v6_type_list, v6_ptr_cut_off, v3_active_flag,\n",
    "        omit_npi, corrections_selling_probability_cutoff,\n",
    "        corrections_cumulative_probability_cutoff, drug_type_list_v4,\n",
    "        rs_db_read, rs_db_write, read_schema, write_schema, logger)"
   ]
  },
  {
   "cell_type": "code",
   "execution_count": 21,
   "id": "45c0fbd8-ad5c-4402-9770-4093b23af05b",
   "metadata": {},
   "outputs": [
    {
     "name": "stdout",
     "output_type": "stream",
     "text": [
      "Redshift DB connection closed successfully.\n",
      "Redshift DB connection closed successfully.\n"
     ]
    }
   ],
   "source": [
    "# close RS connection\n",
    "rs_db_read.close_connection()\n",
    "rs_db_write.close_connection()"
   ]
  },
  {
   "cell_type": "code",
   "execution_count": 22,
   "id": "2b0fd06a-c09a-43f1-b41a-756cc2a678dd",
   "metadata": {},
   "outputs": [
    {
     "name": "stdout",
     "output_type": "stream",
     "text": [
      "2022-05-09 10:52:50,639 - root - INFO - Sending email attachments..\n"
     ]
    },
    {
     "name": "stderr",
     "output_type": "stream",
     "text": [
      "/Users/kuldeep/PycharmProjects/etl/sagemaker-jobs/src/scripts/experiments/../../../../zeno_etl_libs/utils/ipc/forecasting_modules/lstm.py:83: SettingWithCopyWarning: \n",
      "A value is trying to be set on a copy of a slice from a DataFrame.\n",
      "Try using .loc[row_indexer,col_indexer] = value instead\n",
      "\n",
      "See the caveats in the documentation: https://pandas.pydata.org/pandas-docs/stable/user_guide/indexing.html#returning-a-view-versus-a-copy\n",
      "  supervised_df.iloc[0:-n_test]['sample_flag'] = 'train'\n",
      "/Users/kuldeep/PycharmProjects/etl/sagemaker-jobs/src/scripts/experiments/../../../../zeno_etl_libs/utils/ipc/forecasting_modules/lstm.py:84: SettingWithCopyWarning: \n",
      "A value is trying to be set on a copy of a slice from a DataFrame.\n",
      "Try using .loc[row_indexer,col_indexer] = value instead\n",
      "\n",
      "See the caveats in the documentation: https://pandas.pydata.org/pandas-docs/stable/user_guide/indexing.html#returning-a-view-versus-a-copy\n",
      "  supervised_df.iloc[-n_test:]['sample_flag'] = 'validation'\n",
      "/Users/kuldeep/PycharmProjects/etl/sagemaker-jobs/src/scripts/experiments/../../../../zeno_etl_libs/utils/ipc/forecasting_modules/lstm.py:102: SettingWithCopyWarning: \n",
      "A value is trying to be set on a copy of a slice from a DataFrame.\n",
      "Try using .loc[row_indexer,col_indexer] = value instead\n",
      "\n",
      "See the caveats in the documentation: https://pandas.pydata.org/pandas-docs/stable/user_guide/indexing.html#returning-a-view-versus-a-copy\n",
      "  supervised_scaled_df.iloc[0:-n_test]['sample_flag'] = 'train'\n",
      "/Users/kuldeep/PycharmProjects/etl/sagemaker-jobs/src/scripts/experiments/../../../../zeno_etl_libs/utils/ipc/forecasting_modules/lstm.py:103: SettingWithCopyWarning: \n",
      "A value is trying to be set on a copy of a slice from a DataFrame.\n",
      "Try using .loc[row_indexer,col_indexer] = value instead\n",
      "\n",
      "See the caveats in the documentation: https://pandas.pydata.org/pandas-docs/stable/user_guide/indexing.html#returning-a-view-versus-a-copy\n",
      "  supervised_scaled_df.iloc[-n_test:]['sample_flag'] = 'validation'\n",
      "/Users/kuldeep/PycharmProjects/etl/sagemaker-jobs/src/scripts/experiments/../../../../zeno_etl_libs/utils/ipc/forecasting_modules/lstm.py:83: SettingWithCopyWarning: \n",
      "A value is trying to be set on a copy of a slice from a DataFrame.\n",
      "Try using .loc[row_indexer,col_indexer] = value instead\n",
      "\n",
      "See the caveats in the documentation: https://pandas.pydata.org/pandas-docs/stable/user_guide/indexing.html#returning-a-view-versus-a-copy\n",
      "  supervised_df.iloc[0:-n_test]['sample_flag'] = 'train'\n",
      "/Users/kuldeep/PycharmProjects/etl/sagemaker-jobs/src/scripts/experiments/../../../../zeno_etl_libs/utils/ipc/forecasting_modules/lstm.py:84: SettingWithCopyWarning: \n",
      "A value is trying to be set on a copy of a slice from a DataFrame.\n",
      "Try using .loc[row_indexer,col_indexer] = value instead\n",
      "\n",
      "See the caveats in the documentation: https://pandas.pydata.org/pandas-docs/stable/user_guide/indexing.html#returning-a-view-versus-a-copy\n",
      "  supervised_df.iloc[-n_test:]['sample_flag'] = 'validation'\n",
      "/Users/kuldeep/PycharmProjects/etl/sagemaker-jobs/src/scripts/experiments/../../../../zeno_etl_libs/utils/ipc/forecasting_modules/lstm.py:102: SettingWithCopyWarning: \n",
      "A value is trying to be set on a copy of a slice from a DataFrame.\n",
      "Try using .loc[row_indexer,col_indexer] = value instead\n",
      "\n",
      "See the caveats in the documentation: https://pandas.pydata.org/pandas-docs/stable/user_guide/indexing.html#returning-a-view-versus-a-copy\n",
      "  supervised_scaled_df.iloc[0:-n_test]['sample_flag'] = 'train'\n",
      "/Users/kuldeep/PycharmProjects/etl/sagemaker-jobs/src/scripts/experiments/../../../../zeno_etl_libs/utils/ipc/forecasting_modules/lstm.py:103: SettingWithCopyWarning: \n",
      "A value is trying to be set on a copy of a slice from a DataFrame.\n",
      "Try using .loc[row_indexer,col_indexer] = value instead\n",
      "\n",
      "See the caveats in the documentation: https://pandas.pydata.org/pandas-docs/stable/user_guide/indexing.html#returning-a-view-versus-a-copy\n",
      "  supervised_scaled_df.iloc[-n_test:]['sample_flag'] = 'validation'\n",
      "/Users/kuldeep/miniforge3/envs/mf-ro-p38/lib/python3.8/site-packages/prophet/forecaster.py:896: FutureWarning: The frame.append method is deprecated and will be removed from pandas in a future version. Use pandas.concat instead.\n",
      "  components = components.append(new_comp)\n",
      "/Users/kuldeep/miniforge3/envs/mf-ro-p38/lib/python3.8/site-packages/prophet/forecaster.py:896: FutureWarning: The frame.append method is deprecated and will be removed from pandas in a future version. Use pandas.concat instead.\n",
      "  components = components.append(new_comp)\n",
      "/Users/kuldeep/miniforge3/envs/mf-ro-p38/lib/python3.8/site-packages/prophet/forecaster.py:896: FutureWarning: The frame.append method is deprecated and will be removed from pandas in a future version. Use pandas.concat instead.\n",
      "  components = components.append(new_comp)\n",
      "/Users/kuldeep/PycharmProjects/etl/sagemaker-jobs/src/scripts/experiments/../../../../zeno_etl_libs/utils/ipc/forecasting_modules/lstm.py:83: SettingWithCopyWarning: \n",
      "A value is trying to be set on a copy of a slice from a DataFrame.\n",
      "Try using .loc[row_indexer,col_indexer] = value instead\n",
      "\n",
      "See the caveats in the documentation: https://pandas.pydata.org/pandas-docs/stable/user_guide/indexing.html#returning-a-view-versus-a-copy\n",
      "  supervised_df.iloc[0:-n_test]['sample_flag'] = 'train'\n",
      "/Users/kuldeep/PycharmProjects/etl/sagemaker-jobs/src/scripts/experiments/../../../../zeno_etl_libs/utils/ipc/forecasting_modules/lstm.py:84: SettingWithCopyWarning: \n",
      "A value is trying to be set on a copy of a slice from a DataFrame.\n",
      "Try using .loc[row_indexer,col_indexer] = value instead\n",
      "\n",
      "See the caveats in the documentation: https://pandas.pydata.org/pandas-docs/stable/user_guide/indexing.html#returning-a-view-versus-a-copy\n",
      "  supervised_df.iloc[-n_test:]['sample_flag'] = 'validation'\n",
      "/Users/kuldeep/PycharmProjects/etl/sagemaker-jobs/src/scripts/experiments/../../../../zeno_etl_libs/utils/ipc/forecasting_modules/lstm.py:102: SettingWithCopyWarning: \n",
      "A value is trying to be set on a copy of a slice from a DataFrame.\n",
      "Try using .loc[row_indexer,col_indexer] = value instead\n",
      "\n",
      "See the caveats in the documentation: https://pandas.pydata.org/pandas-docs/stable/user_guide/indexing.html#returning-a-view-versus-a-copy\n",
      "  supervised_scaled_df.iloc[0:-n_test]['sample_flag'] = 'train'\n",
      "/Users/kuldeep/PycharmProjects/etl/sagemaker-jobs/src/scripts/experiments/../../../../zeno_etl_libs/utils/ipc/forecasting_modules/lstm.py:103: SettingWithCopyWarning: \n",
      "A value is trying to be set on a copy of a slice from a DataFrame.\n",
      "Try using .loc[row_indexer,col_indexer] = value instead\n",
      "\n",
      "See the caveats in the documentation: https://pandas.pydata.org/pandas-docs/stable/user_guide/indexing.html#returning-a-view-versus-a-copy\n",
      "  supervised_scaled_df.iloc[-n_test:]['sample_flag'] = 'validation'\n",
      "/Users/kuldeep/PycharmProjects/etl/sagemaker-jobs/src/scripts/experiments/../../../../zeno_etl_libs/utils/ipc/forecasting_modules/lstm.py:83: SettingWithCopyWarning: \n",
      "A value is trying to be set on a copy of a slice from a DataFrame.\n",
      "Try using .loc[row_indexer,col_indexer] = value instead\n",
      "\n",
      "See the caveats in the documentation: https://pandas.pydata.org/pandas-docs/stable/user_guide/indexing.html#returning-a-view-versus-a-copy\n",
      "  supervised_df.iloc[0:-n_test]['sample_flag'] = 'train'\n",
      "/Users/kuldeep/PycharmProjects/etl/sagemaker-jobs/src/scripts/experiments/../../../../zeno_etl_libs/utils/ipc/forecasting_modules/lstm.py:84: SettingWithCopyWarning: \n",
      "A value is trying to be set on a copy of a slice from a DataFrame.\n",
      "Try using .loc[row_indexer,col_indexer] = value instead\n",
      "\n",
      "See the caveats in the documentation: https://pandas.pydata.org/pandas-docs/stable/user_guide/indexing.html#returning-a-view-versus-a-copy\n",
      "  supervised_df.iloc[-n_test:]['sample_flag'] = 'validation'\n",
      "/Users/kuldeep/PycharmProjects/etl/sagemaker-jobs/src/scripts/experiments/../../../../zeno_etl_libs/utils/ipc/forecasting_modules/lstm.py:102: SettingWithCopyWarning: \n",
      "A value is trying to be set on a copy of a slice from a DataFrame.\n",
      "Try using .loc[row_indexer,col_indexer] = value instead\n",
      "\n",
      "See the caveats in the documentation: https://pandas.pydata.org/pandas-docs/stable/user_guide/indexing.html#returning-a-view-versus-a-copy\n",
      "  supervised_scaled_df.iloc[0:-n_test]['sample_flag'] = 'train'\n",
      "/Users/kuldeep/PycharmProjects/etl/sagemaker-jobs/src/scripts/experiments/../../../../zeno_etl_libs/utils/ipc/forecasting_modules/lstm.py:103: SettingWithCopyWarning: \n",
      "A value is trying to be set on a copy of a slice from a DataFrame.\n",
      "Try using .loc[row_indexer,col_indexer] = value instead\n",
      "\n",
      "See the caveats in the documentation: https://pandas.pydata.org/pandas-docs/stable/user_guide/indexing.html#returning-a-view-versus-a-copy\n",
      "  supervised_scaled_df.iloc[-n_test:]['sample_flag'] = 'validation'\n",
      "/Users/kuldeep/miniforge3/envs/mf-ro-p38/lib/python3.8/site-packages/prophet/forecaster.py:896: FutureWarning: The frame.append method is deprecated and will be removed from pandas in a future version. Use pandas.concat instead.\n",
      "  components = components.append(new_comp)\n",
      "/Users/kuldeep/miniforge3/envs/mf-ro-p38/lib/python3.8/site-packages/prophet/forecaster.py:896: FutureWarning: The frame.append method is deprecated and will be removed from pandas in a future version. Use pandas.concat instead.\n",
      "  components = components.append(new_comp)\n",
      "/Users/kuldeep/miniforge3/envs/mf-ro-p38/lib/python3.8/site-packages/prophet/forecaster.py:896: FutureWarning: The frame.append method is deprecated and will be removed from pandas in a future version. Use pandas.concat instead.\n",
      "  components = components.append(new_comp)\n"
     ]
    }
   ],
   "source": [
    "# SENT EMAIL ATTACHMENTS\n",
    "logger.info(\"Sending email attachments..\")\n",
    "# to write .............."
   ]
  },
  {
   "cell_type": "code",
   "execution_count": null,
   "id": "e5b846cf-9495-49ff-b74e-ce9c75f2d0c2",
   "metadata": {},
   "outputs": [],
   "source": []
  }
 ],
 "metadata": {
  "kernelspec": {
   "display_name": "Python 3 (ipykernel)",
   "language": "python",
   "name": "python3"
  },
  "language_info": {
   "codemirror_mode": {
    "name": "ipython",
    "version": 3
   },
   "file_extension": ".py",
   "mimetype": "text/x-python",
   "name": "python",
   "nbconvert_exporter": "python",
   "pygments_lexer": "ipython3",
   "version": "3.8.13"
  }
 },
 "nbformat": 4,
 "nbformat_minor": 5
}
