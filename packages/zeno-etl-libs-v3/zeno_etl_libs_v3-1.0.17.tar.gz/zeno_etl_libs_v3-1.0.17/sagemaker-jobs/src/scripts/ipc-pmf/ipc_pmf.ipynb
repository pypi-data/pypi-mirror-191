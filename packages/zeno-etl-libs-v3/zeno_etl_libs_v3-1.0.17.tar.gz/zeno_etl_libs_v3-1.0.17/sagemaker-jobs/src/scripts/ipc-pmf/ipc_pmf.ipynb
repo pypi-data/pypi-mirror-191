{
 "cells": [
  {
   "cell_type": "code",
   "execution_count": null,
   "id": "d7ef0c0f-37a0-403c-9c2c-1c5817eb70f0",
   "metadata": {},
   "outputs": [],
   "source": [
    "!pip install zeno_etl_libs_v3==1.0.2"
   ]
  },
  {
   "cell_type": "code",
   "execution_count": null,
   "id": "270a33e4-9b8d-4273-a43e-11aadf0e9b87",
   "metadata": {},
   "outputs": [],
   "source": [
    "!pip install openpyxl"
   ]
  },
  {
   "cell_type": "code",
   "execution_count": null,
   "id": "b1fc3f35-d450-43fa-9010-a0f15ef8ff38",
   "metadata": {},
   "outputs": [],
   "source": [
    "\"\"\"IPC combination level forecast for PMF stores\"\"\"\n",
    "\n",
    "import os\n",
    "import sys\n",
    "import argparse\n",
    "\n",
    "import pandas as pd\n",
    "import datetime as dt\n",
    "from dateutil.tz import gettz\n",
    "from ast import literal_eval\n",
    "\n",
    "sys.path.append('../../../..')\n",
    "\n",
    "from zeno_etl_libs.helper.aws.s3 import S3\n",
    "from zeno_etl_libs.db.db import DB\n",
    "from zeno_etl_libs.logger import get_logger\n",
    "from zeno_etl_libs.helper.email.email import Email\n",
    "from zeno_etl_libs.helper import helper\n",
    "\n",
    "from zeno_etl_libs.utils.ipc_pmf.ipc_combination_fcst.forecast_main import ipc_comb_forecast\n",
    "from zeno_etl_libs.utils.ipc_pmf.ipc_drug_fcst.forecast_main import ipc_drug_forecast\n",
    "from zeno_etl_libs.utils.ipc_pmf.ipc_combination_fcst.fcst_mapping import fcst_comb_drug_map\n",
    "from zeno_etl_libs.utils.ipc_pmf.safety_stock import safety_stock_calc\n",
    "from zeno_etl_libs.utils.ipc_pmf.post_processing import post_processing\n",
    "from zeno_etl_libs.utils.ipc_pmf.heuristics.recency_corr import fcst_correction\n",
    "from zeno_etl_libs.utils.ipc.doid_update_ss import doid_update"
   ]
  },
  {
   "cell_type": "markdown",
   "id": "d6d8266d-1183-42d6-bf06-a99ccb129e1d",
   "metadata": {},
   "source": [
    "# Main Function"
   ]
  },
  {
   "cell_type": "code",
   "execution_count": null,
   "id": "278e1fec-c792-43d1-9035-d85d9a051b6e",
   "metadata": {},
   "outputs": [],
   "source": [
    "def main(debug_mode, reset_stores, reset_date, type_list_comb_lvl,\n",
    "         type_list_drug_lvl, v4_active_flag, drug_type_list_v4,\n",
    "         read_schema, rs_db_read, write_schema, rs_db_write, logger):\n",
    "\n",
    "    logger.info(f\"Debug Mode: {debug_mode}\")\n",
    "    status = 'Failed'\n",
    "\n",
    "    # Define empty variables if required in case of fail\n",
    "    safety_stock_df = pd.DataFrame()\n",
    "    df_one_one = pd.DataFrame()\n",
    "    df_one_many = pd.DataFrame()\n",
    "    df_one_none = pd.DataFrame()\n",
    "    df_none_one = pd.DataFrame()\n",
    "    new_drug_entries = pd.DataFrame()\n",
    "    missed_entries = pd.DataFrame()\n",
    "\n",
    "    try:\n",
    "        for store_id in reset_stores:\n",
    "            logger.info(f\"Running for store id: {store_id} and reset date: {reset_date}\")\n",
    "\n",
    "            type_list_comb_lvl_str = str(type_list_comb_lvl).replace('[', '(').replace(']', ')')\n",
    "            type_list_drug_lvl_str = str(type_list_drug_lvl).replace('[', '(').replace(']', ')')\n",
    "\n",
    "            # RUNNING IPC-COMBINATION FORECAST PIPELINE\n",
    "            logger.info(\"Combination Forecast Pipeline starts\")\n",
    "            fcst_df_comb_lvl, seg_df_comb_lvl, \\\n",
    "            comb_sales_latest_12w, comb_sales_4w_wtd = ipc_comb_forecast(\n",
    "                store_id, reset_date, type_list_comb_lvl_str, read_schema, rs_db_read,\n",
    "                logger)\n",
    "\n",
    "            # RUNNING IPC-DRUG FORECAST PIPELINE\n",
    "            logger.info(\"Drug Forecast Pipeline starts\")\n",
    "            fcst_df_drug_lvl, seg_df_drug_lvl, drug_sales_latest_12w,\\\n",
    "            drug_sales_latest_4w, drug_sales_4w_wtd = ipc_drug_forecast(\n",
    "                store_id, reset_date, type_list_drug_lvl_str, read_schema,\n",
    "                rs_db_read, logger)\n",
    "\n",
    "            # RECENCY CORRECTION IF FCST=0, FCST=AVG_DEMAND_28D (FROM LATEST 12W)\n",
    "            logger.info(\"Recency correction starts\")\n",
    "            fcst_df_comb_lvl, fcst_df_drug_lvl = fcst_correction(\n",
    "                fcst_df_comb_lvl, comb_sales_latest_12w, fcst_df_drug_lvl,\n",
    "                drug_sales_latest_12w, drug_sales_latest_4w, comb_sales_4w_wtd,\n",
    "                drug_sales_4w_wtd, logger)\n",
    "\n",
    "            # MAPPING FORECASTS TO ASSORTMENT DRUGS\n",
    "            logger.info(\"Allotting combination forecasts to drugs\")\n",
    "            df_fcst_final, df_one_one, df_one_many, \\\n",
    "            df_one_none, df_none_one = fcst_comb_drug_map(\n",
    "                store_id, reset_date, fcst_df_comb_lvl, fcst_df_drug_lvl,\n",
    "                type_list_comb_lvl, read_schema, rs_db_read, logger)\n",
    "\n",
    "            # SAFETY STOCK CALCULATIONS\n",
    "            logger.info(\"Safety Stock Calculations starts\")\n",
    "            safety_stock_df = safety_stock_calc(\n",
    "                df_fcst_final, store_id, reset_date,\n",
    "                v4_active_flag, drug_type_list_v4, drug_sales_latest_12w,\n",
    "                read_schema, rs_db_read, logger)\n",
    "\n",
    "            # POST PROCESSING SS DF\n",
    "            logger.info(\"Post Processing SS-DF starts\")\n",
    "            safety_stock_df, seg_df_comb_lvl, seg_df_drug_lvl = post_processing(\n",
    "                store_id, safety_stock_df, seg_df_comb_lvl, seg_df_drug_lvl,\n",
    "                read_schema, rs_db_read, logger)\n",
    "\n",
    "            # WRITING TO RS-DB\n",
    "            if debug_mode == 'N':\n",
    "                logger.info(\"Writing table to RS-DB\")\n",
    "                # writing table ipc-pmf-safety-stock\n",
    "                safety_stock_df['reset_date'] = dt.datetime.strptime(reset_date,\n",
    "                                                                     '%Y-%m-%d').date()\n",
    "                safety_stock_df['store_id'] = safety_stock_df['store_id'].astype(int)\n",
    "                safety_stock_df['drug_id'] = safety_stock_df['drug_id'].astype(int)\n",
    "                safety_stock_df['created-at'] = dt.datetime.now(\n",
    "                    tz=gettz('Asia/Kolkata')).strftime('%Y-%m-%d %H:%M:%S')\n",
    "                safety_stock_df['created-by'] = 'etl-automation'\n",
    "                safety_stock_df['updated-at'] = dt.datetime.now(\n",
    "                    tz=gettz('Asia/Kolkata')).strftime('%Y-%m-%d %H:%M:%S')\n",
    "                safety_stock_df['updated-by'] = 'etl-automation'\n",
    "                safety_stock_df.columns = [c.replace('_', '-') for c in\n",
    "                                           safety_stock_df.columns]\n",
    "                table_info = helper.get_table_info(db=rs_db_write,\n",
    "                                                   table_name='ipc-pmf-safety-stock',\n",
    "                                                   schema=write_schema)\n",
    "                columns = list(table_info['column_name'])\n",
    "                safety_stock_df = safety_stock_df[columns]  # required column order\n",
    "\n",
    "                logger.info(\"Writing to table: ipc-pmf-safety-stock\")\n",
    "                s3.write_df_to_db(df=safety_stock_df,\n",
    "                                  table_name='ipc-pmf-safety-stock',\n",
    "                                  db=rs_db_write, schema=write_schema)\n",
    "\n",
    "                # writing table ipc-pmf-comb-segmentation\n",
    "                seg_df_comb_lvl['reset_date'] = dt.datetime.strptime(reset_date,\n",
    "                                                            '%Y-%m-%d').date()\n",
    "                seg_df_comb_lvl['created-at'] = dt.datetime.now(\n",
    "                    tz=gettz('Asia/Kolkata')).strftime('%Y-%m-%d %H:%M:%S')\n",
    "                seg_df_comb_lvl['created-by'] = 'etl-automation'\n",
    "                seg_df_comb_lvl['updated-at'] = dt.datetime.now(\n",
    "                    tz=gettz('Asia/Kolkata')).strftime('%Y-%m-%d %H:%M:%S')\n",
    "                seg_df_comb_lvl['updated-by'] = 'etl-automation'\n",
    "                seg_df_comb_lvl.columns = [c.replace('_', '-') for c in seg_df_comb_lvl.columns]\n",
    "                table_info = helper.get_table_info(db=rs_db_write,\n",
    "                                                   table_name='ipc-pmf-comb-segmentation',\n",
    "                                                   schema=write_schema)\n",
    "                columns = list(table_info['column_name'])\n",
    "                seg_df_comb_lvl = seg_df_comb_lvl[columns]  # required column order\n",
    "\n",
    "                logger.info(\"Writing to table: ipc-pmf-comb-segmentation\")\n",
    "                s3.write_df_to_db(df=seg_df_comb_lvl,\n",
    "                                  table_name='ipc-pmf-comb-segmentation',\n",
    "                                  db=rs_db_write, schema=write_schema)\n",
    "\n",
    "                # writing table ipc-pmf-drug-segmentation\n",
    "                seg_df_drug_lvl['reset_date'] = dt.datetime.strptime(reset_date,\n",
    "                                                                     '%Y-%m-%d').date()\n",
    "                seg_df_drug_lvl['created-at'] = dt.datetime.now(\n",
    "                    tz=gettz('Asia/Kolkata')).strftime('%Y-%m-%d %H:%M:%S')\n",
    "                seg_df_drug_lvl['created-by'] = 'etl-automation'\n",
    "                seg_df_drug_lvl['updated-at'] = dt.datetime.now(\n",
    "                    tz=gettz('Asia/Kolkata')).strftime('%Y-%m-%d %H:%M:%S')\n",
    "                seg_df_drug_lvl['updated-by'] = 'etl-automation'\n",
    "                seg_df_drug_lvl.columns = [c.replace('_', '-') for c in\n",
    "                                           seg_df_drug_lvl.columns]\n",
    "                table_info = helper.get_table_info(db=rs_db_write,\n",
    "                                                   table_name='ipc-pmf-drug-segmentation',\n",
    "                                                   schema=write_schema)\n",
    "                columns = list(table_info['column_name'])\n",
    "                seg_df_drug_lvl = seg_df_drug_lvl[columns]  # required column order\n",
    "\n",
    "                logger.info(\"Writing to table: ipc-pmf-drug-segmentation\")\n",
    "                s3.write_df_to_db(df=seg_df_drug_lvl,\n",
    "                                  table_name='ipc-pmf-drug-segmentation',\n",
    "                                  db=rs_db_write, schema=write_schema)\n",
    "\n",
    "                logger.info(\"All writes to RS-DB completed!\")\n",
    "\n",
    "                # UPLOADING MIN, SS, MAX in DOI-D\n",
    "                logger.info(\"Updating new SS to DrugOrderInfo-Data\")\n",
    "                safety_stock_df.columns = [c.replace('-', '_') for c in\n",
    "                                           safety_stock_df.columns]\n",
    "                ss_data_upload = safety_stock_df.loc[\n",
    "                    (safety_stock_df[\"order_upto_point\"] > 0)]\n",
    "                ss_data_upload = ss_data_upload[['store_id', 'drug_id',\n",
    "                                                 'safety_stock',\n",
    "                                                 'reorder_point',\n",
    "                                                 'order_upto_point']]\n",
    "                ss_data_upload.columns = ['store_id', 'drug_id', 'corr_min',\n",
    "                                          'corr_ss', 'corr_max']\n",
    "                new_drug_entries_str, missed_entries_str = doid_update(\n",
    "                    ss_data_upload, type_list_drug_lvl_str, rs_db_write,\n",
    "                    write_schema, logger, gaid_omit=False)\n",
    "                new_drug_entries = new_drug_entries.append(new_drug_entries_str)\n",
    "                missed_entries = missed_entries.append(missed_entries_str)\n",
    "\n",
    "        status = 'Success'\n",
    "\n",
    "    except Exception as error:\n",
    "        logger.exception(error)\n",
    "\n",
    "    return status, safety_stock_df, df_one_one, df_one_many, df_one_none, \\\n",
    "           df_none_one, new_drug_entries, missed_entries"
   ]
  },
  {
   "cell_type": "markdown",
   "id": "1e4ed6f6-cb27-490d-a986-fbce53333dd6",
   "metadata": {},
   "source": [
    "# Pass Prams"
   ]
  },
  {
   "cell_type": "code",
   "execution_count": null,
   "id": "ac9c012b-eea3-48f0-ad33-d0477b08a210",
   "metadata": {
    "tags": [
     "parameters"
    ]
   },
   "outputs": [],
   "source": [
    "env = \"dev\"\n",
    "email_to = \"vivek.revi@zeno.health\"\n",
    "debug_mode = \"N\"\n",
    "run_batch = \"run_batch\"\n",
    "tot_batch = \"tot_batch\"\n",
    "batch_stores = \"batch_stores\""
   ]
  },
  {
   "cell_type": "code",
   "execution_count": null,
   "id": "80cd60c6-c13d-49f0-9093-6fbad8828499",
   "metadata": {},
   "outputs": [],
   "source": [
    "os.environ['env'] = env\n",
    "\n",
    "logger = get_logger()\n",
    "s3 = S3()\n",
    "rs_db_read = DB(read_only=True)\n",
    "rs_db_write = DB(read_only=False)\n",
    "read_schema = 'prod2-generico'\n",
    "write_schema = 'prod2-generico'"
   ]
  },
  {
   "cell_type": "code",
   "execution_count": null,
   "id": "4b4aed54-24c4-46d1-bd15-a26a58fdb8a0",
   "metadata": {},
   "outputs": [],
   "source": [
    "# open RS connection\n",
    "rs_db_read.open_connection()\n",
    "rs_db_write.open_connection()"
   ]
  },
  {
   "cell_type": "markdown",
   "id": "b0543dc0-3995-49f3-af4e-53945bcf55f8",
   "metadata": {},
   "source": [
    "# Read Params from RS table"
   ]
  },
  {
   "cell_type": "code",
   "execution_count": null,
   "id": "ecf685e8-84b1-4064-8c72-f23621477b03",
   "metadata": {},
   "outputs": [],
   "source": [
    "from zeno_etl_libs.helper.parameter.job_parameter import parameter\n",
    "\n",
    "args = parameter.get_params(job_id=171)"
   ]
  },
  {
   "cell_type": "code",
   "execution_count": null,
   "id": "e160d9e5-9ccf-4faf-b991-9be092648384",
   "metadata": {},
   "outputs": [],
   "source": [
    "# JOB EXCLUSIVE PARAMS\n",
    "reset_date = args['reset_date']\n",
    "reset_stores = args['reset_stores']\n",
    "v4_active_flag = args['v4_active_flag']\n",
    "drug_type_list_v4 = args['drug_type_list_v4']\n",
    "type_list_comb_lvl = args['type_list_comb_lvl']\n",
    "type_list_drug_lvl = args['type_list_drug_lvl']"
   ]
  },
  {
   "cell_type": "code",
   "execution_count": null,
   "id": "03178b97-e772-46b9-847d-7799be5e3e0c",
   "metadata": {},
   "outputs": [],
   "source": [
    "if reset_date == 'YYYY-MM-DD':  # Take current date\n",
    "    reset_date = dt.date.today().strftime(\"%Y-%m-%d\")\n",
    "    \n",
    "# for batch run\n",
    "reset_stores = list(set(reset_stores).intersection(batch_stores))"
   ]
  },
  {
   "cell_type": "markdown",
   "id": "e37dbeed-9f43-4e58-8c27-9cbfd8b53aaf",
   "metadata": {},
   "source": [
    "# Execute Main Function"
   ]
  },
  {
   "cell_type": "code",
   "execution_count": null,
   "id": "65bc0d9b-c16f-424c-af89-e80caab056eb",
   "metadata": {},
   "outputs": [],
   "source": [
    " \"\"\" calling the main function \"\"\"\n",
    "status, safety_stock_df, df_one_one, df_one_many, df_one_none, \\\n",
    "    df_none_one, new_drug_entries, missed_entries = main(\n",
    "        debug_mode, reset_stores, reset_date, type_list_comb_lvl,\n",
    "        type_list_drug_lvl, v4_active_flag,\n",
    "        drug_type_list_v4, read_schema, rs_db_read, write_schema,\n",
    "        rs_db_write, logger)"
   ]
  },
  {
   "cell_type": "code",
   "execution_count": null,
   "id": "27887bb3-c38e-4f37-af61-4b1ae55230ee",
   "metadata": {},
   "outputs": [],
   "source": [
    "# open RS connection\n",
    "rs_db_read.close_connection()\n",
    "rs_db_write.close_connection()"
   ]
  },
  {
   "cell_type": "markdown",
   "id": "2d9ee1da-5ce3-4e4d-8aa6-5009ebb1cac4",
   "metadata": {},
   "source": [
    "# Send Email Notification"
   ]
  },
  {
   "cell_type": "code",
   "execution_count": null,
   "id": "14ffc0da-2572-4b34-8234-87b360315e12",
   "metadata": {},
   "outputs": [],
   "source": [
    "ss_df_uri = s3.save_df_to_s3(\n",
    "    safety_stock_df, file_name=f\"safety_stock_df_{reset_date}.csv\")\n",
    "new_drug_entries_uri = s3.save_df_to_s3(new_drug_entries,\n",
    "                                        file_name=f\"new_drug_entries_{reset_date}.csv\")\n",
    "missed_entries_uri = s3.save_df_to_s3(missed_entries,\n",
    "                                      file_name=f\"missed_entries_{reset_date}.csv\")\n",
    "all_cases_xl_path = s3.write_df_to_excel(data={\n",
    "    'C1_one_one': df_one_one, 'C2_one_many': df_one_many,\n",
    "    'C3_one_none': df_one_none, 'C4_none_one': df_none_one},\n",
    "    file_name=f\"all_mappings_{reset_date}.xlsx\")"
   ]
  },
  {
   "cell_type": "code",
   "execution_count": null,
   "id": "5504a432-a441-4ed5-936b-06bece7895ea",
   "metadata": {},
   "outputs": [],
   "source": [
    "email = Email()\n",
    "email.send_email_file(\n",
    "    subject=f\"IPC Combination Fcst (SM-{env}) {reset_date}: {status}\",\n",
    "    mail_body=f\"\"\"\n",
    "               Debug Mode: {debug_mode}\n",
    "               Reset Stores: {reset_stores}\n",
    "               Job Params: {args}\n",
    "               \"\"\",\n",
    "    to_emails=email_to, file_uris=[ss_df_uri, new_drug_entries_uri,\n",
    "                                   missed_entries_uri],\n",
    "    file_paths=[all_cases_xl_path])"
   ]
  },
  {
   "cell_type": "code",
   "execution_count": null,
   "id": "a57e9b2f-1680-4896-b6c4-6d91e6c4ed9c",
   "metadata": {},
   "outputs": [],
   "source": []
  }
 ],
 "metadata": {
  "kernelspec": {
   "display_name": "Python 3 (ipykernel)",
   "language": "python",
   "name": "python3"
  },
  "language_info": {
   "codemirror_mode": {
    "name": "ipython",
    "version": 3
   },
   "file_extension": ".py",
   "mimetype": "text/x-python",
   "name": "python",
   "nbconvert_exporter": "python",
   "pygments_lexer": "ipython3",
   "version": "3.8.13"
  }
 },
 "nbformat": 4,
 "nbformat_minor": 5
}
