{
 "cells": [
  {
   "cell_type": "code",
   "execution_count": null,
   "id": "be9eedb4-8785-4a33-abe1-b3c6eb0619b9",
   "metadata": {},
   "outputs": [],
   "source": [
    "!pip install zeno_etl_libs_v3==1.0.4"
   ]
  },
  {
   "cell_type": "code",
   "execution_count": null,
   "id": "7f92a57f-e974-4fc0-8e56-8da00b9592aa",
   "metadata": {},
   "outputs": [],
   "source": [
    "\"\"\"main wrapper for goodaid safety stock reset\"\"\"\n",
    "\n",
    "import os\n",
    "import sys\n",
    "import argparse\n",
    "\n",
    "sys.path.append('../../../..')\n",
    "\n",
    "import pandas as pd\n",
    "import numpy as np\n",
    "import datetime as dt\n",
    "from dateutil.tz import gettz\n",
    "\n",
    "\n",
    "from zeno_etl_libs.utils.goodaid_forecast.engine.config_goodaid import *\n",
    "from zeno_etl_libs.utils.goodaid_forecast.engine.goodaid_ts_forecast import *\n",
    "from zeno_etl_libs.utils.goodaid_forecast.engine.goodaid_safety_stock_calculation\\\n",
    "    import safety_stock_calc\n",
    "from zeno_etl_libs.utils.goodaid_forecast.engine.goodaid_forecast_main import goodaid_ipc_forecast\n",
    "from zeno_etl_libs.utils.goodaid_forecast.engine.goodaid_doid_update_ss import goodaid_doid_update\n",
    "\n",
    "\n",
    "from zeno_etl_libs.helper.aws.s3 import S3\n",
    "from zeno_etl_libs.db.db import DB, PostGre\n",
    "from zeno_etl_libs.django.api import Django\n",
    "from zeno_etl_libs.logger import get_logger\n",
    "from zeno_etl_libs.helper.email.email import Email\n",
    "from zeno_etl_libs.helper import helper\n"
   ]
  },
  {
   "cell_type": "markdown",
   "id": "48ccbeb9-acb9-4687-8ae8-ccf2383f41f9",
   "metadata": {},
   "source": [
    "# Main Function"
   ]
  },
  {
   "cell_type": "code",
   "execution_count": null,
   "id": "c447b979-8995-49ae-8970-7aae328e375c",
   "metadata": {},
   "outputs": [],
   "source": [
    "\n",
    "def main(debug_mode, reset_stores, reset_date, type_list,\n",
    "          rs_db_read, rs_db_write, read_schema, write_schema,\n",
    "         s3, django, logger):\n",
    "\n",
    "    logger.info(f\"Debug Mode: {debug_mode}\")\n",
    "    status = 'Failed'\n",
    "\n",
    "    # Define empty variables if required in case of fail\n",
    "    order_value_all = pd.DataFrame()\n",
    "    new_drug_entries = pd.DataFrame()\n",
    "    missed_entries = pd.DataFrame()\n",
    "    df_outliers_all = pd.DataFrame()\n",
    "    manual_doid_upd_all = pd.DataFrame()\n",
    "\n",
    "    try:\n",
    "        for store_id in reset_stores:\n",
    "            logger.info(f\"Running for store id: {store_id} and reset date: {reset_date}\")\n",
    "\n",
    "            # RUNNING IPC2.0 FORECAST PIPELINE\n",
    "            logger.info(\"Forecast Pipeline starts...\")\n",
    "            agg_fcst, cal_sales, weekly_fcst, seg_df, drug_class = goodaid_ipc_forecast(\n",
    "                store_id, reset_date, type_list, read_schema, rs_db_read,\n",
    "                logger)\n",
    "\n",
    "            # SAFETY STOCK CALCULATIONS\n",
    "            logger.info(\"Safety Stock Calculations starts...\")\n",
    "            agg_fcst_s = agg_fcst[agg_fcst['store_id'] == store_id]\n",
    "            # cal_sales = cal_sales[cal_sales['store_id']==store_id]\n",
    "            safety_stock_df = safety_stock_calc(agg_fcst_s, cal_sales, store_id, reset_date,\n",
    "                                                schema, db, logger)\n",
    "\n",
    "            # Temporary Fix it at safety stock module level\n",
    "            safety_stock_df['safety_stock'].fillna(2, inplace=True)\n",
    "            safety_stock_df['reorder_point'].fillna(2, inplace=True)\n",
    "            safety_stock_df['order_upto_point'] = safety_stock_df['order_upto_point'].replace(0, 3)\n",
    "            safety_stock_df['order_upto_point'].fillna(3, inplace=True)\n",
    "\n",
    "\n",
    "            # WRITING TO RS-DB\n",
    "            if debug_mode == 'N':\n",
    "                logger.info(\"Writing table to RS-DB\")\n",
    "\n",
    "                # writing table ipc2-safety-stock\n",
    "                safety_stock_df['store_id'] = safety_stock_df['store_id'].astype(int)\n",
    "                safety_stock_df['drug_id'] = safety_stock_df['drug_id'].astype(int)\n",
    "                safety_stock_df['reset_date'] = dt.datetime.strptime(reset_date, '%Y-%m-%d').date()\n",
    "                safety_stock_df['created-at'] = dt.datetime.now(\n",
    "                    tz=gettz('Asia/Kolkata')).strftime('%Y-%m-%d %H:%M:%S')\n",
    "                safety_stock_df['created-by'] = 'etl-automation'\n",
    "                safety_stock_df['updated-at'] = dt.datetime.now(\n",
    "                    tz=gettz('Asia/Kolkata')).strftime('%Y-%m-%d %H:%M:%S')\n",
    "                safety_stock_df['updated-by'] = 'etl-automation'\n",
    "                safety_stock_df.columns = [c.replace('_', '-') for c in\n",
    "                                           safety_stock_df.columns]\n",
    "                table_info = helper.get_table_info(db=rs_db_write,\n",
    "                                                   table_name='goodaid-safety-stock',\n",
    "                                                   schema=write_schema)\n",
    "\n",
    "                columns = list(table_info['column_name'])\n",
    "                safety_stock_df = safety_stock_df[columns]  # required column order\n",
    "\n",
    "                logger.info(\"Writing to table: goodaid-safety-stock\")\n",
    "                s3.write_df_to_db(df=safety_stock_df,\n",
    "                                  table_name='goodaid-safety-stock',\n",
    "                                  db=rs_db_write, schema=write_schema)\n",
    "\n",
    "                logger.info(\"All writes to RS-DB completed!\")\n",
    "\n",
    "                # UPLOADING MIN, SS, MAX in DOI-D\n",
    "                logger.info(\"Updating new SS to DrugOrderInfo-Data\")\n",
    "                safety_stock_df.columns = [c.replace('-', '_') for c in safety_stock_df.columns]\n",
    "                ss_data_upload = safety_stock_df.loc[\n",
    "                    (safety_stock_df[\"order_upto_point\"] > 0)]\n",
    "                ss_data_upload = ss_data_upload[['store_id', 'drug_id',\n",
    "                        'safety_stock', 'reorder_point', 'order_upto_point']]\n",
    "                ss_data_upload.columns = ['store_id', 'drug_id', 'corr_min',\n",
    "                                          'corr_ss', 'corr_max']\n",
    "                new_drug_entries_str, missed_entries_str = goodaid_doid_update(\n",
    "                    ss_data_upload, type_list, rs_db_write, write_schema,\n",
    "                    logger)\n",
    "                new_drug_entries = new_drug_entries.append(new_drug_entries_str)\n",
    "                missed_entries = missed_entries.append(missed_entries_str)\n",
    "\n",
    "            else:\n",
    "                logger.info(\"Writing to RS-DB skipped\")\n",
    "\n",
    "        status = 'Success'\n",
    "        logger.info(f\"Goodaid IPC code execution status: {status}\")\n",
    "\n",
    "    except Exception as error:\n",
    "        logger.exception(error)\n",
    "        logger.info(f\"Goodaid IPC code execution status: {status}\")\n",
    "\n",
    "    return status,  new_drug_entries, missed_entries,\\\n",
    "           df_outliers_all, manual_doid_upd_all\n"
   ]
  },
  {
   "cell_type": "markdown",
   "id": "b8146118-9c6c-4553-8361-6be0cb4543c6",
   "metadata": {
    "tags": []
   },
   "source": [
    "# Pass Parameter"
   ]
  },
  {
   "cell_type": "code",
   "execution_count": null,
   "id": "8511c65b-fe6e-496e-880c-d83a5de19bb6",
   "metadata": {
    "tags": [
     "parameters"
    ]
   },
   "outputs": [],
   "source": [
    "env = \"dev\"\n",
    "email_to = \"saurav.maskar@zeno.health\"\n",
    "debug_mode = \"N\""
   ]
  },
  {
   "cell_type": "code",
   "execution_count": null,
   "id": "7bb8e4cc-c6bd-41df-a419-1299b7ce117e",
   "metadata": {},
   "outputs": [],
   "source": [
    "os.environ['env'] = env\n",
    "\n",
    "logger = get_logger()\n",
    "s3 = S3()\n",
    "django = Django()\n",
    "rs_db_read = DB(read_only=True)\n",
    "rs_db_write = DB(read_only=False)\n",
    "read_schema = 'prod2-generico'\n",
    "write_schema = 'prod2-generico'"
   ]
  },
  {
   "cell_type": "code",
   "execution_count": null,
   "id": "eaf18ef2-a2e2-4802-be45-1dc0246df0f0",
   "metadata": {},
   "outputs": [],
   "source": [
    "# open RS connection\n",
    "rs_db_read.open_connection()\n",
    "rs_db_write.open_connection()"
   ]
  },
  {
   "cell_type": "markdown",
   "id": "005b1739-8510-4257-b000-c7e6b4c34d0b",
   "metadata": {},
   "source": [
    "# Read params from RS table"
   ]
  },
  {
   "cell_type": "code",
   "execution_count": null,
   "id": "61b0e58c-6cf4-47bf-ab6e-29e546e68dda",
   "metadata": {},
   "outputs": [],
   "source": [
    "from zeno_etl_libs.helper.parameter.job_parameter import parameter\n",
    "\n",
    "args = parameter.get_params(job_id=184)"
   ]
  },
  {
   "cell_type": "code",
   "execution_count": null,
   "id": "7262a306-5bd9-452f-ba80-f3d3a92ee69e",
   "metadata": {},
   "outputs": [],
   "source": [
    "exclude_stores = args[\"exclude_stores\"]\n",
    "reset_date = args[\"reset_date\"]\n",
    "reset_stores = args[\"reset_stores\"]"
   ]
  },
  {
   "cell_type": "code",
   "execution_count": null,
   "id": "814f777e-bab7-4ffe-8507-2cafe9e0927b",
   "metadata": {},
   "outputs": [],
   "source": [
    "db = rs_db_read\n",
    "\n",
    "if reset_date == 'YYYY-MM-DD':  # Take current date\n",
    "    reset_date = dt.date.today().strftime(\"%Y-%m-%d\")\n",
    "\n",
    "if reset_stores == [0]:  # Fetch stores\n",
    "    store_list_query = \"\"\"\n",
    "            select\n",
    "                s.id as \"store_id\"\n",
    "            from\n",
    "                \"{schema}\".stores s\n",
    "            where\n",
    "                DATEDIFF(day,\n",
    "                \"opened-at\",\n",
    "                current_date)>90\n",
    "                and name <> 'Zippin Central'\n",
    "                and \"is-active\" = 1\n",
    "                and \"opened-at\" != '0101-01-01 00:00:00'\n",
    "                and id not in {exclude_stores}\n",
    "                --  and s.\"franchisee-id\" != 1\n",
    "    \"\"\".format(exclude_stores=str(exclude_stores).replace('[', '(').replace(']', ')'),\n",
    "                           schema=schema)\n",
    "    store_list_df = db.get_df(store_list_query)\n",
    "    store_id_list = tuple(map(int,store_list_df['store_id'].unique()))\n",
    "    reset_stores = store_id_list\n",
    "\n",
    "type_list =('ethical', 'ayurvedic', 'generic', 'general', 'high-value-ethical', 'baby-product',\" \\\n",
    "                    \" 'surgical', 'otc', 'glucose-test-kit', 'category-2', \" \\\n",
    "                    \"'category-1', 'category-4', 'baby-food', '', 'category-3')\n",
    "\n",
    "\n",
    "\"\"\" calling the main function \"\"\"\n",
    "status, new_drug_entries, missed_entries, \\\n",
    "df_outliers_all, manual_doid_upd_all = main(debug_mode, reset_stores, reset_date, type_list,\n",
    "     rs_db_read, rs_db_write, read_schema, write_schema,\n",
    "     s3, django, logger)"
   ]
  },
  {
   "cell_type": "code",
   "execution_count": null,
   "id": "d416f935-15a1-4dd7-abab-917f886f0493",
   "metadata": {},
   "outputs": [],
   "source": [
    "# close RS connection\n",
    "rs_db_read.close_connection()\n",
    "rs_db_write.close_connection()"
   ]
  },
  {
   "cell_type": "code",
   "execution_count": null,
   "id": "f8fbfe0f-fca4-437f-a5d6-974ba98f83c7",
   "metadata": {},
   "outputs": [],
   "source": [
    "# save email attachements to s3\n",
    "new_drug_entries_uri = s3.save_df_to_s3(new_drug_entries,\n",
    "                                        file_name=f\"goodaid_new_drug_entries_{reset_date}.csv\")\n",
    "missed_entries_uri = s3.save_df_to_s3(missed_entries,\n",
    "                                      file_name=f\"goodaid_missed_entries_{reset_date}.csv\")\n",
    "df_outliers_all_uri = s3.save_df_to_s3(df_outliers_all,\n",
    "                                       file_name=f\"goodaid_df_outliers_all_{reset_date}.csv\")\n",
    "manual_doid_upd_all_uri = s3.save_df_to_s3(manual_doid_upd_all,\n",
    "                                           file_name=f\"goodaid_manual_doid_upd_all_{reset_date}.csv\")\n"
   ]
  },
  {
   "cell_type": "code",
   "execution_count": null,
   "id": "848e1b70-35b5-47a3-b98a-6bdc9362ef95",
   "metadata": {},
   "outputs": [],
   "source": [
    "# SEND EMAIL ATTACHMENTS (IPC-RUN STATUS)\n",
    "logger.info(\"Sending email attachments..\")\n",
    "email = Email()\n",
    "email.send_email_file(\n",
    "    subject=f\"GOODAID IPC SS Reset (SM-{env}) {reset_date}: {status}\",\n",
    "    mail_body=f\"\"\"\n",
    "              Debug Mode: {debug_mode}\n",
    "              Reset Stores: {reset_stores}\n",
    "              Job Params: {args}\n",
    "              \"\"\",\n",
    "    to_emails=email_to, file_uris=[\n",
    "                                   new_drug_entries_uri,\n",
    "                                   missed_entries_uri])\n",
    "\n",
    "logger.info(\"Script ended\")"
   ]
  }
 ],
 "metadata": {
  "kernelspec": {
   "display_name": "Python 3 (ipykernel)",
   "language": "python",
   "name": "python3"
  },
  "language_info": {
   "codemirror_mode": {
    "name": "ipython",
    "version": 3
   },
   "file_extension": ".py",
   "mimetype": "text/x-python",
   "name": "python",
   "nbconvert_exporter": "python",
   "pygments_lexer": "ipython3",
   "version": "3.7.5"
  }
 },
 "nbformat": 4,
 "nbformat_minor": 5
}
