{
 "cells": [
  {
   "cell_type": "code",
   "execution_count": 2,
   "id": "ff5bce6e-33da-468a-977e-87a119536449",
   "metadata": {
    "tags": [
     "parameters"
    ]
   },
   "outputs": [],
   "source": [
    "f_name = \"Kuldeep\"\n",
    "l_name = \"Singh\""
   ]
  },
  {
   "cell_type": "code",
   "execution_count": 3,
   "id": "a7aa013d-9de9-43d8-acae-1ae0235ef210",
   "metadata": {},
   "outputs": [
    {
     "name": "stdout",
     "output_type": "stream",
     "text": [
      "Hello Kuldeep Singh, How are you !\n"
     ]
    }
   ],
   "source": [
    "print(f\"Hello {f_name} {l_name}, How are you !\")"
   ]
  },
  {
   "cell_type": "code",
   "execution_count": null,
   "id": "f7c9e56e-40bc-42cb-a2a6-903023da1cc7",
   "metadata": {},
   "outputs": [],
   "source": []
  }
 ],
 "metadata": {
  "kernelspec": {
   "display_name": "Python 3",
   "language": "python",
   "name": "python3"
  },
  "language_info": {
   "codemirror_mode": {
    "name": "ipython",
    "version": 3
   },
   "file_extension": ".py",
   "mimetype": "text/x-python",
   "name": "python",
   "nbconvert_exporter": "python",
   "pygments_lexer": "ipython3",
   "version": "3.6.13"
  }
 },
 "nbformat": 4,
 "nbformat_minor": 5
}
