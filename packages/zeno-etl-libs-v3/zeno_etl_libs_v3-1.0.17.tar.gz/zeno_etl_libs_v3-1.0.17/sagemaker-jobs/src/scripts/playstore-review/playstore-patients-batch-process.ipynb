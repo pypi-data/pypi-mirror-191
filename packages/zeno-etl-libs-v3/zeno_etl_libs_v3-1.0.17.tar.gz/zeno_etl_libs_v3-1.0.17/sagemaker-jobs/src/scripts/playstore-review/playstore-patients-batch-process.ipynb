{
 "cells": [
  {
   "cell_type": "code",
   "execution_count": null,
   "id": "19683e3b-f9d8-462f-b881-2ca3e90b409d",
   "metadata": {},
   "outputs": [],
   "source": [
    "# Only on stage and prod\n",
    "!pip install Levenshtein==0.17.0\n",
    "!pip install zeno_etl_libs_v3==1.0.1\n",
    "!pip install openpyxl==3.0.10"
   ]
  },
  {
   "cell_type": "code",
   "execution_count": 21,
   "id": "d6aa4c66-16c9-4c2a-965f-67bf3705eabf",
   "metadata": {},
   "outputs": [
    {
     "data": {
      "text/plain": [
       "'\\nPurpose: Fuzzy match to get patient names and store these patients in table,\\nand finally email the data on regular basis.\\n\\nauthor : neha.karekar@zeno.health\\n'"
      ]
     },
     "execution_count": 21,
     "metadata": {},
     "output_type": "execute_result"
    }
   ],
   "source": [
    "\"\"\"\n",
    "Purpose: Fuzzy match to get patient names and store these patients in table,\n",
    "and finally email the data on regular basis.\n",
    "\n",
    "author : neha.karekar@zeno.health\n",
    "\"\"\""
   ]
  },
  {
   "cell_type": "code",
   "execution_count": 20,
   "id": "9cf98df5-b7c7-4eef-897d-ef6ba03a0f7a",
   "metadata": {},
   "outputs": [],
   "source": [
    "import sys\n",
    "import os\n",
    "import pandas as pd\n",
    "import datetime\n",
    "from dateutil.tz import gettz\n",
    "import numpy as np\n",
    "import Levenshtein as lev"
   ]
  },
  {
   "cell_type": "code",
   "execution_count": 3,
   "id": "d6fbe3aa-ed6b-499a-9092-f57d2fe64528",
   "metadata": {},
   "outputs": [],
   "source": [
    "sys.path.append('../../../..')"
   ]
  },
  {
   "cell_type": "code",
   "execution_count": null,
   "id": "49b541bc-3511-4f17-bc50-1d93af332f4a",
   "metadata": {},
   "outputs": [],
   "source": [
    "from zeno_etl_libs.logger import get_logger\n",
    "from zeno_etl_libs.db.db import DB\n",
    "from zeno_etl_libs.helper.aws.s3 import S3\n",
    "from zeno_etl_libs.helper import helper\n",
    "from zeno_etl_libs.helper.email.email import Email"
   ]
  },
  {
   "cell_type": "markdown",
   "id": "2e23ce67-10fe-4c6c-905a-c31b90a986d9",
   "metadata": {},
   "source": [
    "## Pass Params\n"
   ]
  },
  {
   "cell_type": "code",
   "execution_count": 1,
   "id": "9634ce4b-146a-46da-9617-ca0ba512651a",
   "metadata": {
    "tags": [
     "parameters"
    ]
   },
   "outputs": [],
   "source": [
    "env = \"dev\"\n",
    "full_run = 0\n",
    "email_to =\"NA\"\n",
    "batch_size = 10"
   ]
  },
  {
   "cell_type": "code",
   "execution_count": 6,
   "id": "08851736-d86a-4a24-995d-49edc2523726",
   "metadata": {},
   "outputs": [],
   "source": [
    "os.environ['env'] = env\n",
    "logger = get_logger()"
   ]
  },
  {
   "cell_type": "code",
   "execution_count": 7,
   "id": "f3f5e6ee-27bf-4d1d-83bb-475d41841da3",
   "metadata": {},
   "outputs": [
    {
     "name": "stdout",
     "output_type": "stream",
     "text": [
      "2022-07-20 17:14:01,857 - root - INFO - env: dev\n",
      "2022-07-20 17:14:01,859 - root - INFO - full_run: 0\n",
      "2022-07-20 17:14:01,861 - root - INFO - batch_size: 10\n",
      "2022-07-20 17:14:01,862 - root - INFO - email_to: NA\n"
     ]
    }
   ],
   "source": [
    "logger.info(f\"env: {env}\")\n",
    "logger.info(f\"full_run: {full_run}\")\n",
    "logger.info(f\"batch_size: {batch_size}\")\n",
    "logger.info(f\"email_to: {email_to}\")"
   ]
  },
  {
   "cell_type": "code",
   "execution_count": 9,
   "id": "c3174702-f55f-4bec-8c59-47c02ab52d7a",
   "metadata": {},
   "outputs": [],
   "source": [
    "# read\n",
    "rs_db = DB()\n",
    "rs_db.open_connection()\n",
    "\n",
    "# write\n",
    "rs_db_write = DB(read_only=False)\n",
    "rs_db_write.open_connection()\n",
    "\n",
    "s3 = S3()"
   ]
  },
  {
   "cell_type": "code",
   "execution_count": 10,
   "id": "bd920692-714f-4450-8290-d337fc03a5e3",
   "metadata": {},
   "outputs": [],
   "source": [
    "schema = 'prod2-generico'\n",
    "patients_table = 'playstore-patients'\n",
    "reviews_table = 'playstore-reviews'\n",
    "patients_table_info = helper.get_table_info(db=rs_db_write, table_name=patients_table, schema=schema)"
   ]
  },
  {
   "cell_type": "code",
   "execution_count": 11,
   "id": "a68e74b6-8295-4607-b2f1-b3550937098a",
   "metadata": {},
   "outputs": [],
   "source": [
    "def get_last_processed_review_date():\n",
    "    # last review date in \"playstore-patients\" table\n",
    "    query = f\"\"\" select max(\"review-created-at\") last_review_at from \"{schema}\".\"{patients_table}\" \"\"\"\n",
    "    df = rs_db_write.get_df(query=query)\n",
    "    df['last_review_at'].fillna(np.nan, inplace=True)\n",
    "    last_review_at = df['last_review_at'].to_string(index=False)\n",
    "    logger.info(f\"last_review_at in play store patients table: {last_review_at}\")\n",
    "    return last_review_at"
   ]
  },
  {
   "cell_type": "code",
   "execution_count": 12,
   "id": "afcf8c32-fc42-400f-b0f2-b556548ef631",
   "metadata": {},
   "outputs": [],
   "source": [
    "def get_orders(start_datetime, end_datetime):\n",
    "    #Fetch zeno orders for a given date range\n",
    "    zeno_q = f\"\"\"\n",
    "        select\n",
    "            zo.id as \"zeno-order-id-before-review\" ,\n",
    "            zo.\"patient-id\" ,\n",
    "            zo.\"created-at\" as \"order-created-at\",\n",
    "            p.phone,\n",
    "            p.\"name\" as \"matched-name\"\n",
    "        from\n",
    "            \"prod2-generico\".\"zeno-order\" zo\n",
    "        left join \"prod2-generico\".patients p on\n",
    "            zo.\"patient-id\" = p.id\n",
    "        where\n",
    "            zo.\"created-at\" > '{start_datetime}'\n",
    "            and zo.\"created-at\" <= '{end_datetime}'\n",
    "            and p.\"name\" is not null\n",
    "        \"\"\"\n",
    "    df = rs_db.get_df(zeno_q)\n",
    "    return df"
   ]
  },
  {
   "cell_type": "code",
   "execution_count": 13,
   "id": "c7ce1e24-17aa-4ec0-8c74-cde94ec09cf3",
   "metadata": {},
   "outputs": [
    {
     "name": "stdout",
     "output_type": "stream",
     "text": [
      "2022-07-20 17:14:09,147 - root - INFO - last_review_at in play store patients table: 2021-02-09 06:45:47\n"
     ]
    }
   ],
   "source": [
    "review_filter = \"\"\n",
    "if full_run:\n",
    "    \"\"\" No filter, take all \"\"\"\n",
    "    \"\"\" and truncate the playstore-patients tables \"\"\"\n",
    "    logger.info(f\"Full run is: {full_run}, so truncating the table.\")\n",
    "    query = f\"\"\" truncate table \"{schema}\".\"{patients_table}\"; \"\"\"\n",
    "    rs_db_write.execute(query=query)\n",
    "else:\n",
    "    last_processed_review_at = get_last_processed_review_date()\n",
    "    if last_processed_review_at == 'NaN':\n",
    "        \"\"\" No filter, take all \"\"\"\n",
    "        pass\n",
    "    else:\n",
    "        review_filter = f\"\"\" and \"review-created-at\" > '{last_processed_review_at}' \"\"\""
   ]
  },
  {
   "cell_type": "code",
   "execution_count": 14,
   "id": "fd0b2f16-af8a-4902-a5ef-868fe6c51bfe",
   "metadata": {},
   "outputs": [
    {
     "data": {
      "text/plain": [
       "' and \"review-created-at\" > \\'2021-02-09 06:45:47\\' '"
      ]
     },
     "execution_count": 14,
     "metadata": {},
     "output_type": "execute_result"
    }
   ],
   "source": [
    "review_filter"
   ]
  },
  {
   "cell_type": "code",
   "execution_count": 15,
   "id": "fcc08da0-dc90-430b-ab25-b266793fdff5",
   "metadata": {},
   "outputs": [],
   "source": [
    "# Fetching required reviews from playstore-review table\n",
    "query = f\"\"\"\n",
    "    select\n",
    "        \"review-id\",\n",
    "        \"review\",\n",
    "        \"author-name\",\n",
    "        \"review-created-at\",\n",
    "        \"star-rating\"\n",
    "    from\n",
    "        \"{schema}\".\"{reviews_table}\"\n",
    "    where\n",
    "        \"review-id\" != ''\n",
    "        {review_filter}\n",
    "    order by \n",
    "        \"review-created-at\" asc\n",
    "\"\"\"\n",
    "reviews_df = rs_db.get_df(query=query)\n",
    "reviews_df['review-created-at'] = pd.to_datetime(reviews_df['review-created-at'])"
   ]
  },
  {
   "cell_type": "code",
   "execution_count": 16,
   "id": "531a3903-9cda-4f90-86ea-00aa473307ce",
   "metadata": {},
   "outputs": [
    {
     "name": "stdout",
     "output_type": "stream",
     "text": [
      "2022-07-20 17:15:44,242 - root - INFO - Total reviews to be processed: 776\n"
     ]
    }
   ],
   "source": [
    "if reviews_df.empty:\n",
    "    logger.info(\"No reviews to process, to stopping here.\")\n",
    "\n",
    "    rs_db.close_connection()\n",
    "    rs_db_write.close_connection()\n",
    "\n",
    "    exit()\n",
    "else:\n",
    "    logger.info(f\"Total reviews to be processed: {len(reviews_df)}\")"
   ]
  },
  {
   "cell_type": "code",
   "execution_count": 2,
   "id": "b6fa2b2b-a5e2-4760-9e67-a034fc006844",
   "metadata": {},
   "outputs": [
    {
     "ename": "NameError",
     "evalue": "name 'helper' is not defined",
     "output_type": "error",
     "traceback": [
      "\u001b[0;31m---------------------------------------------------------------------------\u001b[0m",
      "\u001b[0;31mNameError\u001b[0m                                 Traceback (most recent call last)",
      "\u001b[0;32m<ipython-input-2-6904bd39eb4b>\u001b[0m in \u001b[0;36m<module>\u001b[0;34m\u001b[0m\n\u001b[1;32m      1\u001b[0m \u001b[0;31m# Process review in batches\u001b[0m\u001b[0;34m\u001b[0m\u001b[0;34m\u001b[0m\u001b[0;34m\u001b[0m\u001b[0m\n\u001b[1;32m      2\u001b[0m \u001b[0mcounter\u001b[0m \u001b[0;34m=\u001b[0m \u001b[0;36m1\u001b[0m\u001b[0;34m\u001b[0m\u001b[0;34m\u001b[0m\u001b[0m\n\u001b[0;32m----> 3\u001b[0;31m \u001b[0;32mfor\u001b[0m \u001b[0mb_df\u001b[0m \u001b[0;32min\u001b[0m \u001b[0mhelper\u001b[0m\u001b[0;34m.\u001b[0m\u001b[0mbatch\u001b[0m\u001b[0;34m(\u001b[0m\u001b[0mreviews_df\u001b[0m\u001b[0;34m,\u001b[0m \u001b[0mbatch_size\u001b[0m\u001b[0;34m)\u001b[0m\u001b[0;34m:\u001b[0m\u001b[0;34m\u001b[0m\u001b[0;34m\u001b[0m\u001b[0m\n\u001b[0m\u001b[1;32m      4\u001b[0m     \u001b[0mprint\u001b[0m\u001b[0;34m(\u001b[0m\u001b[0;34mf\"Counter: {counter}, len: {len(b_df)}\\n\"\u001b[0m\u001b[0;34m)\u001b[0m\u001b[0;34m\u001b[0m\u001b[0;34m\u001b[0m\u001b[0m\n\u001b[1;32m      5\u001b[0m \u001b[0;34m\u001b[0m\u001b[0m\n",
      "\u001b[0;31mNameError\u001b[0m: name 'helper' is not defined"
     ]
    }
   ],
   "source": [
    "# Process review in batches\n",
    "counter = 1\n",
    "for b_df in helper.batch(reviews_df, batch_size):\n",
    "    print(f\"Counter: {counter}, len: {len(b_df)}\\n\")\n",
    "\n",
    "    # Do all the processing\n",
    "    logger.info(f\" b_df {counter}: {b_df.head(1).transpose()} \\n\\n\")\n",
    "\n",
    "    start_datetime = b_df['review-created-at'].min() - datetime.timedelta(days=7)\n",
    "    end_datetime = b_df['review-created-at'].max()\n",
    "    orders_df = get_orders(start_datetime=start_datetime, end_datetime=end_datetime)\n",
    "\n",
    "    # Cross join reviews and orders\n",
    "    b_df['i'] = 1\n",
    "    orders_df['i'] = 1\n",
    "    df = pd.merge(b_df, orders_df, how='inner', on='i')\n",
    "    df['author-name'] = df['author-name'].str.lower()\n",
    "    df['matched-name'] = df['matched-name'].str.lower()\n",
    "\n",
    "    # Apply name matching\n",
    "    df['lev-ratio'] = df.apply(lambda row: lev.ratio(str(row['author-name']), str(row['matched-name'])), 1)\n",
    "\n",
    "    df['rank-order'] = df.sort_values(['zeno-order-id-before-review'], ascending=[False]) \\\n",
    "                           .groupby(['review-id', 'matched-name']) \\\n",
    "                           .cumcount() + 1\n",
    "\n",
    "    top_df = df[(df['rank-order'] == 1)]\n",
    "    top_df['top-matches'] = top_df.sort_values(['lev-ratio'], ascending=[False]).groupby(['review-id']).cumcount() + 1\n",
    "\n",
    "    # fetch top 3 name matches\n",
    "    top_df = top_df[(top_df['top-matches'] <= 3)]\n",
    "    top_df = top_df.sort_values(['star-rating', 'review-id', 'top-matches'], ascending=[True, True, True])\n",
    "\n",
    "    # Adding extra ETL columns\n",
    "    top_df['created-at'] = datetime.datetime.now(tz=gettz('Asia/Kolkata')).strftime('%Y-%m-%d %H:%M:%S')\n",
    "    top_df['updated-at'] = datetime.datetime.now(tz=gettz('Asia/Kolkata')).strftime('%Y-%m-%d %H:%M:%S')\n",
    "    top_df['created-by'] = 'etl-automation'\n",
    "    top_df['updated-by'] = 'etl-automation'\n",
    "\n",
    "    s3.write_df_to_db(df=top_df[patients_table_info['column_name']], table_name=patients_table, db=rs_db_write,\n",
    "                      schema=schema)\n",
    "\n",
    "    if \"@\" in email_to:\n",
    "        \"\"\" Which means we want to send an email \"\"\"\n",
    "        file_name = 'Zeno_playstore.xlsx'\n",
    "        columns_in_mail = ['review-id', 'review', 'star-rating', 'review-created-at', 'author-name',\n",
    "                           'matched-name', 'zeno-order-id-before-review', 'patient-id', 'order-created-at']\n",
    "\n",
    "        file_path = s3.write_df_to_excel(data={'Zeno Playstore': top_df[columns_in_mail]}, file_name=file_name)\n",
    "        email = Email()\n",
    "        email.send_email_file(\n",
    "            subject=\"Zeno Playstore\",\n",
    "            mail_body='Zeno Playstore',\n",
    "            to_emails=email_to,\n",
    "            file_uris=[],\n",
    "            file_paths=[file_path]\n",
    "        )\n",
    "        logger.info(f\"Email has been sent successfully to: {email_to}\")\n",
    "\n",
    "    counter += 1\n",
    "\n",
    "    # \"\"\" For testing only \"\"\"\n",
    "    # if counter >= 2:\n",
    "    #     break"
   ]
  },
  {
   "cell_type": "code",
   "execution_count": 18,
   "id": "7101a472-5c00-4f2a-9037-b650aa9aef0c",
   "metadata": {},
   "outputs": [
    {
     "name": "stdout",
     "output_type": "stream",
     "text": [
      "Redshift DB connection closed successfully.\n",
      "Redshift DB connection closed successfully.\n"
     ]
    }
   ],
   "source": [
    "# Closing the DB Connection\n",
    "rs_db.close_connection()\n",
    "rs_db_write.close_connection()"
   ]
  },
  {
   "cell_type": "code",
   "execution_count": null,
   "id": "7a3aae28-dd23-4ae9-92ca-a0090428c72e",
   "metadata": {},
   "outputs": [],
   "source": []
  },
  {
   "cell_type": "code",
   "execution_count": null,
   "id": "031d77ac-888b-4265-8f38-269acc945af8",
   "metadata": {},
   "outputs": [],
   "source": []
  },
  {
   "cell_type": "code",
   "execution_count": null,
   "id": "1bc3c9e1-4e4e-488c-baac-7177384c3a48",
   "metadata": {},
   "outputs": [],
   "source": []
  }
 ],
 "metadata": {
  "kernelspec": {
   "display_name": "Python 3",
   "language": "python",
   "name": "python3"
  },
  "language_info": {
   "codemirror_mode": {
    "name": "ipython",
    "version": 3
   },
   "file_extension": ".py",
   "mimetype": "text/x-python",
   "name": "python",
   "nbconvert_exporter": "python",
   "pygments_lexer": "ipython3",
   "version": "3.6.10"
  }
 },
 "nbformat": 4,
 "nbformat_minor": 5
}
