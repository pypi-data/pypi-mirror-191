{
 "cells": [
  {
   "cell_type": "code",
   "execution_count": 54,
   "id": "aa6920d6-07b3-4854-8276-59e896e40a96",
   "metadata": {},
   "outputs": [
    {
     "name": "stdout",
     "output_type": "stream",
     "text": [
      "Requirement already satisfied: zeno-etl-libs==1.0.40 in c:\\users\\lenovo\\documents\\generico-projects\\etl\\etl_env\\lib\\site-packages (1.0.40)\n"
     ]
    },
    {
     "name": "stderr",
     "output_type": "stream",
     "text": [
      "WARNING: There was an error checking the latest version of pip.\n"
     ]
    },
    {
     "name": "stdout",
     "output_type": "stream",
     "text": [
      "Requirement already satisfied: google-cloud-storage==1.43.0 in c:\\users\\lenovo\\documents\\generico-projects\\etl\\etl_env\\lib\\site-packages (1.43.0)\n",
      "Requirement already satisfied: requests<3.0.0dev,>=2.18.0 in c:\\users\\lenovo\\documents\\generico-projects\\etl\\etl_env\\lib\\site-packages (from google-cloud-storage==1.43.0) (2.27.1)\n",
      "Requirement already satisfied: google-api-core<3.0dev,>=1.29.0 in c:\\users\\lenovo\\documents\\generico-projects\\etl\\etl_env\\lib\\site-packages (from google-cloud-storage==1.43.0) (2.7.1)\n",
      "Requirement already satisfied: google-resumable-media<3.0dev,>=1.3.0 in c:\\users\\lenovo\\documents\\generico-projects\\etl\\etl_env\\lib\\site-packages (from google-cloud-storage==1.43.0) (2.3.3)\n",
      "Requirement already satisfied: google-auth<3.0dev,>=1.25.0 in c:\\users\\lenovo\\documents\\generico-projects\\etl\\etl_env\\lib\\site-packages (from google-cloud-storage==1.43.0) (2.6.6)\n",
      "Requirement already satisfied: google-cloud-core<3.0dev,>=1.6.0 in c:\\users\\lenovo\\documents\\generico-projects\\etl\\etl_env\\lib\\site-packages (from google-cloud-storage==1.43.0) (2.3.0)\n",
      "Requirement already satisfied: six in c:\\users\\lenovo\\documents\\generico-projects\\etl\\etl_env\\lib\\site-packages (from google-cloud-storage==1.43.0) (1.16.0)\n",
      "Requirement already satisfied: protobuf in c:\\users\\lenovo\\documents\\generico-projects\\etl\\etl_env\\lib\\site-packages (from google-cloud-storage==1.43.0) (3.20.1)\n",
      "Requirement already satisfied: googleapis-common-protos<2.0dev,>=1.52.0 in c:\\users\\lenovo\\documents\\generico-projects\\etl\\etl_env\\lib\\site-packages (from google-api-core<3.0dev,>=1.29.0->google-cloud-storage==1.43.0) (1.56.1)\n",
      "Requirement already satisfied: rsa<5,>=3.1.4 in c:\\users\\lenovo\\documents\\generico-projects\\etl\\etl_env\\lib\\site-packages (from google-auth<3.0dev,>=1.25.0->google-cloud-storage==1.43.0) (4.7.2)\n",
      "Requirement already satisfied: pyasn1-modules>=0.2.1 in c:\\users\\lenovo\\documents\\generico-projects\\etl\\etl_env\\lib\\site-packages (from google-auth<3.0dev,>=1.25.0->google-cloud-storage==1.43.0) (0.2.8)\n",
      "Requirement already satisfied: cachetools<6.0,>=2.0.0 in c:\\users\\lenovo\\documents\\generico-projects\\etl\\etl_env\\lib\\site-packages (from google-auth<3.0dev,>=1.25.0->google-cloud-storage==1.43.0) (5.1.0)\n",
      "Requirement already satisfied: google-crc32c<2.0dev,>=1.0 in c:\\users\\lenovo\\documents\\generico-projects\\etl\\etl_env\\lib\\site-packages (from google-resumable-media<3.0dev,>=1.3.0->google-cloud-storage==1.43.0) (1.3.0)\n",
      "Requirement already satisfied: charset-normalizer~=2.0.0 in c:\\users\\lenovo\\documents\\generico-projects\\etl\\etl_env\\lib\\site-packages (from requests<3.0.0dev,>=2.18.0->google-cloud-storage==1.43.0) (2.0.9)\n",
      "Requirement already satisfied: idna<4,>=2.5 in c:\\users\\lenovo\\documents\\generico-projects\\etl\\etl_env\\lib\\site-packages (from requests<3.0.0dev,>=2.18.0->google-cloud-storage==1.43.0) (3.3)\n",
      "Requirement already satisfied: certifi>=2017.4.17 in c:\\users\\lenovo\\documents\\generico-projects\\etl\\etl_env\\lib\\site-packages (from requests<3.0.0dev,>=2.18.0->google-cloud-storage==1.43.0) (2021.10.8)\n",
      "Requirement already satisfied: urllib3<1.27,>=1.21.1 in c:\\users\\lenovo\\documents\\generico-projects\\etl\\etl_env\\lib\\site-packages (from requests<3.0.0dev,>=2.18.0->google-cloud-storage==1.43.0) (1.26.7)\n",
      "Requirement already satisfied: pyasn1<0.5.0,>=0.4.6 in c:\\users\\lenovo\\documents\\generico-projects\\etl\\etl_env\\lib\\site-packages (from pyasn1-modules>=0.2.1->google-auth<3.0dev,>=1.25.0->google-cloud-storage==1.43.0) (0.4.8)\n"
     ]
    },
    {
     "name": "stderr",
     "output_type": "stream",
     "text": [
      "WARNING: There was an error checking the latest version of pip.\n"
     ]
    },
    {
     "name": "stdout",
     "output_type": "stream",
     "text": [
      "Requirement already satisfied: openpyxl==3.0.9 in c:\\users\\lenovo\\documents\\generico-projects\\etl\\etl_env\\lib\\site-packages (3.0.9)\n",
      "Requirement already satisfied: et-xmlfile in c:\\users\\lenovo\\documents\\generico-projects\\etl\\etl_env\\lib\\site-packages (from openpyxl==3.0.9) (1.1.0)\n"
     ]
    },
    {
     "name": "stderr",
     "output_type": "stream",
     "text": [
      "WARNING: There was an error checking the latest version of pip.\n"
     ]
    },
    {
     "name": "stdout",
     "output_type": "stream",
     "text": [
      "Requirement already satisfied: nltk==3.6.7 in c:\\users\\lenovo\\documents\\generico-projects\\etl\\etl_env\\lib\\site-packages (3.6.7)\n",
      "Requirement already satisfied: joblib in c:\\users\\lenovo\\documents\\generico-projects\\etl\\etl_env\\lib\\site-packages (from nltk==3.6.7) (1.1.0)\n",
      "Requirement already satisfied: tqdm in c:\\users\\lenovo\\documents\\generico-projects\\etl\\etl_env\\lib\\site-packages (from nltk==3.6.7) (4.64.0)\n",
      "Requirement already satisfied: regex>=2021.8.3 in c:\\users\\lenovo\\documents\\generico-projects\\etl\\etl_env\\lib\\site-packages (from nltk==3.6.7) (2021.10.23)\n",
      "Requirement already satisfied: click in c:\\users\\lenovo\\documents\\generico-projects\\etl\\etl_env\\lib\\site-packages (from nltk==3.6.7) (8.1.3)\n",
      "Requirement already satisfied: importlib-metadata in c:\\users\\lenovo\\documents\\generico-projects\\etl\\etl_env\\lib\\site-packages (from click->nltk==3.6.7) (4.11.3)\n",
      "Requirement already satisfied: colorama in c:\\users\\lenovo\\documents\\generico-projects\\etl\\etl_env\\lib\\site-packages (from click->nltk==3.6.7) (0.4.3)\n",
      "Requirement already satisfied: typing-extensions>=3.6.4 in c:\\users\\lenovo\\documents\\generico-projects\\etl\\etl_env\\lib\\site-packages (from importlib-metadata->click->nltk==3.6.7) (4.2.0)\n",
      "Requirement already satisfied: zipp>=0.5 in c:\\users\\lenovo\\documents\\generico-projects\\etl\\etl_env\\lib\\site-packages (from importlib-metadata->click->nltk==3.6.7) (3.8.0)\n"
     ]
    },
    {
     "name": "stderr",
     "output_type": "stream",
     "text": [
      "WARNING: There was an error checking the latest version of pip.\n"
     ]
    },
    {
     "name": "stdout",
     "output_type": "stream",
     "text": [
      "Requirement already satisfied: apiclient==1.0.4 in c:\\users\\lenovo\\documents\\generico-projects\\etl\\etl_env\\lib\\site-packages (1.0.4)\n",
      "Requirement already satisfied: urllib3 in c:\\users\\lenovo\\documents\\generico-projects\\etl\\etl_env\\lib\\site-packages (from apiclient==1.0.4) (1.26.7)\n",
      "Requirement already satisfied: certifi in c:\\users\\lenovo\\documents\\generico-projects\\etl\\etl_env\\lib\\site-packages (from apiclient==1.0.4) (2021.10.8)\n"
     ]
    },
    {
     "name": "stderr",
     "output_type": "stream",
     "text": [
      "WARNING: There was an error checking the latest version of pip.\n"
     ]
    }
   ],
   "source": [
    "#installing extra libraries on prod\n",
    "!pip install zeno_etl_libs_v3==1.0.1\n",
    "!pip install google-cloud-storage==1.43.0\n",
    "!pip install openpyxl==3.0.9\n",
    "!pip install nltk==3.6.7\n",
    "!pip install apiclient==1.0.4"
   ]
  },
  {
   "cell_type": "code",
   "execution_count": 55,
   "id": "3b342015-293d-4abc-86da-0b82e2c8a622",
   "metadata": {},
   "outputs": [
    {
     "data": {
      "text/plain": [
       "'\\nAnalysing Playstore reviews on daily basis\\nAuthor : neha.karekar@zeno.health\\n'"
      ]
     },
     "execution_count": 55,
     "metadata": {},
     "output_type": "execute_result"
    }
   ],
   "source": [
    "\"\"\"\n",
    "Analysing Playstore reviews on daily basis\n",
    "Author : neha.karekar@zeno.health\n",
    "\"\"\""
   ]
  },
  {
   "cell_type": "code",
   "execution_count": 56,
   "id": "cacc57ed-1f89-4624-80fe-53e2c592ae94",
   "metadata": {},
   "outputs": [
    {
     "name": "stderr",
     "output_type": "stream",
     "text": [
      "[nltk_data] Downloading package wordnet to\n",
      "[nltk_data]     C:\\Users\\Lenovo\\AppData\\Roaming\\nltk_data...\n",
      "[nltk_data]   Package wordnet is already up-to-date!\n",
      "[nltk_data] Downloading package omw-1.4 to\n",
      "[nltk_data]     C:\\Users\\Lenovo\\AppData\\Roaming\\nltk_data...\n",
      "[nltk_data]   Package omw-1.4 is already up-to-date!\n",
      "[nltk_data] Downloading package stopwords to\n",
      "[nltk_data]     C:\\Users\\Lenovo\\AppData\\Roaming\\nltk_data...\n",
      "[nltk_data]   Package stopwords is already up-to-date!\n",
      "[nltk_data] Downloading package punkt to\n",
      "[nltk_data]     C:\\Users\\Lenovo\\AppData\\Roaming\\nltk_data...\n",
      "[nltk_data]   Package punkt is already up-to-date!\n",
      "[nltk_data] Downloading package vader_lexicon to\n",
      "[nltk_data]     C:\\Users\\Lenovo\\AppData\\Roaming\\nltk_data...\n",
      "[nltk_data]   Package vader_lexicon is already up-to-date!\n"
     ]
    },
    {
     "data": {
      "text/plain": [
       "True"
      ]
     },
     "execution_count": 56,
     "metadata": {},
     "output_type": "execute_result"
    }
   ],
   "source": [
    "import argparse\n",
    "import sys\n",
    "import re\n",
    "import os\n",
    "import pandas as pd\n",
    "import dateutil\n",
    "import datetime\n",
    "from dateutil.tz import gettz\n",
    "import numpy as np\n",
    "import time\n",
    "import datetime\n",
    "import os\n",
    "import nltk\n",
    "from nltk.sentiment.vader import SentimentIntensityAnalyzer\n",
    "from nltk.tokenize import word_tokenize, RegexpTokenizer, sent_tokenize\n",
    "from nltk.corpus import stopwords\n",
    "from collections import defaultdict\n",
    "nltk.download('wordnet')\n",
    "nltk.download('omw-1.4')\n",
    "nltk.download('stopwords')\n",
    "nltk.download('punkt')\n",
    "nltk.download('vader_lexicon')"
   ]
  },
  {
   "cell_type": "code",
   "execution_count": 57,
   "id": "eff2538a-e554-474e-96f9-d5f9d9a4fd56",
   "metadata": {},
   "outputs": [],
   "source": [
    "sys.path.append('../../../..')"
   ]
  },
  {
   "cell_type": "code",
   "execution_count": 58,
   "id": "669e9388-1596-476a-b039-ee31ffca0acf",
   "metadata": {},
   "outputs": [],
   "source": [
    "from zeno_etl_libs.logger import get_logger\n",
    "from zeno_etl_libs.db.db import DB\n",
    "from zeno_etl_libs.helper.aws.s3 import S3\n",
    "from zeno_etl_libs.helper import helper"
   ]
  },
  {
   "cell_type": "markdown",
   "id": "74a43363-fbac-4229-aafc-637542f771d8",
   "metadata": {},
   "source": [
    "## Pass Params"
   ]
  },
  {
   "cell_type": "code",
   "execution_count": 99,
   "id": "1ca4a22b-2fcc-4aee-9ae7-df49d800ccd3",
   "metadata": {
    "tags": [
     "parameters"
    ]
   },
   "outputs": [],
   "source": [
    "env = \"dev\"\n",
    "full_run = 0\n",
    "email_to =\"neha.karekar@zeno.health,kuldeep.singh@zeno.health\""
   ]
  },
  {
   "cell_type": "code",
   "execution_count": 100,
   "id": "72e0dcce-de0a-44c4-bc14-5def6b1e66a5",
   "metadata": {},
   "outputs": [
    {
     "name": "stdout",
     "output_type": "stream",
     "text": [
      "2022-07-21 12:11:12,776 - root - INFO - full_run: 0\n",
      "2022-07-21 12:11:12,776 - root - INFO - full_run: 0\n",
      "2022-07-21 12:11:12,776 - root - INFO - full_run: 0\n"
     ]
    }
   ],
   "source": [
    "os.environ['env'] = env\n",
    "logger = get_logger()\n",
    "logger.info(f\"full_run: {full_run}\")"
   ]
  },
  {
   "cell_type": "code",
   "execution_count": 61,
   "id": "c93ae771-c4a8-42a3-8df0-0defd7f58347",
   "metadata": {},
   "outputs": [],
   "source": [
    "rs_db = DB()\n",
    "rs_db_write = DB(read_only=False)\n",
    "rs_db.open_connection()\n",
    "rs_db_write.open_connection()\n",
    "s3 = S3()"
   ]
  },
  {
   "cell_type": "code",
   "execution_count": 62,
   "id": "17e94811-8f72-4a11-b38c-f96b4e0f1e6f",
   "metadata": {},
   "outputs": [],
   "source": [
    "schema = 'prod2-generico'\n",
    "table_name = 'playstore-reviews-analysis'\n",
    "table_info = helper.get_table_info(db=rs_db_write, table_name=table_name, schema=schema)"
   ]
  },
  {
   "cell_type": "code",
   "execution_count": 63,
   "id": "b9688f6c-ac39-48ef-8b61-6fc1b17f9e80",
   "metadata": {},
   "outputs": [
    {
     "name": "stdout",
     "output_type": "stream",
     "text": [
      "<class 'pandas.core.frame.DataFrame'>\n",
      "RangeIndex: 1 entries, 0 to 0\n",
      "Data columns (total 1 columns):\n",
      " #   Column   Non-Null Count  Dtype         \n",
      "---  ------   --------------  -----         \n",
      " 0   max_exp  1 non-null      datetime64[ns]\n",
      "dtypes: datetime64[ns](1)\n",
      "memory usage: 136.0 bytes\n",
      "None\n",
      "2022-07-20 06:43:28\n"
     ]
    }
   ],
   "source": [
    "# max of data\n",
    "playstore_q = \"\"\"\n",
    "select\n",
    "            max(\"review-created-at\") max_exp\n",
    "        from\n",
    "            \"prod2-generico\".\"playstore-reviews-analysis\" \n",
    "        \"\"\"\n",
    "max_exp_date = rs_db.get_df(playstore_q)\n",
    "max_exp_date['max_exp'].fillna(np.nan, inplace=True)\n",
    "print(max_exp_date.info())\n",
    "max_exp_date = max_exp_date['max_exp'].to_string(index=False)\n",
    "print(max_exp_date)"
   ]
  },
  {
   "cell_type": "code",
   "execution_count": 64,
   "id": "046cf599-3e81-496c-bb93-a71f66080f04",
   "metadata": {},
   "outputs": [
    {
     "name": "stdout",
     "output_type": "stream",
     "text": [
      "2021-01-01 00:00:00\n"
     ]
    }
   ],
   "source": [
    "# params\n",
    "if full_run or max_exp_date == 'NaN':\n",
    "    start = '2021-01-01'\n",
    "else:\n",
    "    start = max_exp_date\n",
    "start = dateutil.parser.parse(start)\n",
    "print(start)"
   ]
  },
  {
   "cell_type": "code",
   "execution_count": 65,
   "id": "37ac83b4-6363-4193-a9bd-d3ae42c97f86",
   "metadata": {},
   "outputs": [],
   "source": [
    "#fetching all reviews from playstore-review table\n",
    "q = f\"\"\"\n",
    "    select\n",
    "        \"review-id\",\n",
    "        \"review\",\n",
    "        \"review-created-at\"\n",
    "    from\n",
    "        \"prod2-generico\".\"playstore-reviews\"\n",
    "    where\n",
    "        date(\"review-created-at\")> '{start}' \n",
    "        and review !='' and review is not null\n",
    "       \"\"\"\n",
    "df = rs_db.get_df(q)\n",
    "df['review-created-at'] = pd.to_datetime(df['review-created-at'])"
   ]
  },
  {
   "cell_type": "code",
   "execution_count": 66,
   "id": "c4f9eac5-44b9-4959-af04-2336e1083ae7",
   "metadata": {},
   "outputs": [
    {
     "data": {
      "text/html": [
       "<div>\n",
       "<style scoped>\n",
       "    .dataframe tbody tr th:only-of-type {\n",
       "        vertical-align: middle;\n",
       "    }\n",
       "\n",
       "    .dataframe tbody tr th {\n",
       "        vertical-align: top;\n",
       "    }\n",
       "\n",
       "    .dataframe thead th {\n",
       "        text-align: right;\n",
       "    }\n",
       "</style>\n",
       "<table border=\"1\" class=\"dataframe\">\n",
       "  <thead>\n",
       "    <tr style=\"text-align: right;\">\n",
       "      <th></th>\n",
       "      <th>review-id</th>\n",
       "      <th>review</th>\n",
       "      <th>review-created-at</th>\n",
       "    </tr>\n",
       "  </thead>\n",
       "  <tbody>\n",
       "    <tr>\n",
       "      <th>0</th>\n",
       "      <td>f02d404f-911a-4787-aa0e-5034ed3782dc</td>\n",
       "      <td>THIRDCLASS SERVICE DON'T ORDER MEDICINE THIS APP</td>\n",
       "      <td>2022-07-18 05:38:55</td>\n",
       "    </tr>\n",
       "    <tr>\n",
       "      <th>1</th>\n",
       "      <td>d932d2c2-7a29-4cfe-be18-377703731a51</td>\n",
       "      <td>Not useful as thought</td>\n",
       "      <td>2022-07-15 17:38:25</td>\n",
       "    </tr>\n",
       "    <tr>\n",
       "      <th>2</th>\n",
       "      <td>0ff81d92-2aae-4415-8ef7-247642144229</td>\n",
       "      <td>फालतू सर्विस, फालतू मे इस पर टाईम वेस्ट मत करो...</td>\n",
       "      <td>2022-07-14 16:00:25</td>\n",
       "    </tr>\n",
       "    <tr>\n",
       "      <th>3</th>\n",
       "      <td>704496c2-86a7-47d0-b058-4e83ac573614</td>\n",
       "      <td>good work</td>\n",
       "      <td>2022-07-09 16:00:14</td>\n",
       "    </tr>\n",
       "    <tr>\n",
       "      <th>4</th>\n",
       "      <td>773545a2-feaa-4f83-894f-ecbcade5869e</td>\n",
       "      <td>best service 👍</td>\n",
       "      <td>2022-07-07 07:36:50</td>\n",
       "    </tr>\n",
       "  </tbody>\n",
       "</table>\n",
       "</div>"
      ],
      "text/plain": [
       "                              review-id  \\\n",
       "0  f02d404f-911a-4787-aa0e-5034ed3782dc   \n",
       "1  d932d2c2-7a29-4cfe-be18-377703731a51   \n",
       "2  0ff81d92-2aae-4415-8ef7-247642144229   \n",
       "3  704496c2-86a7-47d0-b058-4e83ac573614   \n",
       "4  773545a2-feaa-4f83-894f-ecbcade5869e   \n",
       "\n",
       "                                              review   review-created-at  \n",
       "0   THIRDCLASS SERVICE DON'T ORDER MEDICINE THIS APP 2022-07-18 05:38:55  \n",
       "1                              Not useful as thought 2022-07-15 17:38:25  \n",
       "2  फालतू सर्विस, फालतू मे इस पर टाईम वेस्ट मत करो... 2022-07-14 16:00:25  \n",
       "3                                          good work 2022-07-09 16:00:14  \n",
       "4                                     best service 👍 2022-07-07 07:36:50  "
      ]
     },
     "execution_count": 66,
     "metadata": {},
     "output_type": "execute_result"
    }
   ],
   "source": [
    "df.head()"
   ]
  },
  {
   "cell_type": "markdown",
   "id": "957c116a-f7a8-48e9-bf4f-9db270dae15b",
   "metadata": {},
   "source": [
    "## Define all functions"
   ]
  },
  {
   "cell_type": "code",
   "execution_count": 67,
   "id": "0315cfe4-b05d-4e3d-8770-944bcc3fe5aa",
   "metadata": {},
   "outputs": [],
   "source": [
    "# finding sentiment intensity aanalyzer\n",
    "\n",
    "def sentiment_analyser(lst):\n",
    "    \n",
    "    sid = SentimentIntensityAnalyzer()\n",
    "    sentiment = [sid.polarity_scores(x) for x in lst]\n",
    "    neg = [sid.polarity_scores(x)['neg'] for x in lst]\n",
    "    neu = [sid.polarity_scores(x)['neu'] for x in lst]\n",
    "    pos = [sid.polarity_scores(x)['pos'] for x in lst]\n",
    "    comp = [sid.polarity_scores(x)['compound'] for x in lst]\n",
    "    \n",
    "    return neg[0], neu[0], pos[0], comp[0]"
   ]
  },
  {
   "cell_type": "code",
   "execution_count": 68,
   "id": "03fc1227-3a8c-4348-a7cf-7331004f0c65",
   "metadata": {},
   "outputs": [],
   "source": [
    "# removing stopwords\n",
    "def remove_sw(sent,corpus):\n",
    "\n",
    "    stop_words = set(stopwords.words(corpus))\n",
    "\n",
    "    word_tokens = word_tokenize(sent)\n",
    "\n",
    "    filtered_sentence = [w for w in word_tokens if not w.lower() in stop_words]\n",
    "\n",
    "    filtered_sentence = []\n",
    "\n",
    "    for w in word_tokens:\n",
    "        if w not in stop_words:\n",
    "            filtered_sentence.append(w)\n",
    "    filtered_sentence=' '.join(filtered_sentence)\n",
    "    return [filtered_sentence]"
   ]
  },
  {
   "cell_type": "code",
   "execution_count": 69,
   "id": "860f3f2d-a124-4c76-8c1e-57f4b5350f19",
   "metadata": {},
   "outputs": [],
   "source": [
    "#Remove URL\n",
    "def remove_url(txt):\n",
    "    \"\"\"Replace URLs found in a text string with nothing \n",
    "    (i.e. it will remove the URL from the string).\n",
    "\n",
    "    Parameters\n",
    "    ----------\n",
    "    txt : string\n",
    "        A text string that you want to parse and remove urls.\n",
    "\n",
    "    Returns\n",
    "    -------\n",
    "    The same txt string with url's removed.\n",
    "    \"\"\"\n",
    "\n",
    "    return \" \".join(re.sub(\"([^0-9A-Za-z \\t])|(\\w+:\\/\\/\\S+)\", \"\", txt).split())"
   ]
  },
  {
   "cell_type": "code",
   "execution_count": 70,
   "id": "b45db77b-03e4-40d4-8fa4-e2167acca4ac",
   "metadata": {},
   "outputs": [],
   "source": [
    "def generate_N_grams(text,ngram):\n",
    "    words=[word for word in text if word not in set(stopwords.words('english'))]  \n",
    "    #print(\"Sentence after removing stopwords:\",words)\n",
    "    temp=zip(*[words[i:] for i in range(0,ngram)])\n",
    "    ans=[' '.join(ngram) for ngram in temp]\n",
    "    return ans"
   ]
  },
  {
   "cell_type": "code",
   "execution_count": 71,
   "id": "962cd0c7-7f60-439a-b6e8-9981743be6d0",
   "metadata": {},
   "outputs": [],
   "source": [
    "# match two list and find intersection\n",
    "def matchlist(a,b):\n",
    "    matches=[]\n",
    "    for item_a in a:\n",
    "        for item_b in b:\n",
    "            if item_a == item_b:\n",
    "                matches.append(item_a)\n",
    "    return list(set(matches))"
   ]
  },
  {
   "cell_type": "code",
   "execution_count": 72,
   "id": "570408fa-a71a-4032-a405-34634534c9cd",
   "metadata": {},
   "outputs": [],
   "source": [
    "# to convert list to string\n",
    "def listToString(s):\n",
    "   \n",
    "    # initialize an empty string\n",
    "    str1 = \",\"\n",
    "   \n",
    "    # return string\n",
    "    s = [str(x) for x in s] \n",
    "    return (str1.join(s))"
   ]
  },
  {
   "cell_type": "code",
   "execution_count": 73,
   "id": "45a009f9-b47b-4ae9-b542-6c8c85fd3eb4",
   "metadata": {},
   "outputs": [],
   "source": [
    "#sort string\n",
    "def sortstring(my_str):\n",
    "        words = my_str.split(\" \")  \n",
    "        # sort the list  \n",
    "        words.sort()  \n",
    "        # display the sorted words\n",
    "        newSentence = \" \".join(words)\n",
    "        return newSentence"
   ]
  },
  {
   "cell_type": "code",
   "execution_count": 74,
   "id": "4694740a-acb0-4397-86df-9606be063fe2",
   "metadata": {},
   "outputs": [
    {
     "name": "stdout",
     "output_type": "stream",
     "text": [
      "Removing url\n"
     ]
    }
   ],
   "source": [
    "print(\"Removing url\")\n",
    "df['content_url'] =df['review'].apply(lambda x :remove_url(x.lower()),1) "
   ]
  },
  {
   "cell_type": "code",
   "execution_count": 75,
   "id": "60b89da3-be6f-4d95-949d-89d4fc760ec7",
   "metadata": {},
   "outputs": [
    {
     "name": "stdout",
     "output_type": "stream",
     "text": [
      "Removing stopwords\n"
     ]
    }
   ],
   "source": [
    "print(\"Removing stopwords\")\n",
    "sw = 'english'\n",
    "df['content_sw'] =df['content_url'].apply(lambda x :remove_sw(x,sw),1) "
   ]
  },
  {
   "cell_type": "code",
   "execution_count": 76,
   "id": "586a7e0d-c666-4469-ab3a-a9592ab2b5ae",
   "metadata": {},
   "outputs": [
    {
     "name": "stdout",
     "output_type": "stream",
     "text": [
      "sentiment_analyser\n"
     ]
    }
   ],
   "source": [
    "print(\"sentiment_analyser\")\n",
    "df['neg','neu','pos','comp'] =df['content_sw'].apply(lambda x :sentiment_analyser(x),1) "
   ]
  },
  {
   "cell_type": "code",
   "execution_count": 77,
   "id": "98408290-7eaf-428d-b98f-058e6df93142",
   "metadata": {},
   "outputs": [],
   "source": [
    "df[['neg','neu','pos','comp']]=   df['neg','neu','pos','comp'].apply(pd.Series)\n",
    "df.drop(columns=('neg', 'neu', 'pos', 'comp'),inplace=True)"
   ]
  },
  {
   "cell_type": "code",
   "execution_count": 78,
   "id": "6b9d24b6-46cb-470b-8a3f-06f651174b54",
   "metadata": {},
   "outputs": [],
   "source": [
    "df['positive-ratio'] = round((df['pos']/ (df['pos']+ df ['neg'])) , 2)\n",
    "df['negative-ratio'] =  round((df['neg']/ (df['pos']+ df ['neg'])) , 2)"
   ]
  },
  {
   "cell_type": "code",
   "execution_count": 79,
   "id": "cd2a7b69-2912-4851-adf3-ebb2f5e29322",
   "metadata": {},
   "outputs": [],
   "source": [
    "w_tokenizer = nltk.tokenize.WhitespaceTokenizer()\n",
    "lemmatizer = nltk.stem.WordNetLemmatizer()\n",
    "def lemmatize_text(text):\n",
    "    return [lemmatizer.lemmatize(w) for w in w_tokenizer.tokenize(text)]"
   ]
  },
  {
   "cell_type": "code",
   "execution_count": 80,
   "id": "5b08ac74-82d9-4614-b675-ea7acf812dbf",
   "metadata": {},
   "outputs": [],
   "source": [
    "df['content_lem'] = df['content_url'].apply(lambda x :lemmatize_text(x.lower()),1) "
   ]
  },
  {
   "cell_type": "code",
   "execution_count": 81,
   "id": "40a8e1bd-2ccb-4826-8fc2-7f7f4d888329",
   "metadata": {},
   "outputs": [],
   "source": [
    "df['content_2gram'] = df['content_lem'].apply(lambda x :generate_N_grams(x,2),1) "
   ]
  },
  {
   "cell_type": "code",
   "execution_count": 82,
   "id": "91869f67-0b95-4b7e-8c64-d2bda1846c2e",
   "metadata": {},
   "outputs": [],
   "source": [
    "df['content_1gram'] = df['content_lem'].apply(lambda x :generate_N_grams(x,1),1) "
   ]
  },
  {
   "cell_type": "code",
   "execution_count": 83,
   "id": "f3d7f401-0134-4953-8815-96f0ac4d0834",
   "metadata": {},
   "outputs": [],
   "source": [
    "#place holder\n",
    "positiveValues2=defaultdict(int)\n",
    "negativeValues2=defaultdict(int)\n",
    "positiveValues1=defaultdict(int)\n",
    "negativeValues1=defaultdict(int)"
   ]
  },
  {
   "cell_type": "code",
   "execution_count": 84,
   "id": "a0245ad0-b35c-4eba-ad51-1d0fc74da936",
   "metadata": {},
   "outputs": [],
   "source": [
    "#get the count of every word in both the columns dataframes where sentiment=\"positive\"\n",
    "for text in df[df['positive-ratio']>df['negative-ratio']].content_lem:\n",
    "    for word in generate_N_grams(text,2):\n",
    "        positiveValues2[word.lower()]+=1\n",
    "\n",
    "for text in df[df['positive-ratio']>df['negative-ratio']].content_lem:\n",
    "    for word in generate_N_grams(text,1):\n",
    "        positiveValues1[word.lower()]+=1"
   ]
  },
  {
   "cell_type": "code",
   "execution_count": 85,
   "id": "0081934e-2803-4641-b82b-1c2109aad206",
   "metadata": {},
   "outputs": [],
   "source": [
    "#get the count of every word in both the columns dataframes where sentiment=\"negative\"\n",
    "for text in df[df['positive-ratio']<=df['negative-ratio']].content_lem:\n",
    "    for word in generate_N_grams(text,2):\n",
    "        negativeValues2[word]+=1\n",
    "\n",
    "#get the count of every word in both the columns of df_train and df_test dataframes where sentiment=\"negative\"\n",
    "for text in df[df['positive-ratio']<=df['negative-ratio']].content_lem:\n",
    "    for word in generate_N_grams(text,1):\n",
    "        negativeValues1[word]+=1"
   ]
  },
  {
   "cell_type": "code",
   "execution_count": 86,
   "id": "98fd9f47-04c1-4013-8ee0-d8af640646b5",
   "metadata": {},
   "outputs": [],
   "source": [
    "#focus on more frequently occuring words for every sentiment=>\n",
    "#sort in DO wrt 2nd column in each of positiveValues,negativeValues\n",
    "df_positive2=pd.DataFrame(sorted(positiveValues2.items(),key=lambda x:x[1],reverse=True))\n",
    "df_negative2=pd.DataFrame(sorted(negativeValues2.items(),key=lambda x:x[1],reverse=True))\n",
    "df_positive1=pd.DataFrame(sorted(positiveValues1.items(),key=lambda x:x[1],reverse=True))\n",
    "df_negative1=pd.DataFrame(sorted(negativeValues1.items(),key=lambda x:x[1],reverse=True))"
   ]
  },
  {
   "cell_type": "code",
   "execution_count": 87,
   "id": "5222bdc3-8b4b-442e-bc06-2044cbd232b8",
   "metadata": {},
   "outputs": [],
   "source": [
    "#convert grams to list\n",
    "positive_grams2=df_positive2[0][:20].tolist()\n",
    "positive_grams1=df_positive1[0][:20].tolist()\n",
    "negative_grams2=df_negative2[0][:20].tolist()\n",
    "negative_grams1=df_negative1[0][:20].tolist()"
   ]
  },
  {
   "cell_type": "code",
   "execution_count": 88,
   "id": "dd62ab11-6322-48b2-a20b-b0fbbd964467",
   "metadata": {},
   "outputs": [],
   "source": [
    "df['top_grams2']= np.where(df['positive-ratio']>df['negative-ratio'],df['content_2gram'].apply(lambda x :matchlist(x,positive_grams2),1) ,df['content_2gram'].apply(lambda x :matchlist(x,negative_grams2),1) )"
   ]
  },
  {
   "cell_type": "code",
   "execution_count": 89,
   "id": "c3fabdd1-78d5-4945-9c27-18a0a6153afd",
   "metadata": {},
   "outputs": [],
   "source": [
    "df['top_grams1']= np.where(df['positive-ratio']>df['negative-ratio'],df['content_1gram'].apply(lambda x :matchlist(x,positive_grams1),1) ,df['content_1gram'].apply(lambda x :matchlist(x,negative_grams1),1) )"
   ]
  },
  {
   "cell_type": "code",
   "execution_count": 90,
   "id": "374f782e-2095-4f47-9900-dc74b390cf1e",
   "metadata": {},
   "outputs": [],
   "source": [
    "df['top-grams-one']= df['top_grams1'].apply(lambda x :listToString(x))"
   ]
  },
  {
   "cell_type": "code",
   "execution_count": 91,
   "id": "eb6cfd61-377c-4c5d-8082-97eb3a96e980",
   "metadata": {},
   "outputs": [],
   "source": [
    "df['top-grams-two']= df['top_grams2'].apply(lambda x :listToString(x))\n",
    "df['top-grams-two']= df['top-grams-two'].apply(lambda x :sortstring(x),1)"
   ]
  },
  {
   "cell_type": "code",
   "execution_count": 92,
   "id": "3cb496b9-04c2-4018-9ef8-33f4927585c5",
   "metadata": {},
   "outputs": [
    {
     "data": {
      "text/html": [
       "<div>\n",
       "<style scoped>\n",
       "    .dataframe tbody tr th:only-of-type {\n",
       "        vertical-align: middle;\n",
       "    }\n",
       "\n",
       "    .dataframe tbody tr th {\n",
       "        vertical-align: top;\n",
       "    }\n",
       "\n",
       "    .dataframe thead th {\n",
       "        text-align: right;\n",
       "    }\n",
       "</style>\n",
       "<table border=\"1\" class=\"dataframe\">\n",
       "  <thead>\n",
       "    <tr style=\"text-align: right;\">\n",
       "      <th></th>\n",
       "      <th>review-id</th>\n",
       "      <th>review</th>\n",
       "      <th>review-created-at</th>\n",
       "      <th>content_url</th>\n",
       "      <th>content_sw</th>\n",
       "      <th>neg</th>\n",
       "      <th>neu</th>\n",
       "      <th>pos</th>\n",
       "      <th>comp</th>\n",
       "      <th>positive-ratio</th>\n",
       "      <th>negative-ratio</th>\n",
       "      <th>content_lem</th>\n",
       "      <th>content_2gram</th>\n",
       "      <th>content_1gram</th>\n",
       "      <th>top_grams2</th>\n",
       "      <th>top_grams1</th>\n",
       "      <th>top-grams-one</th>\n",
       "      <th>top-grams-two</th>\n",
       "    </tr>\n",
       "  </thead>\n",
       "  <tbody>\n",
       "    <tr>\n",
       "      <th>0</th>\n",
       "      <td>f02d404f-911a-4787-aa0e-5034ed3782dc</td>\n",
       "      <td>THIRDCLASS SERVICE DON'T ORDER MEDICINE THIS APP</td>\n",
       "      <td>2022-07-18 05:38:55</td>\n",
       "      <td>thirdclass service dont order medicine this app</td>\n",
       "      <td>[thirdclass service dont order medicine app]</td>\n",
       "      <td>0.0</td>\n",
       "      <td>1.000</td>\n",
       "      <td>0.000</td>\n",
       "      <td>0.0000</td>\n",
       "      <td>NaN</td>\n",
       "      <td>NaN</td>\n",
       "      <td>[thirdclass, service, dont, order, medicine, t...</td>\n",
       "      <td>[thirdclass service, service dont, dont order,...</td>\n",
       "      <td>[thirdclass, service, dont, order, medicine, app]</td>\n",
       "      <td>[order medicine]</td>\n",
       "      <td>[app, service, order, medicine, dont]</td>\n",
       "      <td>app,service,order,medicine,dont</td>\n",
       "      <td>medicine order</td>\n",
       "    </tr>\n",
       "    <tr>\n",
       "      <th>1</th>\n",
       "      <td>d932d2c2-7a29-4cfe-be18-377703731a51</td>\n",
       "      <td>Not useful as thought</td>\n",
       "      <td>2022-07-15 17:38:25</td>\n",
       "      <td>not useful as thought</td>\n",
       "      <td>[useful thought]</td>\n",
       "      <td>0.0</td>\n",
       "      <td>0.256</td>\n",
       "      <td>0.744</td>\n",
       "      <td>0.4404</td>\n",
       "      <td>1.0</td>\n",
       "      <td>0.0</td>\n",
       "      <td>[not, useful, a, thought]</td>\n",
       "      <td>[useful thought]</td>\n",
       "      <td>[useful, thought]</td>\n",
       "      <td>[]</td>\n",
       "      <td>[]</td>\n",
       "      <td></td>\n",
       "      <td></td>\n",
       "    </tr>\n",
       "    <tr>\n",
       "      <th>2</th>\n",
       "      <td>0ff81d92-2aae-4415-8ef7-247642144229</td>\n",
       "      <td>फालतू सर्विस, फालतू मे इस पर टाईम वेस्ट मत करो...</td>\n",
       "      <td>2022-07-14 16:00:25</td>\n",
       "      <td>medicine</td>\n",
       "      <td>[medicine]</td>\n",
       "      <td>0.0</td>\n",
       "      <td>1.000</td>\n",
       "      <td>0.000</td>\n",
       "      <td>0.0000</td>\n",
       "      <td>NaN</td>\n",
       "      <td>NaN</td>\n",
       "      <td>[medicine]</td>\n",
       "      <td>[]</td>\n",
       "      <td>[medicine]</td>\n",
       "      <td>[]</td>\n",
       "      <td>[medicine]</td>\n",
       "      <td>medicine</td>\n",
       "      <td></td>\n",
       "    </tr>\n",
       "    <tr>\n",
       "      <th>3</th>\n",
       "      <td>704496c2-86a7-47d0-b058-4e83ac573614</td>\n",
       "      <td>good work</td>\n",
       "      <td>2022-07-09 16:00:14</td>\n",
       "      <td>good work</td>\n",
       "      <td>[good work]</td>\n",
       "      <td>0.0</td>\n",
       "      <td>0.256</td>\n",
       "      <td>0.744</td>\n",
       "      <td>0.4404</td>\n",
       "      <td>1.0</td>\n",
       "      <td>0.0</td>\n",
       "      <td>[good, work]</td>\n",
       "      <td>[good work]</td>\n",
       "      <td>[good, work]</td>\n",
       "      <td>[]</td>\n",
       "      <td>[good]</td>\n",
       "      <td>good</td>\n",
       "      <td></td>\n",
       "    </tr>\n",
       "    <tr>\n",
       "      <th>4</th>\n",
       "      <td>773545a2-feaa-4f83-894f-ecbcade5869e</td>\n",
       "      <td>best service 👍</td>\n",
       "      <td>2022-07-07 07:36:50</td>\n",
       "      <td>best service</td>\n",
       "      <td>[best service]</td>\n",
       "      <td>0.0</td>\n",
       "      <td>0.192</td>\n",
       "      <td>0.808</td>\n",
       "      <td>0.6369</td>\n",
       "      <td>1.0</td>\n",
       "      <td>0.0</td>\n",
       "      <td>[best, service]</td>\n",
       "      <td>[best service]</td>\n",
       "      <td>[best, service]</td>\n",
       "      <td>[best service]</td>\n",
       "      <td>[service, best]</td>\n",
       "      <td>service,best</td>\n",
       "      <td>best service</td>\n",
       "    </tr>\n",
       "  </tbody>\n",
       "</table>\n",
       "</div>"
      ],
      "text/plain": [
       "                              review-id  \\\n",
       "0  f02d404f-911a-4787-aa0e-5034ed3782dc   \n",
       "1  d932d2c2-7a29-4cfe-be18-377703731a51   \n",
       "2  0ff81d92-2aae-4415-8ef7-247642144229   \n",
       "3  704496c2-86a7-47d0-b058-4e83ac573614   \n",
       "4  773545a2-feaa-4f83-894f-ecbcade5869e   \n",
       "\n",
       "                                              review   review-created-at  \\\n",
       "0   THIRDCLASS SERVICE DON'T ORDER MEDICINE THIS APP 2022-07-18 05:38:55   \n",
       "1                              Not useful as thought 2022-07-15 17:38:25   \n",
       "2  फालतू सर्विस, फालतू मे इस पर टाईम वेस्ट मत करो... 2022-07-14 16:00:25   \n",
       "3                                          good work 2022-07-09 16:00:14   \n",
       "4                                     best service 👍 2022-07-07 07:36:50   \n",
       "\n",
       "                                       content_url  \\\n",
       "0  thirdclass service dont order medicine this app   \n",
       "1                            not useful as thought   \n",
       "2                                         medicine   \n",
       "3                                        good work   \n",
       "4                                     best service   \n",
       "\n",
       "                                     content_sw  neg    neu    pos    comp  \\\n",
       "0  [thirdclass service dont order medicine app]  0.0  1.000  0.000  0.0000   \n",
       "1                              [useful thought]  0.0  0.256  0.744  0.4404   \n",
       "2                                    [medicine]  0.0  1.000  0.000  0.0000   \n",
       "3                                   [good work]  0.0  0.256  0.744  0.4404   \n",
       "4                                [best service]  0.0  0.192  0.808  0.6369   \n",
       "\n",
       "   positive-ratio  negative-ratio  \\\n",
       "0             NaN             NaN   \n",
       "1             1.0             0.0   \n",
       "2             NaN             NaN   \n",
       "3             1.0             0.0   \n",
       "4             1.0             0.0   \n",
       "\n",
       "                                         content_lem  \\\n",
       "0  [thirdclass, service, dont, order, medicine, t...   \n",
       "1                          [not, useful, a, thought]   \n",
       "2                                         [medicine]   \n",
       "3                                       [good, work]   \n",
       "4                                    [best, service]   \n",
       "\n",
       "                                       content_2gram  \\\n",
       "0  [thirdclass service, service dont, dont order,...   \n",
       "1                                   [useful thought]   \n",
       "2                                                 []   \n",
       "3                                        [good work]   \n",
       "4                                     [best service]   \n",
       "\n",
       "                                       content_1gram        top_grams2  \\\n",
       "0  [thirdclass, service, dont, order, medicine, app]  [order medicine]   \n",
       "1                                  [useful, thought]                []   \n",
       "2                                         [medicine]                []   \n",
       "3                                       [good, work]                []   \n",
       "4                                    [best, service]    [best service]   \n",
       "\n",
       "                              top_grams1                    top-grams-one  \\\n",
       "0  [app, service, order, medicine, dont]  app,service,order,medicine,dont   \n",
       "1                                     []                                    \n",
       "2                             [medicine]                         medicine   \n",
       "3                                 [good]                             good   \n",
       "4                        [service, best]                     service,best   \n",
       "\n",
       "    top-grams-two  \n",
       "0  medicine order  \n",
       "1                  \n",
       "2                  \n",
       "3                  \n",
       "4    best service  "
      ]
     },
     "execution_count": 92,
     "metadata": {},
     "output_type": "execute_result"
    }
   ],
   "source": [
    "df.head()"
   ]
  },
  {
   "cell_type": "code",
   "execution_count": 93,
   "id": "9d5f9e57-f9b0-4712-b07b-134db55e9014",
   "metadata": {},
   "outputs": [],
   "source": [
    "final_ana = df[['review-id','review-created-at','positive-ratio','negative-ratio','top-grams-one','top-grams-two']]"
   ]
  },
  {
   "cell_type": "code",
   "execution_count": 94,
   "id": "e9e16a73-04d9-4f29-8144-969873ef499e",
   "metadata": {},
   "outputs": [
    {
     "name": "stderr",
     "output_type": "stream",
     "text": [
      "c:\\users\\lenovo\\documents\\generico-projects\\etl\\etl_env\\lib\\site-packages\\ipykernel_launcher.py:2: SettingWithCopyWarning: \n",
      "A value is trying to be set on a copy of a slice from a DataFrame.\n",
      "Try using .loc[row_indexer,col_indexer] = value instead\n",
      "\n",
      "See the caveats in the documentation: https://pandas.pydata.org/pandas-docs/stable/user_guide/indexing.html#returning-a-view-versus-a-copy\n",
      "  \n",
      "c:\\users\\lenovo\\documents\\generico-projects\\etl\\etl_env\\lib\\site-packages\\ipykernel_launcher.py:3: SettingWithCopyWarning: \n",
      "A value is trying to be set on a copy of a slice from a DataFrame.\n",
      "Try using .loc[row_indexer,col_indexer] = value instead\n",
      "\n",
      "See the caveats in the documentation: https://pandas.pydata.org/pandas-docs/stable/user_guide/indexing.html#returning-a-view-versus-a-copy\n",
      "  This is separate from the ipykernel package so we can avoid doing imports until\n",
      "c:\\users\\lenovo\\documents\\generico-projects\\etl\\etl_env\\lib\\site-packages\\ipykernel_launcher.py:4: SettingWithCopyWarning: \n",
      "A value is trying to be set on a copy of a slice from a DataFrame.\n",
      "Try using .loc[row_indexer,col_indexer] = value instead\n",
      "\n",
      "See the caveats in the documentation: https://pandas.pydata.org/pandas-docs/stable/user_guide/indexing.html#returning-a-view-versus-a-copy\n",
      "  after removing the cwd from sys.path.\n",
      "c:\\users\\lenovo\\documents\\generico-projects\\etl\\etl_env\\lib\\site-packages\\ipykernel_launcher.py:5: SettingWithCopyWarning: \n",
      "A value is trying to be set on a copy of a slice from a DataFrame.\n",
      "Try using .loc[row_indexer,col_indexer] = value instead\n",
      "\n",
      "See the caveats in the documentation: https://pandas.pydata.org/pandas-docs/stable/user_guide/indexing.html#returning-a-view-versus-a-copy\n",
      "  \"\"\"\n"
     ]
    }
   ],
   "source": [
    "#etl columns\n",
    "final_ana['created-at'] = datetime.datetime.now(tz=gettz('Asia/Kolkata')).strftime('%Y-%m-%d %H:%M:%S')\n",
    "final_ana['updated-at'] = datetime.datetime.now(tz=gettz('Asia/Kolkata')).strftime('%Y-%m-%d %H:%M:%S')\n",
    "final_ana['created-by'] = 'etl-automation'\n",
    "final_ana['updated-by'] = 'etl-automation'"
   ]
  },
  {
   "cell_type": "code",
   "execution_count": 95,
   "id": "5e96b2ee-e42b-442d-a04a-4961c67d75a6",
   "metadata": {},
   "outputs": [
    {
     "name": "stdout",
     "output_type": "stream",
     "text": [
      "2022-07-21 11:54:44,994 - root - INFO - Table:playstore-reviews-analysis exists\n",
      "2022-07-21 11:54:44,994 - root - INFO - Table:playstore-reviews-analysis exists\n"
     ]
    }
   ],
   "source": [
    "if isinstance(table_info, type(None)):\n",
    "    raise Exception(f\"table: {table_name} do not exist, create the table first\")\n",
    "else:\n",
    "    logger.info(f\"Table:{table_name} exists\")"
   ]
  },
  {
   "cell_type": "code",
   "execution_count": 96,
   "id": "84cfd7f2-8b68-4485-b3a8-9499aafabda2",
   "metadata": {},
   "outputs": [
    {
     "name": "stdout",
     "output_type": "stream",
     "text": [
      " DELETE FROM \"prod2-generico\".\"playstore-reviews-analysis\" where \"review-created-at\" >'2021-01-01 00:00:00' \n"
     ]
    }
   ],
   "source": [
    "truncate_query = f''' DELETE FROM \"{schema}\".\"{table_name}\" where \"review-created-at\" >'{start}' '''\n",
    "print(truncate_query)\n",
    "rs_db_write.execute(truncate_query)"
   ]
  },
  {
   "cell_type": "code",
   "execution_count": 97,
   "id": "39f3d3b6-3c52-4a65-9429-935dbe367468",
   "metadata": {},
   "outputs": [
    {
     "name": "stdout",
     "output_type": "stream",
     "text": [
      "S3 object(uri: s3://aws-glue-temporary-921939243643-ap-south-1/temp_1658384686210.csv) delete response: {'ResponseMetadata': {'RequestId': 'F1DXWCFQCDEA5T9G', 'HostId': 'aJWnhbsTHn84/63Qnnj31AKmwfshcZIryC1fmLYKH3k4VGpA6zW19KQZulYO3LsmYcVS1ayoLU0=', 'HTTPStatusCode': 204, 'HTTPHeaders': {'x-amz-id-2': 'aJWnhbsTHn84/63Qnnj31AKmwfshcZIryC1fmLYKH3k4VGpA6zW19KQZulYO3LsmYcVS1ayoLU0=', 'x-amz-request-id': 'F1DXWCFQCDEA5T9G', 'date': 'Thu, 21 Jul 2022 06:24:48 GMT', 'server': 'AmazonS3'}, 'RetryAttempts': 0}}\n",
      "S3 object(uri: s3://aws-glue-temporary-921939243643-ap-south-1/temp_1658384686210.csv) delete response: {'ResponseMetadata': {'RequestId': 'YAZAD7XD4HRHKH3H', 'HostId': '/CbgzbIeZliqs0fidBWxokTYQZlOJ5OPtqQ3Gd7FgjY8rpuq5h9aXr6zoTHw+P4ORVL7lHpe+bU=', 'HTTPStatusCode': 204, 'HTTPHeaders': {'x-amz-id-2': '/CbgzbIeZliqs0fidBWxokTYQZlOJ5OPtqQ3Gd7FgjY8rpuq5h9aXr6zoTHw+P4ORVL7lHpe+bU=', 'x-amz-request-id': 'YAZAD7XD4HRHKH3H', 'date': 'Thu, 21 Jul 2022 06:24:49 GMT', 'server': 'AmazonS3'}, 'RetryAttempts': 0}}\n"
     ]
    }
   ],
   "source": [
    "s3.write_df_to_db(df=final_ana[table_info['column_name']], table_name=table_name, db=rs_db_write,\n",
    "                      schema=schema)"
   ]
  },
  {
   "cell_type": "code",
   "execution_count": 98,
   "id": "079444e1-70ea-4f87-9c02-abe3682fb29c",
   "metadata": {},
   "outputs": [
    {
     "name": "stdout",
     "output_type": "stream",
     "text": [
      "Redshift DB connection closed successfully.\n",
      "Redshift DB connection closed successfully.\n"
     ]
    }
   ],
   "source": [
    "# Closing the DB Connection\n",
    "rs_db.close_connection()\n",
    "rs_db_write.close_connection()\n"
   ]
  },
  {
   "cell_type": "code",
   "execution_count": null,
   "id": "04a4c257-e2c7-4c24-8069-f3c14b9fc076",
   "metadata": {},
   "outputs": [],
   "source": []
  }
 ],
 "metadata": {
  "kernelspec": {
   "display_name": "Python 3",
   "language": "python",
   "name": "python3"
  },
  "language_info": {
   "codemirror_mode": {
    "name": "ipython",
    "version": 3
   },
   "file_extension": ".py",
   "mimetype": "text/x-python",
   "name": "python",
   "nbconvert_exporter": "python",
   "pygments_lexer": "ipython3",
   "version": "3.6.10"
  }
 },
 "nbformat": 4,
 "nbformat_minor": 5
}
