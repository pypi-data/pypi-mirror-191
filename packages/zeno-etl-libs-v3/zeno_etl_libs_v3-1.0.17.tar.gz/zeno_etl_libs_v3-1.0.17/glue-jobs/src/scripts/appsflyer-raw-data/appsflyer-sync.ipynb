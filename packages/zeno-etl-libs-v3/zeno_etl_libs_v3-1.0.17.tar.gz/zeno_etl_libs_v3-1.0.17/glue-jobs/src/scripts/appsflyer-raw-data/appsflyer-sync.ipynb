{
 "cells": [
  {
   "cell_type": "code",
   "execution_count": 23,
   "id": "bcd81563",
   "metadata": {},
   "outputs": [],
   "source": [
    "# this is include zeno_etl_libs in the python search path on the run time\n",
    "import sys\n",
    "sys.path.append('./../..')"
   ]
  },
  {
   "cell_type": "code",
   "execution_count": 24,
   "id": "10dc2ef6",
   "metadata": {},
   "outputs": [],
   "source": [
    "from zeno_etl_libs.helper import helper\n",
    "from zeno_etl_libs.helper.aws.s3 import S3"
   ]
  },
  {
   "cell_type": "code",
   "execution_count": 25,
   "id": "827bbb2d",
   "metadata": {},
   "outputs": [],
   "source": [
    "import argparse\n",
    "import io\n",
    "\n",
    "import pandas as pd\n",
    "import requests\n",
    "\n",
    "from zeno_etl_libs.config import set_env_config, EnvNames\n",
    "from zeno_etl_libs.db.db import DB, RedshiftSQLAlchemy"
   ]
  },
  {
   "cell_type": "code",
   "execution_count": 26,
   "id": "5d317526",
   "metadata": {},
   "outputs": [],
   "source": [
    "\"\"\"\n",
    "Environment: Activate the env as per the requirement\n",
    "\"\"\"\n",
    "# env = EnvNames.production\n",
    "# env = EnvNames.staging\n",
    "env = EnvNames.development"
   ]
  },
  {
   "cell_type": "code",
   "execution_count": 27,
   "id": "792cf1da",
   "metadata": {},
   "outputs": [],
   "source": [
    "config = set_env_config(env=env)"
   ]
  },
  {
   "cell_type": "code",
   "execution_count": 28,
   "id": "aaffda61",
   "metadata": {},
   "outputs": [
    {
     "data": {
      "text/plain": [
       "<redshift_connector.cursor.Cursor at 0x7f93eb380bb0>"
      ]
     },
     "execution_count": 28,
     "metadata": {},
     "output_type": "execute_result"
    }
   ],
   "source": [
    "rs_db = DB(secrets=config.secrets)\n",
    "rs_db.open_connection()"
   ]
  },
  {
   "cell_type": "code",
   "execution_count": 29,
   "id": "dc24cfb6",
   "metadata": {},
   "outputs": [],
   "source": [
    "rs_db_sa = RedshiftSQLAlchemy(secrets=config.secrets)\n",
    "rs_db_sa.open_connection()"
   ]
  },
  {
   "cell_type": "code",
   "execution_count": 30,
   "id": "26611c7c",
   "metadata": {},
   "outputs": [],
   "source": [
    "s3 = S3(aws_access_key_id=config.secrets['AWS_ACCESS_KEY_ID'],\n",
    "            aws_secret_access_key=config.secrets['AWS_SECRET_ACCESS_KEY_ID'])"
   ]
  },
  {
   "cell_type": "code",
   "execution_count": 9,
   "id": "c599a0c6",
   "metadata": {},
   "outputs": [],
   "source": [
    "report_type = 'installs_report'\n",
    "ingore_columns = [\"google-play-referrer\"]"
   ]
  },
  {
   "cell_type": "code",
   "execution_count": 10,
   "id": "d8a6664e",
   "metadata": {},
   "outputs": [],
   "source": [
    "def get_data():\n",
    "    appsflyer_uri = \"https://hq.appsflyer.com/export\"\n",
    "    app_id = 'com.zenohealth.android'\n",
    "    params = {\n",
    "        'api_token': '70b710e8-59d1-4121-9aae-f520e4d0cebf',\n",
    "        'from': '2022-02-01',\n",
    "        'to': '2022-02-01',\n",
    "        'timezone': 'Asia/Kolkata',\n",
    "        'maximum_rows': 10000,\n",
    "        'additional_fields': 'device_model,keyword_id,store_reinstall,deeplink_url,oaid,install_app_store,'\n",
    "                             'contributor1_match_type,contributor2_match_type,contributor3_match_type,match_type,'\n",
    "                             'device_category,gp_referrer,gp_click_time,gp_install_begin,amazon_aid,keyword_match_type,'\n",
    "                             'att,conversion_type,campaign_type,is_lat'\n",
    "    }\n",
    "\n",
    "    url = '{}/{}/{}/v5'.format(appsflyer_uri, app_id, report_type)\n",
    "\n",
    "    payload = {}\n",
    "\n",
    "    res = requests.request(\"GET\", url, data=payload, params=params)\n",
    "    if res.status_code == 200:\n",
    "        df = pd.read_csv(io.StringIO(res.text))\n",
    "        # print(df)\n",
    "        return df\n",
    "    else:\n",
    "        if res.status_code == 404:\n",
    "            print('There is a problem with the request URL. Make sure that it is correct')\n",
    "        else:\n",
    "            print('There was a problem retrieving data: ', res.text)\n",
    "    "
   ]
  },
  {
   "cell_type": "code",
   "execution_count": 11,
   "id": "3f554205",
   "metadata": {},
   "outputs": [],
   "source": [
    "def check_table_exists(dbcon, tablename):\n",
    "    dbcur = dbcon.cursor()\n",
    "    dbcur.execute(\"\"\"\n",
    "        SELECT COUNT(*)\n",
    "        FROM information_schema.tables\n",
    "        WHERE table_name = '{0}'\n",
    "        \"\"\".format(tablename.replace('\\'', '\\'\\'')))\n",
    "    if dbcur.fetchone()[0] == 1:\n",
    "        dbcur.close()\n",
    "        return True\n",
    "\n",
    "    dbcur.close()\n",
    "    return False"
   ]
  },
  {
   "cell_type": "code",
   "execution_count": 12,
   "id": "00281d20",
   "metadata": {},
   "outputs": [],
   "source": [
    "def create_table_from_df(df, table_name, connection, schema=\"prod2-generico\"):\n",
    "    try:\n",
    "        df.head(5).to_sql(\n",
    "            name=table_name, \n",
    "            con=connection, \n",
    "            index=False, \n",
    "            if_exists='fail', \n",
    "            schema=schema)\n",
    "        query = f\"\"\"truncate table \"{schema}\".\"{table_name}\"; \"\"\"\n",
    "        connection.execute(query)\n",
    "        print(f\"Created table: {table_name}, successfully.\")\n",
    "    except Exception as e:\n",
    "        print(f\"Error creating table: {e}\")"
   ]
  },
  {
   "cell_type": "code",
   "execution_count": 13,
   "id": "0f7a532c",
   "metadata": {},
   "outputs": [],
   "source": [
    "df = get_data()\n",
    "df.columns = [i.lower().replace(\" \", \"-\") for i in df.columns]"
   ]
  },
  {
   "cell_type": "code",
   "execution_count": 14,
   "id": "36a29ac9",
   "metadata": {},
   "outputs": [],
   "source": [
    "table_name = \"appsflyer-\" + report_type.replace(\"_\",\"-\")"
   ]
  },
  {
   "cell_type": "code",
   "execution_count": 15,
   "id": "a506c5d8",
   "metadata": {},
   "outputs": [
    {
     "data": {
      "text/plain": [
       "True"
      ]
     },
     "execution_count": 15,
     "metadata": {},
     "output_type": "execute_result"
    }
   ],
   "source": [
    "check_table_exists(dbcon=rs_db.connection, tablename=table_name)"
   ]
  },
  {
   "cell_type": "code",
   "execution_count": 33,
   "id": "0ab69e2a",
   "metadata": {},
   "outputs": [],
   "source": [
    "table_info = helper.get_table_info(db=rs_db, table_name=table_name, schema='prod2-generico')"
   ]
  },
  {
   "cell_type": "code",
   "execution_count": 34,
   "id": "522b43ac",
   "metadata": {},
   "outputs": [],
   "source": [
    "\"\"\"correcting the column order\"\"\"\n",
    "df = df[table_info['column_name']]"
   ]
  },
  {
   "cell_type": "code",
   "execution_count": 16,
   "id": "5001d902",
   "metadata": {},
   "outputs": [
    {
     "name": "stdout",
     "output_type": "stream",
     "text": [
      "Error creating table: Table 'appsflyer-installs-report' already exists.\n"
     ]
    }
   ],
   "source": [
    "create_table_from_df(df=df, table_name=table_name, connection=rs_db_sa.connection)"
   ]
  },
  {
   "cell_type": "code",
   "execution_count": 35,
   "id": "fecfdafc",
   "metadata": {},
   "outputs": [],
   "source": [
    "s3.write_df_to_db(df=df, table_name=table_name, db=rs_db, schema=\"prod2-generico\")"
   ]
  },
  {
   "cell_type": "code",
   "execution_count": null,
   "id": "a97cd5b9",
   "metadata": {},
   "outputs": [],
   "source": []
  },
  {
   "cell_type": "code",
   "execution_count": null,
   "id": "4ff11425",
   "metadata": {},
   "outputs": [],
   "source": []
  }
 ],
 "metadata": {
  "kernelspec": {
   "display_name": "Python 3 (ipykernel)",
   "language": "python",
   "name": "python3"
  },
  "language_info": {
   "codemirror_mode": {
    "name": "ipython",
    "version": 3
   },
   "file_extension": ".py",
   "mimetype": "text/x-python",
   "name": "python",
   "nbconvert_exporter": "python",
   "pygments_lexer": "ipython3",
   "version": "3.9.7"
  }
 },
 "nbformat": 4,
 "nbformat_minor": 5
}
