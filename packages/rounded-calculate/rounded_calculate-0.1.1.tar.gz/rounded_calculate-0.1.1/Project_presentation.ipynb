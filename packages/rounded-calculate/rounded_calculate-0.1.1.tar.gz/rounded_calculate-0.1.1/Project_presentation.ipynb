{
 "cells": [
  {
   "attachments": {},
   "cell_type": "markdown",
   "metadata": {},
   "source": [
    "# Module 1: Data Wrangling with Python"
   ]
  },
  {
   "attachments": {},
   "cell_type": "markdown",
   "metadata": {},
   "source": [
    "## Sprint 1: Python Mastery"
   ]
  },
  {
   "attachments": {},
   "cell_type": "markdown",
   "metadata": {},
   "source": [
    "## Calculator project solution\n",
    "\n",
    "Project files stored at [GitHub repository](https://github.com/TuringCollegeSubmissions/vruzga-DWWP.1)\n",
    "\n",
    "Package files stored at [PyPi.org](https://pypi.org/project/rounded-calculate/)"
   ]
  },
  {
   "attachments": {},
   "cell_type": "markdown",
   "metadata": {},
   "source": [
    "### Using the package\n",
    "\n",
    "First we are installing package:"
   ]
  },
  {
   "cell_type": "code",
   "execution_count": 17,
   "metadata": {},
   "outputs": [
    {
     "name": "stdout",
     "output_type": "stream",
     "text": [
      "Requirement already satisfied: rounded-calculate==0.1.0 in c:\\users\\vruzg\\appdata\\local\\programs\\python\\python310\\lib\\site-packages (0.1.0)\n",
      "Note: you may need to restart the kernel to use updated packages.\n"
     ]
    }
   ],
   "source": [
    "pip install rounded-calculate==\"0.1.1\""
   ]
  },
  {
   "attachments": {},
   "cell_type": "markdown",
   "metadata": {},
   "source": [
    "Calculator demonstration:"
   ]
  },
  {
   "cell_type": "code",
   "execution_count": 18,
   "metadata": {},
   "outputs": [
    {
     "name": "stdout",
     "output_type": "stream",
     "text": [
      "0 Initial value 0 = 0\n"
     ]
    }
   ],
   "source": [
    "from rounded_calculate import Calculator\n",
    "calc = Calculator()\n",
    "calc.print_history()"
   ]
  },
  {
   "attachments": {},
   "cell_type": "markdown",
   "metadata": {},
   "source": [
    "After runing print_history before first calculation it is seen that calculator history has only initial value of 0.\n",
    "\n",
    "Next all unique calculator actions are called. Calculator returns last operation value:"
   ]
  },
  {
   "cell_type": "code",
   "execution_count": 19,
   "metadata": {},
   "outputs": [
    {
     "data": {
      "text/plain": [
       "2.88135883"
      ]
     },
     "execution_count": 19,
     "metadata": {},
     "output_type": "execute_result"
    }
   ],
   "source": [
    "calc.add(12.53)\n",
    "calc.substract(3.157)\n",
    "calc.multiply(6.577)\n",
    "calc.divide(2.577)\n",
    "calc.root(3)\n"
   ]
  },
  {
   "attachments": {},
   "cell_type": "markdown",
   "metadata": {},
   "source": [
    "In order to see history of past calculations user can print memory history:"
   ]
  },
  {
   "cell_type": "code",
   "execution_count": 20,
   "metadata": {},
   "outputs": [
    {
     "name": "stdout",
     "output_type": "stream",
     "text": [
      "0 Initial value 0 = 0\n",
      "0 + 12.53 = 12.53\n",
      "12.53 - 3.157 = 9.373\n",
      "9.373 * 6.577 = 61.646221\n",
      "61.646221 / 2.577 = 23.92170004\n",
      "23.92170004 ** 1 / 3 = 2.88135883\n"
     ]
    }
   ],
   "source": [
    "calc.print_history()"
   ]
  },
  {
   "attachments": {},
   "cell_type": "markdown",
   "metadata": {},
   "source": [
    "To reset calculator memory we can run reset_memory method:"
   ]
  },
  {
   "cell_type": "code",
   "execution_count": 21,
   "metadata": {},
   "outputs": [],
   "source": [
    "calc.reset_memory()"
   ]
  },
  {
   "attachments": {},
   "cell_type": "markdown",
   "metadata": {},
   "source": [
    "Calling print_history to make sure that calculator history was cleared:"
   ]
  },
  {
   "cell_type": "code",
   "execution_count": 22,
   "metadata": {},
   "outputs": [
    {
     "name": "stdout",
     "output_type": "stream",
     "text": [
      "0 Initial value 0 = 0\n"
     ]
    }
   ],
   "source": [
    "calc.print_history()"
   ]
  },
  {
   "attachments": {},
   "cell_type": "markdown",
   "metadata": {},
   "source": [
    "Next 4 calculations are made and history is printed:"
   ]
  },
  {
   "cell_type": "code",
   "execution_count": 23,
   "metadata": {},
   "outputs": [
    {
     "name": "stdout",
     "output_type": "stream",
     "text": [
      "0 Initial value 0 = 0\n",
      "0 + 1 = 1\n",
      "1 + 2 = 3\n",
      "3 + 3 = 6\n",
      "6 + 4 = 10\n"
     ]
    }
   ],
   "source": [
    "calc.add(1)\n",
    "calc.add(2)\n",
    "calc.add(3)\n",
    "calc.add(4)\n",
    "calc.print_history()"
   ]
  },
  {
   "attachments": {},
   "cell_type": "markdown",
   "metadata": {},
   "source": [
    "To show undo method in action we will be removing 2 last history entries."
   ]
  },
  {
   "cell_type": "code",
   "execution_count": 24,
   "metadata": {},
   "outputs": [
    {
     "ename": "IndexError",
     "evalue": "pop from empty list",
     "output_type": "error",
     "traceback": [
      "\u001b[1;31m---------------------------------------------------------------------------\u001b[0m",
      "\u001b[1;31mIndexError\u001b[0m                                Traceback (most recent call last)",
      "Cell \u001b[1;32mIn[24], line 6\u001b[0m\n\u001b[0;32m      4\u001b[0m calc\u001b[39m.\u001b[39mundo()\n\u001b[0;32m      5\u001b[0m calc\u001b[39m.\u001b[39mundo()\n\u001b[1;32m----> 6\u001b[0m calc\u001b[39m.\u001b[39;49mundo()\n\u001b[0;32m      7\u001b[0m calc\u001b[39m.\u001b[39mprint_history()\n",
      "File \u001b[1;32mc:\\Users\\vruzg\\AppData\\Local\\Programs\\Python\\Python310\\lib\\site-packages\\rounded_calculate\\calculator.py:87\u001b[0m, in \u001b[0;36mCalculator.undo\u001b[1;34m(self)\u001b[0m\n\u001b[0;32m     83\u001b[0m \u001b[39mdef\u001b[39;00m \u001b[39mundo\u001b[39m(\u001b[39mself\u001b[39m):\n\u001b[0;32m     84\u001b[0m     \u001b[39m# Remove last item in Memory.history list.\u001b[39;00m\n\u001b[0;32m     85\u001b[0m     \u001b[39m# \u001b[39;00m\n\u001b[0;32m     86\u001b[0m     \u001b[39m# Calls Memory class method.\u001b[39;00m\n\u001b[1;32m---> 87\u001b[0m     \u001b[39mself\u001b[39;49m\u001b[39m.\u001b[39;49mmemory\u001b[39m.\u001b[39;49mmemory_remove_last()\n",
      "File \u001b[1;32mc:\\Users\\vruzg\\AppData\\Local\\Programs\\Python\\Python310\\lib\\site-packages\\rounded_calculate\\calculator.py:117\u001b[0m, in \u001b[0;36mMemory.memory_remove_last\u001b[1;34m(self)\u001b[0m\n\u001b[0;32m    115\u001b[0m \u001b[39mdef\u001b[39;00m \u001b[39mmemory_remove_last\u001b[39m(\u001b[39mself\u001b[39m):\n\u001b[0;32m    116\u001b[0m     \u001b[39m# Remove last item of Memory.history.\u001b[39;00m\n\u001b[1;32m--> 117\u001b[0m     \u001b[39mself\u001b[39;49m\u001b[39m.\u001b[39;49mhistory\u001b[39m.\u001b[39;49mpop()\n",
      "\u001b[1;31mIndexError\u001b[0m: pop from empty list"
     ]
    }
   ],
   "source": [
    "calc.undo()\n",
    "calc.undo()\n",
    "calc.undo()\n",
    "calc.undo()\n",
    "calc.undo()\n",
    "calc.undo()\n",
    "calc.print_history()\n"
   ]
  }
 ],
 "metadata": {
  "kernelspec": {
   "display_name": "Python 3",
   "language": "python",
   "name": "python3"
  },
  "language_info": {
   "codemirror_mode": {
    "name": "ipython",
    "version": 3
   },
   "file_extension": ".py",
   "mimetype": "text/x-python",
   "name": "python",
   "nbconvert_exporter": "python",
   "pygments_lexer": "ipython3",
   "version": "3.10.8"
  },
  "orig_nbformat": 4,
  "vscode": {
   "interpreter": {
    "hash": "039bd306a85f6e5582518341d57c8d7a2916616efddad0f92c0a8a242fa803fa"
   }
  }
 },
 "nbformat": 4,
 "nbformat_minor": 2
}
